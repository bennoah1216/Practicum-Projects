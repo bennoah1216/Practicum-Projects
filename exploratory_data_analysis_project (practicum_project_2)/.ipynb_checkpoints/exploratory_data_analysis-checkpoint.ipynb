{
 "cells": [
  {
   "cell_type": "markdown",
   "metadata": {},
   "source": [
    "# Research on car sales ads\n",
    "\n",
    "You're an analyst at Crankshaft List. Hundreds of free advertisements for vehicles are published on your site every day.\n",
    "\n",
    "You need to study data collected over the last few years and determine which factors influence the price of a vehicle. "
   ]
  },
  {
   "cell_type": "markdown",
   "metadata": {},
   "source": [
    "## Importing Packages"
   ]
  },
  {
   "cell_type": "code",
   "execution_count": 50,
   "metadata": {},
   "outputs": [
    {
     "name": "stdout",
     "output_type": "stream",
     "text": [
      "Requirement already satisfied: researchpy in c:\\users\\bnoah\\anaconda3\\lib\\site-packages (0.3.2)\n",
      "Requirement already satisfied: pandas in c:\\users\\bnoah\\anaconda3\\lib\\site-packages (from researchpy) (1.3.4)\n",
      "Requirement already satisfied: statsmodels in c:\\users\\bnoah\\anaconda3\\lib\\site-packages (from researchpy) (0.13.0)\n",
      "Requirement already satisfied: numpy in c:\\users\\bnoah\\anaconda3\\lib\\site-packages (from researchpy) (1.21.4)\n",
      "Requirement already satisfied: scipy in c:\\users\\bnoah\\anaconda3\\lib\\site-packages (from researchpy) (1.7.1)\n",
      "Requirement already satisfied: patsy in c:\\users\\bnoah\\anaconda3\\lib\\site-packages (from researchpy) (0.5.2)\n",
      "Requirement already satisfied: python-dateutil>=2.7.3 in c:\\users\\bnoah\\anaconda3\\lib\\site-packages (from pandas->researchpy) (2.8.2)\n",
      "Requirement already satisfied: pytz>=2017.3 in c:\\users\\bnoah\\anaconda3\\lib\\site-packages (from pandas->researchpy) (2021.3)\n",
      "Requirement already satisfied: six>=1.5 in c:\\users\\bnoah\\anaconda3\\lib\\site-packages (from python-dateutil>=2.7.3->pandas->researchpy) (1.16.0)\n",
      "Requirement already satisfied: pandas-profiling[notebook] in c:\\users\\bnoah\\anaconda3\\lib\\site-packages (3.1.1)\n",
      "Requirement already satisfied: pandas!=1.0.0,!=1.0.1,!=1.0.2,!=1.1.0,>=0.25.3 in c:\\users\\bnoah\\anaconda3\\lib\\site-packages (from pandas-profiling[notebook]) (1.3.4)\n",
      "Requirement already satisfied: htmlmin>=0.1.12 in c:\\users\\bnoah\\appdata\\roaming\\python\\python38\\site-packages (from pandas-profiling[notebook]) (0.1.12)\n",
      "Requirement already satisfied: seaborn>=0.10.1 in c:\\users\\bnoah\\anaconda3\\lib\\site-packages (from pandas-profiling[notebook]) (0.11.2)\n",
      "Requirement already satisfied: matplotlib>=3.2.0 in c:\\users\\bnoah\\anaconda3\\lib\\site-packages (from pandas-profiling[notebook]) (3.4.3)\n",
      "Requirement already satisfied: visions[type_image_path]==0.7.4 in c:\\users\\bnoah\\appdata\\roaming\\python\\python38\\site-packages (from pandas-profiling[notebook]) (0.7.4)\n",
      "Requirement already satisfied: markupsafe~=2.0.1 in c:\\users\\bnoah\\anaconda3\\lib\\site-packages (from pandas-profiling[notebook]) (2.0.1)\n",
      "Requirement already satisfied: jinja2>=2.11.1 in c:\\users\\bnoah\\anaconda3\\lib\\site-packages (from pandas-profiling[notebook]) (3.0.2)\n",
      "Requirement already satisfied: numpy>=1.16.0 in c:\\users\\bnoah\\anaconda3\\lib\\site-packages (from pandas-profiling[notebook]) (1.21.4)\n",
      "Requirement already satisfied: pydantic>=1.8.1 in c:\\users\\bnoah\\appdata\\roaming\\python\\python38\\site-packages (from pandas-profiling[notebook]) (1.8.2)\n",
      "Requirement already satisfied: phik>=0.11.1 in c:\\users\\bnoah\\appdata\\roaming\\python\\python38\\site-packages (from pandas-profiling[notebook]) (0.12.0)\n",
      "Requirement already satisfied: multimethod>=1.4 in c:\\users\\bnoah\\appdata\\roaming\\python\\python38\\site-packages (from pandas-profiling[notebook]) (1.6)\n",
      "Requirement already satisfied: PyYAML>=5.0.0 in c:\\users\\bnoah\\anaconda3\\lib\\site-packages (from pandas-profiling[notebook]) (6.0)\n",
      "Requirement already satisfied: requests>=2.24.0 in c:\\users\\bnoah\\anaconda3\\lib\\site-packages (from pandas-profiling[notebook]) (2.26.0)\n",
      "Requirement already satisfied: tangled-up-in-unicode==0.2.0 in c:\\users\\bnoah\\anaconda3\\lib\\site-packages (from pandas-profiling[notebook]) (0.2.0)\n",
      "Requirement already satisfied: joblib~=1.1.0 in c:\\users\\bnoah\\anaconda3\\lib\\site-packages (from pandas-profiling[notebook]) (1.1.0)\n",
      "Requirement already satisfied: missingno>=0.4.2 in c:\\users\\bnoah\\anaconda3\\lib\\site-packages (from pandas-profiling[notebook]) (0.5.0)\n",
      "Requirement already satisfied: scipy>=1.4.1 in c:\\users\\bnoah\\anaconda3\\lib\\site-packages (from pandas-profiling[notebook]) (1.7.1)\n",
      "Requirement already satisfied: tqdm>=4.48.2 in c:\\users\\bnoah\\anaconda3\\lib\\site-packages (from pandas-profiling[notebook]) (4.62.3)\n",
      "Requirement already satisfied: ipywidgets>=7.5.1 in c:\\users\\bnoah\\anaconda3\\lib\\site-packages (from pandas-profiling[notebook]) (7.6.5)\n",
      "Requirement already satisfied: jupyter-client>=6.0.0 in c:\\users\\bnoah\\anaconda3\\lib\\site-packages (from pandas-profiling[notebook]) (7.0.1)\n",
      "Requirement already satisfied: jupyter-core>=4.6.3 in c:\\users\\bnoah\\anaconda3\\lib\\site-packages (from pandas-profiling[notebook]) (4.9.1)\n",
      "Requirement already satisfied: attrs>=19.3.0 in c:\\users\\bnoah\\anaconda3\\lib\\site-packages (from visions[type_image_path]==0.7.4->pandas-profiling[notebook]) (21.2.0)\n",
      "Requirement already satisfied: networkx>=2.4 in c:\\users\\bnoah\\anaconda3\\lib\\site-packages (from visions[type_image_path]==0.7.4->pandas-profiling[notebook]) (2.6.3)\n",
      "Requirement already satisfied: Pillow in c:\\users\\bnoah\\anaconda3\\lib\\site-packages (from visions[type_image_path]==0.7.4->pandas-profiling[notebook]) (8.4.0)\n",
      "Requirement already satisfied: imagehash in c:\\users\\bnoah\\appdata\\roaming\\python\\python38\\site-packages (from visions[type_image_path]==0.7.4->pandas-profiling[notebook]) (4.2.1)\n",
      "Requirement already satisfied: ipython-genutils~=0.2.0 in c:\\users\\bnoah\\anaconda3\\lib\\site-packages (from ipywidgets>=7.5.1->pandas-profiling[notebook]) (0.2.0)\n",
      "Requirement already satisfied: ipython>=4.0.0 in c:\\users\\bnoah\\anaconda3\\lib\\site-packages (from ipywidgets>=7.5.1->pandas-profiling[notebook]) (7.29.0)\n",
      "Requirement already satisfied: ipykernel>=4.5.1 in c:\\users\\bnoah\\anaconda3\\lib\\site-packages (from ipywidgets>=7.5.1->pandas-profiling[notebook]) (6.4.1)\n",
      "Requirement already satisfied: jupyterlab-widgets>=1.0.0 in c:\\users\\bnoah\\anaconda3\\lib\\site-packages (from ipywidgets>=7.5.1->pandas-profiling[notebook]) (1.0.0)\n",
      "Requirement already satisfied: nbformat>=4.2.0 in c:\\users\\bnoah\\anaconda3\\lib\\site-packages (from ipywidgets>=7.5.1->pandas-profiling[notebook]) (5.1.3)\n",
      "Requirement already satisfied: traitlets>=4.3.1 in c:\\users\\bnoah\\anaconda3\\lib\\site-packages (from ipywidgets>=7.5.1->pandas-profiling[notebook]) (5.1.1)\n",
      "Requirement already satisfied: widgetsnbextension~=3.5.0 in c:\\users\\bnoah\\anaconda3\\lib\\site-packages (from ipywidgets>=7.5.1->pandas-profiling[notebook]) (3.5.1)\n",
      "Requirement already satisfied: debugpy<2.0,>=1.0.0 in c:\\users\\bnoah\\anaconda3\\lib\\site-packages (from ipykernel>=4.5.1->ipywidgets>=7.5.1->pandas-profiling[notebook]) (1.5.1)\n",
      "Requirement already satisfied: tornado<7.0,>=4.2 in c:\\users\\bnoah\\anaconda3\\lib\\site-packages (from ipykernel>=4.5.1->ipywidgets>=7.5.1->pandas-profiling[notebook]) (6.1)\n",
      "Requirement already satisfied: matplotlib-inline<0.2.0,>=0.1.0 in c:\\users\\bnoah\\anaconda3\\lib\\site-packages (from ipykernel>=4.5.1->ipywidgets>=7.5.1->pandas-profiling[notebook]) (0.1.2)\n",
      "Requirement already satisfied: pickleshare in c:\\users\\bnoah\\anaconda3\\lib\\site-packages (from ipython>=4.0.0->ipywidgets>=7.5.1->pandas-profiling[notebook]) (0.7.5)\n",
      "Requirement already satisfied: pygments in c:\\users\\bnoah\\anaconda3\\lib\\site-packages (from ipython>=4.0.0->ipywidgets>=7.5.1->pandas-profiling[notebook]) (2.10.0)\n",
      "Requirement already satisfied: backcall in c:\\users\\bnoah\\anaconda3\\lib\\site-packages (from ipython>=4.0.0->ipywidgets>=7.5.1->pandas-profiling[notebook]) (0.2.0)\n",
      "Requirement already satisfied: prompt-toolkit!=3.0.0,!=3.0.1,<3.1.0,>=2.0.0 in c:\\users\\bnoah\\anaconda3\\lib\\site-packages (from ipython>=4.0.0->ipywidgets>=7.5.1->pandas-profiling[notebook]) (3.0.20)\n",
      "Requirement already satisfied: setuptools>=18.5 in c:\\users\\bnoah\\anaconda3\\lib\\site-packages (from ipython>=4.0.0->ipywidgets>=7.5.1->pandas-profiling[notebook]) (58.0.4)\n",
      "Requirement already satisfied: decorator in c:\\users\\bnoah\\anaconda3\\lib\\site-packages (from ipython>=4.0.0->ipywidgets>=7.5.1->pandas-profiling[notebook]) (5.1.0)\n",
      "Requirement already satisfied: jedi>=0.16 in c:\\users\\bnoah\\anaconda3\\lib\\site-packages (from ipython>=4.0.0->ipywidgets>=7.5.1->pandas-profiling[notebook]) (0.17.2)\n",
      "Requirement already satisfied: colorama in c:\\users\\bnoah\\anaconda3\\lib\\site-packages (from ipython>=4.0.0->ipywidgets>=7.5.1->pandas-profiling[notebook]) (0.4.4)\n",
      "Requirement already satisfied: parso<0.8.0,>=0.7.0 in c:\\users\\bnoah\\anaconda3\\lib\\site-packages (from jedi>=0.16->ipython>=4.0.0->ipywidgets>=7.5.1->pandas-profiling[notebook]) (0.7.0)\n",
      "Requirement already satisfied: entrypoints in c:\\users\\bnoah\\anaconda3\\lib\\site-packages (from jupyter-client>=6.0.0->pandas-profiling[notebook]) (0.3)\n",
      "Requirement already satisfied: pyzmq>=13 in c:\\users\\bnoah\\anaconda3\\lib\\site-packages (from jupyter-client>=6.0.0->pandas-profiling[notebook]) (22.2.1)\n",
      "Requirement already satisfied: python-dateutil>=2.1 in c:\\users\\bnoah\\anaconda3\\lib\\site-packages (from jupyter-client>=6.0.0->pandas-profiling[notebook]) (2.8.2)\n",
      "Requirement already satisfied: nest-asyncio>=1.5 in c:\\users\\bnoah\\anaconda3\\lib\\site-packages (from jupyter-client>=6.0.0->pandas-profiling[notebook]) (1.5.1)\n",
      "Requirement already satisfied: pywin32>=1.0 in c:\\users\\bnoah\\anaconda3\\lib\\site-packages (from jupyter-core>=4.6.3->pandas-profiling[notebook]) (228)\n",
      "Requirement already satisfied: pyparsing>=2.2.1 in c:\\users\\bnoah\\anaconda3\\lib\\site-packages (from matplotlib>=3.2.0->pandas-profiling[notebook]) (3.0.4)\n",
      "Requirement already satisfied: kiwisolver>=1.0.1 in c:\\users\\bnoah\\anaconda3\\lib\\site-packages (from matplotlib>=3.2.0->pandas-profiling[notebook]) (1.3.1)\n",
      "Requirement already satisfied: cycler>=0.10 in c:\\users\\bnoah\\anaconda3\\lib\\site-packages (from matplotlib>=3.2.0->pandas-profiling[notebook]) (0.10.0)\n",
      "Requirement already satisfied: six in c:\\users\\bnoah\\anaconda3\\lib\\site-packages (from cycler>=0.10->matplotlib>=3.2.0->pandas-profiling[notebook]) (1.16.0)\n",
      "Requirement already satisfied: jsonschema!=2.5.0,>=2.4 in c:\\users\\bnoah\\anaconda3\\lib\\site-packages (from nbformat>=4.2.0->ipywidgets>=7.5.1->pandas-profiling[notebook]) (3.2.0)\n",
      "Requirement already satisfied: pyrsistent>=0.14.0 in c:\\users\\bnoah\\anaconda3\\lib\\site-packages (from jsonschema!=2.5.0,>=2.4->nbformat>=4.2.0->ipywidgets>=7.5.1->pandas-profiling[notebook]) (0.18.0)\n",
      "Requirement already satisfied: pytz>=2017.3 in c:\\users\\bnoah\\anaconda3\\lib\\site-packages (from pandas!=1.0.0,!=1.0.1,!=1.0.2,!=1.1.0,>=0.25.3->pandas-profiling[notebook]) (2021.3)\n",
      "Requirement already satisfied: wcwidth in c:\\users\\bnoah\\anaconda3\\lib\\site-packages (from prompt-toolkit!=3.0.0,!=3.0.1,<3.1.0,>=2.0.0->ipython>=4.0.0->ipywidgets>=7.5.1->pandas-profiling[notebook]) (0.2.5)\n",
      "Requirement already satisfied: typing-extensions>=3.7.4.3 in c:\\users\\bnoah\\anaconda3\\lib\\site-packages (from pydantic>=1.8.1->pandas-profiling[notebook]) (3.10.0.2)\n",
      "Requirement already satisfied: idna<4,>=2.5 in c:\\users\\bnoah\\anaconda3\\lib\\site-packages (from requests>=2.24.0->pandas-profiling[notebook]) (3.2)\n",
      "Requirement already satisfied: certifi>=2017.4.17 in c:\\users\\bnoah\\anaconda3\\lib\\site-packages (from requests>=2.24.0->pandas-profiling[notebook]) (2021.10.8)\n",
      "Requirement already satisfied: urllib3<1.27,>=1.21.1 in c:\\users\\bnoah\\anaconda3\\lib\\site-packages (from requests>=2.24.0->pandas-profiling[notebook]) (1.26.7)\n",
      "Requirement already satisfied: charset-normalizer~=2.0.0 in c:\\users\\bnoah\\anaconda3\\lib\\site-packages (from requests>=2.24.0->pandas-profiling[notebook]) (2.0.4)\n",
      "Requirement already satisfied: notebook>=4.4.1 in c:\\users\\bnoah\\anaconda3\\lib\\site-packages (from widgetsnbextension~=3.5.0->ipywidgets>=7.5.1->pandas-profiling[notebook]) (6.4.5)\n",
      "Requirement already satisfied: Send2Trash>=1.5.0 in c:\\users\\bnoah\\anaconda3\\lib\\site-packages (from notebook>=4.4.1->widgetsnbextension~=3.5.0->ipywidgets>=7.5.1->pandas-profiling[notebook]) (1.8.0)\n",
      "Requirement already satisfied: nbconvert in c:\\users\\bnoah\\anaconda3\\lib\\site-packages (from notebook>=4.4.1->widgetsnbextension~=3.5.0->ipywidgets>=7.5.1->pandas-profiling[notebook]) (6.1.0)\n",
      "Requirement already satisfied: terminado>=0.8.3 in c:\\users\\bnoah\\anaconda3\\lib\\site-packages (from notebook>=4.4.1->widgetsnbextension~=3.5.0->ipywidgets>=7.5.1->pandas-profiling[notebook]) (0.9.4)\n",
      "Requirement already satisfied: argon2-cffi in c:\\users\\bnoah\\anaconda3\\lib\\site-packages (from notebook>=4.4.1->widgetsnbextension~=3.5.0->ipywidgets>=7.5.1->pandas-profiling[notebook]) (20.1.0)\n",
      "Requirement already satisfied: prometheus-client in c:\\users\\bnoah\\anaconda3\\lib\\site-packages (from notebook>=4.4.1->widgetsnbextension~=3.5.0->ipywidgets>=7.5.1->pandas-profiling[notebook]) (0.11.0)\n",
      "Requirement already satisfied: pywinpty>=0.5 in c:\\users\\bnoah\\anaconda3\\lib\\site-packages (from terminado>=0.8.3->notebook>=4.4.1->widgetsnbextension~=3.5.0->ipywidgets>=7.5.1->pandas-profiling[notebook]) (0.5.7)\n",
      "Requirement already satisfied: cffi>=1.0.0 in c:\\users\\bnoah\\anaconda3\\lib\\site-packages (from argon2-cffi->notebook>=4.4.1->widgetsnbextension~=3.5.0->ipywidgets>=7.5.1->pandas-profiling[notebook]) (1.15.0)\n",
      "Requirement already satisfied: pycparser in c:\\users\\bnoah\\anaconda3\\lib\\site-packages (from cffi>=1.0.0->argon2-cffi->notebook>=4.4.1->widgetsnbextension~=3.5.0->ipywidgets>=7.5.1->pandas-profiling[notebook]) (2.21)\n",
      "Requirement already satisfied: PyWavelets in c:\\users\\bnoah\\anaconda3\\lib\\site-packages (from imagehash->visions[type_image_path]==0.7.4->pandas-profiling[notebook]) (1.1.1)\n",
      "Requirement already satisfied: nbclient<0.6.0,>=0.5.0 in c:\\users\\bnoah\\anaconda3\\lib\\site-packages (from nbconvert->notebook>=4.4.1->widgetsnbextension~=3.5.0->ipywidgets>=7.5.1->pandas-profiling[notebook]) (0.5.3)\n",
      "Requirement already satisfied: mistune<2,>=0.8.1 in c:\\users\\bnoah\\anaconda3\\lib\\site-packages (from nbconvert->notebook>=4.4.1->widgetsnbextension~=3.5.0->ipywidgets>=7.5.1->pandas-profiling[notebook]) (0.8.4)\n",
      "Requirement already satisfied: pandocfilters>=1.4.1 in c:\\users\\bnoah\\anaconda3\\lib\\site-packages (from nbconvert->notebook>=4.4.1->widgetsnbextension~=3.5.0->ipywidgets>=7.5.1->pandas-profiling[notebook]) (1.4.3)\n",
      "Requirement already satisfied: defusedxml in c:\\users\\bnoah\\anaconda3\\lib\\site-packages (from nbconvert->notebook>=4.4.1->widgetsnbextension~=3.5.0->ipywidgets>=7.5.1->pandas-profiling[notebook]) (0.7.1)\n",
      "Requirement already satisfied: bleach in c:\\users\\bnoah\\anaconda3\\lib\\site-packages (from nbconvert->notebook>=4.4.1->widgetsnbextension~=3.5.0->ipywidgets>=7.5.1->pandas-profiling[notebook]) (4.0.0)\n",
      "Requirement already satisfied: testpath in c:\\users\\bnoah\\anaconda3\\lib\\site-packages (from nbconvert->notebook>=4.4.1->widgetsnbextension~=3.5.0->ipywidgets>=7.5.1->pandas-profiling[notebook]) (0.5.0)\n",
      "Requirement already satisfied: jupyterlab-pygments in c:\\users\\bnoah\\anaconda3\\lib\\site-packages (from nbconvert->notebook>=4.4.1->widgetsnbextension~=3.5.0->ipywidgets>=7.5.1->pandas-profiling[notebook]) (0.1.2)\n",
      "Requirement already satisfied: async-generator in c:\\users\\bnoah\\anaconda3\\lib\\site-packages (from nbclient<0.6.0,>=0.5.0->nbconvert->notebook>=4.4.1->widgetsnbextension~=3.5.0->ipywidgets>=7.5.1->pandas-profiling[notebook]) (1.10)\n",
      "Requirement already satisfied: packaging in c:\\users\\bnoah\\anaconda3\\lib\\site-packages (from bleach->nbconvert->notebook>=4.4.1->widgetsnbextension~=3.5.0->ipywidgets>=7.5.1->pandas-profiling[notebook]) (21.0)\n",
      "Requirement already satisfied: webencodings in c:\\users\\bnoah\\anaconda3\\lib\\site-packages (from bleach->nbconvert->notebook>=4.4.1->widgetsnbextension~=3.5.0->ipywidgets>=7.5.1->pandas-profiling[notebook]) (0.5.1)\n"
     ]
    }
   ],
   "source": [
    "import pandas as pd\n",
    "!pip install researchpy \n",
    "import researchpy as rp\n",
    "import matplotlib.pyplot as plt\n",
    "import numpy as np\n",
    "import scipy.stats as stats\n",
    "from scipy.stats import zscore\n",
    "import statsmodels.api as sm\n",
    "import seaborn as sns\n",
    "!pip install pandas-profiling[notebook]\n",
    "from pandas_profiling import ProfileReport\n",
    "import warnings\n",
    "warnings.filterwarnings('ignore')"
   ]
  },
  {
   "cell_type": "markdown",
   "metadata": {},
   "source": [
    "### Details"
   ]
  },
  {
   "cell_type": "markdown",
   "metadata": {},
   "source": [
    "| Package          | Description                                                          |\n",
    "|:-----------------|:---------------------------------------------------------------------|\n",
    "| pandas           | For data preprocessing and basic descriptive statistics.             |\n",
    "| researchpy       | For looking at summary statistics.                                   |\n",
    "| matplotlib       | For creating graphs.                                                 |\n",
    "| numpy            | For scientific computing.                                            |\n",
    "| scipy            | For calculating statistics.                                          |\n",
    "| statsmodels      | For running regressions.                                             |\n",
    "| seaborn          | For creating graphs.                                                 |\n",
    "| pandas_profiling | For creating a profile report on the dataset.                        |\n",
    "| warnings         | For ignoring warnings after finishing the project for readability.   |"
   ]
  },
  {
   "cell_type": "markdown",
   "metadata": {},
   "source": [
    "## Importing and Cleaning Data"
   ]
  },
  {
   "cell_type": "markdown",
   "metadata": {},
   "source": [
    "### Import Data"
   ]
  },
  {
   "cell_type": "code",
   "execution_count": 4,
   "metadata": {},
   "outputs": [],
   "source": [
    "#read the data\n",
    "try: \n",
    "    vehicle_ads = pd.read_csv('/Users/bnoah/data/vehicles_us.csv')\n",
    "except: \n",
    "    vehicle_ads = pd.read_csv('/datasets/vehicles_us.csv')"
   ]
  },
  {
   "cell_type": "markdown",
   "metadata": {},
   "source": [
    "### Profile Report"
   ]
  },
  {
   "cell_type": "code",
   "execution_count": 5,
   "metadata": {},
   "outputs": [
    {
     "data": {
      "application/vnd.jupyter.widget-view+json": {
       "model_id": "3515eddc59af4c8ebb4522d0933bd5d6",
       "version_major": 2,
       "version_minor": 0
      },
      "text/plain": [
       "Summarize dataset:   0%|          | 0/5 [00:00<?, ?it/s]"
      ]
     },
     "metadata": {},
     "output_type": "display_data"
    },
    {
     "data": {
      "application/vnd.jupyter.widget-view+json": {
       "model_id": "86fda6d9d9d64f0eabefb1529534cdcd",
       "version_major": 2,
       "version_minor": 0
      },
      "text/plain": [
       "Generate report structure:   0%|          | 0/1 [00:00<?, ?it/s]"
      ]
     },
     "metadata": {},
     "output_type": "display_data"
    },
    {
     "data": {
      "application/vnd.jupyter.widget-view+json": {
       "model_id": "",
       "version_major": 2,
       "version_minor": 0
      },
      "text/plain": [
       "Render widgets:   0%|          | 0/1 [00:00<?, ?it/s]"
      ]
     },
     "metadata": {},
     "output_type": "display_data"
    },
    {
     "data": {
      "application/vnd.jupyter.widget-view+json": {
       "model_id": "38896c5a72734284b1b243a2c49c57c2",
       "version_major": 2,
       "version_minor": 0
      },
      "text/plain": [
       "VBox(children=(Tab(children=(Tab(children=(GridBox(children=(VBox(children=(GridspecLayout(children=(HTML(valu…"
      ]
     },
     "metadata": {},
     "output_type": "display_data"
    }
   ],
   "source": [
    "vehicle_ads_report = ProfileReport(vehicle_ads, title=\"Credit Score Profiling Report\")\n",
    "vehicle_ads_report.to_widgets()"
   ]
  },
  {
   "cell_type": "markdown",
   "metadata": {},
   "source": [
    "### Data Cleaning"
   ]
  },
  {
   "cell_type": "code",
   "execution_count": 7,
   "metadata": {},
   "outputs": [],
   "source": [
    "#creating car brand variable\n",
    "vehicle_ads['car_brand'] = vehicle_ads['model'].str.split(' ').str[0]\n",
    "#replace missing values in is_4wd with zero\n",
    "vehicle_ads['is_4wd'].fillna(0,inplace=True)"
   ]
  },
  {
   "cell_type": "markdown",
   "metadata": {},
   "source": [
    "#### Conclusion"
   ]
  },
  {
   "cell_type": "markdown",
   "metadata": {},
   "source": [
    "- The dataframe has **51525** observations with **13** variables.\n",
    "\n",
    "- There are **missing values** for the variables `model_year`, `cylinders`, `odometer`, `paint_color`, and `is_4wd`. \n",
    "\n",
    "- The brand of the car is the first word of the `model` variable, so I created a new variable called `car_brand` which grouped 100 models into 19 brands. \n",
    "\n",
    "- There are **zero duplicate** values\n",
    "\n",
    "- The variable `is_4wd` only contains values of 1. This leads me to believe the missing values are the 0 values (i.e. the cars without four wheel drive). I will continue this analysis under that assumption, but this is something that should be confirmed with the person who pulled the data. \n"
   ]
  },
  {
   "cell_type": "markdown",
   "metadata": {},
   "source": [
    "## Data preprocessing"
   ]
  },
  {
   "cell_type": "markdown",
   "metadata": {},
   "source": [
    "### Missing Values "
   ]
  },
  {
   "cell_type": "markdown",
   "metadata": {},
   "source": [
    "#### Looking at the Frequency of Missing Values  "
   ]
  },
  {
   "cell_type": "code",
   "execution_count": 8,
   "metadata": {},
   "outputs": [
    {
     "name": "stdout",
     "output_type": "stream",
     "text": [
      "model_year is missing 7.0% of its values\n",
      "cylinders is missing 10.2% of its values\n",
      "odometer is missing 15.3% of its values\n",
      "paint_color is missing 18.0% of its values\n"
     ]
    }
   ],
   "source": [
    "#list of variables with missing values\n",
    "missing_list = ['model_year', 'cylinders', 'odometer','paint_color']\n",
    "#printing frequency of missing values\n",
    "for x in missing_list:\n",
    "    print('{} is missing {:.1%} of its values'.format(x, vehicle_ads[x].isna().sum()/len(vehicle_ads)))"
   ]
  },
  {
   "cell_type": "markdown",
   "metadata": {},
   "source": [
    "##### Conclusion "
   ]
  },
  {
   "cell_type": "markdown",
   "metadata": {},
   "source": [
    "All the variables with missing values, have a significant number of missing values. For this reason, if we find the values are missing completely at random, we will use imputation methods to replace those missing values instead of removing the observations. "
   ]
  },
  {
   "cell_type": "markdown",
   "metadata": {},
   "source": [
    "#### Analyzing the type of missing data"
   ]
  },
  {
   "cell_type": "code",
   "execution_count": 10,
   "metadata": {},
   "outputs": [
    {
     "name": "stdout",
     "output_type": "stream",
     "text": [
      "model_year\n"
     ]
    },
    {
     "data": {
      "text/plain": [
       "price         -0.010146\n",
       "model_year          NaN\n",
       "cylinders     -0.002278\n",
       "odometer       0.007149\n",
       "is_4wd         0.001805\n",
       "days_listed   -0.001300\n",
       "missing        1.000000\n",
       "Name: missing, dtype: float64"
      ]
     },
     "metadata": {},
     "output_type": "display_data"
    },
    {
     "name": "stdout",
     "output_type": "stream",
     "text": [
      "cylinders\n"
     ]
    },
    {
     "data": {
      "text/plain": [
       "price         -0.003214\n",
       "model_year    -0.005002\n",
       "cylinders           NaN\n",
       "odometer       0.005506\n",
       "is_4wd        -0.004045\n",
       "days_listed   -0.001332\n",
       "missing        1.000000\n",
       "Name: missing, dtype: float64"
      ]
     },
     "metadata": {},
     "output_type": "display_data"
    },
    {
     "name": "stdout",
     "output_type": "stream",
     "text": [
      "odometer\n"
     ]
    },
    {
     "data": {
      "text/plain": [
       "price         -0.000807\n",
       "model_year     0.002263\n",
       "cylinders     -0.006714\n",
       "odometer            NaN\n",
       "is_4wd        -0.004400\n",
       "days_listed   -0.004995\n",
       "missing        1.000000\n",
       "Name: missing, dtype: float64"
      ]
     },
     "metadata": {},
     "output_type": "display_data"
    },
    {
     "name": "stdout",
     "output_type": "stream",
     "text": [
      "paint_color\n"
     ]
    },
    {
     "data": {
      "text/plain": [
       "price          0.001786\n",
       "model_year     0.005102\n",
       "cylinders      0.001099\n",
       "odometer      -0.007136\n",
       "is_4wd         0.003109\n",
       "days_listed   -0.002954\n",
       "missing        1.000000\n",
       "Name: missing, dtype: float64"
      ]
     },
     "metadata": {},
     "output_type": "display_data"
    }
   ],
   "source": [
    "for x in missing_list:\n",
    "    vehicle_ads['missing'] = np.where(vehicle_ads[x].isna(),1,0)\n",
    "    print(x)\n",
    "    display(vehicle_ads.corr()['missing'])\n",
    "    vehicle_ads.drop('missing',axis=1,inplace=True)"
   ]
  },
  {
   "cell_type": "markdown",
   "metadata": {},
   "source": [
    "##### Conclusion "
   ]
  },
  {
   "cell_type": "markdown",
   "metadata": {},
   "source": [
    "Looking at the correlations above, it seems as though the missing data is not highly correlated with any of the other variables, which means the data is most likely missing completely at random. \n",
    "\n",
    "Also, when we look at the heatmap from the profile report, we can see that the missingness of one variable is not correlated with the missingness of another variable.  \n"
   ]
  },
  {
   "cell_type": "markdown",
   "metadata": {},
   "source": [
    "#### Deciding How To Impute Missing Values"
   ]
  },
  {
   "cell_type": "code",
   "execution_count": 11,
   "metadata": {},
   "outputs": [
    {
     "data": {
      "text/html": [
       "<div>\n",
       "<style scoped>\n",
       "    .dataframe tbody tr th:only-of-type {\n",
       "        vertical-align: middle;\n",
       "    }\n",
       "\n",
       "    .dataframe tbody tr th {\n",
       "        vertical-align: top;\n",
       "    }\n",
       "\n",
       "    .dataframe thead th {\n",
       "        text-align: right;\n",
       "    }\n",
       "</style>\n",
       "<table border=\"1\" class=\"dataframe\">\n",
       "  <thead>\n",
       "    <tr style=\"text-align: right;\">\n",
       "      <th></th>\n",
       "      <th>model_year</th>\n",
       "      <th>cylinders</th>\n",
       "      <th>odometer</th>\n",
       "    </tr>\n",
       "  </thead>\n",
       "  <tbody>\n",
       "    <tr>\n",
       "      <th>min</th>\n",
       "      <td>1908.00000</td>\n",
       "      <td>3.000000</td>\n",
       "      <td>0.000000</td>\n",
       "    </tr>\n",
       "    <tr>\n",
       "      <th>max</th>\n",
       "      <td>2019.00000</td>\n",
       "      <td>12.000000</td>\n",
       "      <td>990000.000000</td>\n",
       "    </tr>\n",
       "    <tr>\n",
       "      <th>median</th>\n",
       "      <td>2011.00000</td>\n",
       "      <td>6.000000</td>\n",
       "      <td>113000.000000</td>\n",
       "    </tr>\n",
       "    <tr>\n",
       "      <th>mean</th>\n",
       "      <td>2009.75047</td>\n",
       "      <td>6.125235</td>\n",
       "      <td>115553.461738</td>\n",
       "    </tr>\n",
       "  </tbody>\n",
       "</table>\n",
       "</div>"
      ],
      "text/plain": [
       "        model_year  cylinders       odometer\n",
       "min     1908.00000   3.000000       0.000000\n",
       "max     2019.00000  12.000000  990000.000000\n",
       "median  2011.00000   6.000000  113000.000000\n",
       "mean    2009.75047   6.125235  115553.461738"
      ]
     },
     "execution_count": 11,
     "metadata": {},
     "output_type": "execute_result"
    }
   ],
   "source": [
    "#checking to see if outliers have a strong affect on our missing variables                \n",
    "vehicle_ads.agg({'model_year': [\"min\", \"max\", \"median\", \"mean\"], 'cylinders': [\"min\", \"max\", \"median\", \"mean\"], 'odometer': [\"min\", \"max\", \"median\", \"mean\"]})"
   ]
  },
  {
   "cell_type": "markdown",
   "metadata": {},
   "source": [
    "##### Conclusion"
   ]
  },
  {
   "cell_type": "markdown",
   "metadata": {},
   "source": [
    "There are fairly large differences between the mean and median for `model_year` and `odometer`, so I will replace the missing values with the median. \n",
    "\n",
    "Contrastingly, there is not a large difference between the mean and the median for `cylinders`, so I replaced the missing values with the mean."
   ]
  },
  {
   "cell_type": "markdown",
   "metadata": {},
   "source": [
    "#### Imputing Missing Values"
   ]
  },
  {
   "cell_type": "code",
   "execution_count": 12,
   "metadata": {},
   "outputs": [],
   "source": [
    "#replace missing values with median/mean values. I rounded since all values are integers in this dataset.\n",
    "vehicle_ads['model_year'] = vehicle_ads['model_year'].fillna(round(vehicle_ads['model_year'].median()))\n",
    "vehicle_ads['cylinders'] = vehicle_ads['cylinders'].fillna(round(vehicle_ads['cylinders'].mean()))\n",
    "vehicle_ads['odometer'] = vehicle_ads['odometer'].fillna(round(vehicle_ads['odometer'].median()))\n",
    "#create a dictory for the most common color for each car model\n",
    "#create a list of the the unique models\n",
    "keys = vehicle_ads['model'].unique()\n",
    "values = []\n",
    "#for each unique model type\n",
    "for x in keys:\n",
    "    #find the frequency of each paint color for that model type\n",
    "    data = vehicle_ads[vehicle_ads['model'] == x]['paint_color'].value_counts()\n",
    "    #store the most frequent paint color in our values list\n",
    "    values.append(data.index[0])\n",
    "#combine the key with the value to create a dictionary that matches the model with its most frequent color\n",
    "color_codebook = dict(zip(keys,values))\n",
    "#replace missing values for paint color with the most common color for that car model\n",
    "for x in keys:\n",
    "    vehicle_ads['paint_color'] = vehicle_ads['paint_color'].fillna(color_codebook[x])"
   ]
  },
  {
   "cell_type": "markdown",
   "metadata": {},
   "source": [
    "##### Conclusion"
   ]
  },
  {
   "cell_type": "markdown",
   "metadata": {},
   "source": [
    "I replaced `model_year`, and `odometer` with their median value, and `cylinders` with its mean value. \n",
    "\n",
    "I also replaced `paint_color` with the most common `paint_color` for the `car_brand` in the observation. I used this method because I felt this was the best way to predict the cars most likely `paint_color`."
   ]
  },
  {
   "cell_type": "markdown",
   "metadata": {},
   "source": [
    "### Changing Data Types"
   ]
  },
  {
   "cell_type": "code",
   "execution_count": 14,
   "metadata": {
    "scrolled": true
   },
   "outputs": [],
   "source": [
    "#changing data types to integers since all the values are whole numbers \n",
    "vehicle_ads['model_year'] = vehicle_ads['model_year'].astype('int64')\n",
    "vehicle_ads['cylinders'] = vehicle_ads['cylinders'].astype('int64')\n",
    "vehicle_ads['odometer'] = vehicle_ads['odometer'].astype('int64')\n",
    "vehicle_ads['is_4wd'] = vehicle_ads['is_4wd'].astype('int64')\n",
    "#changing dates to datetime\n",
    "vehicle_ads['date_posted'] = pd.to_datetime(vehicle_ads['date_posted'], format = '%Y-%m-%d')"
   ]
  },
  {
   "cell_type": "markdown",
   "metadata": {},
   "source": [
    "#### Conclusion"
   ]
  },
  {
   "cell_type": "markdown",
   "metadata": {},
   "source": [
    "- I changed the type of `model_year`, `cylinders`, `odometer`, and `is_4wd` from **float64** to **int64** because all the values are integers. \n",
    "\n",
    "- I converted `date_posted` to a **datetime64** data type."
   ]
  },
  {
   "cell_type": "markdown",
   "metadata": {},
   "source": [
    "## Adding New Variables"
   ]
  },
  {
   "cell_type": "code",
   "execution_count": 15,
   "metadata": {},
   "outputs": [],
   "source": [
    "vehicle_ads['month_posted'] = vehicle_ads['date_posted'].dt.month_name()\n",
    "vehicle_ads['year_posted'] = pd.DatetimeIndex(vehicle_ads['date_posted']).year\n",
    "vehicle_ads['day_of_week_posted'] = vehicle_ads['date_posted'].dt.day_name()\n",
    "vehicle_ads['vehicle_age'] = vehicle_ads['year_posted'] - vehicle_ads['model_year']\n",
    "vehicle_ads['avg_mileage'] = vehicle_ads['odometer']/vehicle_ads['vehicle_age']\n",
    "vehicle_ads.loc[vehicle_ads['vehicle_age']==0, 'avg_mileage'] = vehicle_ads['odometer']"
   ]
  },
  {
   "cell_type": "markdown",
   "metadata": {},
   "source": [
    "### Conclusion"
   ]
  },
  {
   "cell_type": "markdown",
   "metadata": {},
   "source": [
    "In this section, I added 5 variables. \n",
    "1. **`month_posted`**: I isolated the month of the posting of the vehicle advertisement \n",
    "\n",
    "2. **`year_posted`**: I isolated the year of the posting of the vehicle advertisement \n",
    "\n",
    "3. **`day_of_week_posted`**: I isolated the day of the week of the posting of the vehicle advertisement\n",
    "\n",
    "4. **`vehicle_age`**: I calculated the vehicle age by subtracting the `year_posted` variable by the `model_year` variable\n",
    "\n",
    "5. **`avg_mileage`**: I calculated the average mileage by dividing the `odometer` variable by the `vehicle_age` variable\n",
    "    1. To prevent zero division, if the `vehicle_age` was zero I rounded the `vehicle_age` to one when calculating the `avg_mileage`. "
   ]
  },
  {
   "cell_type": "markdown",
   "metadata": {},
   "source": [
    "## Filtering Data"
   ]
  },
  {
   "cell_type": "markdown",
   "metadata": {},
   "source": [
    "### Checking for Outliers"
   ]
  },
  {
   "cell_type": "code",
   "execution_count": 22,
   "metadata": {},
   "outputs": [
    {
     "data": {
      "image/png": "[encoded data removed]",
      "text/plain": [
       "<Figure size 1296x576 with 6 Axes>"
      ]
     },
     "metadata": {
      "needs_background": "light"
     },
     "output_type": "display_data"
    }
   ],
   "source": [
    "#HISTOGRAMS FOR OUTLIERS\n",
    "variables_for_hist = ['price','model_year','odometer','days_listed','vehicle_age','avg_mileage']\n",
    "#plotting histograms of the variables that are not completely bounded \n",
    "f, axs = plt.subplots(2, 3, figsize=(18, 8))\n",
    "axs[0, 0].hist(vehicle_ads['price'],bins=100) #seems to have outliers on the high side of the data set\n",
    "axs[0, 1].hist(vehicle_ads['model_year'],bins=100) #seems to have outliers on the low side of the data set\n",
    "axs[0, 2].hist(vehicle_ads['odometer'],bins=100) #seems to have outliers on the high side of the data set\n",
    "axs[1, 0].hist(vehicle_ads['days_listed'],bins=100) #fairly normal with slight outliers on the high side\n",
    "axs[1, 1].hist(vehicle_ads['vehicle_age'],bins=100) #seems to have outliers on the high side of the data set \n",
    "axs[1, 2].hist(vehicle_ads['avg_mileage'],bins=100) #seems to have outliers on the high side of the data set\n",
    "# set labels\n",
    "plt.setp(axs[0, 0], title='Price')\n",
    "plt.setp(axs[0, 1], title='Model Year')\n",
    "plt.setp(axs[0, 2], title='Miles')\n",
    "plt.setp(axs[1, 0], title='Days Listed')\n",
    "plt.setp(axs[1, 1], title='Vehicle Age')\n",
    "plt.setp(axs[1, 2], title='Average Miles Per Year')\n",
    "plt.setp(axs[:, :], ylabel='Frequency')\n",
    "plt.suptitle(\"Histograms of Non-Bounded Variables Before Trimming\")\n",
    "#rotate labels on the x-axis to avoid overlapping\n",
    "plt.xticks(rotation=45)\n",
    "plt.show()"
   ]
  },
  {
   "cell_type": "markdown",
   "metadata": {},
   "source": [
    "#### Conclusions"
   ]
  },
  {
   "cell_type": "markdown",
   "metadata": {},
   "source": [
    "Looking at the 6 histograms above, it is clear there are major outliers in the data. For `price`, `odometer`, `days_listed`, `vehicle_age`, and `avg_mileage` we have outliers on the **high end** and for `model_year` we have outliers on the **low end**. "
   ]
  },
  {
   "cell_type": "markdown",
   "metadata": {},
   "source": [
    "### Removing Outliers"
   ]
  },
  {
   "cell_type": "code",
   "execution_count": 23,
   "metadata": {},
   "outputs": [
    {
     "name": "stdout",
     "output_type": "stream",
     "text": [
      "<class 'pandas.core.frame.DataFrame'>\n",
      "RangeIndex: 48336 entries, 0 to 48335\n",
      "Data columns (total 20 columns):\n",
      " #   Column              Non-Null Count  Dtype         \n",
      "---  ------              --------------  -----         \n",
      " 0   index               48336 non-null  int64         \n",
      " 1   price               48336 non-null  int64         \n",
      " 2   model_year          48336 non-null  int64         \n",
      " 3   model               48336 non-null  object        \n",
      " 4   condition           48336 non-null  object        \n",
      " 5   cylinders           48336 non-null  int64         \n",
      " 6   fuel                48336 non-null  object        \n",
      " 7   odometer            48336 non-null  int64         \n",
      " 8   transmission        48336 non-null  object        \n",
      " 9   type                48336 non-null  object        \n",
      " 10  paint_color         48336 non-null  object        \n",
      " 11  is_4wd              48336 non-null  int64         \n",
      " 12  date_posted         48336 non-null  datetime64[ns]\n",
      " 13  days_listed         48336 non-null  int64         \n",
      " 14  car_brand           48336 non-null  object        \n",
      " 15  month_posted        48336 non-null  object        \n",
      " 16  year_posted         48336 non-null  int64         \n",
      " 17  day_of_week_posted  48336 non-null  object        \n",
      " 18  vehicle_age         48336 non-null  int64         \n",
      " 19  avg_mileage         48336 non-null  float64       \n",
      "dtypes: datetime64[ns](1), float64(1), int64(9), object(9)\n",
      "memory usage: 7.4+ MB\n"
     ]
    }
   ],
   "source": [
    "#REMOVING OUTLIERS USING Z-SCORES\n",
    "#creating an array\n",
    "#creating an array of the z-scores for all non bounded variables\n",
    "vehicle_ads_z_score = zscore(np.array(vehicle_ads[['price','model_year','odometer','days_listed','vehicle_age','avg_mileage']]))\n",
    "#removing all observations with a z-score > 3 for any of the non bounded variables\n",
    "vehicle_ads_trimmed = vehicle_ads[(abs(vehicle_ads_z_score) < 3).all(axis=1)]\n",
    "#removed around 6% of the data\n",
    "vehicle_ads_trimmed.reset_index(inplace=True)\n",
    "vehicle_ads_trimmed.info()"
   ]
  },
  {
   "cell_type": "markdown",
   "metadata": {},
   "source": [
    "#### Conclusions"
   ]
  },
  {
   "cell_type": "markdown",
   "metadata": {},
   "source": [
    "I defined outliers as values with a **z-score greater than 3**. This is a commonly used definition in statistics.\n",
    "\n",
    "I then removed the observations with outlier values, which cut **6%** of the data and left us with **48336** observations. "
   ]
  },
  {
   "cell_type": "markdown",
   "metadata": {},
   "source": [
    "#### Checking To See Changes In Histograms After Removing Outliers"
   ]
  },
  {
   "cell_type": "code",
   "execution_count": 24,
   "metadata": {},
   "outputs": [
    {
     "data": {
      "image/png": "[encoded data removed]",
      "text/plain": [
       "<Figure size 1080x576 with 6 Axes>"
      ]
     },
     "metadata": {
      "needs_background": "light"
     },
     "output_type": "display_data"
    }
   ],
   "source": [
    "#REPLOTTING HISTOGRAMS TO SEE CHANGES\n",
    "#plotting histograms\n",
    "f, axs = plt.subplots(2, 3, figsize=(15, 8))\n",
    "axs[0, 0].hist(vehicle_ads_trimmed['price'],bins=100) \n",
    "axs[0, 1].hist(vehicle_ads_trimmed['model_year'],bins=100)\n",
    "axs[0, 2].hist(vehicle_ads_trimmed['odometer'],bins=100)\n",
    "axs[1, 0].hist(vehicle_ads_trimmed['days_listed'],bins=100)\n",
    "axs[1, 1].hist(vehicle_ads_trimmed['vehicle_age'],bins=100)\n",
    "axs[1, 2].hist(vehicle_ads_trimmed['avg_mileage'],bins=100)\n",
    "# set labels\n",
    "plt.setp(axs[0, 0], title='Price')\n",
    "plt.setp(axs[0, 1], title='Model Year')\n",
    "plt.setp(axs[0, 2], title='Miles')\n",
    "plt.setp(axs[1, 0], title='Days Listed')\n",
    "plt.setp(axs[1, 1], title='Vehicle Age')\n",
    "plt.setp(axs[1, 2], title='Average Miles Per Year')\n",
    "plt.setp(axs[:, :], ylabel='Frequency')\n",
    "plt.suptitle(\"Histograms of Non-Bounded Variables After Trimming\")\n",
    "plt.show()"
   ]
  },
  {
   "cell_type": "markdown",
   "metadata": {},
   "source": [
    "#### Conclusions"
   ]
  },
  {
   "cell_type": "markdown",
   "metadata": {},
   "source": [
    "When looking at the replotted histograms, the trimming clearly reduced the outlier problem. \n",
    "\n",
    "Also, it is of note that the random large spikes in frequency are due to the imputation done earlier. "
   ]
  },
  {
   "cell_type": "markdown",
   "metadata": {},
   "source": [
    "## Exploratory data analysis"
   ]
  },
  {
   "cell_type": "markdown",
   "metadata": {},
   "source": [
    "### Days Listed Analysis "
   ]
  },
  {
   "cell_type": "markdown",
   "metadata": {},
   "source": [
    "#### Creating Long and Short Days Listed DataFrames"
   ]
  },
  {
   "cell_type": "code",
   "execution_count": 26,
   "metadata": {},
   "outputs": [
    {
     "data": {
      "text/html": [
       "<div>\n",
       "<style scoped>\n",
       "    .dataframe tbody tr th:only-of-type {\n",
       "        vertical-align: middle;\n",
       "    }\n",
       "\n",
       "    .dataframe tbody tr th {\n",
       "        vertical-align: top;\n",
       "    }\n",
       "\n",
       "    .dataframe thead th {\n",
       "        text-align: right;\n",
       "    }\n",
       "</style>\n",
       "<table border=\"1\" class=\"dataframe\">\n",
       "  <thead>\n",
       "    <tr style=\"text-align: right;\">\n",
       "      <th></th>\n",
       "      <th>days_listed</th>\n",
       "    </tr>\n",
       "  </thead>\n",
       "  <tbody>\n",
       "    <tr>\n",
       "      <th>min</th>\n",
       "      <td>0.000000</td>\n",
       "    </tr>\n",
       "    <tr>\n",
       "      <th>max</th>\n",
       "      <td>9.000000</td>\n",
       "    </tr>\n",
       "    <tr>\n",
       "      <th>median</th>\n",
       "      <td>6.000000</td>\n",
       "    </tr>\n",
       "    <tr>\n",
       "      <th>mean</th>\n",
       "      <td>5.921016</td>\n",
       "    </tr>\n",
       "  </tbody>\n",
       "</table>\n",
       "</div>"
      ],
      "text/plain": [
       "        days_listed\n",
       "min        0.000000\n",
       "max        9.000000\n",
       "median     6.000000\n",
       "mean       5.921016"
      ]
     },
     "metadata": {},
     "output_type": "display_data"
    },
    {
     "data": {
      "text/html": [
       "<div>\n",
       "<style scoped>\n",
       "    .dataframe tbody tr th:only-of-type {\n",
       "        vertical-align: middle;\n",
       "    }\n",
       "\n",
       "    .dataframe tbody tr th {\n",
       "        vertical-align: top;\n",
       "    }\n",
       "\n",
       "    .dataframe thead th {\n",
       "        text-align: right;\n",
       "    }\n",
       "</style>\n",
       "<table border=\"1\" class=\"dataframe\">\n",
       "  <thead>\n",
       "    <tr style=\"text-align: right;\">\n",
       "      <th></th>\n",
       "      <th>days_listed</th>\n",
       "    </tr>\n",
       "  </thead>\n",
       "  <tbody>\n",
       "    <tr>\n",
       "      <th>min</th>\n",
       "      <td>75.000000</td>\n",
       "    </tr>\n",
       "    <tr>\n",
       "      <th>max</th>\n",
       "      <td>124.000000</td>\n",
       "    </tr>\n",
       "    <tr>\n",
       "      <th>median</th>\n",
       "      <td>89.000000</td>\n",
       "    </tr>\n",
       "    <tr>\n",
       "      <th>mean</th>\n",
       "      <td>91.432163</td>\n",
       "    </tr>\n",
       "  </tbody>\n",
       "</table>\n",
       "</div>"
      ],
      "text/plain": [
       "        days_listed\n",
       "min       75.000000\n",
       "max      124.000000\n",
       "median    89.000000\n",
       "mean      91.432163"
      ]
     },
     "metadata": {},
     "output_type": "display_data"
    }
   ],
   "source": [
    "#creating datasets where the number of days listed is very short or very long\n",
    "vehicle_ads_short_listed = vehicle_ads_trimmed.query('days_listed < days_listed.quantile(0.10)')\n",
    "vehicle_ads_long_listed = vehicle_ads_trimmed.query('days_listed > days_listed.quantile(0.90)')\n",
    "#looking at the summary statistics of these new datasets\n",
    "display(vehicle_ads_short_listed.agg({'days_listed': [\"min\", \"max\", \"median\", \"mean\"]}))\n",
    "display(vehicle_ads_long_listed.agg({'days_listed': [\"min\", \"max\", \"median\", \"mean\"]}))"
   ]
  },
  {
   "cell_type": "markdown",
   "metadata": {},
   "source": [
    "##### Conclusion"
   ]
  },
  {
   "cell_type": "markdown",
   "metadata": {},
   "source": [
    "I created two datasets based on the number of days the ad was listed. The first one is for the **shortest 10%** of `days_listed` and the second is for the **longest 10%** of `days_listed`. \n",
    "\n",
    "The shortest 10% ranged from **0 to 9** `days_listed` and the longest 10% ranged from **75 to 124** `days_listed`. "
   ]
  },
  {
   "cell_type": "markdown",
   "metadata": {},
   "source": [
    "#### Differences Between Observations with Short and Long Listings"
   ]
  },
  {
   "cell_type": "code",
   "execution_count": 27,
   "metadata": {},
   "outputs": [
    {
     "data": {
      "image/png": "[encoded data removed]",
      "text/plain": [
       "<Figure size 1080x576 with 6 Axes>"
      ]
     },
     "metadata": {
      "needs_background": "light"
     },
     "output_type": "display_data"
    }
   ],
   "source": [
    "#plotting histograms to see the differences on other variables between the cars that were listed for a short period of time vs a long period of time\n",
    "f, axs = plt.subplots(2, 3, figsize=(15, 8))\n",
    "axs[1][2].set_visible(False)\n",
    "axs[1][0].set_position([0.24,0.125,0.228,0.343])\n",
    "axs[1][1].set_position([0.55,0.125,0.228,0.343])\n",
    "axs[0, 0].hist([vehicle_ads_short_listed['price'],vehicle_ads_long_listed['price']], bins=10, label=['short', 'long'],density=True)\n",
    "axs[0, 0].legend(loc=\"upper right\")\n",
    "axs[0, 1].hist([vehicle_ads_short_listed['model_year'],vehicle_ads_long_listed['model_year']], bins=10, label=['short', 'long'],density=True)\n",
    "axs[0, 1].legend(loc=\"upper right\")\n",
    "axs[0, 2].hist([vehicle_ads_short_listed['odometer'],vehicle_ads_long_listed['odometer']], bins=10, label=['short', 'long'],density=True)\n",
    "axs[0, 2].legend(loc=\"upper right\")\n",
    "axs[1, 1].hist([vehicle_ads_short_listed['vehicle_age'],vehicle_ads_long_listed['vehicle_age']], bins=10, label=['short', 'long'],density=True)\n",
    "axs[1, 1].legend(loc=\"upper right\")\n",
    "axs[1, 0].hist([vehicle_ads_short_listed['avg_mileage'],vehicle_ads_long_listed['avg_mileage']], bins=10, label=['short', 'long'],density=True)\n",
    "axs[1, 0].legend(loc=\"upper right\")\n",
    "# set labels\n",
    "plt.setp(axs[0, 0], title='Price')\n",
    "plt.setp(axs[0, 1], title='Model Year')\n",
    "plt.setp(axs[0, 2], title='Miles')\n",
    "plt.setp(axs[1, 0], title='Average Miles Per Year')\n",
    "plt.setp(axs[1, 1], title='Vehicle Age')\n",
    "plt.setp(axs[:, :], ylabel='Frequency')\n",
    "plt.suptitle(\"Histograms of Non-Bounded Variables For The Short and Long Posted Ads\")\n",
    "plt.show()"
   ]
  },
  {
   "cell_type": "markdown",
   "metadata": {},
   "source": [
    "##### Conclusions"
   ]
  },
  {
   "cell_type": "markdown",
   "metadata": {},
   "source": [
    "When looking at these density histograms, I did not notice any clear differences between ads that had been listed for short periods of time vs long periods of time. "
   ]
  },
  {
   "cell_type": "markdown",
   "metadata": {},
   "source": [
    "### Average Price Analysis"
   ]
  },
  {
   "cell_type": "markdown",
   "metadata": {},
   "source": [
    "#### Average Price and Number of Ads Listed by Car Type"
   ]
  },
  {
   "cell_type": "code",
   "execution_count": 31,
   "metadata": {},
   "outputs": [
    {
     "data": {
      "image/png": "[encoded data removed]",
      "text/plain": [
       "<Figure size 2016x576 with 2 Axes>"
      ]
     },
     "metadata": {
      "needs_background": "light"
     },
     "output_type": "display_data"
    }
   ],
   "source": [
    "#create a pivot table that gets the mean price and the number of ads for each care type\n",
    "vehicle_ads_pivot = vehicle_ads_trimmed.pivot_table( index='type', values=['price'], aggfunc=['mean','count'])\n",
    "#label the columns\n",
    "vehicle_ads_pivot.columns=['mean_price','number_of_ads']\n",
    "f, axs = plt.subplots(1, 2, figsize=(28, 8))\n",
    "#create a bar graph that plots the mean price for each car type\n",
    "axs[0].bar(vehicle_ads_pivot.index, vehicle_ads_pivot['mean_price'])\n",
    "#create a bar graph that plots the number of ads for each car type\n",
    "axs[1].bar(vehicle_ads_pivot.index, vehicle_ads_pivot['number_of_ads'])\n",
    "plt.setp(axs[0], ylabel='Mean Price')\n",
    "plt.setp(axs[1], ylabel='Number of Ads')\n",
    "plt.setp(axs[:], xlabel='Types of Cars')\n",
    "plt.suptitle(\"The Average Price and the Number of Ads per Car Type\")\n",
    "plt.show()"
   ]
  },
  {
   "cell_type": "markdown",
   "metadata": {},
   "source": [
    "##### Conclusions"
   ]
  },
  {
   "cell_type": "markdown",
   "metadata": {},
   "source": [
    "The **most expensive** cars are buses, pickups, and trucks. The **least expensive** cars are hatchbacks, sedans, and mini-vans.\n",
    "\n",
    "The **most frequently listed** cars are SUVs, sedans, and trucks. The **least frequently listed** cars are buses, off-road vehicles, and convertibles. "
   ]
  },
  {
   "cell_type": "markdown",
   "metadata": {},
   "source": [
    "#### Correlation Matrix For Average Price"
   ]
  },
  {
   "cell_type": "code",
   "execution_count": 33,
   "metadata": {},
   "outputs": [
    {
     "data": {
      "text/plain": [
       "index         -0.005573\n",
       "price          1.000000\n",
       "model_year     0.519205\n",
       "cylinders      0.295748\n",
       "odometer      -0.423558\n",
       "is_4wd         0.342061\n",
       "days_listed    0.001601\n",
       "year_posted    0.009607\n",
       "vehicle_age   -0.517279\n",
       "avg_mileage    0.254044\n",
       "Name: price, dtype: float64"
      ]
     },
     "metadata": {},
     "output_type": "display_data"
    },
    {
     "data": {
      "text/plain": [
       "index         -0.007544\n",
       "price          0.254044\n",
       "model_year     0.556201\n",
       "cylinders     -0.030969\n",
       "odometer       0.130851\n",
       "is_4wd         0.042918\n",
       "days_listed    0.001491\n",
       "year_posted   -0.111031\n",
       "vehicle_age   -0.565143\n",
       "avg_mileage    1.000000\n",
       "Name: avg_mileage, dtype: float64"
      ]
     },
     "execution_count": 33,
     "metadata": {},
     "output_type": "execute_result"
    }
   ],
   "source": [
    "#correlation matrix for price\n",
    "display(vehicle_ads_trimmed.corr()['price'])\n",
    "#correlation matrix for average mileage\n",
    "vehicle_ads_trimmed.corr()['avg_mileage']"
   ]
  },
  {
   "cell_type": "markdown",
   "metadata": {},
   "source": [
    "##### Conclusions"
   ]
  },
  {
   "cell_type": "markdown",
   "metadata": {},
   "source": [
    "The factors that are **highly positively correlated** with `price` are `model_year`, `cylinders`, and `is_4wd`. All of these make sense as the newer the car, the more cylinders and the addition of a four wheel drive feature will all increase the value of a car. \n",
    " \n",
    "The factors that are **highly negatively correlated** with `price` are `odometer` and `vehicle_age`.  These also seem to make sense since as the value of a car will go down as the vehicle ages and has more miles on it.\n",
    " \n",
    "Lastly, I was surprised to see that `avg_mileage` was positively correlated with `price`, but I think this has to do with the fact that `avg_mileage` is **highly positively correlated** with `model_year` (i.e. newer cars have more average miles). "
   ]
  },
  {
   "cell_type": "markdown",
   "metadata": {},
   "source": [
    "#### Price and Odometer"
   ]
  },
  {
   "cell_type": "code",
   "execution_count": 34,
   "metadata": {},
   "outputs": [
    {
     "data": {
      "image/png": "[encoded data removed]",
      "text/plain": [
       "<Figure size 864x216 with 2 Axes>"
      ]
     },
     "metadata": {
      "needs_background": "light"
     },
     "output_type": "display_data"
    }
   ],
   "source": [
    "#creating scatterplots with trendline to look at the relationship between price and vehicle age/odomter(miles)\n",
    "f, axs = plt.subplots(1, 2, figsize=(12, 3))\n",
    "axs[0].scatter(x=vehicle_ads_trimmed['vehicle_age'], y=vehicle_ads_trimmed['price'])\n",
    "axs[0].set_xlabel('Vehicle Age')\n",
    "axs[0].set_ylabel('Price')\n",
    "x_1 = vehicle_ads_trimmed['vehicle_age']\n",
    "y = vehicle_ads_trimmed['price']\n",
    "z_1 = np.polyfit(x_1,y,1)\n",
    "p_1 = np.poly1d(z_1)\n",
    "axs[0].plot(x_1,p_1(x_1),\"r--\")\n",
    "axs[1].scatter(x=vehicle_ads_trimmed['odometer'], y=vehicle_ads_trimmed['price'])\n",
    "axs[1].set_xlabel('Odometer(Miles)')\n",
    "axs[1].set_ylabel('Price')\n",
    "x = vehicle_ads_trimmed['odometer']\n",
    "y = vehicle_ads_trimmed['price']\n",
    "z = np.polyfit(x,y,1)\n",
    "p = np.poly1d(z)\n",
    "axs[1].plot(x,p(x),\"r--\")\n",
    "plt.suptitle(\"Scatterplots of Price and Vehicle Age/Odometer(Miles) with Trendlines\")\n",
    "plt.show()"
   ]
  },
  {
   "cell_type": "markdown",
   "metadata": {},
   "source": [
    "##### Conclusions"
   ]
  },
  {
   "cell_type": "markdown",
   "metadata": {},
   "source": [
    "While it is hard to infer much by looking at these graphs, the trend lines inform us that `vehicle_age` and `odometer` have **negative relationships** with `price`. "
   ]
  },
  {
   "cell_type": "markdown",
   "metadata": {},
   "source": [
    "#### Price and Categorical Variables"
   ]
  },
  {
   "cell_type": "markdown",
   "metadata": {},
   "source": [
    "##### Checking for Values that Occur Less than 50 Times Among our Categorical Variables"
   ]
  },
  {
   "cell_type": "code",
   "execution_count": 46,
   "metadata": {},
   "outputs": [
    {
     "data": {
      "text/plain": [
       "[electric    6\n",
       " Name: fuel, dtype: int64,\n",
       " bus    23\n",
       " Name: type, dtype: int64]"
      ]
     },
     "execution_count": 46,
     "metadata": {},
     "output_type": "execute_result"
    }
   ],
   "source": [
    "#looking at value counts to remove values of variables that occur less than 50 times\n",
    "variables = []\n",
    "#for all categorical columns besides model and car brand\n",
    "for x in vehicle_ads_trimmed.drop(['model','car_brand'],axis=1).select_dtypes(include='object').columns:\n",
    "    #if they contain a value that occus less than 50 times\n",
    "    if len(vehicle_ads_trimmed[x].value_counts().loc[lambda x : x<50]) > 0:\n",
    "        #add that value to the list\n",
    "        variables.append(vehicle_ads_trimmed[x].value_counts().loc[lambda x : x<50])\n",
    "    \n",
    "variables"
   ]
  },
  {
   "cell_type": "markdown",
   "metadata": {},
   "source": [
    "###### Conclusions"
   ]
  },
  {
   "cell_type": "markdown",
   "metadata": {},
   "source": [
    "The only values that occurred less than 50 times were cars whose `type` was **buses** and whose `fuel` was **electric**. "
   ]
  },
  {
   "cell_type": "markdown",
   "metadata": {},
   "source": [
    "##### Boxplots of Price and Categorical Variables"
   ]
  },
  {
   "cell_type": "code",
   "execution_count": 48,
   "metadata": {},
   "outputs": [
    {
     "data": {
      "image/png": "[encoded data removed]",
      "text/plain": [
       "<Figure size 1152x1152 with 7 Axes>"
      ]
     },
     "metadata": {
      "needs_background": "light"
     },
     "output_type": "display_data"
    }
   ],
   "source": [
    "#creating boxplots to look at the relationship between price and categorical variables\n",
    "fig3 = plt.figure(figsize=(16,16),tight_layout=True)\n",
    "gs = fig3.add_gridspec(3, 4)\n",
    "f3_ax1 = fig3.add_subplot(gs[0, 0])\n",
    "sns.boxplot(ax=f3_ax1, x='price', y='condition', data= vehicle_ads_trimmed)\n",
    "f3_ax2 = fig3.add_subplot(gs[1, 0])\n",
    "sns.boxplot(ax=f3_ax2, x='price', y='transmission', data= vehicle_ads_trimmed)\n",
    "f3_ax3 = fig3.add_subplot(gs[2, 0])\n",
    "sns.boxplot(ax=f3_ax3, x='price', y='fuel', data= vehicle_ads_trimmed[vehicle_ads_trimmed['fuel']!='electric'])\n",
    "f3_ax5 = fig3.add_subplot(gs[0:2, 1])\n",
    "sns.boxplot(ax=f3_ax5, x='price', y='month_posted', data= vehicle_ads_trimmed)\n",
    "f3_ax6 = fig3.add_subplot(gs[2, 1])\n",
    "sns.boxplot(ax=f3_ax6, x='price', y='day_of_week_posted', data= vehicle_ads_trimmed)\n",
    "f3_ax7 = fig3.add_subplot(gs[:, 2])\n",
    "sns.boxplot(ax=f3_ax7, x='price', y='type', data= vehicle_ads_trimmed[vehicle_ads_trimmed['type']!='bus'])\n",
    "f3_ax8 = fig3.add_subplot(gs[:, 3])\n",
    "sns.boxplot(ax=f3_ax8, x='price', y='paint_color', data= vehicle_ads_trimmed)\n",
    "plt.show()"
   ]
  },
  {
   "cell_type": "markdown",
   "metadata": {},
   "source": [
    "###### Conclusions"
   ]
  },
  {
   "cell_type": "markdown",
   "metadata": {},
   "source": [
    "- `condition`: excellent, good, and like new cars have much higher **median** prices than fair and salvaged cars. \n",
    "\n",
    "- `transmission`: automatic and manual cars are fairly similar in price, yet cars with other types of transmissions have higher **median** prices. \n",
    "\n",
    "- `fuel`: cars that take diesel or non-standard types of fuel have higher **median** prices  \n",
    "\n",
    "- `month_posted`: No clear differences\n",
    "\n",
    "- `month_posted`: No clear differences\n",
    "\n",
    "- `type`: trucks, pickups, and coupes have higher **median** prices\n",
    "\n",
    "- `paint_color`: orange and yellow cars have higher **median** prices"
   ]
  },
  {
   "cell_type": "markdown",
   "metadata": {},
   "source": [
    "##### Regression on Price"
   ]
  },
  {
   "cell_type": "code",
   "execution_count": 51,
   "metadata": {},
   "outputs": [
    {
     "name": "stdout",
     "output_type": "stream",
     "text": [
      "                                 OLS Regression Results                                \n",
      "=======================================================================================\n",
      "Dep. Variable:                  price   R-squared (uncentered):                   0.801\n",
      "Model:                            OLS   Adj. R-squared (uncentered):              0.801\n",
      "Method:                 Least Squares   F-statistic:                          2.773e+04\n",
      "Date:                Sun, 06 Feb 2022   Prob (F-statistic):                        0.00\n",
      "Time:                        12:15:26   Log-Likelihood:                     -4.9210e+05\n",
      "No. Observations:               48336   AIC:                                  9.842e+05\n",
      "Df Residuals:                   48329   BIC:                                  9.843e+05\n",
      "Df Model:                           7                                                  \n",
      "Covariance Type:            nonrobust                                                  \n",
      "======================================================================================\n",
      "                         coef    std err          t      P>|t|      [0.025      0.975]\n",
      "--------------------------------------------------------------------------------------\n",
      "model_year             2.8870      0.107     26.977      0.000       2.677       3.097\n",
      "cylinders           1087.3171     20.377     53.361      0.000    1047.378    1127.256\n",
      "odometer              -0.0708      0.001   -130.073      0.000      -0.072      -0.070\n",
      "is_4wd              4017.4837     63.614     63.154      0.000    3892.799    4142.168\n",
      "condition_dummy     4750.8645    167.693     28.331      0.000    4422.185    5079.545\n",
      "transmission_dummy  1136.6300    163.976      6.932      0.000     815.235    1458.025\n",
      "fuel_dummy          8775.2452    118.775     73.881      0.000    8542.445    9008.045\n",
      "==============================================================================\n",
      "Omnibus:                     1861.259   Durbin-Watson:                   1.570\n",
      "Prob(Omnibus):                  0.000   Jarque-Bera (JB):             5762.856\n",
      "Skew:                          -0.053   Prob(JB):                         0.00\n",
      "Kurtosis:                       4.688   Cond. No.                     7.35e+05\n",
      "==============================================================================\n",
      "\n",
      "Notes:\n",
      "[1] R² is computed without centering (uncentered) since the model does not contain a constant.\n",
      "[2] Standard Errors assume that the covariance matrix of the errors is correctly specified.\n",
      "[3] The condition number is large, 7.35e+05. This might indicate that there are\n",
      "strong multicollinearity or other numerical problems.\n"
     ]
    }
   ],
   "source": [
    "#creating dummy variables for conditon, transmission and fuel to run a regression to see what predicts price\n",
    "#creating a dummy variable which is 1 when the vehicle is not in a fair of salvage condition\n",
    "vehicle_ads_trimmed['condition_dummy'] = 0\n",
    "vehicle_ads_trimmed.loc[(vehicle_ads_trimmed['condition'] != 'fair') & (vehicle_ads_trimmed['condition'] != 'salvage'), 'condition_dummy'] = 1\n",
    "\n",
    "#creating a dummy variable which is 1 if the transmission is not standard\n",
    "vehicle_ads_trimmed['transmission_dummy'] = 0\n",
    "vehicle_ads_trimmed.loc[(vehicle_ads_trimmed['transmission'] == 'other'), 'transmission_dummy'] = 1\n",
    "\n",
    "#creating a dummy variable where fuel is not standard\n",
    "vehicle_ads_trimmed['fuel_dummy'] = 0\n",
    "vehicle_ads_trimmed.loc[(vehicle_ads_trimmed['fuel'] != 'gas') & (vehicle_ads_trimmed['fuel'] != 'hybrid'), 'fuel_dummy'] = 1\n",
    "\n",
    "#running a regression \n",
    "#setting our dependent variable\n",
    "y = vehicle_ads_trimmed['price']\n",
    "#setting our independent variables\n",
    "x = vehicle_ads_trimmed[['model_year','cylinders','odometer','is_4wd','condition_dummy','transmission_dummy','fuel_dummy']]\n",
    "# Fit the model\n",
    "model = sm.OLS(y, x)\n",
    "results = model.fit()\n",
    "print(results.summary())"
   ]
  },
  {
   "cell_type": "markdown",
   "metadata": {},
   "source": [
    "###### Conclusions"
   ]
  },
  {
   "cell_type": "markdown",
   "metadata": {},
   "source": [
    "- `model_year`: A 1 year increase in the year of the car **increases** the average price of a car by **\\$2.89** holding other variables constant. \n",
    "- `cylinders`: A increase of 1 cylinder in the car **increases** the average price of a car by **\\$1,087.32** holding other variables constant. \n",
    "- `odometer`: A increase of 100 more driven miles **decreases** the average price of a car by **\\$7.08** holding other variables constant. \n",
    "- `is_4wd`: Having 4-wheel drive **increases** the average price of a car by **\\$4,017.48** holding other variables constant. \n",
    "- `condition_dummy`: Having a car in excellent, good, like new, or new condition **increases** the average price of a car by **\\$4750.86** holding other variables constant. \n",
    "- `transmission_dummy`: Having a car with a non-standard transmission **increases** the average price of a car by **\\$1136.63** holding other variables constant. \n",
    "- `fuel_dummy`: Having a car with a non-standard fuel **increases** the average price of a car by **\\$8775.24** holding other variables constant. "
   ]
  },
  {
   "cell_type": "markdown",
   "metadata": {},
   "source": [
    "## Overall conclusion"
   ]
  },
  {
   "cell_type": "markdown",
   "metadata": {},
   "source": [
    "**Cleaning Summary:** \n",
    "- 4 variables had missing values (`model_year`, `cylinders`, `odometer`, `paint_color`, and `is_4wd`). \n",
    "- Each variable was missing at least 7% of their observations. \n",
    "- `model_year` and `odometer` had their missing values replaced with the median, due to a significant difference in the median and mean. \n",
    "- `cylinder` had its missing values replaced with the mean, since there was no significant difference between the median and mean. \n",
    "- `paint_color` had its missing values replaced with the most common paint_color for that observations car_brand. \n",
    "- To reduce outlier problems, I removed all observations with an absolute z-score value, for any variable, greater than 3. \n",
    "- This trimmed about 6% of the data, which still left us with 48336 observations. \n",
    "\n",
    "**Analysis Summary:**\n",
    "- Ads that had been listed for a short period did not have dramatic differences among other variables from those that had been listed for a long period. This tells us that it is hard to predict what causes a car to be sold quickly. \n",
    "- On average, trucks and pickups are very common and very expensive, sedans and SUVs are also very common, but much cheaper, and off-road vehicles and buses are very rare, but are very expensive. \n",
    "- Overall, it is hard to see much of a relationship between the frequency of the ads and the average price for each car type. \n",
    "- Lastly, we wanted to look at the the factors that impact price the most. \n",
    "    - `model_year`, `cylinders` and `is_4wd` had strong positive correlations with `price`\n",
    "    - `odometer` and `vehicle_age` had strong negative correlations with price. \n",
    "    -  An increase in the cars condition, rare transmissions and fuel types lead to higher average prices. \n",
    "    -  Based on the results of the a linear regression, the car's condition, fuel type, and four wheel drive status have the largest effects on the value of a car.  \n",
    "\n",
    "\n",
    "All in all, I think this project can help Crankshaft List give customers estimates of their car's value, so they can decide the listing price. "
   ]
  }
 ],
 "metadata": {
  "ExecuteTimeLog": [
   {
    "duration": 1563,
    "start_time": "2021-08-02T15:44:34.111Z"
   },
   {
    "duration": 173,
    "start_time": "2021-08-02T15:44:56.272Z"
   },
   {
    "duration": 199,
    "start_time": "2021-08-02T15:45:25.344Z"
   },
   {
    "duration": 193,
    "start_time": "2021-08-02T15:45:32.756Z"
   },
   {
    "duration": 143,
    "start_time": "2021-08-02T15:45:47.140Z"
   },
   {
    "duration": 135,
    "start_time": "2021-08-02T15:47:29.699Z"
   },
   {
    "duration": 452,
    "start_time": "2021-08-02T15:48:15.449Z"
   },
   {
    "duration": 145,
    "start_time": "2021-08-02T15:49:49.422Z"
   },
   {
    "duration": 187,
    "start_time": "2021-08-02T15:50:05.588Z"
   },
   {
    "duration": 432,
    "start_time": "2021-08-02T15:53:02.069Z"
   },
   {
    "duration": 414,
    "start_time": "2021-08-02T15:53:57.278Z"
   },
   {
    "duration": 425,
    "start_time": "2021-08-02T15:54:06.152Z"
   },
   {
    "duration": 146,
    "start_time": "2021-08-02T15:57:20.532Z"
   },
   {
    "duration": 140,
    "start_time": "2021-08-02T15:58:43.280Z"
   },
   {
    "duration": 105,
    "start_time": "2021-08-02T16:01:34.287Z"
   },
   {
    "duration": 165,
    "start_time": "2021-08-02T16:02:06.297Z"
   },
   {
    "duration": 241,
    "start_time": "2021-08-02T16:07:03.271Z"
   },
   {
    "duration": 201,
    "start_time": "2021-08-02T16:07:27.831Z"
   },
   {
    "duration": 210,
    "start_time": "2021-08-02T16:16:10.471Z"
   },
   {
    "duration": 240,
    "start_time": "2021-08-02T16:16:20.950Z"
   },
   {
    "duration": 245,
    "start_time": "2021-08-02T16:18:53.299Z"
   },
   {
    "duration": 211,
    "start_time": "2021-08-02T16:22:15.964Z"
   },
   {
    "duration": 630,
    "start_time": "2021-08-02T16:23:53.341Z"
   },
   {
    "duration": 1389,
    "start_time": "2021-08-02T16:24:03.789Z"
   },
   {
    "duration": 524,
    "start_time": "2021-08-02T16:25:08.479Z"
   },
   {
    "duration": 470,
    "start_time": "2021-08-02T16:25:26.153Z"
   },
   {
    "duration": 521,
    "start_time": "2021-08-02T16:25:39.746Z"
   },
   {
    "duration": 312,
    "start_time": "2021-08-02T16:26:10.532Z"
   },
   {
    "duration": 1757,
    "start_time": "2021-08-02T16:26:33.349Z"
   },
   {
    "duration": 206,
    "start_time": "2021-08-02T16:26:47.094Z"
   },
   {
    "duration": 214,
    "start_time": "2021-08-02T16:26:53.172Z"
   },
   {
    "duration": 203,
    "start_time": "2021-08-02T16:27:10.093Z"
   },
   {
    "duration": 246,
    "start_time": "2021-08-02T16:27:18.886Z"
   },
   {
    "duration": 532,
    "start_time": "2021-08-02T16:27:42.643Z"
   },
   {
    "duration": 213,
    "start_time": "2021-08-02T16:30:13.354Z"
   },
   {
    "duration": 218,
    "start_time": "2021-08-02T16:30:37.065Z"
   },
   {
    "duration": 305,
    "start_time": "2021-08-02T16:30:47.105Z"
   },
   {
    "duration": 12,
    "start_time": "2021-08-02T16:39:23.414Z"
   },
   {
    "duration": 11,
    "start_time": "2021-08-02T16:39:55.479Z"
   },
   {
    "duration": 14,
    "start_time": "2021-08-02T16:41:55.770Z"
   },
   {
    "duration": 9,
    "start_time": "2021-08-02T16:42:04.507Z"
   },
   {
    "duration": 9,
    "start_time": "2021-08-02T16:42:09.047Z"
   },
   {
    "duration": 10,
    "start_time": "2021-08-02T16:42:32.137Z"
   },
   {
    "duration": 10,
    "start_time": "2021-08-02T16:43:54.999Z"
   },
   {
    "duration": 286,
    "start_time": "2021-08-02T16:46:00.564Z"
   },
   {
    "duration": 6436,
    "start_time": "2021-08-02T16:46:05.876Z"
   },
   {
    "duration": 6645,
    "start_time": "2021-08-02T16:46:29.120Z"
   },
   {
    "duration": 125,
    "start_time": "2021-08-02T16:46:48.906Z"
   },
   {
    "duration": 90,
    "start_time": "2021-08-02T16:48:27.200Z"
   },
   {
    "duration": 118,
    "start_time": "2021-08-02T16:48:34.720Z"
   },
   {
    "duration": 302,
    "start_time": "2021-08-02T16:52:09.952Z"
   },
   {
    "duration": 16,
    "start_time": "2021-08-02T16:52:27.990Z"
   },
   {
    "duration": 71,
    "start_time": "2021-08-02T16:52:44.395Z"
   },
   {
    "duration": 19,
    "start_time": "2021-08-02T16:52:49.533Z"
   },
   {
    "duration": 74,
    "start_time": "2021-08-02T16:53:26.762Z"
   },
   {
    "duration": 91,
    "start_time": "2021-08-02T16:53:30.073Z"
   },
   {
    "duration": 108,
    "start_time": "2021-08-02T16:53:33.821Z"
   },
   {
    "duration": 105,
    "start_time": "2021-08-02T16:54:06.371Z"
   },
   {
    "duration": 106,
    "start_time": "2021-08-02T16:54:48.129Z"
   },
   {
    "duration": 133,
    "start_time": "2021-08-02T16:55:24.323Z"
   },
   {
    "duration": 91,
    "start_time": "2021-08-02T16:55:29.163Z"
   },
   {
    "duration": 272,
    "start_time": "2021-08-02T16:56:23.542Z"
   },
   {
    "duration": 297,
    "start_time": "2021-08-02T16:56:40.510Z"
   },
   {
    "duration": 259,
    "start_time": "2021-08-02T16:57:23.242Z"
   },
   {
    "duration": 40,
    "start_time": "2021-08-02T16:57:36.168Z"
   },
   {
    "duration": 18,
    "start_time": "2021-08-02T16:57:42.625Z"
   },
   {
    "duration": 15,
    "start_time": "2021-08-02T16:57:48.010Z"
   },
   {
    "duration": 21,
    "start_time": "2021-08-02T16:58:09.578Z"
   },
   {
    "duration": 15,
    "start_time": "2021-08-02T16:58:13.704Z"
   },
   {
    "duration": 303,
    "start_time": "2021-08-02T17:10:15.364Z"
   },
   {
    "duration": 42,
    "start_time": "2021-08-02T17:11:26.840Z"
   },
   {
    "duration": 40,
    "start_time": "2021-08-02T17:12:05.834Z"
   },
   {
    "duration": 46,
    "start_time": "2021-08-02T17:12:10.551Z"
   },
   {
    "duration": 20,
    "start_time": "2021-08-02T17:19:17.981Z"
   },
   {
    "duration": 297,
    "start_time": "2021-08-02T17:23:30.111Z"
   },
   {
    "duration": 305,
    "start_time": "2021-08-02T17:24:05.944Z"
   },
   {
    "duration": 292,
    "start_time": "2021-08-02T17:24:10.798Z"
   },
   {
    "duration": 278,
    "start_time": "2021-08-02T17:25:19.162Z"
   },
   {
    "duration": 321,
    "start_time": "2021-08-02T17:27:20.696Z"
   },
   {
    "duration": 323,
    "start_time": "2021-08-02T17:27:46.949Z"
   },
   {
    "duration": 132,
    "start_time": "2021-08-02T17:28:05.716Z"
   },
   {
    "duration": 97,
    "start_time": "2021-08-02T17:29:16.891Z"
   },
   {
    "duration": 166,
    "start_time": "2021-08-02T17:29:23.921Z"
   },
   {
    "duration": 199,
    "start_time": "2021-08-02T17:29:55.709Z"
   },
   {
    "duration": 111,
    "start_time": "2021-08-02T17:36:46.093Z"
   },
   {
    "duration": 582,
    "start_time": "2021-08-02T17:36:59.144Z"
   },
   {
    "duration": 440,
    "start_time": "2021-08-02T17:37:11.506Z"
   },
   {
    "duration": 505,
    "start_time": "2021-08-02T17:37:46.313Z"
   },
   {
    "duration": 91,
    "start_time": "2021-08-02T17:38:33.102Z"
   },
   {
    "duration": 102,
    "start_time": "2021-08-02T17:38:44.913Z"
   },
   {
    "duration": 7639,
    "start_time": "2021-08-02T17:38:52.014Z"
   },
   {
    "duration": 8844,
    "start_time": "2021-08-02T17:39:44.744Z"
   },
   {
    "duration": 7952,
    "start_time": "2021-08-02T17:40:49.744Z"
   },
   {
    "duration": 5810,
    "start_time": "2021-08-02T17:46:43.181Z"
   },
   {
    "duration": 6817,
    "start_time": "2021-08-02T17:46:57.848Z"
   },
   {
    "duration": 6656,
    "start_time": "2021-08-02T17:47:29.355Z"
   },
   {
    "duration": 5436,
    "start_time": "2021-08-02T17:48:25.563Z"
   },
   {
    "duration": 6401,
    "start_time": "2021-08-02T17:52:02.095Z"
   },
   {
    "duration": 7789,
    "start_time": "2021-08-02T17:52:55.455Z"
   },
   {
    "duration": 657,
    "start_time": "2021-08-02T17:54:08.247Z"
   },
   {
    "duration": 5580,
    "start_time": "2021-08-02T17:54:17.010Z"
   },
   {
    "duration": 6267,
    "start_time": "2021-08-02T17:54:50.069Z"
   },
   {
    "duration": 6515,
    "start_time": "2021-08-02T17:55:22.059Z"
   },
   {
    "duration": 6637,
    "start_time": "2021-08-02T17:55:35.169Z"
   },
   {
    "duration": 5229,
    "start_time": "2021-08-02T17:56:09.688Z"
   },
   {
    "duration": 6126,
    "start_time": "2021-08-02T17:56:31.048Z"
   },
   {
    "duration": 6357,
    "start_time": "2021-08-02T17:56:54.565Z"
   },
   {
    "duration": 5282,
    "start_time": "2021-08-02T18:01:27.506Z"
   },
   {
    "duration": 5752,
    "start_time": "2021-08-02T18:02:48.459Z"
   },
   {
    "duration": 4096,
    "start_time": "2021-08-02T18:04:55.951Z"
   },
   {
    "duration": 4906,
    "start_time": "2021-08-02T18:09:59.136Z"
   },
   {
    "duration": 99,
    "start_time": "2021-08-02T18:11:03.864Z"
   },
   {
    "duration": 90,
    "start_time": "2021-08-02T18:11:14.547Z"
   },
   {
    "duration": 489,
    "start_time": "2021-08-02T18:11:25.358Z"
   },
   {
    "duration": 5752,
    "start_time": "2021-08-02T18:11:51.874Z"
   },
   {
    "duration": 4709,
    "start_time": "2021-08-02T18:12:20.001Z"
   },
   {
    "duration": 4521,
    "start_time": "2021-08-02T18:16:42.318Z"
   },
   {
    "duration": 4707,
    "start_time": "2021-08-02T18:17:26.309Z"
   },
   {
    "duration": 4075,
    "start_time": "2021-08-02T18:19:35.688Z"
   },
   {
    "duration": 4427,
    "start_time": "2021-08-02T18:21:03.902Z"
   },
   {
    "duration": 4560,
    "start_time": "2021-08-02T18:23:00.854Z"
   },
   {
    "duration": 4935,
    "start_time": "2021-08-02T18:23:15.412Z"
   },
   {
    "duration": 790,
    "start_time": "2021-08-02T18:29:32.856Z"
   },
   {
    "duration": 5216,
    "start_time": "2021-08-02T18:29:38.299Z"
   },
   {
    "duration": 265,
    "start_time": "2021-08-02T18:29:49.310Z"
   },
   {
    "duration": 228,
    "start_time": "2021-08-02T18:29:59.439Z"
   },
   {
    "duration": 246,
    "start_time": "2021-08-02T18:30:16.574Z"
   },
   {
    "duration": 100,
    "start_time": "2021-08-02T18:31:02.040Z"
   },
   {
    "duration": 100,
    "start_time": "2021-08-02T18:31:09.711Z"
   },
   {
    "duration": 6100,
    "start_time": "2021-08-02T18:31:31.538Z"
   },
   {
    "duration": 4607,
    "start_time": "2021-08-02T18:31:37.641Z"
   },
   {
    "duration": 4856,
    "start_time": "2021-08-02T18:34:44.596Z"
   },
   {
    "duration": 4576,
    "start_time": "2021-08-02T18:35:00.229Z"
   },
   {
    "duration": 4724,
    "start_time": "2021-08-02T18:37:30.049Z"
   },
   {
    "duration": 69,
    "start_time": "2021-08-02T18:38:33.491Z"
   },
   {
    "duration": -697,
    "start_time": "2021-08-02T18:38:58.787Z"
   },
   {
    "duration": 306,
    "start_time": "2021-08-02T18:38:59.552Z"
   },
   {
    "duration": -730,
    "start_time": "2021-08-02T18:39:15.724Z"
   },
   {
    "duration": 94,
    "start_time": "2021-08-02T18:39:16.124Z"
   },
   {
    "duration": 350,
    "start_time": "2021-08-02T18:40:33.507Z"
   },
   {
    "duration": 366,
    "start_time": "2021-08-02T18:40:39.215Z"
   },
   {
    "duration": 70,
    "start_time": "2021-08-02T18:40:51.144Z"
   },
   {
    "duration": 66,
    "start_time": "2021-08-02T18:41:10.483Z"
   },
   {
    "duration": 62,
    "start_time": "2021-08-02T18:41:19.407Z"
   },
   {
    "duration": 74,
    "start_time": "2021-08-02T18:43:52.516Z"
   },
   {
    "duration": 101,
    "start_time": "2021-08-02T18:43:58.690Z"
   },
   {
    "duration": 742,
    "start_time": "2021-08-02T18:44:02.156Z"
   },
   {
    "duration": 646,
    "start_time": "2021-08-02T18:44:24.840Z"
   },
   {
    "duration": 932,
    "start_time": "2021-08-02T18:44:50.760Z"
   },
   {
    "duration": 946,
    "start_time": "2021-08-02T18:46:20.565Z"
   },
   {
    "duration": 650,
    "start_time": "2021-08-02T18:46:49.277Z"
   },
   {
    "duration": 4908,
    "start_time": "2021-08-02T18:52:30.735Z"
   },
   {
    "duration": 5026,
    "start_time": "2021-08-02T18:55:49.885Z"
   },
   {
    "duration": 5129,
    "start_time": "2021-08-02T18:57:11.712Z"
   },
   {
    "duration": -503,
    "start_time": "2021-08-02T18:59:11.281Z"
   },
   {
    "duration": 5912,
    "start_time": "2021-08-02T18:59:11.770Z"
   },
   {
    "duration": 5462,
    "start_time": "2021-08-02T18:59:58.981Z"
   },
   {
    "duration": 9012,
    "start_time": "2021-08-02T19:02:02.007Z"
   },
   {
    "duration": 7264,
    "start_time": "2021-08-02T19:03:53.623Z"
   },
   {
    "duration": 7538,
    "start_time": "2021-08-02T19:05:20.875Z"
   },
   {
    "duration": 4919,
    "start_time": "2021-08-02T19:06:28.069Z"
   },
   {
    "duration": 5025,
    "start_time": "2021-08-02T19:06:47.080Z"
   },
   {
    "duration": 5414,
    "start_time": "2021-08-02T19:08:59.181Z"
   },
   {
    "duration": 5039,
    "start_time": "2021-08-02T19:09:15.264Z"
   },
   {
    "duration": 5093,
    "start_time": "2021-08-02T19:11:42.310Z"
   },
   {
    "duration": 423,
    "start_time": "2021-08-02T19:11:58.203Z"
   },
   {
    "duration": 6650,
    "start_time": "2021-08-02T19:12:29.607Z"
   },
   {
    "duration": 4638,
    "start_time": "2021-08-02T19:12:57.615Z"
   },
   {
    "duration": 5404,
    "start_time": "2021-08-02T19:13:40.913Z"
   },
   {
    "duration": 5877,
    "start_time": "2021-08-02T19:16:50.593Z"
   },
   {
    "duration": 5390,
    "start_time": "2021-08-02T19:17:19.086Z"
   },
   {
    "duration": 5394,
    "start_time": "2021-08-02T19:17:51.019Z"
   },
   {
    "duration": 5171,
    "start_time": "2021-08-02T19:18:11.893Z"
   },
   {
    "duration": 7456,
    "start_time": "2021-08-02T19:23:46.295Z"
   },
   {
    "duration": 3361,
    "start_time": "2021-08-02T19:25:42.634Z"
   },
   {
    "duration": 5269,
    "start_time": "2021-08-02T19:25:50.618Z"
   },
   {
    "duration": 4921,
    "start_time": "2021-08-02T19:26:14.103Z"
   },
   {
    "duration": 6141,
    "start_time": "2021-08-02T19:26:49.158Z"
   },
   {
    "duration": 5387,
    "start_time": "2021-08-02T19:27:03.658Z"
   },
   {
    "duration": 5314,
    "start_time": "2021-08-02T19:27:23.657Z"
   },
   {
    "duration": 8094,
    "start_time": "2021-08-02T19:29:05.329Z"
   },
   {
    "duration": 6014,
    "start_time": "2021-08-02T19:29:32.775Z"
   },
   {
    "duration": 8062,
    "start_time": "2021-08-02T19:34:06.939Z"
   },
   {
    "duration": 8204,
    "start_time": "2021-08-02T19:38:00.619Z"
   },
   {
    "duration": 5430,
    "start_time": "2021-08-02T19:39:58.113Z"
   },
   {
    "duration": 5605,
    "start_time": "2021-08-02T19:40:39.265Z"
   },
   {
    "duration": 4979,
    "start_time": "2021-08-02T19:41:23.845Z"
   },
   {
    "duration": 5282,
    "start_time": "2021-08-02T19:50:41.189Z"
   },
   {
    "duration": 5390,
    "start_time": "2021-08-02T19:50:55.012Z"
   },
   {
    "duration": 6078,
    "start_time": "2021-08-02T20:09:25.776Z"
   },
   {
    "duration": 6424,
    "start_time": "2021-08-02T20:14:22.633Z"
   },
   {
    "duration": 6049,
    "start_time": "2021-08-02T20:15:52.892Z"
   },
   {
    "duration": 6962,
    "start_time": "2021-08-02T20:17:10.755Z"
   },
   {
    "duration": 35,
    "start_time": "2021-08-02T20:20:16.015Z"
   },
   {
    "duration": 69,
    "start_time": "2021-08-02T20:20:23.323Z"
   },
   {
    "duration": 5964,
    "start_time": "2021-08-02T20:22:55.588Z"
   },
   {
    "duration": 313,
    "start_time": "2021-08-02T20:24:47.309Z"
   },
   {
    "duration": 1037,
    "start_time": "2021-08-02T20:25:17.700Z"
   },
   {
    "duration": 4736,
    "start_time": "2021-08-02T20:27:08.082Z"
   },
   {
    "duration": 6067,
    "start_time": "2021-08-02T20:27:22.396Z"
   },
   {
    "duration": 396,
    "start_time": "2021-08-02T20:27:34.001Z"
   },
   {
    "duration": 76,
    "start_time": "2021-08-02T20:28:07.055Z"
   },
   {
    "duration": 61,
    "start_time": "2021-08-02T20:28:55.422Z"
   },
   {
    "duration": 10134,
    "start_time": "2021-08-02T20:55:01.911Z"
   },
   {
    "duration": 5523,
    "start_time": "2021-08-02T20:56:15.346Z"
   },
   {
    "duration": 5622,
    "start_time": "2021-08-02T20:57:05.813Z"
   },
   {
    "duration": 4626,
    "start_time": "2021-08-02T20:57:52.187Z"
   },
   {
    "duration": 5467,
    "start_time": "2021-08-02T20:57:56.818Z"
   },
   {
    "duration": 84,
    "start_time": "2021-08-02T20:58:02.288Z"
   },
   {
    "duration": 404,
    "start_time": "2021-08-02T21:12:16.691Z"
   },
   {
    "duration": 583,
    "start_time": "2021-08-02T21:13:27.081Z"
   },
   {
    "duration": 924,
    "start_time": "2021-08-02T21:13:38.591Z"
   },
   {
    "duration": 551,
    "start_time": "2021-08-02T21:15:05.760Z"
   },
   {
    "duration": 393,
    "start_time": "2021-08-02T21:15:43.885Z"
   },
   {
    "duration": 582,
    "start_time": "2021-08-02T21:16:56.064Z"
   },
   {
    "duration": 566,
    "start_time": "2021-08-02T21:17:05.017Z"
   },
   {
    "duration": 924,
    "start_time": "2021-08-02T21:17:54.268Z"
   },
   {
    "duration": 578,
    "start_time": "2021-08-02T21:18:16.386Z"
   },
   {
    "duration": 555,
    "start_time": "2021-08-02T21:18:37.203Z"
   },
   {
    "duration": 526,
    "start_time": "2021-08-02T21:19:18.955Z"
   },
   {
    "duration": 853,
    "start_time": "2021-08-02T21:20:54.715Z"
   },
   {
    "duration": 722,
    "start_time": "2021-08-02T21:21:13.695Z"
   },
   {
    "duration": 2820,
    "start_time": "2021-08-02T21:21:41.282Z"
   },
   {
    "duration": 4532,
    "start_time": "2021-08-02T21:24:29.193Z"
   },
   {
    "duration": 5300,
    "start_time": "2021-08-02T21:24:33.728Z"
   },
   {
    "duration": 80,
    "start_time": "2021-08-02T21:24:39.032Z"
   },
   {
    "duration": 669,
    "start_time": "2021-08-02T21:24:39.115Z"
   },
   {
    "duration": 599,
    "start_time": "2021-08-02T21:25:07.163Z"
   },
   {
    "duration": 593,
    "start_time": "2021-08-02T21:25:12.443Z"
   },
   {
    "duration": 9503,
    "start_time": "2021-08-02T21:26:28.225Z"
   },
   {
    "duration": 546,
    "start_time": "2021-08-02T21:27:35.846Z"
   },
   {
    "duration": 635,
    "start_time": "2021-08-02T21:27:49.761Z"
   },
   {
    "duration": 1384,
    "start_time": "2021-08-02T21:28:31.364Z"
   },
   {
    "duration": 1212,
    "start_time": "2021-08-02T21:28:51.609Z"
   },
   {
    "duration": 1273,
    "start_time": "2021-08-02T21:29:11.452Z"
   },
   {
    "duration": 4309,
    "start_time": "2021-08-02T21:29:31.655Z"
   },
   {
    "duration": 4399,
    "start_time": "2021-08-02T21:29:51.168Z"
   },
   {
    "duration": 1240,
    "start_time": "2021-08-02T21:30:20.178Z"
   },
   {
    "duration": 1239,
    "start_time": "2021-08-02T21:30:37.289Z"
   },
   {
    "duration": 1228,
    "start_time": "2021-08-02T21:30:43.013Z"
   },
   {
    "duration": 89,
    "start_time": "2021-08-02T21:34:27.057Z"
   },
   {
    "duration": 3967,
    "start_time": "2021-08-02T21:34:32.220Z"
   },
   {
    "duration": -290,
    "start_time": "2021-08-02T21:36:30.812Z"
   },
   {
    "duration": 6914,
    "start_time": "2021-08-02T21:36:36.120Z"
   },
   {
    "duration": 16,
    "start_time": "2021-08-02T21:37:00.354Z"
   },
   {
    "duration": 12,
    "start_time": "2021-08-02T21:37:22.120Z"
   },
   {
    "duration": 304,
    "start_time": "2021-08-02T21:38:35.733Z"
   },
   {
    "duration": 318,
    "start_time": "2021-08-02T21:40:05.436Z"
   },
   {
    "duration": 332,
    "start_time": "2021-08-02T21:40:15.891Z"
   },
   {
    "duration": 9408,
    "start_time": "2021-08-02T21:42:21.297Z"
   },
   {
    "duration": 6424,
    "start_time": "2021-08-02T21:42:47.445Z"
   },
   {
    "duration": 331,
    "start_time": "2021-08-02T21:43:51.180Z"
   },
   {
    "duration": 55,
    "start_time": "2021-08-02T21:44:01.909Z"
   },
   {
    "duration": 56,
    "start_time": "2021-08-02T21:44:38.310Z"
   },
   {
    "duration": 14,
    "start_time": "2021-08-02T21:44:46.363Z"
   },
   {
    "duration": 15,
    "start_time": "2021-08-02T21:44:58.149Z"
   },
   {
    "duration": 14,
    "start_time": "2021-08-02T21:45:04.690Z"
   },
   {
    "duration": 4426,
    "start_time": "2021-08-02T21:45:22.402Z"
   },
   {
    "duration": 5245,
    "start_time": "2021-08-02T21:45:26.831Z"
   },
   {
    "duration": 71,
    "start_time": "2021-08-02T21:45:32.079Z"
   },
   {
    "duration": 17,
    "start_time": "2021-08-02T21:45:32.163Z"
   },
   {
    "duration": 12,
    "start_time": "2021-08-02T21:45:48.058Z"
   },
   {
    "duration": 96,
    "start_time": "2021-08-02T21:47:32.837Z"
   },
   {
    "duration": 91,
    "start_time": "2021-08-02T21:47:47.312Z"
   },
   {
    "duration": 88,
    "start_time": "2021-08-02T21:48:10.572Z"
   },
   {
    "duration": 6647,
    "start_time": "2021-08-02T21:48:17.840Z"
   },
   {
    "duration": 60,
    "start_time": "2021-08-02T21:51:00.858Z"
   },
   {
    "duration": 14,
    "start_time": "2021-08-02T21:51:04.392Z"
   },
   {
    "duration": 14,
    "start_time": "2021-08-02T21:51:10.740Z"
   },
   {
    "duration": 3858,
    "start_time": "2021-08-02T21:52:44.026Z"
   },
   {
    "duration": 13,
    "start_time": "2021-08-02T21:53:26.016Z"
   },
   {
    "duration": 5590,
    "start_time": "2021-08-02T21:53:46.753Z"
   },
   {
    "duration": 83,
    "start_time": "2021-08-02T21:54:32.145Z"
   },
   {
    "duration": 4163,
    "start_time": "2021-08-02T21:54:41.262Z"
   },
   {
    "duration": 70,
    "start_time": "2021-08-02T21:57:51.363Z"
   },
   {
    "duration": 76,
    "start_time": "2021-08-02T21:57:55.001Z"
   },
   {
    "duration": 1027,
    "start_time": "2021-08-02T21:58:02.890Z"
   },
   {
    "duration": 903,
    "start_time": "2021-08-02T21:58:17.803Z"
   },
   {
    "duration": 81,
    "start_time": "2021-08-02T21:58:34.963Z"
   },
   {
    "duration": 3828,
    "start_time": "2021-08-02T21:58:55.056Z"
   },
   {
    "duration": 3716,
    "start_time": "2021-08-02T22:00:14.578Z"
   },
   {
    "duration": 3891,
    "start_time": "2021-08-02T22:00:55.978Z"
   },
   {
    "duration": 3823,
    "start_time": "2021-08-02T22:01:24.803Z"
   },
   {
    "duration": 11805,
    "start_time": "2021-08-02T22:01:35.746Z"
   },
   {
    "duration": 4093,
    "start_time": "2021-08-02T22:02:10.455Z"
   },
   {
    "duration": 4345,
    "start_time": "2021-08-02T22:04:38.478Z"
   },
   {
    "duration": 4490,
    "start_time": "2021-08-02T22:05:13.140Z"
   },
   {
    "duration": 4448,
    "start_time": "2021-08-02T22:05:38.218Z"
   },
   {
    "duration": 3847,
    "start_time": "2021-08-02T22:06:46.141Z"
   },
   {
    "duration": 5104,
    "start_time": "2021-08-02T22:07:17.403Z"
   },
   {
    "duration": 106,
    "start_time": "2021-08-02T22:08:37.383Z"
   },
   {
    "duration": 7914,
    "start_time": "2021-08-02T22:08:45.658Z"
   },
   {
    "duration": 8086,
    "start_time": "2021-08-02T22:16:33.897Z"
   },
   {
    "duration": 7951,
    "start_time": "2021-08-02T22:17:07.288Z"
   },
   {
    "duration": 8049,
    "start_time": "2021-08-02T22:17:42.167Z"
   },
   {
    "duration": 8025,
    "start_time": "2021-08-02T22:20:34.680Z"
   },
   {
    "duration": 11922,
    "start_time": "2021-08-02T22:22:35.804Z"
   },
   {
    "duration": 7944,
    "start_time": "2021-08-02T22:24:47.799Z"
   },
   {
    "duration": 8288,
    "start_time": "2021-08-02T22:27:37.497Z"
   },
   {
    "duration": 304,
    "start_time": "2021-08-02T22:32:51.360Z"
   },
   {
    "duration": 338,
    "start_time": "2021-08-02T22:33:04.362Z"
   },
   {
    "duration": 264,
    "start_time": "2021-08-02T22:33:39.237Z"
   },
   {
    "duration": 305,
    "start_time": "2021-08-02T22:33:52.518Z"
   },
   {
    "duration": 276,
    "start_time": "2021-08-02T22:34:58.912Z"
   },
   {
    "duration": 306,
    "start_time": "2021-08-02T22:35:56.267Z"
   },
   {
    "duration": 301,
    "start_time": "2021-08-02T22:36:04.679Z"
   },
   {
    "duration": 32,
    "start_time": "2021-08-02T22:36:13.283Z"
   },
   {
    "duration": 48,
    "start_time": "2021-08-02T22:36:50.996Z"
   },
   {
    "duration": 52,
    "start_time": "2021-08-02T22:37:06.794Z"
   },
   {
    "duration": 54,
    "start_time": "2021-08-02T22:37:43.459Z"
   },
   {
    "duration": 348,
    "start_time": "2021-08-02T22:39:39.625Z"
   },
   {
    "duration": 322,
    "start_time": "2021-08-02T22:40:33.181Z"
   },
   {
    "duration": 357,
    "start_time": "2021-08-02T22:41:10.047Z"
   },
   {
    "duration": 392,
    "start_time": "2021-08-02T22:42:46.132Z"
   },
   {
    "duration": 551,
    "start_time": "2021-08-02T22:42:58.810Z"
   },
   {
    "duration": 328,
    "start_time": "2021-08-02T22:43:05.156Z"
   },
   {
    "duration": 316,
    "start_time": "2021-08-02T22:45:33.099Z"
   },
   {
    "duration": 363,
    "start_time": "2021-08-02T22:47:17.591Z"
   },
   {
    "duration": 326,
    "start_time": "2021-08-02T22:48:31.188Z"
   },
   {
    "duration": 321,
    "start_time": "2021-08-02T22:50:49.171Z"
   },
   {
    "duration": 128,
    "start_time": "2021-08-02T22:52:06.560Z"
   },
   {
    "duration": 134,
    "start_time": "2021-08-02T22:52:16.619Z"
   },
   {
    "duration": 211,
    "start_time": "2021-08-02T22:53:18.011Z"
   },
   {
    "duration": 119,
    "start_time": "2021-08-02T22:53:37.943Z"
   },
   {
    "duration": 119,
    "start_time": "2021-08-02T22:53:54.252Z"
   },
   {
    "duration": 113,
    "start_time": "2021-08-02T22:54:08.443Z"
   },
   {
    "duration": 122,
    "start_time": "2021-08-02T22:54:28.448Z"
   },
   {
    "duration": 124,
    "start_time": "2021-08-02T22:54:47.727Z"
   },
   {
    "duration": 312,
    "start_time": "2021-08-02T22:56:23.361Z"
   },
   {
    "duration": 287,
    "start_time": "2021-08-02T22:56:48.526Z"
   },
   {
    "duration": 136,
    "start_time": "2021-08-02T22:58:34.026Z"
   },
   {
    "duration": 7786,
    "start_time": "2021-08-02T22:59:18.193Z"
   },
   {
    "duration": 7799,
    "start_time": "2021-08-02T23:01:10.327Z"
   },
   {
    "duration": 8008,
    "start_time": "2021-08-02T23:01:55.284Z"
   },
   {
    "duration": 18282,
    "start_time": "2021-08-02T23:06:02.930Z"
   },
   {
    "duration": 9352,
    "start_time": "2021-08-02T23:08:16.071Z"
   },
   {
    "duration": 8388,
    "start_time": "2021-08-02T23:08:37.967Z"
   },
   {
    "duration": 9204,
    "start_time": "2021-08-02T23:09:30.308Z"
   },
   {
    "duration": 8896,
    "start_time": "2021-08-02T23:11:27.416Z"
   },
   {
    "duration": 8058,
    "start_time": "2021-08-02T23:12:06.654Z"
   },
   {
    "duration": 313,
    "start_time": "2021-08-02T23:12:31.936Z"
   },
   {
    "duration": 39139,
    "start_time": "2021-08-02T23:14:08.811Z"
   },
   {
    "duration": 67184,
    "start_time": "2021-08-02T23:14:53.540Z"
   },
   {
    "duration": 269,
    "start_time": "2021-08-02T23:20:10.910Z"
   },
   {
    "duration": 699,
    "start_time": "2021-08-02T23:20:32.462Z"
   },
   {
    "duration": 423,
    "start_time": "2021-08-02T23:20:59.171Z"
   },
   {
    "duration": 675,
    "start_time": "2021-08-02T23:23:00.536Z"
   },
   {
    "duration": 724,
    "start_time": "2021-08-02T23:24:02.306Z"
   },
   {
    "duration": 697,
    "start_time": "2021-08-02T23:25:22.601Z"
   },
   {
    "duration": 433,
    "start_time": "2021-08-02T23:26:00.655Z"
   },
   {
    "duration": 424,
    "start_time": "2021-08-02T23:29:18.086Z"
   },
   {
    "duration": 424,
    "start_time": "2021-08-02T23:29:28.896Z"
   },
   {
    "duration": 16922,
    "start_time": "2021-08-02T23:30:19.088Z"
   },
   {
    "duration": 7253,
    "start_time": "2021-08-02T23:30:59.180Z"
   },
   {
    "duration": -682,
    "start_time": "2021-08-02T23:31:57.320Z"
   },
   {
    "duration": 505,
    "start_time": "2021-08-02T23:32:34.199Z"
   },
   {
    "duration": 458,
    "start_time": "2021-08-02T23:33:03.647Z"
   },
   {
    "duration": 2431,
    "start_time": "2021-08-02T23:33:27.800Z"
   },
   {
    "duration": 4120,
    "start_time": "2021-08-02T23:33:52.060Z"
   },
   {
    "duration": 939,
    "start_time": "2021-08-02T23:34:59.311Z"
   },
   {
    "duration": 2919,
    "start_time": "2021-08-02T23:35:10.491Z"
   },
   {
    "duration": 2665,
    "start_time": "2021-08-02T23:35:21.513Z"
   },
   {
    "duration": 2663,
    "start_time": "2021-08-02T23:36:37.572Z"
   },
   {
    "duration": 2871,
    "start_time": "2021-08-02T23:39:19.415Z"
   },
   {
    "duration": 4444,
    "start_time": "2021-08-02T23:48:48.572Z"
   },
   {
    "duration": 5111,
    "start_time": "2021-08-02T23:48:53.019Z"
   },
   {
    "duration": 87,
    "start_time": "2021-08-02T23:48:58.133Z"
   },
   {
    "duration": 395,
    "start_time": "2021-08-02T23:48:58.223Z"
   },
   {
    "duration": 18890,
    "start_time": "2021-08-02T23:49:41.023Z"
   },
   {
    "duration": 108,
    "start_time": "2021-08-02T23:53:10.775Z"
   },
   {
    "duration": 104,
    "start_time": "2021-08-02T23:53:43.103Z"
   },
   {
    "duration": 12362,
    "start_time": "2021-08-02T23:54:22.006Z"
   },
   {
    "duration": 411,
    "start_time": "2021-08-02T23:56:34.838Z"
   },
   {
    "duration": 4989,
    "start_time": "2021-08-02T23:56:51.302Z"
   },
   {
    "duration": 4717,
    "start_time": "2021-08-02T23:58:17.080Z"
   },
   {
    "duration": 4875,
    "start_time": "2021-08-02T23:58:33.277Z"
   },
   {
    "duration": 519,
    "start_time": "2021-08-04T15:31:55.326Z"
   },
   {
    "duration": 6373,
    "start_time": "2021-08-04T15:32:21.078Z"
   },
   {
    "duration": 5469,
    "start_time": "2021-08-04T15:32:27.454Z"
   },
   {
    "duration": 85,
    "start_time": "2021-08-04T15:32:32.926Z"
   },
   {
    "duration": 12319,
    "start_time": "2021-08-04T15:32:33.014Z"
   },
   {
    "duration": 11464,
    "start_time": "2021-08-04T15:37:10.758Z"
   },
   {
    "duration": 347,
    "start_time": "2021-08-04T15:50:29.408Z"
   },
   {
    "duration": 7299,
    "start_time": "2021-08-04T15:50:41.575Z"
   },
   {
    "duration": 7670,
    "start_time": "2021-08-04T15:51:16.442Z"
   },
   {
    "duration": 8,
    "start_time": "2021-08-04T15:51:38.974Z"
   },
   {
    "duration": 11,
    "start_time": "2021-08-04T15:51:46.458Z"
   },
   {
    "duration": 3918,
    "start_time": "2021-08-04T15:52:05.336Z"
   },
   {
    "duration": 10284,
    "start_time": "2021-08-04T15:52:57.117Z"
   },
   {
    "duration": 264,
    "start_time": "2021-08-04T16:04:33.252Z"
   },
   {
    "duration": 114,
    "start_time": "2021-08-04T16:06:15.956Z"
   },
   {
    "duration": 13,
    "start_time": "2021-08-04T16:06:21.886Z"
   },
   {
    "duration": 341,
    "start_time": "2021-08-04T16:07:00.781Z"
   },
   {
    "duration": 313,
    "start_time": "2021-08-04T16:07:09.094Z"
   },
   {
    "duration": 3188,
    "start_time": "2021-08-04T16:09:01.985Z"
   },
   {
    "duration": 747,
    "start_time": "2021-08-04T16:09:47.553Z"
   },
   {
    "duration": 507,
    "start_time": "2021-08-04T16:10:21.914Z"
   },
   {
    "duration": 540,
    "start_time": "2021-08-04T16:10:58.083Z"
   },
   {
    "duration": 520,
    "start_time": "2021-08-04T16:11:11.119Z"
   },
   {
    "duration": 4875,
    "start_time": "2021-08-04T16:11:57.877Z"
   },
   {
    "duration": 4396,
    "start_time": "2021-08-04T16:13:25.865Z"
   },
   {
    "duration": 5554,
    "start_time": "2021-08-04T16:13:34.291Z"
   },
   {
    "duration": 69,
    "start_time": "2021-08-04T16:13:47.126Z"
   },
   {
    "duration": 3918,
    "start_time": "2021-08-04T16:14:05.637Z"
   },
   {
    "duration": 3675,
    "start_time": "2021-08-04T16:15:21.043Z"
   },
   {
    "duration": 10624,
    "start_time": "2021-08-04T16:15:45.242Z"
   },
   {
    "duration": 524,
    "start_time": "2021-08-04T16:15:58.392Z"
   },
   {
    "duration": 523,
    "start_time": "2021-08-04T16:19:30.296Z"
   },
   {
    "duration": 521,
    "start_time": "2021-08-04T16:19:47.324Z"
   },
   {
    "duration": 765,
    "start_time": "2021-08-04T16:23:07.355Z"
   },
   {
    "duration": 652,
    "start_time": "2021-08-04T16:23:25.568Z"
   },
   {
    "duration": 594,
    "start_time": "2021-08-04T16:23:39.005Z"
   },
   {
    "duration": 4753,
    "start_time": "2021-08-04T16:25:54.398Z"
   },
   {
    "duration": 1221,
    "start_time": "2021-08-04T16:26:22.695Z"
   },
   {
    "duration": 1429,
    "start_time": "2021-08-04T16:26:59.713Z"
   },
   {
    "duration": 4943,
    "start_time": "2021-08-04T16:28:16.999Z"
   },
   {
    "duration": 6806,
    "start_time": "2021-08-04T16:29:38.304Z"
   },
   {
    "duration": 92,
    "start_time": "2021-08-04T16:36:38.009Z"
   },
   {
    "duration": 2782,
    "start_time": "2021-08-04T16:39:49.960Z"
   },
   {
    "duration": 1249,
    "start_time": "2021-08-04T16:40:20.010Z"
   },
   {
    "duration": 2818,
    "start_time": "2021-08-04T16:42:11.622Z"
   },
   {
    "duration": 2425,
    "start_time": "2021-08-04T16:42:53.551Z"
   },
   {
    "duration": 2991,
    "start_time": "2021-08-04T16:49:04.855Z"
   },
   {
    "duration": 5960,
    "start_time": "2021-08-04T16:50:31.485Z"
   },
   {
    "duration": 6058,
    "start_time": "2021-08-04T16:51:06.976Z"
   },
   {
    "duration": 6121,
    "start_time": "2021-08-04T16:51:50.286Z"
   },
   {
    "duration": 6171,
    "start_time": "2021-08-04T16:52:25.690Z"
   },
   {
    "duration": 6220,
    "start_time": "2021-08-04T16:52:42.265Z"
   },
   {
    "duration": 6510,
    "start_time": "2021-08-04T16:53:09.380Z"
   },
   {
    "duration": 6130,
    "start_time": "2021-08-04T16:53:20.115Z"
   },
   {
    "duration": 786,
    "start_time": "2021-08-04T16:54:51.217Z"
   },
   {
    "duration": 6234,
    "start_time": "2021-08-04T16:55:00.614Z"
   },
   {
    "duration": 6041,
    "start_time": "2021-08-04T16:55:09.569Z"
   },
   {
    "duration": 6121,
    "start_time": "2021-08-04T16:55:34.505Z"
   },
   {
    "duration": 520,
    "start_time": "2021-08-04T16:56:39.699Z"
   },
   {
    "duration": 528,
    "start_time": "2021-08-04T16:57:03.998Z"
   },
   {
    "duration": 558,
    "start_time": "2021-08-04T16:58:01.031Z"
   },
   {
    "duration": 553,
    "start_time": "2021-08-04T16:58:10.212Z"
   },
   {
    "duration": 7072,
    "start_time": "2021-08-04T17:01:27.332Z"
   },
   {
    "duration": 831,
    "start_time": "2021-08-04T17:02:45.396Z"
   },
   {
    "duration": 81,
    "start_time": "2021-08-04T17:04:55.421Z"
   },
   {
    "duration": 417,
    "start_time": "2021-08-04T17:05:16.350Z"
   },
   {
    "duration": 505,
    "start_time": "2021-08-04T17:05:26.107Z"
   },
   {
    "duration": 539,
    "start_time": "2021-08-04T17:06:31.418Z"
   },
   {
    "duration": 629,
    "start_time": "2021-08-04T17:09:53.827Z"
   },
   {
    "duration": 4719,
    "start_time": "2021-08-04T17:10:12.033Z"
   },
   {
    "duration": 5146,
    "start_time": "2021-08-04T17:10:26.837Z"
   },
   {
    "duration": 4963,
    "start_time": "2021-08-04T17:10:57.075Z"
   },
   {
    "duration": 4609,
    "start_time": "2021-08-04T17:11:42.494Z"
   },
   {
    "duration": 4491,
    "start_time": "2021-08-04T17:11:47.106Z"
   },
   {
    "duration": 69,
    "start_time": "2021-08-04T17:11:51.600Z"
   },
   {
    "duration": 10665,
    "start_time": "2021-08-04T17:11:51.683Z"
   },
   {
    "duration": 931,
    "start_time": "2021-08-04T17:12:02.351Z"
   },
   {
    "duration": 4641,
    "start_time": "2021-08-04T17:12:48.843Z"
   },
   {
    "duration": 4596,
    "start_time": "2021-08-04T17:12:53.486Z"
   },
   {
    "duration": 77,
    "start_time": "2021-08-04T17:12:58.086Z"
   },
   {
    "duration": 10993,
    "start_time": "2021-08-04T17:12:58.166Z"
   },
   {
    "duration": 558,
    "start_time": "2021-08-04T17:13:09.161Z"
   },
   {
    "duration": 564,
    "start_time": "2021-08-04T17:13:25.719Z"
   },
   {
    "duration": 1127,
    "start_time": "2021-08-04T17:15:49.350Z"
   },
   {
    "duration": 545,
    "start_time": "2021-08-04T17:16:05.741Z"
   },
   {
    "duration": 976,
    "start_time": "2021-08-04T17:17:24.579Z"
   },
   {
    "duration": 953,
    "start_time": "2021-08-04T17:18:26.982Z"
   },
   {
    "duration": 932,
    "start_time": "2021-08-04T17:18:45.881Z"
   },
   {
    "duration": 924,
    "start_time": "2021-08-04T17:19:49.743Z"
   },
   {
    "duration": 972,
    "start_time": "2021-08-04T17:20:04.887Z"
   },
   {
    "duration": 364,
    "start_time": "2021-08-04T17:23:36.154Z"
   },
   {
    "duration": 83737,
    "start_time": "2021-08-04T17:23:45.578Z"
   },
   {
    "duration": 6353,
    "start_time": "2021-08-04T17:29:50.772Z"
   },
   {
    "duration": 6568,
    "start_time": "2021-08-04T17:30:18.162Z"
   },
   {
    "duration": 20,
    "start_time": "2021-08-04T17:31:06.831Z"
   },
   {
    "duration": 2150,
    "start_time": "2021-08-04T17:31:12.439Z"
   },
   {
    "duration": 40,
    "start_time": "2021-08-04T17:33:35.925Z"
   },
   {
    "duration": 251,
    "start_time": "2021-08-04T17:34:00.850Z"
   },
   {
    "duration": 37,
    "start_time": "2021-08-04T17:36:37.339Z"
   },
   {
    "duration": 12873,
    "start_time": "2021-08-04T17:36:58.285Z"
   },
   {
    "duration": 26,
    "start_time": "2021-08-04T17:37:30.451Z"
   },
   {
    "duration": 97,
    "start_time": "2021-08-04T17:38:49.744Z"
   },
   {
    "duration": 941,
    "start_time": "2021-08-04T17:38:54.861Z"
   },
   {
    "duration": 981,
    "start_time": "2021-08-04T17:39:07.022Z"
   },
   {
    "duration": 1027,
    "start_time": "2021-08-04T17:40:06.730Z"
   },
   {
    "duration": 941,
    "start_time": "2021-08-04T17:41:31.857Z"
   },
   {
    "duration": 918,
    "start_time": "2021-08-04T17:41:45.767Z"
   },
   {
    "duration": 1158,
    "start_time": "2021-08-04T17:42:03.499Z"
   },
   {
    "duration": 7619,
    "start_time": "2021-08-04T17:43:06.725Z"
   },
   {
    "duration": 1890,
    "start_time": "2021-08-04T17:43:17.521Z"
   },
   {
    "duration": 1441,
    "start_time": "2021-08-04T17:44:12.895Z"
   },
   {
    "duration": 2059,
    "start_time": "2021-08-04T17:44:47.518Z"
   },
   {
    "duration": 2115,
    "start_time": "2021-08-04T17:45:08.670Z"
   },
   {
    "duration": 2761,
    "start_time": "2021-08-04T17:45:17.170Z"
   },
   {
    "duration": 2492,
    "start_time": "2021-08-04T17:48:10.786Z"
   },
   {
    "duration": 3175,
    "start_time": "2021-08-04T17:48:24.759Z"
   },
   {
    "duration": 2994,
    "start_time": "2021-08-04T17:48:31.774Z"
   },
   {
    "duration": 2328,
    "start_time": "2021-08-04T17:50:40.157Z"
   },
   {
    "duration": 2587,
    "start_time": "2021-08-04T17:51:15.430Z"
   },
   {
    "duration": 2371,
    "start_time": "2021-08-04T17:52:11.917Z"
   },
   {
    "duration": 1386,
    "start_time": "2021-08-04T17:52:49.573Z"
   },
   {
    "duration": 3262,
    "start_time": "2021-08-04T17:54:00.338Z"
   },
   {
    "duration": 4016,
    "start_time": "2021-08-04T17:58:46.475Z"
   },
   {
    "duration": 3585,
    "start_time": "2021-08-04T17:58:50.885Z"
   },
   {
    "duration": 38,
    "start_time": "2021-08-04T18:01:57.621Z"
   },
   {
    "duration": 448,
    "start_time": "2021-08-04T18:02:43.932Z"
   },
   {
    "duration": 351,
    "start_time": "2021-08-04T18:03:32.892Z"
   },
   {
    "duration": 339,
    "start_time": "2021-08-04T18:03:39.567Z"
   },
   {
    "duration": 4348,
    "start_time": "2021-08-04T18:05:36.204Z"
   },
   {
    "duration": 4484,
    "start_time": "2021-08-04T18:05:40.555Z"
   },
   {
    "duration": 88,
    "start_time": "2021-08-04T18:05:45.043Z"
   },
   {
    "duration": 10629,
    "start_time": "2021-08-04T18:05:45.134Z"
   },
   {
    "duration": 44,
    "start_time": "2021-08-04T18:05:55.766Z"
   },
   {
    "duration": 666,
    "start_time": "2021-08-04T18:07:45.503Z"
   },
   {
    "duration": 408,
    "start_time": "2021-08-04T18:07:50.807Z"
   },
   {
    "duration": 840,
    "start_time": "2021-08-04T18:08:29.228Z"
   },
   {
    "duration": 522,
    "start_time": "2021-08-04T18:08:54.978Z"
   },
   {
    "duration": 359,
    "start_time": "2021-08-04T18:09:04.858Z"
   },
   {
    "duration": 310,
    "start_time": "2021-08-04T18:09:25.015Z"
   },
   {
    "duration": 272,
    "start_time": "2021-08-04T18:09:42.013Z"
   },
   {
    "duration": 359,
    "start_time": "2021-08-04T18:09:48.711Z"
   },
   {
    "duration": 338,
    "start_time": "2021-08-04T18:10:20.828Z"
   },
   {
    "duration": 653,
    "start_time": "2021-08-04T18:11:06.196Z"
   },
   {
    "duration": 319,
    "start_time": "2021-08-04T18:11:46.956Z"
   },
   {
    "duration": 30,
    "start_time": "2021-08-04T18:11:55.635Z"
   },
   {
    "duration": 256,
    "start_time": "2021-08-04T18:12:34.364Z"
   },
   {
    "duration": 603,
    "start_time": "2021-08-04T18:12:47.756Z"
   },
   {
    "duration": 345,
    "start_time": "2021-08-04T18:12:58.758Z"
   },
   {
    "duration": 28,
    "start_time": "2021-08-04T18:14:45.172Z"
   },
   {
    "duration": 38,
    "start_time": "2021-08-04T18:14:56.687Z"
   },
   {
    "duration": 320,
    "start_time": "2021-08-04T18:15:26.186Z"
   },
   {
    "duration": 587,
    "start_time": "2021-08-04T18:15:50.804Z"
   },
   {
    "duration": 693,
    "start_time": "2021-08-04T18:16:06.502Z"
   },
   {
    "duration": 4179,
    "start_time": "2021-08-04T18:18:26.980Z"
   },
   {
    "duration": 8385,
    "start_time": "2021-08-04T18:20:20.047Z"
   },
   {
    "duration": 1903,
    "start_time": "2021-08-04T18:22:23.123Z"
   },
   {
    "duration": 296,
    "start_time": "2021-08-04T18:23:02.815Z"
   },
   {
    "duration": 1758,
    "start_time": "2021-08-04T18:23:28.188Z"
   },
   {
    "duration": 93,
    "start_time": "2021-08-04T18:24:39.708Z"
   },
   {
    "duration": 12,
    "start_time": "2021-08-04T18:24:57.775Z"
   },
   {
    "duration": 17,
    "start_time": "2021-08-04T18:25:37.294Z"
   },
   {
    "duration": 21,
    "start_time": "2021-08-04T18:25:42.189Z"
   },
   {
    "duration": 96,
    "start_time": "2021-08-04T18:26:26.615Z"
   },
   {
    "duration": 25,
    "start_time": "2021-08-04T18:26:29.755Z"
   },
   {
    "duration": 1971,
    "start_time": "2021-08-04T18:26:40.080Z"
   },
   {
    "duration": 1865,
    "start_time": "2021-08-04T18:27:32.792Z"
   },
   {
    "duration": 1901,
    "start_time": "2021-08-04T18:28:35.546Z"
   },
   {
    "duration": 1760,
    "start_time": "2021-08-04T18:28:49.875Z"
   },
   {
    "duration": 622,
    "start_time": "2021-08-04T18:29:45.704Z"
   },
   {
    "duration": 2047,
    "start_time": "2021-08-04T18:30:29.654Z"
   },
   {
    "duration": 1758,
    "start_time": "2021-08-04T18:30:45.064Z"
   },
   {
    "duration": 1784,
    "start_time": "2021-08-04T18:31:17.587Z"
   },
   {
    "duration": 1843,
    "start_time": "2021-08-04T18:32:13.554Z"
   },
   {
    "duration": 264,
    "start_time": "2021-08-04T18:41:52.231Z"
   },
   {
    "duration": 589,
    "start_time": "2021-08-04T18:42:15.796Z"
   },
   {
    "duration": 429,
    "start_time": "2021-08-04T18:47:15.119Z"
   },
   {
    "duration": 427,
    "start_time": "2021-08-04T18:47:59.859Z"
   },
   {
    "duration": 412,
    "start_time": "2021-08-04T18:48:19.883Z"
   },
   {
    "duration": 1021,
    "start_time": "2021-08-04T18:49:27.002Z"
   },
   {
    "duration": 693,
    "start_time": "2021-08-04T18:49:51.625Z"
   },
   {
    "duration": 426,
    "start_time": "2021-08-04T21:36:09.877Z"
   },
   {
    "duration": 6368,
    "start_time": "2021-08-04T21:36:32.452Z"
   },
   {
    "duration": 5074,
    "start_time": "2021-08-04T21:36:38.823Z"
   },
   {
    "duration": 94,
    "start_time": "2021-08-04T21:36:43.900Z"
   },
   {
    "duration": 11403,
    "start_time": "2021-08-04T21:36:43.996Z"
   },
   {
    "duration": 12913,
    "start_time": "2021-08-04T21:36:55.402Z"
   },
   {
    "duration": 18982,
    "start_time": "2021-08-04T21:46:10.270Z"
   },
   {
    "duration": 8906,
    "start_time": "2021-08-04T21:46:30.228Z"
   },
   {
    "duration": 27,
    "start_time": "2021-08-04T21:46:46.314Z"
   },
   {
    "duration": 32,
    "start_time": "2021-08-04T21:47:20.727Z"
   },
   {
    "duration": 37,
    "start_time": "2021-08-04T21:47:38.724Z"
   },
   {
    "duration": 42,
    "start_time": "2021-08-04T21:47:44.463Z"
   },
   {
    "duration": 39,
    "start_time": "2021-08-04T21:47:49.394Z"
   },
   {
    "duration": 62,
    "start_time": "2021-08-04T21:47:55.153Z"
   },
   {
    "duration": 128,
    "start_time": "2021-08-04T21:50:35.587Z"
   },
   {
    "duration": 115,
    "start_time": "2021-08-04T21:50:58.085Z"
   },
   {
    "duration": 3573,
    "start_time": "2021-08-04T21:51:05.454Z"
   },
   {
    "duration": 10376,
    "start_time": "2021-08-04T21:52:16.664Z"
   },
   {
    "duration": 3978,
    "start_time": "2021-08-04T21:52:50.782Z"
   },
   {
    "duration": 902,
    "start_time": "2021-08-04T21:56:25.726Z"
   },
   {
    "duration": 908,
    "start_time": "2021-08-04T21:57:09.419Z"
   },
   {
    "duration": 10668,
    "start_time": "2021-08-04T21:59:35.883Z"
   },
   {
    "duration": 4578,
    "start_time": "2021-08-04T22:02:26.277Z"
   },
   {
    "duration": 4637,
    "start_time": "2021-08-04T22:02:30.858Z"
   },
   {
    "duration": 77,
    "start_time": "2021-08-04T22:02:35.498Z"
   },
   {
    "duration": 10145,
    "start_time": "2021-08-04T22:02:35.577Z"
   },
   {
    "duration": 4041,
    "start_time": "2021-08-04T22:02:45.725Z"
   },
   {
    "duration": 1879,
    "start_time": "2021-08-04T22:06:47.979Z"
   },
   {
    "duration": 1428,
    "start_time": "2021-08-04T22:08:07.297Z"
   },
   {
    "duration": 1306,
    "start_time": "2021-08-04T22:10:22.909Z"
   },
   {
    "duration": 1467,
    "start_time": "2021-08-04T22:10:55.419Z"
   },
   {
    "duration": 1755,
    "start_time": "2021-08-04T22:12:06.603Z"
   },
   {
    "duration": 10752,
    "start_time": "2021-08-04T22:12:27.883Z"
   },
   {
    "duration": 11138,
    "start_time": "2021-08-04T22:14:01.744Z"
   },
   {
    "duration": 11127,
    "start_time": "2021-08-04T22:16:55.046Z"
   },
   {
    "duration": 11494,
    "start_time": "2021-08-04T22:17:57.441Z"
   },
   {
    "duration": 10907,
    "start_time": "2021-08-04T22:19:05.704Z"
   },
   {
    "duration": 10796,
    "start_time": "2021-08-04T22:19:25.510Z"
   },
   {
    "duration": 10199,
    "start_time": "2021-08-04T22:20:33.260Z"
   },
   {
    "duration": 575,
    "start_time": "2021-08-04T22:28:04.217Z"
   },
   {
    "duration": 2559,
    "start_time": "2021-08-04T22:30:26.557Z"
   },
   {
    "duration": 104,
    "start_time": "2021-08-05T15:55:49.797Z"
   },
   {
    "duration": 6314,
    "start_time": "2021-08-05T15:56:15.222Z"
   },
   {
    "duration": 5184,
    "start_time": "2021-08-05T15:56:25.983Z"
   },
   {
    "duration": 72,
    "start_time": "2021-08-05T15:56:37.069Z"
   },
   {
    "duration": 127,
    "start_time": "2021-08-05T15:56:41.351Z"
   },
   {
    "duration": 108,
    "start_time": "2021-08-05T15:57:00.807Z"
   },
   {
    "duration": 10233,
    "start_time": "2021-08-05T15:57:13.316Z"
   },
   {
    "duration": 2444,
    "start_time": "2021-08-05T15:57:41.612Z"
   },
   {
    "duration": 3248,
    "start_time": "2021-08-05T15:59:41.621Z"
   },
   {
    "duration": 2304,
    "start_time": "2021-08-05T16:00:39.064Z"
   },
   {
    "duration": 2744,
    "start_time": "2021-08-05T16:01:05.739Z"
   },
   {
    "duration": 2811,
    "start_time": "2021-08-05T16:01:34.129Z"
   },
   {
    "duration": 2378,
    "start_time": "2021-08-05T16:02:01.291Z"
   },
   {
    "duration": 2211,
    "start_time": "2021-08-05T16:02:17.741Z"
   },
   {
    "duration": 2587,
    "start_time": "2021-08-05T16:03:04.770Z"
   },
   {
    "duration": 2289,
    "start_time": "2021-08-05T16:04:11.891Z"
   },
   {
    "duration": 2635,
    "start_time": "2021-08-05T16:04:25.422Z"
   },
   {
    "duration": 10663,
    "start_time": "2021-08-05T16:04:50.043Z"
   },
   {
    "duration": 10723,
    "start_time": "2021-08-05T16:05:16.282Z"
   },
   {
    "duration": 6455,
    "start_time": "2021-08-05T16:06:29.826Z"
   },
   {
    "duration": 7426,
    "start_time": "2021-08-05T16:08:16.006Z"
   },
   {
    "duration": 8937,
    "start_time": "2021-08-05T16:09:07.977Z"
   },
   {
    "duration": 11179,
    "start_time": "2021-08-05T16:09:38.478Z"
   },
   {
    "duration": 14862,
    "start_time": "2021-08-05T16:10:14.532Z"
   },
   {
    "duration": 589,
    "start_time": "2021-08-05T16:17:26.718Z"
   },
   {
    "duration": 16244,
    "start_time": "2021-08-05T16:18:50.960Z"
   },
   {
    "duration": 5689,
    "start_time": "2021-08-05T16:21:34.515Z"
   },
   {
    "duration": 5091,
    "start_time": "2021-08-05T16:21:40.207Z"
   },
   {
    "duration": 87,
    "start_time": "2021-08-05T16:21:45.302Z"
   },
   {
    "duration": 10090,
    "start_time": "2021-08-05T16:21:45.392Z"
   },
   {
    "duration": 14312,
    "start_time": "2021-08-05T16:21:55.486Z"
   },
   {
    "duration": 18525,
    "start_time": "2021-08-05T16:24:55.783Z"
   },
   {
    "duration": 14971,
    "start_time": "2021-08-05T16:26:49.162Z"
   },
   {
    "duration": 15277,
    "start_time": "2021-08-05T16:27:34.811Z"
   },
   {
    "duration": 7669,
    "start_time": "2021-08-05T16:32:48.427Z"
   },
   {
    "duration": 115,
    "start_time": "2021-08-05T16:34:34.116Z"
   },
   {
    "duration": 105,
    "start_time": "2021-08-05T16:35:12.445Z"
   },
   {
    "duration": 8885,
    "start_time": "2021-08-05T16:35:23.452Z"
   },
   {
    "duration": 7614,
    "start_time": "2021-08-05T16:35:55.539Z"
   },
   {
    "duration": 7281,
    "start_time": "2021-08-05T16:36:21.312Z"
   },
   {
    "duration": 7343,
    "start_time": "2021-08-05T16:37:06.901Z"
   },
   {
    "duration": 7477,
    "start_time": "2021-08-05T16:37:25.100Z"
   },
   {
    "duration": 7586,
    "start_time": "2021-08-05T16:37:46.422Z"
   },
   {
    "duration": 7333,
    "start_time": "2021-08-05T16:42:40.594Z"
   },
   {
    "duration": 7346,
    "start_time": "2021-08-05T16:43:30.828Z"
   },
   {
    "duration": 14804,
    "start_time": "2021-08-05T16:47:26.143Z"
   },
   {
    "duration": 14682,
    "start_time": "2021-08-05T16:48:01.259Z"
   },
   {
    "duration": 14945,
    "start_time": "2021-08-05T16:48:49.024Z"
   },
   {
    "duration": 15555,
    "start_time": "2021-08-05T16:49:30.356Z"
   },
   {
    "duration": 14705,
    "start_time": "2021-08-05T16:50:29.907Z"
   },
   {
    "duration": 14781,
    "start_time": "2021-08-05T16:50:53.962Z"
   },
   {
    "duration": 15053,
    "start_time": "2021-08-05T16:52:36.070Z"
   },
   {
    "duration": 15005,
    "start_time": "2021-08-05T16:53:21.052Z"
   },
   {
    "duration": 14971,
    "start_time": "2021-08-05T16:57:14.463Z"
   },
   {
    "duration": 14526,
    "start_time": "2021-08-05T16:57:42.563Z"
   },
   {
    "duration": 14493,
    "start_time": "2021-08-05T17:05:15.676Z"
   },
   {
    "duration": 412,
    "start_time": "2021-08-05T17:39:42.042Z"
   },
   {
    "duration": 5162,
    "start_time": "2021-08-05T17:40:08.046Z"
   },
   {
    "duration": 5121,
    "start_time": "2021-08-05T17:40:13.211Z"
   },
   {
    "duration": 82,
    "start_time": "2021-08-05T17:40:18.334Z"
   },
   {
    "duration": 10079,
    "start_time": "2021-08-05T17:40:18.419Z"
   },
   {
    "duration": 15725,
    "start_time": "2021-08-05T17:40:28.501Z"
   },
   {
    "duration": 14820,
    "start_time": "2021-08-05T17:42:31.991Z"
   },
   {
    "duration": 14008,
    "start_time": "2021-08-05T17:43:06.266Z"
   },
   {
    "duration": 13865,
    "start_time": "2021-08-05T17:46:02.692Z"
   },
   {
    "duration": 14676,
    "start_time": "2021-08-05T17:47:11.318Z"
   },
   {
    "duration": 13623,
    "start_time": "2021-08-05T17:51:47.485Z"
   },
   {
    "duration": 576,
    "start_time": "2021-08-05T18:00:06.329Z"
   },
   {
    "duration": 4399,
    "start_time": "2021-08-05T18:00:10.570Z"
   },
   {
    "duration": 9848,
    "start_time": "2021-08-05T18:34:31.607Z"
   },
   {
    "duration": 7744,
    "start_time": "2021-08-06T18:59:50.185Z"
   },
   {
    "duration": 7459,
    "start_time": "2021-08-06T18:59:57.931Z"
   },
   {
    "duration": 110,
    "start_time": "2021-08-06T19:00:05.392Z"
   },
   {
    "duration": 13616,
    "start_time": "2021-08-06T19:00:05.504Z"
   },
   {
    "duration": 18169,
    "start_time": "2021-08-06T19:00:19.122Z"
   },
   {
    "duration": 6495,
    "start_time": "2021-08-07T01:49:14.238Z"
   },
   {
    "duration": 7237,
    "start_time": "2021-08-07T01:49:20.786Z"
   },
   {
    "duration": 103,
    "start_time": "2021-08-07T01:49:28.025Z"
   },
   {
    "duration": 12881,
    "start_time": "2021-08-07T01:49:28.130Z"
   },
   {
    "duration": 17614,
    "start_time": "2021-08-07T01:49:41.013Z"
   },
   {
    "duration": 6406,
    "start_time": "2021-08-07T08:12:14.321Z"
   },
   {
    "duration": 7164,
    "start_time": "2021-08-07T08:12:20.729Z"
   },
   {
    "duration": 107,
    "start_time": "2021-08-07T08:12:27.895Z"
   },
   {
    "duration": 13318,
    "start_time": "2021-08-07T08:12:28.004Z"
   },
   {
    "duration": 18204,
    "start_time": "2021-08-07T08:12:41.324Z"
   },
   {
    "duration": 4143,
    "start_time": "2021-08-09T18:11:28.045Z"
   },
   {
    "duration": 12,
    "start_time": "2021-08-09T18:11:50.895Z"
   },
   {
    "duration": 1843,
    "start_time": "2021-08-09T18:23:32.258Z"
   },
   {
    "duration": 1860,
    "start_time": "2021-08-09T18:24:12.070Z"
   },
   {
    "duration": 2300,
    "start_time": "2021-08-09T18:26:04.034Z"
   },
   {
    "duration": 2611,
    "start_time": "2021-08-09T18:31:52.893Z"
   },
   {
    "duration": 2618,
    "start_time": "2021-08-09T18:34:07.023Z"
   },
   {
    "duration": 6516,
    "start_time": "2021-08-09T19:25:00.221Z"
   },
   {
    "duration": 75,
    "start_time": "2021-08-09T19:25:17.034Z"
   },
   {
    "duration": 1973,
    "start_time": "2021-08-09T19:25:20.438Z"
   },
   {
    "duration": 3155,
    "start_time": "2021-08-09T19:26:42.826Z"
   },
   {
    "duration": 2274,
    "start_time": "2021-08-09T19:26:53.969Z"
   },
   {
    "duration": 3592,
    "start_time": "2021-08-09T19:27:32.146Z"
   },
   {
    "duration": 52,
    "start_time": "2021-08-09T19:27:43.227Z"
   },
   {
    "duration": 1984,
    "start_time": "2021-08-09T19:27:53.428Z"
   },
   {
    "duration": 2025,
    "start_time": "2021-08-09T19:28:55.415Z"
   },
   {
    "duration": 2083,
    "start_time": "2021-08-09T19:29:38.058Z"
   },
   {
    "duration": 3989,
    "start_time": "2021-08-09T19:30:49.443Z"
   },
   {
    "duration": 2297,
    "start_time": "2021-08-09T19:36:14.038Z"
   },
   {
    "duration": 4108,
    "start_time": "2021-08-09T19:36:48.501Z"
   },
   {
    "duration": 228,
    "start_time": "2021-08-09T19:40:09.926Z"
   },
   {
    "duration": 4089,
    "start_time": "2021-08-09T19:40:33.280Z"
   },
   {
    "duration": 4943,
    "start_time": "2021-08-09T19:42:14.864Z"
   },
   {
    "duration": 4204,
    "start_time": "2021-08-09T19:43:45.435Z"
   },
   {
    "duration": 4379,
    "start_time": "2021-08-09T19:44:59.885Z"
   },
   {
    "duration": 4219,
    "start_time": "2021-08-09T19:45:24.180Z"
   },
   {
    "duration": 4288,
    "start_time": "2021-08-09T19:46:36.547Z"
   },
   {
    "duration": 4135,
    "start_time": "2021-08-09T19:48:11.766Z"
   },
   {
    "duration": 2091,
    "start_time": "2021-08-09T19:54:00.041Z"
   },
   {
    "duration": 5998,
    "start_time": "2021-08-09T19:54:52.042Z"
   },
   {
    "duration": 3254,
    "start_time": "2021-08-09T19:55:10.892Z"
   },
   {
    "duration": 47,
    "start_time": "2021-08-09T19:55:18.115Z"
   },
   {
    "duration": 2230,
    "start_time": "2021-08-09T19:55:23.498Z"
   },
   {
    "duration": 2103,
    "start_time": "2021-08-09T19:56:02.652Z"
   },
   {
    "duration": 5980,
    "start_time": "2021-08-09T19:56:19.693Z"
   },
   {
    "duration": 3221,
    "start_time": "2021-08-09T19:57:08.839Z"
   },
   {
    "duration": 3261,
    "start_time": "2021-08-09T19:57:14.303Z"
   },
   {
    "duration": 50,
    "start_time": "2021-08-09T19:57:21.085Z"
   },
   {
    "duration": 2143,
    "start_time": "2021-08-09T19:57:39.218Z"
   },
   {
    "duration": 2115,
    "start_time": "2021-08-09T19:58:02.534Z"
   },
   {
    "duration": 2467,
    "start_time": "2021-08-09T20:01:31.435Z"
   },
   {
    "duration": 2041,
    "start_time": "2021-08-09T20:01:53.190Z"
   },
   {
    "duration": 3414,
    "start_time": "2021-08-09T20:02:00.731Z"
   },
   {
    "duration": 52,
    "start_time": "2021-08-09T20:02:04.248Z"
   },
   {
    "duration": 2200,
    "start_time": "2021-08-09T20:03:00.235Z"
   },
   {
    "duration": 6332,
    "start_time": "2021-08-09T20:03:34.809Z"
   },
   {
    "duration": 2061,
    "start_time": "2021-08-09T20:05:11.382Z"
   },
   {
    "duration": 2177,
    "start_time": "2021-08-09T20:06:28.478Z"
   },
   {
    "duration": 3151,
    "start_time": "2021-08-09T20:13:25.212Z"
   },
   {
    "duration": 3254,
    "start_time": "2021-08-09T20:13:34.191Z"
   },
   {
    "duration": 49,
    "start_time": "2021-08-09T20:13:40.765Z"
   },
   {
    "duration": 67,
    "start_time": "2021-08-09T20:13:44.110Z"
   },
   {
    "duration": 2264,
    "start_time": "2021-08-09T20:15:04.038Z"
   },
   {
    "duration": 2013,
    "start_time": "2021-08-09T20:15:10.698Z"
   },
   {
    "duration": 2235,
    "start_time": "2021-08-09T20:15:19.673Z"
   },
   {
    "duration": 2360,
    "start_time": "2021-08-09T20:15:56.527Z"
   },
   {
    "duration": 2274,
    "start_time": "2021-08-09T20:16:08.040Z"
   },
   {
    "duration": 2369,
    "start_time": "2021-08-09T20:16:41.707Z"
   },
   {
    "duration": 2434,
    "start_time": "2021-08-09T20:18:24.302Z"
   },
   {
    "duration": 6130,
    "start_time": "2021-08-09T20:20:16.926Z"
   },
   {
    "duration": 2015,
    "start_time": "2021-08-09T20:20:45.838Z"
   },
   {
    "duration": 1938,
    "start_time": "2021-08-09T20:20:52.005Z"
   },
   {
    "duration": 1996,
    "start_time": "2021-08-09T20:21:04.702Z"
   },
   {
    "duration": 2235,
    "start_time": "2021-08-09T20:21:22.574Z"
   },
   {
    "duration": 1827,
    "start_time": "2021-08-09T20:21:56.848Z"
   },
   {
    "duration": 3192,
    "start_time": "2021-08-09T20:23:10.134Z"
   },
   {
    "duration": 2002,
    "start_time": "2021-08-09T20:24:44.463Z"
   },
   {
    "duration": 2239,
    "start_time": "2021-08-09T20:25:02.276Z"
   },
   {
    "duration": 2116,
    "start_time": "2021-08-09T20:25:20.824Z"
   },
   {
    "duration": 1969,
    "start_time": "2021-08-09T20:25:45.515Z"
   },
   {
    "duration": 2010,
    "start_time": "2021-08-09T20:26:59.137Z"
   },
   {
    "duration": 2055,
    "start_time": "2021-08-09T20:28:30.907Z"
   },
   {
    "duration": 1884,
    "start_time": "2021-08-09T20:28:45.634Z"
   },
   {
    "duration": 2020,
    "start_time": "2021-08-09T20:32:10.758Z"
   },
   {
    "duration": 4227,
    "start_time": "2021-08-09T20:34:36.447Z"
   },
   {
    "duration": 4186,
    "start_time": "2021-08-09T20:35:18.827Z"
   },
   {
    "duration": 6920,
    "start_time": "2021-08-09T20:44:49.280Z"
   },
   {
    "duration": 5544,
    "start_time": "2021-08-09T20:45:58.404Z"
   },
   {
    "duration": 5037,
    "start_time": "2021-08-09T20:46:56.594Z"
   },
   {
    "duration": 7022,
    "start_time": "2021-08-09T20:47:47.856Z"
   },
   {
    "duration": 5040,
    "start_time": "2021-08-09T20:49:38.621Z"
   },
   {
    "duration": 5155,
    "start_time": "2021-08-09T20:50:09.543Z"
   },
   {
    "duration": 4909,
    "start_time": "2021-08-09T20:54:47.182Z"
   },
   {
    "duration": 5038,
    "start_time": "2021-08-09T20:55:03.726Z"
   },
   {
    "duration": 4718,
    "start_time": "2021-08-09T20:56:13.863Z"
   },
   {
    "duration": 4831,
    "start_time": "2021-08-09T20:58:03.210Z"
   },
   {
    "duration": 4657,
    "start_time": "2021-08-09T20:59:37.278Z"
   },
   {
    "duration": 4796,
    "start_time": "2021-08-09T20:59:44.173Z"
   },
   {
    "duration": 4628,
    "start_time": "2021-08-09T20:59:53.258Z"
   },
   {
    "duration": 5132,
    "start_time": "2021-08-09T20:59:59.982Z"
   },
   {
    "duration": 4727,
    "start_time": "2021-08-09T21:00:24.380Z"
   },
   {
    "duration": 9172,
    "start_time": "2021-08-09T21:14:34.592Z"
   },
   {
    "duration": 76,
    "start_time": "2021-08-09T21:17:08.515Z"
   },
   {
    "duration": 4766,
    "start_time": "2021-08-09T21:17:19.204Z"
   },
   {
    "duration": 4829,
    "start_time": "2021-08-09T21:17:38.989Z"
   },
   {
    "duration": 4821,
    "start_time": "2021-08-09T21:18:09.253Z"
   },
   {
    "duration": 6815,
    "start_time": "2021-08-09T21:22:51.491Z"
   },
   {
    "duration": 7128,
    "start_time": "2021-08-09T21:25:25.376Z"
   },
   {
    "duration": 3904,
    "start_time": "2021-08-09T21:30:21.474Z"
   },
   {
    "duration": 3883,
    "start_time": "2021-08-09T21:30:46.752Z"
   },
   {
    "duration": 2810,
    "start_time": "2021-08-09T21:31:35.296Z"
   },
   {
    "duration": 5779,
    "start_time": "2021-08-09T21:31:57.987Z"
   },
   {
    "duration": 6191,
    "start_time": "2021-08-09T21:34:21.479Z"
   },
   {
    "duration": 5848,
    "start_time": "2021-08-09T21:34:40.340Z"
   },
   {
    "duration": 6208,
    "start_time": "2021-08-09T21:35:12.439Z"
   },
   {
    "duration": 3264,
    "start_time": "2021-08-09T21:35:59.193Z"
   },
   {
    "duration": 6041,
    "start_time": "2021-08-09T21:36:31.265Z"
   },
   {
    "duration": 3221,
    "start_time": "2021-08-09T21:38:20.622Z"
   },
   {
    "duration": 5924,
    "start_time": "2021-08-09T21:38:35.821Z"
   },
   {
    "duration": 6245,
    "start_time": "2021-08-09T21:41:29.917Z"
   },
   {
    "duration": 3906,
    "start_time": "2021-08-09T21:58:00.347Z"
   },
   {
    "duration": 4326,
    "start_time": "2021-08-09T21:58:29.624Z"
   },
   {
    "duration": 4305,
    "start_time": "2021-08-09T21:58:50.995Z"
   },
   {
    "duration": 4458,
    "start_time": "2021-08-09T22:00:59.463Z"
   },
   {
    "duration": 4416,
    "start_time": "2021-08-09T22:03:03.927Z"
   },
   {
    "duration": 4476,
    "start_time": "2021-08-09T22:05:31.426Z"
   },
   {
    "duration": 4620,
    "start_time": "2021-08-09T22:06:00.399Z"
   },
   {
    "duration": 5109,
    "start_time": "2021-08-09T22:06:53.704Z"
   },
   {
    "duration": 4942,
    "start_time": "2021-08-09T22:07:10.798Z"
   },
   {
    "duration": 4125,
    "start_time": "2021-08-09T22:08:29.742Z"
   },
   {
    "duration": 4153,
    "start_time": "2021-08-09T22:09:46.917Z"
   },
   {
    "duration": 2114,
    "start_time": "2021-08-09T22:15:15.378Z"
   },
   {
    "duration": 5688,
    "start_time": "2021-08-09T22:18:02.542Z"
   },
   {
    "duration": 3521,
    "start_time": "2021-08-09T22:18:21.482Z"
   },
   {
    "duration": 46,
    "start_time": "2021-08-09T22:18:25.429Z"
   },
   {
    "duration": 4600,
    "start_time": "2021-08-09T22:18:33.532Z"
   },
   {
    "duration": 5035,
    "start_time": "2021-08-09T22:18:47.326Z"
   },
   {
    "duration": 4893,
    "start_time": "2021-08-09T22:20:18.407Z"
   },
   {
    "duration": 5031,
    "start_time": "2021-08-09T22:20:42.413Z"
   },
   {
    "duration": 55383,
    "start_time": "2021-08-09T22:23:50.724Z"
   },
   {
    "duration": 3229,
    "start_time": "2021-08-09T22:25:06.601Z"
   },
   {
    "duration": 3179,
    "start_time": "2021-08-09T22:25:09.832Z"
   },
   {
    "duration": 48,
    "start_time": "2021-08-09T22:25:13.013Z"
   },
   {
    "duration": 4467,
    "start_time": "2021-08-09T22:25:13.062Z"
   },
   {
    "duration": 3895,
    "start_time": "2021-08-09T22:25:17.530Z"
   },
   {
    "duration": 3245,
    "start_time": "2021-08-09T22:28:13.559Z"
   },
   {
    "duration": 3251,
    "start_time": "2021-08-09T22:28:16.806Z"
   },
   {
    "duration": 59,
    "start_time": "2021-08-09T22:28:20.059Z"
   },
   {
    "duration": 4616,
    "start_time": "2021-08-09T22:28:20.120Z"
   },
   {
    "duration": 78127,
    "start_time": "2021-08-09T22:28:24.738Z"
   },
   {
    "duration": 3285,
    "start_time": "2021-08-09T22:30:07.032Z"
   },
   {
    "duration": 3334,
    "start_time": "2021-08-09T22:30:10.319Z"
   },
   {
    "duration": 54,
    "start_time": "2021-08-09T22:30:13.655Z"
   },
   {
    "duration": 4668,
    "start_time": "2021-08-09T22:30:13.710Z"
   },
   {
    "duration": 3146,
    "start_time": "2021-08-09T22:35:10.939Z"
   },
   {
    "duration": 3190,
    "start_time": "2021-08-09T22:35:14.087Z"
   },
   {
    "duration": 52,
    "start_time": "2021-08-09T22:35:17.279Z"
   },
   {
    "duration": 4602,
    "start_time": "2021-08-09T22:35:17.333Z"
   },
   {
    "duration": -676,
    "start_time": "2021-08-09T23:00:46.901Z"
   },
   {
    "duration": -678,
    "start_time": "2021-08-09T23:00:46.904Z"
   },
   {
    "duration": 3333,
    "start_time": "2021-08-09T23:01:12.736Z"
   },
   {
    "duration": 3372,
    "start_time": "2021-08-09T23:01:16.071Z"
   },
   {
    "duration": 67,
    "start_time": "2021-08-09T23:01:19.446Z"
   },
   {
    "duration": 4832,
    "start_time": "2021-08-09T23:01:19.515Z"
   },
   {
    "duration": 4704,
    "start_time": "2021-08-09T23:01:24.349Z"
   },
   {
    "duration": 4224,
    "start_time": "2021-08-09T23:02:14.674Z"
   },
   {
    "duration": 4504,
    "start_time": "2021-08-09T23:02:33.127Z"
   },
   {
    "duration": 4671,
    "start_time": "2021-08-09T23:02:50.456Z"
   },
   {
    "duration": 33218,
    "start_time": "2021-08-09T23:03:33.256Z"
   },
   {
    "duration": 4433,
    "start_time": "2021-08-09T23:05:23.415Z"
   },
   {
    "duration": 44402,
    "start_time": "2021-08-09T23:07:00.315Z"
   },
   {
    "duration": 5169,
    "start_time": "2021-08-09T23:10:33.709Z"
   },
   {
    "duration": 4539,
    "start_time": "2021-08-09T23:10:53.170Z"
   },
   {
    "duration": -540,
    "start_time": "2021-08-09T23:12:18.408Z"
   },
   {
    "duration": 3318,
    "start_time": "2021-08-09T23:12:24.307Z"
   },
   {
    "duration": 3415,
    "start_time": "2021-08-09T23:12:27.627Z"
   },
   {
    "duration": 64,
    "start_time": "2021-08-09T23:12:31.044Z"
   },
   {
    "duration": 4694,
    "start_time": "2021-08-09T23:12:31.110Z"
   },
   {
    "duration": 4961,
    "start_time": "2021-08-09T23:12:35.806Z"
   },
   {
    "duration": 21256,
    "start_time": "2021-08-09T23:13:23.124Z"
   },
   {
    "duration": 5080,
    "start_time": "2021-08-09T23:13:45.597Z"
   },
   {
    "duration": 5259,
    "start_time": "2021-08-09T23:14:36.585Z"
   },
   {
    "duration": 5856,
    "start_time": "2021-08-09T23:15:57.636Z"
   },
   {
    "duration": 5864,
    "start_time": "2021-08-09T23:17:03.914Z"
   },
   {
    "duration": 6364,
    "start_time": "2021-08-09T23:18:10.591Z"
   },
   {
    "duration": 16628,
    "start_time": "2021-08-09T23:19:08.781Z"
   },
   {
    "duration": 3988,
    "start_time": "2021-08-09T23:19:42.938Z"
   },
   {
    "duration": 3875,
    "start_time": "2021-08-09T23:22:20.442Z"
   },
   {
    "duration": 5887,
    "start_time": "2021-08-09T23:23:48.780Z"
   },
   {
    "duration": 4197,
    "start_time": "2021-08-09T23:24:28.633Z"
   },
   {
    "duration": 6787,
    "start_time": "2021-08-09T23:25:11.467Z"
   },
   {
    "duration": 4292,
    "start_time": "2021-08-09T23:26:22.438Z"
   },
   {
    "duration": 71,
    "start_time": "2021-08-09T23:35:32.021Z"
   },
   {
    "duration": 4047,
    "start_time": "2021-08-09T23:35:56.792Z"
   },
   {
    "duration": 4214,
    "start_time": "2021-08-09T23:37:59.007Z"
   },
   {
    "duration": 4198,
    "start_time": "2021-08-09T23:41:31.532Z"
   },
   {
    "duration": 4130,
    "start_time": "2021-08-09T23:45:14.823Z"
   },
   {
    "duration": 4272,
    "start_time": "2021-08-09T23:46:28.871Z"
   },
   {
    "duration": 4121,
    "start_time": "2021-08-09T23:49:03.776Z"
   },
   {
    "duration": 3838,
    "start_time": "2021-08-09T23:49:13.891Z"
   },
   {
    "duration": 3257,
    "start_time": "2021-08-09T23:49:17.731Z"
   },
   {
    "duration": 308,
    "start_time": "2021-08-09T23:49:20.991Z"
   },
   {
    "duration": -443,
    "start_time": "2021-08-09T23:49:21.744Z"
   },
   {
    "duration": -444,
    "start_time": "2021-08-09T23:49:21.747Z"
   },
   {
    "duration": 201,
    "start_time": "2021-08-09T23:49:51.404Z"
   },
   {
    "duration": 194,
    "start_time": "2021-08-09T23:50:21.798Z"
   },
   {
    "duration": 92,
    "start_time": "2021-08-09T23:50:33.391Z"
   },
   {
    "duration": 4723,
    "start_time": "2021-08-09T23:50:44.698Z"
   },
   {
    "duration": 3756,
    "start_time": "2021-08-09T23:51:01.800Z"
   },
   {
    "duration": 6206,
    "start_time": "2021-08-09T23:51:26.579Z"
   },
   {
    "duration": 21923,
    "start_time": "2021-08-09T23:51:53.052Z"
   },
   {
    "duration": 71,
    "start_time": "2021-08-09T23:52:33.455Z"
   },
   {
    "duration": 260,
    "start_time": "2021-08-09T23:52:39.507Z"
   },
   {
    "duration": 273,
    "start_time": "2021-08-09T23:53:02.154Z"
   },
   {
    "duration": 126,
    "start_time": "2021-08-09T23:53:26.035Z"
   },
   {
    "duration": 74801,
    "start_time": "2021-08-09T23:53:37.493Z"
   },
   {
    "duration": 99810,
    "start_time": "2021-08-10T23:34:24.028Z"
   },
   {
    "duration": 3238,
    "start_time": "2021-08-10T23:36:03.839Z"
   },
   {
    "duration": 90,
    "start_time": "2021-08-10T23:36:07.081Z"
   },
   {
    "duration": 4234,
    "start_time": "2021-08-10T23:36:07.173Z"
   },
   {
    "duration": 5821,
    "start_time": "2021-08-10T23:36:11.409Z"
   },
   {
    "duration": 4479,
    "start_time": "2021-08-17T17:21:14.713Z"
   },
   {
    "duration": 89,
    "start_time": "2021-08-17T17:21:32.645Z"
   },
   {
    "duration": 16,
    "start_time": "2021-08-17T17:25:48.341Z"
   },
   {
    "duration": 47,
    "start_time": "2021-08-17T17:27:09.909Z"
   },
   {
    "duration": 33,
    "start_time": "2021-08-17T17:41:25.214Z"
   },
   {
    "duration": 3111,
    "start_time": "2021-08-17T17:47:22.511Z"
   },
   {
    "duration": 94,
    "start_time": "2021-08-17T17:47:33.888Z"
   },
   {
    "duration": 17,
    "start_time": "2021-08-17T17:47:38.165Z"
   },
   {
    "duration": 49,
    "start_time": "2021-08-17T17:47:42.049Z"
   },
   {
    "duration": 34,
    "start_time": "2021-08-17T17:47:49.612Z"
   },
   {
    "duration": 132,
    "start_time": "2021-08-17T17:51:10.420Z"
   },
   {
    "duration": 9,
    "start_time": "2021-08-17T17:59:39.734Z"
   },
   {
    "duration": 9,
    "start_time": "2021-08-17T18:02:04.979Z"
   },
   {
    "duration": 89,
    "start_time": "2021-08-17T18:02:26.772Z"
   },
   {
    "duration": 11,
    "start_time": "2021-08-17T18:02:31.034Z"
   },
   {
    "duration": 3,
    "start_time": "2021-08-17T18:05:32.055Z"
   },
   {
    "duration": 1617,
    "start_time": "2021-08-17T18:08:03.832Z"
   },
   {
    "duration": 690,
    "start_time": "2021-08-17T18:15:40.513Z"
   },
   {
    "duration": 14,
    "start_time": "2021-08-17T18:15:46.721Z"
   },
   {
    "duration": 8,
    "start_time": "2021-08-17T18:19:55.611Z"
   },
   {
    "duration": 2,
    "start_time": "2021-08-17T18:21:40.279Z"
   },
   {
    "duration": 35,
    "start_time": "2021-08-17T18:29:07.746Z"
   },
   {
    "duration": 96,
    "start_time": "2021-08-17T18:45:30.847Z"
   },
   {
    "duration": 596,
    "start_time": "2021-08-17T18:45:43.419Z"
   },
   {
    "duration": 57,
    "start_time": "2021-08-17T18:45:48.880Z"
   },
   {
    "duration": 2,
    "start_time": "2021-08-17T19:00:10.813Z"
   },
   {
    "duration": 1633,
    "start_time": "2021-08-17T19:07:54.554Z"
   },
   {
    "duration": 1611,
    "start_time": "2021-08-17T19:11:59.874Z"
   },
   {
    "duration": 1759,
    "start_time": "2021-08-17T19:12:06.103Z"
   },
   {
    "duration": 61,
    "start_time": "2021-08-17T19:13:33.824Z"
   },
   {
    "duration": 36,
    "start_time": "2021-08-17T19:14:27.378Z"
   },
   {
    "duration": 1832,
    "start_time": "2021-08-17T19:19:01.156Z"
   },
   {
    "duration": 1204,
    "start_time": "2021-08-17T19:21:58.556Z"
   },
   {
    "duration": 769,
    "start_time": "2021-08-17T19:22:25.761Z"
   },
   {
    "duration": 292,
    "start_time": "2021-08-17T19:33:36.990Z"
   },
   {
    "duration": 12,
    "start_time": "2021-08-17T19:33:43.039Z"
   },
   {
    "duration": 12,
    "start_time": "2021-08-17T19:34:17.975Z"
   },
   {
    "duration": 2,
    "start_time": "2021-08-17T19:35:34.940Z"
   },
   {
    "duration": 21,
    "start_time": "2021-08-17T19:35:57.606Z"
   },
   {
    "duration": 23,
    "start_time": "2021-08-17T19:37:16.667Z"
   },
   {
    "duration": 3,
    "start_time": "2021-08-17T19:41:52.167Z"
   },
   {
    "duration": 1109,
    "start_time": "2021-08-17T19:42:06.575Z"
   },
   {
    "duration": 921,
    "start_time": "2021-08-17T19:45:49.394Z"
   },
   {
    "duration": 668,
    "start_time": "2021-08-17T19:47:52.298Z"
   },
   {
    "duration": 374,
    "start_time": "2021-08-17T19:47:57.696Z"
   },
   {
    "duration": 364,
    "start_time": "2021-08-17T19:51:32.273Z"
   },
   {
    "duration": 420,
    "start_time": "2021-08-17T19:51:39.286Z"
   },
   {
    "duration": 539,
    "start_time": "2021-08-17T19:51:47.446Z"
   },
   {
    "duration": 486,
    "start_time": "2021-08-17T19:51:52.433Z"
   },
   {
    "duration": 501,
    "start_time": "2021-08-17T19:51:59.814Z"
   },
   {
    "duration": 530,
    "start_time": "2021-08-17T19:52:06.263Z"
   },
   {
    "duration": 2,
    "start_time": "2021-08-17T19:55:54.461Z"
   },
   {
    "duration": 17,
    "start_time": "2021-08-17T19:56:04.264Z"
   },
   {
    "duration": 25,
    "start_time": "2021-08-17T20:00:39.131Z"
   },
   {
    "duration": 2,
    "start_time": "2021-08-17T20:02:29.241Z"
   },
   {
    "duration": 1329,
    "start_time": "2021-08-17T20:02:37.900Z"
   },
   {
    "duration": 1277,
    "start_time": "2021-08-17T20:04:54.572Z"
   },
   {
    "duration": 1529,
    "start_time": "2021-08-17T20:05:06.342Z"
   },
   {
    "duration": 467,
    "start_time": "2021-08-17T20:06:24.545Z"
   },
   {
    "duration": 1003,
    "start_time": "2021-08-17T20:07:56.165Z"
   },
   {
    "duration": 906,
    "start_time": "2021-08-17T20:08:05.646Z"
   },
   {
    "duration": 1274,
    "start_time": "2021-08-17T20:08:13.461Z"
   },
   {
    "duration": 1102,
    "start_time": "2021-08-17T20:08:59.752Z"
   },
   {
    "duration": 1325,
    "start_time": "2021-08-17T20:09:29.015Z"
   },
   {
    "duration": 1436,
    "start_time": "2021-08-17T20:10:15.302Z"
   },
   {
    "duration": 1283,
    "start_time": "2021-08-17T20:10:29.179Z"
   },
   {
    "duration": 1295,
    "start_time": "2021-08-17T20:10:43.247Z"
   },
   {
    "duration": 2,
    "start_time": "2021-08-17T20:15:13.873Z"
   },
   {
    "duration": 36,
    "start_time": "2021-08-17T20:15:40.567Z"
   },
   {
    "duration": 44,
    "start_time": "2021-08-17T20:16:42.968Z"
   },
   {
    "duration": 2015,
    "start_time": "2021-08-17T20:20:26.297Z"
   },
   {
    "duration": 2251,
    "start_time": "2021-08-17T20:23:14.928Z"
   },
   {
    "duration": 1990,
    "start_time": "2021-08-17T20:23:43.276Z"
   },
   {
    "duration": 2016,
    "start_time": "2021-08-17T20:24:33.881Z"
   },
   {
    "duration": 2361,
    "start_time": "2021-08-17T20:25:05.892Z"
   },
   {
    "duration": 2088,
    "start_time": "2021-08-17T20:25:16.925Z"
   },
   {
    "duration": 2,
    "start_time": "2021-08-17T20:25:59.092Z"
   },
   {
    "duration": 2,
    "start_time": "2021-08-17T20:34:03.011Z"
   },
   {
    "duration": 337,
    "start_time": "2021-08-17T20:34:11.861Z"
   },
   {
    "duration": 254,
    "start_time": "2021-08-17T20:35:47.939Z"
   },
   {
    "duration": 250,
    "start_time": "2021-08-17T20:41:49.653Z"
   },
   {
    "duration": 194,
    "start_time": "2021-08-17T20:42:55.704Z"
   },
   {
    "duration": 7034,
    "start_time": "2021-08-18T22:00:29.728Z"
   },
   {
    "duration": 135,
    "start_time": "2021-08-18T22:00:36.766Z"
   },
   {
    "duration": 25,
    "start_time": "2021-08-18T22:00:36.904Z"
   },
   {
    "duration": 103,
    "start_time": "2021-08-18T22:00:36.932Z"
   },
   {
    "duration": 25,
    "start_time": "2021-08-18T22:00:37.037Z"
   },
   {
    "duration": 54,
    "start_time": "2021-08-18T22:00:37.066Z"
   },
   {
    "duration": 201,
    "start_time": "2021-08-18T22:00:37.123Z"
   },
   {
    "duration": 11,
    "start_time": "2021-08-18T22:00:37.330Z"
   },
   {
    "duration": 2772,
    "start_time": "2021-08-18T22:00:37.364Z"
   },
   {
    "duration": 1317,
    "start_time": "2021-08-18T22:00:40.139Z"
   },
   {
    "duration": 29,
    "start_time": "2021-08-18T22:00:41.462Z"
   },
   {
    "duration": 1002,
    "start_time": "2021-08-18T22:00:41.494Z"
   },
   {
    "duration": 65,
    "start_time": "2021-08-18T22:00:42.499Z"
   },
   {
    "duration": 136,
    "start_time": "2021-08-18T22:00:42.568Z"
   },
   {
    "duration": 3420,
    "start_time": "2021-08-18T22:00:42.706Z"
   },
   {
    "duration": 81,
    "start_time": "2021-08-18T22:00:46.129Z"
   },
   {
    "duration": 3350,
    "start_time": "2021-08-18T22:00:46.212Z"
   },
   {
    "duration": 1368,
    "start_time": "2021-08-18T22:00:49.565Z"
   },
   {
    "duration": 52,
    "start_time": "2021-08-18T22:00:50.935Z"
   },
   {
    "duration": 1991,
    "start_time": "2021-08-18T22:00:50.990Z"
   },
   {
    "duration": 679,
    "start_time": "2021-08-18T22:00:52.983Z"
   },
   {
    "duration": 909,
    "start_time": "2021-08-18T22:00:53.664Z"
   },
   {
    "duration": 39,
    "start_time": "2021-08-18T22:00:54.577Z"
   },
   {
    "duration": 1982,
    "start_time": "2021-08-18T22:00:54.619Z"
   },
   {
    "duration": 95,
    "start_time": "2021-08-18T22:00:56.603Z"
   },
   {
    "duration": 3810,
    "start_time": "2021-08-18T22:00:56.701Z"
   },
   {
    "duration": 358,
    "start_time": "2021-08-18T22:01:00.513Z"
   },
   {
    "duration": 4729,
    "start_time": "2021-08-20T17:30:38.984Z"
   },
   {
    "duration": 99,
    "start_time": "2021-08-20T17:30:43.715Z"
   },
   {
    "duration": 15,
    "start_time": "2021-08-20T17:30:43.816Z"
   },
   {
    "duration": 63,
    "start_time": "2021-08-20T17:30:43.832Z"
   },
   {
    "duration": 7,
    "start_time": "2021-08-20T17:30:43.896Z"
   },
   {
    "duration": 41,
    "start_time": "2021-08-20T17:30:43.904Z"
   },
   {
    "duration": 157,
    "start_time": "2021-08-20T17:30:43.947Z"
   },
   {
    "duration": 8,
    "start_time": "2021-08-20T17:30:44.106Z"
   },
   {
    "duration": 1860,
    "start_time": "2021-08-20T17:30:44.116Z"
   },
   {
    "duration": 718,
    "start_time": "2021-08-20T17:30:45.978Z"
   },
   {
    "duration": 14,
    "start_time": "2021-08-20T17:30:46.697Z"
   },
   {
    "duration": 590,
    "start_time": "2021-08-20T17:30:46.713Z"
   },
   {
    "duration": 33,
    "start_time": "2021-08-20T17:30:47.305Z"
   },
   {
    "duration": 96,
    "start_time": "2021-08-20T17:30:47.339Z"
   },
   {
    "duration": 1844,
    "start_time": "2021-08-20T17:30:47.437Z"
   },
   {
    "duration": 49,
    "start_time": "2021-08-20T17:30:49.282Z"
   },
   {
    "duration": 1845,
    "start_time": "2021-08-20T17:30:49.333Z"
   },
   {
    "duration": 949,
    "start_time": "2021-08-20T17:30:51.180Z"
   },
   {
    "duration": 30,
    "start_time": "2021-08-20T17:30:52.131Z"
   },
   {
    "duration": 995,
    "start_time": "2021-08-20T17:30:52.163Z"
   },
   {
    "duration": 432,
    "start_time": "2021-08-20T17:30:53.160Z"
   },
   {
    "duration": 497,
    "start_time": "2021-08-20T17:30:53.594Z"
   },
   {
    "duration": 27,
    "start_time": "2021-08-20T17:30:54.094Z"
   },
   {
    "duration": 1421,
    "start_time": "2021-08-20T17:30:54.122Z"
   },
   {
    "duration": 65,
    "start_time": "2021-08-20T17:30:55.545Z"
   },
   {
    "duration": 2223,
    "start_time": "2021-08-20T17:30:55.611Z"
   },
   {
    "duration": 266,
    "start_time": "2021-08-20T17:30:57.836Z"
   },
   {
    "duration": 6298,
    "start_time": "2021-08-21T06:50:46.365Z"
   },
   {
    "duration": 169,
    "start_time": "2021-08-21T06:50:52.668Z"
   },
   {
    "duration": 35,
    "start_time": "2021-08-21T06:50:52.841Z"
   },
   {
    "duration": 155,
    "start_time": "2021-08-21T06:50:52.880Z"
   },
   {
    "duration": 29,
    "start_time": "2021-08-21T06:50:53.038Z"
   },
   {
    "duration": 52,
    "start_time": "2021-08-21T06:50:53.069Z"
   },
   {
    "duration": 218,
    "start_time": "2021-08-21T06:50:53.124Z"
   },
   {
    "duration": 28,
    "start_time": "2021-08-21T06:50:53.347Z"
   },
   {
    "duration": 4808,
    "start_time": "2021-08-21T06:50:53.379Z"
   },
   {
    "duration": 1281,
    "start_time": "2021-08-21T06:50:58.190Z"
   },
   {
    "duration": 25,
    "start_time": "2021-08-21T06:50:59.473Z"
   },
   {
    "duration": 2771,
    "start_time": "2021-08-21T06:50:59.501Z"
   },
   {
    "duration": 407,
    "start_time": "2021-08-21T06:51:02.276Z"
   },
   {
    "duration": 496,
    "start_time": "2021-08-21T06:51:02.686Z"
   },
   {
    "duration": 7502,
    "start_time": "2021-08-21T06:51:03.185Z"
   },
   {
    "duration": 379,
    "start_time": "2021-08-21T06:51:10.689Z"
   },
   {
    "duration": 6820,
    "start_time": "2021-08-21T06:51:11.072Z"
   },
   {
    "duration": 4686,
    "start_time": "2021-08-21T06:51:17.896Z"
   },
   {
    "duration": 93,
    "start_time": "2021-08-21T06:51:22.585Z"
   },
   {
    "duration": 3729,
    "start_time": "2021-08-21T06:51:22.680Z"
   },
   {
    "duration": 2201,
    "start_time": "2021-08-21T06:51:26.468Z"
   },
   {
    "duration": 2031,
    "start_time": "2021-08-21T06:51:28.671Z"
   },
   {
    "duration": 169,
    "start_time": "2021-08-21T06:51:30.709Z"
   },
   {
    "duration": 4213,
    "start_time": "2021-08-21T06:51:30.882Z"
   },
   {
    "duration": 309,
    "start_time": "2021-08-21T06:51:35.097Z"
   },
   {
    "duration": 7652,
    "start_time": "2021-08-21T06:51:35.409Z"
   },
   {
    "duration": 401,
    "start_time": "2021-08-21T06:51:43.067Z"
   },
   {
    "duration": 310,
    "start_time": "2021-08-31T01:54:25.666Z"
   },
   {
    "duration": 5131,
    "start_time": "2021-08-31T01:54:32.493Z"
   },
   {
    "duration": 523,
    "start_time": "2021-08-31T01:54:38.121Z"
   },
   {
    "duration": 11291,
    "start_time": "2021-08-31T02:03:49.833Z"
   },
   {
    "duration": 398,
    "start_time": "2021-08-31T02:04:14.861Z"
   },
   {
    "duration": 3077,
    "start_time": "2021-08-31T02:05:05.188Z"
   }
  ],
  "kernelspec": {
   "display_name": "Python 3 (ipykernel)",
   "language": "python",
   "name": "python3"
  },
  "language_info": {
   "codemirror_mode": {
    "name": "ipython",
    "version": 3
   },
   "file_extension": ".py",
   "mimetype": "text/x-python",
   "name": "python",
   "nbconvert_exporter": "python",
   "pygments_lexer": "ipython3",
   "version": "3.8.8"
  },
  "toc": {
   "base_numbering": 1,
   "nav_menu": {},
   "number_sections": true,
   "sideBar": true,
   "skip_h1_title": true,
   "title_cell": "Table of Contents",
   "title_sidebar": "Contents",
   "toc_cell": false,
   "toc_position": {},
   "toc_section_display": true,
   "toc_window_display": false
  },
  "varInspector": {
   "cols": {
    "lenName": 16,
    "lenType": 16,
    "lenVar": 40
   },
   "kernels_config": {
    "python": {
     "delete_cmd_postfix": "",
     "delete_cmd_prefix": "del ",
     "library": "var_list.py",
     "varRefreshCmd": "print(var_dic_list())"
    },
    "r": {
     "delete_cmd_postfix": ") ",
     "delete_cmd_prefix": "rm(",
     "library": "var_list.r",
     "varRefreshCmd": "cat(var_dic_list()) "
    }
   },
   "types_to_exclude": [
    "module",
    "function",
    "builtin_function_or_method",
    "instance",
    "_Feature"
   ],
   "window_display": false
  }
 },
 "nbformat": 4,
 "nbformat_minor": 2
}
