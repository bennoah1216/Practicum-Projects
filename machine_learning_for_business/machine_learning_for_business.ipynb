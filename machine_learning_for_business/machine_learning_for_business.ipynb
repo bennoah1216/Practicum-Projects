{
 "cells": [
  {
   "cell_type": "markdown",
   "metadata": {},
   "source": [
    "<div class=\"alert alert-success\">\n",
    "<b>Reviewer's comment V3</b>\n",
    "\t  \n",
    "Thanks for taking the time to improve the project! It is accepted now. Keep up the good work on the next sprint! \n",
    "\t  \n",
    "</div>"
   ]
  },
  {
   "cell_type": "markdown",
   "metadata": {},
   "source": [
    "**Review**\n",
    "\t  \n",
    "Hi, my name is Dmitry and I will be reviewing your project.\n",
    "  \n",
    "You can find my comments in colored markdown cells:\n",
    "  \n",
    "<div class=\"alert alert-success\">\n",
    "  If everything is done successfully.\n",
    "</div>\n",
    "  \n",
    "<div class=\"alert alert-warning\">\n",
    "  If I have some (optional) suggestions, or questions to think about, or general comments.\n",
    "</div>\n",
    "  \n",
    "<div class=\"alert alert-danger\">\n",
    "  If a section requires some corrections. Work can't be accepted with red comments.\n",
    "</div>\n",
    "  \n",
    "Please don't remove my comments, as it will make further review iterations much harder for me.\n",
    "  \n",
    "Feel free to reply to my comments or ask questions using the following template:\n",
    "  \n",
    "<div class=\"alert alert-info\">\n",
    "  For your comments and questions.\n",
    "</div>\n",
    "  \n",
    "First of all, thank you for turning in the project! You did a great job overall, but there is a problem with using the train set data to estimate the profit distribution. It should be pretty straightforward to fix though!"
   ]
  },
  {
   "cell_type": "markdown",
   "metadata": {},
   "source": [
    "# Project Description"
   ]
  },
  {
   "cell_type": "markdown",
   "metadata": {},
   "source": [
    "You work for the OilyGiant mining company. Your task is to find the best place for a new well.\n",
    "Steps to choose the location:\n",
    "\n",
    "- Collect the oil well parameters in the selected region: oil quality and volume of reserves;\n",
    "- Build a model for predicting the volume of reserves in the new wells;\n",
    "- Pick the oil wells with the highest estimated values;\n",
    "- Pick the region with the highest total profit for the selected oil wells.\n",
    "\n",
    "You have data on oil samples from three regions. Parameters of each oil well in the region are already known. Build a model that will help to pick the region with the highest profit margin. Analyze potential profit and risks using the Bootstrapping technique."
   ]
  },
  {
   "cell_type": "markdown",
   "metadata": {},
   "source": [
    "## Import Packages"
   ]
  },
  {
   "cell_type": "code",
   "execution_count": 1,
   "metadata": {},
   "outputs": [
    {
     "name": "stdout",
     "output_type": "stream",
     "text": [
      "Defaulting to user installation because normal site-packages is not writeable\n",
      "Requirement already satisfied: scikit-learn==0.24.1 in /home/jovyan/.local/lib/python3.7/site-packages (0.24.1)\n",
      "Requirement already satisfied: threadpoolctl>=2.0.0 in /home/jovyan/.local/lib/python3.7/site-packages (from scikit-learn==0.24.1) (3.0.0)\n",
      "Requirement already satisfied: joblib>=0.11 in /opt/conda/lib/python3.7/site-packages (from scikit-learn==0.24.1) (1.0.1)\n",
      "Requirement already satisfied: numpy>=1.13.3 in /opt/conda/lib/python3.7/site-packages (from scikit-learn==0.24.1) (1.19.5)\n",
      "Requirement already satisfied: scipy>=0.19.1 in /opt/conda/lib/python3.7/site-packages (from scikit-learn==0.24.1) (1.4.1)\n",
      "Defaulting to user installation because normal site-packages is not writeable\n",
      "Requirement already satisfied: yellowbrick in /home/jovyan/.local/lib/python3.7/site-packages (1.3.post1)\n",
      "Requirement already satisfied: scikit-learn>=0.20 in /home/jovyan/.local/lib/python3.7/site-packages (from yellowbrick) (0.24.1)\n",
      "Requirement already satisfied: matplotlib!=3.0.0,>=2.0.2 in /opt/conda/lib/python3.7/site-packages (from yellowbrick) (3.1.0)\n",
      "Requirement already satisfied: cycler>=0.10.0 in /opt/conda/lib/python3.7/site-packages (from yellowbrick) (0.10.0)\n",
      "Requirement already satisfied: scipy>=1.0.0 in /opt/conda/lib/python3.7/site-packages (from yellowbrick) (1.4.1)\n",
      "Requirement already satisfied: numpy<1.20,>=1.16.0 in /opt/conda/lib/python3.7/site-packages (from yellowbrick) (1.19.5)\n",
      "Requirement already satisfied: joblib>=0.11 in /opt/conda/lib/python3.7/site-packages (from scikit-learn>=0.20->yellowbrick) (1.0.1)\n",
      "Requirement already satisfied: threadpoolctl>=2.0.0 in /home/jovyan/.local/lib/python3.7/site-packages (from scikit-learn>=0.20->yellowbrick) (3.0.0)\n",
      "Requirement already satisfied: pyparsing!=2.0.4,!=2.1.2,!=2.1.6,>=2.0.1 in /opt/conda/lib/python3.7/site-packages (from matplotlib!=3.0.0,>=2.0.2->yellowbrick) (2.4.7)\n",
      "Requirement already satisfied: kiwisolver>=1.0.1 in /opt/conda/lib/python3.7/site-packages (from matplotlib!=3.0.0,>=2.0.2->yellowbrick) (1.3.1)\n",
      "Requirement already satisfied: python-dateutil>=2.1 in /opt/conda/lib/python3.7/site-packages (from matplotlib!=3.0.0,>=2.0.2->yellowbrick) (2.8.1)\n",
      "Requirement already satisfied: six in /opt/conda/lib/python3.7/site-packages (from cycler>=0.10.0->yellowbrick) (1.15.0)\n"
     ]
    }
   ],
   "source": [
    "#import packages\n",
    "import pandas as pd\n",
    "import numpy as np\n",
    "!pip install scikit-learn==0.24.1\n",
    "from sklearn.model_selection import train_test_split\n",
    "from sklearn.linear_model import LinearRegression\n",
    "from sklearn.metrics import mean_squared_error\n",
    "!pip install yellowbrick\n",
    "from yellowbrick.regressor import ResidualsPlot\n",
    "import seaborn as sns\n",
    "import matplotlib.pyplot as plt\n",
    "import scipy.stats as st\n",
    "import warnings\n",
    "warnings.filterwarnings('ignore')"
   ]
  },
  {
   "cell_type": "markdown",
   "metadata": {},
   "source": [
    "### Conclusions"
   ]
  },
  {
   "cell_type": "markdown",
   "metadata": {},
   "source": [
    "I imported:\n",
    "- **pandas**: For data preprocessing and basic descriptive statistics\n",
    "- **numpy**: For adding support for large, multi-dimensional arrays and matrices\n",
    "- **scikit-learn**: For machine learning processes\n",
    "- **train_test_split**: For splitting up the data for testing and training\n",
    "- **LinearRegression**: For running Linear Regressions\n",
    "- **yellowbrick**: For machine learning visualizations\n",
    "- **seaborn**: For visualizations\n",
    "- **matplotlib.pyplot**: For visualizations\n",
    "- **warnings**: To ignore warnings after finishing the project for readability"
   ]
  },
  {
   "cell_type": "markdown",
   "metadata": {},
   "source": [
    "## Import Data"
   ]
  },
  {
   "cell_type": "code",
   "execution_count": 2,
   "metadata": {},
   "outputs": [
    {
     "name": "stdout",
     "output_type": "stream",
     "text": [
      "<class 'pandas.core.frame.DataFrame'>\n",
      "RangeIndex: 100000 entries, 0 to 99999\n",
      "Data columns (total 5 columns):\n",
      "id         100000 non-null object\n",
      "f0         100000 non-null float64\n",
      "f1         100000 non-null float64\n",
      "f2         100000 non-null float64\n",
      "product    100000 non-null float64\n",
      "dtypes: float64(4), object(1)\n",
      "memory usage: 3.8+ MB\n",
      "<class 'pandas.core.frame.DataFrame'>\n",
      "RangeIndex: 100000 entries, 0 to 99999\n",
      "Data columns (total 5 columns):\n",
      "id         100000 non-null object\n",
      "f0         100000 non-null float64\n",
      "f1         100000 non-null float64\n",
      "f2         100000 non-null float64\n",
      "product    100000 non-null float64\n",
      "dtypes: float64(4), object(1)\n",
      "memory usage: 3.8+ MB\n",
      "<class 'pandas.core.frame.DataFrame'>\n",
      "RangeIndex: 100000 entries, 0 to 99999\n",
      "Data columns (total 5 columns):\n",
      "id         100000 non-null object\n",
      "f0         100000 non-null float64\n",
      "f1         100000 non-null float64\n",
      "f2         100000 non-null float64\n",
      "product    100000 non-null float64\n",
      "dtypes: float64(4), object(1)\n",
      "memory usage: 3.8+ MB\n"
     ]
    }
   ],
   "source": [
    "#import data\n",
    "try:\n",
    "    geo_0 = pd.read_csv('geo_data_0.csv')\n",
    "except:\n",
    "    geo_0 = pd.read_csv('/datasets/geo_data_0.csv')\n",
    "try:\n",
    "    geo_1 = pd.read_csv('geo_data_1.csv')\n",
    "except:\n",
    "    geo_1 = pd.read_csv('/datasets/geo_data_1.csv')\n",
    "try:\n",
    "    geo_2 = pd.read_csv('geo_data_2.csv')\n",
    "except:\n",
    "    geo_2 = pd.read_csv('/datasets/geo_data_2.csv')\n",
    "geo_0.info()\n",
    "geo_1.info()\n",
    "geo_2.info()"
   ]
  },
  {
   "cell_type": "markdown",
   "metadata": {},
   "source": [
    "### Conclusions"
   ]
  },
  {
   "cell_type": "markdown",
   "metadata": {},
   "source": [
    "I imported the data and looked through the information. In this dataset, the target variable is `product`, the features are `f0`, `f1`, and `f2`, and `id` is the unique identifier. Based on the information above we can also see there are no missing values and the data types seem to be consistent."
   ]
  },
  {
   "cell_type": "markdown",
   "metadata": {},
   "source": [
    "## Clean and Prepare Data"
   ]
  },
  {
   "cell_type": "code",
   "execution_count": 3,
   "metadata": {},
   "outputs": [
    {
     "data": {
      "text/plain": [
       "False    99990\n",
       "True        10\n",
       "dtype: int64"
      ]
     },
     "metadata": {},
     "output_type": "display_data"
    },
    {
     "data": {
      "text/plain": [
       "False    99996\n",
       "True         4\n",
       "dtype: int64"
      ]
     },
     "metadata": {},
     "output_type": "display_data"
    },
    {
     "data": {
      "text/plain": [
       "False    99996\n",
       "True         4\n",
       "dtype: int64"
      ]
     },
     "metadata": {},
     "output_type": "display_data"
    }
   ],
   "source": [
    "#check if ids are unique\n",
    "display(geo_0.duplicated(subset='id').value_counts())\n",
    "display(geo_1.duplicated(subset='id').value_counts())\n",
    "display(geo_2.duplicated(subset='id').value_counts())\n",
    "#drop ids that are duplicates\n",
    "geo_0.drop_duplicates(subset='id',keep=False,inplace=True)\n",
    "geo_1.drop_duplicates(subset='id',keep=False,inplace=True)\n",
    "geo_2.drop_duplicates(subset='id',keep=False,inplace=True)\n",
    "# #remove id\n",
    "geo_0.drop('id',axis=1,inplace=True)\n",
    "geo_1.drop('id',axis=1,inplace=True)\n",
    "geo_2.drop('id',axis=1,inplace=True)\n",
    "#reset indices\n",
    "geo_0.reset_index(drop=True,inplace=True)\n",
    "geo_1.reset_index(drop=True,inplace=True)\n",
    "geo_2.reset_index(drop=True,inplace=True)\n"
   ]
  },
  {
   "cell_type": "markdown",
   "metadata": {},
   "source": [
    "### Conclusions"
   ]
  },
  {
   "cell_type": "markdown",
   "metadata": {},
   "source": [
    "For this dataset, there were **10** duplicate `id` values in region 0, **4** duplicate `id` values in region 1, and **4** duplicate `id` values in region 2. Since I would expect zero duplicates and cannot explain the reasoning behind it without consulting the data engineer, I decided to remove all observations that have a duplicate `id` value. \n",
    "\n",
    "I then dropped the `id` variable from the datasets because it will not be used in the data analysis. \n",
    "\n",
    "Lastly, I reset the indices to help with future calculations. "
   ]
  },
  {
   "cell_type": "markdown",
   "metadata": {},
   "source": [
    "<div class=\"alert alert-success\">\n",
    "<b>Reviewer's comment</b>\n",
    "\t  \n",
    "Great, the data was loaded and inspected, you checked for duplicates and dropped the otherwise useless id column!\n",
    "\t  \n",
    "</div>"
   ]
  },
  {
   "cell_type": "markdown",
   "metadata": {},
   "source": [
    "## Train and Test "
   ]
  },
  {
   "cell_type": "markdown",
   "metadata": {},
   "source": [
    "### Splitting Into Training and Validating Datasets"
   ]
  },
  {
   "cell_type": "code",
   "execution_count": 4,
   "metadata": {},
   "outputs": [],
   "source": [
    "#split all three regions into training and validating sets\n",
    "geo_0_train, geo_0_valid = train_test_split(geo_0, test_size=0.25, random_state=13)\n",
    "geo_1_train, geo_1_valid = train_test_split(geo_1, test_size=0.25, random_state=13)\n",
    "geo_2_train, geo_2_valid = train_test_split(geo_2, test_size=0.25, random_state=13)\n",
    "\n",
    "#split by features and targets\n",
    "geo_0_train_target = geo_0_train['product'].reset_index(drop=True)\n",
    "geo_0_valid_target = geo_0_valid['product'].reset_index(drop=True)\n",
    "geo_1_train_target = geo_1_train['product'].reset_index(drop=True)\n",
    "geo_1_valid_target = geo_1_valid['product'].reset_index(drop=True)\n",
    "geo_2_train_target = geo_2_train['product'].reset_index(drop=True)\n",
    "geo_2_valid_target = geo_2_valid['product'].reset_index(drop=True)\n",
    "\n",
    "geo_0_train_features = geo_0_train.drop('product', axis=1).reset_index(drop=True)\n",
    "geo_0_valid_features = geo_0_valid.drop('product', axis=1).reset_index(drop=True)\n",
    "geo_1_train_features = geo_1_train.drop('product', axis=1).reset_index(drop=True)\n",
    "geo_1_valid_features = geo_1_valid.drop('product', axis=1).reset_index(drop=True)\n",
    "geo_2_train_features = geo_2_train.drop('product', axis=1).reset_index(drop=True)\n",
    "geo_2_valid_features = geo_2_valid.drop('product', axis=1).reset_index(drop=True)\n"
   ]
  },
  {
   "cell_type": "markdown",
   "metadata": {},
   "source": [
    "#### Conclusions"
   ]
  },
  {
   "cell_type": "markdown",
   "metadata": {},
   "source": [
    "I split each of the three regions using a 75% train, 25% validate ratio. I then created two new datasets that split the target and feature datasets in both the training and validating datasets. "
   ]
  },
  {
   "cell_type": "markdown",
   "metadata": {},
   "source": [
    "<div class=\"alert alert-success\">\n",
    "<b>Reviewer's comment</b>\n",
    "\t  \n",
    "The data for each region was split into train and validation\n",
    "\t  \n",
    "</div>"
   ]
  },
  {
   "cell_type": "markdown",
   "metadata": {},
   "source": [
    "### Train Models"
   ]
  },
  {
   "cell_type": "code",
   "execution_count": 5,
   "metadata": {},
   "outputs": [
    {
     "name": "stdout",
     "output_type": "stream",
     "text": [
      "For Region 0, the root mean squared error for a linear model is 37.41\n",
      "For Region 0, the average volume of the predicted reserve is 92.72\n"
     ]
    },
    {
     "data": {
      "image/png": "[encoded data removed]",
      "text/plain": [
       "<Figure size 576x396 with 2 Axes>"
      ]
     },
     "metadata": {},
     "output_type": "display_data"
    },
    {
     "name": "stdout",
     "output_type": "stream",
     "text": [
      "For Region 1, the root mean squared error for a linear model is 0.9\n",
      "For Region 1, the average volume of the predicted reserve is 68.85\n"
     ]
    },
    {
     "data": {
      "image/png": "[encoded data removed]",
      "text/plain": [
       "<Figure size 576x396 with 2 Axes>"
      ]
     },
     "metadata": {},
     "output_type": "display_data"
    },
    {
     "name": "stdout",
     "output_type": "stream",
     "text": [
      "For Region 2, the root mean squared error for a linear model is 40.27\n",
      "For Region 2, the average volume of the predicted reserve is 95.12\n"
     ]
    },
    {
     "data": {
      "image/png": "[encoded data removed]",
      "text/plain": [
       "<Figure size 576x396 with 2 Axes>"
      ]
     },
     "metadata": {},
     "output_type": "display_data"
    },
    {
     "data": {
      "text/plain": [
       "<matplotlib.axes._subplots.AxesSubplot at 0x7f89485249d0>"
      ]
     },
     "execution_count": 5,
     "metadata": {},
     "output_type": "execute_result"
    }
   ],
   "source": [
    "model_0 = LinearRegression()\n",
    "model_0.fit(geo_0_train_features,geo_0_train_target)\n",
    "target_pred_0 = model_0.predict(geo_0_valid_features)\n",
    "print('For Region 0, the root mean squared error for a linear model is', round(mean_squared_error(geo_0_valid_target,target_pred_0,squared=False),2))\n",
    "print('For Region 0, the average volume of the predicted reserve is', round(target_pred_0.mean(),2))\n",
    "visualizer = ResidualsPlot(model_0)\n",
    "visualizer.fit(geo_0_train_features,geo_0_train_target)  # Fit the training data to the visualizer\n",
    "visualizer.score(geo_0_valid_features,geo_0_valid_target)  # Evaluate the model on the test data\n",
    "visualizer.show()                 # Finalize and render the figure\n",
    "\n",
    "\n",
    "model_1 = LinearRegression()\n",
    "model_1.fit(geo_1_train_features,geo_1_train_target)\n",
    "target_pred_1 = model_1.predict(geo_1_valid_features)\n",
    "print('For Region 1, the root mean squared error for a linear model is', round(mean_squared_error(geo_1_valid_target,target_pred_1,squared=False),2))\n",
    "print('For Region 1, the average volume of the predicted reserve is', round(target_pred_1.mean(),2))\n",
    "visualizer = ResidualsPlot(model_1)\n",
    "visualizer.fit(geo_1_train_features,geo_1_train_target)  # Fit the training data to the visualizer\n",
    "visualizer.score(geo_1_valid_features,geo_1_valid_target)  # Evaluate the model on the test data\n",
    "visualizer.show()       \n",
    "\n",
    "model_2 = LinearRegression()\n",
    "model_2.fit(geo_2_train_features,geo_2_train_target)\n",
    "target_pred_2 = model_2.predict(geo_2_valid_features)\n",
    "print('For Region 2, the root mean squared error for a linear model is', round(mean_squared_error(geo_2_valid_target,target_pred_2,squared=False),2))\n",
    "print('For Region 2, the average volume of the predicted reserve is', round(target_pred_2.mean(),2))\n",
    "visualizer = ResidualsPlot(model_2)\n",
    "visualizer.fit(geo_2_train_features,geo_2_train_target)  # Fit the training data to the visualizer\n",
    "visualizer.score(geo_2_valid_features,geo_2_valid_target)  # Evaluate the model on the test data\n",
    "visualizer.show()  \n"
   ]
  },
  {
   "cell_type": "markdown",
   "metadata": {},
   "source": [
    "#### Conclusions"
   ]
  },
  {
   "cell_type": "markdown",
   "metadata": {},
   "source": [
    "In this section, I trained three linear regression models (one for each region), and then looked at the average predicted volume per reserve, the root mean squared error, and the graph of the residuals. \n",
    "\n",
    "For region 0: \n",
    "- The average predicted volume of a reserve was **92.72 thousand barrels**.\n",
    "- The root mean squared error of the linear regression model was **37.41**.\n",
    "- The residual graph showed a normal distribution with a fairly low maximum. \n",
    "\n",
    "For region 1: \n",
    "- The average predicted volume of a reserve was **68.85 thousand barrels**.\n",
    "- The root mean squared error of the linear regression model was **0.9**.\n",
    "- The residual graph showed a pattern where volume seems to not be normally distributed in the region. It looks as though volume is clumped around 6 values (0, ~30, ~60, ~80, ~110, and ~140). \n",
    "- It also seems as though the model was able to identify which group very well based on the root mean squared error.  \n",
    "\n",
    "For region 2:\n",
    "- The average predicted volume of a reserve was **95.12 thousand barrels**.\n",
    "- The root mean squared error of the linear regression model was **40.27**.\n",
    "- The residual graph showed a normal distribution with a fairly low maximum. \n",
    "\n",
    "\n",
    "Overall:\n",
    "- Region 0 and region 2 showed very similar patterns which larger average predicted values, but the model had a difficult time predicting values closely. \n",
    "- Contrastingly, region 1 had a much lower average predicted value, but the model did a much better job at getting close to the predicted values. "
   ]
  },
  {
   "cell_type": "markdown",
   "metadata": {},
   "source": [
    "<div class=\"alert alert-warning\">\n",
    "<b>Reviewer's comment</b>\n",
    "\t  \n",
    "The models were trained and evaluated correctly. It's great that you used residual plots! There's some obvious code duplication though.\n",
    "\t  \n",
    "</div>"
   ]
  },
  {
   "cell_type": "markdown",
   "metadata": {},
   "source": [
    "<div class=\"alert alert-info\">\n",
    "<b>Response</b>\n",
    "\t  \n",
    "I was trying to figure out how to loop this but couldnt figure it out. Any suggestions?\n",
    "\t  \n",
    "</div>"
   ]
  },
  {
   "cell_type": "markdown",
   "metadata": {},
   "source": [
    "<div class=\"alert alert-warning\">\n",
    "<b>Reviewer's comment V2</b>\n",
    "\t  \n",
    "For example, you could do something like this:\n",
    "    \n",
    "```python\n",
    "valid_sets = []\n",
    "predictions = []\n",
    "for region in [geo_0, geo_1, geo_2]:\n",
    "    model, train, valid, preds = make_model(region)\n",
    "    valid_sets.append(valid)\n",
    "    predictions.append(preds)\n",
    "```\n",
    "    \n",
    "where `make_model` would combine the code where you split the data, train a model and generate predictions. It would be even better to make a dataframe with valid target and predictions columns for each region, as it would make matching the predictions with correct targets much easier\n",
    "\t  \n",
    "</div>"
   ]
  },
  {
   "cell_type": "markdown",
   "metadata": {},
   "source": [
    "<div class=\"alert alert-info\">\n",
    "<b>Response</b>\n",
    "\t  \n",
    "I was trying to figure out how to loop this but couldnt figure it out. Any suggestions?\n",
    "\t  \n",
    "</div>"
   ]
  },
  {
   "cell_type": "markdown",
   "metadata": {},
   "source": [
    "<div class=\"alert alert-warning\">\n",
    "<b>Reviewer's comment V3</b>\n",
    "\t  \n",
    "Sorry, I'm not sure what you're asking, I suggested one way to loop through the regions in the comment above (?)\n",
    "\t  \n",
    "</div>"
   ]
  },
  {
   "cell_type": "markdown",
   "metadata": {},
   "source": [
    "## Profit Calculation"
   ]
  },
  {
   "cell_type": "code",
   "execution_count": 6,
   "metadata": {},
   "outputs": [
    {
     "name": "stdout",
     "output_type": "stream",
     "text": [
      "Wells need to supply at least 111 units to be profitable.\n",
      "The average well in region 0 supplies 92.5 units.\n",
      "The average well in region 1 supplies 68.82 units.\n",
      "The average well in region 2 supplies 95.0 units.\n"
     ]
    }
   ],
   "source": [
    "budget_per_well = 500000\n",
    "rev_per_barrel = 4.5\n",
    "#the point where revenue equals costs\n",
    "break_even = 500000/(4.5*1000)\n",
    "print('Wells need to supply at least', round(break_even), 'units to be profitable.')\n",
    "print('The average well in region 0 supplies', round(geo_0['product'].mean(),2), 'units.')\n",
    "print('The average well in region 1 supplies', round(geo_1['product'].mean(),2), 'units.')\n",
    "print('The average well in region 2 supplies', round(geo_2['product'].mean(),2), 'units.')\n"
   ]
  },
  {
   "cell_type": "markdown",
   "metadata": {},
   "source": [
    "### Conclusions"
   ]
  },
  {
   "cell_type": "markdown",
   "metadata": {},
   "source": [
    "From the calculations, we can see that, to be profitable, wells need to supply at least **111 units**. None of the regions have averages that high, so picking at random is not likely to provide a profitable outcome. Yet, if one had to pick at random, regions 0 and 2 would be the best choices as their average is **over 20 units** higher. "
   ]
  },
  {
   "cell_type": "markdown",
   "metadata": {},
   "source": [
    "<div class=\"alert alert-success\">\n",
    "<b>Reviewer's comment</b>\n",
    "\t  \n",
    "Yep, you are absolutely right!\n",
    "\t  \n",
    "</div>"
   ]
  },
  {
   "cell_type": "markdown",
   "metadata": {},
   "source": [
    "## Profit From Highest Predicted Wells"
   ]
  },
  {
   "cell_type": "code",
   "execution_count": 7,
   "metadata": {
    "scrolled": true
   },
   "outputs": [
    {
     "name": "stdout",
     "output_type": "stream",
     "text": [
      "The predicted average of the top 200 predicted volumes in region 0 is 154.61 units.\n",
      "The actual average of the top 200 predicted volumes in region 0 is 147.23 units.\n",
      "The actual average of all wells in region 0 is 92.5 units.\n",
      "\n",
      "\n",
      "The predicted average of the top 200 predicted volumes in region 1 is 138.75 units.\n",
      "The actual average of the top 200 predicted volumes in region 1 is 137.95 units.\n",
      "The actual average of all wells in region 1 is 68.82 units.\n",
      "\n",
      "\n",
      "The predicted average of the top 200 predicted volumes in region 2 is 149.29 units.\n",
      "The actual average of the top 200 predicted volumes in region 2 is 138.81 units.\n",
      "The actual average of all wells in region 2 is 95.0 units.\n",
      "\n",
      "\n"
     ]
    }
   ],
   "source": [
    "#Region 0\n",
    "top_200_pred_0 = pd.Series(target_pred_0).sort_values(ascending=False)[:200]\n",
    "top_200_true_0 = geo_0_valid_target[top_200_pred_0.index]\n",
    "print('The predicted average of the top 200 predicted volumes in region 0 is', round(top_200_pred_0.mean(),2), 'units.')\n",
    "print('The actual average of the top 200 predicted volumes in region 0 is', round(top_200_true_0.mean(),2), 'units.')\n",
    "print('The actual average of all wells in region 0 is', round(geo_0['product'].mean(),2), 'units.')\n",
    "print('\\n')\n",
    "\n",
    "#Region 1\n",
    "top_200_pred_1 = pd.Series(target_pred_1).sort_values(ascending=False)[:200]\n",
    "top_200_true_1 = geo_1_valid_target[top_200_pred_1.index]\n",
    "print('The predicted average of the top 200 predicted volumes in region 1 is', round(top_200_pred_1.mean(),2), 'units.')\n",
    "print('The actual average of the top 200 predicted volumes in region 1 is', round(top_200_true_1.mean(),2), 'units.')\n",
    "print('The actual average of all wells in region 1 is', round(geo_1['product'].mean(),2), 'units.')\n",
    "print('\\n')\n",
    "\n",
    "#Region 2\n",
    "top_200_pred_2 = pd.Series(target_pred_2).sort_values(ascending=False)[:200]\n",
    "top_200_true_2 = geo_2_valid_target[top_200_pred_2.index]\n",
    "print('The predicted average of the top 200 predicted volumes in region 2 is', round(top_200_pred_2.mean(),2), 'units.')\n",
    "print('The actual average of the top 200 predicted volumes in region 2 is', round(top_200_true_2.mean(),2), 'units.')\n",
    "print('The actual average of all wells in region 2 is', round(geo_2['product'].mean(),2), 'units.')\n",
    "print('\\n')"
   ]
  },
  {
   "cell_type": "markdown",
   "metadata": {},
   "source": [
    "### Conclusions"
   ]
  },
  {
   "cell_type": "markdown",
   "metadata": {},
   "source": [
    "In this step, I looked at how many units the top 200 predicted wells from each region would actually produce. In this case, region 0 would produce the most with **47.23 units**, region 2 is next with **138.81 units**, and region 1 came in last with **137.95 units**. In reality, this is not very helpful as we will not have access to choose from around 25,000 wells per region. It also does not account for any variability in the choices available. "
   ]
  },
  {
   "cell_type": "markdown",
   "metadata": {},
   "source": [
    "<div class=\"alert alert-danger\">\n",
    "<s><b>Reviewer's comment</b>\n",
    "\t  \n",
    "Validation set should be used, rather than all data.\n",
    "\t  \n",
    "</div>"
   ]
  },
  {
   "cell_type": "markdown",
   "metadata": {},
   "source": [
    "<div class=\"alert alert-success\">\n",
    "<b>Reviewer's comment V2</b>\n",
    "\t  \n",
    "Fixed!\n",
    "\t  \n",
    "</div>"
   ]
  },
  {
   "cell_type": "markdown",
   "metadata": {},
   "source": [
    "<div class=\"alert alert-warning\">\n",
    "<b>Reviewer's comment</b>\n",
    "\t  \n",
    "Also, as far as I understand, the subtasks of task 4 just describe what the profit calculation function should do. It is actually extremely unlikely to get the overall top 200 wells in our sample of 500 out of 25000, so this value doesn't tell us much about the possible profit. The much better estimate comes from using the bootstrap.\n",
    "\t  \n",
    "</div>"
   ]
  },
  {
   "cell_type": "markdown",
   "metadata": {},
   "source": [
    "## Bootstrapping"
   ]
  },
  {
   "cell_type": "markdown",
   "metadata": {},
   "source": [
    "### Model"
   ]
  },
  {
   "cell_type": "code",
   "execution_count": 8,
   "metadata": {
    "scrolled": false
   },
   "outputs": [
    {
     "data": {
      "text/plain": [
       "Text(0, 0.5, 'Density')"
      ]
     },
     "execution_count": 8,
     "metadata": {},
     "output_type": "execute_result"
    },
    {
     "data": {
      "image/png": "[encoded data removed]",
      "text/plain": [
       "<Figure size 576x396 with 1 Axes>"
      ]
     },
     "metadata": {},
     "output_type": "display_data"
    }
   ],
   "source": [
    "#random state\n",
    "state = np.random.RandomState(13)\n",
    "\n",
    "#function to calculate profit\n",
    "def profit(target,prediction,count):\n",
    "    predict_sorted = prediction.sort_values(ascending=False)\n",
    "    selected=target[predict_sorted.index][:count]\n",
    "    return 4500*selected.sum()-100000000\n",
    "\n",
    "#region 0\n",
    "#where profit values will be stored\n",
    "values_0 = []\n",
    "for i in range(1000):\n",
    "    #get target values for 500 random observations\n",
    "    target_subsample = geo_0_valid_target.sample(n=500,replace=True,random_state=state)\n",
    "    #get the prediction values for those 500 random observations\n",
    "    predict_subsample = pd.Series(target_pred_0)[target_subsample.index]\n",
    "    #calculate the profit and add it to the values list\n",
    "    values_0.append(profit(target_subsample,predict_subsample,200))\n",
    "#convert to a series\n",
    "values_0 = pd.Series(values_0)\n",
    "#create a histogram of the profit values\n",
    "sns.kdeplot(values_0,shade=True,color='r',label='Region 0')\n",
    "\n",
    "#region 1\n",
    "#where profit values will be stored\n",
    "values_1 = []\n",
    "for i in range(1000):\n",
    "    #get target values for 500 random observations\n",
    "    target_subsample = geo_1_valid_target.sample(n=500,replace=True,random_state=state)\n",
    "    #get the prediction values for those 500 random observations\n",
    "    predict_subsample = pd.Series(target_pred_1)[target_subsample.index]\n",
    "    #calculate the profit and add it to the values list\n",
    "    values_1.append(profit(target_subsample,predict_subsample,200))\n",
    "#convert to a series\n",
    "values_1 = pd.Series(values_1)\n",
    "#create a histogram of the profit values\n",
    "sns.kdeplot(values_1,shade=True,color='g',label='Region 1')\n",
    "\n",
    "#region 2\n",
    "#where profit values will be stored\n",
    "values_2 = []\n",
    "for i in range(1000):\n",
    "    #get target values for 500 random observations\n",
    "    target_subsample = geo_2_valid_target.sample(n=500,replace=True,random_state=state)\n",
    "    #get the prediction values for those 500 random observations\n",
    "    predict_subsample = pd.Series(target_pred_2)[target_subsample.index]\n",
    "    #calculate the profit and add it to the values list\n",
    "    values_2.append(profit(target_subsample,predict_subsample,200))\n",
    "#convert to a series\n",
    "values_2 = pd.Series(values_2)\n",
    "#create a histogram of the profit values\n",
    "sns.kdeplot(values_2,shade=True,color='b',label='Region 2')\n",
    "#add labels to the histogram with all three regions\n",
    "plt.xlabel(\"Profit in 10 millions\")\n",
    "plt.ylabel(\"Density\")"
   ]
  },
  {
   "cell_type": "markdown",
   "metadata": {},
   "source": [
    "#### Conclusions"
   ]
  },
  {
   "cell_type": "markdown",
   "metadata": {},
   "source": [
    "For the bootstrapping model, I looked at 1000 samples of 500 wells chose the top 200 wells by predicted volume. I then calculated the profit for each sample and displayed the distribution of profits for each region in the histogram above. The reason I looked at 500 wells is to hopefully simulate real world possibilities with regards to the options available when OilyGiant is deciding on new fracking locations.\n",
    "\n",
    "The histogram above shows that, while the average profits seem to be fairly similar, region 0 has more extreme high-profit outcomes, but also have more extreme low-profit outcomes than region 1. As for region 2, it seems to be statistically dominated by both regions 0 and 1. "
   ]
  },
  {
   "cell_type": "markdown",
   "metadata": {},
   "source": [
    "<div class=\"alert alert-danger\">\n",
    "<s><b>Reviewer's comment</b>\n",
    "\t  \n",
    "The profit calculation function and the code for bootstrapping look good, except:\n",
    "    \n",
    "1. Sampling should be done from the validation set, otherwise we are validating the model on the same data it was trained on, and that's not good (the reason we split the data into train and validation is to avoid this in the first place).\n",
    "2. After that you might need to check that the indices of `target` and `prediction` passed into the profit function are the same.\n",
    "\n",
    "\t  \n",
    "</div>"
   ]
  },
  {
   "cell_type": "markdown",
   "metadata": {},
   "source": [
    "<div class=\"alert alert-danger\">\n",
    "<s><b>Reviewer's comment V2</b>\n",
    "\t  \n",
    "Unfortunately you are not selecting the corresponding predictions for the targets, because the indices don't match (for example compare `pd.Series(target_pred_0).index` and `geo_0_valid_target.index`\n",
    "\t  \n",
    "</div>"
   ]
  },
  {
   "cell_type": "markdown",
   "metadata": {},
   "source": [
    "<div class=\"alert alert-info\">\n",
    "<b>Response</b>\n",
    "\t  \n",
    "I am getting the same indices (0-24995, step = 1) for both. What am I doing wrong?\n",
    "\t  \n",
    "</div>"
   ]
  },
  {
   "cell_type": "markdown",
   "metadata": {},
   "source": [
    "<div class=\"alert alert-success\">\n",
    "<b>Reviewer's comment V3</b>\n",
    "\t  \n",
    "Oh, my bad, I missed that you reset the validation set index. Then it's correct! Sorry about that!\n",
    "    \n",
    "\t  \n",
    "</div>"
   ]
  },
  {
   "cell_type": "markdown",
   "metadata": {},
   "source": [
    "<div class=\"alert alert-warning\">\n",
    "<b>Reviewer's comment</b>\n",
    "\t  \n",
    "There is also some obvious code duplication for three regions: why not make some `bootstrap()` function taking the validation set targets and predictions as input?\n",
    "\t  \n",
    "</div>"
   ]
  },
  {
   "cell_type": "markdown",
   "metadata": {},
   "source": [
    "### Risk Evaluation"
   ]
  },
  {
   "cell_type": "code",
   "execution_count": 18,
   "metadata": {},
   "outputs": [
    {
     "data": {
      "text/plain": [
       "RangeIndex(start=0, stop=24995, step=1)"
      ]
     },
     "metadata": {},
     "output_type": "display_data"
    },
    {
     "name": "stdout",
     "output_type": "stream",
     "text": [
      "Region 0: \n",
      " \t Mean: 4552572.24 \n",
      " \t Confidence Interval: (4385894.37, 4719250.11) \n",
      " \t Loss Percentage: 4.6\n",
      "Region 1: \n",
      " \t Mean: 5046653.47 \n",
      " \t Confidence Interval: (4909451.32, 5183855.62) \n",
      " \t Loss Percentage: 0.7\n",
      "Region 2: \n",
      " \t Mean: 3746185.63 \n",
      " \t Confidence Interval: (3572736.39, 3919634.87) \n",
      " \t Loss Percentage: 8.6\n"
     ]
    }
   ],
   "source": [
    "#region 0 \n",
    "#find the mean\n",
    "mean_0 = round(values_0.mean(),2)\n",
    "#calculate the confident interval\n",
    "confid_int_0 = st.t.interval(alpha=0.95, df=len(values_0)-1, loc=np.mean(values_0), scale=st.sem(values_0)) \n",
    "confid_int_0_round = (round(confid_int_0[0], 2), round(confid_int_0[1], 2))\n",
    "#calculate the percentage of trials that produced negative profits\n",
    "losses_0 = []\n",
    "for x in values_0.index:\n",
    "    if values_0[x] < 0:\n",
    "        losses_0.append(1)\n",
    "    else:\n",
    "        losses_0.append(0)\n",
    "loss_percent_0 = round(pd.Series(losses_0).mean()*100,2)\n",
    "\n",
    "#region 1\n",
    "#find the mean\n",
    "mean_1 = round(values_1.mean(),2)\n",
    "#calculate the confident interval\n",
    "confid_int_1 = st.t.interval(alpha=0.95, df=len(values_1)-1, loc=np.mean(values_1), scale=st.sem(values_1)) \n",
    "confid_int_1_round = (round(confid_int_1[0], 2), round(confid_int_1[1], 2))\n",
    "#calculate the percentage of trials that produced negative profits\n",
    "losses_1 = []\n",
    "for x in values_1.index:\n",
    "    if values_1[x] < 0:\n",
    "        losses_1.append(1)\n",
    "    else:\n",
    "        losses_1.append(0)\n",
    "loss_percent_1 = round(pd.Series(losses_1).mean()*100,2)        \n",
    "\n",
    "#region 2\n",
    "#find the mean\n",
    "mean_2 = round(values_2.mean(),2)\n",
    "#calculate the confident interval\n",
    "confid_int_2 = st.t.interval(alpha=0.95, df=len(values_2)-1, loc=np.mean(values_2), scale=st.sem(values_2)) \n",
    "confid_int_2_round = (round(confid_int_2[0], 2), round(confid_int_2[1], 2))\n",
    "#calculate the percentage of trials that produced negative profits\n",
    "losses_2 = []\n",
    "for x in values_2.index:\n",
    "    if values_2[x] < 0:\n",
    "        losses_2.append(1)\n",
    "    else:\n",
    "        losses_2.append(0)\n",
    "loss_percent_2 = round(pd.Series(losses_2).mean()*100,2)  \n",
    "#print the means, confidence intervals and loss percentages for each region\n",
    "print('Region 0: \\n \\t Mean:', mean_0, '\\n \\t Confidence Interval:',confid_int_0_round, '\\n \\t Loss Percentage:',loss_percent_0)\n",
    "print('Region 1: \\n \\t Mean:', mean_1, '\\n \\t Confidence Interval:',confid_int_1_round, '\\n \\t Loss Percentage:',loss_percent_1)\n",
    "print('Region 2: \\n \\t Mean:', mean_2, '\\n \\t Confidence Interval:',confid_int_2_round, '\\n \\t Loss Percentage:',loss_percent_2)"
   ]
  },
  {
   "cell_type": "markdown",
   "metadata": {},
   "source": [
    "#### Conclusions"
   ]
  },
  {
   "cell_type": "markdown",
   "metadata": {},
   "source": [
    "Overall, region 1 has the highest mean profit with the lowest loss percentage. For that reason, it is clear that region 1 is the recommended choice as an area for OilyGiant to build new wells. "
   ]
  },
  {
   "cell_type": "markdown",
   "metadata": {},
   "source": [
    "<div class=\"alert alert-warning\">\n",
    "<b>Reviewer's comment</b>\n",
    "\t  \n",
    "Mean profit, 95% confidence interval and risk of losses are calculated correctly, but again there is some obvious code duplication.\n",
    "\t  \n",
    "</div>"
   ]
  },
  {
   "cell_type": "markdown",
   "metadata": {},
   "source": [
    "## Overall Conclusions"
   ]
  },
  {
   "cell_type": "markdown",
   "metadata": {},
   "source": [
    "In this project, I looked at which of three regions is an optimal choice for OilyGiant to build new wells. I used linear regression models that used 3 factors to predict the volume of a new well. Afterward, I looked at regions with the overall highest performing wells. Lastly, I bootstrapped the data from each region to simulate realistic scenarios of choices OilyGiant will have to make when choosing wells in a specific region.\n",
    "\n",
    "Overall, it is clear that simple statistics can lead one astray when making choices. If someone just looked at the average volume per well per location, they would have never considered region 1. Yet, due to the clumping nature of the data, the linear regression model was able to identify high-volume wells with much greater accuracy than in other regions. This led to the model significantly outperforming the two other regions, in terms of profit and loss percentage, even with lower average volume. "
   ]
  },
  {
   "cell_type": "markdown",
   "metadata": {},
   "source": [
    "<div class=\"alert alert-danger\">\n",
    "<s><b>Reviewer's comment</b>\n",
    "\t  \n",
    "Please check the conclusions after fixing the problems above\n",
    "\t  \n",
    "</div>"
   ]
  },
  {
   "cell_type": "markdown",
   "metadata": {},
   "source": [
    "<div class=\"alert alert-success\">\n",
    "<b>Reviewer's comment V2</b>\n",
    "\t  \n",
    "Region choice is correct and justified!\n",
    "\t  \n",
    "</div>"
   ]
  },
  {
   "cell_type": "code",
   "execution_count": null,
   "metadata": {},
   "outputs": [],
   "source": []
  }
 ],
 "metadata": {
  "ExecuteTimeLog": [
   {
    "duration": 333,
    "start_time": "2021-10-18T17:20:26.302Z"
   },
   {
    "duration": 568,
    "start_time": "2021-10-18T17:20:49.195Z"
   },
   {
    "duration": 1391,
    "start_time": "2021-10-18T17:20:51.751Z"
   },
   {
    "duration": 9048,
    "start_time": "2021-10-18T17:22:40.126Z"
   },
   {
    "duration": 491,
    "start_time": "2021-10-18T17:23:43.949Z"
   },
   {
    "duration": 248,
    "start_time": "2021-10-18T17:23:53.144Z"
   },
   {
    "duration": 285,
    "start_time": "2021-10-18T17:24:08.133Z"
   },
   {
    "duration": 695,
    "start_time": "2021-10-18T17:25:14.682Z"
   },
   {
    "duration": 922,
    "start_time": "2021-10-18T17:26:35.216Z"
   },
   {
    "duration": 720,
    "start_time": "2021-10-18T17:26:55.871Z"
   },
   {
    "duration": 752,
    "start_time": "2021-10-18T17:29:34.051Z"
   },
   {
    "duration": 792,
    "start_time": "2021-10-18T17:29:50.403Z"
   },
   {
    "duration": 869,
    "start_time": "2021-10-18T17:30:32.316Z"
   },
   {
    "duration": 785,
    "start_time": "2021-10-18T17:30:53.688Z"
   },
   {
    "duration": 1143,
    "start_time": "2021-10-18T17:31:38.041Z"
   },
   {
    "duration": 997,
    "start_time": "2021-10-18T17:32:11.372Z"
   },
   {
    "duration": 989,
    "start_time": "2021-10-18T17:32:58.732Z"
   },
   {
    "duration": 907,
    "start_time": "2021-10-18T17:35:44.313Z"
   },
   {
    "duration": 800,
    "start_time": "2021-10-18T17:36:17.066Z"
   },
   {
    "duration": 918,
    "start_time": "2021-10-18T17:38:35.373Z"
   },
   {
    "duration": 1163,
    "start_time": "2021-10-18T17:39:15.329Z"
   },
   {
    "duration": 1949,
    "start_time": "2021-10-18T17:39:33.643Z"
   },
   {
    "duration": 907,
    "start_time": "2021-10-18T17:39:50.124Z"
   },
   {
    "duration": 203,
    "start_time": "2021-10-18T17:41:43.083Z"
   },
   {
    "duration": 374,
    "start_time": "2021-10-18T17:43:53.992Z"
   },
   {
    "duration": 332,
    "start_time": "2021-10-18T17:44:17.150Z"
   },
   {
    "duration": 1356,
    "start_time": "2021-10-18T17:45:23.965Z"
   },
   {
    "duration": 236,
    "start_time": "2021-10-18T17:46:32.766Z"
   },
   {
    "duration": 63,
    "start_time": "2021-10-18T17:46:51.933Z"
   },
   {
    "duration": 66,
    "start_time": "2021-10-18T17:47:15.886Z"
   },
   {
    "duration": 198,
    "start_time": "2021-10-18T17:47:26.021Z"
   },
   {
    "duration": 185,
    "start_time": "2021-10-18T17:47:43.779Z"
   },
   {
    "duration": 364,
    "start_time": "2021-10-18T17:50:25.161Z"
   },
   {
    "duration": 355,
    "start_time": "2021-10-18T17:50:51.085Z"
   },
   {
    "duration": 4023,
    "start_time": "2021-10-18T17:52:37.452Z"
   },
   {
    "duration": 770,
    "start_time": "2021-10-18T17:52:41.478Z"
   },
   {
    "duration": 305,
    "start_time": "2021-10-18T17:52:42.250Z"
   },
   {
    "duration": 267,
    "start_time": "2021-10-18T17:52:51.978Z"
   },
   {
    "duration": 218,
    "start_time": "2021-10-18T17:53:24.579Z"
   },
   {
    "duration": 60,
    "start_time": "2021-10-18T17:54:55.630Z"
   },
   {
    "duration": 63,
    "start_time": "2021-10-18T17:57:09.560Z"
   },
   {
    "duration": 195,
    "start_time": "2021-10-18T17:57:23.659Z"
   },
   {
    "duration": 3855,
    "start_time": "2021-10-18T17:57:53.836Z"
   },
   {
    "duration": 717,
    "start_time": "2021-10-18T17:57:57.693Z"
   },
   {
    "duration": 182,
    "start_time": "2021-10-18T17:57:58.412Z"
   },
   {
    "duration": 369,
    "start_time": "2021-10-18T17:58:16.555Z"
   },
   {
    "duration": 27,
    "start_time": "2021-10-18T18:00:26.898Z"
   },
   {
    "duration": 36,
    "start_time": "2021-10-18T18:05:02.027Z"
   },
   {
    "duration": 735,
    "start_time": "2021-10-18T18:06:29.764Z"
   },
   {
    "duration": 203,
    "start_time": "2021-10-18T18:22:28.468Z"
   },
   {
    "duration": 5367,
    "start_time": "2021-10-18T18:23:21.601Z"
   },
   {
    "duration": 195,
    "start_time": "2021-10-18T18:23:32.449Z"
   },
   {
    "duration": 175,
    "start_time": "2021-10-18T18:23:43.035Z"
   },
   {
    "duration": 191,
    "start_time": "2021-10-18T18:26:54.046Z"
   },
   {
    "duration": 373,
    "start_time": "2021-10-18T18:27:16.825Z"
   },
   {
    "duration": 12680,
    "start_time": "2021-10-18T18:28:23.023Z"
   },
   {
    "duration": 17,
    "start_time": "2021-10-18T18:30:04.615Z"
   },
   {
    "duration": 14,
    "start_time": "2021-10-18T18:30:19.162Z"
   },
   {
    "duration": 16,
    "start_time": "2021-10-18T18:30:23.824Z"
   },
   {
    "duration": 12,
    "start_time": "2021-10-18T18:31:35.010Z"
   },
   {
    "duration": 204,
    "start_time": "2021-10-18T18:32:58.190Z"
   },
   {
    "duration": 245,
    "start_time": "2021-10-18T18:33:36.752Z"
   },
   {
    "duration": 259,
    "start_time": "2021-10-18T18:33:45.860Z"
   },
   {
    "duration": 82,
    "start_time": "2021-10-18T18:33:53.694Z"
   },
   {
    "duration": 99,
    "start_time": "2021-10-18T18:34:03.412Z"
   },
   {
    "duration": 292,
    "start_time": "2021-10-18T18:34:08.378Z"
   },
   {
    "duration": 103,
    "start_time": "2021-10-18T18:34:15.719Z"
   },
   {
    "duration": 116,
    "start_time": "2021-10-18T18:34:23.415Z"
   },
   {
    "duration": 116,
    "start_time": "2021-10-18T18:34:32.848Z"
   },
   {
    "duration": 123,
    "start_time": "2021-10-18T18:34:42.535Z"
   },
   {
    "duration": 139,
    "start_time": "2021-10-18T18:34:57.061Z"
   },
   {
    "duration": 200,
    "start_time": "2021-10-18T18:36:37.662Z"
   },
   {
    "duration": 201,
    "start_time": "2021-10-18T18:37:09.585Z"
   },
   {
    "duration": 198,
    "start_time": "2021-10-18T18:37:17.522Z"
   },
   {
    "duration": 226,
    "start_time": "2021-10-18T18:38:10.449Z"
   },
   {
    "duration": 3117,
    "start_time": "2021-10-18T18:38:17.698Z"
   },
   {
    "duration": 766,
    "start_time": "2021-10-18T18:38:20.817Z"
   },
   {
    "duration": 197,
    "start_time": "2021-10-18T18:38:21.586Z"
   },
   {
    "duration": 43,
    "start_time": "2021-10-18T18:38:21.785Z"
   },
   {
    "duration": 393,
    "start_time": "2021-10-18T18:38:21.830Z"
   },
   {
    "duration": 239,
    "start_time": "2021-10-18T18:38:39.515Z"
   },
   {
    "duration": 1142,
    "start_time": "2021-10-18T18:40:17.080Z"
   },
   {
    "duration": 743,
    "start_time": "2021-10-18T18:40:18.224Z"
   },
   {
    "duration": 188,
    "start_time": "2021-10-18T18:40:18.970Z"
   },
   {
    "duration": 47,
    "start_time": "2021-10-18T18:40:19.160Z"
   },
   {
    "duration": 372,
    "start_time": "2021-10-18T18:40:19.209Z"
   },
   {
    "duration": 4,
    "start_time": "2021-10-18T18:40:38.980Z"
   },
   {
    "duration": 3,
    "start_time": "2021-10-18T18:41:03.678Z"
   },
   {
    "duration": 253,
    "start_time": "2021-10-18T18:41:11.754Z"
   },
   {
    "duration": 8100,
    "start_time": "2021-10-18T18:42:26.020Z"
   },
   {
    "duration": 301,
    "start_time": "2021-10-18T18:42:39.640Z"
   },
   {
    "duration": 41213,
    "start_time": "2021-10-18T18:43:25.236Z"
   },
   {
    "duration": 202,
    "start_time": "2021-10-18T18:44:06.456Z"
   },
   {
    "duration": 280,
    "start_time": "2021-10-18T18:44:23.165Z"
   },
   {
    "duration": 1726,
    "start_time": "2021-10-18T18:44:51.815Z"
   },
   {
    "duration": 325,
    "start_time": "2021-10-18T18:45:03.083Z"
   },
   {
    "duration": 1820,
    "start_time": "2021-10-18T18:48:02.629Z"
   },
   {
    "duration": 7,
    "start_time": "2021-10-18T18:48:13.453Z"
   },
   {
    "duration": 4,
    "start_time": "2021-10-18T18:49:03.657Z"
   },
   {
    "duration": 1284,
    "start_time": "2021-10-18T18:49:12.521Z"
   },
   {
    "duration": 191,
    "start_time": "2021-10-18T18:49:16.156Z"
   },
   {
    "duration": 38,
    "start_time": "2021-10-18T18:49:19.467Z"
   },
   {
    "duration": 292,
    "start_time": "2021-10-18T18:49:21.500Z"
   },
   {
    "duration": 310,
    "start_time": "2021-10-18T18:49:56.992Z"
   },
   {
    "duration": 93,
    "start_time": "2021-10-18T18:50:12.607Z"
   },
   {
    "duration": 214,
    "start_time": "2021-10-18T18:50:20.681Z"
   },
   {
    "duration": 60,
    "start_time": "2021-10-18T18:56:40.803Z"
   },
   {
    "duration": 1224,
    "start_time": "2021-10-18T18:57:25.814Z"
   },
   {
    "duration": 1369,
    "start_time": "2021-10-18T18:57:43.634Z"
   },
   {
    "duration": 2092,
    "start_time": "2021-10-18T18:58:19.113Z"
   },
   {
    "duration": 2246,
    "start_time": "2021-10-18T19:33:14.411Z"
   },
   {
    "duration": 5219,
    "start_time": "2021-10-18T19:33:30.921Z"
   },
   {
    "duration": 764,
    "start_time": "2021-10-18T19:33:40.590Z"
   },
   {
    "duration": 172,
    "start_time": "2021-10-18T19:33:44.028Z"
   },
   {
    "duration": 35,
    "start_time": "2021-10-18T19:33:46.937Z"
   },
   {
    "duration": 3208,
    "start_time": "2021-10-18T19:34:42.391Z"
   },
   {
    "duration": 7607,
    "start_time": "2021-10-18T19:35:25.586Z"
   },
   {
    "duration": 11047,
    "start_time": "2021-10-18T19:38:29.557Z"
   },
   {
    "duration": 3,
    "start_time": "2021-10-18T20:02:47.630Z"
   },
   {
    "duration": 4,
    "start_time": "2021-10-18T20:03:41.432Z"
   },
   {
    "duration": 183,
    "start_time": "2021-10-18T20:03:57.102Z"
   },
   {
    "duration": 5,
    "start_time": "2021-10-18T20:04:12.091Z"
   },
   {
    "duration": 186,
    "start_time": "2021-10-18T20:05:45.788Z"
   },
   {
    "duration": 7,
    "start_time": "2021-10-18T20:05:57.949Z"
   },
   {
    "duration": 11,
    "start_time": "2021-10-18T20:06:09.717Z"
   },
   {
    "duration": 11,
    "start_time": "2021-10-18T20:11:17.325Z"
   },
   {
    "duration": 244,
    "start_time": "2021-10-18T20:11:25.166Z"
   },
   {
    "duration": 267,
    "start_time": "2021-10-18T20:11:39.482Z"
   },
   {
    "duration": 273,
    "start_time": "2021-10-18T20:11:58.974Z"
   },
   {
    "duration": 258,
    "start_time": "2021-10-18T20:12:06.151Z"
   },
   {
    "duration": 12,
    "start_time": "2021-10-18T20:12:10.448Z"
   },
   {
    "duration": 76,
    "start_time": "2021-10-18T20:12:18.816Z"
   },
   {
    "duration": 102,
    "start_time": "2021-10-18T20:12:25.191Z"
   },
   {
    "duration": 245,
    "start_time": "2021-10-18T20:12:56.704Z"
   },
   {
    "duration": 238,
    "start_time": "2021-10-18T20:13:29.270Z"
   },
   {
    "duration": 279,
    "start_time": "2021-10-18T20:13:47.575Z"
   },
   {
    "duration": 290,
    "start_time": "2021-10-18T20:14:55.073Z"
   },
   {
    "duration": 263,
    "start_time": "2021-10-18T20:15:09.551Z"
   },
   {
    "duration": 269,
    "start_time": "2021-10-18T20:16:02.149Z"
   },
   {
    "duration": 16,
    "start_time": "2021-10-18T20:16:05.199Z"
   },
   {
    "duration": 154,
    "start_time": "2021-10-18T20:16:14.039Z"
   },
   {
    "duration": 207,
    "start_time": "2021-10-18T20:16:37.688Z"
   },
   {
    "duration": 247,
    "start_time": "2021-10-18T20:16:55.055Z"
   },
   {
    "duration": 47,
    "start_time": "2021-10-18T20:17:02.951Z"
   },
   {
    "duration": 140,
    "start_time": "2021-10-18T20:17:09.552Z"
   },
   {
    "duration": 184,
    "start_time": "2021-10-18T20:17:26.208Z"
   },
   {
    "duration": 185,
    "start_time": "2021-10-18T20:17:33.808Z"
   },
   {
    "duration": 46,
    "start_time": "2021-10-18T20:17:40.951Z"
   },
   {
    "duration": 98,
    "start_time": "2021-10-18T20:18:48.903Z"
   },
   {
    "duration": 81,
    "start_time": "2021-10-18T20:18:56.719Z"
   },
   {
    "duration": 384,
    "start_time": "2021-10-18T20:22:46.195Z"
   },
   {
    "duration": 327,
    "start_time": "2021-10-18T20:23:53.880Z"
   },
   {
    "duration": 191,
    "start_time": "2021-10-18T20:24:07.904Z"
   },
   {
    "duration": 135,
    "start_time": "2021-10-18T20:24:18.058Z"
   },
   {
    "duration": 385,
    "start_time": "2021-10-18T20:28:25.324Z"
   },
   {
    "duration": 210,
    "start_time": "2021-10-18T20:28:31.282Z"
   },
   {
    "duration": 140,
    "start_time": "2021-10-18T20:28:47.353Z"
   },
   {
    "duration": 36,
    "start_time": "2021-10-18T20:30:24.869Z"
   },
   {
    "duration": 459,
    "start_time": "2021-10-18T20:40:16.935Z"
   },
   {
    "duration": 60,
    "start_time": "2021-10-18T20:41:19.060Z"
   },
   {
    "duration": 575,
    "start_time": "2021-10-18T20:41:25.217Z"
   },
   {
    "duration": 616,
    "start_time": "2021-10-18T20:41:37.378Z"
   },
   {
    "duration": 506,
    "start_time": "2021-10-18T20:41:40.699Z"
   },
   {
    "duration": 518,
    "start_time": "2021-10-18T20:41:46.475Z"
   },
   {
    "duration": 604,
    "start_time": "2021-10-18T20:42:29.989Z"
   },
   {
    "duration": 597,
    "start_time": "2021-10-18T20:43:47.596Z"
   },
   {
    "duration": 577,
    "start_time": "2021-10-18T20:44:11.126Z"
   },
   {
    "duration": 433,
    "start_time": "2021-10-18T20:44:22.069Z"
   },
   {
    "duration": 528,
    "start_time": "2021-10-18T20:44:36.779Z"
   },
   {
    "duration": 521,
    "start_time": "2021-10-18T20:45:09.877Z"
   },
   {
    "duration": 10,
    "start_time": "2021-10-18T20:46:14.630Z"
   },
   {
    "duration": 10402,
    "start_time": "2021-10-18T20:47:08.376Z"
   },
   {
    "duration": 10593,
    "start_time": "2021-10-18T20:47:52.350Z"
   },
   {
    "duration": 536,
    "start_time": "2021-10-18T20:48:45.170Z"
   },
   {
    "duration": 11,
    "start_time": "2021-10-18T20:49:25.263Z"
   },
   {
    "duration": 8,
    "start_time": "2021-10-18T20:52:31.529Z"
   },
   {
    "duration": 620,
    "start_time": "2021-10-18T20:55:40.473Z"
   },
   {
    "duration": 598,
    "start_time": "2021-10-18T20:56:04.104Z"
   },
   {
    "duration": 535,
    "start_time": "2021-10-18T20:56:45.564Z"
   },
   {
    "duration": 523,
    "start_time": "2021-10-18T20:57:00.874Z"
   },
   {
    "duration": 5467,
    "start_time": "2021-10-18T20:58:08.351Z"
   },
   {
    "duration": 1242,
    "start_time": "2021-10-18T20:58:13.820Z"
   },
   {
    "duration": 188,
    "start_time": "2021-10-18T20:58:15.065Z"
   },
   {
    "duration": 51,
    "start_time": "2021-10-18T20:58:15.255Z"
   },
   {
    "duration": 10566,
    "start_time": "2021-10-18T20:58:15.308Z"
   },
   {
    "duration": 16,
    "start_time": "2021-10-18T20:58:25.876Z"
   },
   {
    "duration": 601,
    "start_time": "2021-10-18T20:58:25.894Z"
   },
   {
    "duration": 62,
    "start_time": "2021-10-18T20:58:26.497Z"
   },
   {
    "duration": 908,
    "start_time": "2021-10-18T20:59:27.218Z"
   },
   {
    "duration": 275,
    "start_time": "2021-10-18T21:00:16.744Z"
   },
   {
    "duration": 9,
    "start_time": "2021-10-18T21:01:10.520Z"
   },
   {
    "duration": 287,
    "start_time": "2021-10-18T21:01:27.467Z"
   },
   {
    "duration": 13,
    "start_time": "2021-10-18T21:01:48.339Z"
   },
   {
    "duration": 262,
    "start_time": "2021-10-18T21:02:00.901Z"
   },
   {
    "duration": 17,
    "start_time": "2021-10-18T21:02:11.059Z"
   },
   {
    "duration": 616,
    "start_time": "2021-10-18T21:02:51.184Z"
   },
   {
    "duration": 627,
    "start_time": "2021-10-18T21:03:19.065Z"
   },
   {
    "duration": 404,
    "start_time": "2021-10-18T21:08:34.995Z"
   },
   {
    "duration": 5778,
    "start_time": "2021-10-18T21:09:21.063Z"
   },
   {
    "duration": 329,
    "start_time": "2021-10-18T21:10:05.770Z"
   },
   {
    "duration": 1189,
    "start_time": "2021-10-18T21:11:08.643Z"
   },
   {
    "duration": 576,
    "start_time": "2021-10-18T21:11:56.016Z"
   },
   {
    "duration": 2986,
    "start_time": "2021-10-18T21:12:10.956Z"
   },
   {
    "duration": 4217,
    "start_time": "2021-10-18T21:15:16.868Z"
   },
   {
    "duration": 3158,
    "start_time": "2021-10-18T21:15:52.583Z"
   },
   {
    "duration": 3281,
    "start_time": "2021-10-18T21:16:34.492Z"
   },
   {
    "duration": 3200,
    "start_time": "2021-10-18T21:16:46.998Z"
   },
   {
    "duration": 3333,
    "start_time": "2021-10-18T21:20:53.427Z"
   },
   {
    "duration": 3381,
    "start_time": "2021-10-18T21:22:03.310Z"
   },
   {
    "duration": 3183,
    "start_time": "2021-10-18T21:22:34.078Z"
   },
   {
    "duration": 3226,
    "start_time": "2021-10-18T21:26:11.790Z"
   },
   {
    "duration": 3436,
    "start_time": "2021-10-18T21:28:05.595Z"
   },
   {
    "duration": 3448,
    "start_time": "2021-10-18T21:28:54.574Z"
   },
   {
    "duration": 7699,
    "start_time": "2021-10-18T21:30:38.684Z"
   },
   {
    "duration": 752,
    "start_time": "2021-10-18T21:30:46.385Z"
   },
   {
    "duration": 174,
    "start_time": "2021-10-18T21:30:47.139Z"
   },
   {
    "duration": 38,
    "start_time": "2021-10-18T21:30:47.315Z"
   },
   {
    "duration": 10506,
    "start_time": "2021-10-18T21:30:47.355Z"
   },
   {
    "duration": 9,
    "start_time": "2021-10-18T21:30:57.863Z"
   },
   {
    "duration": 27,
    "start_time": "2021-10-18T21:30:57.873Z"
   },
   {
    "duration": 527,
    "start_time": "2021-10-18T21:30:57.902Z"
   },
   {
    "duration": 11,
    "start_time": "2021-10-18T21:31:08.633Z"
   },
   {
    "duration": 96,
    "start_time": "2021-10-18T21:32:16.697Z"
   },
   {
    "duration": 565,
    "start_time": "2021-10-18T21:34:03.632Z"
   },
   {
    "duration": 9028,
    "start_time": "2021-10-18T21:34:13.084Z"
   },
   {
    "duration": 9911,
    "start_time": "2021-10-18T21:36:37.171Z"
   },
   {
    "duration": 4339,
    "start_time": "2021-10-18T21:37:09.256Z"
   },
   {
    "duration": 9274,
    "start_time": "2021-10-18T21:37:14.186Z"
   },
   {
    "duration": 9348,
    "start_time": "2021-10-18T21:37:45.520Z"
   },
   {
    "duration": 9401,
    "start_time": "2021-10-18T21:39:56.739Z"
   },
   {
    "duration": 8926,
    "start_time": "2021-10-18T21:40:58.358Z"
   },
   {
    "duration": 8958,
    "start_time": "2021-10-18T21:42:35.135Z"
   },
   {
    "duration": 9727,
    "start_time": "2021-10-18T21:44:20.265Z"
   },
   {
    "duration": 69,
    "start_time": "2021-10-18T21:47:45.365Z"
   },
   {
    "duration": 6,
    "start_time": "2021-10-18T21:48:25.712Z"
   },
   {
    "duration": 6,
    "start_time": "2021-10-18T21:49:02.297Z"
   },
   {
    "duration": 11,
    "start_time": "2021-10-18T21:50:22.922Z"
   },
   {
    "duration": 4248,
    "start_time": "2021-10-18T21:52:54.417Z"
   },
   {
    "duration": 211,
    "start_time": "2021-10-18T21:53:22.432Z"
   },
   {
    "duration": 11,
    "start_time": "2021-10-18T21:53:48.821Z"
   },
   {
    "duration": 208,
    "start_time": "2021-10-18T22:00:41.236Z"
   },
   {
    "duration": 9,
    "start_time": "2021-10-18T22:02:21.870Z"
   },
   {
    "duration": 12,
    "start_time": "2021-10-18T22:05:02.700Z"
   },
   {
    "duration": 11,
    "start_time": "2021-10-18T22:05:07.350Z"
   },
   {
    "duration": 11,
    "start_time": "2021-10-18T22:05:32.445Z"
   },
   {
    "duration": 16,
    "start_time": "2021-10-18T22:10:25.098Z"
   },
   {
    "duration": 32,
    "start_time": "2021-10-18T22:12:17.546Z"
   },
   {
    "duration": 29,
    "start_time": "2021-10-18T22:12:28.317Z"
   },
   {
    "duration": 13,
    "start_time": "2021-10-18T22:13:54.446Z"
   },
   {
    "duration": 19,
    "start_time": "2021-10-18T22:14:40.585Z"
   },
   {
    "duration": 3260,
    "start_time": "2021-10-18T22:18:51.495Z"
   },
   {
    "duration": 2918,
    "start_time": "2021-10-18T22:19:18.720Z"
   },
   {
    "duration": 3505,
    "start_time": "2021-10-18T22:20:15.265Z"
   },
   {
    "duration": 5297,
    "start_time": "2021-10-18T22:21:17.952Z"
   },
   {
    "duration": 3752,
    "start_time": "2021-10-18T22:21:46.433Z"
   },
   {
    "duration": 3119,
    "start_time": "2021-10-18T22:22:13.680Z"
   },
   {
    "duration": 3151,
    "start_time": "2021-10-18T22:22:51.823Z"
   },
   {
    "duration": 4503,
    "start_time": "2021-10-18T22:25:07.021Z"
   },
   {
    "duration": 3410,
    "start_time": "2021-10-18T22:25:45.293Z"
   },
   {
    "duration": 214,
    "start_time": "2021-10-18T22:28:05.116Z"
   },
   {
    "duration": 19,
    "start_time": "2021-10-18T22:28:21.883Z"
   },
   {
    "duration": 222,
    "start_time": "2021-10-18T22:29:50.509Z"
   },
   {
    "duration": 29,
    "start_time": "2021-10-18T22:30:35.100Z"
   },
   {
    "duration": 38,
    "start_time": "2021-10-18T22:33:30.823Z"
   },
   {
    "duration": 36,
    "start_time": "2021-10-18T22:34:01.115Z"
   },
   {
    "duration": 614,
    "start_time": "2021-10-18T22:35:34.179Z"
   },
   {
    "duration": 131,
    "start_time": "2021-10-18T22:36:51.062Z"
   },
   {
    "duration": 584,
    "start_time": "2021-10-18T22:37:46.607Z"
   },
   {
    "duration": 445,
    "start_time": "2021-10-18T22:40:10.250Z"
   },
   {
    "duration": 615,
    "start_time": "2021-10-18T22:42:20.677Z"
   },
   {
    "duration": 524,
    "start_time": "2021-10-18T22:42:28.972Z"
   },
   {
    "duration": 5257,
    "start_time": "2021-10-18T22:46:03.173Z"
   },
   {
    "duration": 338,
    "start_time": "2021-10-18T22:46:20.468Z"
   },
   {
    "duration": 339,
    "start_time": "2021-10-18T22:47:09.558Z"
   },
   {
    "duration": 189,
    "start_time": "2021-10-18T22:51:12.403Z"
   },
   {
    "duration": 506,
    "start_time": "2021-10-18T22:55:27.777Z"
   },
   {
    "duration": 204,
    "start_time": "2021-10-18T22:55:33.182Z"
   },
   {
    "duration": 26,
    "start_time": "2021-10-18T22:56:08.059Z"
   },
   {
    "duration": 36,
    "start_time": "2021-10-18T22:57:47.919Z"
   },
   {
    "duration": 9010,
    "start_time": "2021-10-18T22:58:12.308Z"
   },
   {
    "duration": 40,
    "start_time": "2021-10-18T22:58:31.356Z"
   },
   {
    "duration": 65,
    "start_time": "2021-10-18T23:00:27.189Z"
   },
   {
    "duration": 47,
    "start_time": "2021-10-18T23:00:44.587Z"
   },
   {
    "duration": 37,
    "start_time": "2021-10-18T23:00:58.916Z"
   },
   {
    "duration": 5519,
    "start_time": "2021-10-18T23:02:52.079Z"
   },
   {
    "duration": 737,
    "start_time": "2021-10-18T23:02:57.600Z"
   },
   {
    "duration": 163,
    "start_time": "2021-10-18T23:02:58.339Z"
   },
   {
    "duration": 38,
    "start_time": "2021-10-18T23:02:58.503Z"
   },
   {
    "duration": 10579,
    "start_time": "2021-10-18T23:02:58.543Z"
   },
   {
    "duration": 8,
    "start_time": "2021-10-18T23:03:09.123Z"
   },
   {
    "duration": 31,
    "start_time": "2021-10-18T23:03:09.132Z"
   },
   {
    "duration": 321,
    "start_time": "2021-10-18T23:03:09.165Z"
   },
   {
    "duration": -257,
    "start_time": "2021-10-18T23:03:09.745Z"
   },
   {
    "duration": 28,
    "start_time": "2021-10-18T23:03:38.468Z"
   },
   {
    "duration": 29,
    "start_time": "2021-10-18T23:05:10.920Z"
   },
   {
    "duration": 35,
    "start_time": "2021-10-18T23:06:06.345Z"
   },
   {
    "duration": 253,
    "start_time": "2021-10-18T23:07:21.223Z"
   },
   {
    "duration": 38,
    "start_time": "2021-10-18T23:08:06.782Z"
   },
   {
    "duration": 208,
    "start_time": "2021-10-18T23:08:11.960Z"
   },
   {
    "duration": 222,
    "start_time": "2021-10-18T23:09:35.183Z"
   },
   {
    "duration": 35,
    "start_time": "2021-10-18T23:10:08.785Z"
   },
   {
    "duration": 36,
    "start_time": "2021-10-18T23:10:23.896Z"
   },
   {
    "duration": 36,
    "start_time": "2021-10-18T23:11:35.348Z"
   },
   {
    "duration": 34,
    "start_time": "2021-10-18T23:11:58.532Z"
   },
   {
    "duration": 26,
    "start_time": "2021-10-18T23:15:23.825Z"
   },
   {
    "duration": 23,
    "start_time": "2021-10-18T23:19:08.843Z"
   },
   {
    "duration": 24,
    "start_time": "2021-10-18T23:19:31.408Z"
   },
   {
    "duration": 24,
    "start_time": "2021-10-18T23:19:35.611Z"
   },
   {
    "duration": 218,
    "start_time": "2021-10-18T23:19:46.774Z"
   },
   {
    "duration": 23,
    "start_time": "2021-10-18T23:19:56.650Z"
   },
   {
    "duration": 27,
    "start_time": "2021-10-18T23:20:36.050Z"
   },
   {
    "duration": 26,
    "start_time": "2021-10-18T23:21:11.662Z"
   },
   {
    "duration": 207,
    "start_time": "2021-10-18T23:21:27.053Z"
   },
   {
    "duration": 27,
    "start_time": "2021-10-18T23:21:36.240Z"
   },
   {
    "duration": 35,
    "start_time": "2021-10-18T23:22:25.457Z"
   },
   {
    "duration": 33,
    "start_time": "2021-10-18T23:22:34.010Z"
   },
   {
    "duration": 35,
    "start_time": "2021-10-18T23:23:15.169Z"
   },
   {
    "duration": 39,
    "start_time": "2021-10-18T23:23:23.817Z"
   },
   {
    "duration": 39,
    "start_time": "2021-10-18T23:23:38.817Z"
   },
   {
    "duration": 34,
    "start_time": "2021-10-18T23:23:51.345Z"
   },
   {
    "duration": 35,
    "start_time": "2021-10-18T23:24:23.489Z"
   },
   {
    "duration": 41,
    "start_time": "2021-10-18T23:24:54.687Z"
   },
   {
    "duration": 10034,
    "start_time": "2021-10-18T23:24:57.062Z"
   },
   {
    "duration": 9,
    "start_time": "2021-10-18T23:25:14.618Z"
   },
   {
    "duration": 23,
    "start_time": "2021-10-18T23:25:45.353Z"
   },
   {
    "duration": 17,
    "start_time": "2021-10-18T23:27:00.842Z"
   },
   {
    "duration": 24,
    "start_time": "2021-10-18T23:27:39.070Z"
   },
   {
    "duration": 24,
    "start_time": "2021-10-18T23:27:56.130Z"
   },
   {
    "duration": 211,
    "start_time": "2021-10-18T23:28:53.622Z"
   },
   {
    "duration": 5304,
    "start_time": "2021-10-18T23:29:10.830Z"
   },
   {
    "duration": 731,
    "start_time": "2021-10-18T23:29:16.136Z"
   },
   {
    "duration": 237,
    "start_time": "2021-10-18T23:29:16.869Z"
   },
   {
    "duration": 41,
    "start_time": "2021-10-18T23:29:17.108Z"
   },
   {
    "duration": 10369,
    "start_time": "2021-10-18T23:29:17.151Z"
   },
   {
    "duration": 7,
    "start_time": "2021-10-18T23:29:27.522Z"
   },
   {
    "duration": 24,
    "start_time": "2021-10-18T23:29:27.530Z"
   },
   {
    "duration": 328,
    "start_time": "2021-10-18T23:29:27.555Z"
   },
   {
    "duration": -281,
    "start_time": "2021-10-18T23:29:28.166Z"
   },
   {
    "duration": 191,
    "start_time": "2021-10-18T23:31:45.822Z"
   },
   {
    "duration": 197,
    "start_time": "2021-10-18T23:32:33.867Z"
   },
   {
    "duration": 193,
    "start_time": "2021-10-18T23:33:57.111Z"
   },
   {
    "duration": 3234,
    "start_time": "2021-10-18T23:34:06.211Z"
   },
   {
    "duration": 383,
    "start_time": "2021-10-19T19:31:04.971Z"
   },
   {
    "duration": 19458,
    "start_time": "2021-10-19T19:31:22.056Z"
   },
   {
    "duration": 1160,
    "start_time": "2021-10-19T19:31:41.517Z"
   },
   {
    "duration": 391,
    "start_time": "2021-10-19T19:31:42.680Z"
   },
   {
    "duration": 57,
    "start_time": "2021-10-19T19:31:43.075Z"
   },
   {
    "duration": 15161,
    "start_time": "2021-10-19T19:31:43.134Z"
   },
   {
    "duration": 11,
    "start_time": "2021-10-19T19:31:58.297Z"
   },
   {
    "duration": 55,
    "start_time": "2021-10-19T19:31:58.323Z"
   },
   {
    "duration": 506,
    "start_time": "2021-10-19T19:31:58.381Z"
   },
   {
    "duration": -2872,
    "start_time": "2021-10-19T19:32:01.762Z"
   },
   {
    "duration": 6675,
    "start_time": "2021-10-19T19:32:12.927Z"
   },
   {
    "duration": 58,
    "start_time": "2021-10-19T19:34:06.872Z"
   },
   {
    "duration": 244,
    "start_time": "2021-10-19T19:38:10.434Z"
   },
   {
    "duration": 927,
    "start_time": "2021-10-19T19:38:55.568Z"
   },
   {
    "duration": 178,
    "start_time": "2021-10-19T19:39:15.499Z"
   },
   {
    "duration": 187,
    "start_time": "2021-10-19T19:39:23.694Z"
   },
   {
    "duration": 134,
    "start_time": "2021-10-19T19:40:35.337Z"
   },
   {
    "duration": 194,
    "start_time": "2021-10-19T19:40:41.389Z"
   },
   {
    "duration": 291,
    "start_time": "2021-10-19T19:42:10.420Z"
   },
   {
    "duration": 314,
    "start_time": "2021-10-19T19:42:28.231Z"
   },
   {
    "duration": 159,
    "start_time": "2021-10-19T19:42:41.271Z"
   },
   {
    "duration": 50,
    "start_time": "2021-10-19T19:42:47.399Z"
   },
   {
    "duration": 15905,
    "start_time": "2021-10-19T19:42:49.397Z"
   },
   {
    "duration": 13,
    "start_time": "2021-10-19T19:43:12.717Z"
   },
   {
    "duration": 132,
    "start_time": "2021-10-19T19:43:16.235Z"
   },
   {
    "duration": 499,
    "start_time": "2021-10-19T19:45:08.662Z"
   },
   {
    "duration": 17564,
    "start_time": "2021-10-19T19:47:17.793Z"
   },
   {
    "duration": 68,
    "start_time": "2021-10-19T19:48:04.188Z"
   },
   {
    "duration": 8823,
    "start_time": "2021-10-19T20:07:18.482Z"
   },
   {
    "duration": 1033,
    "start_time": "2021-10-19T20:07:27.308Z"
   },
   {
    "duration": 377,
    "start_time": "2021-10-19T20:07:28.345Z"
   },
   {
    "duration": 73,
    "start_time": "2021-10-19T20:07:28.724Z"
   },
   {
    "duration": 15263,
    "start_time": "2021-10-19T20:07:28.799Z"
   },
   {
    "duration": 13,
    "start_time": "2021-10-19T20:07:44.064Z"
   },
   {
    "duration": 595,
    "start_time": "2021-10-19T20:07:44.079Z"
   },
   {
    "duration": 17399,
    "start_time": "2021-10-19T20:07:44.677Z"
   },
   {
    "duration": 65,
    "start_time": "2021-10-19T20:08:02.079Z"
   },
   {
    "duration": 15364,
    "start_time": "2021-10-19T20:18:40.485Z"
   },
   {
    "duration": 486,
    "start_time": "2021-10-19T20:51:20.436Z"
   },
   {
    "duration": 57,
    "start_time": "2021-10-19T20:51:34.151Z"
   },
   {
    "duration": 522,
    "start_time": "2021-10-19T20:53:31.851Z"
   },
   {
    "duration": 14143,
    "start_time": "2021-10-19T21:09:52.609Z"
   },
   {
    "duration": 1148,
    "start_time": "2021-10-19T21:10:06.756Z"
   },
   {
    "duration": 250,
    "start_time": "2021-10-19T21:10:07.907Z"
   },
   {
    "duration": 50,
    "start_time": "2021-10-19T21:10:08.161Z"
   },
   {
    "duration": 16438,
    "start_time": "2021-10-19T21:10:08.214Z"
   },
   {
    "duration": 18,
    "start_time": "2021-10-19T21:10:24.661Z"
   },
   {
    "duration": 485,
    "start_time": "2021-10-19T21:10:24.681Z"
   },
   {
    "duration": 654,
    "start_time": "2021-10-19T21:10:25.168Z"
   },
   {
    "duration": -3671,
    "start_time": "2021-10-19T21:10:29.495Z"
   },
   {
    "duration": 17211,
    "start_time": "2021-10-19T21:16:29.806Z"
   },
   {
    "duration": 8838,
    "start_time": "2021-10-19T21:18:38.224Z"
   },
   {
    "duration": 1120,
    "start_time": "2021-10-19T21:18:47.064Z"
   },
   {
    "duration": 247,
    "start_time": "2021-10-19T21:18:48.187Z"
   },
   {
    "duration": 58,
    "start_time": "2021-10-19T21:18:48.437Z"
   },
   {
    "duration": 15280,
    "start_time": "2021-10-19T21:18:48.498Z"
   },
   {
    "duration": 11,
    "start_time": "2021-10-19T21:19:03.780Z"
   },
   {
    "duration": 572,
    "start_time": "2021-10-19T21:19:03.794Z"
   },
   {
    "duration": 17796,
    "start_time": "2021-10-19T21:19:04.370Z"
   },
   {
    "duration": 66,
    "start_time": "2021-10-19T21:19:22.168Z"
   },
   {
    "duration": 74,
    "start_time": "2021-10-19T23:30:33.967Z"
   },
   {
    "duration": 12004,
    "start_time": "2021-10-19T23:40:15.533Z"
   },
   {
    "duration": 858,
    "start_time": "2021-10-19T23:40:27.540Z"
   },
   {
    "duration": 185,
    "start_time": "2021-10-19T23:40:28.401Z"
   },
   {
    "duration": 41,
    "start_time": "2021-10-19T23:40:28.588Z"
   },
   {
    "duration": 784,
    "start_time": "2021-10-19T23:40:28.631Z"
   },
   {
    "duration": -300,
    "start_time": "2021-10-19T23:40:29.717Z"
   },
   {
    "duration": -301,
    "start_time": "2021-10-19T23:40:29.719Z"
   },
   {
    "duration": -303,
    "start_time": "2021-10-19T23:40:29.722Z"
   },
   {
    "duration": -304,
    "start_time": "2021-10-19T23:40:29.724Z"
   },
   {
    "duration": 5847,
    "start_time": "2021-10-19T23:41:35.088Z"
   },
   {
    "duration": 835,
    "start_time": "2021-10-19T23:41:40.937Z"
   },
   {
    "duration": 165,
    "start_time": "2021-10-19T23:41:41.775Z"
   },
   {
    "duration": 52,
    "start_time": "2021-10-19T23:41:41.942Z"
   },
   {
    "duration": 10724,
    "start_time": "2021-10-19T23:41:41.995Z"
   },
   {
    "duration": 8,
    "start_time": "2021-10-19T23:41:52.721Z"
   },
   {
    "duration": 44,
    "start_time": "2021-10-19T23:41:52.730Z"
   },
   {
    "duration": 9739,
    "start_time": "2021-10-19T23:41:52.776Z"
   },
   {
    "duration": 53,
    "start_time": "2021-10-19T23:42:02.516Z"
   },
   {
    "duration": 9581,
    "start_time": "2021-10-19T23:42:43.782Z"
   },
   {
    "duration": 141,
    "start_time": "2021-10-19T23:43:04.096Z"
   },
   {
    "duration": 46,
    "start_time": "2021-10-19T23:48:09.885Z"
   },
   {
    "duration": 5890,
    "start_time": "2021-10-20T00:20:22.311Z"
   },
   {
    "duration": 866,
    "start_time": "2021-10-20T00:20:28.204Z"
   },
   {
    "duration": 181,
    "start_time": "2021-10-20T00:20:29.074Z"
   },
   {
    "duration": 50,
    "start_time": "2021-10-20T00:20:29.257Z"
   },
   {
    "duration": 10634,
    "start_time": "2021-10-20T00:20:29.309Z"
   },
   {
    "duration": 20,
    "start_time": "2021-10-20T00:20:39.945Z"
   },
   {
    "duration": 27,
    "start_time": "2021-10-20T00:20:39.967Z"
   },
   {
    "duration": 9835,
    "start_time": "2021-10-20T00:20:39.996Z"
   },
   {
    "duration": 54,
    "start_time": "2021-10-20T00:20:49.833Z"
   },
   {
    "duration": 5,
    "start_time": "2021-10-20T00:21:22.879Z"
   },
   {
    "duration": 4,
    "start_time": "2021-10-20T00:21:30.694Z"
   },
   {
    "duration": 5,
    "start_time": "2021-10-20T00:21:44.388Z"
   },
   {
    "duration": 5,
    "start_time": "2021-10-20T00:21:52.807Z"
   },
   {
    "duration": 4,
    "start_time": "2021-10-20T00:21:56.395Z"
   },
   {
    "duration": 4,
    "start_time": "2021-10-20T00:22:04.268Z"
   },
   {
    "duration": 4,
    "start_time": "2021-10-20T00:22:09.815Z"
   },
   {
    "duration": 41,
    "start_time": "2021-10-20T00:24:02.396Z"
   },
   {
    "duration": 47,
    "start_time": "2021-10-20T00:24:10.097Z"
   }
  ],
  "kernelspec": {
   "display_name": "Python 3",
   "language": "python",
   "name": "python3"
  },
  "language_info": {
   "codemirror_mode": {
    "name": "ipython",
    "version": 3
   },
   "file_extension": ".py",
   "mimetype": "text/x-python",
   "name": "python",
   "nbconvert_exporter": "python",
   "pygments_lexer": "ipython3",
   "version": "3.7.8"
  },
  "toc": {
   "base_numbering": 1,
   "nav_menu": {},
   "number_sections": true,
   "sideBar": true,
   "skip_h1_title": true,
   "title_cell": "Table of Contents",
   "title_sidebar": "Contents",
   "toc_cell": false,
   "toc_position": {},
   "toc_section_display": true,
   "toc_window_display": false
  }
 },
 "nbformat": 4,
 "nbformat_minor": 2
}
