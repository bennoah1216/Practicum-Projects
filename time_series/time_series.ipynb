{
 "cells": [
  {
   "cell_type": "markdown",
   "metadata": {},
   "source": [
    "Hello, my name is Artem. I'm going to review your project!\n",
    "\n",
    "You can find my comments in <font color='green'>green</font>, <font color='blue'>blue</font> or <font color='red'>red</font> boxes like this:\n",
    "\n",
    "<div class=\"alert alert-block alert-success\">\n",
    "<b>Success:</b> if everything is done succesfully\n",
    "</div>\n",
    "\n",
    "<div class=\"alert alert-block alert-info\">\n",
    "<b>Improve: </b> \"Improve\" comments mean that there are tiny corrections that could help you to make your project better.\n",
    "</div>\n",
    "\n",
    "<div class=\"alert alert-block alert-danger\">\n",
    "<b>Needs fixing:</b> if the block requires some corrections. Work can't be accepted with the red comments.\n",
    "</div>\n",
    "\n",
    "### <font color='orange'>General feedback</font>\n",
    "* You've worked really hard and submitted a solid project.\n",
    "* Thank you for structuring the project. It's a pleasure to check such notebooks.\n",
    "* There are a couple of things that need to be done before your project is complete, but they're pretty straightforward.\n",
    "* While there's room for improvement, on the whole, your project is looking good.\n",
    "* I believe you can easily fix it! Good luck!"
   ]
  },
  {
   "cell_type": "markdown",
   "metadata": {},
   "source": [
    "### <font color='orange'>General feedback (review 2)</font>\n",
    "* All your hard work has paid off, and now your project is perfect!\n",
    "* New comments are marked with \"review 2\" keyword.\n",
    "* Keep up the good work. Good luck next!"
   ]
  },
  {
   "cell_type": "markdown",
   "metadata": {},
   "source": [
    "# Project description\n",
    "\n",
    "Sweet Lift Taxi company has collected historical data on taxi orders at airports. To attract more drivers during peak hours, we need to predict the amount of taxi orders for the next hour. Build a model for such a prediction.\n",
    "\n",
    "The RMSE metric on the test set should not be more than 48."
   ]
  },
  {
   "cell_type": "markdown",
   "metadata": {},
   "source": [
    "## Project instructions\n",
    "\n",
    "1. Download the data and resample it by one hour.\n",
    "2. Analyze the data.\n",
    "3. Train different models with different hyperparameters. The test sample should be 10% of the initial dataset. \n",
    "4. Test the data using the test sample and provide a conclusion.\n",
    "\n",
    "## Data description\n",
    "\n",
    "The data is stored in file `taxi.csv`. The number of orders is in the '*num_orders*' column."
   ]
  },
  {
   "cell_type": "markdown",
   "metadata": {},
   "source": [
    "# Preparation"
   ]
  },
  {
   "cell_type": "markdown",
   "metadata": {},
   "source": [
    "## Import Packages"
   ]
  },
  {
   "cell_type": "code",
   "execution_count": 1,
   "metadata": {},
   "outputs": [
    {
     "name": "stdout",
     "output_type": "stream",
     "text": [
      "Defaulting to user installation because normal site-packages is not writeable\n",
      "Requirement already up-to-date: scikit-learn in /home/jovyan/.local/lib/python3.7/site-packages (1.0.1)\n",
      "Requirement already satisfied, skipping upgrade: scipy>=1.1.0 in /opt/conda/lib/python3.7/site-packages (from scikit-learn) (1.4.1)\n",
      "Requirement already satisfied, skipping upgrade: joblib>=0.11 in /opt/conda/lib/python3.7/site-packages (from scikit-learn) (1.0.1)\n",
      "Requirement already satisfied, skipping upgrade: threadpoolctl>=2.0.0 in /home/jovyan/.local/lib/python3.7/site-packages (from scikit-learn) (3.0.0)\n",
      "Requirement already satisfied, skipping upgrade: numpy>=1.14.6 in /opt/conda/lib/python3.7/site-packages (from scikit-learn) (1.19.5)\n",
      "Defaulting to user installation because normal site-packages is not writeable\n",
      "Requirement already satisfied: lightgbm in /opt/conda/lib/python3.7/site-packages (2.3.1)\n",
      "Requirement already satisfied: scikit-learn in /home/jovyan/.local/lib/python3.7/site-packages (from lightgbm) (1.0.1)\n",
      "Requirement already satisfied: numpy in /opt/conda/lib/python3.7/site-packages (from lightgbm) (1.19.5)\n",
      "Requirement already satisfied: scipy in /opt/conda/lib/python3.7/site-packages (from lightgbm) (1.4.1)\n",
      "Requirement already satisfied: joblib>=0.11 in /opt/conda/lib/python3.7/site-packages (from scikit-learn->lightgbm) (1.0.1)\n",
      "Requirement already satisfied: threadpoolctl>=2.0.0 in /home/jovyan/.local/lib/python3.7/site-packages (from scikit-learn->lightgbm) (3.0.0)\n",
      "Defaulting to user installation because normal site-packages is not writeable\n",
      "Requirement already satisfied: pmdarima in /home/jovyan/.local/lib/python3.7/site-packages (1.8.4)\n",
      "Requirement already satisfied: scikit-learn>=0.22 in /home/jovyan/.local/lib/python3.7/site-packages (from pmdarima) (1.0.1)\n",
      "Requirement already satisfied: numpy>=1.19.3 in /opt/conda/lib/python3.7/site-packages (from pmdarima) (1.19.5)\n",
      "Requirement already satisfied: joblib>=0.11 in /opt/conda/lib/python3.7/site-packages (from pmdarima) (1.0.1)\n",
      "Requirement already satisfied: pandas>=0.19 in /home/jovyan/.local/lib/python3.7/site-packages (from pmdarima) (1.3.4)\n",
      "Requirement already satisfied: scipy>=1.3.2 in /opt/conda/lib/python3.7/site-packages (from pmdarima) (1.4.1)\n",
      "Requirement already satisfied: setuptools!=50.0.0,>=38.6.0 in /opt/conda/lib/python3.7/site-packages (from pmdarima) (49.6.0.post20210108)\n",
      "Requirement already satisfied: statsmodels!=0.12.0,>=0.11 in /home/jovyan/.local/lib/python3.7/site-packages (from pmdarima) (0.12.1)\n",
      "Requirement already satisfied: Cython!=0.29.18,>=0.29 in /home/jovyan/.local/lib/python3.7/site-packages (from pmdarima) (0.29.24)\n",
      "Requirement already satisfied: urllib3 in /opt/conda/lib/python3.7/site-packages (from pmdarima) (1.25.11)\n",
      "Requirement already satisfied: threadpoolctl>=2.0.0 in /home/jovyan/.local/lib/python3.7/site-packages (from scikit-learn>=0.22->pmdarima) (3.0.0)\n",
      "Requirement already satisfied: pytz>=2017.3 in /opt/conda/lib/python3.7/site-packages (from pandas>=0.19->pmdarima) (2021.1)\n",
      "Requirement already satisfied: python-dateutil>=2.7.3 in /opt/conda/lib/python3.7/site-packages (from pandas>=0.19->pmdarima) (2.8.1)\n",
      "Requirement already satisfied: patsy>=0.5 in /home/jovyan/.local/lib/python3.7/site-packages (from statsmodels!=0.12.0,>=0.11->pmdarima) (0.5.2)\n",
      "Requirement already satisfied: six>=1.5 in /opt/conda/lib/python3.7/site-packages (from python-dateutil>=2.7.3->pandas>=0.19->pmdarima) (1.15.0)\n",
      "Requirement already satisfied: sktime in /home/jovyan/.local/lib/python3.7/site-packages (0.8.1)\n",
      "Requirement already satisfied: statsmodels<=0.12.1 in /home/jovyan/.local/lib/python3.7/site-packages (from sktime) (0.12.1)\n",
      "Requirement already satisfied: pandas>=1.1.0 in /home/jovyan/.local/lib/python3.7/site-packages (from sktime) (1.3.4)\n",
      "Requirement already satisfied: scikit-learn>=0.24.0 in /home/jovyan/.local/lib/python3.7/site-packages (from sktime) (1.0.1)\n",
      "Requirement already satisfied: wheel in /opt/conda/lib/python3.7/site-packages (from sktime) (0.35.1)\n",
      "Requirement already satisfied: numba>=0.53 in /opt/conda/lib/python3.7/site-packages (from sktime) (0.53.1)\n",
      "Requirement already satisfied: numpy>=1.19.3 in /opt/conda/lib/python3.7/site-packages (from sktime) (1.19.5)\n",
      "Requirement already satisfied: scipy>=1.1 in /opt/conda/lib/python3.7/site-packages (from statsmodels<=0.12.1->sktime) (1.4.1)\n",
      "Requirement already satisfied: patsy>=0.5 in /home/jovyan/.local/lib/python3.7/site-packages (from statsmodels<=0.12.1->sktime) (0.5.2)\n",
      "Requirement already satisfied: python-dateutil>=2.7.3 in /opt/conda/lib/python3.7/site-packages (from pandas>=1.1.0->sktime) (2.8.1)\n",
      "Requirement already satisfied: pytz>=2017.3 in /opt/conda/lib/python3.7/site-packages (from pandas>=1.1.0->sktime) (2021.1)\n",
      "Requirement already satisfied: threadpoolctl>=2.0.0 in /home/jovyan/.local/lib/python3.7/site-packages (from scikit-learn>=0.24.0->sktime) (3.0.0)\n",
      "Requirement already satisfied: joblib>=0.11 in /opt/conda/lib/python3.7/site-packages (from scikit-learn>=0.24.0->sktime) (1.0.1)\n",
      "Requirement already satisfied: setuptools in /opt/conda/lib/python3.7/site-packages (from numba>=0.53->sktime) (49.6.0.post20210108)\n",
      "Requirement already satisfied: llvmlite<0.37,>=0.36.0rc1 in /opt/conda/lib/python3.7/site-packages (from numba>=0.53->sktime) (0.36.0)\n",
      "Requirement already satisfied: six in /opt/conda/lib/python3.7/site-packages (from patsy>=0.5->statsmodels<=0.12.1->sktime) (1.15.0)\n",
      "Defaulting to user installation because normal site-packages is not writeable\n",
      "Requirement already satisfied: tensorflow in /opt/conda/lib/python3.7/site-packages (2.1.0)\n",
      "Requirement already satisfied: keras-applications>=1.0.8 in /opt/conda/lib/python3.7/site-packages (from tensorflow) (1.0.8)\n",
      "Requirement already satisfied: google-pasta>=0.1.6 in /opt/conda/lib/python3.7/site-packages (from tensorflow) (0.2.0)\n",
      "Requirement already satisfied: tensorflow-estimator<2.2.0,>=2.1.0rc0 in /opt/conda/lib/python3.7/site-packages (from tensorflow) (2.1.0)\n",
      "Requirement already satisfied: opt-einsum>=2.3.2 in /opt/conda/lib/python3.7/site-packages (from tensorflow) (3.3.0)\n",
      "Requirement already satisfied: absl-py>=0.7.0 in /opt/conda/lib/python3.7/site-packages (from tensorflow) (0.12.0)\n",
      "Requirement already satisfied: gast==0.2.2 in /opt/conda/lib/python3.7/site-packages (from tensorflow) (0.2.2)\n",
      "Requirement already satisfied: astor>=0.6.0 in /opt/conda/lib/python3.7/site-packages (from tensorflow) (0.8.1)\n",
      "Requirement already satisfied: six>=1.12.0 in /opt/conda/lib/python3.7/site-packages (from tensorflow) (1.15.0)\n",
      "Requirement already satisfied: numpy<2.0,>=1.16.0 in /opt/conda/lib/python3.7/site-packages (from tensorflow) (1.19.5)\n",
      "Requirement already satisfied: wheel>=0.26; python_version >= \"3\" in /opt/conda/lib/python3.7/site-packages (from tensorflow) (0.35.1)\n",
      "Requirement already satisfied: termcolor>=1.1.0 in /opt/conda/lib/python3.7/site-packages (from tensorflow) (1.1.0)\n",
      "Requirement already satisfied: grpcio>=1.8.6 in /opt/conda/lib/python3.7/site-packages (from tensorflow) (1.38.0)\n",
      "Requirement already satisfied: wrapt>=1.11.1 in /opt/conda/lib/python3.7/site-packages (from tensorflow) (1.12.1)\n",
      "Requirement already satisfied: scipy==1.4.1; python_version >= \"3\" in /opt/conda/lib/python3.7/site-packages (from tensorflow) (1.4.1)\n",
      "Requirement already satisfied: keras-preprocessing>=1.1.0 in /opt/conda/lib/python3.7/site-packages (from tensorflow) (1.1.2)\n",
      "Requirement already satisfied: protobuf>=3.8.0 in /opt/conda/lib/python3.7/site-packages (from tensorflow) (3.17.2)\n",
      "Requirement already satisfied: tensorboard<2.2.0,>=2.1.0 in /opt/conda/lib/python3.7/site-packages (from tensorflow) (2.1.1)\n",
      "Requirement already satisfied: h5py in /opt/conda/lib/python3.7/site-packages (from keras-applications>=1.0.8->tensorflow) (3.2.1)\n",
      "Requirement already satisfied: markdown>=2.6.8 in /opt/conda/lib/python3.7/site-packages (from tensorboard<2.2.0,>=2.1.0->tensorflow) (3.3.4)\n",
      "Requirement already satisfied: google-auth<2,>=1.6.3 in /opt/conda/lib/python3.7/site-packages (from tensorboard<2.2.0,>=2.1.0->tensorflow) (1.30.1)\n",
      "Requirement already satisfied: setuptools>=41.0.0 in /opt/conda/lib/python3.7/site-packages (from tensorboard<2.2.0,>=2.1.0->tensorflow) (49.6.0.post20210108)\n"
     ]
    },
    {
     "name": "stdout",
     "output_type": "stream",
     "text": [
      "Requirement already satisfied: google-auth-oauthlib<0.5,>=0.4.1 in /opt/conda/lib/python3.7/site-packages (from tensorboard<2.2.0,>=2.1.0->tensorflow) (0.4.4)\n",
      "Requirement already satisfied: requests<3,>=2.21.0 in /opt/conda/lib/python3.7/site-packages (from tensorboard<2.2.0,>=2.1.0->tensorflow) (2.22.0)\n",
      "Requirement already satisfied: werkzeug>=0.11.15 in /opt/conda/lib/python3.7/site-packages (from tensorboard<2.2.0,>=2.1.0->tensorflow) (2.0.1)\n",
      "Requirement already satisfied: cached-property; python_version < \"3.8\" in /opt/conda/lib/python3.7/site-packages (from h5py->keras-applications>=1.0.8->tensorflow) (1.5.2)\n",
      "Requirement already satisfied: importlib-metadata; python_version < \"3.8\" in /opt/conda/lib/python3.7/site-packages (from markdown>=2.6.8->tensorboard<2.2.0,>=2.1.0->tensorflow) (2.0.0)\n",
      "Requirement already satisfied: pyasn1-modules>=0.2.1 in /opt/conda/lib/python3.7/site-packages (from google-auth<2,>=1.6.3->tensorboard<2.2.0,>=2.1.0->tensorflow) (0.2.8)\n",
      "Requirement already satisfied: cachetools<5.0,>=2.0.0 in /opt/conda/lib/python3.7/site-packages (from google-auth<2,>=1.6.3->tensorboard<2.2.0,>=2.1.0->tensorflow) (4.2.2)\n",
      "Requirement already satisfied: rsa<5,>=3.1.4; python_version >= \"3.6\" in /opt/conda/lib/python3.7/site-packages (from google-auth<2,>=1.6.3->tensorboard<2.2.0,>=2.1.0->tensorflow) (4.7.2)\n",
      "Requirement already satisfied: requests-oauthlib>=0.7.0 in /opt/conda/lib/python3.7/site-packages (from google-auth-oauthlib<0.5,>=0.4.1->tensorboard<2.2.0,>=2.1.0->tensorflow) (1.3.0)\n",
      "Requirement already satisfied: idna<2.9,>=2.5 in /opt/conda/lib/python3.7/site-packages (from requests<3,>=2.21.0->tensorboard<2.2.0,>=2.1.0->tensorflow) (2.8)\n",
      "Requirement already satisfied: chardet<3.1.0,>=3.0.2 in /opt/conda/lib/python3.7/site-packages (from requests<3,>=2.21.0->tensorboard<2.2.0,>=2.1.0->tensorflow) (3.0.4)\n",
      "Requirement already satisfied: urllib3!=1.25.0,!=1.25.1,<1.26,>=1.21.1 in /opt/conda/lib/python3.7/site-packages (from requests<3,>=2.21.0->tensorboard<2.2.0,>=2.1.0->tensorflow) (1.25.11)\n",
      "Requirement already satisfied: certifi>=2017.4.17 in /opt/conda/lib/python3.7/site-packages (from requests<3,>=2.21.0->tensorboard<2.2.0,>=2.1.0->tensorflow) (2021.5.30)\n",
      "Requirement already satisfied: zipp>=0.5 in /opt/conda/lib/python3.7/site-packages (from importlib-metadata; python_version < \"3.8\"->markdown>=2.6.8->tensorboard<2.2.0,>=2.1.0->tensorflow) (3.4.0)\n",
      "Requirement already satisfied: pyasn1<0.5.0,>=0.4.6 in /opt/conda/lib/python3.7/site-packages (from pyasn1-modules>=0.2.1->google-auth<2,>=1.6.3->tensorboard<2.2.0,>=2.1.0->tensorflow) (0.4.8)\n",
      "Requirement already satisfied: oauthlib>=3.0.0 in /opt/conda/lib/python3.7/site-packages (from requests-oauthlib>=0.7.0->google-auth-oauthlib<0.5,>=0.4.1->tensorboard<2.2.0,>=2.1.0->tensorflow) (3.0.1)\n",
      "Defaulting to user installation because normal site-packages is not writeable\n",
      "Requirement already satisfied: keras in /home/jovyan/.local/lib/python3.7/site-packages (2.7.0)\n"
     ]
    }
   ],
   "source": [
    "!pip install -U scikit-learn\n",
    "!pip install lightgbm\n",
    "!pip install pmdarima\n",
    "!pip install sktime --user \n",
    "!pip install tensorflow\n",
    "!pip install keras"
   ]
  },
  {
   "cell_type": "code",
   "execution_count": 8,
   "metadata": {},
   "outputs": [],
   "source": [
    "#import packages\n",
    "#base packages for data analysis\n",
    "import pandas as pd\n",
    "import numpy as np\n",
    "import matplotlib.pyplot as plt\n",
    "import datetime\n",
    "#packages for time series\n",
    "from statsmodels.tsa.stattools import adfuller\n",
    "from statsmodels.graphics.tsaplots import plot_acf, plot_pacf\n",
    "import pmdarima as pm\n",
    "import sktime\n",
    "from sktime.forecasting.compose import make_reduction, TransformedTargetForecaster\n",
    "from sktime.forecasting.model_selection import ExpandingWindowSplitter, ForecastingGridSearchCV\n",
    "from statsmodels.tsa.seasonal import seasonal_decompose\n",
    "from sklearn.model_selection import TimeSeriesSplit\n",
    "#packages for machine learning \n",
    "import sklearn\n",
    "from sklearn.metrics import mean_squared_error\n",
    "from sklearn.model_selection import train_test_split\n",
    "from sklearn.model_selection import cross_val_score\n",
    "from sklearn.model_selection import KFold\n",
    "from sklearn.linear_model import LinearRegression\n",
    "import lightgbm as lgb\n",
    "from tensorflow import keras \n",
    "from tensorflow.keras.models import Sequential\n",
    "from tensorflow.keras.layers import LSTM\n",
    "from tensorflow.keras.layers import Dense\n",
    "#other\n",
    "import time\n",
    "import warnings\n",
    "warnings.filterwarnings('ignore')"
   ]
  },
  {
   "cell_type": "markdown",
   "metadata": {},
   "source": [
    "<div class=\"alert alert-block alert-success\">\n",
    "<b>Success:</b> Great that you've remembered about initial analysis of the uploaded file.\n",
    "</div>"
   ]
  },
  {
   "cell_type": "markdown",
   "metadata": {},
   "source": [
    "## Download Data"
   ]
  },
  {
   "cell_type": "code",
   "execution_count": 3,
   "metadata": {},
   "outputs": [],
   "source": [
    "#import training data\n",
    "try:\n",
    "    df = pd.read_csv('taxi.csv')\n",
    "except:\n",
    "    df = pd.read_csv('/datasets/taxi.csv')"
   ]
  },
  {
   "cell_type": "markdown",
   "metadata": {},
   "source": [
    "## Data Information"
   ]
  },
  {
   "cell_type": "code",
   "execution_count": 4,
   "metadata": {},
   "outputs": [
    {
     "name": "stdout",
     "output_type": "stream",
     "text": [
      "<class 'pandas.core.frame.DataFrame'>\n",
      "RangeIndex: 26496 entries, 0 to 26495\n",
      "Data columns (total 2 columns):\n",
      " #   Column      Non-Null Count  Dtype \n",
      "---  ------      --------------  ----- \n",
      " 0   datetime    26496 non-null  object\n",
      " 1   num_orders  26496 non-null  int64 \n",
      "dtypes: int64(1), object(1)\n",
      "memory usage: 414.1+ KB\n",
      "True\n"
     ]
    },
    {
     "data": {
      "text/html": [
       "<div>\n",
       "<style scoped>\n",
       "    .dataframe tbody tr th:only-of-type {\n",
       "        vertical-align: middle;\n",
       "    }\n",
       "\n",
       "    .dataframe tbody tr th {\n",
       "        vertical-align: top;\n",
       "    }\n",
       "\n",
       "    .dataframe thead th {\n",
       "        text-align: right;\n",
       "    }\n",
       "</style>\n",
       "<table border=\"1\" class=\"dataframe\">\n",
       "  <thead>\n",
       "    <tr style=\"text-align: right;\">\n",
       "      <th></th>\n",
       "      <th>num_orders</th>\n",
       "    </tr>\n",
       "  </thead>\n",
       "  <tbody>\n",
       "    <tr>\n",
       "      <th>count</th>\n",
       "      <td>26496.000000</td>\n",
       "    </tr>\n",
       "    <tr>\n",
       "      <th>mean</th>\n",
       "      <td>14.070463</td>\n",
       "    </tr>\n",
       "    <tr>\n",
       "      <th>std</th>\n",
       "      <td>9.211330</td>\n",
       "    </tr>\n",
       "    <tr>\n",
       "      <th>min</th>\n",
       "      <td>0.000000</td>\n",
       "    </tr>\n",
       "    <tr>\n",
       "      <th>25%</th>\n",
       "      <td>8.000000</td>\n",
       "    </tr>\n",
       "    <tr>\n",
       "      <th>50%</th>\n",
       "      <td>13.000000</td>\n",
       "    </tr>\n",
       "    <tr>\n",
       "      <th>75%</th>\n",
       "      <td>19.000000</td>\n",
       "    </tr>\n",
       "    <tr>\n",
       "      <th>max</th>\n",
       "      <td>119.000000</td>\n",
       "    </tr>\n",
       "  </tbody>\n",
       "</table>\n",
       "</div>"
      ],
      "text/plain": [
       "         num_orders\n",
       "count  26496.000000\n",
       "mean      14.070463\n",
       "std        9.211330\n",
       "min        0.000000\n",
       "25%        8.000000\n",
       "50%       13.000000\n",
       "75%       19.000000\n",
       "max      119.000000"
      ]
     },
     "execution_count": 4,
     "metadata": {},
     "output_type": "execute_result"
    }
   ],
   "source": [
    "df.info()\n",
    "df['datetime'] = pd.to_datetime(df['datetime'], format='%Y-%m-%d %H:%M:%S')\n",
    "df.set_index('datetime',inplace=True)\n",
    "df.sort_index(inplace=True)\n",
    "print(df.index.is_monotonic)\n",
    "df.describe()"
   ]
  },
  {
   "cell_type": "markdown",
   "metadata": {},
   "source": [
    "Looking at the dataframe, there are two columns: `datetime` and `num_orders`. I converted `datetime` from a string to a datetime index. There are no missing variables in this dataset and, as far as `num_orders`, the mean and median are close enough to where I am unconcerned about outlier issues. "
   ]
  },
  {
   "cell_type": "markdown",
   "metadata": {},
   "source": [
    "<div class=\"alert alert-block alert-success\">\n",
    "<b>Success:</b> Data loading was done well!\n",
    "</div>"
   ]
  },
  {
   "cell_type": "markdown",
   "metadata": {},
   "source": [
    "# Training and Testing"
   ]
  },
  {
   "cell_type": "markdown",
   "metadata": {},
   "source": [
    "## Splitting Data"
   ]
  },
  {
   "cell_type": "code",
   "execution_count": 5,
   "metadata": {},
   "outputs": [],
   "source": [
    "#hourly resampled data\n",
    "df = df.resample('1H').sum()\n",
    "#first differenced data\n",
    "df_diff = df.diff().dropna()\n",
    "#creating training and testing sets.\n",
    "train, test = train_test_split(df,test_size=.1,shuffle=False)"
   ]
  },
  {
   "cell_type": "markdown",
   "metadata": {},
   "source": [
    "I resampled the data to an hourly level. While this allows us to keep a large sample size. I think there would also be some value in converting it to daily data to help the models recognize trends. \n",
    "\n",
    "Additionally, I created a dataset of the first difference of the data to be used later on. "
   ]
  },
  {
   "cell_type": "markdown",
   "metadata": {},
   "source": [
    "<div class=\"alert alert-block alert-success\">\n",
    "<b>Success:</b> Resampling was done correctly!\n",
    "</div>"
   ]
  },
  {
   "cell_type": "markdown",
   "metadata": {},
   "source": [
    "## Differencing"
   ]
  },
  {
   "cell_type": "code",
   "execution_count": null,
   "metadata": {
    "scrolled": true
   },
   "outputs": [],
   "source": [
    "#Running a Dickey Fuller Test\n",
    "result = adfuller(train.values)\n",
    "print('ADF Statistic: %f' % result[0])\n",
    "print('p-value: %f' % result[1])"
   ]
  },
  {
   "cell_type": "markdown",
   "metadata": {},
   "source": [
    "I looked at the dickey fuller statistic to see if the data is stationary. According to the test, we can reject the hypothesis that the data is non-stationary. This would point towards using the non-differenced data in this situation, but the next section brought about some concerns with focusing solely on the non-differenced data."
   ]
  },
  {
   "cell_type": "markdown",
   "metadata": {},
   "source": [
    "### Autocorrelation and Partial Autocorrelation graphs"
   ]
  },
  {
   "cell_type": "code",
   "execution_count": null,
   "metadata": {},
   "outputs": [],
   "source": [
    "# Plot the Original, First Differenced, and Seasonal Decomposed Series\n",
    "fig, axes = plt.subplots(2, 3,figsize=(20,10))\n",
    "#original\n",
    "axes[0,0].plot(train); axes[0, 0].set_title('Original Series')\n",
    "#plot the autocorrelation\n",
    "plot_acf(train,ax = axes[0,1]);\n",
    "#plot the partial autocorrelation\n",
    "plot_pacf(train,ax = axes[0,2]);\n",
    "#differenced\n",
    "axes[1,0].plot(train.diff()); axes[1, 0].set_title('Differenced Series')\n",
    "#plot the autocorrelation\n",
    "plot_acf(train.diff().dropna(),ax=axes[1,1]);\n",
    "#plot the partial autocorrelation\n",
    "plot_pacf(train.diff().dropna(),ax = axes[1,2]);"
   ]
  },
  {
   "cell_type": "code",
   "execution_count": null,
   "metadata": {},
   "outputs": [],
   "source": [
    "#seasonal\n",
    "seasonal_decompose(train, model='additive').plot(); "
   ]
  },
  {
   "cell_type": "markdown",
   "metadata": {},
   "source": [
    "<div class=\"alert alert-block alert-info\">\n",
    "<b>Improve (review 2): </b> It would be better if seasonality was visualized on smaller interval.\n",
    "</div>"
   ]
  },
  {
   "cell_type": "markdown",
   "metadata": {},
   "source": [
    "As you can see from the above graphs, the original series seems to have a slight linear trend. This shows up when looking at how the autocorrelations are all significantly positive and when looking at the seasonal decomposition. Contrastingly, the differenced series only has three significant autocorrelations. They are the last two periods and the period 24 hours ago. \n",
    "\n",
    "Regarding the partial autocorrelations, the fact that lags going back 24 periods are significant lets us know that the ideal models are going to need a significant number of lagged variables. |"
   ]
  },
  {
   "cell_type": "markdown",
   "metadata": {},
   "source": [
    "<div class=\"alert alert-block alert-success\">\n",
    "<b>Success:</b> Data was split right.\n",
    "</div>\n",
    "\n",
    "<div class=\"alert alert-block alert-danger\">\n",
    "<b>Needs fixing:</b> Please make seasonal decomposition and visualize trend and seasonality.\n",
    "</div>"
   ]
  },
  {
   "cell_type": "markdown",
   "metadata": {},
   "source": [
    "## Model Creation"
   ]
  },
  {
   "cell_type": "code",
   "execution_count": 6,
   "metadata": {},
   "outputs": [],
   "source": [
    "def plot_forecast(series_train, series_test, forecast):\n",
    "    #calculate the Root Squared Mean Error\n",
    "    RMSE = mean_squared_error(series_test, forecast, squared=False)\n",
    "    #convert the forecast array to a dataframe\n",
    "    forecast = pd.DataFrame(data=forecast,index=series_test.index, columns=['num_orders'])\n",
    "    #plot the training, testing and forecasting data\n",
    "    plt.figure(figsize=(15, 6))\n",
    "    plt.title(f\"RMSE:{RMSE:.2f}\")\n",
    "    plt.plot(series_train,label=\"train\", color=\"b\")\n",
    "    plt.plot(series_test,label=\"test\", color=\"g\")\n",
    "    plt.plot(forecast,label=\"forecast\", color=\"r\")\n",
    "    plt.legend(prop={\"size\": 10})\n",
    "    plt.xlim(left=datetime.date(2018, 7, 1))\n",
    "    plt.show()"
   ]
  },
  {
   "cell_type": "markdown",
   "metadata": {},
   "source": [
    "This function is used to plot the number of orders over time with the predictions on top of the true values. I trimmed the x-axis on the left to make the predicted aspect of the model easier to see."
   ]
  },
  {
   "cell_type": "markdown",
   "metadata": {},
   "source": [
    "### Linear Regression"
   ]
  },
  {
   "cell_type": "code",
   "execution_count": 50,
   "metadata": {},
   "outputs": [
    {
     "name": "stdout",
     "output_type": "stream",
     "text": [
      "[29, 23, 25.995882366330353]\n"
     ]
    }
   ],
   "source": [
    "def make_features(data, lags, rolling_mean_size):\n",
    "    data_new = data.copy()\n",
    "    data_new['year'] = data_new.index.year\n",
    "    data_new['month'] = data_new.index.month\n",
    "    data_new['day'] = data_new.index.day\n",
    "    data_new['dayofweek'] = data_new.index.dayofweek\n",
    "    for lag in range(1, lags + 1):\n",
    "        data_new['lag_{}'.format(lag)] = data_new['num_orders'].shift(lag)\n",
    "    data_new['rolling_mean'] = (\n",
    "        data_new['num_orders'].shift().rolling(rolling_mean_size).mean()\n",
    "    )\n",
    "    data_new.dropna(inplace=True)\n",
    "    X = data_new.drop('num_orders',axis=1).values\n",
    "    y = data_new['num_orders'].values\n",
    "    return X, y\n",
    "def best_features(data,max_lag,max_rolling_mean_size,n_splits):\n",
    "    RMSE = []\n",
    "    tscv = TimeSeriesSplit(n_splits = n_splits)\n",
    "    for i in range(1,max_lag):\n",
    "        for j in range(1,max_rolling_mean_size):\n",
    "            X,y = make_features(data,i,j)\n",
    "            RMSE_cv = []\n",
    "            for train_index, test_index in tscv.split(X):\n",
    "                cv_train_x, cv_test_x = X[train_index], X[test_index]\n",
    "                cv_train_y, cv_test_y = y[train_index], y[test_index]\n",
    "                model = LinearRegression()\n",
    "                model.fit(cv_train_x,cv_train_y)\n",
    "                target_pred_test = model.predict(cv_test_x)\n",
    "                RMSE_cv.append(mean_squared_error(cv_test_y, target_pred_test, squared=False))\n",
    "            RMSE.append([i,j,np.array(RMSE_cv).mean()])\n",
    "    return RMSE[np.array(RMSE)[:,2].argmin()]\n",
    "\n",
    "best_components = best_features(train,30,30,10)\n",
    "print(best_components)"
   ]
  },
  {
   "cell_type": "markdown",
   "metadata": {},
   "source": [
    "<div class=\"alert alert-block alert-success\">\n",
    "\n",
    "<b>Success:</b> Great that `make_features` don't change global variable.\n",
    "</div>"
   ]
  },
  {
   "cell_type": "code",
   "execution_count": 51,
   "metadata": {},
   "outputs": [
    {
     "data": {
      "image/png": "[encoded data removed]",
      "text/plain": [
       "<Figure size 1080x432 with 1 Axes>"
      ]
     },
     "metadata": {
      "needs_background": "light"
     },
     "output_type": "display_data"
    }
   ],
   "source": [
    "X_train, y_train = make_features(train,best_components[0],best_components[1])\n",
    "X_test, y_test = make_features(test,best_components[0],best_components[1])\n",
    "model = LinearRegression()\n",
    "model.fit(X_train, y_train)\n",
    "target_pred_test = model.predict(X_test)\n",
    "plot_forecast(train,test[max(best_components[0],best_components[1]):],target_pred_test)"
   ]
  },
  {
   "cell_type": "markdown",
   "metadata": {},
   "source": [
    "<div class=\"alert alert-block alert-success\">\n",
    "<b>Success:</b> Great visualization!\n",
    "</div>"
   ]
  },
  {
   "cell_type": "markdown",
   "metadata": {},
   "source": [
    "In this section, I created a function to find the optimal number of lags and moving average length. This function found that for the optimal number of lags was 29 and the optimal length of the moving average was 23. This provided a RMSE of 26, but when running it with the test data, the RMSE was 47. Yet, comparing the RMSE values is not valid since the sizes of the testing sets were different in the cross validated sets compared to the testing set. "
   ]
  },
  {
   "cell_type": "markdown",
   "metadata": {},
   "source": [
    "### Long Term Short Memory Model"
   ]
  },
  {
   "cell_type": "code",
   "execution_count": 56,
   "metadata": {},
   "outputs": [
    {
     "name": "stdout",
     "output_type": "stream",
     "text": [
      "[[24.271912735017214]]\n",
      "[[24.271912735017214], [29.0292372255886]]\n",
      "[[24.271912735017214], [29.0292372255886], [29.633504686314815]]\n",
      "[[24.271912735017214], [29.0292372255886], [29.633504686314815], [33.1890933836498]]\n",
      "[[24.271912735017214], [29.0292372255886], [29.633504686314815], [33.1890933836498], [41.92940820449481]]\n",
      "[[26.25357432793994]]\n",
      "[[26.25357432793994], [30.24953047892295]]\n",
      "[[26.25357432793994], [30.24953047892295], [28.797112078431258]]\n",
      "[[26.25357432793994], [30.24953047892295], [28.797112078431258], [43.15813606351589]]\n",
      "[[26.25357432793994], [30.24953047892295], [28.797112078431258], [43.15813606351589], [37.75175794096065]]\n",
      "[[25.952858968786586]]\n",
      "[[25.952858968786586], [29.905650546672913]]\n",
      "[[25.952858968786586], [29.905650546672913], [30.25493094326459]]\n",
      "[[25.952858968786586], [29.905650546672913], [30.25493094326459], [27.025178873122886]]\n",
      "[[25.952858968786586], [29.905650546672913], [30.25493094326459], [27.025178873122886], [54.06578672948707]]\n",
      "[[29.958912247149343]]\n",
      "[[29.958912247149343], [57.29166916667807]]\n",
      "[[29.958912247149343], [57.29166916667807], [28.691020532386535]]\n",
      "[[29.958912247149343], [57.29166916667807], [28.691020532386535], [30.87540891955404]]\n",
      "[[29.958912247149343], [57.29166916667807], [28.691020532386535], [30.87540891955404], [44.60498658738507]]\n",
      "[[23.424188680681613]]\n",
      "[[23.424188680681613], [27.11563093972356]]\n",
      "[[23.424188680681613], [27.11563093972356], [26.71569436933833]]\n",
      "[[23.424188680681613], [27.11563093972356], [26.71569436933833], [27.28211813020097]]\n",
      "[[23.424188680681613], [27.11563093972356], [26.71569436933833], [27.28211813020097], [34.9345686218358]]\n",
      "[[26.9135335402461]]\n",
      "[[26.9135335402461], [33.09759594565535]]\n",
      "[[26.9135335402461], [33.09759594565535], [26.394670206620482]]\n",
      "[[26.9135335402461], [33.09759594565535], [26.394670206620482], [29.852250997569854]]\n",
      "[[26.9135335402461], [33.09759594565535], [26.394670206620482], [29.852250997569854], [34.01969056680986]]\n"
     ]
    },
    {
     "data": {
      "image/png": "[encoded data removed]",
      "text/plain": [
       "<Figure size 1080x432 with 1 Axes>"
      ]
     },
     "metadata": {
      "needs_background": "light"
     },
     "output_type": "display_data"
    }
   ],
   "source": [
    "def sampling(sequence, n_steps):\n",
    "    X, Y = list(), list()\n",
    "    for i in range(len(sequence)):\n",
    "        sam = i + n_steps\n",
    "        if sam > len(sequence)-1:\n",
    "            break\n",
    "        x, y = sequence[i:sam], sequence[sam]\n",
    "        X.append(x)\n",
    "        Y.append(y)\n",
    "\n",
    "    return np.array(X), np.array(Y)\n",
    "\n",
    "def best_steps(train,max_n_steps,n_splits):\n",
    "    RMSE = []\n",
    "    tscv = TimeSeriesSplit(n_splits = n_splits)\n",
    "    for n_steps in range(20,max_n_steps):\n",
    "        RMSE_cv = []\n",
    "        X_train, y_train = sampling(train['num_orders'].tolist(), n_steps)\n",
    "        for train_index, test_index in tscv.split(X_train):\n",
    "            cv_train_x, cv_test_x = X_train[train_index], X_train[test_index]\n",
    "            cv_train_y, cv_test_y = y_train[train_index], y_train[test_index]\n",
    "            model = Sequential()\n",
    "            model.add(LSTM(50, activation='relu', input_shape=(n_steps, 1)))\n",
    "            model.add(Dense(1))\n",
    "            model.compile(optimizer='adam', loss='mse')\n",
    "            cv_train_x = cv_train_x.reshape((cv_train_x.shape[0], cv_train_x.shape[1], 1))\n",
    "            cv_test_x = cv_test_x.reshape((cv_test_x.shape[0], cv_test_x.shape[1], 1))\n",
    "            model.fit(cv_train_x,cv_train_y, epochs=100, verbose=0)\n",
    "            LTSM_forecast = model.predict(cv_test_x)\n",
    "            RMSE_cv.append([mean_squared_error(cv_test_y, LTSM_forecast, squared=False)])\n",
    "            print(RMSE_cv)\n",
    "        RMSE.append([n_steps,np.array(RMSE_cv).mean()])\n",
    "    RMSE_graph = pd.DataFrame(data=RMSE, columns=['n_steps','RMSE'])\n",
    "    RMSE_min = RMSE_graph['RMSE'].min()\n",
    "    steps_min = RMSE_graph.loc[RMSE_graph['RMSE'] == RMSE_min,'n_steps'].values[0]\n",
    "    plt.figure(figsize=(15, 6))\n",
    "    plt.title(\"Steps:{}\".format(steps_min))\n",
    "    plt.plot(RMSE_graph['n_steps'], RMSE_graph['RMSE'], '-o')\n",
    "    return steps_min\n",
    "\n",
    "\n",
    "best_step = best_steps(train,26,5)"
   ]
  },
  {
   "cell_type": "code",
   "execution_count": 60,
   "metadata": {},
   "outputs": [
    {
     "data": {
      "image/png": "[encoded data removed]",
      "text/plain": [
       "<Figure size 1080x432 with 1 Axes>"
      ]
     },
     "metadata": {
      "needs_background": "light"
     },
     "output_type": "display_data"
    }
   ],
   "source": [
    "X_train, y_train = sampling(train['num_orders'].tolist(),best_step)\n",
    "X_test, y_test = sampling(test['num_orders'].tolist(), best_step)\n",
    "model = Sequential()\n",
    "model.add(LSTM(50, activation='relu', input_shape=(best_step, 1)))\n",
    "model.add(Dense(1))\n",
    "model.compile(optimizer='adam', loss='mse')\n",
    "X_train = X_train.reshape((X_train.shape[0], X_train.shape[1], 1))\n",
    "X_test = X_test.reshape((X_test.shape[0], X_test.shape[1], 1))\n",
    "model.fit(X_train,y_train, epochs=100, verbose=0)\n",
    "LTSM_forecast = model.predict(X_test)\n",
    "plot_forecast(train,test[best_step:],LTSM_forecast)"
   ]
  },
  {
   "cell_type": "markdown",
   "metadata": {},
   "source": [
    "In this section, I created a Long Term Short Memory Model. A Long Term Short Memory Model is a type of Recurring Neural Network that can use long term patterns along with short term patterns to create a network. \n",
    "\n",
    "For more information on the model, I would suggest watching this youtube video: https://www.youtube.com/watch?v=WCUNPb-5EYI. \n",
    "\n",
    "For this model, I created a function that calculates the optimal number of steps (otherwise known as lags) to include for each observation. \n",
    "\n",
    "In this instance, a 24 step model was optimal, with a RMSE of around 28. When running the model with the test data, the RMSE was 42.5. As with above, these numbers are not compareable but this model did seem to outperform the linear model."
   ]
  },
  {
   "cell_type": "markdown",
   "metadata": {},
   "source": [
    "<div class=\"alert alert-block alert-danger\">\n",
    "\n",
    "<b>Needs fixing:</b> \"n_steps\", \"lag_size\" and \"rolling_mean_size\" are tuned on test set. We can't tune parameters this way. Please use cross validation with TimeSeriesSplit: https://stackoverflow.com/questions/56546881/using-gridsearchcv-with-timeseriessplit\n",
    "</div>"
   ]
  },
  {
   "cell_type": "markdown",
   "metadata": {},
   "source": [
    "<div class=\"alert alert-block alert-success\">\n",
    "<b>Success (review 2):</b> Good job!\n",
    "</div>"
   ]
  },
  {
   "cell_type": "markdown",
   "metadata": {},
   "source": [
    "# Overall Conclusion"
   ]
  },
  {
   "cell_type": "markdown",
   "metadata": {},
   "source": [
    "Overall, predicting the hourly number of ordered taxis is always going to be a difficult task. There is a lack of data to account for yearly trends, such as holidays, and the data seems to be mostly random noise. \n",
    "\n",
    "As far as model choice, the linear regression was much faster to run, but had approximately a 10% higher RMSE. \n",
    "\n",
    "In the end, I think the addition of other variables, such as weather, could be incredibly helpful in improving the model. I would recommend the web scraping of weather information for each day and the re-running of the models to see how it changes their performance."
   ]
  },
  {
   "cell_type": "markdown",
   "metadata": {},
   "source": [
    "<div class=\"alert alert-block alert-success\">\n",
    "<b>Success:</b> Glad to see conclusion in the end of the project!\n",
    "</div>"
   ]
  }
 ],
 "metadata": {
  "ExecuteTimeLog": [
   {
    "duration": 55093,
    "start_time": "2021-11-12T19:48:12.079Z"
   },
   {
    "duration": 6647,
    "start_time": "2021-11-12T19:49:07.176Z"
   },
   {
    "duration": 290,
    "start_time": "2021-11-12T19:51:41.251Z"
   },
   {
    "duration": 295,
    "start_time": "2021-11-12T19:52:09.651Z"
   },
   {
    "duration": 25719,
    "start_time": "2021-11-12T19:52:13.825Z"
   },
   {
    "duration": 288,
    "start_time": "2021-11-12T19:52:41.314Z"
   },
   {
    "duration": 142328,
    "start_time": "2021-11-12T19:53:35.746Z"
   },
   {
    "duration": 299,
    "start_time": "2021-11-12T19:57:52.424Z"
   },
   {
    "duration": 22608,
    "start_time": "2021-11-12T19:58:09.499Z"
   },
   {
    "duration": 6824,
    "start_time": "2021-11-12T19:58:32.110Z"
   },
   {
    "duration": 303,
    "start_time": "2021-11-12T19:59:10.943Z"
   },
   {
    "duration": 400,
    "start_time": "2021-11-12T19:59:25.773Z"
   },
   {
    "duration": 9,
    "start_time": "2021-11-12T20:00:03.365Z"
   },
   {
    "duration": 132,
    "start_time": "2021-11-12T20:00:08.078Z"
   },
   {
    "duration": 41,
    "start_time": "2021-11-12T20:00:11.035Z"
   },
   {
    "duration": 12,
    "start_time": "2021-11-12T20:00:14.149Z"
   },
   {
    "duration": 282,
    "start_time": "2021-11-12T20:00:16.260Z"
   },
   {
    "duration": 11,
    "start_time": "2021-11-12T20:00:31.109Z"
   },
   {
    "duration": 2132,
    "start_time": "2021-11-12T20:00:33.439Z"
   },
   {
    "duration": 4134,
    "start_time": "2021-11-12T20:00:39.386Z"
   },
   {
    "duration": 2084,
    "start_time": "2021-11-12T20:01:11.989Z"
   },
   {
    "duration": 2147,
    "start_time": "2021-11-12T20:01:19.221Z"
   },
   {
    "duration": 3755,
    "start_time": "2021-11-12T20:01:56.171Z"
   },
   {
    "duration": 3312,
    "start_time": "2021-11-12T20:02:40.272Z"
   },
   {
    "duration": 2431,
    "start_time": "2021-11-12T20:02:50.511Z"
   },
   {
    "duration": 1068,
    "start_time": "2021-11-12T20:03:13.236Z"
   },
   {
    "duration": 8,
    "start_time": "2021-11-12T20:20:02.268Z"
   },
   {
    "duration": 12,
    "start_time": "2021-11-12T20:30:36.348Z"
   },
   {
    "duration": 302,
    "start_time": "2021-11-12T20:37:15.560Z"
   },
   {
    "duration": 537,
    "start_time": "2021-11-12T20:37:20.858Z"
   },
   {
    "duration": 16106,
    "start_time": "2021-11-12T20:37:35.508Z"
   },
   {
    "duration": 5792,
    "start_time": "2021-11-12T20:38:46.867Z"
   },
   {
    "duration": 5643,
    "start_time": "2021-11-12T20:39:03.126Z"
   },
   {
    "duration": 505,
    "start_time": "2021-11-12T20:41:32.130Z"
   },
   {
    "duration": 3039,
    "start_time": "2021-11-12T20:41:40.018Z"
   },
   {
    "duration": 3997,
    "start_time": "2021-11-12T20:42:06.247Z"
   },
   {
    "duration": 8245,
    "start_time": "2021-11-12T20:42:38.580Z"
   },
   {
    "duration": 3128,
    "start_time": "2021-11-12T20:43:08.602Z"
   },
   {
    "duration": 8,
    "start_time": "2021-11-12T20:43:25.035Z"
   },
   {
    "duration": 285,
    "start_time": "2021-11-12T20:43:40.588Z"
   },
   {
    "duration": 87,
    "start_time": "2021-11-12T20:43:46.532Z"
   },
   {
    "duration": 282,
    "start_time": "2021-11-12T20:43:51.948Z"
   },
   {
    "duration": 4730,
    "start_time": "2021-11-12T20:44:30.931Z"
   },
   {
    "duration": 3820,
    "start_time": "2021-11-12T20:44:49.017Z"
   },
   {
    "duration": 300,
    "start_time": "2021-11-12T20:47:11.462Z"
   },
   {
    "duration": 494,
    "start_time": "2021-11-12T20:47:23.615Z"
   },
   {
    "duration": 9,
    "start_time": "2021-11-12T20:53:33.119Z"
   },
   {
    "duration": 868,
    "start_time": "2021-11-12T20:54:01.564Z"
   },
   {
    "duration": 1002,
    "start_time": "2021-11-12T20:54:50.090Z"
   },
   {
    "duration": 286,
    "start_time": "2021-11-12T20:55:18.869Z"
   },
   {
    "duration": 1579,
    "start_time": "2021-11-12T20:55:25.402Z"
   },
   {
    "duration": 1683,
    "start_time": "2021-11-12T20:57:19.382Z"
   },
   {
    "duration": 751,
    "start_time": "2021-11-12T21:00:23.980Z"
   },
   {
    "duration": 425,
    "start_time": "2021-11-12T21:02:21.614Z"
   },
   {
    "duration": 492,
    "start_time": "2021-11-12T21:02:29.145Z"
   },
   {
    "duration": 484,
    "start_time": "2021-11-12T21:03:34.614Z"
   },
   {
    "duration": 293,
    "start_time": "2021-11-12T21:04:25.536Z"
   },
   {
    "duration": 414,
    "start_time": "2021-11-12T21:04:34.573Z"
   },
   {
    "duration": 307,
    "start_time": "2021-11-12T21:04:53.072Z"
   },
   {
    "duration": 382,
    "start_time": "2021-11-12T21:04:58.254Z"
   },
   {
    "duration": 478,
    "start_time": "2021-11-12T21:32:53.559Z"
   },
   {
    "duration": 983,
    "start_time": "2021-11-12T21:33:17.553Z"
   },
   {
    "duration": 271,
    "start_time": "2021-11-12T21:39:44.216Z"
   },
   {
    "duration": 279,
    "start_time": "2021-11-12T21:40:42.802Z"
   },
   {
    "duration": 281,
    "start_time": "2021-11-12T21:40:48.361Z"
   },
   {
    "duration": 19,
    "start_time": "2021-11-12T21:40:57.539Z"
   },
   {
    "duration": 18,
    "start_time": "2021-11-12T21:41:34.746Z"
   },
   {
    "duration": 18,
    "start_time": "2021-11-12T21:41:55.365Z"
   },
   {
    "duration": 29,
    "start_time": "2021-11-12T21:42:21.056Z"
   },
   {
    "duration": 504,
    "start_time": "2021-11-12T21:46:42.637Z"
   },
   {
    "duration": 18,
    "start_time": "2021-11-12T21:47:24.302Z"
   },
   {
    "duration": 498,
    "start_time": "2021-11-12T21:48:35.099Z"
   },
   {
    "duration": 635,
    "start_time": "2021-11-12T21:52:30.677Z"
   },
   {
    "duration": 720,
    "start_time": "2021-11-12T21:53:32.353Z"
   },
   {
    "duration": 877,
    "start_time": "2021-11-12T21:54:10.412Z"
   },
   {
    "duration": 609,
    "start_time": "2021-11-12T21:54:43.640Z"
   },
   {
    "duration": 624,
    "start_time": "2021-11-12T21:54:59.264Z"
   },
   {
    "duration": -305,
    "start_time": "2021-11-12T21:56:18.960Z"
   },
   {
    "duration": 52052,
    "start_time": "2021-11-12T21:56:25.413Z"
   },
   {
    "duration": 122679,
    "start_time": "2021-11-12T21:57:35.368Z"
   },
   {
    "duration": 1516297,
    "start_time": "2021-11-12T22:03:06.851Z"
   },
   {
    "duration": 63664,
    "start_time": "2021-11-12T22:30:22.526Z"
   },
   {
    "duration": 633636,
    "start_time": "2021-11-12T22:31:34.150Z"
   },
   {
    "duration": 509,
    "start_time": "2021-11-12T22:44:07.297Z"
   },
   {
    "duration": 558,
    "start_time": "2021-11-12T22:45:17.645Z"
   },
   {
    "duration": 599,
    "start_time": "2021-11-12T22:45:29.665Z"
   },
   {
    "duration": 540,
    "start_time": "2021-11-12T22:46:28.554Z"
   },
   {
    "duration": 486,
    "start_time": "2021-11-12T22:47:54.273Z"
   },
   {
    "duration": 493,
    "start_time": "2021-11-12T22:48:16.577Z"
   },
   {
    "duration": 2413,
    "start_time": "2021-11-12T22:48:39.101Z"
   },
   {
    "duration": 488,
    "start_time": "2021-11-12T22:49:07.176Z"
   },
   {
    "duration": 546,
    "start_time": "2021-11-12T22:49:34.449Z"
   },
   {
    "duration": 2775,
    "start_time": "2021-11-12T22:50:22.273Z"
   },
   {
    "duration": 498,
    "start_time": "2021-11-12T22:51:11.134Z"
   },
   {
    "duration": 507,
    "start_time": "2021-11-12T22:51:37.735Z"
   },
   {
    "duration": 539,
    "start_time": "2021-11-12T22:51:56.026Z"
   },
   {
    "duration": 561,
    "start_time": "2021-11-12T22:52:26.978Z"
   },
   {
    "duration": 104637,
    "start_time": "2021-11-12T22:52:38.733Z"
   },
   {
    "duration": 10277,
    "start_time": "2021-11-12T22:54:32.561Z"
   },
   {
    "duration": 62313,
    "start_time": "2021-11-12T22:54:50.446Z"
   },
   {
    "duration": 1186,
    "start_time": "2021-11-12T22:56:15.478Z"
   },
   {
    "duration": 897,
    "start_time": "2021-11-12T22:56:29.893Z"
   },
   {
    "duration": 960,
    "start_time": "2021-11-12T22:57:27.236Z"
   },
   {
    "duration": 1269,
    "start_time": "2021-11-12T22:57:51.400Z"
   },
   {
    "duration": 2405,
    "start_time": "2021-11-12T22:58:05.789Z"
   },
   {
    "duration": 2300,
    "start_time": "2021-11-12T22:58:43.404Z"
   },
   {
    "duration": 1052,
    "start_time": "2021-11-12T22:59:34.645Z"
   },
   {
    "duration": 1139,
    "start_time": "2021-11-12T23:00:11.143Z"
   },
   {
    "duration": 963,
    "start_time": "2021-11-12T23:01:51.243Z"
   },
   {
    "duration": 1004,
    "start_time": "2021-11-12T23:02:38.077Z"
   },
   {
    "duration": 508,
    "start_time": "2021-11-12T23:07:11.453Z"
   },
   {
    "duration": 506,
    "start_time": "2021-11-12T23:07:49.833Z"
   },
   {
    "duration": 501,
    "start_time": "2021-11-12T23:08:00.976Z"
   },
   {
    "duration": 500,
    "start_time": "2021-11-12T23:08:44.135Z"
   },
   {
    "duration": 1106,
    "start_time": "2021-11-12T23:09:19.992Z"
   },
   {
    "duration": 2365,
    "start_time": "2021-11-12T23:10:10.315Z"
   },
   {
    "duration": 985,
    "start_time": "2021-11-12T23:10:43.110Z"
   },
   {
    "duration": 1089,
    "start_time": "2021-11-12T23:11:41.078Z"
   },
   {
    "duration": 2431,
    "start_time": "2021-11-12T23:12:22.166Z"
   },
   {
    "duration": 5793,
    "start_time": "2021-11-12T23:13:10.076Z"
   },
   {
    "duration": 1835,
    "start_time": "2021-11-12T23:13:50.663Z"
   },
   {
    "duration": 20337,
    "start_time": "2021-11-12T23:15:17.423Z"
   },
   {
    "duration": 5703,
    "start_time": "2021-11-12T23:15:37.764Z"
   },
   {
    "duration": 119,
    "start_time": "2021-11-12T23:15:43.470Z"
   },
   {
    "duration": 46,
    "start_time": "2021-11-12T23:15:43.591Z"
   },
   {
    "duration": 36,
    "start_time": "2021-11-12T23:15:43.639Z"
   },
   {
    "duration": 7,
    "start_time": "2021-11-12T23:15:43.677Z"
   },
   {
    "duration": 1031,
    "start_time": "2021-11-12T23:16:00.746Z"
   },
   {
    "duration": 7,
    "start_time": "2021-11-12T23:16:20.045Z"
   },
   {
    "duration": 10141,
    "start_time": "2021-11-12T23:16:26.060Z"
   },
   {
    "duration": 10796,
    "start_time": "2021-11-12T23:17:00.877Z"
   },
   {
    "duration": -727,
    "start_time": "2021-11-12T23:18:21.873Z"
   },
   {
    "duration": 8757,
    "start_time": "2021-11-12T23:18:27.613Z"
   },
   {
    "duration": -308,
    "start_time": "2021-11-12T23:22:50.946Z"
   },
   {
    "duration": -111,
    "start_time": "2021-11-12T23:23:49.189Z"
   },
   {
    "duration": 499,
    "start_time": "2021-11-12T23:23:51.302Z"
   },
   {
    "duration": -676,
    "start_time": "2021-11-12T23:26:26.717Z"
   },
   {
    "duration": 517455,
    "start_time": "2021-11-12T23:26:28.614Z"
   },
   {
    "duration": 906,
    "start_time": "2021-11-12T23:35:46.546Z"
   },
   {
    "duration": 12680,
    "start_time": "2021-11-12T23:36:01.370Z"
   },
   {
    "duration": -312,
    "start_time": "2021-11-12T23:42:19.886Z"
   },
   {
    "duration": 500,
    "start_time": "2021-11-12T23:42:23.024Z"
   },
   {
    "duration": 517,
    "start_time": "2021-11-12T23:44:24.791Z"
   },
   {
    "duration": 691,
    "start_time": "2021-11-12T23:46:38.748Z"
   },
   {
    "duration": 488,
    "start_time": "2021-11-12T23:48:32.764Z"
   },
   {
    "duration": 479,
    "start_time": "2021-11-12T23:49:23.006Z"
   },
   {
    "duration": 1853,
    "start_time": "2021-11-12T23:49:32.475Z"
   },
   {
    "duration": 716,
    "start_time": "2021-11-12T23:49:59.934Z"
   },
   {
    "duration": 499,
    "start_time": "2021-11-12T23:50:10.486Z"
   },
   {
    "duration": 27211,
    "start_time": "2021-11-12T23:50:31.732Z"
   },
   {
    "duration": 280,
    "start_time": "2021-11-12T23:53:12.037Z"
   },
   {
    "duration": 289,
    "start_time": "2021-11-12T23:53:16.261Z"
   },
   {
    "duration": 36,
    "start_time": "2021-11-12T23:53:46.623Z"
   },
   {
    "duration": 22,
    "start_time": "2021-11-12T23:54:37.739Z"
   },
   {
    "duration": 40,
    "start_time": "2021-11-12T23:54:54.711Z"
   },
   {
    "duration": 300,
    "start_time": "2021-11-12T23:56:17.644Z"
   },
   {
    "duration": 382,
    "start_time": "2021-11-12T23:56:30.440Z"
   },
   {
    "duration": 304,
    "start_time": "2021-11-12T23:56:36.695Z"
   },
   {
    "duration": 38,
    "start_time": "2021-11-12T23:56:54.028Z"
   },
   {
    "duration": 36,
    "start_time": "2021-11-12T23:57:19.129Z"
   },
   {
    "duration": 228,
    "start_time": "2021-11-12T23:57:25.339Z"
   },
   {
    "duration": 9178,
    "start_time": "2021-11-12T23:57:59.449Z"
   },
   {
    "duration": 323,
    "start_time": "2021-11-12T23:59:39.524Z"
   },
   {
    "duration": 210,
    "start_time": "2021-11-12T23:59:46.866Z"
   },
   {
    "duration": 65249,
    "start_time": "2021-11-13T00:01:52.805Z"
   },
   {
    "duration": 193857,
    "start_time": "2021-11-13T00:03:07.292Z"
   },
   {
    "duration": 95614,
    "start_time": "2021-11-13T00:06:34.263Z"
   },
   {
    "duration": 346,
    "start_time": "2021-11-13T00:09:09.103Z"
   },
   {
    "duration": 614,
    "start_time": "2021-11-13T00:12:13.148Z"
   },
   {
    "duration": 552,
    "start_time": "2021-11-13T00:13:22.762Z"
   },
   {
    "duration": 364026,
    "start_time": "2021-11-13T00:14:27.945Z"
   },
   {
    "duration": 918,
    "start_time": "2021-11-13T00:20:31.974Z"
   },
   {
    "duration": 3472448,
    "start_time": "2021-11-13T00:20:32.896Z"
   },
   {
    "duration": -309,
    "start_time": "2021-11-13T01:18:25.656Z"
   },
   {
    "duration": 42095,
    "start_time": "2021-11-13T01:18:40.947Z"
   },
   {
    "duration": 2753500,
    "start_time": "2021-11-13T01:19:27.349Z"
   },
   {
    "duration": -487,
    "start_time": "2021-11-13T02:05:21.339Z"
   },
   {
    "duration": 4160860,
    "start_time": "2021-11-13T02:05:38.697Z"
   },
   {
    "duration": -521,
    "start_time": "2021-11-13T03:15:00.082Z"
   },
   {
    "duration": 8579603,
    "start_time": "2021-11-13T03:15:48.594Z"
   },
   {
    "duration": 318,
    "start_time": "2021-11-13T05:38:48.199Z"
   },
   {
    "duration": 382125,
    "start_time": "2021-11-13T06:16:16.627Z"
   },
   {
    "duration": 381834,
    "start_time": "2021-11-13T06:23:06.427Z"
   },
   {
    "duration": 604395,
    "start_time": "2021-11-13T06:30:10.556Z"
   }
  ],
  "kernelspec": {
   "display_name": "Python 3",
   "language": "python",
   "name": "python3"
  },
  "language_info": {
   "codemirror_mode": {
    "name": "ipython",
    "version": 3
   },
   "file_extension": ".py",
   "mimetype": "text/x-python",
   "name": "python",
   "nbconvert_exporter": "python",
   "pygments_lexer": "ipython3",
   "version": "3.7.8"
  },
  "toc": {
   "base_numbering": 1,
   "nav_menu": {},
   "number_sections": true,
   "sideBar": true,
   "skip_h1_title": false,
   "title_cell": "Table of Contents",
   "title_sidebar": "Contents",
   "toc_cell": false,
   "toc_position": {},
   "toc_section_display": true,
   "toc_window_display": false
  },
  "varInspector": {
   "cols": {
    "lenName": 16,
    "lenType": 16,
    "lenVar": 40
   },
   "kernels_config": {
    "python": {
     "delete_cmd_postfix": "",
     "delete_cmd_prefix": "del ",
     "library": "var_list.py",
     "varRefreshCmd": "print(var_dic_list())"
    },
    "r": {
     "delete_cmd_postfix": ") ",
     "delete_cmd_prefix": "rm(",
     "library": "var_list.r",
     "varRefreshCmd": "cat(var_dic_list()) "
    }
   },
   "types_to_exclude": [
    "module",
    "function",
    "builtin_function_or_method",
    "instance",
    "_Feature"
   ],
   "window_display": false
  }
 },
 "nbformat": 4,
 "nbformat_minor": 5
}
