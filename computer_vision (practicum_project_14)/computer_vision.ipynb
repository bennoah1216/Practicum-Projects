{
 "cells": [
  {
   "cell_type": "markdown",
   "metadata": {
    "deletable": false,
    "editable": false,
    "tags": [
     "df89053c-55da-4946-b602-c3baf619b53f"
    ]
   },
   "source": [
    "## Initialization"
   ]
  },
  {
   "cell_type": "markdown",
   "metadata": {},
   "source": [
    "## Load Data"
   ]
  },
  {
   "cell_type": "markdown",
   "metadata": {},
   "source": [
    "The dataset is stored in the `/datasets/faces/` folder, there you can find\n",
    "- The `final_files` folder with 7.6k photos\n",
    "- The `labels.csv` file with labels, with two columns: `file_name` and `real_age`\n",
    "\n",
    "Given the fact that the number of image files is rather high, it is advisable to avoid reading them all at once, which would greatly consume computational resources. We recommend you build a generator with the ImageDataGenerator generator. This method was explained in Chapter 3, Lesson 7 of this course.\n",
    "\n",
    "The label file can be loaded as an usual CSV file."
   ]
  },
  {
   "cell_type": "code",
   "execution_count": 1,
   "metadata": {},
   "outputs": [
    {
     "name": "stdout",
     "output_type": "stream",
     "text": [
      "<class 'pandas.core.frame.DataFrame'>\n",
      "RangeIndex: 7591 entries, 0 to 7590\n",
      "Data columns (total 2 columns):\n",
      "file_name    7591 non-null object\n",
      "real_age     7591 non-null int64\n",
      "dtypes: int64(1), object(1)\n",
      "memory usage: 118.7+ KB\n"
     ]
    },
    {
     "data": {
      "text/html": [
       "<div>\n",
       "<style scoped>\n",
       "    .dataframe tbody tr th:only-of-type {\n",
       "        vertical-align: middle;\n",
       "    }\n",
       "\n",
       "    .dataframe tbody tr th {\n",
       "        vertical-align: top;\n",
       "    }\n",
       "\n",
       "    .dataframe thead th {\n",
       "        text-align: right;\n",
       "    }\n",
       "</style>\n",
       "<table border=\"1\" class=\"dataframe\">\n",
       "  <thead>\n",
       "    <tr style=\"text-align: right;\">\n",
       "      <th></th>\n",
       "      <th>real_age</th>\n",
       "    </tr>\n",
       "  </thead>\n",
       "  <tbody>\n",
       "    <tr>\n",
       "      <td>count</td>\n",
       "      <td>7591.000000</td>\n",
       "    </tr>\n",
       "    <tr>\n",
       "      <td>mean</td>\n",
       "      <td>31.201159</td>\n",
       "    </tr>\n",
       "    <tr>\n",
       "      <td>std</td>\n",
       "      <td>17.145060</td>\n",
       "    </tr>\n",
       "    <tr>\n",
       "      <td>min</td>\n",
       "      <td>1.000000</td>\n",
       "    </tr>\n",
       "    <tr>\n",
       "      <td>25%</td>\n",
       "      <td>20.000000</td>\n",
       "    </tr>\n",
       "    <tr>\n",
       "      <td>50%</td>\n",
       "      <td>29.000000</td>\n",
       "    </tr>\n",
       "    <tr>\n",
       "      <td>75%</td>\n",
       "      <td>41.000000</td>\n",
       "    </tr>\n",
       "    <tr>\n",
       "      <td>max</td>\n",
       "      <td>100.000000</td>\n",
       "    </tr>\n",
       "  </tbody>\n",
       "</table>\n",
       "</div>"
      ],
      "text/plain": [
       "          real_age\n",
       "count  7591.000000\n",
       "mean     31.201159\n",
       "std      17.145060\n",
       "min       1.000000\n",
       "25%      20.000000\n",
       "50%      29.000000\n",
       "75%      41.000000\n",
       "max     100.000000"
      ]
     },
     "execution_count": 1,
     "metadata": {},
     "output_type": "execute_result"
    }
   ],
   "source": [
    "import pandas as pd\n",
    "labels = pd.read_csv('/datasets/faces/labels.csv')\n",
    "labels.info()\n",
    "labels.describe()"
   ]
  },
  {
   "cell_type": "markdown",
   "metadata": {},
   "source": [
    "## EDA"
   ]
  },
  {
   "cell_type": "code",
   "execution_count": 2,
   "metadata": {},
   "outputs": [
    {
     "data": {
      "text/plain": [
       "<matplotlib.axes._subplots.AxesSubplot at 0x7f023c631c10>"
      ]
     },
     "execution_count": 2,
     "metadata": {},
     "output_type": "execute_result"
    },
    {
     "data": {
      "image/png": "[encoded data removed]",
      "text/plain": [
       "<Figure size 432x288 with 1 Axes>"
      ]
     },
     "metadata": {
      "needs_background": "light"
     },
     "output_type": "display_data"
    }
   ],
   "source": [
    "labels['file_name'].duplicated().value_counts()\n",
    "labels.plot(kind='hist')"
   ]
  },
  {
   "cell_type": "markdown",
   "metadata": {},
   "source": [
    "### Findings"
   ]
  },
  {
   "cell_type": "markdown",
   "metadata": {},
   "source": [
    "Age is normally distributed around 30 years old, with a slight tail on the older side of the data. Depending on the objective of the project, one could consider dropping those older than 60 to help deal with outliers. "
   ]
  },
  {
   "cell_type": "markdown",
   "metadata": {},
   "source": [
    "## Modelling"
   ]
  },
  {
   "cell_type": "markdown",
   "metadata": {},
   "source": [
    "Define the necessary functions to train your model on the GPU platform and build a single script containing all of them along with the initialization section.\n",
    "\n",
    "To make this task easier, you can define them in this notebook and run a ready code in the next section to automatically compose the script.\n",
    "\n",
    "The definitions below will be checked by project reviewers as well, so that they can understand how you built the model."
   ]
  },
  {
   "cell_type": "code",
   "execution_count": 3,
   "metadata": {},
   "outputs": [],
   "source": [
    "import tensorflow as tf\n",
    "\n",
    "from tensorflow.keras.preprocessing.image import ImageDataGenerator\n",
    "from tensorflow.keras.applications.resnet import ResNet50\n",
    "from tensorflow.keras.models import Sequential\n",
    "from tensorflow.keras.layers import GlobalAveragePooling2D, Dense, Dropout, Flatten\n",
    "from tensorflow.keras.optimizers import Adam"
   ]
  },
  {
   "cell_type": "code",
   "execution_count": 15,
   "metadata": {},
   "outputs": [],
   "source": [
    "def load_train(path):\n",
    "    train_datagen = ImageDataGenerator(validation_split=0.25,horizontal_flip=True, vertical_flip=True, rescale = 1/255)\n",
    "    train_data = train_datagen.flow_from_dataframe(directory=path,dataframe='labels.csv', target_size = (150, 150), \n",
    "                                                           class_mode='sparse', batch_size=16,subset='training', seed=12345)        \n",
    "    return train_data"
   ]
  },
  {
   "cell_type": "code",
   "execution_count": null,
   "metadata": {},
   "outputs": [],
   "source": [
    "def load_test(path):\n",
    "    test_datagen = ImageDataGenerator(validation_split=0.25, rescale = 1/255)\n",
    "    test_data = train_datagen.flow_from_dataframe(directory=path,dataframe='labels.csv', target_size = (150, 150), \n",
    "                                                           class_mode='sparse', batch_size=16,subset='validation', seed=12345)\n",
    "        \n",
    "    return test_data"
   ]
  },
  {
   "cell_type": "code",
   "execution_count": 6,
   "metadata": {},
   "outputs": [],
   "source": [
    "def create_model(input_shape=(150, 150, 3)):\n",
    "    optimizer = Adam(lr=.0001)\n",
    "    backbone = ResNet50(input_shape=input_shape, weights='imagenet', include_top=False)\n",
    "    model = Sequential()\n",
    "    model.add(backbone)\n",
    "    model.add(GlobalAveragePooling2D())\n",
    "    model.add(Dense(12, activation='softmax'))\n",
    "    model.compile(optimizer=optimizer, loss='sparse_categorical_crossentropy', metrics=['mae'])\n",
    "    return model"
   ]
  },
  {
   "cell_type": "code",
   "execution_count": 7,
   "metadata": {},
   "outputs": [],
   "source": [
    "def train_model(model, train_data, test_data, batch_size=None, epochs=3, steps_per_epoch=None, \n",
    "                validation_steps=None):\n",
    "    if steps_per_epoch is None:\n",
    "        steps_per_epoch = len(train_data)\n",
    "    if validation_steps is None:\n",
    "        validation_steps = len(test_data)\n",
    "    model.fit(train_data, validation_data=test_data,\n",
    "          batch_size=batch_size, epochs=epochs, steps_per_epoch=steps_per_epoch,\n",
    "          validation_steps=validation_steps,\n",
    "          verbose=2) \n",
    "    return model"
   ]
  },
  {
   "cell_type": "markdown",
   "metadata": {},
   "source": [
    "### Prepare the Script to Run on the GPU Platform"
   ]
  },
  {
   "cell_type": "markdown",
   "metadata": {},
   "source": [
    "Given you've defined the necessary functions you can compose a script for the GPU platform, download it via the \"File|Open...\" menu, and to upload it later for running on the GPU platform.\n",
    "\n",
    "N.B.: The script should include the initialization section as well. An example of this is shown below."
   ]
  },
  {
   "cell_type": "code",
   "execution_count": 8,
   "metadata": {},
   "outputs": [],
   "source": [
    "# prepare a script to run on the GPU platform\n",
    "\n",
    "init_str = \"\"\"\n",
    "import pandas as pd\n",
    "\n",
    "import tensorflow as tf\n",
    "\n",
    "from tensorflow.keras.preprocessing.image import ImageDataGenerator\n",
    "from tensorflow.keras.applications.resnet import ResNet50\n",
    "from tensorflow.keras.models import Sequential\n",
    "from tensorflow.keras.layers import GlobalAveragePooling2D, Dense, Dropout, Flatten\n",
    "from tensorflow.keras.optimizers import Adam\n",
    "\"\"\"\n",
    "\n",
    "import inspect\n",
    "\n",
    "with open('run_model_on_gpu.py', 'w') as f:\n",
    "    \n",
    "    f.write(init_str)\n",
    "    f.write('\\n\\n')\n",
    "        \n",
    "    for fn_name in [load_train, load_test, create_model, train_model]:\n",
    "        \n",
    "        src = inspect.getsource(fn_name)\n",
    "        f.write(src)\n",
    "        f.write('\\n\\n')"
   ]
  },
  {
   "cell_type": "markdown",
   "metadata": {},
   "source": [
    "### Output"
   ]
  },
  {
   "cell_type": "markdown",
   "metadata": {},
   "source": [
    "Place the output from the GPU platform as an Markdown cell here."
   ]
  },
  {
   "cell_type": "code",
   "execution_count": null,
   "metadata": {},
   "outputs": [],
   "source": []
  },
  {
   "cell_type": "markdown",
   "metadata": {},
   "source": [
    "## Conclusions"
   ]
  },
  {
   "cell_type": "code",
   "execution_count": null,
   "metadata": {},
   "outputs": [],
   "source": []
  },
  {
   "cell_type": "markdown",
   "metadata": {},
   "source": [
    "# Checklist"
   ]
  },
  {
   "cell_type": "markdown",
   "metadata": {},
   "source": [
    "- [ ]  Notebook was opened\n",
    "- [ ]  The code is error free\n",
    "- [ ]  The cells with code have been arranged by order of execution\n",
    "- [ ]  The exploratory data analysis has been performed\n",
    "- [ ]  The results of the exploratory data analysis are presented in the final notebook\n",
    "- [ ]  The model's MAE score is not higher than 8\n",
    "- [ ]  The model training code has been copied to the final notebook\n",
    "- [ ]  The model training output has been copied to the final notebook\n",
    "- [ ]  The findings have been provided based on the results of the model training"
   ]
  },
  {
   "cell_type": "code",
   "execution_count": null,
   "metadata": {},
   "outputs": [],
   "source": []
  }
 ],
 "metadata": {
  "ExecuteTimeLog": [
   {
    "duration": 1282,
    "start_time": "2021-12-20T18:07:10.942Z"
   },
   {
    "duration": 62,
    "start_time": "2021-12-20T18:07:33.692Z"
   },
   {
    "duration": 27,
    "start_time": "2021-12-20T18:07:51.863Z"
   },
   {
    "duration": 297,
    "start_time": "2021-12-20T18:08:16.661Z"
   },
   {
    "duration": 418,
    "start_time": "2021-12-20T18:08:21.075Z"
   },
   {
    "duration": 278,
    "start_time": "2021-12-20T18:08:25.321Z"
   },
   {
    "duration": 1366,
    "start_time": "2021-12-20T18:09:15.410Z"
   },
   {
    "duration": 82,
    "start_time": "2021-12-20T18:09:36.216Z"
   },
   {
    "duration": 713,
    "start_time": "2021-12-20T18:09:44.753Z"
   },
   {
    "duration": 448,
    "start_time": "2021-12-20T18:10:06.475Z"
   },
   {
    "duration": 366,
    "start_time": "2021-12-20T18:10:10.937Z"
   },
   {
    "duration": 314,
    "start_time": "2021-12-20T18:10:53.698Z"
   },
   {
    "duration": 320,
    "start_time": "2021-12-20T18:11:28.521Z"
   },
   {
    "duration": 322,
    "start_time": "2021-12-20T18:11:35.572Z"
   },
   {
    "duration": 364,
    "start_time": "2021-12-20T18:11:46.080Z"
   },
   {
    "duration": 318,
    "start_time": "2021-12-20T18:12:40.578Z"
   },
   {
    "duration": 404,
    "start_time": "2021-12-20T18:13:13.844Z"
   },
   {
    "duration": 322,
    "start_time": "2021-12-20T18:13:28.226Z"
   },
   {
    "duration": 6723,
    "start_time": "2021-12-20T18:16:09.499Z"
   },
   {
    "duration": 4,
    "start_time": "2021-12-27T19:14:09.637Z"
   },
   {
    "duration": 3,
    "start_time": "2021-12-27T19:14:11.616Z"
   },
   {
    "duration": 5,
    "start_time": "2021-12-27T19:14:13.211Z"
   },
   {
    "duration": 5,
    "start_time": "2021-12-27T19:14:15.426Z"
   },
   {
    "duration": 639,
    "start_time": "2021-12-27T19:14:20.492Z"
   },
   {
    "duration": 236,
    "start_time": "2021-12-27T19:14:23.516Z"
   },
   {
    "duration": 2690,
    "start_time": "2021-12-27T19:14:25.932Z"
   },
   {
    "duration": 4,
    "start_time": "2021-12-27T19:14:30.748Z"
   },
   {
    "duration": 4,
    "start_time": "2021-12-27T19:14:32.029Z"
   },
   {
    "duration": 5,
    "start_time": "2021-12-27T19:14:33.933Z"
   },
   {
    "duration": 4,
    "start_time": "2021-12-27T19:14:35.112Z"
   },
   {
    "duration": 814,
    "start_time": "2021-12-27T19:14:40.459Z"
   },
   {
    "duration": 449,
    "start_time": "2021-12-27T19:17:30.721Z"
   },
   {
    "duration": 665,
    "start_time": "2021-12-27T20:12:15.836Z"
   },
   {
    "duration": 231,
    "start_time": "2021-12-27T20:12:16.502Z"
   },
   {
    "duration": 2781,
    "start_time": "2021-12-27T20:12:16.736Z"
   },
   {
    "duration": 4,
    "start_time": "2021-12-27T20:12:19.519Z"
   },
   {
    "duration": 20,
    "start_time": "2021-12-27T20:12:19.524Z"
   },
   {
    "duration": 7,
    "start_time": "2021-12-27T20:12:19.545Z"
   },
   {
    "duration": 19,
    "start_time": "2021-12-27T20:12:19.554Z"
   },
   {
    "duration": 852,
    "start_time": "2021-12-27T20:12:19.575Z"
   },
   {
    "duration": 119,
    "start_time": "2021-12-27T20:13:03.620Z"
   },
   {
    "duration": 789,
    "start_time": "2021-12-27T20:13:11.540Z"
   },
   {
    "duration": 6,
    "start_time": "2021-12-27T20:14:08.649Z"
   },
   {
    "duration": 4,
    "start_time": "2021-12-27T20:14:10.554Z"
   },
   {
    "duration": 916,
    "start_time": "2021-12-27T20:14:12.765Z"
   },
   {
    "duration": 519,
    "start_time": "2021-12-27T20:15:58.338Z"
   },
   {
    "duration": 5,
    "start_time": "2021-12-27T20:16:04.349Z"
   },
   {
    "duration": 4,
    "start_time": "2021-12-27T20:16:05.988Z"
   },
   {
    "duration": 871,
    "start_time": "2021-12-27T20:16:07.821Z"
   }
  ],
  "kernelspec": {
   "display_name": "Python 3 (ipykernel)",
   "language": "python",
   "name": "python3"
  },
  "language_info": {
   "codemirror_mode": {
    "name": "ipython",
    "version": 3
   },
   "file_extension": ".py",
   "mimetype": "text/x-python",
   "name": "python",
   "nbconvert_exporter": "python",
   "pygments_lexer": "ipython3",
   "version": "3.8.8"
  },
  "toc": {
   "base_numbering": 1,
   "nav_menu": {},
   "number_sections": true,
   "sideBar": true,
   "skip_h1_title": true,
   "title_cell": "Table of Contents",
   "title_sidebar": "Contents",
   "toc_cell": false,
   "toc_position": {},
   "toc_section_display": true,
   "toc_window_display": false
  },
  "varInspector": {
   "cols": {
    "lenName": 16,
    "lenType": 16,
    "lenVar": 40
   },
   "kernels_config": {
    "python": {
     "delete_cmd_postfix": "",
     "delete_cmd_prefix": "del ",
     "library": "var_list.py",
     "varRefreshCmd": "print(var_dic_list())"
    },
    "r": {
     "delete_cmd_postfix": ") ",
     "delete_cmd_prefix": "rm(",
     "library": "var_list.r",
     "varRefreshCmd": "cat(var_dic_list()) "
    }
   },
   "types_to_exclude": [
    "module",
    "function",
    "builtin_function_or_method",
    "instance",
    "_Feature"
   ],
   "window_display": false
  }
 },
 "nbformat": 4,
 "nbformat_minor": 4
}
