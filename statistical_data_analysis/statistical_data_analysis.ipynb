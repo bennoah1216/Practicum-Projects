{
 "cells": [
  {
   "cell_type": "markdown",
   "metadata": {},
   "source": [
    "# Megaline Project "
   ]
  },
  {
   "cell_type": "markdown",
   "metadata": {},
   "source": [
    "As an analyst for Megaline, my goal of this project is figure out which of the two plans they currently offer (Surf and Ultimate) bring in the most revenue and are the most profitable. This will help the commercial department adjust the advertising budget for the upcoming year."
   ]
  },
  {
   "cell_type": "markdown",
   "metadata": {},
   "source": [
    "## Importing Packages"
   ]
  },
  {
   "cell_type": "code",
   "execution_count": 1,
   "metadata": {},
   "outputs": [
    {
     "name": "stdout",
     "output_type": "stream",
     "text": [
      "Requirement already satisfied: tabulate in c:\\users\\bnoah\\anaconda3\\lib\\site-packages (0.8.9)\n",
      "Requirement already satisfied: pandas-profiling[notebook] in c:\\users\\bnoah\\anaconda3\\lib\\site-packages (3.1.1)\n",
      "Requirement already satisfied: pandas!=1.0.0,!=1.0.1,!=1.0.2,!=1.1.0,>=0.25.3 in c:\\users\\bnoah\\anaconda3\\lib\\site-packages (from pandas-profiling[notebook]) (1.3.4)\n",
      "Requirement already satisfied: tqdm>=4.48.2 in c:\\users\\bnoah\\anaconda3\\lib\\site-packages (from pandas-profiling[notebook]) (4.62.3)\n",
      "Requirement already satisfied: phik>=0.11.1 in c:\\users\\bnoah\\appdata\\roaming\\python\\python38\\site-packages (from pandas-profiling[notebook]) (0.12.0)\n",
      "Requirement already satisfied: pydantic>=1.8.1 in c:\\users\\bnoah\\appdata\\roaming\\python\\python38\\site-packages (from pandas-profiling[notebook]) (1.8.2)\n",
      "Requirement already satisfied: scipy>=1.4.1 in c:\\users\\bnoah\\anaconda3\\lib\\site-packages (from pandas-profiling[notebook]) (1.7.1)\n",
      "Requirement already satisfied: seaborn>=0.10.1 in c:\\users\\bnoah\\anaconda3\\lib\\site-packages (from pandas-profiling[notebook]) (0.11.2)\n",
      "Requirement already satisfied: jinja2>=2.11.1 in c:\\users\\bnoah\\anaconda3\\lib\\site-packages (from pandas-profiling[notebook]) (3.0.2)\n",
      "Requirement already satisfied: multimethod>=1.4 in c:\\users\\bnoah\\appdata\\roaming\\python\\python38\\site-packages (from pandas-profiling[notebook]) (1.6)\n",
      "Requirement already satisfied: tangled-up-in-unicode==0.2.0 in c:\\users\\bnoah\\anaconda3\\lib\\site-packages (from pandas-profiling[notebook]) (0.2.0)\n",
      "Requirement already satisfied: missingno>=0.4.2 in c:\\users\\bnoah\\anaconda3\\lib\\site-packages (from pandas-profiling[notebook]) (0.5.0)\n",
      "Requirement already satisfied: visions[type_image_path]==0.7.4 in c:\\users\\bnoah\\appdata\\roaming\\python\\python38\\site-packages (from pandas-profiling[notebook]) (0.7.4)\n",
      "Requirement already satisfied: joblib~=1.1.0 in c:\\users\\bnoah\\anaconda3\\lib\\site-packages (from pandas-profiling[notebook]) (1.1.0)\n",
      "Requirement already satisfied: numpy>=1.16.0 in c:\\users\\bnoah\\anaconda3\\lib\\site-packages (from pandas-profiling[notebook]) (1.21.4)\n",
      "Requirement already satisfied: requests>=2.24.0 in c:\\users\\bnoah\\anaconda3\\lib\\site-packages (from pandas-profiling[notebook]) (2.26.0)\n",
      "Requirement already satisfied: PyYAML>=5.0.0 in c:\\users\\bnoah\\anaconda3\\lib\\site-packages (from pandas-profiling[notebook]) (6.0)\n",
      "Requirement already satisfied: markupsafe~=2.0.1 in c:\\users\\bnoah\\anaconda3\\lib\\site-packages (from pandas-profiling[notebook]) (2.0.1)\n",
      "Requirement already satisfied: matplotlib>=3.2.0 in c:\\users\\bnoah\\anaconda3\\lib\\site-packages (from pandas-profiling[notebook]) (3.4.3)\n",
      "Requirement already satisfied: htmlmin>=0.1.12 in c:\\users\\bnoah\\appdata\\roaming\\python\\python38\\site-packages (from pandas-profiling[notebook]) (0.1.12)\n",
      "Requirement already satisfied: jupyter-core>=4.6.3 in c:\\users\\bnoah\\anaconda3\\lib\\site-packages (from pandas-profiling[notebook]) (4.9.1)\n",
      "Requirement already satisfied: jupyter-client>=6.0.0 in c:\\users\\bnoah\\anaconda3\\lib\\site-packages (from pandas-profiling[notebook]) (7.0.1)\n",
      "Requirement already satisfied: ipywidgets>=7.5.1 in c:\\users\\bnoah\\anaconda3\\lib\\site-packages (from pandas-profiling[notebook]) (7.6.5)\n",
      "Requirement already satisfied: attrs>=19.3.0 in c:\\users\\bnoah\\anaconda3\\lib\\site-packages (from visions[type_image_path]==0.7.4->pandas-profiling[notebook]) (21.2.0)\n",
      "Requirement already satisfied: networkx>=2.4 in c:\\users\\bnoah\\anaconda3\\lib\\site-packages (from visions[type_image_path]==0.7.4->pandas-profiling[notebook]) (2.6.3)\n",
      "Requirement already satisfied: imagehash in c:\\users\\bnoah\\appdata\\roaming\\python\\python38\\site-packages (from visions[type_image_path]==0.7.4->pandas-profiling[notebook]) (4.2.1)\n",
      "Requirement already satisfied: Pillow in c:\\users\\bnoah\\anaconda3\\lib\\site-packages (from visions[type_image_path]==0.7.4->pandas-profiling[notebook]) (8.4.0)\n",
      "Requirement already satisfied: jupyterlab-widgets>=1.0.0 in c:\\users\\bnoah\\anaconda3\\lib\\site-packages (from ipywidgets>=7.5.1->pandas-profiling[notebook]) (1.0.0)\n",
      "Requirement already satisfied: ipython>=4.0.0 in c:\\users\\bnoah\\anaconda3\\lib\\site-packages (from ipywidgets>=7.5.1->pandas-profiling[notebook]) (7.29.0)\n",
      "Requirement already satisfied: ipykernel>=4.5.1 in c:\\users\\bnoah\\anaconda3\\lib\\site-packages (from ipywidgets>=7.5.1->pandas-profiling[notebook]) (6.4.1)\n",
      "Requirement already satisfied: ipython-genutils~=0.2.0 in c:\\users\\bnoah\\anaconda3\\lib\\site-packages (from ipywidgets>=7.5.1->pandas-profiling[notebook]) (0.2.0)\n",
      "Requirement already satisfied: traitlets>=4.3.1 in c:\\users\\bnoah\\anaconda3\\lib\\site-packages (from ipywidgets>=7.5.1->pandas-profiling[notebook]) (5.1.1)\n",
      "Requirement already satisfied: widgetsnbextension~=3.5.0 in c:\\users\\bnoah\\anaconda3\\lib\\site-packages (from ipywidgets>=7.5.1->pandas-profiling[notebook]) (3.5.1)\n",
      "Requirement already satisfied: nbformat>=4.2.0 in c:\\users\\bnoah\\anaconda3\\lib\\site-packages (from ipywidgets>=7.5.1->pandas-profiling[notebook]) (5.1.3)\n",
      "Requirement already satisfied: matplotlib-inline<0.2.0,>=0.1.0 in c:\\users\\bnoah\\anaconda3\\lib\\site-packages (from ipykernel>=4.5.1->ipywidgets>=7.5.1->pandas-profiling[notebook]) (0.1.2)\n",
      "Requirement already satisfied: debugpy<2.0,>=1.0.0 in c:\\users\\bnoah\\anaconda3\\lib\\site-packages (from ipykernel>=4.5.1->ipywidgets>=7.5.1->pandas-profiling[notebook]) (1.5.1)\n",
      "Requirement already satisfied: tornado<7.0,>=4.2 in c:\\users\\bnoah\\anaconda3\\lib\\site-packages (from ipykernel>=4.5.1->ipywidgets>=7.5.1->pandas-profiling[notebook]) (6.1)\n",
      "Requirement already satisfied: colorama in c:\\users\\bnoah\\anaconda3\\lib\\site-packages (from ipython>=4.0.0->ipywidgets>=7.5.1->pandas-profiling[notebook]) (0.4.4)\n",
      "Requirement already satisfied: decorator in c:\\users\\bnoah\\anaconda3\\lib\\site-packages (from ipython>=4.0.0->ipywidgets>=7.5.1->pandas-profiling[notebook]) (5.1.0)\n",
      "Requirement already satisfied: pygments in c:\\users\\bnoah\\anaconda3\\lib\\site-packages (from ipython>=4.0.0->ipywidgets>=7.5.1->pandas-profiling[notebook]) (2.10.0)\n",
      "Requirement already satisfied: pickleshare in c:\\users\\bnoah\\anaconda3\\lib\\site-packages (from ipython>=4.0.0->ipywidgets>=7.5.1->pandas-profiling[notebook]) (0.7.5)\n",
      "Requirement already satisfied: jedi>=0.16 in c:\\users\\bnoah\\anaconda3\\lib\\site-packages (from ipython>=4.0.0->ipywidgets>=7.5.1->pandas-profiling[notebook]) (0.17.2)\n",
      "Requirement already satisfied: setuptools>=18.5 in c:\\users\\bnoah\\anaconda3\\lib\\site-packages (from ipython>=4.0.0->ipywidgets>=7.5.1->pandas-profiling[notebook]) (58.0.4)\n",
      "Requirement already satisfied: backcall in c:\\users\\bnoah\\anaconda3\\lib\\site-packages (from ipython>=4.0.0->ipywidgets>=7.5.1->pandas-profiling[notebook]) (0.2.0)\n",
      "Requirement already satisfied: prompt-toolkit!=3.0.0,!=3.0.1,<3.1.0,>=2.0.0 in c:\\users\\bnoah\\anaconda3\\lib\\site-packages (from ipython>=4.0.0->ipywidgets>=7.5.1->pandas-profiling[notebook]) (3.0.20)\n",
      "Requirement already satisfied: parso<0.8.0,>=0.7.0 in c:\\users\\bnoah\\anaconda3\\lib\\site-packages (from jedi>=0.16->ipython>=4.0.0->ipywidgets>=7.5.1->pandas-profiling[notebook]) (0.7.0)\n",
      "Requirement already satisfied: pyzmq>=13 in c:\\users\\bnoah\\anaconda3\\lib\\site-packages (from jupyter-client>=6.0.0->pandas-profiling[notebook]) (22.2.1)\n",
      "Requirement already satisfied: entrypoints in c:\\users\\bnoah\\anaconda3\\lib\\site-packages (from jupyter-client>=6.0.0->pandas-profiling[notebook]) (0.3)\n",
      "Requirement already satisfied: python-dateutil>=2.1 in c:\\users\\bnoah\\anaconda3\\lib\\site-packages (from jupyter-client>=6.0.0->pandas-profiling[notebook]) (2.8.2)\n",
      "Requirement already satisfied: nest-asyncio>=1.5 in c:\\users\\bnoah\\anaconda3\\lib\\site-packages (from jupyter-client>=6.0.0->pandas-profiling[notebook]) (1.5.1)\n",
      "Requirement already satisfied: pywin32>=1.0 in c:\\users\\bnoah\\anaconda3\\lib\\site-packages (from jupyter-core>=4.6.3->pandas-profiling[notebook]) (228)\n",
      "Requirement already satisfied: pyparsing>=2.2.1 in c:\\users\\bnoah\\anaconda3\\lib\\site-packages (from matplotlib>=3.2.0->pandas-profiling[notebook]) (3.0.4)\n",
      "Requirement already satisfied: kiwisolver>=1.0.1 in c:\\users\\bnoah\\anaconda3\\lib\\site-packages (from matplotlib>=3.2.0->pandas-profiling[notebook]) (1.3.1)\n",
      "Requirement already satisfied: cycler>=0.10 in c:\\users\\bnoah\\anaconda3\\lib\\site-packages (from matplotlib>=3.2.0->pandas-profiling[notebook]) (0.10.0)\n",
      "Requirement already satisfied: six in c:\\users\\bnoah\\anaconda3\\lib\\site-packages (from cycler>=0.10->matplotlib>=3.2.0->pandas-profiling[notebook]) (1.16.0)\n",
      "Requirement already satisfied: jsonschema!=2.5.0,>=2.4 in c:\\users\\bnoah\\anaconda3\\lib\\site-packages (from nbformat>=4.2.0->ipywidgets>=7.5.1->pandas-profiling[notebook]) (3.2.0)\n",
      "Requirement already satisfied: pyrsistent>=0.14.0 in c:\\users\\bnoah\\anaconda3\\lib\\site-packages (from jsonschema!=2.5.0,>=2.4->nbformat>=4.2.0->ipywidgets>=7.5.1->pandas-profiling[notebook]) (0.18.0)\n",
      "Requirement already satisfied: pytz>=2017.3 in c:\\users\\bnoah\\anaconda3\\lib\\site-packages (from pandas!=1.0.0,!=1.0.1,!=1.0.2,!=1.1.0,>=0.25.3->pandas-profiling[notebook]) (2021.3)\n",
      "Requirement already satisfied: wcwidth in c:\\users\\bnoah\\anaconda3\\lib\\site-packages (from prompt-toolkit!=3.0.0,!=3.0.1,<3.1.0,>=2.0.0->ipython>=4.0.0->ipywidgets>=7.5.1->pandas-profiling[notebook]) (0.2.5)\n",
      "Requirement already satisfied: typing-extensions>=3.7.4.3 in c:\\users\\bnoah\\anaconda3\\lib\\site-packages (from pydantic>=1.8.1->pandas-profiling[notebook]) (3.10.0.2)\n",
      "Requirement already satisfied: urllib3<1.27,>=1.21.1 in c:\\users\\bnoah\\anaconda3\\lib\\site-packages (from requests>=2.24.0->pandas-profiling[notebook]) (1.26.7)\n",
      "Requirement already satisfied: charset-normalizer~=2.0.0 in c:\\users\\bnoah\\anaconda3\\lib\\site-packages (from requests>=2.24.0->pandas-profiling[notebook]) (2.0.4)\n",
      "Requirement already satisfied: idna<4,>=2.5 in c:\\users\\bnoah\\anaconda3\\lib\\site-packages (from requests>=2.24.0->pandas-profiling[notebook]) (3.2)\n",
      "Requirement already satisfied: certifi>=2017.4.17 in c:\\users\\bnoah\\anaconda3\\lib\\site-packages (from requests>=2.24.0->pandas-profiling[notebook]) (2021.10.8)\n",
      "Requirement already satisfied: notebook>=4.4.1 in c:\\users\\bnoah\\anaconda3\\lib\\site-packages (from widgetsnbextension~=3.5.0->ipywidgets>=7.5.1->pandas-profiling[notebook]) (6.4.5)\n",
      "Requirement already satisfied: Send2Trash>=1.5.0 in c:\\users\\bnoah\\anaconda3\\lib\\site-packages (from notebook>=4.4.1->widgetsnbextension~=3.5.0->ipywidgets>=7.5.1->pandas-profiling[notebook]) (1.8.0)\n",
      "Requirement already satisfied: argon2-cffi in c:\\users\\bnoah\\anaconda3\\lib\\site-packages (from notebook>=4.4.1->widgetsnbextension~=3.5.0->ipywidgets>=7.5.1->pandas-profiling[notebook]) (20.1.0)\n",
      "Requirement already satisfied: nbconvert in c:\\users\\bnoah\\anaconda3\\lib\\site-packages (from notebook>=4.4.1->widgetsnbextension~=3.5.0->ipywidgets>=7.5.1->pandas-profiling[notebook]) (6.1.0)\n",
      "Requirement already satisfied: prometheus-client in c:\\users\\bnoah\\anaconda3\\lib\\site-packages (from notebook>=4.4.1->widgetsnbextension~=3.5.0->ipywidgets>=7.5.1->pandas-profiling[notebook]) (0.11.0)\n",
      "Requirement already satisfied: terminado>=0.8.3 in c:\\users\\bnoah\\anaconda3\\lib\\site-packages (from notebook>=4.4.1->widgetsnbextension~=3.5.0->ipywidgets>=7.5.1->pandas-profiling[notebook]) (0.9.4)\n",
      "Requirement already satisfied: pywinpty>=0.5 in c:\\users\\bnoah\\anaconda3\\lib\\site-packages (from terminado>=0.8.3->notebook>=4.4.1->widgetsnbextension~=3.5.0->ipywidgets>=7.5.1->pandas-profiling[notebook]) (0.5.7)\n",
      "Requirement already satisfied: cffi>=1.0.0 in c:\\users\\bnoah\\anaconda3\\lib\\site-packages (from argon2-cffi->notebook>=4.4.1->widgetsnbextension~=3.5.0->ipywidgets>=7.5.1->pandas-profiling[notebook]) (1.15.0)\n",
      "Requirement already satisfied: pycparser in c:\\users\\bnoah\\anaconda3\\lib\\site-packages (from cffi>=1.0.0->argon2-cffi->notebook>=4.4.1->widgetsnbextension~=3.5.0->ipywidgets>=7.5.1->pandas-profiling[notebook]) (2.21)\n",
      "Requirement already satisfied: PyWavelets in c:\\users\\bnoah\\anaconda3\\lib\\site-packages (from imagehash->visions[type_image_path]==0.7.4->pandas-profiling[notebook]) (1.1.1)\n",
      "Requirement already satisfied: testpath in c:\\users\\bnoah\\anaconda3\\lib\\site-packages (from nbconvert->notebook>=4.4.1->widgetsnbextension~=3.5.0->ipywidgets>=7.5.1->pandas-profiling[notebook]) (0.5.0)\n",
      "Requirement already satisfied: jupyterlab-pygments in c:\\users\\bnoah\\anaconda3\\lib\\site-packages (from nbconvert->notebook>=4.4.1->widgetsnbextension~=3.5.0->ipywidgets>=7.5.1->pandas-profiling[notebook]) (0.1.2)\n",
      "Requirement already satisfied: nbclient<0.6.0,>=0.5.0 in c:\\users\\bnoah\\anaconda3\\lib\\site-packages (from nbconvert->notebook>=4.4.1->widgetsnbextension~=3.5.0->ipywidgets>=7.5.1->pandas-profiling[notebook]) (0.5.3)\n",
      "Requirement already satisfied: pandocfilters>=1.4.1 in c:\\users\\bnoah\\anaconda3\\lib\\site-packages (from nbconvert->notebook>=4.4.1->widgetsnbextension~=3.5.0->ipywidgets>=7.5.1->pandas-profiling[notebook]) (1.4.3)\n",
      "Requirement already satisfied: bleach in c:\\users\\bnoah\\anaconda3\\lib\\site-packages (from nbconvert->notebook>=4.4.1->widgetsnbextension~=3.5.0->ipywidgets>=7.5.1->pandas-profiling[notebook]) (4.0.0)\n",
      "Requirement already satisfied: mistune<2,>=0.8.1 in c:\\users\\bnoah\\anaconda3\\lib\\site-packages (from nbconvert->notebook>=4.4.1->widgetsnbextension~=3.5.0->ipywidgets>=7.5.1->pandas-profiling[notebook]) (0.8.4)\n",
      "Requirement already satisfied: defusedxml in c:\\users\\bnoah\\anaconda3\\lib\\site-packages (from nbconvert->notebook>=4.4.1->widgetsnbextension~=3.5.0->ipywidgets>=7.5.1->pandas-profiling[notebook]) (0.7.1)\n",
      "Requirement already satisfied: async-generator in c:\\users\\bnoah\\anaconda3\\lib\\site-packages (from nbclient<0.6.0,>=0.5.0->nbconvert->notebook>=4.4.1->widgetsnbextension~=3.5.0->ipywidgets>=7.5.1->pandas-profiling[notebook]) (1.10)\n",
      "Requirement already satisfied: webencodings in c:\\users\\bnoah\\anaconda3\\lib\\site-packages (from bleach->nbconvert->notebook>=4.4.1->widgetsnbextension~=3.5.0->ipywidgets>=7.5.1->pandas-profiling[notebook]) (0.5.1)\n",
      "Requirement already satisfied: packaging in c:\\users\\bnoah\\anaconda3\\lib\\site-packages (from bleach->nbconvert->notebook>=4.4.1->widgetsnbextension~=3.5.0->ipywidgets>=7.5.1->pandas-profiling[notebook]) (21.0)\n"
     ]
    }
   ],
   "source": [
    "import pandas as pd\n",
    "import numpy as np\n",
    "import matplotlib.pyplot as plt\n",
    "from scipy import stats as st\n",
    "!pip install tabulate\n",
    "from tabulate import tabulate\n",
    "import scipy.stats as stats\n",
    "from scipy.stats import zscore\n",
    "import warnings\n",
    "warnings.filterwarnings('ignore')\n",
    "!pip install pandas-profiling[notebook]\n",
    "from pandas_profiling import ProfileReport\n",
    "import seaborn as sns"
   ]
  },
  {
   "cell_type": "markdown",
   "metadata": {},
   "source": [
    "### Details"
   ]
  },
  {
   "cell_type": "markdown",
   "metadata": {},
   "source": [
    "| Package          | Description                                                          |\n",
    "|:-----------------|:---------------------------------------------------------------------|\n",
    "| pandas           | For data preprocessing and basic descriptive statistics.             |\n",
    "| matplotlib       | For creating graphs.                                                 |\n",
    "| numpy            | For scientific computing.                                            |\n",
    "| scipy            | For calculating statistics.                                          |\n",
    "| tabulate         | For creating tables.                                                 |\n",
    "| pandas_profiling | For creating a profile report on the dataset.                        |\n",
    "| warnings         | For ignoring warnings after finishing the project for readability.   |\n",
    "| seaborn          | For creating graphs.                                                 |"
   ]
  },
  {
   "cell_type": "markdown",
   "metadata": {},
   "source": [
    "## Importing and Cleaning Data "
   ]
  },
  {
   "cell_type": "markdown",
   "metadata": {},
   "source": [
    "### Importing Calls Data"
   ]
  },
  {
   "cell_type": "code",
   "execution_count": 2,
   "metadata": {},
   "outputs": [],
   "source": [
    "#read the data\n",
    "try: \n",
    "    calls_df = pd.read_csv('/Users/bnoah/data/megaline_calls.csv')\n",
    "except: \n",
    "    calls_df = pd.read_csv('/datasets/megaline_calls.csv')"
   ]
  },
  {
   "cell_type": "markdown",
   "metadata": {},
   "source": [
    "#### Profile Report"
   ]
  },
  {
   "cell_type": "code",
   "execution_count": 3,
   "metadata": {},
   "outputs": [
    {
     "data": {
      "application/vnd.jupyter.widget-view+json": {
       "model_id": "78845feaaa524638a291e109bea5f186",
       "version_major": 2,
       "version_minor": 0
      },
      "text/plain": [
       "Summarize dataset:   0%|          | 0/5 [00:00<?, ?it/s]"
      ]
     },
     "metadata": {},
     "output_type": "display_data"
    },
    {
     "data": {
      "application/vnd.jupyter.widget-view+json": {
       "model_id": "b6428642aeef4596bd70b6b6d456d2f2",
       "version_major": 2,
       "version_minor": 0
      },
      "text/plain": [
       "Generate report structure:   0%|          | 0/1 [00:00<?, ?it/s]"
      ]
     },
     "metadata": {},
     "output_type": "display_data"
    },
    {
     "data": {
      "application/vnd.jupyter.widget-view+json": {
       "model_id": "",
       "version_major": 2,
       "version_minor": 0
      },
      "text/plain": [
       "Render widgets:   0%|          | 0/1 [00:00<?, ?it/s]"
      ]
     },
     "metadata": {},
     "output_type": "display_data"
    },
    {
     "data": {
      "application/vnd.jupyter.widget-view+json": {
       "model_id": "8488c2b0606d401c9d65b1d40718a6af",
       "version_major": 2,
       "version_minor": 0
      },
      "text/plain": [
       "VBox(children=(Tab(children=(Tab(children=(GridBox(children=(VBox(children=(GridspecLayout(children=(HTML(valu…"
      ]
     },
     "metadata": {},
     "output_type": "display_data"
    }
   ],
   "source": [
    "calls_df_report = ProfileReport(calls_df, title=\"Calls Profiling Report\")\n",
    "calls_df_report.to_widgets()"
   ]
  },
  {
   "cell_type": "markdown",
   "metadata": {},
   "source": [
    "#### Conclusions"
   ]
  },
  {
   "cell_type": "markdown",
   "metadata": {},
   "source": [
    "- For the calls data, we have **137,735** observations representing unique phone calls. \n",
    "- The `duration` variable is a decimal value and will have to be rounded up to calculate the costs per phone call.\n",
    "- `call_date` will need to be converted to datetime format. \n",
    "- There are no duplicated `id` values, so we can treat this as a unique identifier for calls.\n",
    "- There are **26,834** instances where `call_duration` is zero. "
   ]
  },
  {
   "cell_type": "markdown",
   "metadata": {},
   "source": [
    "### Importing Internet Data"
   ]
  },
  {
   "cell_type": "code",
   "execution_count": 4,
   "metadata": {},
   "outputs": [],
   "source": [
    "#read the data\n",
    "try: \n",
    "    internet_df = pd.read_csv('/Users/bnoah/data/megaline_internet.csv')\n",
    "except: \n",
    "    internet_df = pd.read_csv('/datasets/megaline_internet.csv')"
   ]
  },
  {
   "cell_type": "markdown",
   "metadata": {},
   "source": [
    "#### Profile Report"
   ]
  },
  {
   "cell_type": "code",
   "execution_count": 5,
   "metadata": {},
   "outputs": [
    {
     "data": {
      "application/vnd.jupyter.widget-view+json": {
       "model_id": "f2f87c5f725848d4b2651285fed0b860",
       "version_major": 2,
       "version_minor": 0
      },
      "text/plain": [
       "Summarize dataset:   0%|          | 0/5 [00:00<?, ?it/s]"
      ]
     },
     "metadata": {},
     "output_type": "display_data"
    },
    {
     "data": {
      "application/vnd.jupyter.widget-view+json": {
       "model_id": "2baa504ee38942c4896272ed7b039b9e",
       "version_major": 2,
       "version_minor": 0
      },
      "text/plain": [
       "Generate report structure:   0%|          | 0/1 [00:00<?, ?it/s]"
      ]
     },
     "metadata": {},
     "output_type": "display_data"
    },
    {
     "data": {
      "application/vnd.jupyter.widget-view+json": {
       "model_id": "",
       "version_major": 2,
       "version_minor": 0
      },
      "text/plain": [
       "Render widgets:   0%|          | 0/1 [00:00<?, ?it/s]"
      ]
     },
     "metadata": {},
     "output_type": "display_data"
    },
    {
     "data": {
      "application/vnd.jupyter.widget-view+json": {
       "model_id": "d9a66411dcb64f10b70f4198e7e828b6",
       "version_major": 2,
       "version_minor": 0
      },
      "text/plain": [
       "VBox(children=(Tab(children=(Tab(children=(GridBox(children=(VBox(children=(GridspecLayout(children=(HTML(valu…"
      ]
     },
     "metadata": {},
     "output_type": "display_data"
    }
   ],
   "source": [
    "internet_df_report = ProfileReport(internet_df, title=\"Internet Profiling Report\")\n",
    "internet_df_report.to_widgets()"
   ]
  },
  {
   "cell_type": "markdown",
   "metadata": {},
   "source": [
    "#### Conclusions"
   ]
  },
  {
   "cell_type": "markdown",
   "metadata": {},
   "source": [
    "- For the internet data, we had **104,825** observations representing unique internet sessions. \n",
    "- The `mb_used` will have to be converted to **GBs** and rounded up to calculate the monthly internet costs. \n",
    "- `session_date` will need to be converted to datetime format. \n",
    "- There are no duplicated `id` values, so we can treat this as a unique identifier for internet uses.\n",
    "- There are **13,747** instances where `mb_used` is zero. "
   ]
  },
  {
   "cell_type": "markdown",
   "metadata": {},
   "source": [
    "### Importing Messages Data"
   ]
  },
  {
   "cell_type": "code",
   "execution_count": 6,
   "metadata": {},
   "outputs": [],
   "source": [
    "#read the data\n",
    "try: \n",
    "    messages_df = pd.read_csv('/Users/bnoah/data/megaline_messages.csv')\n",
    "except: \n",
    "    messages_df = pd.read_csv('/datasets/megaline_messages.csv')"
   ]
  },
  {
   "cell_type": "markdown",
   "metadata": {},
   "source": [
    "#### Profile Report"
   ]
  },
  {
   "cell_type": "code",
   "execution_count": 7,
   "metadata": {},
   "outputs": [
    {
     "data": {
      "application/vnd.jupyter.widget-view+json": {
       "model_id": "33e8cf9958b8478e8169f0af409a6de0",
       "version_major": 2,
       "version_minor": 0
      },
      "text/plain": [
       "Summarize dataset:   0%|          | 0/5 [00:00<?, ?it/s]"
      ]
     },
     "metadata": {},
     "output_type": "display_data"
    },
    {
     "data": {
      "application/vnd.jupyter.widget-view+json": {
       "model_id": "ff97e2f91dd54b3a896578813a4c7c11",
       "version_major": 2,
       "version_minor": 0
      },
      "text/plain": [
       "Generate report structure:   0%|          | 0/1 [00:00<?, ?it/s]"
      ]
     },
     "metadata": {},
     "output_type": "display_data"
    },
    {
     "data": {
      "application/vnd.jupyter.widget-view+json": {
       "model_id": "",
       "version_major": 2,
       "version_minor": 0
      },
      "text/plain": [
       "Render widgets:   0%|          | 0/1 [00:00<?, ?it/s]"
      ]
     },
     "metadata": {},
     "output_type": "display_data"
    },
    {
     "data": {
      "application/vnd.jupyter.widget-view+json": {
       "model_id": "f5a1731e5a6a4342a53fd60fd012b7fa",
       "version_major": 2,
       "version_minor": 0
      },
      "text/plain": [
       "VBox(children=(Tab(children=(Tab(children=(GridBox(children=(VBox(children=(GridspecLayout(children=(HTML(valu…"
      ]
     },
     "metadata": {},
     "output_type": "display_data"
    }
   ],
   "source": [
    "messages_df_report = ProfileReport(messages_df, title=\"Messages Profiling Report\")\n",
    "messages_df_report.to_widgets()"
   ]
  },
  {
   "cell_type": "markdown",
   "metadata": {},
   "source": [
    "#### Conclusions"
   ]
  },
  {
   "cell_type": "markdown",
   "metadata": {},
   "source": [
    "- For the messages data, we had **76,051** observations representing unique text messages. \n",
    "- The `message_date` variable will need to be converted to datetime format. \n",
    "- There are no duplicated `id` values, so we can treat this as a unique identifier for messages. "
   ]
  },
  {
   "cell_type": "markdown",
   "metadata": {},
   "source": [
    "### Importing Users Data"
   ]
  },
  {
   "cell_type": "code",
   "execution_count": 8,
   "metadata": {},
   "outputs": [],
   "source": [
    "#read the data\n",
    "try: \n",
    "    users_df = pd.read_csv('/Users/bnoah/data/megaline_users.csv')\n",
    "except: \n",
    "    users_df = pd.read_csv('/datasets/megaline_users.csv')\n"
   ]
  },
  {
   "cell_type": "markdown",
   "metadata": {},
   "source": [
    "#### Profile Report"
   ]
  },
  {
   "cell_type": "code",
   "execution_count": 9,
   "metadata": {},
   "outputs": [
    {
     "data": {
      "application/vnd.jupyter.widget-view+json": {
       "model_id": "2e4bddd348144e028d1fcdfd386c3281",
       "version_major": 2,
       "version_minor": 0
      },
      "text/plain": [
       "Summarize dataset:   0%|          | 0/5 [00:00<?, ?it/s]"
      ]
     },
     "metadata": {},
     "output_type": "display_data"
    },
    {
     "data": {
      "application/vnd.jupyter.widget-view+json": {
       "model_id": "91f03cf9e9d14c199262ac54bdfd4881",
       "version_major": 2,
       "version_minor": 0
      },
      "text/plain": [
       "Generate report structure:   0%|          | 0/1 [00:00<?, ?it/s]"
      ]
     },
     "metadata": {},
     "output_type": "display_data"
    },
    {
     "data": {
      "application/vnd.jupyter.widget-view+json": {
       "model_id": "",
       "version_major": 2,
       "version_minor": 0
      },
      "text/plain": [
       "Render widgets:   0%|          | 0/1 [00:00<?, ?it/s]"
      ]
     },
     "metadata": {},
     "output_type": "display_data"
    },
    {
     "data": {
      "application/vnd.jupyter.widget-view+json": {
       "model_id": "b662c9b6eaa04d3d9b3c6499ed869175",
       "version_major": 2,
       "version_minor": 0
      },
      "text/plain": [
       "VBox(children=(Tab(children=(Tab(children=(GridBox(children=(VBox(children=(GridspecLayout(children=(HTML(valu…"
      ]
     },
     "metadata": {},
     "output_type": "display_data"
    }
   ],
   "source": [
    "users_df_report = ProfileReport(users_df, title=\"Users Profiling Report\")\n",
    "users_df_report.to_widgets()"
   ]
  },
  {
   "cell_type": "markdown",
   "metadata": {},
   "source": [
    "#### Conclusions"
   ]
  },
  {
   "cell_type": "markdown",
   "metadata": {},
   "source": [
    "- For the users data, we had **500** observations representing unique individuals on one of the two phone plans. \n",
    "- The `reg_date` variable will need to be converted to datetime format. \n",
    "- There are no duplicated `user_id` values, so we can treat this as a unique identifier for users that can be matched on with the previous datasets. "
   ]
  },
  {
   "cell_type": "markdown",
   "metadata": {},
   "source": [
    "### Importing Plans Data"
   ]
  },
  {
   "cell_type": "code",
   "execution_count": 10,
   "metadata": {},
   "outputs": [
    {
     "data": {
      "text/html": [
       "<div>\n",
       "<style scoped>\n",
       "    .dataframe tbody tr th:only-of-type {\n",
       "        vertical-align: middle;\n",
       "    }\n",
       "\n",
       "    .dataframe tbody tr th {\n",
       "        vertical-align: top;\n",
       "    }\n",
       "\n",
       "    .dataframe thead th {\n",
       "        text-align: right;\n",
       "    }\n",
       "</style>\n",
       "<table border=\"1\" class=\"dataframe\">\n",
       "  <thead>\n",
       "    <tr style=\"text-align: right;\">\n",
       "      <th></th>\n",
       "      <th>messages_included</th>\n",
       "      <th>mb_per_month_included</th>\n",
       "      <th>minutes_included</th>\n",
       "      <th>usd_monthly_pay</th>\n",
       "      <th>usd_per_gb</th>\n",
       "      <th>usd_per_message</th>\n",
       "      <th>usd_per_minute</th>\n",
       "      <th>plan_name</th>\n",
       "    </tr>\n",
       "  </thead>\n",
       "  <tbody>\n",
       "    <tr>\n",
       "      <th>0</th>\n",
       "      <td>50</td>\n",
       "      <td>15360</td>\n",
       "      <td>500</td>\n",
       "      <td>20</td>\n",
       "      <td>10</td>\n",
       "      <td>0.03</td>\n",
       "      <td>0.03</td>\n",
       "      <td>surf</td>\n",
       "    </tr>\n",
       "    <tr>\n",
       "      <th>1</th>\n",
       "      <td>1000</td>\n",
       "      <td>30720</td>\n",
       "      <td>3000</td>\n",
       "      <td>70</td>\n",
       "      <td>7</td>\n",
       "      <td>0.01</td>\n",
       "      <td>0.01</td>\n",
       "      <td>ultimate</td>\n",
       "    </tr>\n",
       "  </tbody>\n",
       "</table>\n",
       "</div>"
      ],
      "text/plain": [
       "   messages_included  mb_per_month_included  minutes_included  \\\n",
       "0                 50                  15360               500   \n",
       "1               1000                  30720              3000   \n",
       "\n",
       "   usd_monthly_pay  usd_per_gb  usd_per_message  usd_per_minute plan_name  \n",
       "0               20          10             0.03            0.03      surf  \n",
       "1               70           7             0.01            0.01  ultimate  "
      ]
     },
     "execution_count": 10,
     "metadata": {},
     "output_type": "execute_result"
    }
   ],
   "source": [
    "#read the data\n",
    "try: \n",
    "    plan_df = pd.read_csv('/Users/bnoah/data/megaline_plans.csv')\n",
    "except: \n",
    "    plan_df = pd.read_csv('/datasets/megaline_plans.csv')\n",
    "plan_df"
   ]
  },
  {
   "cell_type": "markdown",
   "metadata": {},
   "source": [
    "#### Conclusions"
   ]
  },
  {
   "cell_type": "markdown",
   "metadata": {},
   "source": [
    "The information in this dataset is used to calculate each users monthly costs. I will use this information to calculate monthly costs later on in this project."
   ]
  },
  {
   "cell_type": "markdown",
   "metadata": {},
   "source": [
    "### Renaming Date Column and Creating Type Variable"
   ]
  },
  {
   "cell_type": "code",
   "execution_count": 11,
   "metadata": {},
   "outputs": [],
   "source": [
    "calls_df.rename(columns={\"call_date\": \"date\", \"duration\":\"call_duration\"},inplace=True)\n",
    "calls_df['type'] = 'calls'\n",
    "internet_df.rename(columns={\"session_date\": \"date\"},inplace=True)\n",
    "internet_df['type'] = 'internet'\n",
    "messages_df.rename(columns={\"message_date\": \"date\"},inplace=True)\n",
    "messages_df['type'] = 'messages'"
   ]
  },
  {
   "cell_type": "markdown",
   "metadata": {},
   "source": [
    "#### Conclusions"
   ]
  },
  {
   "cell_type": "markdown",
   "metadata": {},
   "source": [
    "I renamed the date column in each of the three usage dataframes to `date`. I did this so we can merge the datasets and have just one column with the date. I also, created a new column called `type`, so that we know the type of each usage when we merge the datasets. "
   ]
  },
  {
   "cell_type": "markdown",
   "metadata": {},
   "source": [
    "### Merging Usage Data"
   ]
  },
  {
   "cell_type": "code",
   "execution_count": 12,
   "metadata": {},
   "outputs": [
    {
     "data": {
      "text/html": [
       "<div>\n",
       "<style scoped>\n",
       "    .dataframe tbody tr th:only-of-type {\n",
       "        vertical-align: middle;\n",
       "    }\n",
       "\n",
       "    .dataframe tbody tr th {\n",
       "        vertical-align: top;\n",
       "    }\n",
       "\n",
       "    .dataframe thead th {\n",
       "        text-align: right;\n",
       "    }\n",
       "</style>\n",
       "<table border=\"1\" class=\"dataframe\">\n",
       "  <thead>\n",
       "    <tr style=\"text-align: right;\">\n",
       "      <th></th>\n",
       "      <th>user_id</th>\n",
       "      <th>date</th>\n",
       "      <th>call_duration</th>\n",
       "      <th>type</th>\n",
       "      <th>mb_used</th>\n",
       "    </tr>\n",
       "  </thead>\n",
       "  <tbody>\n",
       "    <tr>\n",
       "      <th>0</th>\n",
       "      <td>1000</td>\n",
       "      <td>2018-12-27</td>\n",
       "      <td>8.52</td>\n",
       "      <td>calls</td>\n",
       "      <td>NaN</td>\n",
       "    </tr>\n",
       "    <tr>\n",
       "      <th>1</th>\n",
       "      <td>1000</td>\n",
       "      <td>2018-12-27</td>\n",
       "      <td>13.66</td>\n",
       "      <td>calls</td>\n",
       "      <td>NaN</td>\n",
       "    </tr>\n",
       "    <tr>\n",
       "      <th>2</th>\n",
       "      <td>1000</td>\n",
       "      <td>2018-12-27</td>\n",
       "      <td>14.48</td>\n",
       "      <td>calls</td>\n",
       "      <td>NaN</td>\n",
       "    </tr>\n",
       "    <tr>\n",
       "      <th>3</th>\n",
       "      <td>1000</td>\n",
       "      <td>2018-12-28</td>\n",
       "      <td>5.76</td>\n",
       "      <td>calls</td>\n",
       "      <td>NaN</td>\n",
       "    </tr>\n",
       "    <tr>\n",
       "      <th>4</th>\n",
       "      <td>1000</td>\n",
       "      <td>2018-12-30</td>\n",
       "      <td>4.22</td>\n",
       "      <td>calls</td>\n",
       "      <td>NaN</td>\n",
       "    </tr>\n",
       "  </tbody>\n",
       "</table>\n",
       "</div>"
      ],
      "text/plain": [
       "   user_id        date  call_duration   type  mb_used\n",
       "0     1000  2018-12-27           8.52  calls      NaN\n",
       "1     1000  2018-12-27          13.66  calls      NaN\n",
       "2     1000  2018-12-27          14.48  calls      NaN\n",
       "3     1000  2018-12-28           5.76  calls      NaN\n",
       "4     1000  2018-12-30           4.22  calls      NaN"
      ]
     },
     "metadata": {},
     "output_type": "display_data"
    },
    {
     "name": "stdout",
     "output_type": "stream",
     "text": [
      "<class 'pandas.core.frame.DataFrame'>\n",
      "RangeIndex: 318611 entries, 0 to 318610\n",
      "Data columns (total 5 columns):\n",
      " #   Column         Non-Null Count   Dtype  \n",
      "---  ------         --------------   -----  \n",
      " 0   user_id        318611 non-null  int64  \n",
      " 1   date           318611 non-null  object \n",
      " 2   call_duration  137735 non-null  float64\n",
      " 3   type           318611 non-null  object \n",
      " 4   mb_used        104825 non-null  float64\n",
      "dtypes: float64(2), int64(1), object(2)\n",
      "memory usage: 12.2+ MB\n"
     ]
    }
   ],
   "source": [
    "#putting all usage types into one dataframe\n",
    "usage_df = calls_df.append([internet_df,messages_df])\n",
    "usage_df.drop(columns=['id'],inplace=True)\n",
    "usage_df.reset_index(inplace=True,drop=True)\n",
    "display(usage_df.head())\n",
    "usage_df.info()"
   ]
  },
  {
   "cell_type": "markdown",
   "metadata": {},
   "source": [
    "#### Conclusions"
   ]
  },
  {
   "cell_type": "markdown",
   "metadata": {},
   "source": [
    "I merged the three usage datasets together here. I also dropped the `id` variable as we have confirmed each observation is unique. All in all, this new dataset gives us **318,611** observations of unique usage instances. "
   ]
  },
  {
   "cell_type": "markdown",
   "metadata": {},
   "source": [
    "### Changing Variable Formats"
   ]
  },
  {
   "cell_type": "code",
   "execution_count": 13,
   "metadata": {},
   "outputs": [
    {
     "name": "stdout",
     "output_type": "stream",
     "text": [
      "<class 'pandas.core.frame.DataFrame'>\n",
      "RangeIndex: 318611 entries, 0 to 318610\n",
      "Data columns (total 5 columns):\n",
      " #   Column         Non-Null Count   Dtype         \n",
      "---  ------         --------------   -----         \n",
      " 0   user_id        318611 non-null  int64         \n",
      " 1   date           318611 non-null  datetime64[ns]\n",
      " 2   call_duration  137735 non-null  float64       \n",
      " 3   type           318611 non-null  object        \n",
      " 4   mb_used        104825 non-null  float64       \n",
      "dtypes: datetime64[ns](1), float64(2), int64(1), object(1)\n",
      "memory usage: 12.2+ MB\n"
     ]
    }
   ],
   "source": [
    "#change date to datetime variable\n",
    "usage_df['date'] = pd.to_datetime(usage_df['date'], format = '%Y-%m-%d')\n",
    "usage_df.info()"
   ]
  },
  {
   "cell_type": "markdown",
   "metadata": {},
   "source": [
    "#### Conclusions"
   ]
  },
  {
   "cell_type": "markdown",
   "metadata": {},
   "source": [
    "I changed the `date` variable to datetime format. Every other variable seems to be in a reasonable data format, so I did not change them."
   ]
  },
  {
   "cell_type": "markdown",
   "metadata": {},
   "source": [
    "### Removing Zero Values"
   ]
  },
  {
   "cell_type": "code",
   "execution_count": 14,
   "metadata": {},
   "outputs": [
    {
     "name": "stdout",
     "output_type": "stream",
     "text": [
      "<class 'pandas.core.frame.DataFrame'>\n",
      "Int64Index: 278030 entries, 0 to 318610\n",
      "Data columns (total 5 columns):\n",
      " #   Column         Non-Null Count   Dtype         \n",
      "---  ------         --------------   -----         \n",
      " 0   user_id        278030 non-null  int64         \n",
      " 1   date           278030 non-null  datetime64[ns]\n",
      " 2   call_duration  110901 non-null  float64       \n",
      " 3   type           278030 non-null  object        \n",
      " 4   mb_used        91078 non-null   float64       \n",
      "dtypes: datetime64[ns](1), float64(2), int64(1), object(1)\n",
      "memory usage: 12.7+ MB\n"
     ]
    }
   ],
   "source": [
    "#notes: 26834 of the calls are 0 duration, 13747 of the internet sessions are 0 mbs. These must be errors because For calls, each individual call is rounded up: even if the call lasted just one second. Also, it is impossible to have a 0 gb web session.  \n",
    "usage_df = usage_df[(usage_df['call_duration'] != 0) & (usage_df['mb_used'] != 0)]\n",
    "usage_df.info()"
   ]
  },
  {
   "cell_type": "markdown",
   "metadata": {},
   "source": [
    "#### Conclusions"
   ]
  },
  {
   "cell_type": "markdown",
   "metadata": {},
   "source": [
    "In the dataset, there are **26,834**, and **13,747** instances where `call_duration` and `mb_used`, respectively, were zero. Missed calls might explain zero second duration calls and internet sessions done on wifi might explain zero mb sessions. Yet, I would immediately ask the data gatherer about what caused this, but since that is not possible, I decided to remove them from this analysis. "
   ]
  },
  {
   "cell_type": "markdown",
   "metadata": {},
   "source": [
    "## Prepare the Data"
   ]
  },
  {
   "cell_type": "markdown",
   "metadata": {},
   "source": [
    "### Totaling User Data"
   ]
  },
  {
   "cell_type": "code",
   "execution_count": 15,
   "metadata": {},
   "outputs": [
    {
     "data": {
      "text/html": [
       "<div>\n",
       "<style scoped>\n",
       "    .dataframe tbody tr th:only-of-type {\n",
       "        vertical-align: middle;\n",
       "    }\n",
       "\n",
       "    .dataframe tbody tr th {\n",
       "        vertical-align: top;\n",
       "    }\n",
       "\n",
       "    .dataframe thead th {\n",
       "        text-align: right;\n",
       "    }\n",
       "</style>\n",
       "<table border=\"1\" class=\"dataframe\">\n",
       "  <thead>\n",
       "    <tr style=\"text-align: right;\">\n",
       "      <th></th>\n",
       "      <th>number_of_calls</th>\n",
       "      <th>total_mins</th>\n",
       "      <th>data_used</th>\n",
       "      <th>messages_sent</th>\n",
       "    </tr>\n",
       "    <tr>\n",
       "      <th>user_id</th>\n",
       "      <th></th>\n",
       "      <th></th>\n",
       "      <th></th>\n",
       "      <th></th>\n",
       "    </tr>\n",
       "  </thead>\n",
       "  <tbody>\n",
       "    <tr>\n",
       "      <th>1000</th>\n",
       "      <td>16</td>\n",
       "      <td>124.0</td>\n",
       "      <td>1901.47</td>\n",
       "      <td>11</td>\n",
       "    </tr>\n",
       "    <tr>\n",
       "      <th>1001</th>\n",
       "      <td>202</td>\n",
       "      <td>1728.0</td>\n",
       "      <td>80437.94</td>\n",
       "      <td>207</td>\n",
       "    </tr>\n",
       "    <tr>\n",
       "      <th>1002</th>\n",
       "      <td>94</td>\n",
       "      <td>829.0</td>\n",
       "      <td>40293.33</td>\n",
       "      <td>88</td>\n",
       "    </tr>\n",
       "    <tr>\n",
       "      <th>1003</th>\n",
       "      <td>118</td>\n",
       "      <td>1104.0</td>\n",
       "      <td>27044.14</td>\n",
       "      <td>50</td>\n",
       "    </tr>\n",
       "    <tr>\n",
       "      <th>1004</th>\n",
       "      <td>306</td>\n",
       "      <td>2772.0</td>\n",
       "      <td>156352.81</td>\n",
       "      <td>177</td>\n",
       "    </tr>\n",
       "  </tbody>\n",
       "</table>\n",
       "</div>"
      ],
      "text/plain": [
       "         number_of_calls  total_mins  data_used  messages_sent\n",
       "user_id                                                       \n",
       "1000                  16       124.0    1901.47             11\n",
       "1001                 202      1728.0   80437.94            207\n",
       "1002                  94       829.0   40293.33             88\n",
       "1003                 118      1104.0   27044.14             50\n",
       "1004                 306      2772.0  156352.81            177"
      ]
     },
     "execution_count": 15,
     "metadata": {},
     "output_type": "execute_result"
    }
   ],
   "source": [
    "#creating a dataframe with call duration rounded up for cost calculations\n",
    "usage_df['call_duration'] = np.ceil(calls_df['call_duration'])\n",
    "#creating pivot tables\n",
    "user_totals_df = usage_df.pivot_table(index=['user_id'], values=['call_duration','mb_used','type'], aggfunc={'call_duration':['sum','count'], 'mb_used': 'sum', 'type': lambda x:(x=='messages').sum()})\n",
    "user_totals_df.set_axis(['number_of_calls', 'total_mins', 'data_used', 'messages_sent'], axis='columns',inplace=True)\n",
    "user_totals_df.head()"
   ]
  },
  {
   "cell_type": "markdown",
   "metadata": {},
   "source": [
    "#### Conclusions"
   ]
  },
  {
   "cell_type": "markdown",
   "metadata": {},
   "source": [
    "In this section I created a pivot table. I started out by rounding `call_duration` up to the nearest minute as this is what is used to calcuate the cost of a phone call. In these pivot tables, I summed the `call_duration`, and `mb_used` variables for each user, and counted the number of messages sent by each user. "
   ]
  },
  {
   "cell_type": "markdown",
   "metadata": {},
   "source": [
    "### Adding The User's Plan to the Tables"
   ]
  },
  {
   "cell_type": "code",
   "execution_count": 16,
   "metadata": {},
   "outputs": [
    {
     "name": "stdout",
     "output_type": "stream",
     "text": [
      "<class 'pandas.core.frame.DataFrame'>\n",
      "Int64Index: 500 entries, 0 to 499\n",
      "Data columns (total 6 columns):\n",
      " #   Column           Non-Null Count  Dtype  \n",
      "---  ------           --------------  -----  \n",
      " 0   user_id          500 non-null    int64  \n",
      " 1   number_of_calls  490 non-null    float64\n",
      " 2   total_mins       490 non-null    float64\n",
      " 3   data_used        490 non-null    float64\n",
      " 4   messages_sent    490 non-null    float64\n",
      " 5   plan             500 non-null    object \n",
      "dtypes: float64(4), int64(1), object(1)\n",
      "memory usage: 27.3+ KB\n"
     ]
    }
   ],
   "source": [
    "#adding plan to the table\n",
    "user_totals_df = user_totals_df.merge(users_df[['user_id','plan']],on='user_id',how='outer')\n",
    "user_totals_df.info()"
   ]
  },
  {
   "cell_type": "markdown",
   "metadata": {},
   "source": [
    "#### Conclusions"
   ]
  },
  {
   "cell_type": "markdown",
   "metadata": {},
   "source": [
    "In this section, I added the `plan` variable from the user dataset to our overall user usage dataset."
   ]
  },
  {
   "cell_type": "markdown",
   "metadata": {},
   "source": [
    "### Looking For Patterns Among Users Missing Usage Data"
   ]
  },
  {
   "cell_type": "code",
   "execution_count": 17,
   "metadata": {},
   "outputs": [
    {
     "data": {
      "text/html": [
       "<div>\n",
       "<style scoped>\n",
       "    .dataframe tbody tr th:only-of-type {\n",
       "        vertical-align: middle;\n",
       "    }\n",
       "\n",
       "    .dataframe tbody tr th {\n",
       "        vertical-align: top;\n",
       "    }\n",
       "\n",
       "    .dataframe thead th {\n",
       "        text-align: right;\n",
       "    }\n",
       "</style>\n",
       "<table border=\"1\" class=\"dataframe\">\n",
       "  <thead>\n",
       "    <tr style=\"text-align: right;\">\n",
       "      <th></th>\n",
       "      <th>user_id</th>\n",
       "      <th>first_name</th>\n",
       "      <th>last_name</th>\n",
       "      <th>age</th>\n",
       "      <th>city</th>\n",
       "      <th>reg_date</th>\n",
       "      <th>plan</th>\n",
       "      <th>churn_date</th>\n",
       "    </tr>\n",
       "  </thead>\n",
       "  <tbody>\n",
       "    <tr>\n",
       "      <th>0</th>\n",
       "      <td>1025</td>\n",
       "      <td>Jess</td>\n",
       "      <td>Wilkinson</td>\n",
       "      <td>64</td>\n",
       "      <td>Atlanta-Sandy Springs-Roswell, GA MSA</td>\n",
       "      <td>2018-10-28</td>\n",
       "      <td>ultimate</td>\n",
       "      <td>NaN</td>\n",
       "    </tr>\n",
       "    <tr>\n",
       "      <th>1</th>\n",
       "      <td>1129</td>\n",
       "      <td>Marin</td>\n",
       "      <td>Bolton</td>\n",
       "      <td>70</td>\n",
       "      <td>Baton Rouge, LA MSA</td>\n",
       "      <td>2018-11-10</td>\n",
       "      <td>surf</td>\n",
       "      <td>2018-12-27</td>\n",
       "    </tr>\n",
       "    <tr>\n",
       "      <th>2</th>\n",
       "      <td>1143</td>\n",
       "      <td>Lorina</td>\n",
       "      <td>Stevens</td>\n",
       "      <td>69</td>\n",
       "      <td>Cincinnati, OH-KY-IN MSA</td>\n",
       "      <td>2018-10-26</td>\n",
       "      <td>surf</td>\n",
       "      <td>NaN</td>\n",
       "    </tr>\n",
       "    <tr>\n",
       "      <th>3</th>\n",
       "      <td>1269</td>\n",
       "      <td>Irving</td>\n",
       "      <td>Thompson</td>\n",
       "      <td>39</td>\n",
       "      <td>Dallas-Fort Worth-Arlington, TX MSA</td>\n",
       "      <td>2018-09-13</td>\n",
       "      <td>ultimate</td>\n",
       "      <td>2018-12-15</td>\n",
       "    </tr>\n",
       "    <tr>\n",
       "      <th>4</th>\n",
       "      <td>1275</td>\n",
       "      <td>Elvie</td>\n",
       "      <td>Velazquez</td>\n",
       "      <td>33</td>\n",
       "      <td>New York-Newark-Jersey City, NY-NJ-PA MSA</td>\n",
       "      <td>2018-11-29</td>\n",
       "      <td>ultimate</td>\n",
       "      <td>NaN</td>\n",
       "    </tr>\n",
       "    <tr>\n",
       "      <th>5</th>\n",
       "      <td>1307</td>\n",
       "      <td>Kristopher</td>\n",
       "      <td>Lang</td>\n",
       "      <td>28</td>\n",
       "      <td>Boston-Cambridge-Newton, MA-NH MSA</td>\n",
       "      <td>2018-12-31</td>\n",
       "      <td>surf</td>\n",
       "      <td>NaN</td>\n",
       "    </tr>\n",
       "    <tr>\n",
       "      <th>6</th>\n",
       "      <td>1319</td>\n",
       "      <td>Eliseo</td>\n",
       "      <td>Carson</td>\n",
       "      <td>21</td>\n",
       "      <td>Colorado Springs, CO MSA</td>\n",
       "      <td>2018-06-17</td>\n",
       "      <td>surf</td>\n",
       "      <td>NaN</td>\n",
       "    </tr>\n",
       "    <tr>\n",
       "      <th>7</th>\n",
       "      <td>1378</td>\n",
       "      <td>Mckinley</td>\n",
       "      <td>Clayton</td>\n",
       "      <td>22</td>\n",
       "      <td>Denver-Aurora-Lakewood, CO MSA</td>\n",
       "      <td>2018-12-17</td>\n",
       "      <td>surf</td>\n",
       "      <td>NaN</td>\n",
       "    </tr>\n",
       "    <tr>\n",
       "      <th>8</th>\n",
       "      <td>1463</td>\n",
       "      <td>Dinorah</td>\n",
       "      <td>Simmons</td>\n",
       "      <td>30</td>\n",
       "      <td>Atlanta-Sandy Springs-Roswell, GA MSA</td>\n",
       "      <td>2018-11-27</td>\n",
       "      <td>ultimate</td>\n",
       "      <td>NaN</td>\n",
       "    </tr>\n",
       "    <tr>\n",
       "      <th>9</th>\n",
       "      <td>1473</td>\n",
       "      <td>Kirk</td>\n",
       "      <td>Velez</td>\n",
       "      <td>61</td>\n",
       "      <td>Louisville/Jefferson County, KY-IN MSA</td>\n",
       "      <td>2018-12-31</td>\n",
       "      <td>surf</td>\n",
       "      <td>NaN</td>\n",
       "    </tr>\n",
       "  </tbody>\n",
       "</table>\n",
       "</div>"
      ],
      "text/plain": [
       "   user_id  first_name  last_name  age  \\\n",
       "0     1025        Jess  Wilkinson   64   \n",
       "1     1129       Marin     Bolton   70   \n",
       "2     1143      Lorina    Stevens   69   \n",
       "3     1269      Irving   Thompson   39   \n",
       "4     1275       Elvie  Velazquez   33   \n",
       "5     1307  Kristopher       Lang   28   \n",
       "6     1319      Eliseo     Carson   21   \n",
       "7     1378    Mckinley    Clayton   22   \n",
       "8     1463     Dinorah    Simmons   30   \n",
       "9     1473        Kirk      Velez   61   \n",
       "\n",
       "                                        city    reg_date      plan  churn_date  \n",
       "0      Atlanta-Sandy Springs-Roswell, GA MSA  2018-10-28  ultimate         NaN  \n",
       "1                        Baton Rouge, LA MSA  2018-11-10      surf  2018-12-27  \n",
       "2                   Cincinnati, OH-KY-IN MSA  2018-10-26      surf         NaN  \n",
       "3        Dallas-Fort Worth-Arlington, TX MSA  2018-09-13  ultimate  2018-12-15  \n",
       "4  New York-Newark-Jersey City, NY-NJ-PA MSA  2018-11-29  ultimate         NaN  \n",
       "5         Boston-Cambridge-Newton, MA-NH MSA  2018-12-31      surf         NaN  \n",
       "6                   Colorado Springs, CO MSA  2018-06-17      surf         NaN  \n",
       "7             Denver-Aurora-Lakewood, CO MSA  2018-12-17      surf         NaN  \n",
       "8      Atlanta-Sandy Springs-Roswell, GA MSA  2018-11-27  ultimate         NaN  \n",
       "9     Louisville/Jefferson County, KY-IN MSA  2018-12-31      surf         NaN  "
      ]
     },
     "metadata": {},
     "output_type": "display_data"
    }
   ],
   "source": [
    "#looking at users without usage data to see if there is any pattern\n",
    "missing_users = users_df.merge(user_totals_df[user_totals_df['number_of_calls'].isna()]['user_id'], on='user_id', how='inner')\n",
    "display(missing_users)\n",
    "#removing users without usage data\n",
    "user_totals_df = user_totals_df[user_totals_df['number_of_calls'].notnull()]"
   ]
  },
  {
   "cell_type": "markdown",
   "metadata": {},
   "source": [
    "#### Conclusions"
   ]
  },
  {
   "cell_type": "markdown",
   "metadata": {},
   "source": [
    "I noticed that 10 of the users had no usage data. After looking at these observations, I did not notice any patterns, and decided to drop them from the dataset. "
   ]
  },
  {
   "cell_type": "markdown",
   "metadata": {},
   "source": [
    "### Calculating Cost and Adding it As A Row "
   ]
  },
  {
   "cell_type": "code",
   "execution_count": 18,
   "metadata": {},
   "outputs": [
    {
     "data": {
      "text/html": [
       "<div>\n",
       "<style scoped>\n",
       "    .dataframe tbody tr th:only-of-type {\n",
       "        vertical-align: middle;\n",
       "    }\n",
       "\n",
       "    .dataframe tbody tr th {\n",
       "        vertical-align: top;\n",
       "    }\n",
       "\n",
       "    .dataframe thead th {\n",
       "        text-align: right;\n",
       "    }\n",
       "</style>\n",
       "<table border=\"1\" class=\"dataframe\">\n",
       "  <thead>\n",
       "    <tr style=\"text-align: right;\">\n",
       "      <th></th>\n",
       "      <th>user_id</th>\n",
       "      <th>number_of_calls</th>\n",
       "      <th>total_mins</th>\n",
       "      <th>data_used</th>\n",
       "      <th>messages_sent</th>\n",
       "      <th>plan</th>\n",
       "      <th>cost</th>\n",
       "    </tr>\n",
       "  </thead>\n",
       "  <tbody>\n",
       "    <tr>\n",
       "      <th>0</th>\n",
       "      <td>1000</td>\n",
       "      <td>16.0</td>\n",
       "      <td>124.0</td>\n",
       "      <td>1901.47</td>\n",
       "      <td>11.0</td>\n",
       "      <td>ultimate</td>\n",
       "      <td>70.00</td>\n",
       "    </tr>\n",
       "    <tr>\n",
       "      <th>1</th>\n",
       "      <td>1001</td>\n",
       "      <td>202.0</td>\n",
       "      <td>1728.0</td>\n",
       "      <td>80437.94</td>\n",
       "      <td>207.0</td>\n",
       "      <td>surf</td>\n",
       "      <td>701.55</td>\n",
       "    </tr>\n",
       "    <tr>\n",
       "      <th>2</th>\n",
       "      <td>1002</td>\n",
       "      <td>94.0</td>\n",
       "      <td>829.0</td>\n",
       "      <td>40293.33</td>\n",
       "      <td>88.0</td>\n",
       "      <td>surf</td>\n",
       "      <td>281.01</td>\n",
       "    </tr>\n",
       "    <tr>\n",
       "      <th>3</th>\n",
       "      <td>1003</td>\n",
       "      <td>118.0</td>\n",
       "      <td>1104.0</td>\n",
       "      <td>27044.14</td>\n",
       "      <td>50.0</td>\n",
       "      <td>surf</td>\n",
       "      <td>158.12</td>\n",
       "    </tr>\n",
       "    <tr>\n",
       "      <th>4</th>\n",
       "      <td>1004</td>\n",
       "      <td>306.0</td>\n",
       "      <td>2772.0</td>\n",
       "      <td>156352.81</td>\n",
       "      <td>177.0</td>\n",
       "      <td>surf</td>\n",
       "      <td>1471.97</td>\n",
       "    </tr>\n",
       "  </tbody>\n",
       "</table>\n",
       "</div>"
      ],
      "text/plain": [
       "   user_id  number_of_calls  total_mins  data_used  messages_sent      plan  \\\n",
       "0     1000             16.0       124.0    1901.47           11.0  ultimate   \n",
       "1     1001            202.0      1728.0   80437.94          207.0      surf   \n",
       "2     1002             94.0       829.0   40293.33           88.0      surf   \n",
       "3     1003            118.0      1104.0   27044.14           50.0      surf   \n",
       "4     1004            306.0      2772.0  156352.81          177.0      surf   \n",
       "\n",
       "      cost  \n",
       "0    70.00  \n",
       "1   701.55  \n",
       "2   281.01  \n",
       "3   158.12  \n",
       "4  1471.97  "
      ]
     },
     "metadata": {},
     "output_type": "display_data"
    }
   ],
   "source": [
    "def cost_calc(row):\n",
    "    if row['plan'] == 'ultimate':\n",
    "        return 70 + max(0, row['total_mins']-3000)*0.01 + max(0, row['messages_sent']-1000)*0.01 + max(0, np.ceil(row['data_used']/1024)-30)*7\n",
    "    else:\n",
    "        return 20 + max(0, row['total_mins']-500)*0.03 + max(0, row['messages_sent']-50)*0.03 + max(0, np.ceil(row['data_used']/1024)-15)*10\n",
    "\n",
    "user_totals_df['cost'] = user_totals_df.apply(lambda row: cost_calc(row), axis=1)\n",
    "\n",
    "display(user_totals_df.head())"
   ]
  },
  {
   "cell_type": "markdown",
   "metadata": {},
   "source": [
    "#### Conclusions"
   ]
  },
  {
   "cell_type": "markdown",
   "metadata": {},
   "source": [
    "I started out by creating a function that calculates the total cost depending on the individual's plan. This function returns the base cost plus any extra minutes, messages, and data used multiplied by the overuse fee described in the plans dataset. To calculate the data overuse charges, I had to round up the mbs used to the nearest gb. I did this by converting mbs to gbs and then rounding that number. "
   ]
  },
  {
   "cell_type": "markdown",
   "metadata": {},
   "source": [
    "## Analyze the data"
   ]
  },
  {
   "cell_type": "markdown",
   "metadata": {},
   "source": [
    "### Look at the Means by Plan "
   ]
  },
  {
   "cell_type": "code",
   "execution_count": 19,
   "metadata": {},
   "outputs": [
    {
     "data": {
      "text/html": [
       "<div>\n",
       "<style scoped>\n",
       "    .dataframe tbody tr th:only-of-type {\n",
       "        vertical-align: middle;\n",
       "    }\n",
       "\n",
       "    .dataframe tbody tr th {\n",
       "        vertical-align: top;\n",
       "    }\n",
       "\n",
       "    .dataframe thead tr th {\n",
       "        text-align: left;\n",
       "    }\n",
       "\n",
       "    .dataframe thead tr:last-of-type th {\n",
       "        text-align: right;\n",
       "    }\n",
       "</style>\n",
       "<table border=\"1\" class=\"dataframe\">\n",
       "  <thead>\n",
       "    <tr>\n",
       "      <th></th>\n",
       "      <th colspan=\"4\" halign=\"left\">mean</th>\n",
       "    </tr>\n",
       "    <tr>\n",
       "      <th></th>\n",
       "      <th>cost</th>\n",
       "      <th>data_used</th>\n",
       "      <th>messages_sent</th>\n",
       "      <th>total_mins</th>\n",
       "    </tr>\n",
       "    <tr>\n",
       "      <th>plan</th>\n",
       "      <th></th>\n",
       "      <th></th>\n",
       "      <th></th>\n",
       "      <th></th>\n",
       "    </tr>\n",
       "  </thead>\n",
       "  <tbody>\n",
       "    <tr>\n",
       "      <th>surf</th>\n",
       "      <td>696.0</td>\n",
       "      <td>78217.0</td>\n",
       "      <td>147.0</td>\n",
       "      <td>2025.0</td>\n",
       "    </tr>\n",
       "    <tr>\n",
       "      <th>ultimate</th>\n",
       "      <td>432.0</td>\n",
       "      <td>78946.0</td>\n",
       "      <td>172.0</td>\n",
       "      <td>1974.0</td>\n",
       "    </tr>\n",
       "  </tbody>\n",
       "</table>\n",
       "</div>"
      ],
      "text/plain": [
       "           mean                                   \n",
       "           cost data_used messages_sent total_mins\n",
       "plan                                              \n",
       "surf      696.0   78217.0         147.0     2025.0\n",
       "ultimate  432.0   78946.0         172.0     1974.0"
      ]
     },
     "execution_count": 19,
     "metadata": {},
     "output_type": "execute_result"
    }
   ],
   "source": [
    "user_totals_df.pivot_table(index='plan', values=['cost','total_mins','data_used','messages_sent'], aggfunc=['mean']).round()"
   ]
  },
  {
   "cell_type": "markdown",
   "metadata": {},
   "source": [
    "#### Conclusions"
   ]
  },
  {
   "cell_type": "markdown",
   "metadata": {},
   "source": [
    "I looked at the differences in means of our key variables among our two plans. The surf plan had a higher mean revenue with less data used, minutes used, and messages sent."
   ]
  },
  {
   "cell_type": "markdown",
   "metadata": {},
   "source": [
    "### Look at the Histograms by Plan"
   ]
  },
  {
   "cell_type": "code",
   "execution_count": 20,
   "metadata": {
    "scrolled": true
   },
   "outputs": [],
   "source": [
    "f, axs = plt.subplots(4, 2, figsize= (20, 20))\n",
    "axs[0,0].hist(user_totals_df[user_totals_df['plan'] == 'ultimate']['cost'],bins=10,density=True)\n",
    "axs[0,1].hist(user_totals_df[user_totals_df['plan'] == 'surf']['cost'],bins=10,density=True)\n",
    "axs[1,0].hist(user_totals_df[user_totals_df['plan'] == 'ultimate']['total_mins'],bins=10,density=True)\n",
    "axs[1,1].hist(user_totals_df[user_totals_df['plan'] == 'surf']['total_mins'],bins=10,density=True)\n",
    "axs[2,0].hist(user_totals_df[user_totals_df['plan'] == 'ultimate']['data_used'],bins=10,density=True)\n",
    "axs[2,1].hist(user_totals_df[user_totals_df['plan'] == 'surf']['data_used'],bins=10,density=True)\n",
    "axs[3,0].hist(user_totals_df[user_totals_df['plan'] == 'ultimate']['messages_sent'],bins=10,density=True)\n",
    "axs[3,1].hist(user_totals_df[user_totals_df['plan'] == 'surf']['messages_sent'],bins=10,density=True)\n",
    "# set labels\n",
    "plt.setp(axs[0,0], title='Ultimate Plan')\n",
    "plt.setp(axs[0,1], title='Surf Plan')\n",
    "plt.setp(axs[:], ylabel='Frequency')\n",
    "plt.setp(axs[0:], xlabel='Cost')\n",
    "plt.setp(axs[1:], xlabel='Total Minutes')\n",
    "plt.setp(axs[2:], xlabel='Data Used')\n",
    "plt.setp(axs[3:], xlabel='Messages Sent')\n",
    "plt.suptitle(\"Histograms of Non-Bounded Variables Before Trimming\")\n",
    "plt.show()"
   ]
  },
  {
   "cell_type": "markdown",
   "metadata": {},
   "source": [
    "#### Conclusions"
   ]
  },
  {
   "cell_type": "markdown",
   "metadata": {},
   "source": [
    "Looking at the histograms above, we can notice that the costs histograms have large spikes at the base price for each plan. This is to be expected as there were always be a decent number of people who stay within the limits of the plan they purchase. Beyond that it looks like both histograms display right-skewed truncated distributional patterns. \n",
    "\n",
    "Next, looking at total minutes, we see right-skewed truncated distributional patterns. I though we might see large drops in frequency at certain points due to the artificial limits set by each plan, yet, the largest drop in frequency seems to be right before 2000 and 4000 minutes in the surf plan. I am unsure how to explain these drops in frequency, and would need to discuss this with the higher ups at the company to see if they have an explanation. \n",
    "\n",
    "As far as Data used, we also see a right-skewed truncated distribution patterns for both plans. Both plans seem to have their largest drop slightly after hitting 150,000 mbs. This again would be something that I would want to discuss with someone with more knowledge of the plans at the company.\n",
    "\n",
    "Lastly, the messages sent distributions also display right-skewed truncated patterns, and look nearly identical. This informs us that text messages do not seem to be impacted greatly based on the phone plan someone chooses. \n",
    "\n"
   ]
  },
  {
   "cell_type": "markdown",
   "metadata": {},
   "source": [
    "### Percent of Users Going Over Limit"
   ]
  },
  {
   "cell_type": "code",
   "execution_count": 21,
   "metadata": {},
   "outputs": [
    {
     "name": "stdout",
     "output_type": "stream",
     "text": [
      "╒═════════╤════════════╤════════╕\n",
      "│ unit    │ ultimate   │ surf   │\n",
      "╞═════════╪════════════╪════════╡\n",
      "│ cost    │ 73.89%     │ 93.69% │\n",
      "├─────────┼────────────┼────────┤\n",
      "│ minutes │ 19.75%     │ 83.48% │\n",
      "├─────────┼────────────┼────────┤\n",
      "│ data    │ 73.89%     │ 89.19% │\n",
      "├─────────┼────────────┼────────┤\n",
      "│ texts   │ 0.64%      │ 63.96% │\n",
      "╘═════════╧════════════╧════════╛\n"
     ]
    }
   ],
   "source": [
    "a = len(user_totals_df[(user_totals_df['plan'] == 'ultimate') & (user_totals_df['cost']>70)]) / len(user_totals_df[(user_totals_df['plan'] == 'ultimate')]) \n",
    "b = len(user_totals_df[(user_totals_df['plan'] == 'surf') & (user_totals_df['cost']>20)]) / len(user_totals_df[(user_totals_df['plan'] == 'surf')]) \n",
    "c = len(user_totals_df[(user_totals_df['plan'] == 'ultimate') & (user_totals_df['total_mins']>3000)]) / len(user_totals_df[(user_totals_df['plan'] == 'ultimate')])\n",
    "d = len(user_totals_df[(user_totals_df['plan'] == 'surf') & (user_totals_df['total_mins']>500)]) / len(user_totals_df[(user_totals_df['plan'] == 'surf')]) \n",
    "e = len(user_totals_df[(user_totals_df['plan'] == 'ultimate') & (user_totals_df['data_used']>30720)]) / len(user_totals_df[(user_totals_df['plan'] == 'ultimate')])\n",
    "f = len(user_totals_df[(user_totals_df['plan'] == 'surf') & (user_totals_df['data_used']>15360)]) / len(user_totals_df[(user_totals_df['plan'] == 'surf')]) \n",
    "g = len(user_totals_df[(user_totals_df['plan'] == 'ultimate') & (user_totals_df['messages_sent']>1000)]) / len(user_totals_df[(user_totals_df['plan'] == 'ultimate')])\n",
    "h = len(user_totals_df[(user_totals_df['plan'] == 'surf') & (user_totals_df['messages_sent']>50)]) / len(user_totals_df[(user_totals_df['plan'] == 'surf')]) \n",
    "\n",
    "table = [['unit','ultimate','surf'],['cost','{0:.2%}'.format(a),'{0:.2%}'.format(b)],\n",
    "         ['minutes','{0:.2%}'.format(c),'{0:.2%}'.format(d)],\n",
    "         ['data','{0:.2%}'.format(e),'{0:.2%}'.format(f)],\n",
    "         ['texts','{0:.2%}'.format(g),'{0:.2%}'.format(h)]]\n",
    "\n",
    "print(tabulate(table, headers='firstrow', tablefmt='fancy_grid'))\n",
    "\n",
    "                                                                                                              \n",
    "                                                                                                                   "
   ]
  },
  {
   "cell_type": "markdown",
   "metadata": {},
   "source": [
    "#### Conclusions"
   ]
  },
  {
   "cell_type": "markdown",
   "metadata": {},
   "source": [
    "- Of users that have the Ultimate plan, **73.89\\%** spend more than the **\\$70** base charge.\n",
    "    - Of those users going over their base charge:\n",
    "         - **100\\%** of them went over their data limit.\n",
    "         - **27\\%** of them went over their minutes limit.\n",
    "         - **1\\%** of them went over their text message limit.\n",
    "- Of users on the Surf plan, **93.69\\%** spend more than the **\\$20** base charge.\n",
    "    - Of those users going over their base charge:\n",
    "         - **95\\%** of them went over their data limit.\n",
    "         - **89\\%** of them went over their minutes limit.\n",
    "         - **68\\%** of them went over their text message limit.\n",
    "         \n",
    "Based on this, it seems as though neither plan provides enough data for most customers, but the Ultimate plan provides more than enough minutes and texts for most customers."
   ]
  },
  {
   "cell_type": "markdown",
   "metadata": {},
   "source": [
    "### Outliers"
   ]
  },
  {
   "cell_type": "markdown",
   "metadata": {},
   "source": [
    "#### Boxplots"
   ]
  },
  {
   "cell_type": "code",
   "execution_count": 22,
   "metadata": {},
   "outputs": [],
   "source": [
    "#creating boxplots to look at outliers\n",
    "fig3 = plt.figure(figsize=(12,8),tight_layout=True)\n",
    "gs = fig3.add_gridspec(3, 2)\n",
    "f3_ax1 = fig3.add_subplot(gs[0, 0])\n",
    "sns.boxplot(ax=f3_ax1, x='number_of_calls', data= user_totals_df)\n",
    "f3_ax2 = fig3.add_subplot(gs[0, 1])\n",
    "sns.boxplot(ax=f3_ax2, x='total_mins', data= user_totals_df)\n",
    "f3_ax3 = fig3.add_subplot(gs[1, 0])\n",
    "sns.boxplot(ax=f3_ax3, x='data_used', data= user_totals_df)\n",
    "f3_ax4 = fig3.add_subplot(gs[1, 1])\n",
    "sns.boxplot(ax=f3_ax4, x='messages_sent', data= user_totals_df)\n",
    "f3_ax5 = fig3.add_subplot(gs[2, :])\n",
    "sns.boxplot(ax=f3_ax5, x='cost', data= user_totals_df)\n",
    "plt.show()"
   ]
  },
  {
   "cell_type": "markdown",
   "metadata": {},
   "source": [
    "##### Conclusions"
   ]
  },
  {
   "cell_type": "markdown",
   "metadata": {},
   "source": [
    "Looking at the boxplots, outliers occur when:\n",
    "- `number_of_calls` is above ~650\n",
    "- `total_mins` is above ~6000 \n",
    "- `data_used` is above ~240000 mbs\n",
    "- `messages_sent` is above ~550\n",
    "- `cost` is above ~\\$2000"
   ]
  },
  {
   "cell_type": "markdown",
   "metadata": {},
   "source": [
    "#### Removing Outliers"
   ]
  },
  {
   "cell_type": "code",
   "execution_count": 23,
   "metadata": {},
   "outputs": [
    {
     "name": "stdout",
     "output_type": "stream",
     "text": [
      "<class 'pandas.core.frame.DataFrame'>\n",
      "Int64Index: 470 entries, 0 to 489\n",
      "Data columns (total 7 columns):\n",
      " #   Column           Non-Null Count  Dtype  \n",
      "---  ------           --------------  -----  \n",
      " 0   user_id          470 non-null    int64  \n",
      " 1   number_of_calls  470 non-null    float64\n",
      " 2   total_mins       470 non-null    float64\n",
      " 3   data_used        470 non-null    float64\n",
      " 4   messages_sent    470 non-null    float64\n",
      " 5   plan             470 non-null    object \n",
      " 6   cost             470 non-null    float64\n",
      "dtypes: float64(5), int64(1), object(1)\n",
      "memory usage: 29.4+ KB\n"
     ]
    }
   ],
   "source": [
    "#creating an array of the z-scores for all non bounded variables\n",
    "user_totals_z_score = zscore(np.array(user_totals_df[['number_of_calls','total_mins','data_used','messages_sent','cost']]))\n",
    "#removing all observations with a z-score > 3 for any of the variables\n",
    "user_totals_trimmed = user_totals_df[(abs(user_totals_z_score) < 3).all(axis=1)]\n",
    "user_totals_trimmed.info()"
   ]
  },
  {
   "cell_type": "markdown",
   "metadata": {},
   "source": [
    "##### Conclusions"
   ]
  },
  {
   "cell_type": "markdown",
   "metadata": {},
   "source": [
    "I used z-scores to remove observations with an outlier value on one of the non-bounded variables. Any observation with a z-score greater than 3 was removed from the dataset. A z-score greater than 3 is a common way to detect outliers as it implies that the observation was at least 3 standard deviations away from the mean. This ended up removing 20 observations."
   ]
  },
  {
   "cell_type": "markdown",
   "metadata": {},
   "source": [
    "## Test The Hypothesis"
   ]
  },
  {
   "cell_type": "markdown",
   "metadata": {},
   "source": [
    "### Does the Average Revenue from Users of the Ultimate and Surf Plans Differ?"
   ]
  },
  {
   "cell_type": "code",
   "execution_count": 25,
   "metadata": {
    "scrolled": true
   },
   "outputs": [
    {
     "name": "stdout",
     "output_type": "stream",
     "text": [
      "Null Hypothesis: The Surf plan and the Ultimate plan produce the same revenue\n",
      "Alternative Hypothesis: The Surf plan and the Ultimate plan do not produce the same revenue\n",
      "p-value:  2.1335150704854422e-10\n",
      "We reject the null hypothesis\n"
     ]
    }
   ],
   "source": [
    "alpha = 0.05\n",
    "\n",
    "results = st.ttest_ind(user_totals_trimmed[user_totals_trimmed['plan'] == 'surf']['cost'],user_totals_trimmed[user_totals_trimmed['plan'] == 'ultimate']['cost'], equal_var = False)\n",
    "print('Null Hypothesis: The Surf plan and the Ultimate plan produce the same revenue')\n",
    "print('Alternative Hypothesis: The Surf plan and the Ultimate plan do not produce the same revenue')\n",
    "print('p-value: ', results.pvalue)\n",
    "\n",
    "if results.pvalue < alpha:\n",
    "    print(\"We reject the null hypothesis\")\n",
    "else:\n",
    "    print(\"We can't reject the null hypothesis\") \n"
   ]
  },
  {
   "cell_type": "markdown",
   "metadata": {},
   "source": [
    "#### Conclusions"
   ]
  },
  {
   "cell_type": "markdown",
   "metadata": {},
   "source": [
    "Running the t-test lets us know that Megaline recieves statistically different revenue from the Surf plan than the Ultimate plan. Since, we saw above that the surf plan had higher mean costs, we know that the difference is due to the Surf plan having statistically higher revenue than the Ultimate plan. Additonally, since we saw above that people on the Surf plan use less minutes and data, while also texting less, we can say it is the more profitable plan. "
   ]
  },
  {
   "cell_type": "markdown",
   "metadata": {},
   "source": [
    "### Does the Average Revenue from Users of from NY-NJ and other reigons Differ?"
   ]
  },
  {
   "cell_type": "markdown",
   "metadata": {},
   "source": [
    "#### Add State To Dataset"
   ]
  },
  {
   "cell_type": "code",
   "execution_count": 27,
   "metadata": {},
   "outputs": [],
   "source": [
    "ny_nj_df = pd.concat([users_df['user_id'],users_df['city'].str.split(',', expand=True)[1].str.split(' ', expand=True)[1].str.split('-',expand=True)], axis=1)\n",
    "\n",
    "def is_ny_nj(row):\n",
    "    for i in range(4):\n",
    "        if row[i] == 'NY' or row[i] == 'NJ':\n",
    "            return True\n",
    "        else:\n",
    "            continue\n",
    "    return False\n",
    "ny_nj_df['is_ny_nj'] = ny_nj_df.apply(lambda row: is_ny_nj(row), axis=1)\n",
    "\n",
    "user_totals_df_ny_nj = user_totals_df.merge(ny_nj_df[['user_id','is_ny_nj']],on='user_id',how='inner')"
   ]
  },
  {
   "cell_type": "markdown",
   "metadata": {},
   "source": [
    "##### Conclusions"
   ]
  },
  {
   "cell_type": "markdown",
   "metadata": {},
   "source": [
    "In this section I split the city variable to isolate the states listed for each individual. I then checked if New York or New Jersey were listed as one of the states for an individual and created a variable that was True if they lived in New York or New Jersey and false otherwise. "
   ]
  },
  {
   "cell_type": "markdown",
   "metadata": {},
   "source": [
    "#### Run T-Test"
   ]
  },
  {
   "cell_type": "code",
   "execution_count": 28,
   "metadata": {},
   "outputs": [
    {
     "name": "stdout",
     "output_type": "stream",
     "text": [
      "Null Hypothesis: New York and New Jersey produce the same revenue as other states in the US\n",
      "Alternative Hypothesis: New York and New Jersey produce different revenue as other states in the US\n",
      "p-value:  0.3182607881545029\n",
      "We can't reject the null hypothesis\n"
     ]
    }
   ],
   "source": [
    "results_1 = st.ttest_ind(user_totals_df_ny_nj[user_totals_df_ny_nj['is_ny_nj'] == True]['cost'],user_totals_df_ny_nj[user_totals_df_ny_nj['is_ny_nj'] == False]['cost'])\n",
    "print('Null Hypothesis: New York and New Jersey produce the same revenue as other states in the US')\n",
    "print('Alternative Hypothesis: New York and New Jersey produce different revenue as other states in the US')\n",
    "print('p-value: ', results_1.pvalue)\n",
    "\n",
    "if results_1.pvalue < alpha:\n",
    "    print(\"We reject the null hypothesis\")\n",
    "else:\n",
    "    print(\"We can't reject the null hypothesis\") "
   ]
  },
  {
   "cell_type": "markdown",
   "metadata": {},
   "source": [
    "##### Conclusions"
   ]
  },
  {
   "cell_type": "markdown",
   "metadata": {},
   "source": [
    "Running the t-test here lets us know that there are not statistically different differences in revenue between New York and New Jersey compared to the rest of the United states. This does not imply that New York/New Jersey and the rest of the United States have the same revenue, we are just unable to state that they are different. "
   ]
  },
  {
   "cell_type": "markdown",
   "metadata": {},
   "source": [
    "# Overall Conclusions"
   ]
  },
  {
   "cell_type": "markdown",
   "metadata": {},
   "source": [
    "In this project, I looked at two phone plans provided by Megaline. I started out by importing data on calls, internet usage, and text messages and merging those files to create a overall usage dataset. I then collapsed that dataset by unique user to see the overall usage of each individual. Lastly, I calculated the cost of the plan for each individual and added it to our overall usage by individual dataset. \n",
    "\n",
    "After creating this dataset, I looked at the differences between the two plans. I noticed that the Surf plan gathered more revenue, on average, while also having users send less text messages, and use less minutes and internet data. To further this analysis, I looked at the distribution of each of our usage types and the overall cost of each data plan. This let us know that while a fair proportion of individuals limit themselves to the parameters of the plan, the majority seem to go over. The area where people struggle the most in staying under their plan limits is internet usage. \n",
    "\n",
    "Lastly, we ran two t-test and found that individuals on the Surf plan spend statistically significant more money on their phone plans than those on the Ultimate plan. We also saw that individuals who live in New York or New Jersey did not have a statistically significant higher phone bill than those in other states. \n",
    "\n",
    "Overall, I think Megaline should try to push their Surf plan to customers and it is the one that creates the highest revenue and profit. "
   ]
  }
 ],
 "metadata": {
  "ExecuteTimeLog": [
   {
    "duration": 1454,
    "start_time": "2021-08-24T17:09:55.606Z"
   },
   {
    "duration": 160,
    "start_time": "2021-08-24T17:10:18.596Z"
   },
   {
    "duration": 170,
    "start_time": "2021-08-24T17:10:28.815Z"
   },
   {
    "duration": 128,
    "start_time": "2021-08-24T17:13:08.976Z"
   },
   {
    "duration": 125,
    "start_time": "2021-08-24T17:16:00.630Z"
   },
   {
    "duration": 431,
    "start_time": "2021-08-24T17:16:26.980Z"
   },
   {
    "duration": 3698,
    "start_time": "2021-08-24T17:16:33.730Z"
   },
   {
    "duration": 457,
    "start_time": "2021-08-24T17:16:52.067Z"
   },
   {
    "duration": 551,
    "start_time": "2021-08-24T17:18:04.070Z"
   },
   {
    "duration": 174,
    "start_time": "2021-08-24T17:54:05.176Z"
   },
   {
    "duration": 473,
    "start_time": "2021-08-24T17:54:18.563Z"
   },
   {
    "duration": 472,
    "start_time": "2021-08-24T17:56:21.435Z"
   },
   {
    "duration": 479,
    "start_time": "2021-08-24T17:56:55.343Z"
   },
   {
    "duration": 660,
    "start_time": "2021-08-24T18:02:32.146Z"
   },
   {
    "duration": 638,
    "start_time": "2021-08-24T18:05:43.000Z"
   },
   {
    "duration": 706,
    "start_time": "2021-08-24T18:07:38.551Z"
   },
   {
    "duration": 780,
    "start_time": "2021-08-24T18:09:52.941Z"
   },
   {
    "duration": 802,
    "start_time": "2021-08-24T18:15:27.509Z"
   },
   {
    "duration": 492,
    "start_time": "2021-08-24T18:17:28.267Z"
   },
   {
    "duration": 463,
    "start_time": "2021-08-24T18:18:16.183Z"
   },
   {
    "duration": 971,
    "start_time": "2021-08-24T18:18:35.638Z"
   },
   {
    "duration": 746,
    "start_time": "2021-08-24T18:19:20.713Z"
   },
   {
    "duration": 580,
    "start_time": "2021-08-24T18:21:12.441Z"
   },
   {
    "duration": 509,
    "start_time": "2021-08-24T18:21:31.312Z"
   },
   {
    "duration": 1303,
    "start_time": "2021-08-24T18:22:52.389Z"
   },
   {
    "duration": 508,
    "start_time": "2021-08-24T18:25:06.510Z"
   },
   {
    "duration": 505,
    "start_time": "2021-08-24T18:26:41.974Z"
   },
   {
    "duration": 582,
    "start_time": "2021-08-24T18:27:41.046Z"
   },
   {
    "duration": 608,
    "start_time": "2021-08-24T18:28:33.141Z"
   },
   {
    "duration": 627,
    "start_time": "2021-08-24T18:29:26.492Z"
   },
   {
    "duration": 610,
    "start_time": "2021-08-24T18:30:03.522Z"
   },
   {
    "duration": 686,
    "start_time": "2021-08-24T18:31:27.349Z"
   },
   {
    "duration": 633,
    "start_time": "2021-08-24T18:38:02.027Z"
   },
   {
    "duration": 629,
    "start_time": "2021-08-24T18:39:53.396Z"
   },
   {
    "duration": 1112,
    "start_time": "2021-08-24T18:40:45.013Z"
   },
   {
    "duration": 642,
    "start_time": "2021-08-24T18:41:01.297Z"
   },
   {
    "duration": 616,
    "start_time": "2021-08-24T18:41:46.531Z"
   },
   {
    "duration": 619,
    "start_time": "2021-08-24T18:42:33.546Z"
   },
   {
    "duration": 646,
    "start_time": "2021-08-24T18:45:08.273Z"
   },
   {
    "duration": 649,
    "start_time": "2021-08-24T18:45:27.558Z"
   },
   {
    "duration": 657,
    "start_time": "2021-08-24T18:45:46.797Z"
   },
   {
    "duration": 643,
    "start_time": "2021-08-24T18:46:40.788Z"
   },
   {
    "duration": 604,
    "start_time": "2021-08-24T18:47:25.767Z"
   },
   {
    "duration": 667,
    "start_time": "2021-08-24T18:48:51.891Z"
   },
   {
    "duration": 691,
    "start_time": "2021-08-24T18:51:18.600Z"
   },
   {
    "duration": 717,
    "start_time": "2021-08-24T18:57:17.747Z"
   },
   {
    "duration": 756,
    "start_time": "2021-08-24T18:57:31.244Z"
   },
   {
    "duration": 836,
    "start_time": "2021-08-24T18:57:41.499Z"
   },
   {
    "duration": 404,
    "start_time": "2021-08-24T19:06:59.864Z"
   },
   {
    "duration": 53,
    "start_time": "2021-08-24T19:08:34.846Z"
   },
   {
    "duration": 69,
    "start_time": "2021-08-24T19:08:48.644Z"
   },
   {
    "duration": 50,
    "start_time": "2021-08-24T19:11:41.004Z"
   },
   {
    "duration": 100,
    "start_time": "2021-08-24T19:12:15.154Z"
   },
   {
    "duration": 286,
    "start_time": "2021-08-24T19:16:26.688Z"
   },
   {
    "duration": 916,
    "start_time": "2021-08-24T19:18:05.516Z"
   },
   {
    "duration": 843,
    "start_time": "2021-08-24T19:19:00.986Z"
   },
   {
    "duration": 824,
    "start_time": "2021-08-24T19:19:15.713Z"
   },
   {
    "duration": 306,
    "start_time": "2021-08-24T19:19:58.180Z"
   },
   {
    "duration": 476,
    "start_time": "2021-08-24T19:22:37.595Z"
   },
   {
    "duration": 300,
    "start_time": "2021-08-24T19:22:53.737Z"
   },
   {
    "duration": 326,
    "start_time": "2021-08-24T19:24:04.282Z"
   },
   {
    "duration": 310,
    "start_time": "2021-08-24T19:24:09.982Z"
   },
   {
    "duration": 307,
    "start_time": "2021-08-24T19:27:13.292Z"
   },
   {
    "duration": 10818,
    "start_time": "2021-08-24T19:30:33.918Z"
   },
   {
    "duration": 292,
    "start_time": "2021-08-24T19:32:03.797Z"
   },
   {
    "duration": 674,
    "start_time": "2021-08-24T19:32:30.685Z"
   },
   {
    "duration": 297,
    "start_time": "2021-08-24T19:32:46.699Z"
   },
   {
    "duration": 402,
    "start_time": "2021-08-24T19:34:56.052Z"
   },
   {
    "duration": 779,
    "start_time": "2021-08-24T19:35:53.179Z"
   },
   {
    "duration": 332,
    "start_time": "2021-08-24T19:35:56.972Z"
   },
   {
    "duration": 285,
    "start_time": "2021-08-24T19:36:20.612Z"
   },
   {
    "duration": 315,
    "start_time": "2021-08-24T19:37:29.880Z"
   },
   {
    "duration": 306,
    "start_time": "2021-08-24T19:38:16.548Z"
   },
   {
    "duration": 659,
    "start_time": "2021-08-24T19:42:12.296Z"
   },
   {
    "duration": 310,
    "start_time": "2021-08-24T19:43:59.653Z"
   },
   {
    "duration": 302,
    "start_time": "2021-08-24T19:44:08.666Z"
   },
   {
    "duration": 311,
    "start_time": "2021-08-24T19:45:22.507Z"
   },
   {
    "duration": 323,
    "start_time": "2021-08-24T19:45:30.487Z"
   },
   {
    "duration": 307,
    "start_time": "2021-08-24T19:47:28.487Z"
   },
   {
    "duration": 324,
    "start_time": "2021-08-24T19:48:38.594Z"
   },
   {
    "duration": 304,
    "start_time": "2021-08-24T19:48:52.704Z"
   },
   {
    "duration": 317,
    "start_time": "2021-08-24T19:49:55.824Z"
   },
   {
    "duration": 754,
    "start_time": "2021-08-24T20:01:49.063Z"
   },
   {
    "duration": 918,
    "start_time": "2021-08-24T20:01:53.868Z"
   },
   {
    "duration": 728,
    "start_time": "2021-08-24T20:02:10.902Z"
   },
   {
    "duration": 394,
    "start_time": "2021-08-24T20:03:28.364Z"
   },
   {
    "duration": 699,
    "start_time": "2021-08-24T20:03:53.666Z"
   },
   {
    "duration": 692,
    "start_time": "2021-08-24T20:06:45.394Z"
   },
   {
    "duration": 722,
    "start_time": "2021-08-24T20:07:04.989Z"
   },
   {
    "duration": 1079,
    "start_time": "2021-08-24T20:08:47.159Z"
   },
   {
    "duration": 700,
    "start_time": "2021-08-24T20:10:10.790Z"
   },
   {
    "duration": 572,
    "start_time": "2021-08-24T20:13:25.048Z"
   },
   {
    "duration": 540,
    "start_time": "2021-08-24T20:14:01.681Z"
   },
   {
    "duration": 537,
    "start_time": "2021-08-24T20:14:20.093Z"
   },
   {
    "duration": 539,
    "start_time": "2021-08-24T20:14:27.042Z"
   },
   {
    "duration": 550,
    "start_time": "2021-08-24T20:14:38.009Z"
   },
   {
    "duration": 795,
    "start_time": "2021-08-24T20:16:06.513Z"
   },
   {
    "duration": 770,
    "start_time": "2021-08-24T20:16:59.212Z"
   },
   {
    "duration": 725,
    "start_time": "2021-08-24T20:17:12.152Z"
   },
   {
    "duration": 706,
    "start_time": "2021-08-24T20:19:27.591Z"
   },
   {
    "duration": 313,
    "start_time": "2021-08-24T20:25:19.617Z"
   },
   {
    "duration": 707,
    "start_time": "2021-08-24T20:30:31.822Z"
   },
   {
    "duration": 1387,
    "start_time": "2021-08-24T20:34:57.089Z"
   },
   {
    "duration": 333,
    "start_time": "2021-08-24T20:35:10.676Z"
   },
   {
    "duration": 341,
    "start_time": "2021-08-24T20:36:44.797Z"
   },
   {
    "duration": 349,
    "start_time": "2021-08-24T20:37:10.706Z"
   },
   {
    "duration": 758,
    "start_time": "2021-08-24T20:39:33.312Z"
   },
   {
    "duration": 892,
    "start_time": "2021-08-24T20:39:38.998Z"
   },
   {
    "duration": 365,
    "start_time": "2021-08-24T20:39:46.508Z"
   },
   {
    "duration": 408,
    "start_time": "2021-08-24T20:39:53.873Z"
   },
   {
    "duration": 779,
    "start_time": "2021-08-24T20:45:56.781Z"
   },
   {
    "duration": 894,
    "start_time": "2021-08-24T20:46:19.527Z"
   },
   {
    "duration": 1078,
    "start_time": "2021-08-24T20:46:24.389Z"
   },
   {
    "duration": 1120,
    "start_time": "2021-08-24T20:49:56.963Z"
   },
   {
    "duration": 811,
    "start_time": "2021-08-24T20:50:25.838Z"
   },
   {
    "duration": 665,
    "start_time": "2021-08-24T20:51:02.674Z"
   },
   {
    "duration": 1371,
    "start_time": "2021-08-24T20:52:25.850Z"
   },
   {
    "duration": 1055,
    "start_time": "2021-08-24T20:53:20.364Z"
   },
   {
    "duration": 1266,
    "start_time": "2021-08-24T20:53:42.770Z"
   },
   {
    "duration": 1644,
    "start_time": "2021-08-24T20:54:30.580Z"
   },
   {
    "duration": 1301,
    "start_time": "2021-08-24T20:54:52.853Z"
   },
   {
    "duration": 1445,
    "start_time": "2021-08-24T20:55:28.999Z"
   },
   {
    "duration": 145,
    "start_time": "2021-08-24T20:55:43.435Z"
   },
   {
    "duration": 1174,
    "start_time": "2021-08-24T20:55:59.565Z"
   },
   {
    "duration": 1258,
    "start_time": "2021-08-24T20:56:13.608Z"
   },
   {
    "duration": 1328,
    "start_time": "2021-08-24T20:56:27.752Z"
   },
   {
    "duration": 1013,
    "start_time": "2021-08-24T20:59:22.072Z"
   },
   {
    "duration": 1081,
    "start_time": "2021-08-24T21:02:31.402Z"
   },
   {
    "duration": 1017,
    "start_time": "2021-08-24T21:03:06.393Z"
   },
   {
    "duration": 1007,
    "start_time": "2021-08-24T21:05:18.401Z"
   },
   {
    "duration": 1015,
    "start_time": "2021-08-24T21:05:24.412Z"
   },
   {
    "duration": 1038,
    "start_time": "2021-08-24T21:07:22.025Z"
   },
   {
    "duration": 1137,
    "start_time": "2021-08-24T21:07:40.997Z"
   },
   {
    "duration": 743,
    "start_time": "2021-08-24T21:10:39.480Z"
   },
   {
    "duration": 1007,
    "start_time": "2021-08-24T21:10:51.847Z"
   },
   {
    "duration": 1127,
    "start_time": "2021-08-24T21:11:07.698Z"
   },
   {
    "duration": 1035,
    "start_time": "2021-08-24T21:12:11.638Z"
   },
   {
    "duration": 13061,
    "start_time": "2021-08-24T21:14:32.191Z"
   },
   {
    "duration": 1079,
    "start_time": "2021-08-24T21:15:30.463Z"
   },
   {
    "duration": 1052,
    "start_time": "2021-08-24T21:17:16.165Z"
   },
   {
    "duration": 1115,
    "start_time": "2021-08-24T21:18:53.094Z"
   },
   {
    "duration": 1164,
    "start_time": "2021-08-24T21:27:24.196Z"
   },
   {
    "duration": 1075,
    "start_time": "2021-08-24T21:27:36.282Z"
   },
   {
    "duration": 1134,
    "start_time": "2021-08-24T21:32:15.402Z"
   },
   {
    "duration": 1069,
    "start_time": "2021-08-24T21:34:58.108Z"
   },
   {
    "duration": 3059,
    "start_time": "2021-08-24T21:39:38.361Z"
   },
   {
    "duration": 3070,
    "start_time": "2021-08-24T21:39:50.451Z"
   },
   {
    "duration": 3977,
    "start_time": "2021-08-24T21:40:05.604Z"
   },
   {
    "duration": 3853,
    "start_time": "2021-08-24T21:41:20.822Z"
   },
   {
    "duration": 4232,
    "start_time": "2021-08-24T21:42:02.459Z"
   },
   {
    "duration": 4468,
    "start_time": "2021-08-24T21:42:24.137Z"
   },
   {
    "duration": 3875,
    "start_time": "2021-08-24T21:42:34.515Z"
   },
   {
    "duration": 3224,
    "start_time": "2021-08-24T21:45:01.503Z"
   },
   {
    "duration": 799,
    "start_time": "2021-08-24T21:46:37.752Z"
   },
   {
    "duration": 804,
    "start_time": "2021-08-24T21:46:45.864Z"
   },
   {
    "duration": 3042,
    "start_time": "2021-08-24T21:47:05.596Z"
   },
   {
    "duration": 3165,
    "start_time": "2021-08-24T22:13:35.666Z"
   },
   {
    "duration": 4,
    "start_time": "2021-08-24T22:16:44.707Z"
   },
   {
    "duration": 3,
    "start_time": "2021-08-24T22:17:18.671Z"
   },
   {
    "duration": 441,
    "start_time": "2021-08-24T22:35:47.229Z"
   },
   {
    "duration": 8,
    "start_time": "2021-08-24T22:37:54.461Z"
   },
   {
    "duration": 10,
    "start_time": "2021-08-24T22:38:23.019Z"
   },
   {
    "duration": 10,
    "start_time": "2021-08-24T22:38:33.646Z"
   },
   {
    "duration": 16,
    "start_time": "2021-08-24T22:40:42.325Z"
   },
   {
    "duration": 421,
    "start_time": "2021-08-24T22:41:32.423Z"
   },
   {
    "duration": 397,
    "start_time": "2021-08-24T22:41:38.804Z"
   },
   {
    "duration": 591,
    "start_time": "2021-08-24T22:41:42.527Z"
   },
   {
    "duration": 435,
    "start_time": "2021-08-24T22:41:49.842Z"
   },
   {
    "duration": 388,
    "start_time": "2021-08-24T22:41:55.279Z"
   },
   {
    "duration": 8,
    "start_time": "2021-08-24T22:42:08.281Z"
   },
   {
    "duration": 15,
    "start_time": "2021-08-24T22:43:59.808Z"
   },
   {
    "duration": 9,
    "start_time": "2021-08-24T22:45:31.887Z"
   },
   {
    "duration": 19,
    "start_time": "2021-08-24T22:45:52.997Z"
   },
   {
    "duration": 386,
    "start_time": "2021-08-24T22:46:43.995Z"
   },
   {
    "duration": 22,
    "start_time": "2021-08-24T22:46:51.247Z"
   },
   {
    "duration": 42,
    "start_time": "2021-08-24T22:47:52.059Z"
   },
   {
    "duration": 27,
    "start_time": "2021-08-24T22:49:55.743Z"
   },
   {
    "duration": 129,
    "start_time": "2021-08-24T22:56:27.148Z"
   },
   {
    "duration": 408,
    "start_time": "2021-08-24T22:56:35.942Z"
   },
   {
    "duration": 1658,
    "start_time": "2021-08-24T22:56:44.652Z"
   },
   {
    "duration": 426,
    "start_time": "2021-08-24T22:58:22.572Z"
   },
   {
    "duration": 9476,
    "start_time": "2021-08-24T22:59:49.845Z"
   },
   {
    "duration": 448,
    "start_time": "2021-08-24T23:07:35.177Z"
   },
   {
    "duration": 9637,
    "start_time": "2021-08-24T23:08:04.694Z"
   },
   {
    "duration": 26,
    "start_time": "2021-08-24T23:10:04.412Z"
   },
   {
    "duration": 2350,
    "start_time": "2021-08-24T23:14:32.561Z"
   },
   {
    "duration": 956,
    "start_time": "2021-08-24T23:15:02.297Z"
   },
   {
    "duration": 33,
    "start_time": "2021-08-24T23:15:12.524Z"
   },
   {
    "duration": 141,
    "start_time": "2021-08-24T23:15:25.650Z"
   },
   {
    "duration": 948,
    "start_time": "2021-08-24T23:15:29.436Z"
   },
   {
    "duration": 136,
    "start_time": "2021-08-24T23:17:10.553Z"
   },
   {
    "duration": 58,
    "start_time": "2021-08-24T23:17:37.445Z"
   },
   {
    "duration": 69,
    "start_time": "2021-08-24T23:17:46.811Z"
   },
   {
    "duration": 72,
    "start_time": "2021-08-24T23:18:10.869Z"
   },
   {
    "duration": 77,
    "start_time": "2021-08-24T23:18:20.896Z"
   },
   {
    "duration": 63,
    "start_time": "2021-08-24T23:20:02.079Z"
   },
   {
    "duration": 81,
    "start_time": "2021-08-24T23:20:12.855Z"
   },
   {
    "duration": 71,
    "start_time": "2021-08-24T23:21:37.515Z"
   },
   {
    "duration": 70,
    "start_time": "2021-08-24T23:21:56.509Z"
   },
   {
    "duration": 91,
    "start_time": "2021-08-24T23:22:22.513Z"
   },
   {
    "duration": 73,
    "start_time": "2021-08-24T23:22:51.453Z"
   },
   {
    "duration": 69,
    "start_time": "2021-08-24T23:23:10.720Z"
   },
   {
    "duration": 4,
    "start_time": "2021-08-25T00:58:59.217Z"
   },
   {
    "duration": 412,
    "start_time": "2021-08-25T00:59:47.973Z"
   },
   {
    "duration": 408,
    "start_time": "2021-08-25T01:00:13.645Z"
   },
   {
    "duration": 143,
    "start_time": "2021-08-25T01:00:21.743Z"
   },
   {
    "duration": 427,
    "start_time": "2021-08-25T01:00:24.317Z"
   },
   {
    "duration": 449,
    "start_time": "2021-08-25T01:01:08.111Z"
   },
   {
    "duration": 482,
    "start_time": "2021-08-25T01:05:42.452Z"
   },
   {
    "duration": 133,
    "start_time": "2021-08-25T01:05:54.008Z"
   },
   {
    "duration": 486,
    "start_time": "2021-08-25T01:05:57.027Z"
   },
   {
    "duration": 478,
    "start_time": "2021-08-25T01:06:16.259Z"
   },
   {
    "duration": 481,
    "start_time": "2021-08-25T01:08:59.225Z"
   },
   {
    "duration": 175,
    "start_time": "2021-08-25T01:10:04.865Z"
   },
   {
    "duration": 522,
    "start_time": "2021-08-25T01:10:11.849Z"
   },
   {
    "duration": 473,
    "start_time": "2021-08-25T01:10:26.913Z"
   },
   {
    "duration": 189,
    "start_time": "2021-08-25T01:11:38.113Z"
   },
   {
    "duration": 3,
    "start_time": "2021-08-25T01:11:57.934Z"
   },
   {
    "duration": 128,
    "start_time": "2021-08-25T01:14:29.306Z"
   },
   {
    "duration": 534,
    "start_time": "2021-08-25T01:14:45.978Z"
   },
   {
    "duration": 149,
    "start_time": "2021-08-25T01:14:54.454Z"
   },
   {
    "duration": 213,
    "start_time": "2021-08-25T01:15:54.952Z"
   },
   {
    "duration": 141,
    "start_time": "2021-08-25T01:15:59.767Z"
   },
   {
    "duration": 129,
    "start_time": "2021-08-25T01:16:02.753Z"
   },
   {
    "duration": 193,
    "start_time": "2021-08-25T01:17:09.174Z"
   },
   {
    "duration": 196,
    "start_time": "2021-08-25T01:17:21.790Z"
   },
   {
    "duration": 159,
    "start_time": "2021-08-25T01:18:06.697Z"
   },
   {
    "duration": 120,
    "start_time": "2021-08-25T01:18:09.606Z"
   },
   {
    "duration": 36,
    "start_time": "2021-08-25T01:18:12.839Z"
   },
   {
    "duration": 34,
    "start_time": "2021-08-25T01:18:18.764Z"
   },
   {
    "duration": 58,
    "start_time": "2021-08-25T01:18:24.059Z"
   },
   {
    "duration": 72,
    "start_time": "2021-08-25T01:18:39.488Z"
   },
   {
    "duration": 67,
    "start_time": "2021-08-25T01:19:35.219Z"
   },
   {
    "duration": 49,
    "start_time": "2021-08-25T01:20:29.062Z"
   },
   {
    "duration": 59,
    "start_time": "2021-08-25T01:20:37.751Z"
   },
   {
    "duration": 23,
    "start_time": "2021-08-25T01:34:33.701Z"
   },
   {
    "duration": 113,
    "start_time": "2021-08-25T01:39:25.313Z"
   },
   {
    "duration": 124,
    "start_time": "2021-08-25T01:39:50.508Z"
   },
   {
    "duration": 77,
    "start_time": "2021-08-25T01:42:38.189Z"
   },
   {
    "duration": 113,
    "start_time": "2021-08-25T01:43:52.616Z"
   },
   {
    "duration": 136,
    "start_time": "2021-08-25T01:47:41.417Z"
   },
   {
    "duration": 571,
    "start_time": "2021-08-25T01:47:54.889Z"
   },
   {
    "duration": 550,
    "start_time": "2021-08-25T01:48:25.404Z"
   },
   {
    "duration": 17,
    "start_time": "2021-08-25T01:53:12.165Z"
   },
   {
    "duration": 20,
    "start_time": "2021-08-25T01:54:10.937Z"
   },
   {
    "duration": 35,
    "start_time": "2021-08-25T01:54:25.853Z"
   },
   {
    "duration": 1391,
    "start_time": "2021-08-25T01:55:09.527Z"
   },
   {
    "duration": 212,
    "start_time": "2021-08-25T01:55:10.921Z"
   },
   {
    "duration": 186,
    "start_time": "2021-08-25T01:55:11.136Z"
   },
   {
    "duration": 116,
    "start_time": "2021-08-25T01:55:11.325Z"
   },
   {
    "duration": 42,
    "start_time": "2021-08-25T01:55:11.444Z"
   },
   {
    "duration": 52,
    "start_time": "2021-08-25T01:55:11.489Z"
   },
   {
    "duration": 31,
    "start_time": "2021-08-25T01:55:11.543Z"
   },
   {
    "duration": 207,
    "start_time": "2021-08-25T01:55:11.578Z"
   },
   {
    "duration": 98,
    "start_time": "2021-08-25T01:55:11.787Z"
   },
   {
    "duration": 129,
    "start_time": "2021-08-25T01:55:11.887Z"
   },
   {
    "duration": 604,
    "start_time": "2021-08-25T01:55:12.019Z"
   },
   {
    "duration": 31,
    "start_time": "2021-08-25T01:55:12.626Z"
   },
   {
    "duration": 38,
    "start_time": "2021-08-25T01:55:12.661Z"
   },
   {
    "duration": 64,
    "start_time": "2021-08-25T01:55:12.702Z"
   },
   {
    "duration": 51,
    "start_time": "2021-08-25T01:55:12.769Z"
   },
   {
    "duration": 76,
    "start_time": "2021-08-25T01:55:12.822Z"
   },
   {
    "duration": 2964,
    "start_time": "2021-08-25T01:55:12.901Z"
   },
   {
    "duration": 10,
    "start_time": "2021-08-25T01:55:15.867Z"
   },
   {
    "duration": 82,
    "start_time": "2021-08-25T01:55:15.879Z"
   },
   {
    "duration": 9,
    "start_time": "2021-08-25T01:55:15.964Z"
   },
   {
    "duration": 51,
    "start_time": "2021-08-25T02:06:19.203Z"
   },
   {
    "duration": 3762,
    "start_time": "2021-08-25T02:25:02.271Z"
   },
   {
    "duration": 2619,
    "start_time": "2021-08-25T02:26:01.625Z"
   },
   {
    "duration": 4418,
    "start_time": "2021-08-25T02:47:04.770Z"
   },
   {
    "duration": 2706,
    "start_time": "2021-08-25T02:47:29.802Z"
   },
   {
    "duration": 2815,
    "start_time": "2021-08-25T02:47:43.742Z"
   },
   {
    "duration": 2702,
    "start_time": "2021-08-25T02:47:51.775Z"
   },
   {
    "duration": 2906,
    "start_time": "2021-08-25T02:48:03.274Z"
   },
   {
    "duration": 144,
    "start_time": "2021-08-25T02:55:38.452Z"
   },
   {
    "duration": 127,
    "start_time": "2021-08-25T02:56:46.606Z"
   },
   {
    "duration": 44,
    "start_time": "2021-08-25T02:57:01.459Z"
   },
   {
    "duration": 44,
    "start_time": "2021-08-25T02:58:38.425Z"
   },
   {
    "duration": 396,
    "start_time": "2021-08-25T02:59:17.693Z"
   },
   {
    "duration": 124,
    "start_time": "2021-08-25T02:59:25.946Z"
   },
   {
    "duration": 410,
    "start_time": "2021-08-25T03:00:18.894Z"
   },
   {
    "duration": 424,
    "start_time": "2021-08-25T03:00:27.655Z"
   },
   {
    "duration": 121,
    "start_time": "2021-08-25T03:01:47.034Z"
   },
   {
    "duration": 4616,
    "start_time": "2021-08-25T03:02:20.695Z"
   },
   {
    "duration": 41,
    "start_time": "2021-08-25T03:03:20.724Z"
   },
   {
    "duration": 138,
    "start_time": "2021-08-25T03:04:18.471Z"
   },
   {
    "duration": 40,
    "start_time": "2021-08-25T03:04:21.707Z"
   },
   {
    "duration": 40,
    "start_time": "2021-08-25T03:04:30.445Z"
   },
   {
    "duration": 41,
    "start_time": "2021-08-25T03:05:03.885Z"
   },
   {
    "duration": 41,
    "start_time": "2021-08-25T03:05:51.710Z"
   },
   {
    "duration": 42,
    "start_time": "2021-08-25T03:06:41.784Z"
   },
   {
    "duration": 44,
    "start_time": "2021-08-25T03:06:51.310Z"
   },
   {
    "duration": 46,
    "start_time": "2021-08-25T03:06:55.822Z"
   },
   {
    "duration": 3024,
    "start_time": "2021-08-26T06:21:15.943Z"
   },
   {
    "duration": 208,
    "start_time": "2021-08-26T06:21:18.973Z"
   },
   {
    "duration": 162,
    "start_time": "2021-08-26T06:21:19.184Z"
   },
   {
    "duration": 117,
    "start_time": "2021-08-26T06:21:19.348Z"
   },
   {
    "duration": 32,
    "start_time": "2021-08-26T06:21:19.467Z"
   },
   {
    "duration": 61,
    "start_time": "2021-08-26T06:21:19.501Z"
   },
   {
    "duration": 23,
    "start_time": "2021-08-26T06:21:19.565Z"
   },
   {
    "duration": 173,
    "start_time": "2021-08-26T06:21:19.591Z"
   },
   {
    "duration": 88,
    "start_time": "2021-08-26T06:21:19.767Z"
   },
   {
    "duration": 116,
    "start_time": "2021-08-26T06:21:19.858Z"
   },
   {
    "duration": 340,
    "start_time": "2021-08-26T06:21:19.976Z"
   },
   {
    "duration": 16,
    "start_time": "2021-08-26T06:21:20.318Z"
   },
   {
    "duration": 28,
    "start_time": "2021-08-26T06:21:20.336Z"
   },
   {
    "duration": 60,
    "start_time": "2021-08-26T06:21:20.367Z"
   },
   {
    "duration": 49,
    "start_time": "2021-08-26T06:21:20.430Z"
   },
   {
    "duration": 82,
    "start_time": "2021-08-26T06:21:20.483Z"
   },
   {
    "duration": 2693,
    "start_time": "2021-08-26T06:21:20.568Z"
   },
   {
    "duration": 55,
    "start_time": "2021-08-26T06:21:23.264Z"
   },
   {
    "duration": 16,
    "start_time": "2021-08-26T06:21:23.323Z"
   },
   {
    "duration": 85,
    "start_time": "2021-08-26T06:21:23.341Z"
   },
   {
    "duration": 10,
    "start_time": "2021-08-26T06:21:23.428Z"
   },
   {
    "duration": 4697,
    "start_time": "2021-08-26T12:10:02.432Z"
   },
   {
    "duration": 229,
    "start_time": "2021-08-26T12:10:07.132Z"
   },
   {
    "duration": 193,
    "start_time": "2021-08-26T12:10:07.365Z"
   },
   {
    "duration": 124,
    "start_time": "2021-08-26T12:10:07.561Z"
   },
   {
    "duration": 54,
    "start_time": "2021-08-26T12:10:07.688Z"
   },
   {
    "duration": 63,
    "start_time": "2021-08-26T12:10:07.745Z"
   },
   {
    "duration": 26,
    "start_time": "2021-08-26T12:10:07.810Z"
   },
   {
    "duration": 212,
    "start_time": "2021-08-26T12:10:07.840Z"
   },
   {
    "duration": 103,
    "start_time": "2021-08-26T12:10:08.055Z"
   },
   {
    "duration": 134,
    "start_time": "2021-08-26T12:10:08.160Z"
   },
   {
    "duration": 418,
    "start_time": "2021-08-26T12:10:08.297Z"
   },
   {
    "duration": 24,
    "start_time": "2021-08-26T12:10:08.718Z"
   },
   {
    "duration": 35,
    "start_time": "2021-08-26T12:10:08.744Z"
   },
   {
    "duration": 56,
    "start_time": "2021-08-26T12:10:08.782Z"
   },
   {
    "duration": 77,
    "start_time": "2021-08-26T12:10:08.841Z"
   },
   {
    "duration": 57,
    "start_time": "2021-08-26T12:10:08.921Z"
   },
   {
    "duration": 2939,
    "start_time": "2021-08-26T12:10:08.980Z"
   },
   {
    "duration": 55,
    "start_time": "2021-08-26T12:10:11.923Z"
   },
   {
    "duration": 40,
    "start_time": "2021-08-26T12:10:11.981Z"
   },
   {
    "duration": 67,
    "start_time": "2021-08-26T12:10:12.024Z"
   },
   {
    "duration": 27,
    "start_time": "2021-08-26T12:10:12.094Z"
   },
   {
    "duration": 4314,
    "start_time": "2021-08-27T05:25:31.971Z"
   },
   {
    "duration": 147,
    "start_time": "2021-08-27T05:25:36.288Z"
   },
   {
    "duration": 124,
    "start_time": "2021-08-27T05:25:36.441Z"
   },
   {
    "duration": 76,
    "start_time": "2021-08-27T05:25:36.567Z"
   },
   {
    "duration": 25,
    "start_time": "2021-08-27T05:25:36.644Z"
   },
   {
    "duration": 38,
    "start_time": "2021-08-27T05:25:36.670Z"
   },
   {
    "duration": 18,
    "start_time": "2021-08-27T05:25:36.710Z"
   },
   {
    "duration": 130,
    "start_time": "2021-08-27T05:25:36.729Z"
   },
   {
    "duration": 52,
    "start_time": "2021-08-27T05:25:36.861Z"
   },
   {
    "duration": 84,
    "start_time": "2021-08-27T05:25:36.914Z"
   },
   {
    "duration": 182,
    "start_time": "2021-08-27T05:25:37.000Z"
   },
   {
    "duration": 11,
    "start_time": "2021-08-27T05:25:37.183Z"
   },
   {
    "duration": 19,
    "start_time": "2021-08-27T05:25:37.195Z"
   },
   {
    "duration": 32,
    "start_time": "2021-08-27T05:25:37.215Z"
   },
   {
    "duration": 29,
    "start_time": "2021-08-27T05:25:37.248Z"
   },
   {
    "duration": 30,
    "start_time": "2021-08-27T05:25:37.278Z"
   },
   {
    "duration": 1470,
    "start_time": "2021-08-27T05:25:37.309Z"
   },
   {
    "duration": 25,
    "start_time": "2021-08-27T05:25:38.781Z"
   },
   {
    "duration": 14,
    "start_time": "2021-08-27T05:25:38.807Z"
   },
   {
    "duration": 52,
    "start_time": "2021-08-27T05:25:38.822Z"
   },
   {
    "duration": 8,
    "start_time": "2021-08-27T05:25:38.876Z"
   },
   {
    "duration": 3,
    "start_time": "2021-08-27T06:25:29.749Z"
   },
   {
    "duration": 108,
    "start_time": "2021-08-27T06:25:30.137Z"
   },
   {
    "duration": 374,
    "start_time": "2021-08-27T16:30:16.786Z"
   },
   {
    "duration": 5920,
    "start_time": "2021-08-27T16:30:30.989Z"
   },
   {
    "duration": 217,
    "start_time": "2021-08-27T16:30:36.912Z"
   },
   {
    "duration": 190,
    "start_time": "2021-08-27T16:30:37.132Z"
   },
   {
    "duration": 123,
    "start_time": "2021-08-27T16:30:37.325Z"
   },
   {
    "duration": 36,
    "start_time": "2021-08-27T16:30:37.450Z"
   },
   {
    "duration": 47,
    "start_time": "2021-08-27T16:30:37.489Z"
   },
   {
    "duration": 25,
    "start_time": "2021-08-27T16:30:37.538Z"
   },
   {
    "duration": 4,
    "start_time": "2021-08-27T16:30:37.567Z"
   },
   {
    "duration": 206,
    "start_time": "2021-08-27T16:30:37.585Z"
   },
   {
    "duration": 95,
    "start_time": "2021-08-27T16:30:37.796Z"
   },
   {
    "duration": 134,
    "start_time": "2021-08-27T16:30:37.894Z"
   },
   {
    "duration": 341,
    "start_time": "2021-08-27T16:30:38.030Z"
   },
   {
    "duration": 25,
    "start_time": "2021-08-27T16:30:38.374Z"
   },
   {
    "duration": 28,
    "start_time": "2021-08-27T16:30:38.402Z"
   },
   {
    "duration": 59,
    "start_time": "2021-08-27T16:30:38.432Z"
   },
   {
    "duration": 52,
    "start_time": "2021-08-27T16:30:38.494Z"
   },
   {
    "duration": 80,
    "start_time": "2021-08-27T16:30:38.548Z"
   },
   {
    "duration": 2685,
    "start_time": "2021-08-27T16:30:38.630Z"
   },
   {
    "duration": 39,
    "start_time": "2021-08-27T16:30:41.317Z"
   },
   {
    "duration": 34,
    "start_time": "2021-08-27T16:30:41.359Z"
   },
   {
    "duration": 70,
    "start_time": "2021-08-27T16:30:41.399Z"
   },
   {
    "duration": 19,
    "start_time": "2021-08-27T16:30:41.471Z"
   },
   {
    "duration": 380,
    "start_time": "2021-08-27T16:35:57.420Z"
   },
   {
    "duration": 3021,
    "start_time": "2021-08-27T16:36:18.376Z"
   },
   {
    "duration": 2838,
    "start_time": "2021-08-27T16:36:35.383Z"
   },
   {
    "duration": 3407,
    "start_time": "2021-08-27T16:36:53.222Z"
   },
   {
    "duration": 2633,
    "start_time": "2021-08-27T16:37:45.241Z"
   },
   {
    "duration": 179,
    "start_time": "2021-08-27T16:37:56.676Z"
   },
   {
    "duration": 3554,
    "start_time": "2021-08-27T16:38:04.113Z"
   },
   {
    "duration": 21,
    "start_time": "2021-08-27T16:38:17.490Z"
   },
   {
    "duration": 27,
    "start_time": "2021-08-27T16:38:46.612Z"
   },
   {
    "duration": 1017,
    "start_time": "2021-08-27T16:39:03.722Z"
   },
   {
    "duration": 258,
    "start_time": "2021-08-27T16:39:16.628Z"
   },
   {
    "duration": 116,
    "start_time": "2021-08-27T16:40:31.956Z"
   },
   {
    "duration": 89,
    "start_time": "2021-08-27T16:40:47.411Z"
   },
   {
    "duration": 106,
    "start_time": "2021-08-27T16:40:51.459Z"
   },
   {
    "duration": 80,
    "start_time": "2021-08-27T16:41:06.651Z"
   },
   {
    "duration": 319,
    "start_time": "2021-08-27T16:41:42.690Z"
   },
   {
    "duration": 15,
    "start_time": "2021-08-27T16:41:56.405Z"
   },
   {
    "duration": 19,
    "start_time": "2021-08-27T16:43:15.246Z"
   },
   {
    "duration": 16,
    "start_time": "2021-08-27T16:43:31.307Z"
   },
   {
    "duration": 10,
    "start_time": "2021-08-27T16:44:08.366Z"
   },
   {
    "duration": 5375,
    "start_time": "2021-08-27T16:45:05.324Z"
   },
   {
    "duration": 217,
    "start_time": "2021-08-27T16:45:10.702Z"
   },
   {
    "duration": 209,
    "start_time": "2021-08-27T16:45:10.922Z"
   },
   {
    "duration": 109,
    "start_time": "2021-08-27T16:45:11.134Z"
   },
   {
    "duration": 40,
    "start_time": "2021-08-27T16:45:11.246Z"
   },
   {
    "duration": 45,
    "start_time": "2021-08-27T16:45:11.289Z"
   },
   {
    "duration": 25,
    "start_time": "2021-08-27T16:45:11.337Z"
   },
   {
    "duration": 3,
    "start_time": "2021-08-27T16:45:11.382Z"
   },
   {
    "duration": 204,
    "start_time": "2021-08-27T16:45:11.388Z"
   },
   {
    "duration": 89,
    "start_time": "2021-08-27T16:45:11.595Z"
   },
   {
    "duration": 118,
    "start_time": "2021-08-27T16:45:11.687Z"
   },
   {
    "duration": 340,
    "start_time": "2021-08-27T16:45:11.808Z"
   },
   {
    "duration": 16,
    "start_time": "2021-08-27T16:45:12.150Z"
   },
   {
    "duration": 28,
    "start_time": "2021-08-27T16:45:12.183Z"
   },
   {
    "duration": 24,
    "start_time": "2021-08-27T16:45:12.213Z"
   },
   {
    "duration": 79,
    "start_time": "2021-08-27T16:45:12.240Z"
   },
   {
    "duration": 46,
    "start_time": "2021-08-27T16:45:12.322Z"
   },
   {
    "duration": 2527,
    "start_time": "2021-08-27T16:45:12.383Z"
   },
   {
    "duration": 39,
    "start_time": "2021-08-27T16:45:14.912Z"
   },
   {
    "duration": 45,
    "start_time": "2021-08-27T16:45:14.954Z"
   },
   {
    "duration": 14,
    "start_time": "2021-08-27T16:45:15.002Z"
   },
   {
    "duration": 92,
    "start_time": "2021-08-27T16:45:15.018Z"
   },
   {
    "duration": 9,
    "start_time": "2021-08-27T16:45:15.114Z"
   },
   {
    "duration": 10,
    "start_time": "2021-08-27T16:52:08.177Z"
   },
   {
    "duration": 5966,
    "start_time": "2021-08-28T16:00:07.802Z"
   },
   {
    "duration": 212,
    "start_time": "2021-08-28T16:00:13.771Z"
   },
   {
    "duration": 159,
    "start_time": "2021-08-28T16:00:13.986Z"
   },
   {
    "duration": 119,
    "start_time": "2021-08-28T16:00:14.148Z"
   },
   {
    "duration": 35,
    "start_time": "2021-08-28T16:00:14.269Z"
   },
   {
    "duration": 47,
    "start_time": "2021-08-28T16:00:14.307Z"
   },
   {
    "duration": 10,
    "start_time": "2021-08-28T16:00:14.356Z"
   },
   {
    "duration": 3,
    "start_time": "2021-08-28T16:00:14.383Z"
   },
   {
    "duration": 168,
    "start_time": "2021-08-28T16:00:14.389Z"
   },
   {
    "duration": 94,
    "start_time": "2021-08-28T16:00:14.559Z"
   },
   {
    "duration": 131,
    "start_time": "2021-08-28T16:00:14.656Z"
   },
   {
    "duration": 225,
    "start_time": "2021-08-28T16:00:14.790Z"
   },
   {
    "duration": 21,
    "start_time": "2021-08-28T16:00:15.018Z"
   },
   {
    "duration": 55,
    "start_time": "2021-08-28T16:00:15.042Z"
   },
   {
    "duration": 22,
    "start_time": "2021-08-28T16:00:15.099Z"
   },
   {
    "duration": 61,
    "start_time": "2021-08-28T16:00:15.123Z"
   },
   {
    "duration": 48,
    "start_time": "2021-08-28T16:00:15.187Z"
   },
   {
    "duration": 2608,
    "start_time": "2021-08-28T16:00:15.237Z"
   },
   {
    "duration": 41,
    "start_time": "2021-08-28T16:00:17.848Z"
   },
   {
    "duration": 49,
    "start_time": "2021-08-28T16:00:17.892Z"
   },
   {
    "duration": 35,
    "start_time": "2021-08-28T16:00:17.944Z"
   },
   {
    "duration": 42,
    "start_time": "2021-08-28T16:00:17.981Z"
   },
   {
    "duration": 10,
    "start_time": "2021-08-28T16:00:18.027Z"
   }
  ],
  "kernelspec": {
   "display_name": "Python 3 (ipykernel)",
   "language": "python",
   "name": "python3"
  },
  "language_info": {
   "codemirror_mode": {
    "name": "ipython",
    "version": 3
   },
   "file_extension": ".py",
   "mimetype": "text/x-python",
   "name": "python",
   "nbconvert_exporter": "python",
   "pygments_lexer": "ipython3",
   "version": "3.8.8"
  },
  "toc": {
   "base_numbering": 1,
   "nav_menu": {},
   "number_sections": true,
   "sideBar": true,
   "skip_h1_title": true,
   "title_cell": "Table of Contents",
   "title_sidebar": "Contents",
   "toc_cell": false,
   "toc_position": {},
   "toc_section_display": true,
   "toc_window_display": false
  },
  "varInspector": {
   "cols": {
    "lenName": 16,
    "lenType": 16,
    "lenVar": 40
   },
   "kernels_config": {
    "python": {
     "delete_cmd_postfix": "",
     "delete_cmd_prefix": "del ",
     "library": "var_list.py",
     "varRefreshCmd": "print(var_dic_list())"
    },
    "r": {
     "delete_cmd_postfix": ") ",
     "delete_cmd_prefix": "rm(",
     "library": "var_list.r",
     "varRefreshCmd": "cat(var_dic_list()) "
    }
   },
   "types_to_exclude": [
    "module",
    "function",
    "builtin_function_or_method",
    "instance",
    "_Feature"
   ],
   "window_display": false
  }
 },
 "nbformat": 4,
 "nbformat_minor": 2
}
