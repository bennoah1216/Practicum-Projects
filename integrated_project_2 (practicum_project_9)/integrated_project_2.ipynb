{
 "cells": [
  {
   "cell_type": "markdown",
   "metadata": {},
   "source": [
    "<div class=\"alert alert-success\">\n",
    "<b>Reviewer's comment V2</b>\n",
    "\t  \n",
    "Thank you for taking the time to improve the project! It is accepted now, and you can move on to the next sprint. Keep up the good work! :)\n",
    "\t  \n",
    "</div>"
   ]
  },
  {
   "cell_type": "markdown",
   "metadata": {},
   "source": [
    "**Review**\n",
    "\t  \n",
    "Hi, my name is Dmitry and I will be reviewing your project.\n",
    "  \n",
    "You can find my comments in colored markdown cells:\n",
    "  \n",
    "<div class=\"alert alert-success\">\n",
    "  If everything is done successfully.\n",
    "</div>\n",
    "  \n",
    "<div class=\"alert alert-warning\">\n",
    "  If I have some (optional) suggestions, or questions to think about, or general comments.\n",
    "</div>\n",
    "  \n",
    "<div class=\"alert alert-danger\">\n",
    "  If a section requires some corrections. Work can't be accepted with red comments.\n",
    "</div>\n",
    "  \n",
    "Please don't remove my comments, as it will make further review iterations much harder for me.\n",
    "  \n",
    "Feel free to reply to my comments or ask questions using the following template:\n",
    "  \n",
    "<div class=\"alert alert-info\">\n",
    "  For your comments and questions.\n",
    "</div>\n",
    "  \n",
    "First of all, thank you for turning in the project! You did a great job overall, there are only a couple of small problems that need to be fixed before the project is accepted. It should be pretty straightforward though!"
   ]
  },
  {
   "cell_type": "markdown",
   "metadata": {},
   "source": [
    "# Project Description"
   ]
  },
  {
   "cell_type": "markdown",
   "metadata": {},
   "source": [
    "Prepare a prototype of a machine learning model for Zyfra. The company develops efficiency solutions for heavy industry.\n",
    "The model should predict the amount of gold recovered from gold ore. You have the data on extraction and purification.\n",
    "The model will help to optimize the production and eliminate unprofitable parameters."
   ]
  },
  {
   "cell_type": "markdown",
   "metadata": {},
   "source": [
    "## Import Packages"
   ]
  },
  {
   "cell_type": "code",
   "execution_count": 1,
   "metadata": {},
   "outputs": [
    {
     "name": "stdout",
     "output_type": "stream",
     "text": [
      "Defaulting to user installation because normal site-packages is not writeable\n",
      "Collecting scikit-learn==0.24.1\n",
      "  Downloading scikit_learn-0.24.1-cp37-cp37m-manylinux2010_x86_64.whl (22.3 MB)\n",
      "\u001b[K     |████████████████████████████████| 22.3 MB 1.0 MB/s eta 0:00:01\n",
      "\u001b[?25hCollecting threadpoolctl>=2.0.0\n",
      "  Downloading threadpoolctl-3.0.0-py3-none-any.whl (14 kB)\n",
      "Requirement already satisfied: joblib>=0.11 in /opt/conda/lib/python3.7/site-packages (from scikit-learn==0.24.1) (1.0.1)\n",
      "Requirement already satisfied: numpy>=1.13.3 in /opt/conda/lib/python3.7/site-packages (from scikit-learn==0.24.1) (1.19.5)\n",
      "Requirement already satisfied: scipy>=0.19.1 in /opt/conda/lib/python3.7/site-packages (from scikit-learn==0.24.1) (1.4.1)\n",
      "Installing collected packages: threadpoolctl, scikit-learn\n",
      "Successfully installed scikit-learn-0.24.1 threadpoolctl-3.0.0\n",
      "Defaulting to user installation because normal site-packages is not writeable\n",
      "Collecting missingno\n",
      "  Downloading missingno-0.5.0-py3-none-any.whl (8.8 kB)\n",
      "Requirement already satisfied: matplotlib in /opt/conda/lib/python3.7/site-packages (from missingno) (3.1.0)\n",
      "Requirement already satisfied: scipy in /opt/conda/lib/python3.7/site-packages (from missingno) (1.4.1)\n",
      "Requirement already satisfied: seaborn in /opt/conda/lib/python3.7/site-packages (from missingno) (0.9.0)\n",
      "Requirement already satisfied: numpy in /opt/conda/lib/python3.7/site-packages (from missingno) (1.19.5)\n",
      "Requirement already satisfied: cycler>=0.10 in /opt/conda/lib/python3.7/site-packages (from matplotlib->missingno) (0.10.0)\n",
      "Requirement already satisfied: python-dateutil>=2.1 in /opt/conda/lib/python3.7/site-packages (from matplotlib->missingno) (2.8.1)\n",
      "Requirement already satisfied: pyparsing!=2.0.4,!=2.1.2,!=2.1.6,>=2.0.1 in /opt/conda/lib/python3.7/site-packages (from matplotlib->missingno) (2.4.7)\n",
      "Requirement already satisfied: kiwisolver>=1.0.1 in /opt/conda/lib/python3.7/site-packages (from matplotlib->missingno) (1.3.1)\n",
      "Requirement already satisfied: pandas>=0.15.2 in /opt/conda/lib/python3.7/site-packages (from seaborn->missingno) (0.25.1)\n",
      "Requirement already satisfied: six in /opt/conda/lib/python3.7/site-packages (from cycler>=0.10->matplotlib->missingno) (1.15.0)\n",
      "Requirement already satisfied: pytz>=2017.2 in /opt/conda/lib/python3.7/site-packages (from pandas>=0.15.2->seaborn->missingno) (2021.1)\n",
      "Installing collected packages: missingno\n",
      "Successfully installed missingno-0.5.0\n",
      "Defaulting to user installation because normal site-packages is not writeable\n",
      "Collecting pyod\n",
      "  Downloading pyod-0.9.5.tar.gz (113 kB)\n",
      "\u001b[K     |████████████████████████████████| 113 kB 1.1 MB/s eta 0:00:01\n",
      "\u001b[?25hRequirement already satisfied, skipping upgrade: joblib in /opt/conda/lib/python3.7/site-packages (from pyod) (1.0.1)\n",
      "Requirement already satisfied, skipping upgrade: matplotlib in /opt/conda/lib/python3.7/site-packages (from pyod) (3.1.0)\n",
      "Requirement already satisfied, skipping upgrade: numpy>=1.13 in /opt/conda/lib/python3.7/site-packages (from pyod) (1.19.5)\n",
      "Requirement already satisfied, skipping upgrade: numba>=0.35 in /opt/conda/lib/python3.7/site-packages (from pyod) (0.53.1)\n",
      "Requirement already satisfied, skipping upgrade: scipy>=1.3.1 in /opt/conda/lib/python3.7/site-packages (from pyod) (1.4.1)\n",
      "Requirement already satisfied, skipping upgrade: scikit_learn>=0.20.0 in /home/jovyan/.local/lib/python3.7/site-packages (from pyod) (0.24.1)\n",
      "Requirement already satisfied, skipping upgrade: six in /opt/conda/lib/python3.7/site-packages (from pyod) (1.15.0)\n",
      "Requirement already satisfied, skipping upgrade: statsmodels in /opt/conda/lib/python3.7/site-packages (from pyod) (0.10.1)\n",
      "Requirement already satisfied, skipping upgrade: pyparsing!=2.0.4,!=2.1.2,!=2.1.6,>=2.0.1 in /opt/conda/lib/python3.7/site-packages (from matplotlib->pyod) (2.4.7)\n",
      "Requirement already satisfied, skipping upgrade: cycler>=0.10 in /opt/conda/lib/python3.7/site-packages (from matplotlib->pyod) (0.10.0)\n",
      "Requirement already satisfied, skipping upgrade: python-dateutil>=2.1 in /opt/conda/lib/python3.7/site-packages (from matplotlib->pyod) (2.8.1)\n",
      "Requirement already satisfied, skipping upgrade: kiwisolver>=1.0.1 in /opt/conda/lib/python3.7/site-packages (from matplotlib->pyod) (1.3.1)\n",
      "Requirement already satisfied, skipping upgrade: setuptools in /opt/conda/lib/python3.7/site-packages (from numba>=0.35->pyod) (49.6.0.post20210108)\n",
      "Requirement already satisfied, skipping upgrade: llvmlite<0.37,>=0.36.0rc1 in /opt/conda/lib/python3.7/site-packages (from numba>=0.35->pyod) (0.36.0)\n",
      "Requirement already satisfied, skipping upgrade: threadpoolctl>=2.0.0 in /home/jovyan/.local/lib/python3.7/site-packages (from scikit_learn>=0.20.0->pyod) (3.0.0)\n",
      "Requirement already satisfied, skipping upgrade: pandas>=0.19 in /opt/conda/lib/python3.7/site-packages (from statsmodels->pyod) (0.25.1)\n",
      "Requirement already satisfied, skipping upgrade: patsy>=0.4.0 in /opt/conda/lib/python3.7/site-packages (from statsmodels->pyod) (0.5.1)\n",
      "Requirement already satisfied, skipping upgrade: pytz>=2017.2 in /opt/conda/lib/python3.7/site-packages (from pandas>=0.19->statsmodels->pyod) (2021.1)\n",
      "Building wheels for collected packages: pyod\n",
      "  Building wheel for pyod (setup.py) ... \u001b[?25ldone\n",
      "\u001b[?25h  Created wheel for pyod: filename=pyod-0.9.5-py3-none-any.whl size=132697 sha256=36ca0dc7133471a05828fda3e9360478c23cf6a786f511d152f0138224b946c1\n",
      "  Stored in directory: /home/jovyan/.cache/pip/wheels/3d/bb/b7/62b60fb451b33b0df1ab8006697fba7a6a49709a629055cf77\n",
      "Successfully built pyod\n",
      "Installing collected packages: pyod\n",
      "Successfully installed pyod-0.9.5\n",
      "Defaulting to user installation because normal site-packages is not writeable\n",
      "Collecting seaborn==0.11.2\n",
      "  Downloading seaborn-0.11.2-py3-none-any.whl (292 kB)\n",
      "\u001b[K     |████████████████████████████████| 292 kB 1.1 MB/s eta 0:00:01\n",
      "\u001b[?25hRequirement already satisfied: pandas>=0.23 in /opt/conda/lib/python3.7/site-packages (from seaborn==0.11.2) (0.25.1)\n",
      "Requirement already satisfied: numpy>=1.15 in /opt/conda/lib/python3.7/site-packages (from seaborn==0.11.2) (1.19.5)\n",
      "Requirement already satisfied: matplotlib>=2.2 in /opt/conda/lib/python3.7/site-packages (from seaborn==0.11.2) (3.1.0)\n",
      "Requirement already satisfied: scipy>=1.0 in /opt/conda/lib/python3.7/site-packages (from seaborn==0.11.2) (1.4.1)\n",
      "Requirement already satisfied: python-dateutil>=2.6.1 in /opt/conda/lib/python3.7/site-packages (from pandas>=0.23->seaborn==0.11.2) (2.8.1)\n",
      "Requirement already satisfied: pytz>=2017.2 in /opt/conda/lib/python3.7/site-packages (from pandas>=0.23->seaborn==0.11.2) (2021.1)\n",
      "Requirement already satisfied: kiwisolver>=1.0.1 in /opt/conda/lib/python3.7/site-packages (from matplotlib>=2.2->seaborn==0.11.2) (1.3.1)\n",
      "Requirement already satisfied: cycler>=0.10 in /opt/conda/lib/python3.7/site-packages (from matplotlib>=2.2->seaborn==0.11.2) (0.10.0)\n",
      "Requirement already satisfied: pyparsing!=2.0.4,!=2.1.2,!=2.1.6,>=2.0.1 in /opt/conda/lib/python3.7/site-packages (from matplotlib>=2.2->seaborn==0.11.2) (2.4.7)\n",
      "Requirement already satisfied: six>=1.5 in /opt/conda/lib/python3.7/site-packages (from python-dateutil>=2.6.1->pandas>=0.23->seaborn==0.11.2) (1.15.0)\n",
      "Installing collected packages: seaborn\n",
      "Successfully installed seaborn-0.11.2\n",
      "Defaulting to user installation because normal site-packages is not writeable\n",
      "Collecting matplotlib==3.4.3\n",
      "  Downloading matplotlib-3.4.3-cp37-cp37m-manylinux1_x86_64.whl (10.3 MB)\n",
      "\u001b[K     |████████████████████████████████| 10.3 MB 1.1 MB/s eta 0:00:01\n",
      "\u001b[?25hRequirement already satisfied: pillow>=6.2.0 in /opt/conda/lib/python3.7/site-packages (from matplotlib==3.4.3) (7.0.0)\n",
      "Requirement already satisfied: cycler>=0.10 in /opt/conda/lib/python3.7/site-packages (from matplotlib==3.4.3) (0.10.0)\n",
      "Requirement already satisfied: python-dateutil>=2.7 in /opt/conda/lib/python3.7/site-packages (from matplotlib==3.4.3) (2.8.1)\n",
      "Requirement already satisfied: pyparsing>=2.2.1 in /opt/conda/lib/python3.7/site-packages (from matplotlib==3.4.3) (2.4.7)\n",
      "Requirement already satisfied: numpy>=1.16 in /opt/conda/lib/python3.7/site-packages (from matplotlib==3.4.3) (1.19.5)\n",
      "Requirement already satisfied: kiwisolver>=1.0.1 in /opt/conda/lib/python3.7/site-packages (from matplotlib==3.4.3) (1.3.1)\n",
      "Requirement already satisfied: six in /opt/conda/lib/python3.7/site-packages (from cycler>=0.10->matplotlib==3.4.3) (1.15.0)\n"
     ]
    },
    {
     "name": "stdout",
     "output_type": "stream",
     "text": [
      "Installing collected packages: matplotlib\n",
      "Successfully installed matplotlib-3.4.3\n",
      "Defaulting to user installation because normal site-packages is not writeable\n",
      "Collecting optuna\n",
      "  Downloading optuna-2.10.0-py3-none-any.whl (308 kB)\n",
      "\u001b[K     |████████████████████████████████| 308 kB 1.2 MB/s eta 0:00:01\n",
      "\u001b[?25hRequirement already satisfied: PyYAML in /opt/conda/lib/python3.7/site-packages (from optuna) (5.4.1)\n",
      "Requirement already satisfied: packaging>=20.0 in /opt/conda/lib/python3.7/site-packages (from optuna) (20.4)\n",
      "Requirement already satisfied: alembic in /opt/conda/lib/python3.7/site-packages (from optuna) (1.4.3)\n",
      "Requirement already satisfied: scipy!=1.4.0 in /opt/conda/lib/python3.7/site-packages (from optuna) (1.4.1)\n",
      "Requirement already satisfied: numpy in /opt/conda/lib/python3.7/site-packages (from optuna) (1.19.5)\n",
      "Collecting cliff\n",
      "  Downloading cliff-3.9.0-py3-none-any.whl (80 kB)\n",
      "\u001b[K     |████████████████████████████████| 80 kB 6.0 MB/s  eta 0:00:01\n",
      "\u001b[?25hCollecting cmaes>=0.8.2\n",
      "  Downloading cmaes-0.8.2-py3-none-any.whl (15 kB)\n",
      "Requirement already satisfied: sqlalchemy>=1.1.0 in /opt/conda/lib/python3.7/site-packages (from optuna) (1.3.11)\n",
      "Requirement already satisfied: tqdm in /opt/conda/lib/python3.7/site-packages (from optuna) (4.51.0)\n",
      "Collecting colorlog\n",
      "  Downloading colorlog-6.5.0-py2.py3-none-any.whl (11 kB)\n",
      "Requirement already satisfied: six in /opt/conda/lib/python3.7/site-packages (from packaging>=20.0->optuna) (1.15.0)\n",
      "Requirement already satisfied: pyparsing>=2.0.2 in /opt/conda/lib/python3.7/site-packages (from packaging>=20.0->optuna) (2.4.7)\n",
      "Requirement already satisfied: python-dateutil in /opt/conda/lib/python3.7/site-packages (from alembic->optuna) (2.8.1)\n",
      "Requirement already satisfied: Mako in /opt/conda/lib/python3.7/site-packages (from alembic->optuna) (1.1.3)\n",
      "Requirement already satisfied: python-editor>=0.3 in /opt/conda/lib/python3.7/site-packages (from alembic->optuna) (1.0.4)\n",
      "Collecting PrettyTable>=0.7.2\n",
      "  Downloading prettytable-2.2.1-py3-none-any.whl (23 kB)\n",
      "Collecting cmd2>=1.0.0\n",
      "  Downloading cmd2-2.2.0-py3-none-any.whl (144 kB)\n",
      "\u001b[K     |████████████████████████████████| 144 kB 11.3 MB/s eta 0:00:01\n",
      "\u001b[?25hCollecting stevedore>=2.0.1\n",
      "  Downloading stevedore-3.5.0-py3-none-any.whl (49 kB)\n",
      "\u001b[K     |████████████████████████████████| 49 kB 4.9 MB/s  eta 0:00:01\n",
      "\u001b[?25hCollecting autopage>=0.4.0\n",
      "  Downloading autopage-0.4.0-py3-none-any.whl (20 kB)\n",
      "Collecting pbr!=2.1.0,>=2.0.0\n",
      "  Downloading pbr-5.6.0-py2.py3-none-any.whl (111 kB)\n",
      "\u001b[K     |████████████████████████████████| 111 kB 12.3 MB/s eta 0:00:01\n",
      "\u001b[?25hRequirement already satisfied: MarkupSafe>=0.9.2 in /opt/conda/lib/python3.7/site-packages (from Mako->alembic->optuna) (2.0.1)\n",
      "Requirement already satisfied: importlib-metadata; python_version < \"3.8\" in /opt/conda/lib/python3.7/site-packages (from PrettyTable>=0.7.2->cliff->optuna) (2.0.0)\n",
      "Requirement already satisfied: wcwidth in /opt/conda/lib/python3.7/site-packages (from PrettyTable>=0.7.2->cliff->optuna) (0.2.5)\n",
      "Requirement already satisfied: attrs>=16.3.0 in /opt/conda/lib/python3.7/site-packages (from cmd2>=1.0.0->cliff->optuna) (19.1.0)\n",
      "Collecting typing-extensions; python_version < \"3.8\"\n",
      "  Downloading typing_extensions-3.10.0.2-py3-none-any.whl (26 kB)\n",
      "Collecting colorama>=0.3.7\n",
      "  Downloading colorama-0.4.4-py2.py3-none-any.whl (16 kB)\n",
      "Collecting pyperclip>=1.6\n",
      "  Downloading pyperclip-1.8.2.tar.gz (20 kB)\n",
      "Requirement already satisfied: zipp>=0.5 in /opt/conda/lib/python3.7/site-packages (from importlib-metadata; python_version < \"3.8\"->PrettyTable>=0.7.2->cliff->optuna) (3.4.0)\n",
      "Building wheels for collected packages: pyperclip\n",
      "  Building wheel for pyperclip (setup.py) ... \u001b[?25ldone\n",
      "\u001b[?25h  Created wheel for pyperclip: filename=pyperclip-1.8.2-py3-none-any.whl size=11106 sha256=cd763a91d4cd9766643a836454e344c9c188dcfa853a3408e2ac2326df9d9f95\n",
      "  Stored in directory: /home/jovyan/.cache/pip/wheels/9f/18/84/8f69f8b08169c7bae2dde6bd7daf0c19fca8c8e500ee620a28\n",
      "Successfully built pyperclip\n",
      "Installing collected packages: PrettyTable, typing-extensions, colorama, pyperclip, cmd2, pbr, stevedore, autopage, cliff, cmaes, colorlog, optuna\n",
      "\u001b[33m  WARNING: The script pbr is installed in '/home/jovyan/.local/bin' which is not on PATH.\n",
      "  Consider adding this directory to PATH or, if you prefer to suppress this warning, use --no-warn-script-location.\u001b[0m\n",
      "\u001b[33m  WARNING: The script optuna is installed in '/home/jovyan/.local/bin' which is not on PATH.\n",
      "  Consider adding this directory to PATH or, if you prefer to suppress this warning, use --no-warn-script-location.\u001b[0m\n",
      "Successfully installed PrettyTable-2.2.1 autopage-0.4.0 cliff-3.9.0 cmaes-0.8.2 cmd2-2.2.0 colorama-0.4.4 colorlog-6.5.0 optuna-2.10.0 pbr-5.6.0 pyperclip-1.8.2 stevedore-3.5.0 typing-extensions-3.10.0.2\n",
      "Defaulting to user installation because normal site-packages is not writeable\n",
      "Collecting yellowbrick\n",
      "  Downloading yellowbrick-1.3.post1-py3-none-any.whl (271 kB)\n",
      "\u001b[K     |████████████████████████████████| 271 kB 1.1 MB/s eta 0:00:01\n",
      "\u001b[?25hRequirement already satisfied: numpy<1.20,>=1.16.0 in /opt/conda/lib/python3.7/site-packages (from yellowbrick) (1.19.5)\n",
      "Requirement already satisfied: scipy>=1.0.0 in /opt/conda/lib/python3.7/site-packages (from yellowbrick) (1.4.1)\n",
      "Requirement already satisfied: matplotlib!=3.0.0,>=2.0.2 in /home/jovyan/.local/lib/python3.7/site-packages (from yellowbrick) (3.4.3)\n",
      "Requirement already satisfied: scikit-learn>=0.20 in /home/jovyan/.local/lib/python3.7/site-packages (from yellowbrick) (0.24.1)\n",
      "Requirement already satisfied: cycler>=0.10.0 in /opt/conda/lib/python3.7/site-packages (from yellowbrick) (0.10.0)\n",
      "Requirement already satisfied: pillow>=6.2.0 in /opt/conda/lib/python3.7/site-packages (from matplotlib!=3.0.0,>=2.0.2->yellowbrick) (7.0.0)\n",
      "Requirement already satisfied: pyparsing>=2.2.1 in /opt/conda/lib/python3.7/site-packages (from matplotlib!=3.0.0,>=2.0.2->yellowbrick) (2.4.7)\n",
      "Requirement already satisfied: python-dateutil>=2.7 in /opt/conda/lib/python3.7/site-packages (from matplotlib!=3.0.0,>=2.0.2->yellowbrick) (2.8.1)\n",
      "Requirement already satisfied: kiwisolver>=1.0.1 in /opt/conda/lib/python3.7/site-packages (from matplotlib!=3.0.0,>=2.0.2->yellowbrick) (1.3.1)\n",
      "Requirement already satisfied: threadpoolctl>=2.0.0 in /home/jovyan/.local/lib/python3.7/site-packages (from scikit-learn>=0.20->yellowbrick) (3.0.0)\n",
      "Requirement already satisfied: joblib>=0.11 in /opt/conda/lib/python3.7/site-packages (from scikit-learn>=0.20->yellowbrick) (1.0.1)\n",
      "Requirement already satisfied: six in /opt/conda/lib/python3.7/site-packages (from cycler>=0.10.0->yellowbrick) (1.15.0)\n",
      "Installing collected packages: yellowbrick\n",
      "Successfully installed yellowbrick-1.3.post1\n"
     ]
    }
   ],
   "source": [
    "!pip install scikit-learn==0.24.1\n",
    "!pip install missingno\n",
    "!pip install --upgrade pyod\n",
    "!pip install seaborn==0.11.2\n",
    "!pip install matplotlib==3.4.3\n",
    "!pip install optuna\n",
    "!pip install yellowbrick"
   ]
  },
  {
   "cell_type": "code",
   "execution_count": 38,
   "metadata": {},
   "outputs": [],
   "source": [
    "#import packages\n",
    "#base packages for data analysis\n",
    "import pandas as pd\n",
    "import numpy as np\n",
    "\n",
    "#packages for machine learning \n",
    "import sklearn\n",
    "from sklearn.metrics import mean_absolute_error\n",
    "from sklearn.impute import KNNImputer\n",
    "from sklearn.model_selection import train_test_split\n",
    "from sklearn.multioutput import RegressorChain\n",
    "from sklearn.linear_model import LinearRegression\n",
    "from sklearn.tree import DecisionTreeRegressor\n",
    "from sklearn.ensemble import RandomForestRegressor\n",
    "from sklearn.metrics import make_scorer\n",
    "from sklearn.model_selection import KFold\n",
    "from sklearn.dummy import DummyRegressor\n",
    "from sklearn.model_selection import cross_val_score\n",
    "\n",
    "#packages for cross validation\n",
    "from yellowbrick.model_selection import CVScores\n",
    "\n",
    "#packages for missing values\n",
    "import missingno as msno\n",
    "\n",
    "#packages for graphics\n",
    "import seaborn as sns\n",
    "import matplotlib.pyplot as plt\n",
    "\n",
    "#packages for hyperparameter choice\n",
    "import optuna\n",
    "from optuna.samplers import TPESampler\n",
    "optuna.logging.set_verbosity(optuna.logging.WARNING)\n",
    "from optuna.visualization import plot_optimization_history\n",
    "\n",
    "#other packages\n",
    "import time\n",
    "import warnings\n",
    "warnings.filterwarnings('ignore')"
   ]
  },
  {
   "cell_type": "markdown",
   "metadata": {},
   "source": [
    "### Conclusions"
   ]
  },
  {
   "cell_type": "markdown",
   "metadata": {},
   "source": [
    "I imported:\n",
    "\n",
    "- **pandas**: For data analysis and data manipulation\n",
    "- **numpy**: For scientific computing \n",
    "- **sklearn**: \n",
    "    - **mean_absolute_error**: For measuring the mean absolute error\n",
    "    - **KNNImputer**: For inputing missing values\n",
    "    - **train_test_split**: For splitting data for machine learning \n",
    "    - **RegressorChain**: For running regressions with multiple targets\n",
    "    - **LinearRegression**: For running linear regressions\n",
    "    - **DecisionTreeRegressor**: For running decision tree regressions\n",
    "    - **RandomForestRegressor**: For running random forest regressions\n",
    "    - **make_scorer**: To create a score out of a function\n",
    "    - **KFold**: For choosing the number of cross-validation samples\n",
    "    - **DummyRegressor**: For baseline comparisons\n",
    "- **yellowbrick**:\n",
    "    - **CVScores**: For running cross-vaidation\n",
    "- **missingno**: For missing value visualizations\n",
    "- **seaborn** and **matplotlib.plyplot**: For visualizations\n",
    "- **optuna**: For hyperparameter optimization\n",
    "    - **TPESample**: For replicating hyperparamter optimization results\n",
    "    - **plot_optimization_history**: For hyperparmater optimization visualizations\n",
    "- **time**: To look at the time it takes to complete tasks\n",
    "- **warnings**: To remove warnings for results"
   ]
  },
  {
   "cell_type": "markdown",
   "metadata": {},
   "source": [
    "## Data Preprocessing"
   ]
  },
  {
   "cell_type": "markdown",
   "metadata": {},
   "source": [
    "### Download The Data"
   ]
  },
  {
   "cell_type": "code",
   "execution_count": 3,
   "metadata": {},
   "outputs": [],
   "source": [
    "#import training data\n",
    "try:\n",
    "    train = pd.read_csv('gold_recovery_train.csv')\n",
    "except:\n",
    "    train = pd.read_csv('/datasets/gold_recovery_train.csv')\n",
    "#import testing data\n",
    "try:\n",
    "    test = pd.read_csv('gold_recovery_test.csv')\n",
    "except:\n",
    "    test = pd.read_csv('/datasets/gold_recovery_test.csv')\n",
    "#import full data\n",
    "try:\n",
    "    full = pd.read_csv('gold_recovery_full.csv')\n",
    "except:\n",
    "    full = pd.read_csv('/datasets/gold_recovery_full.csv')"
   ]
  },
  {
   "cell_type": "markdown",
   "metadata": {},
   "source": [
    "### Convert Dates"
   ]
  },
  {
   "cell_type": "code",
   "execution_count": 4,
   "metadata": {},
   "outputs": [],
   "source": [
    "#convert dates to datetime\n",
    "full['date'] = pd.to_datetime(full['date'], format='%Y-%m-%d %H:%M:%S')\n",
    "test['date'] = pd.to_datetime(test['date'], format='%Y-%m-%d %H:%M:%S')\n",
    "train['date'] = pd.to_datetime(train['date'], format='%Y-%m-%d %H:%M:%S')"
   ]
  },
  {
   "cell_type": "markdown",
   "metadata": {},
   "source": [
    "### Check Recovery Calculation"
   ]
  },
  {
   "cell_type": "code",
   "execution_count": 5,
   "metadata": {},
   "outputs": [
    {
     "name": "stdout",
     "output_type": "stream",
     "text": [
      "The mean absolute error between the caclulated and the reported recovery of gold is 9.444891926100695e-15\n"
     ]
    }
   ],
   "source": [
    "#recovery calculation\n",
    "train['recovery_calc'] = ((train['rougher.output.concentrate_au'] * (train['rougher.input.feed_au']-train['rougher.output.tail_au'])) / (train['rougher.input.feed_au'] * (train['rougher.output.concentrate_au']-train['rougher.output.tail_au'])))*100\n",
    "#dropping rows with missing values for recovery\n",
    "train_MAE = train.dropna(axis='index', subset=['rougher.output.recovery'])\n",
    "#calculating the MAE\n",
    "MAE = mean_absolute_error(train_MAE['recovery_calc'], train_MAE['rougher.output.recovery'])\n",
    "#dropping recovery_calc for the future\n",
    "train.drop('recovery_calc',axis=1,inplace=True)\n",
    "print('The mean absolute error between the caclulated and the reported recovery of gold is', MAE)"
   ]
  },
  {
   "cell_type": "markdown",
   "metadata": {},
   "source": [
    "#### Conclusions"
   ]
  },
  {
   "cell_type": "markdown",
   "metadata": {},
   "source": [
    "In this section I calculated the recovery of gold using the formula provided and then, using the mean absolute error, compared the values to the provided recovery of gold in the training dataset. As seen above, the mean absolute error was incredibly small, which lets us know we do not have an issue with the recoveries provided in the data. "
   ]
  },
  {
   "cell_type": "markdown",
   "metadata": {},
   "source": [
    "<div class=\"alert alert-success\">\n",
    "<b>Reviewer's comment</b>\n",
    "\t  \n",
    "Recovery data was validated successfully!\n",
    "\t  \n",
    "</div>"
   ]
  },
  {
   "cell_type": "markdown",
   "metadata": {},
   "source": [
    "### Analyzing Variables Not In Test Set"
   ]
  },
  {
   "cell_type": "code",
   "execution_count": 6,
   "metadata": {},
   "outputs": [
    {
     "name": "stdout",
     "output_type": "stream",
     "text": [
      "<class 'pandas.core.frame.DataFrame'>\n",
      "RangeIndex: 16860 entries, 0 to 16859\n",
      "Data columns (total 34 columns):\n",
      "final.output.concentrate_ag                           16788 non-null float64\n",
      "final.output.concentrate_pb                           16788 non-null float64\n",
      "final.output.concentrate_sol                          16490 non-null float64\n",
      "final.output.concentrate_au                           16789 non-null float64\n",
      "final.output.recovery                                 15339 non-null float64\n",
      "final.output.tail_ag                                  16794 non-null float64\n",
      "final.output.tail_pb                                  16677 non-null float64\n",
      "final.output.tail_sol                                 16715 non-null float64\n",
      "final.output.tail_au                                  16794 non-null float64\n",
      "primary_cleaner.output.concentrate_ag                 16778 non-null float64\n",
      "primary_cleaner.output.concentrate_pb                 16502 non-null float64\n",
      "primary_cleaner.output.concentrate_sol                16224 non-null float64\n",
      "primary_cleaner.output.concentrate_au                 16778 non-null float64\n",
      "primary_cleaner.output.tail_ag                        16777 non-null float64\n",
      "primary_cleaner.output.tail_pb                        16761 non-null float64\n",
      "primary_cleaner.output.tail_sol                       16579 non-null float64\n",
      "primary_cleaner.output.tail_au                        16777 non-null float64\n",
      "rougher.calculation.sulfate_to_au_concentrate         16833 non-null float64\n",
      "rougher.calculation.floatbank10_sulfate_to_au_feed    16833 non-null float64\n",
      "rougher.calculation.floatbank11_sulfate_to_au_feed    16833 non-null float64\n",
      "rougher.calculation.au_pb_ratio                       15618 non-null float64\n",
      "rougher.output.concentrate_ag                         16778 non-null float64\n",
      "rougher.output.concentrate_pb                         16778 non-null float64\n",
      "rougher.output.concentrate_sol                        16698 non-null float64\n",
      "rougher.output.concentrate_au                         16778 non-null float64\n",
      "rougher.output.recovery                               14287 non-null float64\n",
      "rougher.output.tail_ag                                14610 non-null float64\n",
      "rougher.output.tail_pb                                16778 non-null float64\n",
      "rougher.output.tail_sol                               14611 non-null float64\n",
      "rougher.output.tail_au                                14611 non-null float64\n",
      "secondary_cleaner.output.tail_ag                      16776 non-null float64\n",
      "secondary_cleaner.output.tail_pb                      16764 non-null float64\n",
      "secondary_cleaner.output.tail_sol                     14874 non-null float64\n",
      "secondary_cleaner.output.tail_au                      16778 non-null float64\n",
      "dtypes: float64(34)\n",
      "memory usage: 4.4 MB\n"
     ]
    }
   ],
   "source": [
    "#find the variables not in the testing dataset\n",
    "variables = []\n",
    "#for each variable in the training set\n",
    "for x in train.columns:\n",
    "    #if the variable is in the test set\n",
    "    if x in test.columns:\n",
    "        continue\n",
    "    else:\n",
    "        #if the variable is not in the test set, add it to our list of variables\n",
    "        variables.append(x)\n",
    "#look at the info for those variables\n",
    "train[variables].info()"
   ]
  },
  {
   "cell_type": "markdown",
   "metadata": {},
   "source": [
    "#### Conclusions"
   ]
  },
  {
   "cell_type": "markdown",
   "metadata": {},
   "source": [
    "The above variables are missing from the testing dataset. These columns are all outputs and calculations that will only be available after purification is finished. The testing dataset needs to at least have the recovery variables to be able to test our machine learning model, so for that reason, I am going to have to add those variables from the full dataset to the testing dataset."
   ]
  },
  {
   "cell_type": "markdown",
   "metadata": {},
   "source": [
    "<div class=\"alert alert-warning\">\n",
    "<b>Reviewer's comment</b>\n",
    "\t  \n",
    "What do these variables have in common? Well, they are either outputs or calculations based on those outputs. So they can't be accessed before the process is finished, and thus can't be used in our models.\n",
    "    \n",
    "You are right, that we need recovery variables to be able to test the model, but these are targets, so it makes sense.\n",
    "\t  \n",
    "</div>"
   ]
  },
  {
   "cell_type": "markdown",
   "metadata": {},
   "source": [
    "### Missing Values"
   ]
  },
  {
   "cell_type": "markdown",
   "metadata": {},
   "source": [
    "#### Look At Correlation of Missingness"
   ]
  },
  {
   "cell_type": "code",
   "execution_count": 7,
   "metadata": {},
   "outputs": [
    {
     "data": {
      "text/plain": [
       "<AxesSubplot:>"
      ]
     },
     "execution_count": 7,
     "metadata": {},
     "output_type": "execute_result"
    },
    {
     "data": {
      "image/png": "[encoded data removed]",
      "text/plain": [
       "<Figure size 1440x864 with 2 Axes>"
      ]
     },
     "metadata": {},
     "output_type": "display_data"
    }
   ],
   "source": [
    "#find variables with 5% or higher missing rates\n",
    "missing_vars=[]\n",
    "#for each variable in the full dataset\n",
    "for x in full.columns:\n",
    "    #if the variable is missing more than 5% of the time\n",
    "    if full[x].isnull().mean() > 0.05:\n",
    "        #add it to our list of variables\n",
    "        missing_vars.append(x)\n",
    "    else:\n",
    "        continue\n",
    "#look at correlations of missingness of those variables\n",
    "msno.heatmap(full[missing_vars])\n",
    "\n"
   ]
  },
  {
   "cell_type": "markdown",
   "metadata": {},
   "source": [
    "##### Conclusions"
   ]
  },
  {
   "cell_type": "markdown",
   "metadata": {},
   "source": [
    "The variables with missing rates higher than 5% seem to have high positive correlation with each other. This leads me to believe the missing data is not missing completely at random.  "
   ]
  },
  {
   "cell_type": "markdown",
   "metadata": {},
   "source": [
    "#### Impute with KNN"
   ]
  },
  {
   "cell_type": "code",
   "execution_count": 8,
   "metadata": {},
   "outputs": [
    {
     "name": "stdout",
     "output_type": "stream",
     "text": [
      "<class 'pandas.core.frame.DataFrame'>\n",
      "RangeIndex: 22716 entries, 0 to 22715\n",
      "Data columns (total 87 columns):\n",
      "final.output.concentrate_ag                           22716 non-null float64\n",
      "final.output.concentrate_pb                           22716 non-null float64\n",
      "final.output.concentrate_sol                          22716 non-null float64\n",
      "final.output.concentrate_au                           22716 non-null float64\n",
      "final.output.tail_ag                                  22716 non-null float64\n",
      "final.output.tail_pb                                  22716 non-null float64\n",
      "final.output.tail_sol                                 22716 non-null float64\n",
      "final.output.tail_au                                  22716 non-null float64\n",
      "primary_cleaner.input.sulfate                         22716 non-null float64\n",
      "primary_cleaner.input.depressant                      22716 non-null float64\n",
      "primary_cleaner.input.feed_size                       22716 non-null float64\n",
      "primary_cleaner.input.xanthate                        22716 non-null float64\n",
      "primary_cleaner.output.concentrate_ag                 22716 non-null float64\n",
      "primary_cleaner.output.concentrate_pb                 22716 non-null float64\n",
      "primary_cleaner.output.concentrate_sol                22716 non-null float64\n",
      "primary_cleaner.output.concentrate_au                 22716 non-null float64\n",
      "primary_cleaner.output.tail_ag                        22716 non-null float64\n",
      "primary_cleaner.output.tail_pb                        22716 non-null float64\n",
      "primary_cleaner.output.tail_sol                       22716 non-null float64\n",
      "primary_cleaner.output.tail_au                        22716 non-null float64\n",
      "primary_cleaner.state.floatbank8_a_air                22716 non-null float64\n",
      "primary_cleaner.state.floatbank8_a_level              22716 non-null float64\n",
      "primary_cleaner.state.floatbank8_b_air                22716 non-null float64\n",
      "primary_cleaner.state.floatbank8_b_level              22716 non-null float64\n",
      "primary_cleaner.state.floatbank8_c_air                22716 non-null float64\n",
      "primary_cleaner.state.floatbank8_c_level              22716 non-null float64\n",
      "primary_cleaner.state.floatbank8_d_air                22716 non-null float64\n",
      "primary_cleaner.state.floatbank8_d_level              22716 non-null float64\n",
      "rougher.calculation.sulfate_to_au_concentrate         22716 non-null float64\n",
      "rougher.calculation.floatbank10_sulfate_to_au_feed    22716 non-null float64\n",
      "rougher.calculation.floatbank11_sulfate_to_au_feed    22716 non-null float64\n",
      "rougher.calculation.au_pb_ratio                       22716 non-null float64\n",
      "rougher.input.feed_ag                                 22716 non-null float64\n",
      "rougher.input.feed_pb                                 22716 non-null float64\n",
      "rougher.input.feed_rate                               22716 non-null float64\n",
      "rougher.input.feed_size                               22716 non-null float64\n",
      "rougher.input.feed_sol                                22716 non-null float64\n",
      "rougher.input.feed_au                                 22716 non-null float64\n",
      "rougher.input.floatbank10_sulfate                     22716 non-null float64\n",
      "rougher.input.floatbank10_xanthate                    22716 non-null float64\n",
      "rougher.input.floatbank11_sulfate                     22716 non-null float64\n",
      "rougher.input.floatbank11_xanthate                    22716 non-null float64\n",
      "rougher.output.concentrate_ag                         22716 non-null float64\n",
      "rougher.output.concentrate_pb                         22716 non-null float64\n",
      "rougher.output.concentrate_sol                        22716 non-null float64\n",
      "rougher.output.concentrate_au                         22716 non-null float64\n",
      "rougher.output.tail_ag                                22716 non-null float64\n",
      "rougher.output.tail_pb                                22716 non-null float64\n",
      "rougher.output.tail_sol                               22716 non-null float64\n",
      "rougher.output.tail_au                                22716 non-null float64\n",
      "rougher.state.floatbank10_a_air                       22716 non-null float64\n",
      "rougher.state.floatbank10_a_level                     22716 non-null float64\n",
      "rougher.state.floatbank10_b_air                       22716 non-null float64\n",
      "rougher.state.floatbank10_b_level                     22716 non-null float64\n",
      "rougher.state.floatbank10_c_air                       22716 non-null float64\n",
      "rougher.state.floatbank10_c_level                     22716 non-null float64\n",
      "rougher.state.floatbank10_d_air                       22716 non-null float64\n",
      "rougher.state.floatbank10_d_level                     22716 non-null float64\n",
      "rougher.state.floatbank10_e_air                       22716 non-null float64\n",
      "rougher.state.floatbank10_e_level                     22716 non-null float64\n",
      "rougher.state.floatbank10_f_air                       22716 non-null float64\n",
      "rougher.state.floatbank10_f_level                     22716 non-null float64\n",
      "secondary_cleaner.output.tail_ag                      22716 non-null float64\n",
      "secondary_cleaner.output.tail_pb                      22716 non-null float64\n",
      "secondary_cleaner.output.tail_sol                     22716 non-null float64\n",
      "secondary_cleaner.output.tail_au                      22716 non-null float64\n",
      "secondary_cleaner.state.floatbank2_a_air              22716 non-null float64\n",
      "secondary_cleaner.state.floatbank2_a_level            22716 non-null float64\n",
      "secondary_cleaner.state.floatbank2_b_air              22716 non-null float64\n",
      "secondary_cleaner.state.floatbank2_b_level            22716 non-null float64\n",
      "secondary_cleaner.state.floatbank3_a_air              22716 non-null float64\n",
      "secondary_cleaner.state.floatbank3_a_level            22716 non-null float64\n",
      "secondary_cleaner.state.floatbank3_b_air              22716 non-null float64\n",
      "secondary_cleaner.state.floatbank3_b_level            22716 non-null float64\n",
      "secondary_cleaner.state.floatbank4_a_air              22716 non-null float64\n",
      "secondary_cleaner.state.floatbank4_a_level            22716 non-null float64\n",
      "secondary_cleaner.state.floatbank4_b_air              22716 non-null float64\n",
      "secondary_cleaner.state.floatbank4_b_level            22716 non-null float64\n",
      "secondary_cleaner.state.floatbank5_a_air              22716 non-null float64\n",
      "secondary_cleaner.state.floatbank5_a_level            22716 non-null float64\n",
      "secondary_cleaner.state.floatbank5_b_air              22716 non-null float64\n",
      "secondary_cleaner.state.floatbank5_b_level            22716 non-null float64\n",
      "secondary_cleaner.state.floatbank6_a_air              22716 non-null float64\n",
      "secondary_cleaner.state.floatbank6_a_level            22716 non-null float64\n",
      "date                                                  22716 non-null datetime64[ns]\n",
      "final.output.recovery                                 20753 non-null float64\n",
      "rougher.output.recovery                               19597 non-null float64\n",
      "dtypes: datetime64[ns](1), float64(86)\n",
      "memory usage: 15.1 MB\n"
     ]
    }
   ],
   "source": [
    "#fit and transform the data using a KNNImputer\n",
    "full_imp = KNNImputer().fit_transform(full.drop(['date','final.output.recovery','rougher.output.recovery'],axis=1))\n",
    "#turn the results into a dataframe\n",
    "full_imp = pd.DataFrame(full_imp, columns=full.drop(['date','final.output.recovery','rougher.output.recovery'],axis=1).columns)\n",
    "#add date and target variabbles back to the dataframe\n",
    "full_imp['date'] = full['date']\n",
    "full_imp['final.output.recovery'] = full['final.output.recovery']\n",
    "full_imp['rougher.output.recovery'] = full['rougher.output.recovery']\n",
    "#look at the information of the full dataset with imputed values\n",
    "full_imp.info()"
   ]
  },
  {
   "cell_type": "markdown",
   "metadata": {},
   "source": [
    "##### Conclusions"
   ]
  },
  {
   "cell_type": "markdown",
   "metadata": {},
   "source": [
    "In this section I used a K-Nearest Neighbors (KNN) technique to impute the missing values in the full dataset. This technique replaces the missing value with the mean value from the 5 nearest neighbors (by euclidean distance). I used this technique because of the clear dependencies between the missing values seen in section 2.5.1.  "
   ]
  },
  {
   "cell_type": "markdown",
   "metadata": {},
   "source": [
    "<div class=\"alert alert-danger\">\n",
    "<s><b>Reviewer's comment</b>\n",
    "\t  \n",
    "Very good! missing values were imputed using a reasonable method. One small problem: you imputed missing targets as well.\n",
    "\t  \n",
    "</div>"
   ]
  },
  {
   "cell_type": "markdown",
   "metadata": {},
   "source": [
    "<div class=\"alert alert-success\">\n",
    "<b>Reviewer's comment V2</b>\n",
    "\t  \n",
    "Fixed!\n",
    "\t  \n",
    "</div>"
   ]
  },
  {
   "cell_type": "markdown",
   "metadata": {},
   "source": [
    "### Updating Train and Test Datasets"
   ]
  },
  {
   "cell_type": "code",
   "execution_count": 9,
   "metadata": {},
   "outputs": [
    {
     "name": "stdout",
     "output_type": "stream",
     "text": [
      "The number of duplicated dates in the full dataset is 0\n",
      "<class 'pandas.core.frame.DataFrame'>\n",
      "Int64Index: 16860 entries, 0 to 22715\n",
      "Data columns (total 87 columns):\n",
      "date                                                  16860 non-null datetime64[ns]\n",
      "final.output.concentrate_ag                           16860 non-null float64\n",
      "final.output.concentrate_au                           16860 non-null float64\n",
      "final.output.concentrate_pb                           16860 non-null float64\n",
      "final.output.concentrate_sol                          16860 non-null float64\n",
      "final.output.recovery                                 15339 non-null float64\n",
      "final.output.tail_ag                                  16860 non-null float64\n",
      "final.output.tail_au                                  16860 non-null float64\n",
      "final.output.tail_pb                                  16860 non-null float64\n",
      "final.output.tail_sol                                 16860 non-null float64\n",
      "primary_cleaner.input.depressant                      16860 non-null float64\n",
      "primary_cleaner.input.feed_size                       16860 non-null float64\n",
      "primary_cleaner.input.sulfate                         16860 non-null float64\n",
      "primary_cleaner.input.xanthate                        16860 non-null float64\n",
      "primary_cleaner.output.concentrate_ag                 16860 non-null float64\n",
      "primary_cleaner.output.concentrate_au                 16860 non-null float64\n",
      "primary_cleaner.output.concentrate_pb                 16860 non-null float64\n",
      "primary_cleaner.output.concentrate_sol                16860 non-null float64\n",
      "primary_cleaner.output.tail_ag                        16860 non-null float64\n",
      "primary_cleaner.output.tail_au                        16860 non-null float64\n",
      "primary_cleaner.output.tail_pb                        16860 non-null float64\n",
      "primary_cleaner.output.tail_sol                       16860 non-null float64\n",
      "primary_cleaner.state.floatbank8_a_air                16860 non-null float64\n",
      "primary_cleaner.state.floatbank8_a_level              16860 non-null float64\n",
      "primary_cleaner.state.floatbank8_b_air                16860 non-null float64\n",
      "primary_cleaner.state.floatbank8_b_level              16860 non-null float64\n",
      "primary_cleaner.state.floatbank8_c_air                16860 non-null float64\n",
      "primary_cleaner.state.floatbank8_c_level              16860 non-null float64\n",
      "primary_cleaner.state.floatbank8_d_air                16860 non-null float64\n",
      "primary_cleaner.state.floatbank8_d_level              16860 non-null float64\n",
      "rougher.calculation.au_pb_ratio                       16860 non-null float64\n",
      "rougher.calculation.floatbank10_sulfate_to_au_feed    16860 non-null float64\n",
      "rougher.calculation.floatbank11_sulfate_to_au_feed    16860 non-null float64\n",
      "rougher.calculation.sulfate_to_au_concentrate         16860 non-null float64\n",
      "rougher.input.feed_ag                                 16860 non-null float64\n",
      "rougher.input.feed_au                                 16860 non-null float64\n",
      "rougher.input.feed_pb                                 16860 non-null float64\n",
      "rougher.input.feed_rate                               16860 non-null float64\n",
      "rougher.input.feed_size                               16860 non-null float64\n",
      "rougher.input.feed_sol                                16860 non-null float64\n",
      "rougher.input.floatbank10_sulfate                     16860 non-null float64\n",
      "rougher.input.floatbank10_xanthate                    16860 non-null float64\n",
      "rougher.input.floatbank11_sulfate                     16860 non-null float64\n",
      "rougher.input.floatbank11_xanthate                    16860 non-null float64\n",
      "rougher.output.concentrate_ag                         16860 non-null float64\n",
      "rougher.output.concentrate_au                         16860 non-null float64\n",
      "rougher.output.concentrate_pb                         16860 non-null float64\n",
      "rougher.output.concentrate_sol                        16860 non-null float64\n",
      "rougher.output.recovery                               14287 non-null float64\n",
      "rougher.output.tail_ag                                16860 non-null float64\n",
      "rougher.output.tail_au                                16860 non-null float64\n",
      "rougher.output.tail_pb                                16860 non-null float64\n",
      "rougher.output.tail_sol                               16860 non-null float64\n",
      "rougher.state.floatbank10_a_air                       16860 non-null float64\n",
      "rougher.state.floatbank10_a_level                     16860 non-null float64\n",
      "rougher.state.floatbank10_b_air                       16860 non-null float64\n",
      "rougher.state.floatbank10_b_level                     16860 non-null float64\n",
      "rougher.state.floatbank10_c_air                       16860 non-null float64\n",
      "rougher.state.floatbank10_c_level                     16860 non-null float64\n",
      "rougher.state.floatbank10_d_air                       16860 non-null float64\n",
      "rougher.state.floatbank10_d_level                     16860 non-null float64\n",
      "rougher.state.floatbank10_e_air                       16860 non-null float64\n",
      "rougher.state.floatbank10_e_level                     16860 non-null float64\n",
      "rougher.state.floatbank10_f_air                       16860 non-null float64\n",
      "rougher.state.floatbank10_f_level                     16860 non-null float64\n",
      "secondary_cleaner.output.tail_ag                      16860 non-null float64\n",
      "secondary_cleaner.output.tail_au                      16860 non-null float64\n",
      "secondary_cleaner.output.tail_pb                      16860 non-null float64\n",
      "secondary_cleaner.output.tail_sol                     16860 non-null float64\n",
      "secondary_cleaner.state.floatbank2_a_air              16860 non-null float64\n",
      "secondary_cleaner.state.floatbank2_a_level            16860 non-null float64\n",
      "secondary_cleaner.state.floatbank2_b_air              16860 non-null float64\n",
      "secondary_cleaner.state.floatbank2_b_level            16860 non-null float64\n",
      "secondary_cleaner.state.floatbank3_a_air              16860 non-null float64\n",
      "secondary_cleaner.state.floatbank3_a_level            16860 non-null float64\n",
      "secondary_cleaner.state.floatbank3_b_air              16860 non-null float64\n",
      "secondary_cleaner.state.floatbank3_b_level            16860 non-null float64\n",
      "secondary_cleaner.state.floatbank4_a_air              16860 non-null float64\n",
      "secondary_cleaner.state.floatbank4_a_level            16860 non-null float64\n",
      "secondary_cleaner.state.floatbank4_b_air              16860 non-null float64\n",
      "secondary_cleaner.state.floatbank4_b_level            16860 non-null float64\n",
      "secondary_cleaner.state.floatbank5_a_air              16860 non-null float64\n",
      "secondary_cleaner.state.floatbank5_a_level            16860 non-null float64\n",
      "secondary_cleaner.state.floatbank5_b_air              16860 non-null float64\n",
      "secondary_cleaner.state.floatbank5_b_level            16860 non-null float64\n",
      "secondary_cleaner.state.floatbank6_a_air              16860 non-null float64\n",
      "secondary_cleaner.state.floatbank6_a_level            16860 non-null float64\n",
      "dtypes: datetime64[ns](1), float64(86)\n",
      "memory usage: 11.3 MB\n"
     ]
    }
   ],
   "source": [
    "#check for duplicates\n",
    "print('The number of duplicated dates in the full dataset is', full['date'].duplicated().sum())\n",
    "#appending training data to full data\n",
    "full_train = full_imp.append(train,ignore_index=True)\n",
    "#updating the train data by removing rows that are not from the training data then dropping the duplicates\n",
    "train_upd = full_train[full_train.duplicated(subset=['date'],keep='last')]\n",
    "#appending testing data to full data\n",
    "full_test = full_imp.append(test,ignore_index=True)\n",
    "#updating the train data by removing rows that are not from the training data then dropping the duplicates\n",
    "test_upd = full_test[full_test.duplicated(subset=['date'],keep='last')]\n",
    "train_upd.info()"
   ]
  },
  {
   "cell_type": "markdown",
   "metadata": {},
   "source": [
    "#### Conclusions"
   ]
  },
  {
   "cell_type": "markdown",
   "metadata": {},
   "source": [
    "The unique identifier in this dataset is `date`, so I used that to take the newly imputed full dataset and split it by the observations from the original training and testing datasets. "
   ]
  },
  {
   "cell_type": "markdown",
   "metadata": {},
   "source": [
    "<div class=\"alert alert-success\">\n",
    "<b>Reviewer's comment</b>\n",
    "\t  \n",
    "Ok, that works!\n",
    "\t  \n",
    "</div>"
   ]
  },
  {
   "cell_type": "markdown",
   "metadata": {},
   "source": [
    "## Analyze Data"
   ]
  },
  {
   "cell_type": "markdown",
   "metadata": {},
   "source": [
    "### Concentration Change By Purification Stage"
   ]
  },
  {
   "cell_type": "code",
   "execution_count": 10,
   "metadata": {},
   "outputs": [
    {
     "data": {
      "text/plain": [
       "[Text(0, 0, '6.9'), Text(0, 0, '8.8'), Text(0, 0, '9.1')]"
      ]
     },
     "execution_count": 10,
     "metadata": {},
     "output_type": "execute_result"
    },
    {
     "data": {
      "image/png": "[encoded data removed]",
      "text/plain": [
       "<Figure size 407x360 with 1 Axes>"
      ]
     },
     "metadata": {},
     "output_type": "display_data"
    }
   ],
   "source": [
    "#create a dataframe of just the concentrate values\n",
    "concentrates = full_imp[['final.output.concentrate_ag', 'final.output.concentrate_au', 'final.output.concentrate_pb', \n",
    "                         'primary_cleaner.output.concentrate_ag', 'primary_cleaner.output.concentrate_au', 'primary_cleaner.output.concentrate_pb', \n",
    "                         'rougher.output.concentrate_ag', 'rougher.output.concentrate_au', 'rougher.output.concentrate_pb']]\n",
    "\n",
    "concentrates_mean = []\n",
    "#for each variable in the concentrates dataframe\n",
    "for x in concentrates.columns:\n",
    "    #add the mean value for those concentrations to our list\n",
    "    concentrates_mean.append(concentrates[x].mean())\n",
    "#take those mean values and turn it into a dataframe\n",
    "concentrates_mean = pd.DataFrame(concentrates_mean, index = concentrates.columns,columns=['mean'])\n",
    "#add in variables to define the metal and level for each concentration\n",
    "concentrates_mean['Metal'] = ['ag','au','pb','ag','au','pb','ag','au','pb']\n",
    "concentrates_mean['level'] = ['final','final','final','primary','primary','primary','rougher','rougher','rougher']\n",
    "#sort values to put the graph in order of the process\n",
    "concentrates_mean.sort_values(by='level',ascending=False,inplace=True)\n",
    "#create a bar graph\n",
    "g = sns.catplot(\n",
    "    data=concentrates_mean, kind=\"bar\",\n",
    "    x=\"level\", y=\"mean\", hue=\"Metal\",\n",
    "    palette = sns.color_palette(['#C0C0C0','#FFD700','#212121']))\n",
    "#despine the left side, add labels, and add values on top of each bar\n",
    "g.despine(left=True)\n",
    "g.set_axis_labels(\"\", \"Mean Concentration\")\n",
    "ax = g.axes[0, 0]\n",
    "ax.bar_label(ax.containers[0],fmt='%.1f')\n",
    "ax.bar_label(ax.containers[1],fmt='%.1f')\n",
    "ax.bar_label(ax.containers[2],fmt='%.1f')"
   ]
  },
  {
   "cell_type": "markdown",
   "metadata": {},
   "source": [
    "#### Conclusions"
   ]
  },
  {
   "cell_type": "markdown",
   "metadata": {},
   "source": [
    "The graph above shows that as the cleaning process goes on, the concentration of gold increases. This is important to note because this shows the overall value in the process. "
   ]
  },
  {
   "cell_type": "markdown",
   "metadata": {},
   "source": [
    "<div class=\"alert alert-success\">\n",
    "<b>Reviewer's comment</b>\n",
    "\t  \n",
    "Great, so the process is working as expected!\n",
    "\t  \n",
    "</div>"
   ]
  },
  {
   "cell_type": "markdown",
   "metadata": {},
   "source": [
    "### Input Feeds In Training and Testing Data"
   ]
  },
  {
   "cell_type": "code",
   "execution_count": 11,
   "metadata": {},
   "outputs": [
    {
     "data": {
      "image/png": "[encoded data removed]",
      "text/plain": [
       "<Figure size 1440x720 with 4 Axes>"
      ]
     },
     "metadata": {},
     "output_type": "display_data"
    }
   ],
   "source": [
    "#create a graph with two density histograms. The input feed values for the training and the testing datasets.\n",
    "fig,ax = plt.subplots(2,2,figsize=(20, 10))\n",
    "sns.histplot(ax=ax[0,0], data = train_upd['rougher.input.feed_size'], kde=True,stat='density',color='r')\n",
    "sns.histplot(ax=ax[0,1], data = test_upd['rougher.input.feed_size'], kde=True,stat='density')\n",
    "ax[0,0].set_title('Training Data');\n",
    "ax[0,0].set_xlabel('Rougher Input Feed');\n",
    "ax[0,1].set_title('Testing Data');\n",
    "ax[0,1].set_xlabel('Rougher Input Feed');\n",
    "#update the histograms to get a closer look at the distributions\n",
    "sns.histplot(ax=ax[1,0], data = train_upd[train_upd['rougher.input.feed_size']<100]['rougher.input.feed_size'], kde=True,stat='density',color='r')\n",
    "sns.histplot(ax=ax[1,1], data = test_upd[test_upd['rougher.input.feed_size']<100]['rougher.input.feed_size'], kde=True,stat='density')\n",
    "ax[1,0].set_xlabel('Rougher Input Feed');\n",
    "ax[1,1].set_xlabel('Rougher Input Feed');"
   ]
  },
  {
   "cell_type": "markdown",
   "metadata": {},
   "source": [
    "#### Conclusions"
   ]
  },
  {
   "cell_type": "markdown",
   "metadata": {},
   "source": [
    "Looking at these distributions, there are not clear differences between the training and testing data inputs. The training data seems to have a more normal distribution, but I would suspect that is due to the higher number of observations in the dataset. "
   ]
  },
  {
   "cell_type": "markdown",
   "metadata": {},
   "source": [
    "<div class=\"alert alert-warning\">\n",
    "<b>Reviewer's comment</b>\n",
    "\t  \n",
    "Alright! It would be easier to compare two distributions if you put it on the same axis\n",
    "\t  \n",
    "</div>"
   ]
  },
  {
   "cell_type": "markdown",
   "metadata": {},
   "source": [
    "### Total Concentrations By Stage"
   ]
  },
  {
   "cell_type": "code",
   "execution_count": 12,
   "metadata": {},
   "outputs": [],
   "source": [
    "#create 4 variables that sum up the concentration of all metals at each stage of processing\n",
    "full_imp['raw_feed_conc_total'] = full_imp['rougher.input.feed_ag'] + full_imp['rougher.input.feed_au'] + full_imp['rougher.input.feed_pb'] + full_imp['rougher.input.feed_sol'] \n",
    "full_imp['rougher_conc_total'] = full_imp['rougher.output.concentrate_ag'] + full_imp['rougher.output.concentrate_au'] + full_imp['rougher.output.concentrate_pb'] + full_imp['rougher.output.concentrate_sol']\n",
    "full_imp['primary_cleaner_conc_total']= full_imp['primary_cleaner.output.concentrate_ag'] + full_imp['primary_cleaner.output.concentrate_au']  + full_imp['primary_cleaner.output.concentrate_pb'] + full_imp['primary_cleaner.output.concentrate_sol']  \n",
    "full_imp['final_conc_total'] = full_imp['final.output.concentrate_ag'] + full_imp['final.output.concentrate_au'] + full_imp['final.output.concentrate_pb'] + full_imp['final.output.concentrate_sol'] "
   ]
  },
  {
   "cell_type": "code",
   "execution_count": 13,
   "metadata": {},
   "outputs": [
    {
     "data": {
      "image/png": "[encoded data removed]",
      "text/plain": [
       "<Figure size 1440x720 with 4 Axes>"
      ]
     },
     "metadata": {},
     "output_type": "display_data"
    }
   ],
   "source": [
    "#plot the distributions of the concentration of all metals at each stage \n",
    "fig,ax = plt.subplots(2,2,figsize=(20, 10))\n",
    "sns.histplot(ax=ax[0,0], data = full_imp['raw_feed_conc_total'], kde=True,stat='density',color='r')\n",
    "ax[0,0].set_xlabel('Rougher Input Feed');\n",
    "sns.histplot(ax=ax[0,1], data = full_imp['rougher_conc_total'], kde=True,stat='density',color='b')\n",
    "ax[0,1].set_xlabel('Rougher Concentration');\n",
    "sns.histplot(ax=ax[1,0], data = full_imp['primary_cleaner_conc_total'], kde=True,stat='density',color='g')\n",
    "ax[1,0].set_xlabel('Primary Cleaner Concentration');\n",
    "sns.histplot(ax=ax[1,1], data = full_imp['final_conc_total'], kde=True,stat='density',color='m')\n",
    "ax[1,1].set_xlabel('Final Concentration');\n"
   ]
  },
  {
   "cell_type": "code",
   "execution_count": 14,
   "metadata": {},
   "outputs": [
    {
     "data": {
      "image/png": "[encoded data removed]",
      "text/plain": [
       "<Figure size 1440x720 with 4 Axes>"
      ]
     },
     "metadata": {},
     "output_type": "display_data"
    }
   ],
   "source": [
    "#plot the distributions of the concentration of all metals at each stage \n",
    "fig,ax = plt.subplots(2,2,figsize=(20, 10))\n",
    "sns.histplot(ax=ax[0,1], data = full_imp[full_imp['raw_feed_conc_total']==0]['rougher_conc_total'], kde=True,stat='density',color='b')\n",
    "ax[0,1].set_xlabel('Rougher Concentration');\n",
    "sns.histplot(ax=ax[1,0], data = full_imp[full_imp['raw_feed_conc_total']==0]['primary_cleaner_conc_total'], kde=True,stat='density',color='g')\n",
    "ax[1,0].set_xlabel('Primary Cleaner Concentration');\n",
    "sns.histplot(ax=ax[1,1], data = full_imp[full_imp['raw_feed_conc_total']==0]['final_conc_total'], kde=True,stat='density',color='m')\n",
    "ax[1,1].set_xlabel('Final Concentration');"
   ]
  },
  {
   "cell_type": "markdown",
   "metadata": {},
   "source": [
    "#### Conclusions"
   ]
  },
  {
   "cell_type": "markdown",
   "metadata": {},
   "source": [
    "When looking at the total concentration of metals at each stage of the purification process, the density of zero's is surprising. At this point, I would want to discuss this with someone who works on the process to see why this may be the case. Yet, since that is not possible, I looked at the outcomes for each stage when the feed starts with zero metal concentration. Based on the above graph, I think it is fair to say that it will likely lead to zero final concentration, so the best thing for Zyfra to do would be to not process those pieces of ore. For that reason, I am removing those observations from our model."
   ]
  },
  {
   "cell_type": "markdown",
   "metadata": {},
   "source": [
    "#### Total Concetrations by Stage with Observations Removing Zeros"
   ]
  },
  {
   "cell_type": "code",
   "execution_count": 15,
   "metadata": {},
   "outputs": [
    {
     "data": {
      "image/png": "[encoded data removed]",
      "text/plain": [
       "<Figure size 1440x720 with 4 Axes>"
      ]
     },
     "metadata": {},
     "output_type": "display_data"
    }
   ],
   "source": [
    "#drop all observations that have zero concentration at each stage of the process\n",
    "full_imp_drop_zero = full_imp.drop(full_imp[full_imp['raw_feed_conc_total'] == 0].index)\n",
    "\n",
    "fig,ax = plt.subplots(2,2,figsize=(20, 10))\n",
    "sns.histplot(ax=ax[0,0], data = full_imp_drop_zero['raw_feed_conc_total'], kde=True,stat='density',color='r')\n",
    "ax[0,0].set_xlabel('Rougher Input Feed');\n",
    "sns.histplot(ax=ax[0,1], data = full_imp_drop_zero['rougher_conc_total'], kde=True,stat='density',color='b')\n",
    "ax[0,1].set_xlabel('Rougher Concentration');\n",
    "sns.histplot(ax=ax[1,0], data = full_imp_drop_zero['primary_cleaner_conc_total'], kde=True,stat='density',color='g')\n",
    "ax[1,0].set_xlabel('Primary Cleaner Concentration');\n",
    "sns.histplot(ax=ax[1,1], data = full_imp_drop_zero['final_conc_total'], kde=True,stat='density',color='m')\n",
    "ax[1,1].set_xlabel('Final Concentration');"
   ]
  },
  {
   "cell_type": "markdown",
   "metadata": {},
   "source": [
    "#### Conclusions"
   ]
  },
  {
   "cell_type": "markdown",
   "metadata": {},
   "source": [
    "Looking at the updated graphs, the density at zero has decreased dramatically. Still, there is an argument to be made to remove more observations, but I chose to be cautious due to my lack of experience in the field. "
   ]
  },
  {
   "cell_type": "markdown",
   "metadata": {},
   "source": [
    "#### Updating Training and Testing Data"
   ]
  },
  {
   "cell_type": "code",
   "execution_count": 16,
   "metadata": {},
   "outputs": [],
   "source": [
    "#remove from training data\n",
    "train_upd['raw_feed_conc_total'] = train_upd['rougher.input.feed_ag'] + train_upd['rougher.input.feed_au'] + train_upd['rougher.input.feed_pb'] + train_upd['rougher.input.feed_sol'] \n",
    "train_upd_drop_zero = train_upd.drop(train_upd[(train_upd['raw_feed_conc_total'] == 0)].index).reset_index(drop=True)\n",
    "train_upd_drop_zero.drop(['raw_feed_conc_total'],axis=1,inplace=True)\n",
    "\n",
    "#remove from testing data\n",
    "test_upd['raw_feed_conc_total'] = test_upd['rougher.input.feed_ag'] + test_upd['rougher.input.feed_au'] + test_upd['rougher.input.feed_pb'] + test_upd['rougher.input.feed_sol'] \n",
    "test_upd_drop_zero = test_upd.drop(test_upd[(test_upd['raw_feed_conc_total'] == 0)].index).reset_index(drop=True)\n",
    "test_upd_drop_zero.drop(['raw_feed_conc_total'],axis=1,inplace=True)"
   ]
  },
  {
   "cell_type": "markdown",
   "metadata": {},
   "source": [
    "#### Conclusions"
   ]
  },
  {
   "cell_type": "markdown",
   "metadata": {},
   "source": [
    " In this section, I removed the instances where the concentration of metals in the input process was zero from the training and testing datasets."
   ]
  },
  {
   "cell_type": "markdown",
   "metadata": {},
   "source": [
    "<div class=\"alert alert-success\">\n",
    "<b>Reviewer's comment</b>\n",
    "\t  \n",
    "Anomalous values were detected and removed\n",
    "\t  \n",
    "</div>"
   ]
  },
  {
   "cell_type": "markdown",
   "metadata": {},
   "source": [
    "## Building A Model"
   ]
  },
  {
   "cell_type": "markdown",
   "metadata": {},
   "source": [
    "### Create sMAPE Functions"
   ]
  },
  {
   "cell_type": "code",
   "execution_count": 18,
   "metadata": {},
   "outputs": [],
   "source": [
    "def sMAPE_final(y_true,y_pred):\n",
    "    #creating a vector of the sums from the summation for the rougher recovery\n",
    "    sMAPE_rougher = np.abs(y_true.iloc[:,0]-y_pred[:,0])/((np.abs(y_true.iloc[:,0])+np.abs(y_pred[:,0]))/2)\n",
    "    #creating a vector of the sums from the summation for the final recovery\n",
    "    sMAPE_final = np.abs(y_true.iloc[:,1]-y_pred[:,1])/((np.abs(y_true.iloc[:,1])+np.abs(y_pred[:,1]))/2)\n",
    "    #addign up the sums from each recovery stage, dividing by the total number of obsertaions, multiplying by 100 and creating the score using the linear combination provided in the formula\n",
    "    sMAPE_total_score = ((sMAPE_rougher.sum() / len(y_true))*100)*0.25 + ((sMAPE_final.sum() / len(y_true))*100)*0.75\n",
    "    return sMAPE_total_score"
   ]
  },
  {
   "cell_type": "markdown",
   "metadata": {},
   "source": [
    "<div class=\"alert alert-warning\">\n",
    "<s><b>Reviewer's comment</b>\n",
    "\t  \n",
    "SMAPE calculation function is not quite correct: `np.abs(y_true.iloc[:,*]+y_pred[:,*])` should be `np.abs(y_true.iloc[:,*])+np.abs(y_pred[:,*])`, although it wouldn't make any difference in our case, as recovery values are strictly non-negative.\n",
    "\t  \n",
    "</div>"
   ]
  },
  {
   "cell_type": "markdown",
   "metadata": {},
   "source": [
    "<div class=\"alert alert-success\">\n",
    "<b>Reviewer's comment V2</b>\n",
    "\t  \n",
    "Corrected!\n",
    "\t  \n",
    "</div>"
   ]
  },
  {
   "cell_type": "markdown",
   "metadata": {},
   "source": [
    "#### Conclusions"
   ]
  },
  {
   "cell_type": "markdown",
   "metadata": {},
   "source": [
    "This function inputs are two column matrices with the rougher recovery in the first column, and the final recovery in the second column. It returns the final sMAPE value, which can be used for optimization of the machine learning models."
   ]
  },
  {
   "cell_type": "markdown",
   "metadata": {},
   "source": [
    "<div class=\"alert alert-warning\">\n",
    "<s><b>Reviewer's comment</b>\n",
    "\t  \n",
    "There is no need for a validation set, if we use cross-validation: we can just calculate cross-validation scores instead of validation scores to decide on the best model (same applies to hyperparameter optimization).\n",
    "\t  \n",
    "</div>"
   ]
  },
  {
   "cell_type": "markdown",
   "metadata": {},
   "source": [
    "### Creating Target and Feature Variables"
   ]
  },
  {
   "cell_type": "code",
   "execution_count": 60,
   "metadata": {},
   "outputs": [],
   "source": [
    "train_upd_drop_zero.dropna(subset=['rougher.output.recovery','final.output.recovery'],inplace=True)\n",
    "test_upd_drop_zero.dropna(subset=['rougher.output.recovery','final.output.recovery'],inplace=True)\n",
    "\n",
    "train_target = train_upd_drop_zero[['rougher.output.recovery','final.output.recovery']].reset_index(drop=True)\n",
    "train_features = train_upd_drop_zero[[\n",
    "    #raw material inputs\n",
    "    'rougher.input.feed_ag', 'rougher.input.feed_au', 'rougher.input.feed_pb', 'rougher.input.feed_rate','rougher.input.feed_size',\n",
    "    #rougher additional inputs\n",
    "    'rougher.input.floatbank10_sulfate', 'rougher.input.floatbank10_xanthate', 'rougher.input.floatbank11_sulfate','rougher.input.floatbank11_xanthate']].reset_index(drop=True)\n",
    "test_target = test_upd_drop_zero[['rougher.output.recovery','final.output.recovery']].reset_index(drop=True)\n",
    "test_features = test_upd_drop_zero[[\n",
    "    #raw material inputs\n",
    "    'rougher.input.feed_ag', 'rougher.input.feed_au', 'rougher.input.feed_pb', 'rougher.input.feed_rate','rougher.input.feed_size',\n",
    "    #rougher additional inputs\n",
    "    'rougher.input.floatbank10_sulfate', 'rougher.input.floatbank10_xanthate', 'rougher.input.floatbank11_sulfate','rougher.input.floatbank11_xanthate']]"
   ]
  },
  {
   "cell_type": "markdown",
   "metadata": {},
   "source": [
    "#### Conclusions"
   ]
  },
  {
   "cell_type": "markdown",
   "metadata": {},
   "source": [
    "In this section I had to decided which variables to include in the features list. This was a very difficult decison because the earlier in the process Zyfra predicts the gold recovered, the more money they can save. Yet, the later in the process Zyfra predicts the gold recovered, the better the prediction should be, in theory. I decided that the optimal strategy would be to try to predict the gold recovered from just the inputs for both the rougher recovery and the final recovery. This allows Zyfra to save the most money if the model performs at a high level. "
   ]
  },
  {
   "cell_type": "markdown",
   "metadata": {},
   "source": [
    "<div class=\"alert alert-warning\">\n",
    "<b>Reviewer's comment</b>\n",
    "\t  \n",
    "Note that all features that are present in the test set can be safely used for modeling. Not sure how you decided limiting the features to this particular set, but alright!\n",
    "\t  \n",
    "</div>"
   ]
  },
  {
   "cell_type": "markdown",
   "metadata": {},
   "source": [
    "<div class=\"alert alert-info\">\n",
    "  The reason I trimmed the features is that I was trying to think about when they are making the decision. If they are deciding if it is worthwhile to process an ore the only information they will have on that ore is the input values. Does that make any sense?\n",
    "</div>"
   ]
  },
  {
   "cell_type": "markdown",
   "metadata": {},
   "source": [
    "<div class=\"alert alert-success\">\n",
    "<b>Reviewer's comment V2</b>\n",
    "\t  \n",
    "Ok, that makes sense! But the 'state' features, like `rougher.state.floatbank10_a_air`, `rougher.state.floatbank10_a_level`, etc. are also input values: these are the parameters that can be controlled. So it's only features marked as `output` and `calculation` that can't be accessed before the process is finished. \n",
    "\t  \n",
    "</div>"
   ]
  },
  {
   "cell_type": "markdown",
   "metadata": {},
   "source": [
    "### Finding Optimal Hyperparamters"
   ]
  },
  {
   "cell_type": "code",
   "execution_count": 43,
   "metadata": {},
   "outputs": [
    {
     "name": "stdout",
     "output_type": "stream",
     "text": [
      "--- 270.61884903907776 seconds ---\n"
     ]
    }
   ],
   "source": [
    "#creating a score out of our sMAPE_final function\n",
    "sMAPE_score = make_scorer(sMAPE_final)\n",
    "#setting the number of cross validations to run\n",
    "cv = KFold(n_splits=10)\n",
    "\n",
    "def dt_objective(trial):\n",
    "    #defining ranges for decison tree optimization\n",
    "    splitter = trial.suggest_categorical('splitter',['best','random'])\n",
    "    max_depth = trial.suggest_int('max_depth', 1, 50,1)\n",
    "    max_features = trial.suggest_categorical('max_features', ['auto', 'sqrt','log2'])\n",
    "    min_samples_split = trial.suggest_uniform('min_samples_split', 0, 1)\n",
    "    #creating model\n",
    "    DT = DecisionTreeRegressor(splitter = splitter,\n",
    "                                 max_depth = max_depth, max_features = max_features,\n",
    "                                 min_samples_split = min_samples_split)\n",
    "    model = RegressorChain(base_estimator=DT)\n",
    "    #fitting the model to the training data\n",
    "    cross_val_scores = cross_val_score(model, train_features, train_target, cv=cv, scoring=sMAPE_score)\n",
    "    #returning the score that compares the predicted validation targets to the actual validation targets\n",
    "    return cross_val_scores.mean()\n",
    "#calculating the start time\n",
    "start_time = time.time()\n",
    "#creating the study to optimize the hyperparameters\n",
    "study_dt = optuna.create_study(direction='minimize',sampler=TPESampler(seed=15))\n",
    "study_dt.optimize(dt_objective, n_trials=500)\n",
    "#printing the time to completion of the study\n",
    "print(\"--- %s seconds ---\" % (time.time() - start_time))"
   ]
  },
  {
   "cell_type": "code",
   "execution_count": 44,
   "metadata": {},
   "outputs": [
    {
     "name": "stdout",
     "output_type": "stream",
     "text": [
      "Lowest sMAPE Score 10.093519681504\n"
     ]
    },
    {
     "data": {
      "application/vnd.plotly.v1+json": {
       "config": {
        "plotlyServerURL": "https://plot.ly"
       },
       "data": [
        {
         "mode": "markers",
         "name": "Objective Value",
         "type": "scatter",
         "x": [
          0,
          1,
          2,
          3,
          4,
          5,
          6,
          7,
          8,
          9,
          10,
          11,
          12,
          13,
          14,
          15,
          16,
          17,
          18,
          19,
          20,
          21,
          22,
          23,
          24,
          25,
          26,
          27,
          28,
          29,
          30,
          31,
          32,
          33,
          34,
          35,
          36,
          37,
          38,
          39,
          40,
          41,
          42,
          43,
          44,
          45,
          46,
          47,
          48,
          49,
          50,
          51,
          52,
          53,
          54,
          55,
          56,
          57,
          58,
          59,
          60,
          61,
          62,
          63,
          64,
          65,
          66,
          67,
          68,
          69,
          70,
          71,
          72,
          73,
          74,
          75,
          76,
          77,
          78,
          79,
          80,
          81,
          82,
          83,
          84,
          85,
          86,
          87,
          88,
          89,
          90,
          91,
          92,
          93,
          94,
          95,
          96,
          97,
          98,
          99,
          100,
          101,
          102,
          103,
          104,
          105,
          106,
          107,
          108,
          109,
          110,
          111,
          112,
          113,
          114,
          115,
          116,
          117,
          118,
          119,
          120,
          121,
          122,
          123,
          124,
          125,
          126,
          127,
          128,
          129,
          130,
          131,
          132,
          133,
          134,
          135,
          136,
          137,
          138,
          139,
          140,
          141,
          142,
          143,
          144,
          145,
          146,
          147,
          148,
          149,
          150,
          151,
          152,
          153,
          154,
          155,
          156,
          157,
          158,
          159,
          160,
          161,
          162,
          163,
          164,
          165,
          166,
          167,
          168,
          169,
          170,
          171,
          172,
          173,
          174,
          175,
          176,
          177,
          178,
          179,
          180,
          181,
          182,
          183,
          184,
          185,
          186,
          187,
          188,
          189,
          190,
          191,
          192,
          193,
          194,
          195,
          196,
          197,
          198,
          199,
          200,
          201,
          202,
          203,
          204,
          205,
          206,
          207,
          208,
          209,
          210,
          211,
          212,
          213,
          214,
          215,
          216,
          217,
          218,
          219,
          220,
          221,
          222,
          223,
          224,
          225,
          226,
          227,
          228,
          229,
          230,
          231,
          232,
          233,
          234,
          235,
          236,
          237,
          238,
          239,
          240,
          241,
          242,
          243,
          244,
          245,
          246,
          247,
          248,
          249,
          250,
          251,
          252,
          253,
          254,
          255,
          256,
          257,
          258,
          259,
          260,
          261,
          262,
          263,
          264,
          265,
          266,
          267,
          268,
          269,
          270,
          271,
          272,
          273,
          274,
          275,
          276,
          277,
          278,
          279,
          280,
          281,
          282,
          283,
          284,
          285,
          286,
          287,
          288,
          289,
          290,
          291,
          292,
          293,
          294,
          295,
          296,
          297,
          298,
          299,
          300,
          301,
          302,
          303,
          304,
          305,
          306,
          307,
          308,
          309,
          310,
          311,
          312,
          313,
          314,
          315,
          316,
          317,
          318,
          319,
          320,
          321,
          322,
          323,
          324,
          325,
          326,
          327,
          328,
          329,
          330,
          331,
          332,
          333,
          334,
          335,
          336,
          337,
          338,
          339,
          340,
          341,
          342,
          343,
          344,
          345,
          346,
          347,
          348,
          349,
          350,
          351,
          352,
          353,
          354,
          355,
          356,
          357,
          358,
          359,
          360,
          361,
          362,
          363,
          364,
          365,
          366,
          367,
          368,
          369,
          370,
          371,
          372,
          373,
          374,
          375,
          376,
          377,
          378,
          379,
          380,
          381,
          382,
          383,
          384,
          385,
          386,
          387,
          388,
          389,
          390,
          391,
          392,
          393,
          394,
          395,
          396,
          397,
          398,
          399,
          400,
          401,
          402,
          403,
          404,
          405,
          406,
          407,
          408,
          409,
          410,
          411,
          412,
          413,
          414,
          415,
          416,
          417,
          418,
          419,
          420,
          421,
          422,
          423,
          424,
          425,
          426,
          427,
          428,
          429,
          430,
          431,
          432,
          433,
          434,
          435,
          436,
          437,
          438,
          439,
          440,
          441,
          442,
          443,
          444,
          445,
          446,
          447,
          448,
          449,
          450,
          451,
          452,
          453,
          454,
          455,
          456,
          457,
          458,
          459,
          460,
          461,
          462,
          463,
          464,
          465,
          466,
          467,
          468,
          469,
          470,
          471,
          472,
          473,
          474,
          475,
          476,
          477,
          478,
          479,
          480,
          481,
          482,
          483,
          484,
          485,
          486,
          487,
          488,
          489,
          490,
          491,
          492,
          493,
          494,
          495,
          496,
          497,
          498,
          499
         ],
         "y": [
          10.6680862621,
          10.9450288712,
          11.2800353165,
          10.8388081614,
          10.9169209087,
          10.2293642258,
          11.2978689578,
          10.9639180562,
          10.9901076947,
          10.8073016072,
          10.2881761384,
          10.2851927623,
          10.2168413107,
          10.3711475604,
          10.4079607505,
          10.2177938592,
          10.1310370423,
          10.1434931315,
          10.1127166111,
          10.1077473692,
          10.1415233906,
          10.1067931696,
          10.5279555037,
          10.1157660817,
          10.1065247301,
          10.1144390793,
          11.0255668435,
          10.216590979,
          10.1122732675,
          10.6330816576,
          10.5759725383,
          10.1130846534,
          10.2004397229,
          10.1172667198,
          10.0991235922,
          10.1612124853,
          10.8162449035,
          11.1528409347,
          10.7487934409,
          10.151816509,
          10.4604311577,
          10.1163011449,
          10.151816509,
          10.2637348142,
          10.3504246895,
          10.7831437824,
          10.6452805864,
          10.1144390793,
          10.2878890111,
          10.8447512257,
          10.9450288712,
          10.110732903,
          10.1438476171,
          10.151816509,
          10.3582877586,
          10.0935196815,
          10.1664907577,
          10.1157660817,
          10.3288178979,
          10.5308079705,
          10.5279555037,
          10.1065247301,
          10.151816509,
          10.3572063776,
          10.1294287042,
          10.1144390793,
          10.2805948021,
          10.9651975596,
          10.0935196815,
          10.7311145399,
          10.5279555037,
          10.0935196815,
          10.0935196815,
          10.1294287042,
          10.0935196815,
          10.151816509,
          10.2186985928,
          10.431488658,
          10.1144390793,
          10.151816509,
          10.6916239651,
          10.1157660817,
          10.0991235922,
          10.1172667198,
          10.0991235922,
          10.0935196815,
          10.1127166111,
          10.1570142335,
          10.1415233906,
          10.8128270908,
          10.1157660817,
          10.1519685113,
          10.151816509,
          10.1310370423,
          10.0935196815,
          10.0935196815,
          10.422141834,
          10.1157660817,
          10.7264867677,
          10.0991235922,
          10.2458264008,
          10.0991235922,
          10.1415233906,
          10.1111265528,
          10.1310370423,
          10.1157660817,
          10.1292856214,
          10.1570142335,
          10.1519685113,
          10.4178529114,
          10.0935196815,
          10.0935196815,
          10.1157660817,
          10.151816509,
          10.1701181814,
          10.1294287042,
          10.0935196815,
          10.8695926313,
          10.6157213298,
          10.4831468433,
          10.151816509,
          10.0991235922,
          10.110732903,
          10.1157660817,
          10.1310370423,
          10.0935196815,
          10.151816509,
          10.1410535737,
          10.1077473692,
          10.1111265528,
          10.151816509,
          10.1127166111,
          10.1157660817,
          10.0935196815,
          10.1519685113,
          10.1077473692,
          10.4626774016,
          10.151816509,
          11.0518483584,
          10.110732903,
          10.7897087028,
          10.0935196815,
          10.0935196815,
          10.1077473692,
          10.1506741212,
          10.1312564927,
          10.110732903,
          10.9450288712,
          10.1310370423,
          10.1157660817,
          10.0991235922,
          10.0991235922,
          10.151816509,
          10.1077473692,
          10.1705523572,
          10.1157660817,
          10.1294287042,
          10.0991235922,
          10.151816509,
          13.1668164883,
          10.1157660817,
          10.0991235922,
          10.1519685113,
          10.1157660817,
          10.151816509,
          10.4822078809,
          10.0935196815,
          10.1157660817,
          10.4982273099,
          10.4754477193,
          10.1294287042,
          10.0935196815,
          10.0935196815,
          10.1415233906,
          10.1157660817,
          10.151816509,
          10.0935196815,
          10.1157660817,
          10.1519685113,
          10.0935196815,
          10.1415233906,
          10.1077473692,
          10.1171902076,
          10.0935196815,
          10.1111265528,
          10.1309778561,
          10.1157660817,
          10.0935196815,
          10.151816509,
          10.151816509,
          10.1693888241,
          10.0935196815,
          10.1095158421,
          10.1415233906,
          10.1062435054,
          10.1519685113,
          10.0935196815,
          10.1157660817,
          10.8212054738,
          10.151816509,
          10.0935196815,
          10.110732903,
          10.0991235922,
          10.1157660817,
          10.0935196815,
          10.1519685113,
          10.1157660817,
          10.4435967413,
          10.5279555037,
          10.1077473692,
          10.151816509,
          10.0991235922,
          10.110732903,
          10.1077473692,
          10.1309648499,
          10.1157660817,
          10.0935196815,
          10.1077473692,
          10.1127166111,
          10.1415233906,
          10.1507082892,
          10.0935196815,
          10.1157660817,
          10.0991235922,
          10.110732903,
          10.1157660817,
          10.0935196815,
          10.1111265528,
          10.1077473692,
          10.8897297445,
          10.1506741212,
          10.0935196815,
          10.1157660817,
          10.0991235922,
          10.110732903,
          10.0935196815,
          10.1157660817,
          10.1157660817,
          10.4889672772,
          10.0935196815,
          10.151816509,
          10.0935196815,
          10.1157660817,
          10.1127166111,
          10.1519685113,
          10.0935196815,
          10.1157660817,
          10.1111265528,
          10.3886335912,
          10.1415233906,
          10.1310370423,
          10.0991235922,
          10.151816509,
          10.1519685113,
          10.1157660817,
          10.1127166111,
          10.1095158421,
          10.9450288712,
          10.1072361957,
          10.6819663752,
          10.0935196815,
          10.1157660817,
          10.1506741212,
          10.1127166111,
          10.0935196815,
          10.151816509,
          10.3943298561,
          10.1157660817,
          10.1077473692,
          10.5110155982,
          10.0935196815,
          10.1157660817,
          10.1310370423,
          10.151816509,
          10.1127166111,
          10.1077473692,
          10.1701181814,
          10.1157660817,
          10.6831407711,
          10.1519685113,
          10.0935196815,
          10.6749707925,
          10.151816509,
          10.1157660817,
          10.0991235922,
          10.110732903,
          10.9450288712,
          10.1157660817,
          10.1309648499,
          10.657351483,
          10.0935196815,
          10.1157660817,
          10.1127166111,
          10.4444024925,
          10.151816509,
          10.0935196815,
          10.110732903,
          10.1157660817,
          10.1506741212,
          10.6070639234,
          10.1157660817,
          10.110732903,
          10.1157660817,
          10.0991235922,
          10.151816509,
          10.0935196815,
          10.1157660817,
          10.1507082892,
          10.1310370423,
          10.1062435054,
          10.0935196815,
          10.7710964277,
          10.1157660817,
          10.110732903,
          10.0935196815,
          10.1415233906,
          10.0935196815,
          10.4736853208,
          10.8016784092,
          10.151816509,
          10.0935196815,
          10.1111265528,
          10.151816509,
          10.1157660817,
          10.1294287042,
          10.1127166111,
          10.1519685113,
          10.0991235922,
          10.1157660817,
          10.110732903,
          10.1415233906,
          10.1095158421,
          10.1127166111,
          10.0935196815,
          10.151816509,
          10.4430271016,
          10.1519685113,
          10.1415233906,
          10.309673225,
          10.6735257873,
          10.0935196815,
          10.1157660817,
          10.110732903,
          10.1310370423,
          10.2292221972,
          10.0936046262,
          10.9450288712,
          10.151816509,
          10.1519685113,
          10.1157660817,
          10.4741339155,
          10.1172667198,
          10.1157660817,
          10.1309778561,
          10.151816509,
          10.1664907577,
          10.7533395201,
          10.1127166111,
          10.1077473692,
          10.1067931696,
          10.1157660817,
          10.5997329489,
          10.1415233906,
          10.1519685113,
          10.1095158421,
          10.9210308996,
          10.1294287042,
          10.1062435054,
          10.1077473692,
          10.1157660817,
          10.1701181814,
          10.0991235922,
          10.151816509,
          10.1506741212,
          10.151816509,
          10.1127166111,
          10.6621848562,
          10.1077473692,
          10.6390057616,
          10.0935196815,
          10.110732903,
          10.1157660817,
          10.1309648499,
          10.1067931696,
          10.3431322986,
          10.1701181814,
          10.1157660817,
          10.151816509,
          10.5279555037,
          10.0935196815,
          10.1415233906,
          10.1111265528,
          10.1519685113,
          10.0935196815,
          10.1077473692,
          10.1157660817,
          10.1157660817,
          10.4082329638,
          10.1127166111,
          10.151816509,
          10.4728146071,
          10.1410535737,
          10.0935196815,
          10.1157660817,
          10.0991235922,
          10.7278495259,
          10.151816509,
          10.1519685113,
          10.1157660817,
          10.110732903,
          10.0991235922,
          10.1095158421,
          10.0935196815,
          10.1157660817,
          10.1438476171,
          10.6896185928,
          10.1310370423,
          10.151816509,
          10.110732903,
          10.1157660817,
          10.2437233879,
          10.1127166111,
          10.151816509,
          10.0935196815,
          10.6165788008,
          10.1157660817,
          10.1171902076,
          10.1157660817,
          10.7206087867,
          10.151816509,
          10.9450288712,
          10.1062435054,
          10.1519685113,
          10.6830141755,
          10.1127166111,
          10.1077473692,
          10.1157660817,
          10.1310370423,
          10.1072361957,
          10.1305456466,
          10.151816509,
          10.151816509,
          10.0991235922,
          10.1410535737,
          10.1062435054,
          10.1157660817,
          10.0935196815,
          10.0935196815,
          10.4448202531,
          10.1095158421,
          10.1415233906,
          10.6602604812,
          10.1111265528,
          10.0935196815,
          10.1072361957,
          10.1157660817,
          11.08905758,
          10.5279555037,
          10.0935196815,
          10.1157660817,
          10.0991235922,
          10.1309648499,
          10.1157660817,
          10.0935196815,
          10.1072361957,
          10.1127166111,
          10.151816509,
          10.5245033439,
          10.1157660817,
          10.1157660817,
          10.1127166111,
          10.0935196815,
          10.1294287042,
          10.110732903,
          10.6817335211,
          10.4974985974,
          10.151816509,
          10.1415233906,
          10.1157660817,
          10.1157660817,
          10.1519685113,
          10.1127166111,
          10.151816509,
          10.1312564927,
          10.0991235922,
          10.1310370423,
          10.110732903,
          10.1077473692,
          10.1157660817,
          10.151816509,
          10.1701181814,
          10.4097163302,
          10.1077473692,
          10.661016544,
          10.0935196815,
          10.1157660817,
          10.0991235922,
          10.4527165466,
          10.110732903,
          10.1415233906
         ]
        },
        {
         "name": "Best Value",
         "type": "scatter",
         "x": [
          0,
          1,
          2,
          3,
          4,
          5,
          6,
          7,
          8,
          9,
          10,
          11,
          12,
          13,
          14,
          15,
          16,
          17,
          18,
          19,
          20,
          21,
          22,
          23,
          24,
          25,
          26,
          27,
          28,
          29,
          30,
          31,
          32,
          33,
          34,
          35,
          36,
          37,
          38,
          39,
          40,
          41,
          42,
          43,
          44,
          45,
          46,
          47,
          48,
          49,
          50,
          51,
          52,
          53,
          54,
          55,
          56,
          57,
          58,
          59,
          60,
          61,
          62,
          63,
          64,
          65,
          66,
          67,
          68,
          69,
          70,
          71,
          72,
          73,
          74,
          75,
          76,
          77,
          78,
          79,
          80,
          81,
          82,
          83,
          84,
          85,
          86,
          87,
          88,
          89,
          90,
          91,
          92,
          93,
          94,
          95,
          96,
          97,
          98,
          99,
          100,
          101,
          102,
          103,
          104,
          105,
          106,
          107,
          108,
          109,
          110,
          111,
          112,
          113,
          114,
          115,
          116,
          117,
          118,
          119,
          120,
          121,
          122,
          123,
          124,
          125,
          126,
          127,
          128,
          129,
          130,
          131,
          132,
          133,
          134,
          135,
          136,
          137,
          138,
          139,
          140,
          141,
          142,
          143,
          144,
          145,
          146,
          147,
          148,
          149,
          150,
          151,
          152,
          153,
          154,
          155,
          156,
          157,
          158,
          159,
          160,
          161,
          162,
          163,
          164,
          165,
          166,
          167,
          168,
          169,
          170,
          171,
          172,
          173,
          174,
          175,
          176,
          177,
          178,
          179,
          180,
          181,
          182,
          183,
          184,
          185,
          186,
          187,
          188,
          189,
          190,
          191,
          192,
          193,
          194,
          195,
          196,
          197,
          198,
          199,
          200,
          201,
          202,
          203,
          204,
          205,
          206,
          207,
          208,
          209,
          210,
          211,
          212,
          213,
          214,
          215,
          216,
          217,
          218,
          219,
          220,
          221,
          222,
          223,
          224,
          225,
          226,
          227,
          228,
          229,
          230,
          231,
          232,
          233,
          234,
          235,
          236,
          237,
          238,
          239,
          240,
          241,
          242,
          243,
          244,
          245,
          246,
          247,
          248,
          249,
          250,
          251,
          252,
          253,
          254,
          255,
          256,
          257,
          258,
          259,
          260,
          261,
          262,
          263,
          264,
          265,
          266,
          267,
          268,
          269,
          270,
          271,
          272,
          273,
          274,
          275,
          276,
          277,
          278,
          279,
          280,
          281,
          282,
          283,
          284,
          285,
          286,
          287,
          288,
          289,
          290,
          291,
          292,
          293,
          294,
          295,
          296,
          297,
          298,
          299,
          300,
          301,
          302,
          303,
          304,
          305,
          306,
          307,
          308,
          309,
          310,
          311,
          312,
          313,
          314,
          315,
          316,
          317,
          318,
          319,
          320,
          321,
          322,
          323,
          324,
          325,
          326,
          327,
          328,
          329,
          330,
          331,
          332,
          333,
          334,
          335,
          336,
          337,
          338,
          339,
          340,
          341,
          342,
          343,
          344,
          345,
          346,
          347,
          348,
          349,
          350,
          351,
          352,
          353,
          354,
          355,
          356,
          357,
          358,
          359,
          360,
          361,
          362,
          363,
          364,
          365,
          366,
          367,
          368,
          369,
          370,
          371,
          372,
          373,
          374,
          375,
          376,
          377,
          378,
          379,
          380,
          381,
          382,
          383,
          384,
          385,
          386,
          387,
          388,
          389,
          390,
          391,
          392,
          393,
          394,
          395,
          396,
          397,
          398,
          399,
          400,
          401,
          402,
          403,
          404,
          405,
          406,
          407,
          408,
          409,
          410,
          411,
          412,
          413,
          414,
          415,
          416,
          417,
          418,
          419,
          420,
          421,
          422,
          423,
          424,
          425,
          426,
          427,
          428,
          429,
          430,
          431,
          432,
          433,
          434,
          435,
          436,
          437,
          438,
          439,
          440,
          441,
          442,
          443,
          444,
          445,
          446,
          447,
          448,
          449,
          450,
          451,
          452,
          453,
          454,
          455,
          456,
          457,
          458,
          459,
          460,
          461,
          462,
          463,
          464,
          465,
          466,
          467,
          468,
          469,
          470,
          471,
          472,
          473,
          474,
          475,
          476,
          477,
          478,
          479,
          480,
          481,
          482,
          483,
          484,
          485,
          486,
          487,
          488,
          489,
          490,
          491,
          492,
          493,
          494,
          495,
          496,
          497,
          498,
          499
         ],
         "y": [
          10.6680862621,
          10.6680862621,
          10.6680862621,
          10.6680862621,
          10.6680862621,
          10.2293642258,
          10.2293642258,
          10.2293642258,
          10.2293642258,
          10.2293642258,
          10.2293642258,
          10.2293642258,
          10.2168413107,
          10.2168413107,
          10.2168413107,
          10.2168413107,
          10.1310370423,
          10.1310370423,
          10.1127166111,
          10.1077473692,
          10.1077473692,
          10.1067931696,
          10.1067931696,
          10.1067931696,
          10.1065247301,
          10.1065247301,
          10.1065247301,
          10.1065247301,
          10.1065247301,
          10.1065247301,
          10.1065247301,
          10.1065247301,
          10.1065247301,
          10.1065247301,
          10.0991235922,
          10.0991235922,
          10.0991235922,
          10.0991235922,
          10.0991235922,
          10.0991235922,
          10.0991235922,
          10.0991235922,
          10.0991235922,
          10.0991235922,
          10.0991235922,
          10.0991235922,
          10.0991235922,
          10.0991235922,
          10.0991235922,
          10.0991235922,
          10.0991235922,
          10.0991235922,
          10.0991235922,
          10.0991235922,
          10.0991235922,
          10.0935196815,
          10.0935196815,
          10.0935196815,
          10.0935196815,
          10.0935196815,
          10.0935196815,
          10.0935196815,
          10.0935196815,
          10.0935196815,
          10.0935196815,
          10.0935196815,
          10.0935196815,
          10.0935196815,
          10.0935196815,
          10.0935196815,
          10.0935196815,
          10.0935196815,
          10.0935196815,
          10.0935196815,
          10.0935196815,
          10.0935196815,
          10.0935196815,
          10.0935196815,
          10.0935196815,
          10.0935196815,
          10.0935196815,
          10.0935196815,
          10.0935196815,
          10.0935196815,
          10.0935196815,
          10.0935196815,
          10.0935196815,
          10.0935196815,
          10.0935196815,
          10.0935196815,
          10.0935196815,
          10.0935196815,
          10.0935196815,
          10.0935196815,
          10.0935196815,
          10.0935196815,
          10.0935196815,
          10.0935196815,
          10.0935196815,
          10.0935196815,
          10.0935196815,
          10.0935196815,
          10.0935196815,
          10.0935196815,
          10.0935196815,
          10.0935196815,
          10.0935196815,
          10.0935196815,
          10.0935196815,
          10.0935196815,
          10.0935196815,
          10.0935196815,
          10.0935196815,
          10.0935196815,
          10.0935196815,
          10.0935196815,
          10.0935196815,
          10.0935196815,
          10.0935196815,
          10.0935196815,
          10.0935196815,
          10.0935196815,
          10.0935196815,
          10.0935196815,
          10.0935196815,
          10.0935196815,
          10.0935196815,
          10.0935196815,
          10.0935196815,
          10.0935196815,
          10.0935196815,
          10.0935196815,
          10.0935196815,
          10.0935196815,
          10.0935196815,
          10.0935196815,
          10.0935196815,
          10.0935196815,
          10.0935196815,
          10.0935196815,
          10.0935196815,
          10.0935196815,
          10.0935196815,
          10.0935196815,
          10.0935196815,
          10.0935196815,
          10.0935196815,
          10.0935196815,
          10.0935196815,
          10.0935196815,
          10.0935196815,
          10.0935196815,
          10.0935196815,
          10.0935196815,
          10.0935196815,
          10.0935196815,
          10.0935196815,
          10.0935196815,
          10.0935196815,
          10.0935196815,
          10.0935196815,
          10.0935196815,
          10.0935196815,
          10.0935196815,
          10.0935196815,
          10.0935196815,
          10.0935196815,
          10.0935196815,
          10.0935196815,
          10.0935196815,
          10.0935196815,
          10.0935196815,
          10.0935196815,
          10.0935196815,
          10.0935196815,
          10.0935196815,
          10.0935196815,
          10.0935196815,
          10.0935196815,
          10.0935196815,
          10.0935196815,
          10.0935196815,
          10.0935196815,
          10.0935196815,
          10.0935196815,
          10.0935196815,
          10.0935196815,
          10.0935196815,
          10.0935196815,
          10.0935196815,
          10.0935196815,
          10.0935196815,
          10.0935196815,
          10.0935196815,
          10.0935196815,
          10.0935196815,
          10.0935196815,
          10.0935196815,
          10.0935196815,
          10.0935196815,
          10.0935196815,
          10.0935196815,
          10.0935196815,
          10.0935196815,
          10.0935196815,
          10.0935196815,
          10.0935196815,
          10.0935196815,
          10.0935196815,
          10.0935196815,
          10.0935196815,
          10.0935196815,
          10.0935196815,
          10.0935196815,
          10.0935196815,
          10.0935196815,
          10.0935196815,
          10.0935196815,
          10.0935196815,
          10.0935196815,
          10.0935196815,
          10.0935196815,
          10.0935196815,
          10.0935196815,
          10.0935196815,
          10.0935196815,
          10.0935196815,
          10.0935196815,
          10.0935196815,
          10.0935196815,
          10.0935196815,
          10.0935196815,
          10.0935196815,
          10.0935196815,
          10.0935196815,
          10.0935196815,
          10.0935196815,
          10.0935196815,
          10.0935196815,
          10.0935196815,
          10.0935196815,
          10.0935196815,
          10.0935196815,
          10.0935196815,
          10.0935196815,
          10.0935196815,
          10.0935196815,
          10.0935196815,
          10.0935196815,
          10.0935196815,
          10.0935196815,
          10.0935196815,
          10.0935196815,
          10.0935196815,
          10.0935196815,
          10.0935196815,
          10.0935196815,
          10.0935196815,
          10.0935196815,
          10.0935196815,
          10.0935196815,
          10.0935196815,
          10.0935196815,
          10.0935196815,
          10.0935196815,
          10.0935196815,
          10.0935196815,
          10.0935196815,
          10.0935196815,
          10.0935196815,
          10.0935196815,
          10.0935196815,
          10.0935196815,
          10.0935196815,
          10.0935196815,
          10.0935196815,
          10.0935196815,
          10.0935196815,
          10.0935196815,
          10.0935196815,
          10.0935196815,
          10.0935196815,
          10.0935196815,
          10.0935196815,
          10.0935196815,
          10.0935196815,
          10.0935196815,
          10.0935196815,
          10.0935196815,
          10.0935196815,
          10.0935196815,
          10.0935196815,
          10.0935196815,
          10.0935196815,
          10.0935196815,
          10.0935196815,
          10.0935196815,
          10.0935196815,
          10.0935196815,
          10.0935196815,
          10.0935196815,
          10.0935196815,
          10.0935196815,
          10.0935196815,
          10.0935196815,
          10.0935196815,
          10.0935196815,
          10.0935196815,
          10.0935196815,
          10.0935196815,
          10.0935196815,
          10.0935196815,
          10.0935196815,
          10.0935196815,
          10.0935196815,
          10.0935196815,
          10.0935196815,
          10.0935196815,
          10.0935196815,
          10.0935196815,
          10.0935196815,
          10.0935196815,
          10.0935196815,
          10.0935196815,
          10.0935196815,
          10.0935196815,
          10.0935196815,
          10.0935196815,
          10.0935196815,
          10.0935196815,
          10.0935196815,
          10.0935196815,
          10.0935196815,
          10.0935196815,
          10.0935196815,
          10.0935196815,
          10.0935196815,
          10.0935196815,
          10.0935196815,
          10.0935196815,
          10.0935196815,
          10.0935196815,
          10.0935196815,
          10.0935196815,
          10.0935196815,
          10.0935196815,
          10.0935196815,
          10.0935196815,
          10.0935196815,
          10.0935196815,
          10.0935196815,
          10.0935196815,
          10.0935196815,
          10.0935196815,
          10.0935196815,
          10.0935196815,
          10.0935196815,
          10.0935196815,
          10.0935196815,
          10.0935196815,
          10.0935196815,
          10.0935196815,
          10.0935196815,
          10.0935196815,
          10.0935196815,
          10.0935196815,
          10.0935196815,
          10.0935196815,
          10.0935196815,
          10.0935196815,
          10.0935196815,
          10.0935196815,
          10.0935196815,
          10.0935196815,
          10.0935196815,
          10.0935196815,
          10.0935196815,
          10.0935196815,
          10.0935196815,
          10.0935196815,
          10.0935196815,
          10.0935196815,
          10.0935196815,
          10.0935196815,
          10.0935196815,
          10.0935196815,
          10.0935196815,
          10.0935196815,
          10.0935196815,
          10.0935196815,
          10.0935196815,
          10.0935196815,
          10.0935196815,
          10.0935196815,
          10.0935196815,
          10.0935196815,
          10.0935196815,
          10.0935196815,
          10.0935196815,
          10.0935196815,
          10.0935196815,
          10.0935196815,
          10.0935196815,
          10.0935196815,
          10.0935196815,
          10.0935196815,
          10.0935196815,
          10.0935196815,
          10.0935196815,
          10.0935196815,
          10.0935196815,
          10.0935196815,
          10.0935196815,
          10.0935196815,
          10.0935196815,
          10.0935196815,
          10.0935196815,
          10.0935196815,
          10.0935196815,
          10.0935196815,
          10.0935196815,
          10.0935196815,
          10.0935196815,
          10.0935196815,
          10.0935196815,
          10.0935196815,
          10.0935196815,
          10.0935196815,
          10.0935196815,
          10.0935196815,
          10.0935196815,
          10.0935196815,
          10.0935196815,
          10.0935196815,
          10.0935196815,
          10.0935196815,
          10.0935196815,
          10.0935196815,
          10.0935196815,
          10.0935196815,
          10.0935196815,
          10.0935196815,
          10.0935196815,
          10.0935196815,
          10.0935196815,
          10.0935196815,
          10.0935196815,
          10.0935196815,
          10.0935196815,
          10.0935196815,
          10.0935196815,
          10.0935196815,
          10.0935196815,
          10.0935196815,
          10.0935196815,
          10.0935196815,
          10.0935196815,
          10.0935196815,
          10.0935196815,
          10.0935196815,
          10.0935196815,
          10.0935196815,
          10.0935196815,
          10.0935196815,
          10.0935196815,
          10.0935196815,
          10.0935196815,
          10.0935196815,
          10.0935196815,
          10.0935196815,
          10.0935196815,
          10.0935196815,
          10.0935196815,
          10.0935196815,
          10.0935196815,
          10.0935196815,
          10.0935196815,
          10.0935196815,
          10.0935196815,
          10.0935196815,
          10.0935196815,
          10.0935196815,
          10.0935196815,
          10.0935196815,
          10.0935196815,
          10.0935196815,
          10.0935196815,
          10.0935196815,
          10.0935196815,
          10.0935196815,
          10.0935196815,
          10.0935196815,
          10.0935196815,
          10.0935196815,
          10.0935196815,
          10.0935196815,
          10.0935196815,
          10.0935196815,
          10.0935196815,
          10.0935196815
         ]
        }
       ],
       "layout": {
        "template": {
         "data": {
          "bar": [
           {
            "error_x": {
             "color": "#2a3f5f"
            },
            "error_y": {
             "color": "#2a3f5f"
            },
            "marker": {
             "line": {
              "color": "#E5ECF6",
              "width": 0.5
             }
            },
            "type": "bar"
           }
          ],
          "barpolar": [
           {
            "marker": {
             "line": {
              "color": "#E5ECF6",
              "width": 0.5
             }
            },
            "type": "barpolar"
           }
          ],
          "carpet": [
           {
            "aaxis": {
             "endlinecolor": "#2a3f5f",
             "gridcolor": "white",
             "linecolor": "white",
             "minorgridcolor": "white",
             "startlinecolor": "#2a3f5f"
            },
            "baxis": {
             "endlinecolor": "#2a3f5f",
             "gridcolor": "white",
             "linecolor": "white",
             "minorgridcolor": "white",
             "startlinecolor": "#2a3f5f"
            },
            "type": "carpet"
           }
          ],
          "choropleth": [
           {
            "colorbar": {
             "outlinewidth": 0,
             "ticks": ""
            },
            "type": "choropleth"
           }
          ],
          "contour": [
           {
            "colorbar": {
             "outlinewidth": 0,
             "ticks": ""
            },
            "colorscale": [
             [
              0,
              "#0d0887"
             ],
             [
              0.1111111111,
              "#46039f"
             ],
             [
              0.2222222222,
              "#7201a8"
             ],
             [
              0.3333333333,
              "#9c179e"
             ],
             [
              0.4444444444,
              "#bd3786"
             ],
             [
              0.5555555556,
              "#d8576b"
             ],
             [
              0.6666666667,
              "#ed7953"
             ],
             [
              0.7777777778,
              "#fb9f3a"
             ],
             [
              0.8888888889,
              "#fdca26"
             ],
             [
              1,
              "#f0f921"
             ]
            ],
            "type": "contour"
           }
          ],
          "contourcarpet": [
           {
            "colorbar": {
             "outlinewidth": 0,
             "ticks": ""
            },
            "type": "contourcarpet"
           }
          ],
          "heatmap": [
           {
            "colorbar": {
             "outlinewidth": 0,
             "ticks": ""
            },
            "colorscale": [
             [
              0,
              "#0d0887"
             ],
             [
              0.1111111111,
              "#46039f"
             ],
             [
              0.2222222222,
              "#7201a8"
             ],
             [
              0.3333333333,
              "#9c179e"
             ],
             [
              0.4444444444,
              "#bd3786"
             ],
             [
              0.5555555556,
              "#d8576b"
             ],
             [
              0.6666666667,
              "#ed7953"
             ],
             [
              0.7777777778,
              "#fb9f3a"
             ],
             [
              0.8888888889,
              "#fdca26"
             ],
             [
              1,
              "#f0f921"
             ]
            ],
            "type": "heatmap"
           }
          ],
          "heatmapgl": [
           {
            "colorbar": {
             "outlinewidth": 0,
             "ticks": ""
            },
            "colorscale": [
             [
              0,
              "#0d0887"
             ],
             [
              0.1111111111,
              "#46039f"
             ],
             [
              0.2222222222,
              "#7201a8"
             ],
             [
              0.3333333333,
              "#9c179e"
             ],
             [
              0.4444444444,
              "#bd3786"
             ],
             [
              0.5555555556,
              "#d8576b"
             ],
             [
              0.6666666667,
              "#ed7953"
             ],
             [
              0.7777777778,
              "#fb9f3a"
             ],
             [
              0.8888888889,
              "#fdca26"
             ],
             [
              1,
              "#f0f921"
             ]
            ],
            "type": "heatmapgl"
           }
          ],
          "histogram": [
           {
            "marker": {
             "colorbar": {
              "outlinewidth": 0,
              "ticks": ""
             }
            },
            "type": "histogram"
           }
          ],
          "histogram2d": [
           {
            "colorbar": {
             "outlinewidth": 0,
             "ticks": ""
            },
            "colorscale": [
             [
              0,
              "#0d0887"
             ],
             [
              0.1111111111,
              "#46039f"
             ],
             [
              0.2222222222,
              "#7201a8"
             ],
             [
              0.3333333333,
              "#9c179e"
             ],
             [
              0.4444444444,
              "#bd3786"
             ],
             [
              0.5555555556,
              "#d8576b"
             ],
             [
              0.6666666667,
              "#ed7953"
             ],
             [
              0.7777777778,
              "#fb9f3a"
             ],
             [
              0.8888888889,
              "#fdca26"
             ],
             [
              1,
              "#f0f921"
             ]
            ],
            "type": "histogram2d"
           }
          ],
          "histogram2dcontour": [
           {
            "colorbar": {
             "outlinewidth": 0,
             "ticks": ""
            },
            "colorscale": [
             [
              0,
              "#0d0887"
             ],
             [
              0.1111111111,
              "#46039f"
             ],
             [
              0.2222222222,
              "#7201a8"
             ],
             [
              0.3333333333,
              "#9c179e"
             ],
             [
              0.4444444444,
              "#bd3786"
             ],
             [
              0.5555555556,
              "#d8576b"
             ],
             [
              0.6666666667,
              "#ed7953"
             ],
             [
              0.7777777778,
              "#fb9f3a"
             ],
             [
              0.8888888889,
              "#fdca26"
             ],
             [
              1,
              "#f0f921"
             ]
            ],
            "type": "histogram2dcontour"
           }
          ],
          "mesh3d": [
           {
            "colorbar": {
             "outlinewidth": 0,
             "ticks": ""
            },
            "type": "mesh3d"
           }
          ],
          "parcoords": [
           {
            "line": {
             "colorbar": {
              "outlinewidth": 0,
              "ticks": ""
             }
            },
            "type": "parcoords"
           }
          ],
          "scatter": [
           {
            "marker": {
             "colorbar": {
              "outlinewidth": 0,
              "ticks": ""
             }
            },
            "type": "scatter"
           }
          ],
          "scatter3d": [
           {
            "line": {
             "colorbar": {
              "outlinewidth": 0,
              "ticks": ""
             }
            },
            "marker": {
             "colorbar": {
              "outlinewidth": 0,
              "ticks": ""
             }
            },
            "type": "scatter3d"
           }
          ],
          "scattercarpet": [
           {
            "marker": {
             "colorbar": {
              "outlinewidth": 0,
              "ticks": ""
             }
            },
            "type": "scattercarpet"
           }
          ],
          "scattergeo": [
           {
            "marker": {
             "colorbar": {
              "outlinewidth": 0,
              "ticks": ""
             }
            },
            "type": "scattergeo"
           }
          ],
          "scattergl": [
           {
            "marker": {
             "colorbar": {
              "outlinewidth": 0,
              "ticks": ""
             }
            },
            "type": "scattergl"
           }
          ],
          "scattermapbox": [
           {
            "marker": {
             "colorbar": {
              "outlinewidth": 0,
              "ticks": ""
             }
            },
            "type": "scattermapbox"
           }
          ],
          "scatterpolar": [
           {
            "marker": {
             "colorbar": {
              "outlinewidth": 0,
              "ticks": ""
             }
            },
            "type": "scatterpolar"
           }
          ],
          "scatterpolargl": [
           {
            "marker": {
             "colorbar": {
              "outlinewidth": 0,
              "ticks": ""
             }
            },
            "type": "scatterpolargl"
           }
          ],
          "scatterternary": [
           {
            "marker": {
             "colorbar": {
              "outlinewidth": 0,
              "ticks": ""
             }
            },
            "type": "scatterternary"
           }
          ],
          "surface": [
           {
            "colorbar": {
             "outlinewidth": 0,
             "ticks": ""
            },
            "colorscale": [
             [
              0,
              "#0d0887"
             ],
             [
              0.1111111111,
              "#46039f"
             ],
             [
              0.2222222222,
              "#7201a8"
             ],
             [
              0.3333333333,
              "#9c179e"
             ],
             [
              0.4444444444,
              "#bd3786"
             ],
             [
              0.5555555556,
              "#d8576b"
             ],
             [
              0.6666666667,
              "#ed7953"
             ],
             [
              0.7777777778,
              "#fb9f3a"
             ],
             [
              0.8888888889,
              "#fdca26"
             ],
             [
              1,
              "#f0f921"
             ]
            ],
            "type": "surface"
           }
          ],
          "table": [
           {
            "cells": {
             "fill": {
              "color": "#EBF0F8"
             },
             "line": {
              "color": "white"
             }
            },
            "header": {
             "fill": {
              "color": "#C8D4E3"
             },
             "line": {
              "color": "white"
             }
            },
            "type": "table"
           }
          ]
         },
         "layout": {
          "annotationdefaults": {
           "arrowcolor": "#2a3f5f",
           "arrowhead": 0,
           "arrowwidth": 1
          },
          "colorscale": {
           "diverging": [
            [
             0,
             "#8e0152"
            ],
            [
             0.1,
             "#c51b7d"
            ],
            [
             0.2,
             "#de77ae"
            ],
            [
             0.3,
             "#f1b6da"
            ],
            [
             0.4,
             "#fde0ef"
            ],
            [
             0.5,
             "#f7f7f7"
            ],
            [
             0.6,
             "#e6f5d0"
            ],
            [
             0.7,
             "#b8e186"
            ],
            [
             0.8,
             "#7fbc41"
            ],
            [
             0.9,
             "#4d9221"
            ],
            [
             1,
             "#276419"
            ]
           ],
           "sequential": [
            [
             0,
             "#0d0887"
            ],
            [
             0.1111111111,
             "#46039f"
            ],
            [
             0.2222222222,
             "#7201a8"
            ],
            [
             0.3333333333,
             "#9c179e"
            ],
            [
             0.4444444444,
             "#bd3786"
            ],
            [
             0.5555555556,
             "#d8576b"
            ],
            [
             0.6666666667,
             "#ed7953"
            ],
            [
             0.7777777778,
             "#fb9f3a"
            ],
            [
             0.8888888889,
             "#fdca26"
            ],
            [
             1,
             "#f0f921"
            ]
           ],
           "sequentialminus": [
            [
             0,
             "#0d0887"
            ],
            [
             0.1111111111,
             "#46039f"
            ],
            [
             0.2222222222,
             "#7201a8"
            ],
            [
             0.3333333333,
             "#9c179e"
            ],
            [
             0.4444444444,
             "#bd3786"
            ],
            [
             0.5555555556,
             "#d8576b"
            ],
            [
             0.6666666667,
             "#ed7953"
            ],
            [
             0.7777777778,
             "#fb9f3a"
            ],
            [
             0.8888888889,
             "#fdca26"
            ],
            [
             1,
             "#f0f921"
            ]
           ]
          },
          "colorway": [
           "#636efa",
           "#EF553B",
           "#00cc96",
           "#ab63fa",
           "#FFA15A",
           "#19d3f3",
           "#FF6692",
           "#B6E880",
           "#FF97FF",
           "#FECB52"
          ],
          "font": {
           "color": "#2a3f5f"
          },
          "geo": {
           "bgcolor": "white",
           "lakecolor": "white",
           "landcolor": "#E5ECF6",
           "showlakes": true,
           "showland": true,
           "subunitcolor": "white"
          },
          "hoverlabel": {
           "align": "left"
          },
          "hovermode": "closest",
          "mapbox": {
           "style": "light"
          },
          "paper_bgcolor": "white",
          "plot_bgcolor": "#E5ECF6",
          "polar": {
           "angularaxis": {
            "gridcolor": "white",
            "linecolor": "white",
            "ticks": ""
           },
           "bgcolor": "#E5ECF6",
           "radialaxis": {
            "gridcolor": "white",
            "linecolor": "white",
            "ticks": ""
           }
          },
          "scene": {
           "xaxis": {
            "backgroundcolor": "#E5ECF6",
            "gridcolor": "white",
            "gridwidth": 2,
            "linecolor": "white",
            "showbackground": true,
            "ticks": "",
            "zerolinecolor": "white"
           },
           "yaxis": {
            "backgroundcolor": "#E5ECF6",
            "gridcolor": "white",
            "gridwidth": 2,
            "linecolor": "white",
            "showbackground": true,
            "ticks": "",
            "zerolinecolor": "white"
           },
           "zaxis": {
            "backgroundcolor": "#E5ECF6",
            "gridcolor": "white",
            "gridwidth": 2,
            "linecolor": "white",
            "showbackground": true,
            "ticks": "",
            "zerolinecolor": "white"
           }
          },
          "shapedefaults": {
           "line": {
            "color": "#2a3f5f"
           }
          },
          "ternary": {
           "aaxis": {
            "gridcolor": "white",
            "linecolor": "white",
            "ticks": ""
           },
           "baxis": {
            "gridcolor": "white",
            "linecolor": "white",
            "ticks": ""
           },
           "bgcolor": "#E5ECF6",
           "caxis": {
            "gridcolor": "white",
            "linecolor": "white",
            "ticks": ""
           }
          },
          "title": {
           "x": 0.05
          },
          "xaxis": {
           "automargin": true,
           "gridcolor": "white",
           "linecolor": "white",
           "ticks": "",
           "zerolinecolor": "white",
           "zerolinewidth": 2
          },
          "yaxis": {
           "automargin": true,
           "gridcolor": "white",
           "linecolor": "white",
           "ticks": "",
           "zerolinecolor": "white",
           "zerolinewidth": 2
          }
         }
        },
        "title": {
         "text": "Optimization History Plot"
        },
        "xaxis": {
         "title": {
          "text": "#Trials"
         }
        },
        "yaxis": {
         "title": {
          "text": "Objective Value"
         }
        }
       }
      },
      "text/html": [
       "<div>\n",
       "        \n",
       "        \n",
       "            <div id=\"bb7db922-0e32-41c3-bd97-5192c38d137d\" class=\"plotly-graph-div\" style=\"height:525px; width:100%;\"></div>\n",
       "            <script type=\"text/javascript\">\n",
       "                require([\"plotly\"], function(Plotly) {\n",
       "                    window.PLOTLYENV=window.PLOTLYENV || {};\n",
       "                    \n",
       "                if (document.getElementById(\"bb7db922-0e32-41c3-bd97-5192c38d137d\")) {\n",
       "                    Plotly.newPlot(\n",
       "                        'bb7db922-0e32-41c3-bd97-5192c38d137d',\n",
       "                        [{\"mode\": \"markers\", \"name\": \"Objective Value\", \"type\": \"scatter\", \"x\": [0, 1, 2, 3, 4, 5, 6, 7, 8, 9, 10, 11, 12, 13, 14, 15, 16, 17, 18, 19, 20, 21, 22, 23, 24, 25, 26, 27, 28, 29, 30, 31, 32, 33, 34, 35, 36, 37, 38, 39, 40, 41, 42, 43, 44, 45, 46, 47, 48, 49, 50, 51, 52, 53, 54, 55, 56, 57, 58, 59, 60, 61, 62, 63, 64, 65, 66, 67, 68, 69, 70, 71, 72, 73, 74, 75, 76, 77, 78, 79, 80, 81, 82, 83, 84, 85, 86, 87, 88, 89, 90, 91, 92, 93, 94, 95, 96, 97, 98, 99, 100, 101, 102, 103, 104, 105, 106, 107, 108, 109, 110, 111, 112, 113, 114, 115, 116, 117, 118, 119, 120, 121, 122, 123, 124, 125, 126, 127, 128, 129, 130, 131, 132, 133, 134, 135, 136, 137, 138, 139, 140, 141, 142, 143, 144, 145, 146, 147, 148, 149, 150, 151, 152, 153, 154, 155, 156, 157, 158, 159, 160, 161, 162, 163, 164, 165, 166, 167, 168, 169, 170, 171, 172, 173, 174, 175, 176, 177, 178, 179, 180, 181, 182, 183, 184, 185, 186, 187, 188, 189, 190, 191, 192, 193, 194, 195, 196, 197, 198, 199, 200, 201, 202, 203, 204, 205, 206, 207, 208, 209, 210, 211, 212, 213, 214, 215, 216, 217, 218, 219, 220, 221, 222, 223, 224, 225, 226, 227, 228, 229, 230, 231, 232, 233, 234, 235, 236, 237, 238, 239, 240, 241, 242, 243, 244, 245, 246, 247, 248, 249, 250, 251, 252, 253, 254, 255, 256, 257, 258, 259, 260, 261, 262, 263, 264, 265, 266, 267, 268, 269, 270, 271, 272, 273, 274, 275, 276, 277, 278, 279, 280, 281, 282, 283, 284, 285, 286, 287, 288, 289, 290, 291, 292, 293, 294, 295, 296, 297, 298, 299, 300, 301, 302, 303, 304, 305, 306, 307, 308, 309, 310, 311, 312, 313, 314, 315, 316, 317, 318, 319, 320, 321, 322, 323, 324, 325, 326, 327, 328, 329, 330, 331, 332, 333, 334, 335, 336, 337, 338, 339, 340, 341, 342, 343, 344, 345, 346, 347, 348, 349, 350, 351, 352, 353, 354, 355, 356, 357, 358, 359, 360, 361, 362, 363, 364, 365, 366, 367, 368, 369, 370, 371, 372, 373, 374, 375, 376, 377, 378, 379, 380, 381, 382, 383, 384, 385, 386, 387, 388, 389, 390, 391, 392, 393, 394, 395, 396, 397, 398, 399, 400, 401, 402, 403, 404, 405, 406, 407, 408, 409, 410, 411, 412, 413, 414, 415, 416, 417, 418, 419, 420, 421, 422, 423, 424, 425, 426, 427, 428, 429, 430, 431, 432, 433, 434, 435, 436, 437, 438, 439, 440, 441, 442, 443, 444, 445, 446, 447, 448, 449, 450, 451, 452, 453, 454, 455, 456, 457, 458, 459, 460, 461, 462, 463, 464, 465, 466, 467, 468, 469, 470, 471, 472, 473, 474, 475, 476, 477, 478, 479, 480, 481, 482, 483, 484, 485, 486, 487, 488, 489, 490, 491, 492, 493, 494, 495, 496, 497, 498, 499], \"y\": [10.6680862620676, 10.945028871184597, 11.280035316535376, 10.838808161394715, 10.916920908671845, 10.229364225764646, 11.297868957841326, 10.963918056244687, 10.990107694681928, 10.807301607152237, 10.288176138430188, 10.285192762299442, 10.2168413106987, 10.37114756041651, 10.407960750518397, 10.2177938592483, 10.131037042346072, 10.143493131549066, 10.112716611086459, 10.10774736915165, 10.141523390577717, 10.106793169595516, 10.527955503739893, 10.115766081748081, 10.106524730141128, 10.114439079305406, 11.025566843496268, 10.216590978994201, 10.11227326753602, 10.633081657638613, 10.57597253829863, 10.113084653382383, 10.200439722932277, 10.117266719755333, 10.099123592218856, 10.161212485284386, 10.816244903490597, 11.152840934706381, 10.74879344094121, 10.151816509024624, 10.460431157746502, 10.116301144887741, 10.151816509024624, 10.263734814236383, 10.350424689539832, 10.783143782431928, 10.645280586421993, 10.114439079305406, 10.287889011058638, 10.844751225730722, 10.94502887118458, 10.110732902964099, 10.143847617129007, 10.15181650902463, 10.358287758639271, 10.09351968150401, 10.166490757720702, 10.115766081748076, 10.328817897895933, 10.53080797047974, 10.527955503739909, 10.106524730141123, 10.151816509024625, 10.357206377569252, 10.129428704227182, 10.114439079305406, 10.280594802129709, 10.965197559646251, 10.093519681504006, 10.731114539892252, 10.5279555037399, 10.093519681504002, 10.093519681504006, 10.129428704227184, 10.093519681504, 10.151816509024624, 10.21869859277577, 10.431488658016134, 10.114439079305402, 10.151816509024622, 10.691623965077529, 10.115766081748074, 10.099123592218856, 10.117266719755335, 10.099123592218861, 10.093519681504006, 10.11271661108646, 10.157014233472365, 10.141523390577722, 10.812827090843331, 10.115766081748076, 10.15196851126657, 10.151816509024629, 10.131037042346069, 10.093519681504008, 10.093519681504006, 10.42214183404717, 10.115766081748074, 10.726486767671101, 10.099123592218863, 10.245826400782725, 10.099123592218856, 10.141523390577717, 10.111126552831148, 10.131037042346065, 10.115766081748074, 10.129285621443662, 10.157014233472363, 10.151968511266574, 10.417852911423484, 10.093519681504008, 10.093519681504006, 10.115766081748076, 10.151816509024627, 10.17011818142108, 10.129428704227179, 10.093519681504006, 10.869592631312122, 10.615721329785725, 10.483146843341993, 10.151816509024624, 10.099123592218856, 10.110732902964095, 10.115766081748072, 10.131037042346069, 10.093519681504006, 10.151816509024624, 10.14105357374596, 10.10774736915165, 10.111126552831147, 10.151816509024624, 10.112716611086464, 10.115766081748074, 10.093519681504006, 10.151968511266569, 10.10774736915165, 10.46267740158414, 10.151816509024627, 11.051848358446135, 10.110732902964095, 10.789708702820995, 10.093519681504002, 10.093519681504002, 10.107747369151644, 10.150674121207192, 10.131256492741473, 10.110732902964095, 10.945028871184617, 10.131037042346074, 10.115766081748074, 10.099123592218854, 10.099123592218858, 10.151816509024625, 10.107747369151648, 10.17055235723818, 10.115766081748072, 10.129428704227175, 10.099123592218861, 10.151816509024624, 13.16681648831875, 10.115766081748074, 10.099123592218856, 10.15196851126657, 10.115766081748074, 10.151816509024627, 10.482207880858713, 10.093519681504008, 10.115766081748076, 10.49822730991258, 10.4754477192591, 10.129428704227179, 10.093519681504002, 10.09351968150401, 10.14152339057772, 10.115766081748074, 10.151816509024627, 10.093519681504004, 10.115766081748074, 10.151968511266572, 10.09351968150401, 10.141523390577719, 10.10774736915165, 10.11719020761894, 10.093519681504011, 10.111126552831143, 10.130977856069546, 10.11576608174808, 10.093519681504004, 10.15181650902463, 10.151816509024624, 10.169388824085662, 10.093519681504004, 10.109515842086534, 10.141523390577717, 10.106243505432818, 10.15196851126657, 10.093519681504006, 10.115766081748072, 10.821205473756324, 10.151816509024625, 10.09351968150401, 10.110732902964099, 10.099123592218858, 10.115766081748074, 10.093519681504004, 10.15196851126657, 10.115766081748077, 10.443596741257887, 10.527955503739904, 10.107747369151644, 10.151816509024624, 10.099123592218856, 10.110732902964099, 10.10774736915165, 10.130964849866654, 10.115766081748077, 10.09351968150401, 10.107747369151646, 10.112716611086459, 10.141523390577722, 10.150708289242186, 10.093519681504006, 10.11576608174808, 10.099123592218856, 10.110732902964095, 10.115766081748077, 10.093519681504004, 10.111126552831145, 10.10774736915165, 10.88972974450822, 10.150674121207196, 10.09351968150401, 10.115766081748077, 10.099123592218861, 10.110732902964092, 10.093519681504006, 10.11576608174808, 10.115766081748074, 10.48896727715026, 10.093519681504004, 10.151816509024632, 10.09351968150401, 10.115766081748074, 10.112716611086466, 10.151968511266567, 10.093519681504006, 10.115766081748074, 10.11112655283115, 10.388633591150711, 10.141523390577717, 10.13103704234607, 10.09912359221886, 10.151816509024624, 10.151968511266569, 10.115766081748081, 10.112716611086466, 10.109515842086534, 10.94502887118459, 10.10723619569346, 10.681966375230104, 10.093519681504013, 10.115766081748081, 10.150674121207189, 10.112716611086455, 10.09351968150401, 10.151816509024624, 10.39432985608741, 10.115766081748076, 10.107747369151644, 10.511015598228456, 10.093519681504006, 10.115766081748077, 10.13103704234607, 10.151816509024627, 10.112716611086459, 10.107747369151653, 10.170118181421083, 10.115766081748074, 10.683140771136218, 10.15196851126657, 10.093519681504006, 10.674970792467585, 10.151816509024627, 10.115766081748074, 10.099123592218854, 10.110732902964099, 10.945028871184613, 10.115766081748074, 10.130964849866647, 10.65735148301163, 10.093519681504002, 10.115766081748074, 10.112716611086459, 10.44440249245056, 10.151816509024625, 10.09351968150401, 10.110732902964093, 10.115766081748081, 10.150674121207194, 10.607063923442736, 10.115766081748074, 10.110732902964095, 10.115766081748077, 10.099123592218854, 10.151816509024625, 10.09351968150401, 10.115766081748076, 10.15070828924218, 10.131037042346069, 10.10624350543282, 10.093519681504006, 10.771096427673559, 10.115766081748076, 10.110732902964099, 10.093519681504006, 10.141523390577717, 10.093519681504008, 10.473685320756337, 10.801678409194945, 10.151816509024627, 10.09351968150401, 10.111126552831143, 10.151816509024624, 10.115766081748077, 10.129428704227182, 10.112716611086464, 10.15196851126657, 10.09912359221886, 10.115766081748077, 10.110732902964097, 10.141523390577719, 10.109515842086534, 10.11271661108646, 10.093519681504008, 10.151816509024627, 10.443027101630738, 10.15196851126657, 10.14152339057772, 10.309673224994668, 10.67352578730673, 10.09351968150401, 10.115766081748077, 10.110732902964102, 10.13103704234607, 10.22922219720051, 10.093604626216184, 10.94502887118461, 10.151816509024625, 10.151968511266572, 10.115766081748081, 10.47413391552484, 10.117266719755333, 10.115766081748074, 10.13097785606954, 10.151816509024622, 10.166490757720702, 10.753339520052808, 10.11271661108646, 10.107747369151651, 10.106793169595512, 10.115766081748074, 10.599732948908956, 10.141523390577714, 10.15196851126657, 10.10951584208653, 10.921030899555658, 10.129428704227177, 10.106243505432822, 10.107747369151646, 10.115766081748081, 10.17011818142108, 10.099123592218858, 10.151816509024625, 10.150674121207192, 10.151816509024624, 10.112716611086459, 10.662184856195365, 10.107747369151642, 10.639005761641496, 10.093519681504008, 10.110732902964095, 10.115766081748081, 10.13096484986665, 10.106793169595512, 10.343132298644132, 10.170118181421081, 10.115766081748072, 10.151816509024627, 10.527955503739907, 10.093519681504006, 10.14152339057772, 10.111126552831147, 10.15196851126657, 10.093519681504004, 10.107747369151653, 10.115766081748076, 10.115766081748077, 10.408232963756467, 10.11271661108646, 10.151816509024624, 10.472814607114714, 10.141053573745966, 10.09351968150401, 10.115766081748081, 10.09912359221886, 10.727849525850747, 10.151816509024627, 10.15196851126657, 10.115766081748074, 10.110732902964097, 10.09912359221886, 10.109515842086534, 10.09351968150401, 10.115766081748077, 10.143847617129003, 10.689618592827522, 10.13103704234607, 10.151816509024625, 10.110732902964097, 10.115766081748074, 10.24372338786202, 10.112716611086459, 10.151816509024618, 10.09351968150401, 10.616578800847437, 10.115766081748074, 10.117190207618943, 10.11576608174808, 10.72060878666238, 10.151816509024629, 10.945028871184611, 10.106243505432818, 10.151968511266569, 10.683014175514227, 10.112716611086459, 10.10774736915165, 10.115766081748074, 10.131037042346072, 10.107236195693458, 10.130545646581297, 10.15181650902463, 10.151816509024625, 10.099123592218863, 10.141053573745962, 10.106243505432824, 10.11576608174808, 10.093519681504008, 10.093519681504002, 10.44482025308185, 10.109515842086536, 10.141523390577722, 10.660260481157529, 10.111126552831148, 10.093519681504008, 10.107236195693456, 10.115766081748074, 11.0890575799662, 10.52795550373989, 10.093519681504004, 10.115766081748081, 10.099123592218856, 10.130964849866643, 10.115766081748074, 10.09351968150401, 10.107236195693456, 10.112716611086459, 10.151816509024624, 10.52450334390085, 10.115766081748074, 10.115766081748074, 10.11271661108646, 10.093519681504004, 10.129428704227177, 10.110732902964092, 10.681733521081267, 10.497498597389182, 10.151816509024624, 10.14152339057772, 10.11576608174808, 10.115766081748076, 10.15196851126657, 10.112716611086459, 10.151816509024624, 10.13125649274147, 10.099123592218858, 10.13103704234607, 10.110732902964097, 10.10774736915165, 10.115766081748081, 10.151816509024624, 10.170118181421087, 10.409716330154884, 10.107747369151644, 10.661016543961527, 10.093519681504002, 10.115766081748081, 10.099123592218856, 10.452716546570262, 10.110732902964097, 10.141523390577719]}, {\"name\": \"Best Value\", \"type\": \"scatter\", \"x\": [0, 1, 2, 3, 4, 5, 6, 7, 8, 9, 10, 11, 12, 13, 14, 15, 16, 17, 18, 19, 20, 21, 22, 23, 24, 25, 26, 27, 28, 29, 30, 31, 32, 33, 34, 35, 36, 37, 38, 39, 40, 41, 42, 43, 44, 45, 46, 47, 48, 49, 50, 51, 52, 53, 54, 55, 56, 57, 58, 59, 60, 61, 62, 63, 64, 65, 66, 67, 68, 69, 70, 71, 72, 73, 74, 75, 76, 77, 78, 79, 80, 81, 82, 83, 84, 85, 86, 87, 88, 89, 90, 91, 92, 93, 94, 95, 96, 97, 98, 99, 100, 101, 102, 103, 104, 105, 106, 107, 108, 109, 110, 111, 112, 113, 114, 115, 116, 117, 118, 119, 120, 121, 122, 123, 124, 125, 126, 127, 128, 129, 130, 131, 132, 133, 134, 135, 136, 137, 138, 139, 140, 141, 142, 143, 144, 145, 146, 147, 148, 149, 150, 151, 152, 153, 154, 155, 156, 157, 158, 159, 160, 161, 162, 163, 164, 165, 166, 167, 168, 169, 170, 171, 172, 173, 174, 175, 176, 177, 178, 179, 180, 181, 182, 183, 184, 185, 186, 187, 188, 189, 190, 191, 192, 193, 194, 195, 196, 197, 198, 199, 200, 201, 202, 203, 204, 205, 206, 207, 208, 209, 210, 211, 212, 213, 214, 215, 216, 217, 218, 219, 220, 221, 222, 223, 224, 225, 226, 227, 228, 229, 230, 231, 232, 233, 234, 235, 236, 237, 238, 239, 240, 241, 242, 243, 244, 245, 246, 247, 248, 249, 250, 251, 252, 253, 254, 255, 256, 257, 258, 259, 260, 261, 262, 263, 264, 265, 266, 267, 268, 269, 270, 271, 272, 273, 274, 275, 276, 277, 278, 279, 280, 281, 282, 283, 284, 285, 286, 287, 288, 289, 290, 291, 292, 293, 294, 295, 296, 297, 298, 299, 300, 301, 302, 303, 304, 305, 306, 307, 308, 309, 310, 311, 312, 313, 314, 315, 316, 317, 318, 319, 320, 321, 322, 323, 324, 325, 326, 327, 328, 329, 330, 331, 332, 333, 334, 335, 336, 337, 338, 339, 340, 341, 342, 343, 344, 345, 346, 347, 348, 349, 350, 351, 352, 353, 354, 355, 356, 357, 358, 359, 360, 361, 362, 363, 364, 365, 366, 367, 368, 369, 370, 371, 372, 373, 374, 375, 376, 377, 378, 379, 380, 381, 382, 383, 384, 385, 386, 387, 388, 389, 390, 391, 392, 393, 394, 395, 396, 397, 398, 399, 400, 401, 402, 403, 404, 405, 406, 407, 408, 409, 410, 411, 412, 413, 414, 415, 416, 417, 418, 419, 420, 421, 422, 423, 424, 425, 426, 427, 428, 429, 430, 431, 432, 433, 434, 435, 436, 437, 438, 439, 440, 441, 442, 443, 444, 445, 446, 447, 448, 449, 450, 451, 452, 453, 454, 455, 456, 457, 458, 459, 460, 461, 462, 463, 464, 465, 466, 467, 468, 469, 470, 471, 472, 473, 474, 475, 476, 477, 478, 479, 480, 481, 482, 483, 484, 485, 486, 487, 488, 489, 490, 491, 492, 493, 494, 495, 496, 497, 498, 499], \"y\": [10.6680862620676, 10.6680862620676, 10.6680862620676, 10.6680862620676, 10.6680862620676, 10.229364225764646, 10.229364225764646, 10.229364225764646, 10.229364225764646, 10.229364225764646, 10.229364225764646, 10.229364225764646, 10.2168413106987, 10.2168413106987, 10.2168413106987, 10.2168413106987, 10.131037042346072, 10.131037042346072, 10.112716611086459, 10.10774736915165, 10.10774736915165, 10.106793169595516, 10.106793169595516, 10.106793169595516, 10.106524730141128, 10.106524730141128, 10.106524730141128, 10.106524730141128, 10.106524730141128, 10.106524730141128, 10.106524730141128, 10.106524730141128, 10.106524730141128, 10.106524730141128, 10.099123592218856, 10.099123592218856, 10.099123592218856, 10.099123592218856, 10.099123592218856, 10.099123592218856, 10.099123592218856, 10.099123592218856, 10.099123592218856, 10.099123592218856, 10.099123592218856, 10.099123592218856, 10.099123592218856, 10.099123592218856, 10.099123592218856, 10.099123592218856, 10.099123592218856, 10.099123592218856, 10.099123592218856, 10.099123592218856, 10.099123592218856, 10.09351968150401, 10.09351968150401, 10.09351968150401, 10.09351968150401, 10.09351968150401, 10.09351968150401, 10.09351968150401, 10.09351968150401, 10.09351968150401, 10.09351968150401, 10.09351968150401, 10.09351968150401, 10.09351968150401, 10.093519681504006, 10.093519681504006, 10.093519681504006, 10.093519681504002, 10.093519681504002, 10.093519681504002, 10.093519681504, 10.093519681504, 10.093519681504, 10.093519681504, 10.093519681504, 10.093519681504, 10.093519681504, 10.093519681504, 10.093519681504, 10.093519681504, 10.093519681504, 10.093519681504, 10.093519681504, 10.093519681504, 10.093519681504, 10.093519681504, 10.093519681504, 10.093519681504, 10.093519681504, 10.093519681504, 10.093519681504, 10.093519681504, 10.093519681504, 10.093519681504, 10.093519681504, 10.093519681504, 10.093519681504, 10.093519681504, 10.093519681504, 10.093519681504, 10.093519681504, 10.093519681504, 10.093519681504, 10.093519681504, 10.093519681504, 10.093519681504, 10.093519681504, 10.093519681504, 10.093519681504, 10.093519681504, 10.093519681504, 10.093519681504, 10.093519681504, 10.093519681504, 10.093519681504, 10.093519681504, 10.093519681504, 10.093519681504, 10.093519681504, 10.093519681504, 10.093519681504, 10.093519681504, 10.093519681504, 10.093519681504, 10.093519681504, 10.093519681504, 10.093519681504, 10.093519681504, 10.093519681504, 10.093519681504, 10.093519681504, 10.093519681504, 10.093519681504, 10.093519681504, 10.093519681504, 10.093519681504, 10.093519681504, 10.093519681504, 10.093519681504, 10.093519681504, 10.093519681504, 10.093519681504, 10.093519681504, 10.093519681504, 10.093519681504, 10.093519681504, 10.093519681504, 10.093519681504, 10.093519681504, 10.093519681504, 10.093519681504, 10.093519681504, 10.093519681504, 10.093519681504, 10.093519681504, 10.093519681504, 10.093519681504, 10.093519681504, 10.093519681504, 10.093519681504, 10.093519681504, 10.093519681504, 10.093519681504, 10.093519681504, 10.093519681504, 10.093519681504, 10.093519681504, 10.093519681504, 10.093519681504, 10.093519681504, 10.093519681504, 10.093519681504, 10.093519681504, 10.093519681504, 10.093519681504, 10.093519681504, 10.093519681504, 10.093519681504, 10.093519681504, 10.093519681504, 10.093519681504, 10.093519681504, 10.093519681504, 10.093519681504, 10.093519681504, 10.093519681504, 10.093519681504, 10.093519681504, 10.093519681504, 10.093519681504, 10.093519681504, 10.093519681504, 10.093519681504, 10.093519681504, 10.093519681504, 10.093519681504, 10.093519681504, 10.093519681504, 10.093519681504, 10.093519681504, 10.093519681504, 10.093519681504, 10.093519681504, 10.093519681504, 10.093519681504, 10.093519681504, 10.093519681504, 10.093519681504, 10.093519681504, 10.093519681504, 10.093519681504, 10.093519681504, 10.093519681504, 10.093519681504, 10.093519681504, 10.093519681504, 10.093519681504, 10.093519681504, 10.093519681504, 10.093519681504, 10.093519681504, 10.093519681504, 10.093519681504, 10.093519681504, 10.093519681504, 10.093519681504, 10.093519681504, 10.093519681504, 10.093519681504, 10.093519681504, 10.093519681504, 10.093519681504, 10.093519681504, 10.093519681504, 10.093519681504, 10.093519681504, 10.093519681504, 10.093519681504, 10.093519681504, 10.093519681504, 10.093519681504, 10.093519681504, 10.093519681504, 10.093519681504, 10.093519681504, 10.093519681504, 10.093519681504, 10.093519681504, 10.093519681504, 10.093519681504, 10.093519681504, 10.093519681504, 10.093519681504, 10.093519681504, 10.093519681504, 10.093519681504, 10.093519681504, 10.093519681504, 10.093519681504, 10.093519681504, 10.093519681504, 10.093519681504, 10.093519681504, 10.093519681504, 10.093519681504, 10.093519681504, 10.093519681504, 10.093519681504, 10.093519681504, 10.093519681504, 10.093519681504, 10.093519681504, 10.093519681504, 10.093519681504, 10.093519681504, 10.093519681504, 10.093519681504, 10.093519681504, 10.093519681504, 10.093519681504, 10.093519681504, 10.093519681504, 10.093519681504, 10.093519681504, 10.093519681504, 10.093519681504, 10.093519681504, 10.093519681504, 10.093519681504, 10.093519681504, 10.093519681504, 10.093519681504, 10.093519681504, 10.093519681504, 10.093519681504, 10.093519681504, 10.093519681504, 10.093519681504, 10.093519681504, 10.093519681504, 10.093519681504, 10.093519681504, 10.093519681504, 10.093519681504, 10.093519681504, 10.093519681504, 10.093519681504, 10.093519681504, 10.093519681504, 10.093519681504, 10.093519681504, 10.093519681504, 10.093519681504, 10.093519681504, 10.093519681504, 10.093519681504, 10.093519681504, 10.093519681504, 10.093519681504, 10.093519681504, 10.093519681504, 10.093519681504, 10.093519681504, 10.093519681504, 10.093519681504, 10.093519681504, 10.093519681504, 10.093519681504, 10.093519681504, 10.093519681504, 10.093519681504, 10.093519681504, 10.093519681504, 10.093519681504, 10.093519681504, 10.093519681504, 10.093519681504, 10.093519681504, 10.093519681504, 10.093519681504, 10.093519681504, 10.093519681504, 10.093519681504, 10.093519681504, 10.093519681504, 10.093519681504, 10.093519681504, 10.093519681504, 10.093519681504, 10.093519681504, 10.093519681504, 10.093519681504, 10.093519681504, 10.093519681504, 10.093519681504, 10.093519681504, 10.093519681504, 10.093519681504, 10.093519681504, 10.093519681504, 10.093519681504, 10.093519681504, 10.093519681504, 10.093519681504, 10.093519681504, 10.093519681504, 10.093519681504, 10.093519681504, 10.093519681504, 10.093519681504, 10.093519681504, 10.093519681504, 10.093519681504, 10.093519681504, 10.093519681504, 10.093519681504, 10.093519681504, 10.093519681504, 10.093519681504, 10.093519681504, 10.093519681504, 10.093519681504, 10.093519681504, 10.093519681504, 10.093519681504, 10.093519681504, 10.093519681504, 10.093519681504, 10.093519681504, 10.093519681504, 10.093519681504, 10.093519681504, 10.093519681504, 10.093519681504, 10.093519681504, 10.093519681504, 10.093519681504, 10.093519681504, 10.093519681504, 10.093519681504, 10.093519681504, 10.093519681504, 10.093519681504, 10.093519681504, 10.093519681504, 10.093519681504, 10.093519681504, 10.093519681504, 10.093519681504, 10.093519681504, 10.093519681504, 10.093519681504, 10.093519681504, 10.093519681504, 10.093519681504, 10.093519681504, 10.093519681504, 10.093519681504, 10.093519681504, 10.093519681504, 10.093519681504, 10.093519681504, 10.093519681504, 10.093519681504, 10.093519681504, 10.093519681504, 10.093519681504, 10.093519681504, 10.093519681504, 10.093519681504, 10.093519681504, 10.093519681504, 10.093519681504, 10.093519681504, 10.093519681504, 10.093519681504, 10.093519681504, 10.093519681504, 10.093519681504, 10.093519681504, 10.093519681504, 10.093519681504, 10.093519681504, 10.093519681504, 10.093519681504, 10.093519681504, 10.093519681504, 10.093519681504, 10.093519681504, 10.093519681504, 10.093519681504, 10.093519681504, 10.093519681504, 10.093519681504, 10.093519681504, 10.093519681504, 10.093519681504, 10.093519681504, 10.093519681504, 10.093519681504, 10.093519681504, 10.093519681504, 10.093519681504, 10.093519681504, 10.093519681504, 10.093519681504, 10.093519681504, 10.093519681504, 10.093519681504, 10.093519681504, 10.093519681504, 10.093519681504, 10.093519681504, 10.093519681504, 10.093519681504, 10.093519681504, 10.093519681504, 10.093519681504, 10.093519681504, 10.093519681504, 10.093519681504, 10.093519681504, 10.093519681504, 10.093519681504, 10.093519681504, 10.093519681504, 10.093519681504, 10.093519681504, 10.093519681504, 10.093519681504, 10.093519681504, 10.093519681504, 10.093519681504, 10.093519681504, 10.093519681504, 10.093519681504]}],\n",
       "                        {\"template\": {\"data\": {\"bar\": [{\"error_x\": {\"color\": \"#2a3f5f\"}, \"error_y\": {\"color\": \"#2a3f5f\"}, \"marker\": {\"line\": {\"color\": \"#E5ECF6\", \"width\": 0.5}}, \"type\": \"bar\"}], \"barpolar\": [{\"marker\": {\"line\": {\"color\": \"#E5ECF6\", \"width\": 0.5}}, \"type\": \"barpolar\"}], \"carpet\": [{\"aaxis\": {\"endlinecolor\": \"#2a3f5f\", \"gridcolor\": \"white\", \"linecolor\": \"white\", \"minorgridcolor\": \"white\", \"startlinecolor\": \"#2a3f5f\"}, \"baxis\": {\"endlinecolor\": \"#2a3f5f\", \"gridcolor\": \"white\", \"linecolor\": \"white\", \"minorgridcolor\": \"white\", \"startlinecolor\": \"#2a3f5f\"}, \"type\": \"carpet\"}], \"choropleth\": [{\"colorbar\": {\"outlinewidth\": 0, \"ticks\": \"\"}, \"type\": \"choropleth\"}], \"contour\": [{\"colorbar\": {\"outlinewidth\": 0, \"ticks\": \"\"}, \"colorscale\": [[0.0, \"#0d0887\"], [0.1111111111111111, \"#46039f\"], [0.2222222222222222, \"#7201a8\"], [0.3333333333333333, \"#9c179e\"], [0.4444444444444444, \"#bd3786\"], [0.5555555555555556, \"#d8576b\"], [0.6666666666666666, \"#ed7953\"], [0.7777777777777778, \"#fb9f3a\"], [0.8888888888888888, \"#fdca26\"], [1.0, \"#f0f921\"]], \"type\": \"contour\"}], \"contourcarpet\": [{\"colorbar\": {\"outlinewidth\": 0, \"ticks\": \"\"}, \"type\": \"contourcarpet\"}], \"heatmap\": [{\"colorbar\": {\"outlinewidth\": 0, \"ticks\": \"\"}, \"colorscale\": [[0.0, \"#0d0887\"], [0.1111111111111111, \"#46039f\"], [0.2222222222222222, \"#7201a8\"], [0.3333333333333333, \"#9c179e\"], [0.4444444444444444, \"#bd3786\"], [0.5555555555555556, \"#d8576b\"], [0.6666666666666666, \"#ed7953\"], [0.7777777777777778, \"#fb9f3a\"], [0.8888888888888888, \"#fdca26\"], [1.0, \"#f0f921\"]], \"type\": \"heatmap\"}], \"heatmapgl\": [{\"colorbar\": {\"outlinewidth\": 0, \"ticks\": \"\"}, \"colorscale\": [[0.0, \"#0d0887\"], [0.1111111111111111, \"#46039f\"], [0.2222222222222222, \"#7201a8\"], [0.3333333333333333, \"#9c179e\"], [0.4444444444444444, \"#bd3786\"], [0.5555555555555556, \"#d8576b\"], [0.6666666666666666, \"#ed7953\"], [0.7777777777777778, \"#fb9f3a\"], [0.8888888888888888, \"#fdca26\"], [1.0, \"#f0f921\"]], \"type\": \"heatmapgl\"}], \"histogram\": [{\"marker\": {\"colorbar\": {\"outlinewidth\": 0, \"ticks\": \"\"}}, \"type\": \"histogram\"}], \"histogram2d\": [{\"colorbar\": {\"outlinewidth\": 0, \"ticks\": \"\"}, \"colorscale\": [[0.0, \"#0d0887\"], [0.1111111111111111, \"#46039f\"], [0.2222222222222222, \"#7201a8\"], [0.3333333333333333, \"#9c179e\"], [0.4444444444444444, \"#bd3786\"], [0.5555555555555556, \"#d8576b\"], [0.6666666666666666, \"#ed7953\"], [0.7777777777777778, \"#fb9f3a\"], [0.8888888888888888, \"#fdca26\"], [1.0, \"#f0f921\"]], \"type\": \"histogram2d\"}], \"histogram2dcontour\": [{\"colorbar\": {\"outlinewidth\": 0, \"ticks\": \"\"}, \"colorscale\": [[0.0, \"#0d0887\"], [0.1111111111111111, \"#46039f\"], [0.2222222222222222, \"#7201a8\"], [0.3333333333333333, \"#9c179e\"], [0.4444444444444444, \"#bd3786\"], [0.5555555555555556, \"#d8576b\"], [0.6666666666666666, \"#ed7953\"], [0.7777777777777778, \"#fb9f3a\"], [0.8888888888888888, \"#fdca26\"], [1.0, \"#f0f921\"]], \"type\": \"histogram2dcontour\"}], \"mesh3d\": [{\"colorbar\": {\"outlinewidth\": 0, \"ticks\": \"\"}, \"type\": \"mesh3d\"}], \"parcoords\": [{\"line\": {\"colorbar\": {\"outlinewidth\": 0, \"ticks\": \"\"}}, \"type\": \"parcoords\"}], \"scatter\": [{\"marker\": {\"colorbar\": {\"outlinewidth\": 0, \"ticks\": \"\"}}, \"type\": \"scatter\"}], \"scatter3d\": [{\"line\": {\"colorbar\": {\"outlinewidth\": 0, \"ticks\": \"\"}}, \"marker\": {\"colorbar\": {\"outlinewidth\": 0, \"ticks\": \"\"}}, \"type\": \"scatter3d\"}], \"scattercarpet\": [{\"marker\": {\"colorbar\": {\"outlinewidth\": 0, \"ticks\": \"\"}}, \"type\": \"scattercarpet\"}], \"scattergeo\": [{\"marker\": {\"colorbar\": {\"outlinewidth\": 0, \"ticks\": \"\"}}, \"type\": \"scattergeo\"}], \"scattergl\": [{\"marker\": {\"colorbar\": {\"outlinewidth\": 0, \"ticks\": \"\"}}, \"type\": \"scattergl\"}], \"scattermapbox\": [{\"marker\": {\"colorbar\": {\"outlinewidth\": 0, \"ticks\": \"\"}}, \"type\": \"scattermapbox\"}], \"scatterpolar\": [{\"marker\": {\"colorbar\": {\"outlinewidth\": 0, \"ticks\": \"\"}}, \"type\": \"scatterpolar\"}], \"scatterpolargl\": [{\"marker\": {\"colorbar\": {\"outlinewidth\": 0, \"ticks\": \"\"}}, \"type\": \"scatterpolargl\"}], \"scatterternary\": [{\"marker\": {\"colorbar\": {\"outlinewidth\": 0, \"ticks\": \"\"}}, \"type\": \"scatterternary\"}], \"surface\": [{\"colorbar\": {\"outlinewidth\": 0, \"ticks\": \"\"}, \"colorscale\": [[0.0, \"#0d0887\"], [0.1111111111111111, \"#46039f\"], [0.2222222222222222, \"#7201a8\"], [0.3333333333333333, \"#9c179e\"], [0.4444444444444444, \"#bd3786\"], [0.5555555555555556, \"#d8576b\"], [0.6666666666666666, \"#ed7953\"], [0.7777777777777778, \"#fb9f3a\"], [0.8888888888888888, \"#fdca26\"], [1.0, \"#f0f921\"]], \"type\": \"surface\"}], \"table\": [{\"cells\": {\"fill\": {\"color\": \"#EBF0F8\"}, \"line\": {\"color\": \"white\"}}, \"header\": {\"fill\": {\"color\": \"#C8D4E3\"}, \"line\": {\"color\": \"white\"}}, \"type\": \"table\"}]}, \"layout\": {\"annotationdefaults\": {\"arrowcolor\": \"#2a3f5f\", \"arrowhead\": 0, \"arrowwidth\": 1}, \"colorscale\": {\"diverging\": [[0, \"#8e0152\"], [0.1, \"#c51b7d\"], [0.2, \"#de77ae\"], [0.3, \"#f1b6da\"], [0.4, \"#fde0ef\"], [0.5, \"#f7f7f7\"], [0.6, \"#e6f5d0\"], [0.7, \"#b8e186\"], [0.8, \"#7fbc41\"], [0.9, \"#4d9221\"], [1, \"#276419\"]], \"sequential\": [[0.0, \"#0d0887\"], [0.1111111111111111, \"#46039f\"], [0.2222222222222222, \"#7201a8\"], [0.3333333333333333, \"#9c179e\"], [0.4444444444444444, \"#bd3786\"], [0.5555555555555556, \"#d8576b\"], [0.6666666666666666, \"#ed7953\"], [0.7777777777777778, \"#fb9f3a\"], [0.8888888888888888, \"#fdca26\"], [1.0, \"#f0f921\"]], \"sequentialminus\": [[0.0, \"#0d0887\"], [0.1111111111111111, \"#46039f\"], [0.2222222222222222, \"#7201a8\"], [0.3333333333333333, \"#9c179e\"], [0.4444444444444444, \"#bd3786\"], [0.5555555555555556, \"#d8576b\"], [0.6666666666666666, \"#ed7953\"], [0.7777777777777778, \"#fb9f3a\"], [0.8888888888888888, \"#fdca26\"], [1.0, \"#f0f921\"]]}, \"colorway\": [\"#636efa\", \"#EF553B\", \"#00cc96\", \"#ab63fa\", \"#FFA15A\", \"#19d3f3\", \"#FF6692\", \"#B6E880\", \"#FF97FF\", \"#FECB52\"], \"font\": {\"color\": \"#2a3f5f\"}, \"geo\": {\"bgcolor\": \"white\", \"lakecolor\": \"white\", \"landcolor\": \"#E5ECF6\", \"showlakes\": true, \"showland\": true, \"subunitcolor\": \"white\"}, \"hoverlabel\": {\"align\": \"left\"}, \"hovermode\": \"closest\", \"mapbox\": {\"style\": \"light\"}, \"paper_bgcolor\": \"white\", \"plot_bgcolor\": \"#E5ECF6\", \"polar\": {\"angularaxis\": {\"gridcolor\": \"white\", \"linecolor\": \"white\", \"ticks\": \"\"}, \"bgcolor\": \"#E5ECF6\", \"radialaxis\": {\"gridcolor\": \"white\", \"linecolor\": \"white\", \"ticks\": \"\"}}, \"scene\": {\"xaxis\": {\"backgroundcolor\": \"#E5ECF6\", \"gridcolor\": \"white\", \"gridwidth\": 2, \"linecolor\": \"white\", \"showbackground\": true, \"ticks\": \"\", \"zerolinecolor\": \"white\"}, \"yaxis\": {\"backgroundcolor\": \"#E5ECF6\", \"gridcolor\": \"white\", \"gridwidth\": 2, \"linecolor\": \"white\", \"showbackground\": true, \"ticks\": \"\", \"zerolinecolor\": \"white\"}, \"zaxis\": {\"backgroundcolor\": \"#E5ECF6\", \"gridcolor\": \"white\", \"gridwidth\": 2, \"linecolor\": \"white\", \"showbackground\": true, \"ticks\": \"\", \"zerolinecolor\": \"white\"}}, \"shapedefaults\": {\"line\": {\"color\": \"#2a3f5f\"}}, \"ternary\": {\"aaxis\": {\"gridcolor\": \"white\", \"linecolor\": \"white\", \"ticks\": \"\"}, \"baxis\": {\"gridcolor\": \"white\", \"linecolor\": \"white\", \"ticks\": \"\"}, \"bgcolor\": \"#E5ECF6\", \"caxis\": {\"gridcolor\": \"white\", \"linecolor\": \"white\", \"ticks\": \"\"}}, \"title\": {\"x\": 0.05}, \"xaxis\": {\"automargin\": true, \"gridcolor\": \"white\", \"linecolor\": \"white\", \"ticks\": \"\", \"zerolinecolor\": \"white\", \"zerolinewidth\": 2}, \"yaxis\": {\"automargin\": true, \"gridcolor\": \"white\", \"linecolor\": \"white\", \"ticks\": \"\", \"zerolinecolor\": \"white\", \"zerolinewidth\": 2}}}, \"title\": {\"text\": \"Optimization History Plot\"}, \"xaxis\": {\"title\": {\"text\": \"#Trials\"}}, \"yaxis\": {\"title\": {\"text\": \"Objective Value\"}}},\n",
       "                        {\"responsive\": true}\n",
       "                    ).then(function(){\n",
       "                            \n",
       "var gd = document.getElementById('bb7db922-0e32-41c3-bd97-5192c38d137d');\n",
       "var x = new MutationObserver(function (mutations, observer) {{\n",
       "        var display = window.getComputedStyle(gd).display;\n",
       "        if (!display || display === 'none') {{\n",
       "            console.log([gd, 'removed!']);\n",
       "            Plotly.purge(gd);\n",
       "            observer.disconnect();\n",
       "        }}\n",
       "}});\n",
       "\n",
       "// Listen for the removal of the full notebook cells\n",
       "var notebookContainer = gd.closest('#notebook-container');\n",
       "if (notebookContainer) {{\n",
       "    x.observe(notebookContainer, {childList: true});\n",
       "}}\n",
       "\n",
       "// Listen for the clearing of the current output cell\n",
       "var outputEl = gd.closest('.output');\n",
       "if (outputEl) {{\n",
       "    x.observe(outputEl, {childList: true});\n",
       "}}\n",
       "\n",
       "                        })\n",
       "                };\n",
       "                });\n",
       "            </script>\n",
       "        </div>"
      ]
     },
     "metadata": {},
     "output_type": "display_data"
    }
   ],
   "source": [
    "#printing the lowest sMAPE score\n",
    "print('Lowest sMAPE Score',study_dt.best_value)\n",
    "#plotting the values of the sMAPE over time\n",
    "plot_optimization_history(study_dt)"
   ]
  },
  {
   "cell_type": "code",
   "execution_count": 46,
   "metadata": {},
   "outputs": [
    {
     "name": "stdout",
     "output_type": "stream",
     "text": [
      "--- 1259.8275401592255 seconds ---\n"
     ]
    }
   ],
   "source": [
    "def rf_objective(trial):\n",
    "    #defining ranges for decison tree optimization\n",
    "    max_depth = trial.suggest_int('max_depth', 1, 50,1)\n",
    "    max_features = trial.suggest_categorical('max_features', ['auto', 'sqrt','log2'])\n",
    "    min_samples_split = trial.suggest_uniform('min_samples_split', 0, 1)\n",
    "    bootstrap = trial.suggest_categorical('bootstrap',['True','False'])\n",
    "    #creating model\n",
    "    RF = RandomForestRegressor(bootstrap=bootstrap,\n",
    "                                 max_depth = max_depth, max_features = max_features,\n",
    "                                 min_samples_split = min_samples_split)\n",
    "    model = RegressorChain(base_estimator=RF)\n",
    "     #fitting the model to the training data\n",
    "    cross_val_scores = cross_val_score(model, train_features, train_target, cv=5, scoring=sMAPE_score)\n",
    "    #returning the score that compares the predicted validation targets to the actual validation targets\n",
    "    return cross_val_scores.mean()\n",
    "#calculating the start time\n",
    "start_time = time.time()\n",
    "#creating the study to optimize the hyperparameters\n",
    "study_rf = optuna.create_study(direction='minimize',sampler=TPESampler(seed=10))\n",
    "study_rf.optimize(rf_objective, n_trials=100)\n",
    "#printing the time to completion of the study\n",
    "print(\"--- %s seconds ---\" % (time.time() - start_time))"
   ]
  },
  {
   "cell_type": "code",
   "execution_count": 47,
   "metadata": {},
   "outputs": [
    {
     "name": "stdout",
     "output_type": "stream",
     "text": [
      "Lowest sMAPE Score 8.149396674982137\n"
     ]
    },
    {
     "data": {
      "application/vnd.plotly.v1+json": {
       "config": {
        "plotlyServerURL": "https://plot.ly"
       },
       "data": [
        {
         "mode": "markers",
         "name": "Objective Value",
         "type": "scatter",
         "x": [
          0,
          1,
          2,
          3,
          4,
          5,
          6,
          7,
          8,
          9,
          10,
          11,
          12,
          13,
          14,
          15,
          16,
          17,
          18,
          19,
          20,
          21,
          22,
          23,
          24,
          25,
          26,
          27,
          28,
          29,
          30,
          31,
          32,
          33,
          34,
          35,
          36,
          37,
          38,
          39,
          40,
          41,
          42,
          43,
          44,
          45,
          46,
          47,
          48,
          49,
          50,
          51,
          52,
          53,
          54,
          55,
          56,
          57,
          58,
          59,
          60,
          61,
          62,
          63,
          64,
          65,
          66,
          67,
          68,
          69,
          70,
          71,
          72,
          73,
          74,
          75,
          76,
          77,
          78,
          79,
          80,
          81,
          82,
          83,
          84,
          85,
          86,
          87,
          88,
          89,
          90,
          91,
          92,
          93,
          94,
          95,
          96,
          97,
          98,
          99
         ],
         "y": [
          10.5055286709,
          11.3274524744,
          11.326785113,
          10.485866553,
          11.3269440699,
          11.0155999119,
          10.1390036043,
          9.8329188756,
          10.6972194684,
          10.1174169182,
          8.9769597231,
          9.3072017406,
          8.9892897154,
          9.2942726915,
          9.9974608653,
          10.4448165056,
          11.3246185731,
          10.2201530236,
          8.7399651003,
          9.8062832034,
          9.9440914967,
          9.3045230853,
          9.6918018556,
          8.588586472,
          9.9567053057,
          10.556922912,
          9.7031154396,
          9.9571753095,
          9.7330671033,
          10.5563925904,
          9.9023541402,
          9.0416784775,
          8.4402196001,
          9.8838835565,
          9.6939300892,
          8.203393234,
          11.3257025817,
          9.7447589782,
          11.3253569542,
          9.6214130871,
          10.3490779393,
          9.8504103936,
          8.5883318334,
          9.5521227168,
          9.7919551573,
          9.5955125173,
          9.6297342058,
          9.9022921029,
          9.8958888945,
          10.7626573453,
          10.0038507768,
          8.8390930239,
          8.7052005666,
          9.7706465959,
          10.5858619732,
          9.5597919689,
          9.8538508074,
          8.4613884196,
          9.5563083963,
          9.7582357968,
          11.3249614846,
          8.6264053564,
          9.537980034,
          8.6064711285,
          9.711459559,
          9.4925626617,
          9.8091766182,
          11.3268504492,
          9.6996656888,
          9.399825183,
          10.0084118739,
          8.9315704593,
          9.6829719252,
          9.3909672991,
          8.7354842352,
          9.7607651925,
          9.6524945155,
          9.3484622605,
          9.8499288351,
          9.6090639483,
          9.8066776316,
          8.7272776201,
          8.7833118701,
          11.3257255843,
          9.9193915582,
          9.8389239933,
          9.6092908978,
          9.8444472618,
          9.7101699661,
          8.149396675,
          9.6260984985,
          9.4785169273,
          9.2780220885,
          8.158254298,
          9.5870979806,
          9.7664531796,
          9.6879801444,
          10.5132810042,
          9.4130192332,
          10.2937178992
         ]
        },
        {
         "name": "Best Value",
         "type": "scatter",
         "x": [
          0,
          1,
          2,
          3,
          4,
          5,
          6,
          7,
          8,
          9,
          10,
          11,
          12,
          13,
          14,
          15,
          16,
          17,
          18,
          19,
          20,
          21,
          22,
          23,
          24,
          25,
          26,
          27,
          28,
          29,
          30,
          31,
          32,
          33,
          34,
          35,
          36,
          37,
          38,
          39,
          40,
          41,
          42,
          43,
          44,
          45,
          46,
          47,
          48,
          49,
          50,
          51,
          52,
          53,
          54,
          55,
          56,
          57,
          58,
          59,
          60,
          61,
          62,
          63,
          64,
          65,
          66,
          67,
          68,
          69,
          70,
          71,
          72,
          73,
          74,
          75,
          76,
          77,
          78,
          79,
          80,
          81,
          82,
          83,
          84,
          85,
          86,
          87,
          88,
          89,
          90,
          91,
          92,
          93,
          94,
          95,
          96,
          97,
          98,
          99
         ],
         "y": [
          10.5055286709,
          10.5055286709,
          10.5055286709,
          10.485866553,
          10.485866553,
          10.485866553,
          10.1390036043,
          9.8329188756,
          9.8329188756,
          9.8329188756,
          8.9769597231,
          8.9769597231,
          8.9769597231,
          8.9769597231,
          8.9769597231,
          8.9769597231,
          8.9769597231,
          8.9769597231,
          8.7399651003,
          8.7399651003,
          8.7399651003,
          8.7399651003,
          8.7399651003,
          8.588586472,
          8.588586472,
          8.588586472,
          8.588586472,
          8.588586472,
          8.588586472,
          8.588586472,
          8.588586472,
          8.588586472,
          8.4402196001,
          8.4402196001,
          8.4402196001,
          8.203393234,
          8.203393234,
          8.203393234,
          8.203393234,
          8.203393234,
          8.203393234,
          8.203393234,
          8.203393234,
          8.203393234,
          8.203393234,
          8.203393234,
          8.203393234,
          8.203393234,
          8.203393234,
          8.203393234,
          8.203393234,
          8.203393234,
          8.203393234,
          8.203393234,
          8.203393234,
          8.203393234,
          8.203393234,
          8.203393234,
          8.203393234,
          8.203393234,
          8.203393234,
          8.203393234,
          8.203393234,
          8.203393234,
          8.203393234,
          8.203393234,
          8.203393234,
          8.203393234,
          8.203393234,
          8.203393234,
          8.203393234,
          8.203393234,
          8.203393234,
          8.203393234,
          8.203393234,
          8.203393234,
          8.203393234,
          8.203393234,
          8.203393234,
          8.203393234,
          8.203393234,
          8.203393234,
          8.203393234,
          8.203393234,
          8.203393234,
          8.203393234,
          8.203393234,
          8.203393234,
          8.203393234,
          8.149396675,
          8.149396675,
          8.149396675,
          8.149396675,
          8.149396675,
          8.149396675,
          8.149396675,
          8.149396675,
          8.149396675,
          8.149396675,
          8.149396675
         ]
        }
       ],
       "layout": {
        "template": {
         "data": {
          "bar": [
           {
            "error_x": {
             "color": "#2a3f5f"
            },
            "error_y": {
             "color": "#2a3f5f"
            },
            "marker": {
             "line": {
              "color": "#E5ECF6",
              "width": 0.5
             }
            },
            "type": "bar"
           }
          ],
          "barpolar": [
           {
            "marker": {
             "line": {
              "color": "#E5ECF6",
              "width": 0.5
             }
            },
            "type": "barpolar"
           }
          ],
          "carpet": [
           {
            "aaxis": {
             "endlinecolor": "#2a3f5f",
             "gridcolor": "white",
             "linecolor": "white",
             "minorgridcolor": "white",
             "startlinecolor": "#2a3f5f"
            },
            "baxis": {
             "endlinecolor": "#2a3f5f",
             "gridcolor": "white",
             "linecolor": "white",
             "minorgridcolor": "white",
             "startlinecolor": "#2a3f5f"
            },
            "type": "carpet"
           }
          ],
          "choropleth": [
           {
            "colorbar": {
             "outlinewidth": 0,
             "ticks": ""
            },
            "type": "choropleth"
           }
          ],
          "contour": [
           {
            "colorbar": {
             "outlinewidth": 0,
             "ticks": ""
            },
            "colorscale": [
             [
              0,
              "#0d0887"
             ],
             [
              0.1111111111,
              "#46039f"
             ],
             [
              0.2222222222,
              "#7201a8"
             ],
             [
              0.3333333333,
              "#9c179e"
             ],
             [
              0.4444444444,
              "#bd3786"
             ],
             [
              0.5555555556,
              "#d8576b"
             ],
             [
              0.6666666667,
              "#ed7953"
             ],
             [
              0.7777777778,
              "#fb9f3a"
             ],
             [
              0.8888888889,
              "#fdca26"
             ],
             [
              1,
              "#f0f921"
             ]
            ],
            "type": "contour"
           }
          ],
          "contourcarpet": [
           {
            "colorbar": {
             "outlinewidth": 0,
             "ticks": ""
            },
            "type": "contourcarpet"
           }
          ],
          "heatmap": [
           {
            "colorbar": {
             "outlinewidth": 0,
             "ticks": ""
            },
            "colorscale": [
             [
              0,
              "#0d0887"
             ],
             [
              0.1111111111,
              "#46039f"
             ],
             [
              0.2222222222,
              "#7201a8"
             ],
             [
              0.3333333333,
              "#9c179e"
             ],
             [
              0.4444444444,
              "#bd3786"
             ],
             [
              0.5555555556,
              "#d8576b"
             ],
             [
              0.6666666667,
              "#ed7953"
             ],
             [
              0.7777777778,
              "#fb9f3a"
             ],
             [
              0.8888888889,
              "#fdca26"
             ],
             [
              1,
              "#f0f921"
             ]
            ],
            "type": "heatmap"
           }
          ],
          "heatmapgl": [
           {
            "colorbar": {
             "outlinewidth": 0,
             "ticks": ""
            },
            "colorscale": [
             [
              0,
              "#0d0887"
             ],
             [
              0.1111111111,
              "#46039f"
             ],
             [
              0.2222222222,
              "#7201a8"
             ],
             [
              0.3333333333,
              "#9c179e"
             ],
             [
              0.4444444444,
              "#bd3786"
             ],
             [
              0.5555555556,
              "#d8576b"
             ],
             [
              0.6666666667,
              "#ed7953"
             ],
             [
              0.7777777778,
              "#fb9f3a"
             ],
             [
              0.8888888889,
              "#fdca26"
             ],
             [
              1,
              "#f0f921"
             ]
            ],
            "type": "heatmapgl"
           }
          ],
          "histogram": [
           {
            "marker": {
             "colorbar": {
              "outlinewidth": 0,
              "ticks": ""
             }
            },
            "type": "histogram"
           }
          ],
          "histogram2d": [
           {
            "colorbar": {
             "outlinewidth": 0,
             "ticks": ""
            },
            "colorscale": [
             [
              0,
              "#0d0887"
             ],
             [
              0.1111111111,
              "#46039f"
             ],
             [
              0.2222222222,
              "#7201a8"
             ],
             [
              0.3333333333,
              "#9c179e"
             ],
             [
              0.4444444444,
              "#bd3786"
             ],
             [
              0.5555555556,
              "#d8576b"
             ],
             [
              0.6666666667,
              "#ed7953"
             ],
             [
              0.7777777778,
              "#fb9f3a"
             ],
             [
              0.8888888889,
              "#fdca26"
             ],
             [
              1,
              "#f0f921"
             ]
            ],
            "type": "histogram2d"
           }
          ],
          "histogram2dcontour": [
           {
            "colorbar": {
             "outlinewidth": 0,
             "ticks": ""
            },
            "colorscale": [
             [
              0,
              "#0d0887"
             ],
             [
              0.1111111111,
              "#46039f"
             ],
             [
              0.2222222222,
              "#7201a8"
             ],
             [
              0.3333333333,
              "#9c179e"
             ],
             [
              0.4444444444,
              "#bd3786"
             ],
             [
              0.5555555556,
              "#d8576b"
             ],
             [
              0.6666666667,
              "#ed7953"
             ],
             [
              0.7777777778,
              "#fb9f3a"
             ],
             [
              0.8888888889,
              "#fdca26"
             ],
             [
              1,
              "#f0f921"
             ]
            ],
            "type": "histogram2dcontour"
           }
          ],
          "mesh3d": [
           {
            "colorbar": {
             "outlinewidth": 0,
             "ticks": ""
            },
            "type": "mesh3d"
           }
          ],
          "parcoords": [
           {
            "line": {
             "colorbar": {
              "outlinewidth": 0,
              "ticks": ""
             }
            },
            "type": "parcoords"
           }
          ],
          "scatter": [
           {
            "marker": {
             "colorbar": {
              "outlinewidth": 0,
              "ticks": ""
             }
            },
            "type": "scatter"
           }
          ],
          "scatter3d": [
           {
            "line": {
             "colorbar": {
              "outlinewidth": 0,
              "ticks": ""
             }
            },
            "marker": {
             "colorbar": {
              "outlinewidth": 0,
              "ticks": ""
             }
            },
            "type": "scatter3d"
           }
          ],
          "scattercarpet": [
           {
            "marker": {
             "colorbar": {
              "outlinewidth": 0,
              "ticks": ""
             }
            },
            "type": "scattercarpet"
           }
          ],
          "scattergeo": [
           {
            "marker": {
             "colorbar": {
              "outlinewidth": 0,
              "ticks": ""
             }
            },
            "type": "scattergeo"
           }
          ],
          "scattergl": [
           {
            "marker": {
             "colorbar": {
              "outlinewidth": 0,
              "ticks": ""
             }
            },
            "type": "scattergl"
           }
          ],
          "scattermapbox": [
           {
            "marker": {
             "colorbar": {
              "outlinewidth": 0,
              "ticks": ""
             }
            },
            "type": "scattermapbox"
           }
          ],
          "scatterpolar": [
           {
            "marker": {
             "colorbar": {
              "outlinewidth": 0,
              "ticks": ""
             }
            },
            "type": "scatterpolar"
           }
          ],
          "scatterpolargl": [
           {
            "marker": {
             "colorbar": {
              "outlinewidth": 0,
              "ticks": ""
             }
            },
            "type": "scatterpolargl"
           }
          ],
          "scatterternary": [
           {
            "marker": {
             "colorbar": {
              "outlinewidth": 0,
              "ticks": ""
             }
            },
            "type": "scatterternary"
           }
          ],
          "surface": [
           {
            "colorbar": {
             "outlinewidth": 0,
             "ticks": ""
            },
            "colorscale": [
             [
              0,
              "#0d0887"
             ],
             [
              0.1111111111,
              "#46039f"
             ],
             [
              0.2222222222,
              "#7201a8"
             ],
             [
              0.3333333333,
              "#9c179e"
             ],
             [
              0.4444444444,
              "#bd3786"
             ],
             [
              0.5555555556,
              "#d8576b"
             ],
             [
              0.6666666667,
              "#ed7953"
             ],
             [
              0.7777777778,
              "#fb9f3a"
             ],
             [
              0.8888888889,
              "#fdca26"
             ],
             [
              1,
              "#f0f921"
             ]
            ],
            "type": "surface"
           }
          ],
          "table": [
           {
            "cells": {
             "fill": {
              "color": "#EBF0F8"
             },
             "line": {
              "color": "white"
             }
            },
            "header": {
             "fill": {
              "color": "#C8D4E3"
             },
             "line": {
              "color": "white"
             }
            },
            "type": "table"
           }
          ]
         },
         "layout": {
          "annotationdefaults": {
           "arrowcolor": "#2a3f5f",
           "arrowhead": 0,
           "arrowwidth": 1
          },
          "colorscale": {
           "diverging": [
            [
             0,
             "#8e0152"
            ],
            [
             0.1,
             "#c51b7d"
            ],
            [
             0.2,
             "#de77ae"
            ],
            [
             0.3,
             "#f1b6da"
            ],
            [
             0.4,
             "#fde0ef"
            ],
            [
             0.5,
             "#f7f7f7"
            ],
            [
             0.6,
             "#e6f5d0"
            ],
            [
             0.7,
             "#b8e186"
            ],
            [
             0.8,
             "#7fbc41"
            ],
            [
             0.9,
             "#4d9221"
            ],
            [
             1,
             "#276419"
            ]
           ],
           "sequential": [
            [
             0,
             "#0d0887"
            ],
            [
             0.1111111111,
             "#46039f"
            ],
            [
             0.2222222222,
             "#7201a8"
            ],
            [
             0.3333333333,
             "#9c179e"
            ],
            [
             0.4444444444,
             "#bd3786"
            ],
            [
             0.5555555556,
             "#d8576b"
            ],
            [
             0.6666666667,
             "#ed7953"
            ],
            [
             0.7777777778,
             "#fb9f3a"
            ],
            [
             0.8888888889,
             "#fdca26"
            ],
            [
             1,
             "#f0f921"
            ]
           ],
           "sequentialminus": [
            [
             0,
             "#0d0887"
            ],
            [
             0.1111111111,
             "#46039f"
            ],
            [
             0.2222222222,
             "#7201a8"
            ],
            [
             0.3333333333,
             "#9c179e"
            ],
            [
             0.4444444444,
             "#bd3786"
            ],
            [
             0.5555555556,
             "#d8576b"
            ],
            [
             0.6666666667,
             "#ed7953"
            ],
            [
             0.7777777778,
             "#fb9f3a"
            ],
            [
             0.8888888889,
             "#fdca26"
            ],
            [
             1,
             "#f0f921"
            ]
           ]
          },
          "colorway": [
           "#636efa",
           "#EF553B",
           "#00cc96",
           "#ab63fa",
           "#FFA15A",
           "#19d3f3",
           "#FF6692",
           "#B6E880",
           "#FF97FF",
           "#FECB52"
          ],
          "font": {
           "color": "#2a3f5f"
          },
          "geo": {
           "bgcolor": "white",
           "lakecolor": "white",
           "landcolor": "#E5ECF6",
           "showlakes": true,
           "showland": true,
           "subunitcolor": "white"
          },
          "hoverlabel": {
           "align": "left"
          },
          "hovermode": "closest",
          "mapbox": {
           "style": "light"
          },
          "paper_bgcolor": "white",
          "plot_bgcolor": "#E5ECF6",
          "polar": {
           "angularaxis": {
            "gridcolor": "white",
            "linecolor": "white",
            "ticks": ""
           },
           "bgcolor": "#E5ECF6",
           "radialaxis": {
            "gridcolor": "white",
            "linecolor": "white",
            "ticks": ""
           }
          },
          "scene": {
           "xaxis": {
            "backgroundcolor": "#E5ECF6",
            "gridcolor": "white",
            "gridwidth": 2,
            "linecolor": "white",
            "showbackground": true,
            "ticks": "",
            "zerolinecolor": "white"
           },
           "yaxis": {
            "backgroundcolor": "#E5ECF6",
            "gridcolor": "white",
            "gridwidth": 2,
            "linecolor": "white",
            "showbackground": true,
            "ticks": "",
            "zerolinecolor": "white"
           },
           "zaxis": {
            "backgroundcolor": "#E5ECF6",
            "gridcolor": "white",
            "gridwidth": 2,
            "linecolor": "white",
            "showbackground": true,
            "ticks": "",
            "zerolinecolor": "white"
           }
          },
          "shapedefaults": {
           "line": {
            "color": "#2a3f5f"
           }
          },
          "ternary": {
           "aaxis": {
            "gridcolor": "white",
            "linecolor": "white",
            "ticks": ""
           },
           "baxis": {
            "gridcolor": "white",
            "linecolor": "white",
            "ticks": ""
           },
           "bgcolor": "#E5ECF6",
           "caxis": {
            "gridcolor": "white",
            "linecolor": "white",
            "ticks": ""
           }
          },
          "title": {
           "x": 0.05
          },
          "xaxis": {
           "automargin": true,
           "gridcolor": "white",
           "linecolor": "white",
           "ticks": "",
           "zerolinecolor": "white",
           "zerolinewidth": 2
          },
          "yaxis": {
           "automargin": true,
           "gridcolor": "white",
           "linecolor": "white",
           "ticks": "",
           "zerolinecolor": "white",
           "zerolinewidth": 2
          }
         }
        },
        "title": {
         "text": "Optimization History Plot"
        },
        "xaxis": {
         "title": {
          "text": "#Trials"
         }
        },
        "yaxis": {
         "title": {
          "text": "Objective Value"
         }
        }
       }
      },
      "text/html": [
       "<div>\n",
       "        \n",
       "        \n",
       "            <div id=\"86cc2d5f-070e-45a2-b39d-d37de5186357\" class=\"plotly-graph-div\" style=\"height:525px; width:100%;\"></div>\n",
       "            <script type=\"text/javascript\">\n",
       "                require([\"plotly\"], function(Plotly) {\n",
       "                    window.PLOTLYENV=window.PLOTLYENV || {};\n",
       "                    \n",
       "                if (document.getElementById(\"86cc2d5f-070e-45a2-b39d-d37de5186357\")) {\n",
       "                    Plotly.newPlot(\n",
       "                        '86cc2d5f-070e-45a2-b39d-d37de5186357',\n",
       "                        [{\"mode\": \"markers\", \"name\": \"Objective Value\", \"type\": \"scatter\", \"x\": [0, 1, 2, 3, 4, 5, 6, 7, 8, 9, 10, 11, 12, 13, 14, 15, 16, 17, 18, 19, 20, 21, 22, 23, 24, 25, 26, 27, 28, 29, 30, 31, 32, 33, 34, 35, 36, 37, 38, 39, 40, 41, 42, 43, 44, 45, 46, 47, 48, 49, 50, 51, 52, 53, 54, 55, 56, 57, 58, 59, 60, 61, 62, 63, 64, 65, 66, 67, 68, 69, 70, 71, 72, 73, 74, 75, 76, 77, 78, 79, 80, 81, 82, 83, 84, 85, 86, 87, 88, 89, 90, 91, 92, 93, 94, 95, 96, 97, 98, 99], \"y\": [10.505528670887937, 11.32745247439517, 11.326785112951907, 10.485866553028682, 11.326944069899241, 11.0155999118839, 10.139003604315892, 9.832918875636782, 10.697219468448385, 10.11741691817803, 8.976959723149672, 9.307201740610836, 8.989289715441648, 9.294272691451187, 9.997460865268213, 10.444816505642752, 11.324618573145177, 10.22015302362866, 8.739965100307291, 9.806283203447014, 9.944091496728976, 9.304523085327057, 9.691801855606045, 8.588586472037912, 9.956705305650871, 10.55692291198282, 9.703115439571462, 9.957175309508667, 9.73306710334371, 10.556392590371614, 9.902354140235637, 9.041678477459586, 8.440219600089778, 9.88388355647344, 9.693930089173476, 8.203393233963464, 11.325702581654394, 9.744758978190319, 11.325356954215588, 9.621413087079587, 10.349077939325065, 9.85041039359482, 8.588331833411933, 9.552122716784774, 9.791955157310737, 9.595512517276958, 9.629734205791053, 9.902292102934625, 9.895888894546431, 10.762657345265781, 10.003850776812687, 8.839093023909603, 8.705200566580283, 9.770646595885502, 10.585861973157163, 9.559791968933379, 9.853850807384706, 8.46138841963798, 9.556308396330808, 9.7582357968251, 11.32496148459351, 8.626405356389508, 9.53798003396098, 8.606471128545513, 9.711459558985268, 9.492562661701635, 9.809176618205395, 11.326850449170633, 9.699665688768667, 9.399825182963019, 10.008411873905317, 8.931570459296177, 9.682971925200224, 9.390967299077582, 8.73548423518816, 9.760765192497814, 9.652494515452785, 9.348462260461082, 9.849928835054067, 9.609063948262, 9.806677631630617, 8.727277620129673, 8.78331187014118, 11.3257255842664, 9.919391558163385, 9.838923993347317, 9.609290897809, 9.844447261753597, 9.71016996609346, 8.149396674982137, 9.626098498453837, 9.478516927253525, 9.27802208851023, 8.15825429799568, 9.587097980620383, 9.766453179582822, 9.68798014435162, 10.513281004240639, 9.413019233153452, 10.29371789922132]}, {\"name\": \"Best Value\", \"type\": \"scatter\", \"x\": [0, 1, 2, 3, 4, 5, 6, 7, 8, 9, 10, 11, 12, 13, 14, 15, 16, 17, 18, 19, 20, 21, 22, 23, 24, 25, 26, 27, 28, 29, 30, 31, 32, 33, 34, 35, 36, 37, 38, 39, 40, 41, 42, 43, 44, 45, 46, 47, 48, 49, 50, 51, 52, 53, 54, 55, 56, 57, 58, 59, 60, 61, 62, 63, 64, 65, 66, 67, 68, 69, 70, 71, 72, 73, 74, 75, 76, 77, 78, 79, 80, 81, 82, 83, 84, 85, 86, 87, 88, 89, 90, 91, 92, 93, 94, 95, 96, 97, 98, 99], \"y\": [10.505528670887937, 10.505528670887937, 10.505528670887937, 10.485866553028682, 10.485866553028682, 10.485866553028682, 10.139003604315892, 9.832918875636782, 9.832918875636782, 9.832918875636782, 8.976959723149672, 8.976959723149672, 8.976959723149672, 8.976959723149672, 8.976959723149672, 8.976959723149672, 8.976959723149672, 8.976959723149672, 8.739965100307291, 8.739965100307291, 8.739965100307291, 8.739965100307291, 8.739965100307291, 8.588586472037912, 8.588586472037912, 8.588586472037912, 8.588586472037912, 8.588586472037912, 8.588586472037912, 8.588586472037912, 8.588586472037912, 8.588586472037912, 8.440219600089778, 8.440219600089778, 8.440219600089778, 8.203393233963464, 8.203393233963464, 8.203393233963464, 8.203393233963464, 8.203393233963464, 8.203393233963464, 8.203393233963464, 8.203393233963464, 8.203393233963464, 8.203393233963464, 8.203393233963464, 8.203393233963464, 8.203393233963464, 8.203393233963464, 8.203393233963464, 8.203393233963464, 8.203393233963464, 8.203393233963464, 8.203393233963464, 8.203393233963464, 8.203393233963464, 8.203393233963464, 8.203393233963464, 8.203393233963464, 8.203393233963464, 8.203393233963464, 8.203393233963464, 8.203393233963464, 8.203393233963464, 8.203393233963464, 8.203393233963464, 8.203393233963464, 8.203393233963464, 8.203393233963464, 8.203393233963464, 8.203393233963464, 8.203393233963464, 8.203393233963464, 8.203393233963464, 8.203393233963464, 8.203393233963464, 8.203393233963464, 8.203393233963464, 8.203393233963464, 8.203393233963464, 8.203393233963464, 8.203393233963464, 8.203393233963464, 8.203393233963464, 8.203393233963464, 8.203393233963464, 8.203393233963464, 8.203393233963464, 8.203393233963464, 8.149396674982137, 8.149396674982137, 8.149396674982137, 8.149396674982137, 8.149396674982137, 8.149396674982137, 8.149396674982137, 8.149396674982137, 8.149396674982137, 8.149396674982137, 8.149396674982137]}],\n",
       "                        {\"template\": {\"data\": {\"bar\": [{\"error_x\": {\"color\": \"#2a3f5f\"}, \"error_y\": {\"color\": \"#2a3f5f\"}, \"marker\": {\"line\": {\"color\": \"#E5ECF6\", \"width\": 0.5}}, \"type\": \"bar\"}], \"barpolar\": [{\"marker\": {\"line\": {\"color\": \"#E5ECF6\", \"width\": 0.5}}, \"type\": \"barpolar\"}], \"carpet\": [{\"aaxis\": {\"endlinecolor\": \"#2a3f5f\", \"gridcolor\": \"white\", \"linecolor\": \"white\", \"minorgridcolor\": \"white\", \"startlinecolor\": \"#2a3f5f\"}, \"baxis\": {\"endlinecolor\": \"#2a3f5f\", \"gridcolor\": \"white\", \"linecolor\": \"white\", \"minorgridcolor\": \"white\", \"startlinecolor\": \"#2a3f5f\"}, \"type\": \"carpet\"}], \"choropleth\": [{\"colorbar\": {\"outlinewidth\": 0, \"ticks\": \"\"}, \"type\": \"choropleth\"}], \"contour\": [{\"colorbar\": {\"outlinewidth\": 0, \"ticks\": \"\"}, \"colorscale\": [[0.0, \"#0d0887\"], [0.1111111111111111, \"#46039f\"], [0.2222222222222222, \"#7201a8\"], [0.3333333333333333, \"#9c179e\"], [0.4444444444444444, \"#bd3786\"], [0.5555555555555556, \"#d8576b\"], [0.6666666666666666, \"#ed7953\"], [0.7777777777777778, \"#fb9f3a\"], [0.8888888888888888, \"#fdca26\"], [1.0, \"#f0f921\"]], \"type\": \"contour\"}], \"contourcarpet\": [{\"colorbar\": {\"outlinewidth\": 0, \"ticks\": \"\"}, \"type\": \"contourcarpet\"}], \"heatmap\": [{\"colorbar\": {\"outlinewidth\": 0, \"ticks\": \"\"}, \"colorscale\": [[0.0, \"#0d0887\"], [0.1111111111111111, \"#46039f\"], [0.2222222222222222, \"#7201a8\"], [0.3333333333333333, \"#9c179e\"], [0.4444444444444444, \"#bd3786\"], [0.5555555555555556, \"#d8576b\"], [0.6666666666666666, \"#ed7953\"], [0.7777777777777778, \"#fb9f3a\"], [0.8888888888888888, \"#fdca26\"], [1.0, \"#f0f921\"]], \"type\": \"heatmap\"}], \"heatmapgl\": [{\"colorbar\": {\"outlinewidth\": 0, \"ticks\": \"\"}, \"colorscale\": [[0.0, \"#0d0887\"], [0.1111111111111111, \"#46039f\"], [0.2222222222222222, \"#7201a8\"], [0.3333333333333333, \"#9c179e\"], [0.4444444444444444, \"#bd3786\"], [0.5555555555555556, \"#d8576b\"], [0.6666666666666666, \"#ed7953\"], [0.7777777777777778, \"#fb9f3a\"], [0.8888888888888888, \"#fdca26\"], [1.0, \"#f0f921\"]], \"type\": \"heatmapgl\"}], \"histogram\": [{\"marker\": {\"colorbar\": {\"outlinewidth\": 0, \"ticks\": \"\"}}, \"type\": \"histogram\"}], \"histogram2d\": [{\"colorbar\": {\"outlinewidth\": 0, \"ticks\": \"\"}, \"colorscale\": [[0.0, \"#0d0887\"], [0.1111111111111111, \"#46039f\"], [0.2222222222222222, \"#7201a8\"], [0.3333333333333333, \"#9c179e\"], [0.4444444444444444, \"#bd3786\"], [0.5555555555555556, \"#d8576b\"], [0.6666666666666666, \"#ed7953\"], [0.7777777777777778, \"#fb9f3a\"], [0.8888888888888888, \"#fdca26\"], [1.0, \"#f0f921\"]], \"type\": \"histogram2d\"}], \"histogram2dcontour\": [{\"colorbar\": {\"outlinewidth\": 0, \"ticks\": \"\"}, \"colorscale\": [[0.0, \"#0d0887\"], [0.1111111111111111, \"#46039f\"], [0.2222222222222222, \"#7201a8\"], [0.3333333333333333, \"#9c179e\"], [0.4444444444444444, \"#bd3786\"], [0.5555555555555556, \"#d8576b\"], [0.6666666666666666, \"#ed7953\"], [0.7777777777777778, \"#fb9f3a\"], [0.8888888888888888, \"#fdca26\"], [1.0, \"#f0f921\"]], \"type\": \"histogram2dcontour\"}], \"mesh3d\": [{\"colorbar\": {\"outlinewidth\": 0, \"ticks\": \"\"}, \"type\": \"mesh3d\"}], \"parcoords\": [{\"line\": {\"colorbar\": {\"outlinewidth\": 0, \"ticks\": \"\"}}, \"type\": \"parcoords\"}], \"scatter\": [{\"marker\": {\"colorbar\": {\"outlinewidth\": 0, \"ticks\": \"\"}}, \"type\": \"scatter\"}], \"scatter3d\": [{\"line\": {\"colorbar\": {\"outlinewidth\": 0, \"ticks\": \"\"}}, \"marker\": {\"colorbar\": {\"outlinewidth\": 0, \"ticks\": \"\"}}, \"type\": \"scatter3d\"}], \"scattercarpet\": [{\"marker\": {\"colorbar\": {\"outlinewidth\": 0, \"ticks\": \"\"}}, \"type\": \"scattercarpet\"}], \"scattergeo\": [{\"marker\": {\"colorbar\": {\"outlinewidth\": 0, \"ticks\": \"\"}}, \"type\": \"scattergeo\"}], \"scattergl\": [{\"marker\": {\"colorbar\": {\"outlinewidth\": 0, \"ticks\": \"\"}}, \"type\": \"scattergl\"}], \"scattermapbox\": [{\"marker\": {\"colorbar\": {\"outlinewidth\": 0, \"ticks\": \"\"}}, \"type\": \"scattermapbox\"}], \"scatterpolar\": [{\"marker\": {\"colorbar\": {\"outlinewidth\": 0, \"ticks\": \"\"}}, \"type\": \"scatterpolar\"}], \"scatterpolargl\": [{\"marker\": {\"colorbar\": {\"outlinewidth\": 0, \"ticks\": \"\"}}, \"type\": \"scatterpolargl\"}], \"scatterternary\": [{\"marker\": {\"colorbar\": {\"outlinewidth\": 0, \"ticks\": \"\"}}, \"type\": \"scatterternary\"}], \"surface\": [{\"colorbar\": {\"outlinewidth\": 0, \"ticks\": \"\"}, \"colorscale\": [[0.0, \"#0d0887\"], [0.1111111111111111, \"#46039f\"], [0.2222222222222222, \"#7201a8\"], [0.3333333333333333, \"#9c179e\"], [0.4444444444444444, \"#bd3786\"], [0.5555555555555556, \"#d8576b\"], [0.6666666666666666, \"#ed7953\"], [0.7777777777777778, \"#fb9f3a\"], [0.8888888888888888, \"#fdca26\"], [1.0, \"#f0f921\"]], \"type\": \"surface\"}], \"table\": [{\"cells\": {\"fill\": {\"color\": \"#EBF0F8\"}, \"line\": {\"color\": \"white\"}}, \"header\": {\"fill\": {\"color\": \"#C8D4E3\"}, \"line\": {\"color\": \"white\"}}, \"type\": \"table\"}]}, \"layout\": {\"annotationdefaults\": {\"arrowcolor\": \"#2a3f5f\", \"arrowhead\": 0, \"arrowwidth\": 1}, \"colorscale\": {\"diverging\": [[0, \"#8e0152\"], [0.1, \"#c51b7d\"], [0.2, \"#de77ae\"], [0.3, \"#f1b6da\"], [0.4, \"#fde0ef\"], [0.5, \"#f7f7f7\"], [0.6, \"#e6f5d0\"], [0.7, \"#b8e186\"], [0.8, \"#7fbc41\"], [0.9, \"#4d9221\"], [1, \"#276419\"]], \"sequential\": [[0.0, \"#0d0887\"], [0.1111111111111111, \"#46039f\"], [0.2222222222222222, \"#7201a8\"], [0.3333333333333333, \"#9c179e\"], [0.4444444444444444, \"#bd3786\"], [0.5555555555555556, \"#d8576b\"], [0.6666666666666666, \"#ed7953\"], [0.7777777777777778, \"#fb9f3a\"], [0.8888888888888888, \"#fdca26\"], [1.0, \"#f0f921\"]], \"sequentialminus\": [[0.0, \"#0d0887\"], [0.1111111111111111, \"#46039f\"], [0.2222222222222222, \"#7201a8\"], [0.3333333333333333, \"#9c179e\"], [0.4444444444444444, \"#bd3786\"], [0.5555555555555556, \"#d8576b\"], [0.6666666666666666, \"#ed7953\"], [0.7777777777777778, \"#fb9f3a\"], [0.8888888888888888, \"#fdca26\"], [1.0, \"#f0f921\"]]}, \"colorway\": [\"#636efa\", \"#EF553B\", \"#00cc96\", \"#ab63fa\", \"#FFA15A\", \"#19d3f3\", \"#FF6692\", \"#B6E880\", \"#FF97FF\", \"#FECB52\"], \"font\": {\"color\": \"#2a3f5f\"}, \"geo\": {\"bgcolor\": \"white\", \"lakecolor\": \"white\", \"landcolor\": \"#E5ECF6\", \"showlakes\": true, \"showland\": true, \"subunitcolor\": \"white\"}, \"hoverlabel\": {\"align\": \"left\"}, \"hovermode\": \"closest\", \"mapbox\": {\"style\": \"light\"}, \"paper_bgcolor\": \"white\", \"plot_bgcolor\": \"#E5ECF6\", \"polar\": {\"angularaxis\": {\"gridcolor\": \"white\", \"linecolor\": \"white\", \"ticks\": \"\"}, \"bgcolor\": \"#E5ECF6\", \"radialaxis\": {\"gridcolor\": \"white\", \"linecolor\": \"white\", \"ticks\": \"\"}}, \"scene\": {\"xaxis\": {\"backgroundcolor\": \"#E5ECF6\", \"gridcolor\": \"white\", \"gridwidth\": 2, \"linecolor\": \"white\", \"showbackground\": true, \"ticks\": \"\", \"zerolinecolor\": \"white\"}, \"yaxis\": {\"backgroundcolor\": \"#E5ECF6\", \"gridcolor\": \"white\", \"gridwidth\": 2, \"linecolor\": \"white\", \"showbackground\": true, \"ticks\": \"\", \"zerolinecolor\": \"white\"}, \"zaxis\": {\"backgroundcolor\": \"#E5ECF6\", \"gridcolor\": \"white\", \"gridwidth\": 2, \"linecolor\": \"white\", \"showbackground\": true, \"ticks\": \"\", \"zerolinecolor\": \"white\"}}, \"shapedefaults\": {\"line\": {\"color\": \"#2a3f5f\"}}, \"ternary\": {\"aaxis\": {\"gridcolor\": \"white\", \"linecolor\": \"white\", \"ticks\": \"\"}, \"baxis\": {\"gridcolor\": \"white\", \"linecolor\": \"white\", \"ticks\": \"\"}, \"bgcolor\": \"#E5ECF6\", \"caxis\": {\"gridcolor\": \"white\", \"linecolor\": \"white\", \"ticks\": \"\"}}, \"title\": {\"x\": 0.05}, \"xaxis\": {\"automargin\": true, \"gridcolor\": \"white\", \"linecolor\": \"white\", \"ticks\": \"\", \"zerolinecolor\": \"white\", \"zerolinewidth\": 2}, \"yaxis\": {\"automargin\": true, \"gridcolor\": \"white\", \"linecolor\": \"white\", \"ticks\": \"\", \"zerolinecolor\": \"white\", \"zerolinewidth\": 2}}}, \"title\": {\"text\": \"Optimization History Plot\"}, \"xaxis\": {\"title\": {\"text\": \"#Trials\"}}, \"yaxis\": {\"title\": {\"text\": \"Objective Value\"}}},\n",
       "                        {\"responsive\": true}\n",
       "                    ).then(function(){\n",
       "                            \n",
       "var gd = document.getElementById('86cc2d5f-070e-45a2-b39d-d37de5186357');\n",
       "var x = new MutationObserver(function (mutations, observer) {{\n",
       "        var display = window.getComputedStyle(gd).display;\n",
       "        if (!display || display === 'none') {{\n",
       "            console.log([gd, 'removed!']);\n",
       "            Plotly.purge(gd);\n",
       "            observer.disconnect();\n",
       "        }}\n",
       "}});\n",
       "\n",
       "// Listen for the removal of the full notebook cells\n",
       "var notebookContainer = gd.closest('#notebook-container');\n",
       "if (notebookContainer) {{\n",
       "    x.observe(notebookContainer, {childList: true});\n",
       "}}\n",
       "\n",
       "// Listen for the clearing of the current output cell\n",
       "var outputEl = gd.closest('.output');\n",
       "if (outputEl) {{\n",
       "    x.observe(outputEl, {childList: true});\n",
       "}}\n",
       "\n",
       "                        })\n",
       "                };\n",
       "                });\n",
       "            </script>\n",
       "        </div>"
      ]
     },
     "metadata": {},
     "output_type": "display_data"
    }
   ],
   "source": [
    "#printing the lowest sMAPE score\n",
    "print('Lowest sMAPE Score',study_rf.best_value)\n",
    "#plotting the values of the sMAPE over time\n",
    "plot_optimization_history(study_rf)"
   ]
  },
  {
   "cell_type": "markdown",
   "metadata": {},
   "source": [
    "#### Conclusions"
   ]
  },
  {
   "cell_type": "markdown",
   "metadata": {},
   "source": [
    "In this section I used Optuna to find the optimal values for the hyperparameters in the decision tree regression and random forest regression models. Both models used a regression chain method to account for having two target variables. This allows for the results from the first regression to be used to calculate the values in the second regression. As you can see, the lowest sMAPE using the decision tree regression was around 10% and the lowest sMAPE using the random forest regression was around 8%. "
   ]
  },
  {
   "cell_type": "markdown",
   "metadata": {},
   "source": [
    "<div class=\"alert alert-success\">\n",
    "<b>Reviewer's comment</b>\n",
    "\t  \n",
    "Great, you tried a couple of different models. It's very cool that you used bayesian optimization to optimize hyperparameters!\n",
    "\t  \n",
    "</div>"
   ]
  },
  {
   "cell_type": "markdown",
   "metadata": {},
   "source": [
    "### Cross-validation"
   ]
  },
  {
   "cell_type": "code",
   "execution_count": 61,
   "metadata": {},
   "outputs": [
    {
     "data": {
      "image/png": "[encoded data removed]",
      "text/plain": [
       "<Figure size 576x396 with 1 Axes>"
      ]
     },
     "metadata": {},
     "output_type": "display_data"
    },
    {
     "data": {
      "text/plain": [
       "<AxesSubplot:title={'center':'Cross Validation Scores for RegressorChain'}, xlabel='Training Instances', ylabel='Score'>"
      ]
     },
     "execution_count": 61,
     "metadata": {},
     "output_type": "execute_result"
    }
   ],
   "source": [
    "cv_1 = KFold(n_splits=20)\n",
    "#creating model\n",
    "LR = LinearRegression()\n",
    "model_lr = RegressorChain(base_estimator=LR)\n",
    "#calculating the sMAPE_score for each cross validation\n",
    "visualizer_lr = CVScores(model_lr, cv=cv_1, scoring=sMAPE_score)\n",
    "\n",
    "visualizer_lr.fit(train_features, train_target)        # Fit the data to the visualizer\n",
    "visualizer_lr.show()           # Finalize and render the figure"
   ]
  },
  {
   "cell_type": "code",
   "execution_count": 62,
   "metadata": {},
   "outputs": [
    {
     "data": {
      "image/png": "[encoded data removed]",
      "text/plain": [
       "<Figure size 576x396 with 1 Axes>"
      ]
     },
     "metadata": {},
     "output_type": "display_data"
    },
    {
     "data": {
      "text/plain": [
       "<AxesSubplot:title={'center':'Cross Validation Scores for RegressorChain'}, xlabel='Training Instances', ylabel='Score'>"
      ]
     },
     "execution_count": 62,
     "metadata": {},
     "output_type": "execute_result"
    }
   ],
   "source": [
    "#creating model using optimal hyperparameters\n",
    "DT = DecisionTreeRegressor(random_state=13).set_params(**study_dt.best_params)\n",
    "model_dt = RegressorChain(base_estimator=DT)\n",
    "#calculating the sMAPE_score for each cross validation\n",
    "visualizer_dt = CVScores(model_dt, cv=cv_1, scoring=sMAPE_score)\n",
    "\n",
    "visualizer_dt.fit(train_features, train_target)        # Fit the data to the visualizer\n",
    "visualizer_dt.show()           # Finalize and render the figure"
   ]
  },
  {
   "cell_type": "code",
   "execution_count": 63,
   "metadata": {},
   "outputs": [
    {
     "ename": "KeyboardInterrupt",
     "evalue": "",
     "output_type": "error",
     "traceback": [
      "\u001b[0;31m---------------------------------------------------------------------------\u001b[0m",
      "\u001b[0;31mKeyboardInterrupt\u001b[0m                         Traceback (most recent call last)",
      "\u001b[0;32m<ipython-input-63-14cee2a4ab93>\u001b[0m in \u001b[0;36m<module>\u001b[0;34m\u001b[0m\n\u001b[1;32m      5\u001b[0m \u001b[0mvisualizer_rf\u001b[0m \u001b[0;34m=\u001b[0m \u001b[0mCVScores\u001b[0m\u001b[0;34m(\u001b[0m\u001b[0mmodel_rf\u001b[0m\u001b[0;34m,\u001b[0m \u001b[0mcv\u001b[0m\u001b[0;34m=\u001b[0m\u001b[0mcv_1\u001b[0m\u001b[0;34m,\u001b[0m \u001b[0mscoring\u001b[0m\u001b[0;34m=\u001b[0m\u001b[0msMAPE_score\u001b[0m\u001b[0;34m)\u001b[0m\u001b[0;34m\u001b[0m\u001b[0;34m\u001b[0m\u001b[0m\n\u001b[1;32m      6\u001b[0m \u001b[0;34m\u001b[0m\u001b[0m\n\u001b[0;32m----> 7\u001b[0;31m \u001b[0mvisualizer_rf\u001b[0m\u001b[0;34m.\u001b[0m\u001b[0mfit\u001b[0m\u001b[0;34m(\u001b[0m\u001b[0mtrain_features_2\u001b[0m\u001b[0;34m,\u001b[0m \u001b[0mtrain_target\u001b[0m\u001b[0;34m)\u001b[0m        \u001b[0;31m# Fit the data to the visualizer\u001b[0m\u001b[0;34m\u001b[0m\u001b[0;34m\u001b[0m\u001b[0m\n\u001b[0m\u001b[1;32m      8\u001b[0m \u001b[0mvisualizer_rf\u001b[0m\u001b[0;34m.\u001b[0m\u001b[0mshow\u001b[0m\u001b[0;34m(\u001b[0m\u001b[0;34m)\u001b[0m           \u001b[0;31m# Finalize and render the figure\u001b[0m\u001b[0;34m\u001b[0m\u001b[0;34m\u001b[0m\u001b[0m\n",
      "\u001b[0;32m~/.local/lib/python3.7/site-packages/yellowbrick/model_selection/cross_validation.py\u001b[0m in \u001b[0;36mfit\u001b[0;34m(self, X, y, **kwargs)\u001b[0m\n\u001b[1;32m    138\u001b[0m \u001b[0;34m\u001b[0m\u001b[0m\n\u001b[1;32m    139\u001b[0m         self.cv_scores_ = cross_val_score(\n\u001b[0;32m--> 140\u001b[0;31m             \u001b[0mself\u001b[0m\u001b[0;34m.\u001b[0m\u001b[0mestimator\u001b[0m\u001b[0;34m,\u001b[0m \u001b[0mX\u001b[0m\u001b[0;34m,\u001b[0m \u001b[0my\u001b[0m\u001b[0;34m,\u001b[0m \u001b[0mcv\u001b[0m\u001b[0;34m=\u001b[0m\u001b[0mself\u001b[0m\u001b[0;34m.\u001b[0m\u001b[0mcv\u001b[0m\u001b[0;34m,\u001b[0m \u001b[0mscoring\u001b[0m\u001b[0;34m=\u001b[0m\u001b[0mself\u001b[0m\u001b[0;34m.\u001b[0m\u001b[0mscoring\u001b[0m\u001b[0;34m\u001b[0m\u001b[0;34m\u001b[0m\u001b[0m\n\u001b[0m\u001b[1;32m    141\u001b[0m         )\n\u001b[1;32m    142\u001b[0m         \u001b[0mself\u001b[0m\u001b[0;34m.\u001b[0m\u001b[0mcv_scores_mean_\u001b[0m \u001b[0;34m=\u001b[0m \u001b[0mself\u001b[0m\u001b[0;34m.\u001b[0m\u001b[0mcv_scores_\u001b[0m\u001b[0;34m.\u001b[0m\u001b[0mmean\u001b[0m\u001b[0;34m(\u001b[0m\u001b[0;34m)\u001b[0m\u001b[0;34m\u001b[0m\u001b[0;34m\u001b[0m\u001b[0m\n",
      "\u001b[0;32m~/.local/lib/python3.7/site-packages/sklearn/utils/validation.py\u001b[0m in \u001b[0;36minner_f\u001b[0;34m(*args, **kwargs)\u001b[0m\n\u001b[1;32m     61\u001b[0m             \u001b[0mextra_args\u001b[0m \u001b[0;34m=\u001b[0m \u001b[0mlen\u001b[0m\u001b[0;34m(\u001b[0m\u001b[0margs\u001b[0m\u001b[0;34m)\u001b[0m \u001b[0;34m-\u001b[0m \u001b[0mlen\u001b[0m\u001b[0;34m(\u001b[0m\u001b[0mall_args\u001b[0m\u001b[0;34m)\u001b[0m\u001b[0;34m\u001b[0m\u001b[0;34m\u001b[0m\u001b[0m\n\u001b[1;32m     62\u001b[0m             \u001b[0;32mif\u001b[0m \u001b[0mextra_args\u001b[0m \u001b[0;34m<=\u001b[0m \u001b[0;36m0\u001b[0m\u001b[0;34m:\u001b[0m\u001b[0;34m\u001b[0m\u001b[0;34m\u001b[0m\u001b[0m\n\u001b[0;32m---> 63\u001b[0;31m                 \u001b[0;32mreturn\u001b[0m \u001b[0mf\u001b[0m\u001b[0;34m(\u001b[0m\u001b[0;34m*\u001b[0m\u001b[0margs\u001b[0m\u001b[0;34m,\u001b[0m \u001b[0;34m**\u001b[0m\u001b[0mkwargs\u001b[0m\u001b[0;34m)\u001b[0m\u001b[0;34m\u001b[0m\u001b[0;34m\u001b[0m\u001b[0m\n\u001b[0m\u001b[1;32m     64\u001b[0m \u001b[0;34m\u001b[0m\u001b[0m\n\u001b[1;32m     65\u001b[0m             \u001b[0;31m# extra_args > 0\u001b[0m\u001b[0;34m\u001b[0m\u001b[0;34m\u001b[0m\u001b[0;34m\u001b[0m\u001b[0m\n",
      "\u001b[0;32m~/.local/lib/python3.7/site-packages/sklearn/model_selection/_validation.py\u001b[0m in \u001b[0;36mcross_val_score\u001b[0;34m(estimator, X, y, groups, scoring, cv, n_jobs, verbose, fit_params, pre_dispatch, error_score)\u001b[0m\n\u001b[1;32m    443\u001b[0m                                 \u001b[0mfit_params\u001b[0m\u001b[0;34m=\u001b[0m\u001b[0mfit_params\u001b[0m\u001b[0;34m,\u001b[0m\u001b[0;34m\u001b[0m\u001b[0;34m\u001b[0m\u001b[0m\n\u001b[1;32m    444\u001b[0m                                 \u001b[0mpre_dispatch\u001b[0m\u001b[0;34m=\u001b[0m\u001b[0mpre_dispatch\u001b[0m\u001b[0;34m,\u001b[0m\u001b[0;34m\u001b[0m\u001b[0;34m\u001b[0m\u001b[0m\n\u001b[0;32m--> 445\u001b[0;31m                                 error_score=error_score)\n\u001b[0m\u001b[1;32m    446\u001b[0m     \u001b[0;32mreturn\u001b[0m \u001b[0mcv_results\u001b[0m\u001b[0;34m[\u001b[0m\u001b[0;34m'test_score'\u001b[0m\u001b[0;34m]\u001b[0m\u001b[0;34m\u001b[0m\u001b[0;34m\u001b[0m\u001b[0m\n\u001b[1;32m    447\u001b[0m \u001b[0;34m\u001b[0m\u001b[0m\n",
      "\u001b[0;32m~/.local/lib/python3.7/site-packages/sklearn/utils/validation.py\u001b[0m in \u001b[0;36minner_f\u001b[0;34m(*args, **kwargs)\u001b[0m\n\u001b[1;32m     61\u001b[0m             \u001b[0mextra_args\u001b[0m \u001b[0;34m=\u001b[0m \u001b[0mlen\u001b[0m\u001b[0;34m(\u001b[0m\u001b[0margs\u001b[0m\u001b[0;34m)\u001b[0m \u001b[0;34m-\u001b[0m \u001b[0mlen\u001b[0m\u001b[0;34m(\u001b[0m\u001b[0mall_args\u001b[0m\u001b[0;34m)\u001b[0m\u001b[0;34m\u001b[0m\u001b[0;34m\u001b[0m\u001b[0m\n\u001b[1;32m     62\u001b[0m             \u001b[0;32mif\u001b[0m \u001b[0mextra_args\u001b[0m \u001b[0;34m<=\u001b[0m \u001b[0;36m0\u001b[0m\u001b[0;34m:\u001b[0m\u001b[0;34m\u001b[0m\u001b[0;34m\u001b[0m\u001b[0m\n\u001b[0;32m---> 63\u001b[0;31m                 \u001b[0;32mreturn\u001b[0m \u001b[0mf\u001b[0m\u001b[0;34m(\u001b[0m\u001b[0;34m*\u001b[0m\u001b[0margs\u001b[0m\u001b[0;34m,\u001b[0m \u001b[0;34m**\u001b[0m\u001b[0mkwargs\u001b[0m\u001b[0;34m)\u001b[0m\u001b[0;34m\u001b[0m\u001b[0;34m\u001b[0m\u001b[0m\n\u001b[0m\u001b[1;32m     64\u001b[0m \u001b[0;34m\u001b[0m\u001b[0m\n\u001b[1;32m     65\u001b[0m             \u001b[0;31m# extra_args > 0\u001b[0m\u001b[0;34m\u001b[0m\u001b[0;34m\u001b[0m\u001b[0;34m\u001b[0m\u001b[0m\n",
      "\u001b[0;32m~/.local/lib/python3.7/site-packages/sklearn/model_selection/_validation.py\u001b[0m in \u001b[0;36mcross_validate\u001b[0;34m(estimator, X, y, groups, scoring, cv, n_jobs, verbose, fit_params, pre_dispatch, return_train_score, return_estimator, error_score)\u001b[0m\n\u001b[1;32m    250\u001b[0m             \u001b[0mreturn_times\u001b[0m\u001b[0;34m=\u001b[0m\u001b[0;32mTrue\u001b[0m\u001b[0;34m,\u001b[0m \u001b[0mreturn_estimator\u001b[0m\u001b[0;34m=\u001b[0m\u001b[0mreturn_estimator\u001b[0m\u001b[0;34m,\u001b[0m\u001b[0;34m\u001b[0m\u001b[0;34m\u001b[0m\u001b[0m\n\u001b[1;32m    251\u001b[0m             error_score=error_score)\n\u001b[0;32m--> 252\u001b[0;31m         for train, test in cv.split(X, y, groups))\n\u001b[0m\u001b[1;32m    253\u001b[0m \u001b[0;34m\u001b[0m\u001b[0m\n\u001b[1;32m    254\u001b[0m     \u001b[0;31m# For callabe scoring, the return type is only know after calling. If the\u001b[0m\u001b[0;34m\u001b[0m\u001b[0;34m\u001b[0m\u001b[0;34m\u001b[0m\u001b[0m\n",
      "\u001b[0;32m/opt/conda/lib/python3.7/site-packages/joblib/parallel.py\u001b[0m in \u001b[0;36m__call__\u001b[0;34m(self, iterable)\u001b[0m\n\u001b[1;32m   1042\u001b[0m                 \u001b[0mself\u001b[0m\u001b[0;34m.\u001b[0m\u001b[0m_iterating\u001b[0m \u001b[0;34m=\u001b[0m \u001b[0mself\u001b[0m\u001b[0;34m.\u001b[0m\u001b[0m_original_iterator\u001b[0m \u001b[0;32mis\u001b[0m \u001b[0;32mnot\u001b[0m \u001b[0;32mNone\u001b[0m\u001b[0;34m\u001b[0m\u001b[0;34m\u001b[0m\u001b[0m\n\u001b[1;32m   1043\u001b[0m \u001b[0;34m\u001b[0m\u001b[0m\n\u001b[0;32m-> 1044\u001b[0;31m             \u001b[0;32mwhile\u001b[0m \u001b[0mself\u001b[0m\u001b[0;34m.\u001b[0m\u001b[0mdispatch_one_batch\u001b[0m\u001b[0;34m(\u001b[0m\u001b[0miterator\u001b[0m\u001b[0;34m)\u001b[0m\u001b[0;34m:\u001b[0m\u001b[0;34m\u001b[0m\u001b[0;34m\u001b[0m\u001b[0m\n\u001b[0m\u001b[1;32m   1045\u001b[0m                 \u001b[0;32mpass\u001b[0m\u001b[0;34m\u001b[0m\u001b[0;34m\u001b[0m\u001b[0m\n\u001b[1;32m   1046\u001b[0m \u001b[0;34m\u001b[0m\u001b[0m\n",
      "\u001b[0;32m/opt/conda/lib/python3.7/site-packages/joblib/parallel.py\u001b[0m in \u001b[0;36mdispatch_one_batch\u001b[0;34m(self, iterator)\u001b[0m\n\u001b[1;32m    857\u001b[0m                 \u001b[0;32mreturn\u001b[0m \u001b[0;32mFalse\u001b[0m\u001b[0;34m\u001b[0m\u001b[0;34m\u001b[0m\u001b[0m\n\u001b[1;32m    858\u001b[0m             \u001b[0;32melse\u001b[0m\u001b[0;34m:\u001b[0m\u001b[0;34m\u001b[0m\u001b[0;34m\u001b[0m\u001b[0m\n\u001b[0;32m--> 859\u001b[0;31m                 \u001b[0mself\u001b[0m\u001b[0;34m.\u001b[0m\u001b[0m_dispatch\u001b[0m\u001b[0;34m(\u001b[0m\u001b[0mtasks\u001b[0m\u001b[0;34m)\u001b[0m\u001b[0;34m\u001b[0m\u001b[0;34m\u001b[0m\u001b[0m\n\u001b[0m\u001b[1;32m    860\u001b[0m                 \u001b[0;32mreturn\u001b[0m \u001b[0;32mTrue\u001b[0m\u001b[0;34m\u001b[0m\u001b[0;34m\u001b[0m\u001b[0m\n\u001b[1;32m    861\u001b[0m \u001b[0;34m\u001b[0m\u001b[0m\n",
      "\u001b[0;32m/opt/conda/lib/python3.7/site-packages/joblib/parallel.py\u001b[0m in \u001b[0;36m_dispatch\u001b[0;34m(self, batch)\u001b[0m\n\u001b[1;32m    775\u001b[0m         \u001b[0;32mwith\u001b[0m \u001b[0mself\u001b[0m\u001b[0;34m.\u001b[0m\u001b[0m_lock\u001b[0m\u001b[0;34m:\u001b[0m\u001b[0;34m\u001b[0m\u001b[0;34m\u001b[0m\u001b[0m\n\u001b[1;32m    776\u001b[0m             \u001b[0mjob_idx\u001b[0m \u001b[0;34m=\u001b[0m \u001b[0mlen\u001b[0m\u001b[0;34m(\u001b[0m\u001b[0mself\u001b[0m\u001b[0;34m.\u001b[0m\u001b[0m_jobs\u001b[0m\u001b[0;34m)\u001b[0m\u001b[0;34m\u001b[0m\u001b[0;34m\u001b[0m\u001b[0m\n\u001b[0;32m--> 777\u001b[0;31m             \u001b[0mjob\u001b[0m \u001b[0;34m=\u001b[0m \u001b[0mself\u001b[0m\u001b[0;34m.\u001b[0m\u001b[0m_backend\u001b[0m\u001b[0;34m.\u001b[0m\u001b[0mapply_async\u001b[0m\u001b[0;34m(\u001b[0m\u001b[0mbatch\u001b[0m\u001b[0;34m,\u001b[0m \u001b[0mcallback\u001b[0m\u001b[0;34m=\u001b[0m\u001b[0mcb\u001b[0m\u001b[0;34m)\u001b[0m\u001b[0;34m\u001b[0m\u001b[0;34m\u001b[0m\u001b[0m\n\u001b[0m\u001b[1;32m    778\u001b[0m             \u001b[0;31m# A job can complete so quickly than its callback is\u001b[0m\u001b[0;34m\u001b[0m\u001b[0;34m\u001b[0m\u001b[0;34m\u001b[0m\u001b[0m\n\u001b[1;32m    779\u001b[0m             \u001b[0;31m# called before we get here, causing self._jobs to\u001b[0m\u001b[0;34m\u001b[0m\u001b[0;34m\u001b[0m\u001b[0;34m\u001b[0m\u001b[0m\n",
      "\u001b[0;32m/opt/conda/lib/python3.7/site-packages/joblib/_parallel_backends.py\u001b[0m in \u001b[0;36mapply_async\u001b[0;34m(self, func, callback)\u001b[0m\n\u001b[1;32m    206\u001b[0m     \u001b[0;32mdef\u001b[0m \u001b[0mapply_async\u001b[0m\u001b[0;34m(\u001b[0m\u001b[0mself\u001b[0m\u001b[0;34m,\u001b[0m \u001b[0mfunc\u001b[0m\u001b[0;34m,\u001b[0m \u001b[0mcallback\u001b[0m\u001b[0;34m=\u001b[0m\u001b[0;32mNone\u001b[0m\u001b[0;34m)\u001b[0m\u001b[0;34m:\u001b[0m\u001b[0;34m\u001b[0m\u001b[0;34m\u001b[0m\u001b[0m\n\u001b[1;32m    207\u001b[0m         \u001b[0;34m\"\"\"Schedule a func to be run\"\"\"\u001b[0m\u001b[0;34m\u001b[0m\u001b[0;34m\u001b[0m\u001b[0m\n\u001b[0;32m--> 208\u001b[0;31m         \u001b[0mresult\u001b[0m \u001b[0;34m=\u001b[0m \u001b[0mImmediateResult\u001b[0m\u001b[0;34m(\u001b[0m\u001b[0mfunc\u001b[0m\u001b[0;34m)\u001b[0m\u001b[0;34m\u001b[0m\u001b[0;34m\u001b[0m\u001b[0m\n\u001b[0m\u001b[1;32m    209\u001b[0m         \u001b[0;32mif\u001b[0m \u001b[0mcallback\u001b[0m\u001b[0;34m:\u001b[0m\u001b[0;34m\u001b[0m\u001b[0;34m\u001b[0m\u001b[0m\n\u001b[1;32m    210\u001b[0m             \u001b[0mcallback\u001b[0m\u001b[0;34m(\u001b[0m\u001b[0mresult\u001b[0m\u001b[0;34m)\u001b[0m\u001b[0;34m\u001b[0m\u001b[0;34m\u001b[0m\u001b[0m\n",
      "\u001b[0;32m/opt/conda/lib/python3.7/site-packages/joblib/_parallel_backends.py\u001b[0m in \u001b[0;36m__init__\u001b[0;34m(self, batch)\u001b[0m\n\u001b[1;32m    570\u001b[0m         \u001b[0;31m# Don't delay the application, to avoid keeping the input\u001b[0m\u001b[0;34m\u001b[0m\u001b[0;34m\u001b[0m\u001b[0;34m\u001b[0m\u001b[0m\n\u001b[1;32m    571\u001b[0m         \u001b[0;31m# arguments in memory\u001b[0m\u001b[0;34m\u001b[0m\u001b[0;34m\u001b[0m\u001b[0;34m\u001b[0m\u001b[0m\n\u001b[0;32m--> 572\u001b[0;31m         \u001b[0mself\u001b[0m\u001b[0;34m.\u001b[0m\u001b[0mresults\u001b[0m \u001b[0;34m=\u001b[0m \u001b[0mbatch\u001b[0m\u001b[0;34m(\u001b[0m\u001b[0;34m)\u001b[0m\u001b[0;34m\u001b[0m\u001b[0;34m\u001b[0m\u001b[0m\n\u001b[0m\u001b[1;32m    573\u001b[0m \u001b[0;34m\u001b[0m\u001b[0m\n\u001b[1;32m    574\u001b[0m     \u001b[0;32mdef\u001b[0m \u001b[0mget\u001b[0m\u001b[0;34m(\u001b[0m\u001b[0mself\u001b[0m\u001b[0;34m)\u001b[0m\u001b[0;34m:\u001b[0m\u001b[0;34m\u001b[0m\u001b[0;34m\u001b[0m\u001b[0m\n",
      "\u001b[0;32m/opt/conda/lib/python3.7/site-packages/joblib/parallel.py\u001b[0m in \u001b[0;36m__call__\u001b[0;34m(self)\u001b[0m\n\u001b[1;32m    261\u001b[0m         \u001b[0;32mwith\u001b[0m \u001b[0mparallel_backend\u001b[0m\u001b[0;34m(\u001b[0m\u001b[0mself\u001b[0m\u001b[0;34m.\u001b[0m\u001b[0m_backend\u001b[0m\u001b[0;34m,\u001b[0m \u001b[0mn_jobs\u001b[0m\u001b[0;34m=\u001b[0m\u001b[0mself\u001b[0m\u001b[0;34m.\u001b[0m\u001b[0m_n_jobs\u001b[0m\u001b[0;34m)\u001b[0m\u001b[0;34m:\u001b[0m\u001b[0;34m\u001b[0m\u001b[0;34m\u001b[0m\u001b[0m\n\u001b[1;32m    262\u001b[0m             return [func(*args, **kwargs)\n\u001b[0;32m--> 263\u001b[0;31m                     for func, args, kwargs in self.items]\n\u001b[0m\u001b[1;32m    264\u001b[0m \u001b[0;34m\u001b[0m\u001b[0m\n\u001b[1;32m    265\u001b[0m     \u001b[0;32mdef\u001b[0m \u001b[0m__reduce__\u001b[0m\u001b[0;34m(\u001b[0m\u001b[0mself\u001b[0m\u001b[0;34m)\u001b[0m\u001b[0;34m:\u001b[0m\u001b[0;34m\u001b[0m\u001b[0;34m\u001b[0m\u001b[0m\n",
      "\u001b[0;32m/opt/conda/lib/python3.7/site-packages/joblib/parallel.py\u001b[0m in \u001b[0;36m<listcomp>\u001b[0;34m(.0)\u001b[0m\n\u001b[1;32m    261\u001b[0m         \u001b[0;32mwith\u001b[0m \u001b[0mparallel_backend\u001b[0m\u001b[0;34m(\u001b[0m\u001b[0mself\u001b[0m\u001b[0;34m.\u001b[0m\u001b[0m_backend\u001b[0m\u001b[0;34m,\u001b[0m \u001b[0mn_jobs\u001b[0m\u001b[0;34m=\u001b[0m\u001b[0mself\u001b[0m\u001b[0;34m.\u001b[0m\u001b[0m_n_jobs\u001b[0m\u001b[0;34m)\u001b[0m\u001b[0;34m:\u001b[0m\u001b[0;34m\u001b[0m\u001b[0;34m\u001b[0m\u001b[0m\n\u001b[1;32m    262\u001b[0m             return [func(*args, **kwargs)\n\u001b[0;32m--> 263\u001b[0;31m                     for func, args, kwargs in self.items]\n\u001b[0m\u001b[1;32m    264\u001b[0m \u001b[0;34m\u001b[0m\u001b[0m\n\u001b[1;32m    265\u001b[0m     \u001b[0;32mdef\u001b[0m \u001b[0m__reduce__\u001b[0m\u001b[0;34m(\u001b[0m\u001b[0mself\u001b[0m\u001b[0;34m)\u001b[0m\u001b[0;34m:\u001b[0m\u001b[0;34m\u001b[0m\u001b[0;34m\u001b[0m\u001b[0m\n",
      "\u001b[0;32m~/.local/lib/python3.7/site-packages/sklearn/utils/fixes.py\u001b[0m in \u001b[0;36m__call__\u001b[0;34m(self, *args, **kwargs)\u001b[0m\n\u001b[1;32m    220\u001b[0m     \u001b[0;32mdef\u001b[0m \u001b[0m__call__\u001b[0m\u001b[0;34m(\u001b[0m\u001b[0mself\u001b[0m\u001b[0;34m,\u001b[0m \u001b[0;34m*\u001b[0m\u001b[0margs\u001b[0m\u001b[0;34m,\u001b[0m \u001b[0;34m**\u001b[0m\u001b[0mkwargs\u001b[0m\u001b[0;34m)\u001b[0m\u001b[0;34m:\u001b[0m\u001b[0;34m\u001b[0m\u001b[0;34m\u001b[0m\u001b[0m\n\u001b[1;32m    221\u001b[0m         \u001b[0;32mwith\u001b[0m \u001b[0mconfig_context\u001b[0m\u001b[0;34m(\u001b[0m\u001b[0;34m**\u001b[0m\u001b[0mself\u001b[0m\u001b[0;34m.\u001b[0m\u001b[0mconfig\u001b[0m\u001b[0;34m)\u001b[0m\u001b[0;34m:\u001b[0m\u001b[0;34m\u001b[0m\u001b[0;34m\u001b[0m\u001b[0m\n\u001b[0;32m--> 222\u001b[0;31m             \u001b[0;32mreturn\u001b[0m \u001b[0mself\u001b[0m\u001b[0;34m.\u001b[0m\u001b[0mfunction\u001b[0m\u001b[0;34m(\u001b[0m\u001b[0;34m*\u001b[0m\u001b[0margs\u001b[0m\u001b[0;34m,\u001b[0m \u001b[0;34m**\u001b[0m\u001b[0mkwargs\u001b[0m\u001b[0;34m)\u001b[0m\u001b[0;34m\u001b[0m\u001b[0;34m\u001b[0m\u001b[0m\n\u001b[0m",
      "\u001b[0;32m~/.local/lib/python3.7/site-packages/sklearn/model_selection/_validation.py\u001b[0m in \u001b[0;36m_fit_and_score\u001b[0;34m(estimator, X, y, scorer, train, test, verbose, parameters, fit_params, return_train_score, return_parameters, return_n_test_samples, return_times, return_estimator, split_progress, candidate_progress, error_score)\u001b[0m\n\u001b[1;32m    591\u001b[0m             \u001b[0mestimator\u001b[0m\u001b[0;34m.\u001b[0m\u001b[0mfit\u001b[0m\u001b[0;34m(\u001b[0m\u001b[0mX_train\u001b[0m\u001b[0;34m,\u001b[0m \u001b[0;34m**\u001b[0m\u001b[0mfit_params\u001b[0m\u001b[0;34m)\u001b[0m\u001b[0;34m\u001b[0m\u001b[0;34m\u001b[0m\u001b[0m\n\u001b[1;32m    592\u001b[0m         \u001b[0;32melse\u001b[0m\u001b[0;34m:\u001b[0m\u001b[0;34m\u001b[0m\u001b[0;34m\u001b[0m\u001b[0m\n\u001b[0;32m--> 593\u001b[0;31m             \u001b[0mestimator\u001b[0m\u001b[0;34m.\u001b[0m\u001b[0mfit\u001b[0m\u001b[0;34m(\u001b[0m\u001b[0mX_train\u001b[0m\u001b[0;34m,\u001b[0m \u001b[0my_train\u001b[0m\u001b[0;34m,\u001b[0m \u001b[0;34m**\u001b[0m\u001b[0mfit_params\u001b[0m\u001b[0;34m)\u001b[0m\u001b[0;34m\u001b[0m\u001b[0;34m\u001b[0m\u001b[0m\n\u001b[0m\u001b[1;32m    594\u001b[0m \u001b[0;34m\u001b[0m\u001b[0m\n\u001b[1;32m    595\u001b[0m     \u001b[0;32mexcept\u001b[0m \u001b[0mException\u001b[0m \u001b[0;32mas\u001b[0m \u001b[0me\u001b[0m\u001b[0;34m:\u001b[0m\u001b[0;34m\u001b[0m\u001b[0;34m\u001b[0m\u001b[0m\n",
      "\u001b[0;32m~/.local/lib/python3.7/site-packages/sklearn/multioutput.py\u001b[0m in \u001b[0;36mfit\u001b[0;34m(self, X, Y, **fit_params)\u001b[0m\n\u001b[1;32m    840\u001b[0m         \u001b[0mself\u001b[0m \u001b[0;34m:\u001b[0m \u001b[0mobject\u001b[0m\u001b[0;34m\u001b[0m\u001b[0;34m\u001b[0m\u001b[0m\n\u001b[1;32m    841\u001b[0m         \"\"\"\n\u001b[0;32m--> 842\u001b[0;31m         \u001b[0msuper\u001b[0m\u001b[0;34m(\u001b[0m\u001b[0;34m)\u001b[0m\u001b[0;34m.\u001b[0m\u001b[0mfit\u001b[0m\u001b[0;34m(\u001b[0m\u001b[0mX\u001b[0m\u001b[0;34m,\u001b[0m \u001b[0mY\u001b[0m\u001b[0;34m,\u001b[0m \u001b[0;34m**\u001b[0m\u001b[0mfit_params\u001b[0m\u001b[0;34m)\u001b[0m\u001b[0;34m\u001b[0m\u001b[0;34m\u001b[0m\u001b[0m\n\u001b[0m\u001b[1;32m    843\u001b[0m         \u001b[0;32mreturn\u001b[0m \u001b[0mself\u001b[0m\u001b[0;34m\u001b[0m\u001b[0;34m\u001b[0m\u001b[0m\n\u001b[1;32m    844\u001b[0m \u001b[0;34m\u001b[0m\u001b[0m\n",
      "\u001b[0;32m~/.local/lib/python3.7/site-packages/sklearn/multioutput.py\u001b[0m in \u001b[0;36mfit\u001b[0;34m(self, X, Y, **fit_params)\u001b[0m\n\u001b[1;32m    508\u001b[0m             \u001b[0my\u001b[0m \u001b[0;34m=\u001b[0m \u001b[0mY\u001b[0m\u001b[0;34m[\u001b[0m\u001b[0;34m:\u001b[0m\u001b[0;34m,\u001b[0m \u001b[0mself\u001b[0m\u001b[0;34m.\u001b[0m\u001b[0morder_\u001b[0m\u001b[0;34m[\u001b[0m\u001b[0mchain_idx\u001b[0m\u001b[0;34m]\u001b[0m\u001b[0;34m]\u001b[0m\u001b[0;34m\u001b[0m\u001b[0;34m\u001b[0m\u001b[0m\n\u001b[1;32m    509\u001b[0m             estimator.fit(X_aug[:, :(X.shape[1] + chain_idx)], y,\n\u001b[0;32m--> 510\u001b[0;31m                           **fit_params)\n\u001b[0m\u001b[1;32m    511\u001b[0m             \u001b[0;32mif\u001b[0m \u001b[0mself\u001b[0m\u001b[0;34m.\u001b[0m\u001b[0mcv\u001b[0m \u001b[0;32mis\u001b[0m \u001b[0;32mnot\u001b[0m \u001b[0;32mNone\u001b[0m \u001b[0;32mand\u001b[0m \u001b[0mchain_idx\u001b[0m \u001b[0;34m<\u001b[0m \u001b[0mlen\u001b[0m\u001b[0;34m(\u001b[0m\u001b[0mself\u001b[0m\u001b[0;34m.\u001b[0m\u001b[0mestimators_\u001b[0m\u001b[0;34m)\u001b[0m \u001b[0;34m-\u001b[0m \u001b[0;36m1\u001b[0m\u001b[0;34m:\u001b[0m\u001b[0;34m\u001b[0m\u001b[0;34m\u001b[0m\u001b[0m\n\u001b[1;32m    512\u001b[0m                 \u001b[0mcol_idx\u001b[0m \u001b[0;34m=\u001b[0m \u001b[0mX\u001b[0m\u001b[0;34m.\u001b[0m\u001b[0mshape\u001b[0m\u001b[0;34m[\u001b[0m\u001b[0;36m1\u001b[0m\u001b[0;34m]\u001b[0m \u001b[0;34m+\u001b[0m \u001b[0mchain_idx\u001b[0m\u001b[0;34m\u001b[0m\u001b[0;34m\u001b[0m\u001b[0m\n",
      "\u001b[0;32m~/.local/lib/python3.7/site-packages/sklearn/ensemble/_forest.py\u001b[0m in \u001b[0;36mfit\u001b[0;34m(self, X, y, sample_weight)\u001b[0m\n\u001b[1;32m    391\u001b[0m                     \u001b[0mverbose\u001b[0m\u001b[0;34m=\u001b[0m\u001b[0mself\u001b[0m\u001b[0;34m.\u001b[0m\u001b[0mverbose\u001b[0m\u001b[0;34m,\u001b[0m \u001b[0mclass_weight\u001b[0m\u001b[0;34m=\u001b[0m\u001b[0mself\u001b[0m\u001b[0;34m.\u001b[0m\u001b[0mclass_weight\u001b[0m\u001b[0;34m,\u001b[0m\u001b[0;34m\u001b[0m\u001b[0;34m\u001b[0m\u001b[0m\n\u001b[1;32m    392\u001b[0m                     n_samples_bootstrap=n_samples_bootstrap)\n\u001b[0;32m--> 393\u001b[0;31m                 for i, t in enumerate(trees))\n\u001b[0m\u001b[1;32m    394\u001b[0m \u001b[0;34m\u001b[0m\u001b[0m\n\u001b[1;32m    395\u001b[0m             \u001b[0;31m# Collect newly grown trees\u001b[0m\u001b[0;34m\u001b[0m\u001b[0;34m\u001b[0m\u001b[0;34m\u001b[0m\u001b[0m\n",
      "\u001b[0;32m/opt/conda/lib/python3.7/site-packages/joblib/parallel.py\u001b[0m in \u001b[0;36m__call__\u001b[0;34m(self, iterable)\u001b[0m\n\u001b[1;32m   1042\u001b[0m                 \u001b[0mself\u001b[0m\u001b[0;34m.\u001b[0m\u001b[0m_iterating\u001b[0m \u001b[0;34m=\u001b[0m \u001b[0mself\u001b[0m\u001b[0;34m.\u001b[0m\u001b[0m_original_iterator\u001b[0m \u001b[0;32mis\u001b[0m \u001b[0;32mnot\u001b[0m \u001b[0;32mNone\u001b[0m\u001b[0;34m\u001b[0m\u001b[0;34m\u001b[0m\u001b[0m\n\u001b[1;32m   1043\u001b[0m \u001b[0;34m\u001b[0m\u001b[0m\n\u001b[0;32m-> 1044\u001b[0;31m             \u001b[0;32mwhile\u001b[0m \u001b[0mself\u001b[0m\u001b[0;34m.\u001b[0m\u001b[0mdispatch_one_batch\u001b[0m\u001b[0;34m(\u001b[0m\u001b[0miterator\u001b[0m\u001b[0;34m)\u001b[0m\u001b[0;34m:\u001b[0m\u001b[0;34m\u001b[0m\u001b[0;34m\u001b[0m\u001b[0m\n\u001b[0m\u001b[1;32m   1045\u001b[0m                 \u001b[0;32mpass\u001b[0m\u001b[0;34m\u001b[0m\u001b[0;34m\u001b[0m\u001b[0m\n\u001b[1;32m   1046\u001b[0m \u001b[0;34m\u001b[0m\u001b[0m\n",
      "\u001b[0;32m/opt/conda/lib/python3.7/site-packages/joblib/parallel.py\u001b[0m in \u001b[0;36mdispatch_one_batch\u001b[0;34m(self, iterator)\u001b[0m\n\u001b[1;32m    857\u001b[0m                 \u001b[0;32mreturn\u001b[0m \u001b[0;32mFalse\u001b[0m\u001b[0;34m\u001b[0m\u001b[0;34m\u001b[0m\u001b[0m\n\u001b[1;32m    858\u001b[0m             \u001b[0;32melse\u001b[0m\u001b[0;34m:\u001b[0m\u001b[0;34m\u001b[0m\u001b[0;34m\u001b[0m\u001b[0m\n\u001b[0;32m--> 859\u001b[0;31m                 \u001b[0mself\u001b[0m\u001b[0;34m.\u001b[0m\u001b[0m_dispatch\u001b[0m\u001b[0;34m(\u001b[0m\u001b[0mtasks\u001b[0m\u001b[0;34m)\u001b[0m\u001b[0;34m\u001b[0m\u001b[0;34m\u001b[0m\u001b[0m\n\u001b[0m\u001b[1;32m    860\u001b[0m                 \u001b[0;32mreturn\u001b[0m \u001b[0;32mTrue\u001b[0m\u001b[0;34m\u001b[0m\u001b[0;34m\u001b[0m\u001b[0m\n\u001b[1;32m    861\u001b[0m \u001b[0;34m\u001b[0m\u001b[0m\n",
      "\u001b[0;32m/opt/conda/lib/python3.7/site-packages/joblib/parallel.py\u001b[0m in \u001b[0;36m_dispatch\u001b[0;34m(self, batch)\u001b[0m\n\u001b[1;32m    775\u001b[0m         \u001b[0;32mwith\u001b[0m \u001b[0mself\u001b[0m\u001b[0;34m.\u001b[0m\u001b[0m_lock\u001b[0m\u001b[0;34m:\u001b[0m\u001b[0;34m\u001b[0m\u001b[0;34m\u001b[0m\u001b[0m\n\u001b[1;32m    776\u001b[0m             \u001b[0mjob_idx\u001b[0m \u001b[0;34m=\u001b[0m \u001b[0mlen\u001b[0m\u001b[0;34m(\u001b[0m\u001b[0mself\u001b[0m\u001b[0;34m.\u001b[0m\u001b[0m_jobs\u001b[0m\u001b[0;34m)\u001b[0m\u001b[0;34m\u001b[0m\u001b[0;34m\u001b[0m\u001b[0m\n\u001b[0;32m--> 777\u001b[0;31m             \u001b[0mjob\u001b[0m \u001b[0;34m=\u001b[0m \u001b[0mself\u001b[0m\u001b[0;34m.\u001b[0m\u001b[0m_backend\u001b[0m\u001b[0;34m.\u001b[0m\u001b[0mapply_async\u001b[0m\u001b[0;34m(\u001b[0m\u001b[0mbatch\u001b[0m\u001b[0;34m,\u001b[0m \u001b[0mcallback\u001b[0m\u001b[0;34m=\u001b[0m\u001b[0mcb\u001b[0m\u001b[0;34m)\u001b[0m\u001b[0;34m\u001b[0m\u001b[0;34m\u001b[0m\u001b[0m\n\u001b[0m\u001b[1;32m    778\u001b[0m             \u001b[0;31m# A job can complete so quickly than its callback is\u001b[0m\u001b[0;34m\u001b[0m\u001b[0;34m\u001b[0m\u001b[0;34m\u001b[0m\u001b[0m\n\u001b[1;32m    779\u001b[0m             \u001b[0;31m# called before we get here, causing self._jobs to\u001b[0m\u001b[0;34m\u001b[0m\u001b[0;34m\u001b[0m\u001b[0;34m\u001b[0m\u001b[0m\n",
      "\u001b[0;32m/opt/conda/lib/python3.7/site-packages/joblib/_parallel_backends.py\u001b[0m in \u001b[0;36mapply_async\u001b[0;34m(self, func, callback)\u001b[0m\n\u001b[1;32m    206\u001b[0m     \u001b[0;32mdef\u001b[0m \u001b[0mapply_async\u001b[0m\u001b[0;34m(\u001b[0m\u001b[0mself\u001b[0m\u001b[0;34m,\u001b[0m \u001b[0mfunc\u001b[0m\u001b[0;34m,\u001b[0m \u001b[0mcallback\u001b[0m\u001b[0;34m=\u001b[0m\u001b[0;32mNone\u001b[0m\u001b[0;34m)\u001b[0m\u001b[0;34m:\u001b[0m\u001b[0;34m\u001b[0m\u001b[0;34m\u001b[0m\u001b[0m\n\u001b[1;32m    207\u001b[0m         \u001b[0;34m\"\"\"Schedule a func to be run\"\"\"\u001b[0m\u001b[0;34m\u001b[0m\u001b[0;34m\u001b[0m\u001b[0m\n\u001b[0;32m--> 208\u001b[0;31m         \u001b[0mresult\u001b[0m \u001b[0;34m=\u001b[0m \u001b[0mImmediateResult\u001b[0m\u001b[0;34m(\u001b[0m\u001b[0mfunc\u001b[0m\u001b[0;34m)\u001b[0m\u001b[0;34m\u001b[0m\u001b[0;34m\u001b[0m\u001b[0m\n\u001b[0m\u001b[1;32m    209\u001b[0m         \u001b[0;32mif\u001b[0m \u001b[0mcallback\u001b[0m\u001b[0;34m:\u001b[0m\u001b[0;34m\u001b[0m\u001b[0;34m\u001b[0m\u001b[0m\n\u001b[1;32m    210\u001b[0m             \u001b[0mcallback\u001b[0m\u001b[0;34m(\u001b[0m\u001b[0mresult\u001b[0m\u001b[0;34m)\u001b[0m\u001b[0;34m\u001b[0m\u001b[0;34m\u001b[0m\u001b[0m\n",
      "\u001b[0;32m/opt/conda/lib/python3.7/site-packages/joblib/_parallel_backends.py\u001b[0m in \u001b[0;36m__init__\u001b[0;34m(self, batch)\u001b[0m\n\u001b[1;32m    570\u001b[0m         \u001b[0;31m# Don't delay the application, to avoid keeping the input\u001b[0m\u001b[0;34m\u001b[0m\u001b[0;34m\u001b[0m\u001b[0;34m\u001b[0m\u001b[0m\n\u001b[1;32m    571\u001b[0m         \u001b[0;31m# arguments in memory\u001b[0m\u001b[0;34m\u001b[0m\u001b[0;34m\u001b[0m\u001b[0;34m\u001b[0m\u001b[0m\n\u001b[0;32m--> 572\u001b[0;31m         \u001b[0mself\u001b[0m\u001b[0;34m.\u001b[0m\u001b[0mresults\u001b[0m \u001b[0;34m=\u001b[0m \u001b[0mbatch\u001b[0m\u001b[0;34m(\u001b[0m\u001b[0;34m)\u001b[0m\u001b[0;34m\u001b[0m\u001b[0;34m\u001b[0m\u001b[0m\n\u001b[0m\u001b[1;32m    573\u001b[0m \u001b[0;34m\u001b[0m\u001b[0m\n\u001b[1;32m    574\u001b[0m     \u001b[0;32mdef\u001b[0m \u001b[0mget\u001b[0m\u001b[0;34m(\u001b[0m\u001b[0mself\u001b[0m\u001b[0;34m)\u001b[0m\u001b[0;34m:\u001b[0m\u001b[0;34m\u001b[0m\u001b[0;34m\u001b[0m\u001b[0m\n",
      "\u001b[0;32m/opt/conda/lib/python3.7/site-packages/joblib/parallel.py\u001b[0m in \u001b[0;36m__call__\u001b[0;34m(self)\u001b[0m\n\u001b[1;32m    261\u001b[0m         \u001b[0;32mwith\u001b[0m \u001b[0mparallel_backend\u001b[0m\u001b[0;34m(\u001b[0m\u001b[0mself\u001b[0m\u001b[0;34m.\u001b[0m\u001b[0m_backend\u001b[0m\u001b[0;34m,\u001b[0m \u001b[0mn_jobs\u001b[0m\u001b[0;34m=\u001b[0m\u001b[0mself\u001b[0m\u001b[0;34m.\u001b[0m\u001b[0m_n_jobs\u001b[0m\u001b[0;34m)\u001b[0m\u001b[0;34m:\u001b[0m\u001b[0;34m\u001b[0m\u001b[0;34m\u001b[0m\u001b[0m\n\u001b[1;32m    262\u001b[0m             return [func(*args, **kwargs)\n\u001b[0;32m--> 263\u001b[0;31m                     for func, args, kwargs in self.items]\n\u001b[0m\u001b[1;32m    264\u001b[0m \u001b[0;34m\u001b[0m\u001b[0m\n\u001b[1;32m    265\u001b[0m     \u001b[0;32mdef\u001b[0m \u001b[0m__reduce__\u001b[0m\u001b[0;34m(\u001b[0m\u001b[0mself\u001b[0m\u001b[0;34m)\u001b[0m\u001b[0;34m:\u001b[0m\u001b[0;34m\u001b[0m\u001b[0;34m\u001b[0m\u001b[0m\n",
      "\u001b[0;32m/opt/conda/lib/python3.7/site-packages/joblib/parallel.py\u001b[0m in \u001b[0;36m<listcomp>\u001b[0;34m(.0)\u001b[0m\n\u001b[1;32m    261\u001b[0m         \u001b[0;32mwith\u001b[0m \u001b[0mparallel_backend\u001b[0m\u001b[0;34m(\u001b[0m\u001b[0mself\u001b[0m\u001b[0;34m.\u001b[0m\u001b[0m_backend\u001b[0m\u001b[0;34m,\u001b[0m \u001b[0mn_jobs\u001b[0m\u001b[0;34m=\u001b[0m\u001b[0mself\u001b[0m\u001b[0;34m.\u001b[0m\u001b[0m_n_jobs\u001b[0m\u001b[0;34m)\u001b[0m\u001b[0;34m:\u001b[0m\u001b[0;34m\u001b[0m\u001b[0;34m\u001b[0m\u001b[0m\n\u001b[1;32m    262\u001b[0m             return [func(*args, **kwargs)\n\u001b[0;32m--> 263\u001b[0;31m                     for func, args, kwargs in self.items]\n\u001b[0m\u001b[1;32m    264\u001b[0m \u001b[0;34m\u001b[0m\u001b[0m\n\u001b[1;32m    265\u001b[0m     \u001b[0;32mdef\u001b[0m \u001b[0m__reduce__\u001b[0m\u001b[0;34m(\u001b[0m\u001b[0mself\u001b[0m\u001b[0;34m)\u001b[0m\u001b[0;34m:\u001b[0m\u001b[0;34m\u001b[0m\u001b[0;34m\u001b[0m\u001b[0m\n",
      "\u001b[0;32m~/.local/lib/python3.7/site-packages/sklearn/utils/fixes.py\u001b[0m in \u001b[0;36m__call__\u001b[0;34m(self, *args, **kwargs)\u001b[0m\n\u001b[1;32m    220\u001b[0m     \u001b[0;32mdef\u001b[0m \u001b[0m__call__\u001b[0m\u001b[0;34m(\u001b[0m\u001b[0mself\u001b[0m\u001b[0;34m,\u001b[0m \u001b[0;34m*\u001b[0m\u001b[0margs\u001b[0m\u001b[0;34m,\u001b[0m \u001b[0;34m**\u001b[0m\u001b[0mkwargs\u001b[0m\u001b[0;34m)\u001b[0m\u001b[0;34m:\u001b[0m\u001b[0;34m\u001b[0m\u001b[0;34m\u001b[0m\u001b[0m\n\u001b[1;32m    221\u001b[0m         \u001b[0;32mwith\u001b[0m \u001b[0mconfig_context\u001b[0m\u001b[0;34m(\u001b[0m\u001b[0;34m**\u001b[0m\u001b[0mself\u001b[0m\u001b[0;34m.\u001b[0m\u001b[0mconfig\u001b[0m\u001b[0;34m)\u001b[0m\u001b[0;34m:\u001b[0m\u001b[0;34m\u001b[0m\u001b[0;34m\u001b[0m\u001b[0m\n\u001b[0;32m--> 222\u001b[0;31m             \u001b[0;32mreturn\u001b[0m \u001b[0mself\u001b[0m\u001b[0;34m.\u001b[0m\u001b[0mfunction\u001b[0m\u001b[0;34m(\u001b[0m\u001b[0;34m*\u001b[0m\u001b[0margs\u001b[0m\u001b[0;34m,\u001b[0m \u001b[0;34m**\u001b[0m\u001b[0mkwargs\u001b[0m\u001b[0;34m)\u001b[0m\u001b[0;34m\u001b[0m\u001b[0;34m\u001b[0m\u001b[0m\n\u001b[0m",
      "\u001b[0;32m~/.local/lib/python3.7/site-packages/sklearn/ensemble/_forest.py\u001b[0m in \u001b[0;36m_parallel_build_trees\u001b[0;34m(tree, forest, X, y, sample_weight, tree_idx, n_trees, verbose, class_weight, n_samples_bootstrap)\u001b[0m\n\u001b[1;32m    167\u001b[0m                                                         indices=indices)\n\u001b[1;32m    168\u001b[0m \u001b[0;34m\u001b[0m\u001b[0m\n\u001b[0;32m--> 169\u001b[0;31m         \u001b[0mtree\u001b[0m\u001b[0;34m.\u001b[0m\u001b[0mfit\u001b[0m\u001b[0;34m(\u001b[0m\u001b[0mX\u001b[0m\u001b[0;34m,\u001b[0m \u001b[0my\u001b[0m\u001b[0;34m,\u001b[0m \u001b[0msample_weight\u001b[0m\u001b[0;34m=\u001b[0m\u001b[0mcurr_sample_weight\u001b[0m\u001b[0;34m,\u001b[0m \u001b[0mcheck_input\u001b[0m\u001b[0;34m=\u001b[0m\u001b[0;32mFalse\u001b[0m\u001b[0;34m)\u001b[0m\u001b[0;34m\u001b[0m\u001b[0;34m\u001b[0m\u001b[0m\n\u001b[0m\u001b[1;32m    170\u001b[0m     \u001b[0;32melse\u001b[0m\u001b[0;34m:\u001b[0m\u001b[0;34m\u001b[0m\u001b[0;34m\u001b[0m\u001b[0m\n\u001b[1;32m    171\u001b[0m         \u001b[0mtree\u001b[0m\u001b[0;34m.\u001b[0m\u001b[0mfit\u001b[0m\u001b[0;34m(\u001b[0m\u001b[0mX\u001b[0m\u001b[0;34m,\u001b[0m \u001b[0my\u001b[0m\u001b[0;34m,\u001b[0m \u001b[0msample_weight\u001b[0m\u001b[0;34m=\u001b[0m\u001b[0msample_weight\u001b[0m\u001b[0;34m,\u001b[0m \u001b[0mcheck_input\u001b[0m\u001b[0;34m=\u001b[0m\u001b[0;32mFalse\u001b[0m\u001b[0;34m)\u001b[0m\u001b[0;34m\u001b[0m\u001b[0;34m\u001b[0m\u001b[0m\n",
      "\u001b[0;32m~/.local/lib/python3.7/site-packages/sklearn/tree/_classes.py\u001b[0m in \u001b[0;36mfit\u001b[0;34m(self, X, y, sample_weight, check_input, X_idx_sorted)\u001b[0m\n\u001b[1;32m   1249\u001b[0m             \u001b[0msample_weight\u001b[0m\u001b[0;34m=\u001b[0m\u001b[0msample_weight\u001b[0m\u001b[0;34m,\u001b[0m\u001b[0;34m\u001b[0m\u001b[0;34m\u001b[0m\u001b[0m\n\u001b[1;32m   1250\u001b[0m             \u001b[0mcheck_input\u001b[0m\u001b[0;34m=\u001b[0m\u001b[0mcheck_input\u001b[0m\u001b[0;34m,\u001b[0m\u001b[0;34m\u001b[0m\u001b[0;34m\u001b[0m\u001b[0m\n\u001b[0;32m-> 1251\u001b[0;31m             X_idx_sorted=X_idx_sorted)\n\u001b[0m\u001b[1;32m   1252\u001b[0m         \u001b[0;32mreturn\u001b[0m \u001b[0mself\u001b[0m\u001b[0;34m\u001b[0m\u001b[0;34m\u001b[0m\u001b[0m\n\u001b[1;32m   1253\u001b[0m \u001b[0;34m\u001b[0m\u001b[0m\n",
      "\u001b[0;32m~/.local/lib/python3.7/site-packages/sklearn/tree/_classes.py\u001b[0m in \u001b[0;36mfit\u001b[0;34m(self, X, y, sample_weight, check_input, X_idx_sorted)\u001b[0m\n\u001b[1;32m    387\u001b[0m                                            min_impurity_split)\n\u001b[1;32m    388\u001b[0m \u001b[0;34m\u001b[0m\u001b[0m\n\u001b[0;32m--> 389\u001b[0;31m         \u001b[0mbuilder\u001b[0m\u001b[0;34m.\u001b[0m\u001b[0mbuild\u001b[0m\u001b[0;34m(\u001b[0m\u001b[0mself\u001b[0m\u001b[0;34m.\u001b[0m\u001b[0mtree_\u001b[0m\u001b[0;34m,\u001b[0m \u001b[0mX\u001b[0m\u001b[0;34m,\u001b[0m \u001b[0my\u001b[0m\u001b[0;34m,\u001b[0m \u001b[0msample_weight\u001b[0m\u001b[0;34m)\u001b[0m\u001b[0;34m\u001b[0m\u001b[0;34m\u001b[0m\u001b[0m\n\u001b[0m\u001b[1;32m    390\u001b[0m \u001b[0;34m\u001b[0m\u001b[0m\n\u001b[1;32m    391\u001b[0m         \u001b[0;32mif\u001b[0m \u001b[0mself\u001b[0m\u001b[0;34m.\u001b[0m\u001b[0mn_outputs_\u001b[0m \u001b[0;34m==\u001b[0m \u001b[0;36m1\u001b[0m \u001b[0;32mand\u001b[0m \u001b[0mis_classifier\u001b[0m\u001b[0;34m(\u001b[0m\u001b[0mself\u001b[0m\u001b[0;34m)\u001b[0m\u001b[0;34m:\u001b[0m\u001b[0;34m\u001b[0m\u001b[0;34m\u001b[0m\u001b[0m\n",
      "\u001b[0;31mKeyboardInterrupt\u001b[0m: "
     ]
    }
   ],
   "source": [
    "#creating model using optimal hyperparameters\n",
    "RF = RandomForestRegressor(random_state=13).set_params(**study_rf.best_params)\n",
    "model_rf = RegressorChain(base_estimator=RF)\n",
    "#calculating the sMAPE_score for each cross validation\n",
    "visualizer_rf = CVScores(model_rf, cv=cv_1, scoring=sMAPE_score)\n",
    "\n",
    "visualizer_rf.fit(train_features, train_target)        # Fit the data to the visualizer\n",
    "visualizer_rf.show()           # Finalize and render the figure"
   ]
  },
  {
   "cell_type": "markdown",
   "metadata": {},
   "source": [
    "#### Conclusions"
   ]
  },
  {
   "cell_type": "markdown",
   "metadata": {},
   "source": [
    "Looking at the three models above, the average sMAPE of the linear regression model, decision tree regression model, and the random forest regression model were 10%, 10%, and 8% respectively. This leads me to believe that the random forest regression model is the optimal model for predicting gold recovery from the inputs.  "
   ]
  },
  {
   "cell_type": "markdown",
   "metadata": {},
   "source": [
    "<div class=\"alert alert-success\">\n",
    "<b>Reviewer's comment</b>\n",
    "\t  \n",
    "Very good, you used cross-validation to evaluate the models.\n",
    "\t  \n",
    "</div>"
   ]
  },
  {
   "cell_type": "markdown",
   "metadata": {},
   "source": [
    "## Final Testing"
   ]
  },
  {
   "cell_type": "code",
   "execution_count": 64,
   "metadata": {},
   "outputs": [
    {
     "name": "stdout",
     "output_type": "stream",
     "text": [
      "sMAPE of Linear Regression Model: 5.619063558646044\n",
      "sMAPE of Decison Tree Regression Model: 9.510794031364913\n",
      "sMAPE of Random Forest Regression Model: 7.125786627936359\n",
      "sMAPE of a Dummy Mean Regression Model: 10.289630376021034\n"
     ]
    }
   ],
   "source": [
    "#fit  the model using the training features\n",
    "model_lr.fit(train_features,train_target)\n",
    "#predict the testing targets\n",
    "y_pred_lr = model_lr.predict(test_features)\n",
    "#show the final sMAPE score\n",
    "sMAPE_lr = sMAPE_final(test_target, y_pred_lr)\n",
    "print('sMAPE of Linear Regression Model:', sMAPE_lr)\n",
    "\n",
    "#fit  the model using the training features\n",
    "model_dt.fit(train_features,train_target)\n",
    "#predict the testing targets\n",
    "y_pred_dt = model_dt.predict(test_features)\n",
    "#show the final sMAPE score\n",
    "sMAPE_dt = sMAPE_final(test_target, y_pred_dt)\n",
    "print('sMAPE of Decison Tree Regression Model:', sMAPE_dt)\n",
    "\n",
    "#fit  the model using the training features\n",
    "model_rf.fit(train_features,train_target)\n",
    "#predict the testing targets\n",
    "y_pred_rf = model_rf.predict(test_features)\n",
    "#show the final sMAPE score\n",
    "sMAPE_rf = sMAPE_final(test_target, y_pred_rf)\n",
    "print('sMAPE of Random Forest Regression Model:', sMAPE_rf)\n",
    "\n",
    "\n",
    "#fit  the model using the training features\n",
    "DR = DummyRegressor(strategy=\"mean\")\n",
    "model_dm = RegressorChain(base_estimator=DR)\n",
    "model_dm.fit(train_features,train_target)\n",
    "#predict the testing targets\n",
    "y_pred_dm = model_dm.predict(test_features)\n",
    "#show the final sMAPE score\n",
    "sMAPE_dm = sMAPE_final(test_target, y_pred_dm)\n",
    "print('sMAPE of a Dummy Mean Regression Model:', sMAPE_dm)\n",
    "\n",
    "\n"
   ]
  },
  {
   "cell_type": "markdown",
   "metadata": {},
   "source": [
    "### Conclusions"
   ]
  },
  {
   "cell_type": "markdown",
   "metadata": {},
   "source": [
    "The results above show the Linear Regression Model performing the best with an sMAPE value around 9.4%. I am hesitant to say this is the best model though due to the results from the cross validation. I think the inconcistencies between the cross validation and testing, along with the similarity of the dummy mean regression sMAPE, shows a lack of robustness in our models.   "
   ]
  },
  {
   "cell_type": "markdown",
   "metadata": {},
   "source": [
    "<div class=\"alert alert-success\">\n",
    "<b>Reviewer's comment</b>\n",
    "\t  \n",
    "Final models were evaluated on the test set.\n",
    "    \n",
    "</div>"
   ]
  },
  {
   "cell_type": "markdown",
   "metadata": {},
   "source": [
    "<div class=\"alert alert-danger\">\n",
    "<s><b>Reviewer's comment</b>\n",
    "\t  \n",
    "Please add some simple baseline, e.g. a constant model always predicting train target mean/median (it's convenient to use [DummyRegressor](https://scikit-learn.org/stable/modules/generated/sklearn.dummy.DummyRegressor.html))\n",
    "    \n",
    "</div>"
   ]
  },
  {
   "cell_type": "markdown",
   "metadata": {},
   "source": [
    "<div class=\"alert alert-success\">\n",
    "<b>Reviewer's comment V2</b>\n",
    "\t  \n",
    "Very good!\n",
    "\t  \n",
    "</div>"
   ]
  },
  {
   "cell_type": "markdown",
   "metadata": {},
   "source": [
    "## Final Conclusions"
   ]
  },
  {
   "cell_type": "markdown",
   "metadata": {},
   "source": [
    "Overall, this project should help Zyfra make decisions on which ores they should process. Yet, I think it is very difficult to find the optimal strategy without information on costs. The ideal anaylsis would be a cost-benefit analysis which compares the value added from purification to the cost of purification."
   ]
  },
  {
   "cell_type": "markdown",
   "metadata": {},
   "source": [
    "<div class=\"alert alert-success\">\n",
    "<b>Reviewer's comment</b>\n",
    "\t  \n",
    "Yeah, that makes sense!\n",
    "    \n",
    "</div>"
   ]
  },
  {
   "cell_type": "code",
   "execution_count": null,
   "metadata": {},
   "outputs": [],
   "source": []
  }
 ],
 "metadata": {
  "ExecuteTimeLog": [
   {
    "duration": 19196,
    "start_time": "2021-10-22T16:52:27.293Z"
   },
   {
    "duration": 1576,
    "start_time": "2021-10-22T16:55:23.845Z"
   },
   {
    "duration": 30,
    "start_time": "2021-10-22T16:55:49.839Z"
   },
   {
    "duration": 533,
    "start_time": "2021-10-22T16:56:40.473Z"
   },
   {
    "duration": 1451,
    "start_time": "2021-10-22T16:57:00.643Z"
   },
   {
    "duration": 59,
    "start_time": "2021-10-22T16:57:03.442Z"
   },
   {
    "duration": 290,
    "start_time": "2021-10-22T17:00:38.518Z"
   },
   {
    "duration": 10236,
    "start_time": "2021-10-22T17:00:48.546Z"
   },
   {
    "duration": 10773,
    "start_time": "2021-10-22T17:01:03.636Z"
   },
   {
    "duration": 1299,
    "start_time": "2021-10-22T17:01:15.584Z"
   },
   {
    "duration": 7737,
    "start_time": "2021-10-22T17:01:48.794Z"
   },
   {
    "duration": 8,
    "start_time": "2021-10-22T17:08:19.386Z"
   },
   {
    "duration": 6835,
    "start_time": "2021-10-22T17:09:22.230Z"
   },
   {
    "duration": 6869,
    "start_time": "2021-10-22T17:10:03.246Z"
   },
   {
    "duration": 1540,
    "start_time": "2021-10-22T17:12:32.693Z"
   },
   {
    "duration": 327,
    "start_time": "2021-10-22T17:13:18.565Z"
   },
   {
    "duration": 12,
    "start_time": "2021-10-22T17:13:55.293Z"
   },
   {
    "duration": 11,
    "start_time": "2021-10-22T17:14:15.155Z"
   },
   {
    "duration": 11,
    "start_time": "2021-10-22T17:14:27.853Z"
   },
   {
    "duration": 8,
    "start_time": "2021-10-22T17:14:42.340Z"
   },
   {
    "duration": 289,
    "start_time": "2021-10-22T17:14:46.916Z"
   },
   {
    "duration": 274,
    "start_time": "2021-10-22T17:16:48.305Z"
   },
   {
    "duration": 292,
    "start_time": "2021-10-22T17:17:48.075Z"
   },
   {
    "duration": 248,
    "start_time": "2021-10-22T17:18:01.116Z"
   },
   {
    "duration": 27,
    "start_time": "2021-10-22T17:18:35.085Z"
   },
   {
    "duration": 153,
    "start_time": "2021-10-22T17:18:44.927Z"
   },
   {
    "duration": 19,
    "start_time": "2021-10-22T17:20:12.667Z"
   },
   {
    "duration": 1394,
    "start_time": "2021-10-22T17:20:25.759Z"
   },
   {
    "duration": 27,
    "start_time": "2021-10-22T17:21:21.597Z"
   },
   {
    "duration": 34,
    "start_time": "2021-10-22T17:21:45.904Z"
   },
   {
    "duration": 7,
    "start_time": "2021-10-22T17:22:00.141Z"
   },
   {
    "duration": 94,
    "start_time": "2021-10-22T17:23:37.597Z"
   },
   {
    "duration": 4,
    "start_time": "2021-10-22T17:23:42.461Z"
   },
   {
    "duration": 6,
    "start_time": "2021-10-22T17:23:48.507Z"
   },
   {
    "duration": 19,
    "start_time": "2021-10-22T17:24:05.629Z"
   },
   {
    "duration": 26424,
    "start_time": "2021-10-22T17:26:25.879Z"
   },
   {
    "duration": 5037,
    "start_time": "2021-10-22T17:28:06.122Z"
   },
   {
    "duration": 7425,
    "start_time": "2021-10-22T17:34:16.884Z"
   },
   {
    "duration": 7367,
    "start_time": "2021-10-22T17:38:25.532Z"
   },
   {
    "duration": 7640,
    "start_time": "2021-10-22T17:38:35.666Z"
   },
   {
    "duration": 7493,
    "start_time": "2021-10-22T17:40:03.206Z"
   },
   {
    "duration": 7455,
    "start_time": "2021-10-22T17:43:01.834Z"
   },
   {
    "duration": 3199,
    "start_time": "2021-10-22T17:43:54.168Z"
   },
   {
    "duration": 11689,
    "start_time": "2021-10-22T17:47:43.815Z"
   },
   {
    "duration": 24,
    "start_time": "2021-10-22T17:48:32.263Z"
   },
   {
    "duration": 3954,
    "start_time": "2021-10-22T17:49:44.509Z"
   },
   {
    "duration": 4516,
    "start_time": "2021-10-22T17:50:23.566Z"
   },
   {
    "duration": 21,
    "start_time": "2021-10-22T17:52:40.944Z"
   },
   {
    "duration": 20,
    "start_time": "2021-10-22T17:53:42.433Z"
   },
   {
    "duration": 22,
    "start_time": "2021-10-22T17:53:51.201Z"
   },
   {
    "duration": 132,
    "start_time": "2021-10-22T17:54:37.394Z"
   },
   {
    "duration": 3284,
    "start_time": "2021-10-22T17:54:58.897Z"
   },
   {
    "duration": 3355,
    "start_time": "2021-10-22T17:55:30.945Z"
   },
   {
    "duration": 3670,
    "start_time": "2021-10-22T17:55:47.818Z"
   },
   {
    "duration": 404246,
    "start_time": "2021-10-22T17:56:20.202Z"
   },
   {
    "duration": 1964,
    "start_time": "2021-10-22T18:03:34.545Z"
   },
   {
    "duration": 19,
    "start_time": "2021-10-22T18:04:20.730Z"
   },
   {
    "duration": 162,
    "start_time": "2021-10-22T18:06:10.360Z"
   },
   {
    "duration": 152,
    "start_time": "2021-10-22T18:06:19.240Z"
   },
   {
    "duration": 59,
    "start_time": "2021-10-22T18:06:25.537Z"
   },
   {
    "duration": 191,
    "start_time": "2021-10-22T18:06:31.811Z"
   },
   {
    "duration": 350,
    "start_time": "2021-10-22T18:07:22.996Z"
   },
   {
    "duration": 475,
    "start_time": "2021-10-22T18:09:20.348Z"
   },
   {
    "duration": 364,
    "start_time": "2021-10-22T18:09:48.539Z"
   },
   {
    "duration": 626,
    "start_time": "2021-10-22T18:10:10.084Z"
   },
   {
    "duration": 654,
    "start_time": "2021-10-22T18:10:27.825Z"
   },
   {
    "duration": 670,
    "start_time": "2021-10-22T18:11:54.484Z"
   },
   {
    "duration": 632,
    "start_time": "2021-10-22T18:12:07.483Z"
   },
   {
    "duration": 690,
    "start_time": "2021-10-22T18:14:38.042Z"
   },
   {
    "duration": 659,
    "start_time": "2021-10-22T18:15:13.165Z"
   },
   {
    "duration": 645,
    "start_time": "2021-10-22T18:15:37.082Z"
   },
   {
    "duration": 58,
    "start_time": "2021-10-22T18:16:36.832Z"
   },
   {
    "duration": 47,
    "start_time": "2021-10-22T18:17:25.799Z"
   },
   {
    "duration": 58,
    "start_time": "2021-10-22T18:17:33.801Z"
   },
   {
    "duration": 46,
    "start_time": "2021-10-22T18:17:43.162Z"
   },
   {
    "duration": 56,
    "start_time": "2021-10-22T18:17:53.565Z"
   },
   {
    "duration": 48,
    "start_time": "2021-10-22T18:19:12.227Z"
   },
   {
    "duration": 51,
    "start_time": "2021-10-22T18:19:57.329Z"
   },
   {
    "duration": 79,
    "start_time": "2021-10-22T18:21:09.114Z"
   },
   {
    "duration": 106,
    "start_time": "2021-10-22T18:23:12.549Z"
   },
   {
    "duration": 131,
    "start_time": "2021-10-22T18:23:28.736Z"
   },
   {
    "duration": 148,
    "start_time": "2021-10-22T18:23:52.124Z"
   },
   {
    "duration": 151,
    "start_time": "2021-10-22T18:28:21.120Z"
   },
   {
    "duration": 129,
    "start_time": "2021-10-22T18:29:07.283Z"
   },
   {
    "duration": 63,
    "start_time": "2021-10-22T18:30:23.708Z"
   },
   {
    "duration": 51,
    "start_time": "2021-10-22T18:30:39.386Z"
   },
   {
    "duration": 99,
    "start_time": "2021-10-22T18:30:55.773Z"
   },
   {
    "duration": 77,
    "start_time": "2021-10-22T18:31:18.807Z"
   },
   {
    "duration": 84,
    "start_time": "2021-10-22T18:32:43.299Z"
   },
   {
    "duration": 100,
    "start_time": "2021-10-22T18:32:48.880Z"
   },
   {
    "duration": 100,
    "start_time": "2021-10-22T18:33:59.606Z"
   },
   {
    "duration": 87,
    "start_time": "2021-10-22T18:34:18.809Z"
   },
   {
    "duration": 108,
    "start_time": "2021-10-22T18:34:33.161Z"
   },
   {
    "duration": 3278,
    "start_time": "2021-10-22T18:35:57.270Z"
   },
   {
    "duration": 1577,
    "start_time": "2021-10-22T18:36:26.980Z"
   },
   {
    "duration": 894,
    "start_time": "2021-10-22T18:36:37.565Z"
   },
   {
    "duration": 3326,
    "start_time": "2021-10-22T18:36:47.684Z"
   },
   {
    "duration": 3762,
    "start_time": "2021-10-22T18:37:20.246Z"
   },
   {
    "duration": 4892,
    "start_time": "2021-10-22T18:37:32.183Z"
   },
   {
    "duration": 3479,
    "start_time": "2021-10-22T18:38:16.964Z"
   },
   {
    "duration": 87,
    "start_time": "2021-10-22T18:41:43.557Z"
   },
   {
    "duration": 3538,
    "start_time": "2021-10-22T18:41:49.837Z"
   },
   {
    "duration": 3467,
    "start_time": "2021-10-22T18:42:42.587Z"
   },
   {
    "duration": 3606,
    "start_time": "2021-10-22T18:43:03.228Z"
   },
   {
    "duration": 3616,
    "start_time": "2021-10-22T18:43:46.727Z"
   },
   {
    "duration": 7860,
    "start_time": "2021-10-22T18:44:18.836Z"
   },
   {
    "duration": 63158,
    "start_time": "2021-10-22T18:44:30.767Z"
   },
   {
    "duration": 21107,
    "start_time": "2021-10-22T18:45:41.240Z"
   },
   {
    "duration": 9918,
    "start_time": "2021-10-22T18:46:06.797Z"
   },
   {
    "duration": 10188,
    "start_time": "2021-10-22T18:47:15.239Z"
   },
   {
    "duration": 10147,
    "start_time": "2021-10-22T18:47:45.220Z"
   },
   {
    "duration": 10172,
    "start_time": "2021-10-22T18:49:15.703Z"
   },
   {
    "duration": 2404786,
    "start_time": "2021-10-22T18:49:31.623Z"
   },
   {
    "duration": 10465,
    "start_time": "2021-10-22T19:37:34.880Z"
   },
   {
    "duration": 227,
    "start_time": "2021-10-22T19:38:57.535Z"
   },
   {
    "duration": 274,
    "start_time": "2021-10-22T19:39:10.398Z"
   },
   {
    "duration": 226,
    "start_time": "2021-10-22T19:39:25.840Z"
   },
   {
    "duration": 283,
    "start_time": "2021-10-22T19:39:40.121Z"
   },
   {
    "duration": 10800,
    "start_time": "2021-10-22T19:40:45.796Z"
   },
   {
    "duration": 3654,
    "start_time": "2021-10-22T19:41:30.265Z"
   },
   {
    "duration": 3840,
    "start_time": "2021-10-22T19:41:40.879Z"
   },
   {
    "duration": 65373,
    "start_time": "2021-10-22T19:41:52.454Z"
   },
   {
    "duration": 10420,
    "start_time": "2021-10-22T19:43:28.408Z"
   },
   {
    "duration": 11038,
    "start_time": "2021-10-22T19:44:34.760Z"
   },
   {
    "duration": 10054,
    "start_time": "2021-10-22T19:45:23.798Z"
   },
   {
    "duration": 13709,
    "start_time": "2021-10-22T19:46:48.600Z"
   },
   {
    "duration": -344,
    "start_time": "2021-10-22T19:47:30.776Z"
   },
   {
    "duration": 12054,
    "start_time": "2021-10-22T19:47:41.815Z"
   },
   {
    "duration": 10756,
    "start_time": "2021-10-22T19:47:57.911Z"
   },
   {
    "duration": 10423,
    "start_time": "2021-10-22T19:48:25.537Z"
   },
   {
    "duration": 10777,
    "start_time": "2021-10-22T19:49:11.750Z"
   },
   {
    "duration": 14904,
    "start_time": "2021-10-22T19:50:03.913Z"
   },
   {
    "duration": 10225,
    "start_time": "2021-10-22T19:50:43.054Z"
   },
   {
    "duration": 11974,
    "start_time": "2021-10-22T19:51:17.270Z"
   },
   {
    "duration": 10161,
    "start_time": "2021-10-22T19:51:36.950Z"
   },
   {
    "duration": 1467,
    "start_time": "2021-10-22T19:51:51.017Z"
   },
   {
    "duration": 135,
    "start_time": "2021-10-22T19:52:06.236Z"
   },
   {
    "duration": 325,
    "start_time": "2021-10-22T19:52:19.942Z"
   },
   {
    "duration": 13767,
    "start_time": "2021-10-22T19:52:55.340Z"
   },
   {
    "duration": 10676,
    "start_time": "2021-10-22T19:53:11.631Z"
   },
   {
    "duration": 10427,
    "start_time": "2021-10-22T19:54:06.726Z"
   },
   {
    "duration": 471,
    "start_time": "2021-10-22T19:55:14.978Z"
   },
   {
    "duration": 77477,
    "start_time": "2021-10-22T19:55:32.063Z"
   },
   {
    "duration": 299,
    "start_time": "2021-10-22T19:57:00.118Z"
   },
   {
    "duration": 7,
    "start_time": "2021-10-22T19:57:08.072Z"
   },
   {
    "duration": 10,
    "start_time": "2021-10-22T19:59:08.876Z"
   },
   {
    "duration": 32,
    "start_time": "2021-10-22T19:59:15.883Z"
   },
   {
    "duration": 33,
    "start_time": "2021-10-22T20:01:47.033Z"
   },
   {
    "duration": 1598,
    "start_time": "2021-10-22T20:01:58.730Z"
   },
   {
    "duration": 13394,
    "start_time": "2021-10-22T20:21:55.043Z"
   },
   {
    "duration": 10373,
    "start_time": "2021-10-22T20:22:38.275Z"
   },
   {
    "duration": 10422,
    "start_time": "2021-10-22T20:25:01.178Z"
   },
   {
    "duration": 10932,
    "start_time": "2021-10-22T20:25:20.695Z"
   },
   {
    "duration": 11654,
    "start_time": "2021-10-22T20:26:09.443Z"
   },
   {
    "duration": 12738,
    "start_time": "2021-10-22T20:28:08.215Z"
   },
   {
    "duration": 11497,
    "start_time": "2021-10-22T20:29:58.772Z"
   },
   {
    "duration": 22066,
    "start_time": "2021-10-22T20:30:42.965Z"
   },
   {
    "duration": 18076,
    "start_time": "2021-10-22T20:31:55.629Z"
   },
   {
    "duration": 6,
    "start_time": "2021-10-22T20:33:05.883Z"
   },
   {
    "duration": 11183,
    "start_time": "2021-10-22T20:42:24.628Z"
   },
   {
    "duration": 17210,
    "start_time": "2021-10-22T20:53:43.658Z"
   },
   {
    "duration": 281,
    "start_time": "2021-10-22T20:57:41.073Z"
   },
   {
    "duration": 1478,
    "start_time": "2021-10-22T20:57:57.400Z"
   },
   {
    "duration": 40,
    "start_time": "2021-10-22T20:58:01.855Z"
   },
   {
    "duration": 163,
    "start_time": "2021-10-22T20:58:03.852Z"
   },
   {
    "duration": 1717,
    "start_time": "2021-10-22T20:58:07.051Z"
   },
   {
    "duration": 8918,
    "start_time": "2021-10-22T20:58:14.489Z"
   },
   {
    "duration": 3425,
    "start_time": "2021-10-22T20:58:29.242Z"
   },
   {
    "duration": 1672,
    "start_time": "2021-10-22T20:58:48.067Z"
   },
   {
    "duration": 78139,
    "start_time": "2021-10-22T20:58:55.404Z"
   },
   {
    "duration": 471,
    "start_time": "2021-10-22T21:00:21.330Z"
   },
   {
    "duration": 477127,
    "start_time": "2021-10-22T21:00:46.344Z"
   },
   {
    "duration": 18260,
    "start_time": "2021-10-22T21:10:14.255Z"
   },
   {
    "duration": 122528,
    "start_time": "2021-10-22T21:10:32.518Z"
   },
   {
    "duration": 1966,
    "start_time": "2021-10-22T21:12:35.049Z"
   },
   {
    "duration": 5,
    "start_time": "2021-10-22T21:21:50.028Z"
   },
   {
    "duration": 6,
    "start_time": "2021-10-22T21:21:57.157Z"
   },
   {
    "duration": 5,
    "start_time": "2021-10-22T21:22:03.387Z"
   },
   {
    "duration": 6,
    "start_time": "2021-10-22T21:22:27.064Z"
   },
   {
    "duration": 1918,
    "start_time": "2021-10-22T21:22:55.134Z"
   },
   {
    "duration": 333,
    "start_time": "2021-10-22T21:23:03.589Z"
   },
   {
    "duration": 117,
    "start_time": "2021-10-22T21:41:10.862Z"
   },
   {
    "duration": 285,
    "start_time": "2021-10-22T21:41:43.445Z"
   },
   {
    "duration": 113,
    "start_time": "2021-10-22T21:42:05.744Z"
   },
   {
    "duration": 23,
    "start_time": "2021-10-22T21:43:45.037Z"
   },
   {
    "duration": 100,
    "start_time": "2021-10-22T21:43:57.675Z"
   },
   {
    "duration": 89782,
    "start_time": "2021-10-22T21:44:01.647Z"
   },
   {
    "duration": 5,
    "start_time": "2021-10-22T21:45:31.432Z"
   },
   {
    "duration": 282,
    "start_time": "2021-10-22T21:45:41.201Z"
   },
   {
    "duration": 5,
    "start_time": "2021-10-22T21:45:45.837Z"
   },
   {
    "duration": 95327,
    "start_time": "2021-10-22T21:47:24.027Z"
   },
   {
    "duration": 27,
    "start_time": "2021-10-22T21:50:11.120Z"
   },
   {
    "duration": 7,
    "start_time": "2021-10-22T21:50:28.732Z"
   },
   {
    "duration": 243,
    "start_time": "2021-10-22T21:55:34.119Z"
   },
   {
    "duration": 6286,
    "start_time": "2021-10-22T21:56:38.494Z"
   },
   {
    "duration": 6591,
    "start_time": "2021-10-22T21:56:58.107Z"
   },
   {
    "duration": 6628,
    "start_time": "2021-10-22T21:57:25.853Z"
   },
   {
    "duration": 6,
    "start_time": "2021-10-22T21:58:18.954Z"
   },
   {
    "duration": 13,
    "start_time": "2021-10-22T21:58:37.048Z"
   },
   {
    "duration": 7,
    "start_time": "2021-10-22T21:59:54.046Z"
   },
   {
    "duration": 17,
    "start_time": "2021-10-22T22:00:06.203Z"
   },
   {
    "duration": 289,
    "start_time": "2021-10-22T22:05:39.378Z"
   },
   {
    "duration": 283,
    "start_time": "2021-10-22T22:05:46.658Z"
   },
   {
    "duration": 13,
    "start_time": "2021-10-22T22:06:02.904Z"
   },
   {
    "duration": 235,
    "start_time": "2021-10-22T22:06:27.093Z"
   },
   {
    "duration": 26,
    "start_time": "2021-10-22T22:06:34.987Z"
   },
   {
    "duration": 14,
    "start_time": "2021-10-22T22:07:00.638Z"
   },
   {
    "duration": 14,
    "start_time": "2021-10-22T22:07:07.038Z"
   },
   {
    "duration": 240,
    "start_time": "2021-10-22T22:07:54.811Z"
   },
   {
    "duration": 292,
    "start_time": "2021-10-22T22:08:01.787Z"
   },
   {
    "duration": 12,
    "start_time": "2021-10-22T22:08:24.106Z"
   },
   {
    "duration": 15,
    "start_time": "2021-10-22T22:08:30.036Z"
   },
   {
    "duration": 245,
    "start_time": "2021-10-22T22:15:08.304Z"
   },
   {
    "duration": 14,
    "start_time": "2021-10-22T22:15:18.458Z"
   },
   {
    "duration": 18,
    "start_time": "2021-10-22T22:15:47.576Z"
   },
   {
    "duration": 16,
    "start_time": "2021-10-22T22:16:22.518Z"
   },
   {
    "duration": 23,
    "start_time": "2021-10-22T22:19:14.296Z"
   },
   {
    "duration": 14,
    "start_time": "2021-10-22T22:19:29.177Z"
   },
   {
    "duration": 22,
    "start_time": "2021-10-22T22:19:36.102Z"
   },
   {
    "duration": 105,
    "start_time": "2021-10-22T22:19:56.254Z"
   },
   {
    "duration": 20,
    "start_time": "2021-10-22T22:20:00.070Z"
   },
   {
    "duration": 71,
    "start_time": "2021-10-22T22:20:36.793Z"
   },
   {
    "duration": 401,
    "start_time": "2021-10-22T22:20:42.845Z"
   },
   {
    "duration": 19,
    "start_time": "2021-10-22T22:20:56.831Z"
   },
   {
    "duration": 284,
    "start_time": "2021-10-22T22:22:40.026Z"
   },
   {
    "duration": 16,
    "start_time": "2021-10-22T22:23:12.172Z"
   },
   {
    "duration": 29,
    "start_time": "2021-10-22T22:23:20.564Z"
   },
   {
    "duration": 26,
    "start_time": "2021-10-22T22:23:28.682Z"
   },
   {
    "duration": 24,
    "start_time": "2021-10-22T22:24:52.166Z"
   },
   {
    "duration": 25,
    "start_time": "2021-10-22T22:26:26.702Z"
   },
   {
    "duration": 24,
    "start_time": "2021-10-22T22:26:33.933Z"
   },
   {
    "duration": 26,
    "start_time": "2021-10-22T22:26:42.381Z"
   },
   {
    "duration": 24,
    "start_time": "2021-10-22T22:27:05.674Z"
   },
   {
    "duration": 31,
    "start_time": "2021-10-22T22:27:35.121Z"
   },
   {
    "duration": 32,
    "start_time": "2021-10-22T22:27:44.538Z"
   },
   {
    "duration": 7867,
    "start_time": "2021-10-22T22:28:27.757Z"
   },
   {
    "duration": 208,
    "start_time": "2021-10-22T22:29:42.570Z"
   },
   {
    "duration": 299,
    "start_time": "2021-10-22T22:32:11.078Z"
   },
   {
    "duration": 294,
    "start_time": "2021-10-22T22:33:30.214Z"
   },
   {
    "duration": 20,
    "start_time": "2021-10-22T22:33:43.630Z"
   },
   {
    "duration": 28,
    "start_time": "2021-10-22T22:33:51.403Z"
   },
   {
    "duration": 291,
    "start_time": "2021-10-22T22:34:03.959Z"
   },
   {
    "duration": 24,
    "start_time": "2021-10-22T22:34:31.048Z"
   },
   {
    "duration": 24,
    "start_time": "2021-10-22T22:35:26.697Z"
   },
   {
    "duration": 20,
    "start_time": "2021-10-22T22:35:46.688Z"
   },
   {
    "duration": 27,
    "start_time": "2021-10-22T22:35:54.361Z"
   },
   {
    "duration": 32,
    "start_time": "2021-10-22T22:36:05.568Z"
   },
   {
    "duration": 36,
    "start_time": "2021-10-22T22:37:04.904Z"
   },
   {
    "duration": 299,
    "start_time": "2021-10-22T22:40:31.199Z"
   },
   {
    "duration": 19,
    "start_time": "2021-10-22T22:40:48.316Z"
   },
   {
    "duration": 13,
    "start_time": "2021-10-22T22:41:05.764Z"
   },
   {
    "duration": 20,
    "start_time": "2021-10-22T22:41:11.173Z"
   },
   {
    "duration": 222,
    "start_time": "2021-10-22T22:42:59.066Z"
   },
   {
    "duration": 13,
    "start_time": "2021-10-22T22:43:23.710Z"
   },
   {
    "duration": 15,
    "start_time": "2021-10-22T22:43:42.038Z"
   },
   {
    "duration": 943,
    "start_time": "2021-10-22T22:48:31.781Z"
   },
   {
    "duration": 269,
    "start_time": "2021-10-22T22:49:11.035Z"
   },
   {
    "duration": 285,
    "start_time": "2021-10-22T22:49:19.143Z"
   },
   {
    "duration": 848,
    "start_time": "2021-10-22T22:49:29.010Z"
   },
   {
    "duration": 638,
    "start_time": "2021-10-22T22:51:19.459Z"
   },
   {
    "duration": 264,
    "start_time": "2021-10-22T22:51:29.003Z"
   },
   {
    "duration": 1062,
    "start_time": "2021-10-22T22:51:39.674Z"
   },
   {
    "duration": 314,
    "start_time": "2021-10-22T22:53:49.505Z"
   },
   {
    "duration": 283,
    "start_time": "2021-10-22T22:54:00.606Z"
   },
   {
    "duration": 268,
    "start_time": "2021-10-22T22:54:31.585Z"
   },
   {
    "duration": 695,
    "start_time": "2021-10-22T22:54:51.675Z"
   },
   {
    "duration": 264,
    "start_time": "2021-10-22T22:55:13.084Z"
   },
   {
    "duration": 624,
    "start_time": "2021-10-22T22:56:18.523Z"
   },
   {
    "duration": 666,
    "start_time": "2021-10-22T22:56:31.278Z"
   },
   {
    "duration": 643,
    "start_time": "2021-10-22T22:58:42.185Z"
   },
   {
    "duration": 895,
    "start_time": "2021-10-22T23:00:13.426Z"
   },
   {
    "duration": 949,
    "start_time": "2021-10-22T23:02:00.514Z"
   },
   {
    "duration": 881,
    "start_time": "2021-10-22T23:02:45.060Z"
   },
   {
    "duration": 884,
    "start_time": "2021-10-22T23:03:58.159Z"
   },
   {
    "duration": 19425,
    "start_time": "2021-10-22T23:05:34.878Z"
   },
   {
    "duration": 24622,
    "start_time": "2021-10-22T23:06:10.801Z"
   },
   {
    "duration": 920,
    "start_time": "2021-10-22T23:06:37.189Z"
   },
   {
    "duration": 10393,
    "start_time": "2021-10-22T23:07:05.314Z"
   },
   {
    "duration": -475,
    "start_time": "2021-10-22T23:07:16.186Z"
   },
   {
    "duration": -476,
    "start_time": "2021-10-22T23:07:16.188Z"
   },
   {
    "duration": 24255,
    "start_time": "2021-10-22T23:07:21.334Z"
   },
   {
    "duration": 1584,
    "start_time": "2021-10-22T23:07:45.592Z"
   },
   {
    "duration": 25,
    "start_time": "2021-10-22T23:07:47.180Z"
   },
   {
    "duration": 64,
    "start_time": "2021-10-22T23:07:47.208Z"
   },
   {
    "duration": 19,
    "start_time": "2021-10-22T23:07:47.274Z"
   },
   {
    "duration": 1360,
    "start_time": "2021-10-22T23:07:47.296Z"
   },
   {
    "duration": 8585,
    "start_time": "2021-10-22T23:07:48.658Z"
   },
   {
    "duration": 77911,
    "start_time": "2021-10-22T23:07:57.246Z"
   },
   {
    "duration": 125,
    "start_time": "2021-10-22T23:09:15.160Z"
   },
   {
    "duration": 94471,
    "start_time": "2021-10-22T23:09:15.288Z"
   },
   {
    "duration": 702,
    "start_time": "2021-10-22T23:10:49.761Z"
   },
   {
    "duration": 534,
    "start_time": "2021-10-22T23:10:50.468Z"
   },
   {
    "duration": 904,
    "start_time": "2021-10-22T23:11:48.032Z"
   },
   {
    "duration": 597,
    "start_time": "2021-10-22T23:11:56.243Z"
   },
   {
    "duration": 555,
    "start_time": "2021-10-22T23:12:25.191Z"
   },
   {
    "duration": 561,
    "start_time": "2021-10-22T23:12:39.902Z"
   },
   {
    "duration": 542,
    "start_time": "2021-10-22T23:12:57.208Z"
   },
   {
    "duration": 573,
    "start_time": "2021-10-22T23:13:06.473Z"
   },
   {
    "duration": 784,
    "start_time": "2021-10-22T23:13:14.769Z"
   },
   {
    "duration": 630,
    "start_time": "2021-10-22T23:13:27.118Z"
   },
   {
    "duration": 804,
    "start_time": "2021-10-22T23:13:42.507Z"
   },
   {
    "duration": 582,
    "start_time": "2021-10-22T23:13:50.203Z"
   },
   {
    "duration": 256,
    "start_time": "2021-10-22T23:14:31.004Z"
   },
   {
    "duration": 615,
    "start_time": "2021-10-22T23:14:37.362Z"
   },
   {
    "duration": 643,
    "start_time": "2021-10-22T23:14:50.321Z"
   },
   {
    "duration": 596,
    "start_time": "2021-10-22T23:15:09.889Z"
   },
   {
    "duration": 581,
    "start_time": "2021-10-22T23:15:26.913Z"
   },
   {
    "duration": 608,
    "start_time": "2021-10-22T23:15:33.685Z"
   },
   {
    "duration": 589,
    "start_time": "2021-10-22T23:15:50.594Z"
   },
   {
    "duration": 28,
    "start_time": "2021-10-22T23:16:17.282Z"
   },
   {
    "duration": 7,
    "start_time": "2021-10-22T23:18:21.383Z"
   },
   {
    "duration": 276,
    "start_time": "2021-10-22T23:21:00.228Z"
   },
   {
    "duration": 272,
    "start_time": "2021-10-22T23:21:08.285Z"
   },
   {
    "duration": 281,
    "start_time": "2021-10-22T23:21:44.083Z"
   },
   {
    "duration": 291,
    "start_time": "2021-10-22T23:22:21.890Z"
   },
   {
    "duration": 333,
    "start_time": "2021-10-22T23:22:45.800Z"
   },
   {
    "duration": 26415,
    "start_time": "2021-10-22T23:24:19.163Z"
   },
   {
    "duration": 297,
    "start_time": "2021-10-22T23:24:51.719Z"
   },
   {
    "duration": 27827,
    "start_time": "2021-10-22T23:25:02.757Z"
   },
   {
    "duration": 1508,
    "start_time": "2021-10-22T23:25:30.587Z"
   },
   {
    "duration": 25,
    "start_time": "2021-10-22T23:25:32.098Z"
   },
   {
    "duration": 63,
    "start_time": "2021-10-22T23:25:32.126Z"
   },
   {
    "duration": 19,
    "start_time": "2021-10-22T23:25:32.192Z"
   },
   {
    "duration": 1402,
    "start_time": "2021-10-22T23:25:32.214Z"
   },
   {
    "duration": 8583,
    "start_time": "2021-10-22T23:25:33.619Z"
   },
   {
    "duration": 78571,
    "start_time": "2021-10-22T23:25:42.205Z"
   },
   {
    "duration": 121,
    "start_time": "2021-10-22T23:27:00.779Z"
   },
   {
    "duration": 91036,
    "start_time": "2021-10-22T23:27:00.903Z"
   },
   {
    "duration": 678,
    "start_time": "2021-10-22T23:28:31.942Z"
   },
   {
    "duration": 2868,
    "start_time": "2021-10-22T23:28:32.623Z"
   },
   {
    "duration": 3186,
    "start_time": "2021-10-22T23:30:18.907Z"
   },
   {
    "duration": 3364,
    "start_time": "2021-10-22T23:30:51.573Z"
   },
   {
    "duration": 3067,
    "start_time": "2021-10-22T23:31:36.582Z"
   },
   {
    "duration": 3311,
    "start_time": "2021-10-22T23:33:54.459Z"
   },
   {
    "duration": 2710,
    "start_time": "2021-10-22T23:34:54.461Z"
   },
   {
    "duration": 1898,
    "start_time": "2021-10-22T23:35:49.821Z"
   },
   {
    "duration": 1913,
    "start_time": "2021-10-22T23:36:01.738Z"
   },
   {
    "duration": 272,
    "start_time": "2021-10-22T23:37:24.508Z"
   },
   {
    "duration": 285,
    "start_time": "2021-10-22T23:37:33.833Z"
   },
   {
    "duration": 87,
    "start_time": "2021-10-22T23:38:51.741Z"
   },
   {
    "duration": 9,
    "start_time": "2021-10-22T23:38:57.415Z"
   },
   {
    "duration": 16,
    "start_time": "2021-10-22T23:39:02.916Z"
   },
   {
    "duration": 13,
    "start_time": "2021-10-22T23:39:24.355Z"
   },
   {
    "duration": 2645,
    "start_time": "2021-10-22T23:40:46.850Z"
   },
   {
    "duration": 1734,
    "start_time": "2021-10-22T23:42:07.778Z"
   },
   {
    "duration": 2449,
    "start_time": "2021-10-22T23:42:24.029Z"
   },
   {
    "duration": 13,
    "start_time": "2021-10-22T23:50:53.294Z"
   },
   {
    "duration": 4029,
    "start_time": "2021-10-22T23:52:49.973Z"
   },
   {
    "duration": 3790,
    "start_time": "2021-10-22T23:55:44.934Z"
   },
   {
    "duration": 3989,
    "start_time": "2021-10-22T23:56:53.344Z"
   },
   {
    "duration": 3759,
    "start_time": "2021-10-22T23:57:22.566Z"
   },
   {
    "duration": 3674,
    "start_time": "2021-10-22T23:57:35.351Z"
   },
   {
    "duration": 4045,
    "start_time": "2021-10-22T23:57:52.568Z"
   },
   {
    "duration": 7849,
    "start_time": "2021-10-23T00:02:24.718Z"
   },
   {
    "duration": 3727,
    "start_time": "2021-10-23T00:02:59.680Z"
   },
   {
    "duration": 4209,
    "start_time": "2021-10-23T00:03:35.184Z"
   },
   {
    "duration": 4643,
    "start_time": "2021-10-23T00:03:46.966Z"
   },
   {
    "duration": 3834,
    "start_time": "2021-10-23T00:04:28.762Z"
   },
   {
    "duration": 4113,
    "start_time": "2021-10-23T00:05:20.877Z"
   },
   {
    "duration": 3893,
    "start_time": "2021-10-23T00:05:39.967Z"
   },
   {
    "duration": 27554,
    "start_time": "2021-10-23T00:08:11.952Z"
   },
   {
    "duration": 1525,
    "start_time": "2021-10-23T00:08:39.509Z"
   },
   {
    "duration": 37,
    "start_time": "2021-10-23T00:08:41.037Z"
   },
   {
    "duration": 46,
    "start_time": "2021-10-23T00:08:41.077Z"
   },
   {
    "duration": 19,
    "start_time": "2021-10-23T00:08:41.126Z"
   },
   {
    "duration": 1359,
    "start_time": "2021-10-23T00:08:41.168Z"
   },
   {
    "duration": 8752,
    "start_time": "2021-10-23T00:08:42.530Z"
   },
   {
    "duration": 3,
    "start_time": "2021-10-23T00:08:51.285Z"
   },
   {
    "duration": 129,
    "start_time": "2021-10-23T00:08:51.292Z"
   },
   {
    "duration": 3,
    "start_time": "2021-10-23T00:08:51.424Z"
   },
   {
    "duration": 808,
    "start_time": "2021-10-23T00:08:51.429Z"
   },
   {
    "duration": 3071,
    "start_time": "2021-10-23T00:08:52.240Z"
   },
   {
    "duration": 13,
    "start_time": "2021-10-23T00:08:55.313Z"
   },
   {
    "duration": 3907,
    "start_time": "2021-10-23T00:08:55.329Z"
   },
   {
    "duration": 4215,
    "start_time": "2021-10-23T00:10:29.808Z"
   },
   {
    "duration": 4015,
    "start_time": "2021-10-23T00:12:30.102Z"
   },
   {
    "duration": 20,
    "start_time": "2021-10-23T00:14:46.225Z"
   },
   {
    "duration": 22,
    "start_time": "2021-10-23T00:15:15.252Z"
   },
   {
    "duration": 355,
    "start_time": "2021-10-23T00:15:48.005Z"
   },
   {
    "duration": 14,
    "start_time": "2021-10-23T00:15:54.627Z"
   },
   {
    "duration": 14,
    "start_time": "2021-10-23T00:18:02.653Z"
   },
   {
    "duration": 47503,
    "start_time": "2021-10-25T17:19:09.481Z"
   },
   {
    "duration": 1334,
    "start_time": "2021-10-25T17:19:56.987Z"
   },
   {
    "duration": 27,
    "start_time": "2021-10-25T17:19:58.324Z"
   },
   {
    "duration": 83,
    "start_time": "2021-10-25T17:19:58.354Z"
   },
   {
    "duration": 17,
    "start_time": "2021-10-25T17:19:58.439Z"
   },
   {
    "duration": 1646,
    "start_time": "2021-10-25T17:19:58.458Z"
   },
   {
    "duration": 9246,
    "start_time": "2021-10-25T17:20:00.106Z"
   },
   {
    "duration": 4,
    "start_time": "2021-10-25T17:20:09.354Z"
   },
   {
    "duration": 179,
    "start_time": "2021-10-25T17:20:09.361Z"
   },
   {
    "duration": 3,
    "start_time": "2021-10-25T17:20:09.543Z"
   },
   {
    "duration": 1186,
    "start_time": "2021-10-25T17:20:09.548Z"
   },
   {
    "duration": -3995,
    "start_time": "2021-10-25T17:20:14.731Z"
   },
   {
    "duration": -3994,
    "start_time": "2021-10-25T17:20:14.732Z"
   },
   {
    "duration": -3994,
    "start_time": "2021-10-25T17:20:14.733Z"
   },
   {
    "duration": 82,
    "start_time": "2021-10-25T17:20:41.635Z"
   },
   {
    "duration": 83,
    "start_time": "2021-10-25T17:21:04.758Z"
   },
   {
    "duration": 84,
    "start_time": "2021-10-25T17:21:41.648Z"
   },
   {
    "duration": 5118,
    "start_time": "2021-10-25T17:22:16.662Z"
   },
   {
    "duration": 74,
    "start_time": "2021-10-25T17:22:40.840Z"
   },
   {
    "duration": 5088,
    "start_time": "2021-10-25T17:22:44.727Z"
   },
   {
    "duration": 5639,
    "start_time": "2021-10-25T17:23:31.991Z"
   },
   {
    "duration": 5020,
    "start_time": "2021-10-25T17:24:02.981Z"
   },
   {
    "duration": 6844,
    "start_time": "2021-10-25T17:24:57.612Z"
   },
   {
    "duration": 14,
    "start_time": "2021-10-25T17:25:19.158Z"
   },
   {
    "duration": 53,
    "start_time": "2021-10-25T17:25:34.453Z"
   },
   {
    "duration": 58,
    "start_time": "2021-10-25T17:25:41.581Z"
   },
   {
    "duration": 600,
    "start_time": "2021-10-25T17:26:25.675Z"
   },
   {
    "duration": 253,
    "start_time": "2021-10-25T17:26:47.856Z"
   },
   {
    "duration": 12,
    "start_time": "2021-10-25T17:26:57.474Z"
   },
   {
    "duration": 26,
    "start_time": "2021-10-25T17:36:11.437Z"
   },
   {
    "duration": 239,
    "start_time": "2021-10-25T17:36:16.384Z"
   },
   {
    "duration": 241,
    "start_time": "2021-10-25T17:36:25.702Z"
   },
   {
    "duration": 24228,
    "start_time": "2021-10-25T17:36:39.060Z"
   },
   {
    "duration": 225,
    "start_time": "2021-10-25T17:37:08.911Z"
   },
   {
    "duration": 27908,
    "start_time": "2021-10-25T17:37:24.398Z"
   },
   {
    "duration": 1911,
    "start_time": "2021-10-25T17:37:52.309Z"
   },
   {
    "duration": 28,
    "start_time": "2021-10-25T17:37:54.223Z"
   },
   {
    "duration": 54,
    "start_time": "2021-10-25T17:37:54.254Z"
   },
   {
    "duration": 35,
    "start_time": "2021-10-25T17:37:54.311Z"
   },
   {
    "duration": 1332,
    "start_time": "2021-10-25T17:37:54.349Z"
   },
   {
    "duration": 8431,
    "start_time": "2021-10-25T17:37:55.684Z"
   },
   {
    "duration": 3,
    "start_time": "2021-10-25T17:38:04.118Z"
   },
   {
    "duration": 195,
    "start_time": "2021-10-25T17:38:04.131Z"
   },
   {
    "duration": 3,
    "start_time": "2021-10-25T17:38:04.329Z"
   },
   {
    "duration": 597,
    "start_time": "2021-10-25T17:38:04.335Z"
   },
   {
    "duration": 2619,
    "start_time": "2021-10-25T17:38:04.935Z"
   },
   {
    "duration": 14,
    "start_time": "2021-10-25T17:38:07.556Z"
   },
   {
    "duration": 4028,
    "start_time": "2021-10-25T17:38:07.572Z"
   },
   {
    "duration": 4,
    "start_time": "2021-10-25T17:39:57.051Z"
   },
   {
    "duration": 4217,
    "start_time": "2021-10-25T17:40:03.848Z"
   },
   {
    "duration": 675,
    "start_time": "2021-10-25T17:40:16.795Z"
   },
   {
    "duration": 8121,
    "start_time": "2021-10-25T17:41:03.857Z"
   },
   {
    "duration": 4105,
    "start_time": "2021-10-25T17:41:48.026Z"
   },
   {
    "duration": 3965,
    "start_time": "2021-10-25T17:41:58.185Z"
   },
   {
    "duration": 4389,
    "start_time": "2021-10-25T17:42:07.944Z"
   },
   {
    "duration": 3786,
    "start_time": "2021-10-25T17:42:33.935Z"
   },
   {
    "duration": 4629,
    "start_time": "2021-10-25T17:42:48.926Z"
   },
   {
    "duration": 12,
    "start_time": "2021-10-25T17:43:17.012Z"
   },
   {
    "duration": 8958,
    "start_time": "2021-10-25T17:43:24.553Z"
   },
   {
    "duration": 4205,
    "start_time": "2021-10-25T17:43:59.212Z"
   },
   {
    "duration": 26304,
    "start_time": "2021-10-25T17:44:12.192Z"
   },
   {
    "duration": 1496,
    "start_time": "2021-10-25T17:44:38.499Z"
   },
   {
    "duration": 37,
    "start_time": "2021-10-25T17:44:39.998Z"
   },
   {
    "duration": 49,
    "start_time": "2021-10-25T17:44:40.039Z"
   },
   {
    "duration": 20,
    "start_time": "2021-10-25T17:44:40.090Z"
   },
   {
    "duration": 1308,
    "start_time": "2021-10-25T17:44:40.128Z"
   },
   {
    "duration": 8615,
    "start_time": "2021-10-25T17:44:41.439Z"
   },
   {
    "duration": 3,
    "start_time": "2021-10-25T17:44:50.056Z"
   },
   {
    "duration": 131,
    "start_time": "2021-10-25T17:44:50.062Z"
   },
   {
    "duration": 3,
    "start_time": "2021-10-25T17:44:50.196Z"
   },
   {
    "duration": 675,
    "start_time": "2021-10-25T17:44:50.202Z"
   },
   {
    "duration": 2752,
    "start_time": "2021-10-25T17:44:50.880Z"
   },
   {
    "duration": 18,
    "start_time": "2021-10-25T17:44:53.635Z"
   },
   {
    "duration": 3685,
    "start_time": "2021-10-25T17:44:53.656Z"
   },
   {
    "duration": 3845,
    "start_time": "2021-10-25T17:45:41.648Z"
   },
   {
    "duration": 7740,
    "start_time": "2021-10-25T17:46:16.544Z"
   },
   {
    "duration": 27507,
    "start_time": "2021-10-25T17:47:26.065Z"
   },
   {
    "duration": 1419,
    "start_time": "2021-10-25T17:47:53.575Z"
   },
   {
    "duration": 32,
    "start_time": "2021-10-25T17:47:54.997Z"
   },
   {
    "duration": 45,
    "start_time": "2021-10-25T17:47:55.032Z"
   },
   {
    "duration": 18,
    "start_time": "2021-10-25T17:47:55.079Z"
   },
   {
    "duration": 1330,
    "start_time": "2021-10-25T17:47:55.100Z"
   },
   {
    "duration": 8598,
    "start_time": "2021-10-25T17:47:56.432Z"
   },
   {
    "duration": 75710,
    "start_time": "2021-10-25T17:48:05.033Z"
   },
   {
    "duration": 123,
    "start_time": "2021-10-25T17:49:20.746Z"
   },
   {
    "duration": 94647,
    "start_time": "2021-10-25T17:49:20.872Z"
   },
   {
    "duration": 646,
    "start_time": "2021-10-25T17:50:55.529Z"
   },
   {
    "duration": 2727,
    "start_time": "2021-10-25T17:50:56.177Z"
   },
   {
    "duration": 23,
    "start_time": "2021-10-25T17:50:58.906Z"
   },
   {
    "duration": 7652,
    "start_time": "2021-10-25T17:50:58.932Z"
   },
   {
    "duration": 56,
    "start_time": "2021-10-25T18:41:50.403Z"
   },
   {
    "duration": 829,
    "start_time": "2021-10-25T18:41:57.652Z"
   },
   {
    "duration": 509,
    "start_time": "2021-10-25T18:42:11.204Z"
   },
   {
    "duration": 626,
    "start_time": "2021-10-25T18:42:48.140Z"
   },
   {
    "duration": 23020,
    "start_time": "2021-10-25T18:44:52.285Z"
   },
   {
    "duration": 3356,
    "start_time": "2021-10-25T18:45:15.308Z"
   },
   {
    "duration": 1394,
    "start_time": "2021-10-25T18:45:18.667Z"
   },
   {
    "duration": 24,
    "start_time": "2021-10-25T18:45:20.064Z"
   },
   {
    "duration": 57,
    "start_time": "2021-10-25T18:45:20.090Z"
   },
   {
    "duration": 18,
    "start_time": "2021-10-25T18:45:20.150Z"
   },
   {
    "duration": 1298,
    "start_time": "2021-10-25T18:45:20.170Z"
   },
   {
    "duration": 8445,
    "start_time": "2021-10-25T18:45:21.470Z"
   },
   {
    "duration": 78358,
    "start_time": "2021-10-25T18:45:29.919Z"
   },
   {
    "duration": 125,
    "start_time": "2021-10-25T18:46:48.280Z"
   },
   {
    "duration": 92023,
    "start_time": "2021-10-25T18:46:48.407Z"
   },
   {
    "duration": 783,
    "start_time": "2021-10-25T18:48:20.433Z"
   },
   {
    "duration": 517,
    "start_time": "2021-10-25T18:48:21.218Z"
   },
   {
    "duration": -90,
    "start_time": "2021-10-25T18:48:21.827Z"
   },
   {
    "duration": -89,
    "start_time": "2021-10-25T18:48:21.828Z"
   },
   {
    "duration": 228,
    "start_time": "2021-10-25T18:49:44.616Z"
   },
   {
    "duration": 626,
    "start_time": "2021-10-25T18:50:08.077Z"
   },
   {
    "duration": 2486,
    "start_time": "2021-10-25T18:50:22.149Z"
   },
   {
    "duration": 2277,
    "start_time": "2021-10-25T18:50:36.560Z"
   },
   {
    "duration": 2748,
    "start_time": "2021-10-25T18:53:38.820Z"
   },
   {
    "duration": 2322,
    "start_time": "2021-10-25T18:53:52.726Z"
   },
   {
    "duration": 2283,
    "start_time": "2021-10-25T18:54:29.550Z"
   },
   {
    "duration": 1888,
    "start_time": "2021-10-25T18:55:54.321Z"
   },
   {
    "duration": 955,
    "start_time": "2021-10-25T18:57:24.860Z"
   },
   {
    "duration": 2761,
    "start_time": "2021-10-25T18:57:58.809Z"
   },
   {
    "duration": 3935,
    "start_time": "2021-10-25T18:58:13.377Z"
   },
   {
    "duration": 3295,
    "start_time": "2021-10-25T18:59:01.306Z"
   },
   {
    "duration": 1177,
    "start_time": "2021-10-25T18:59:48.993Z"
   },
   {
    "duration": 3388,
    "start_time": "2021-10-25T19:00:30.075Z"
   },
   {
    "duration": 3575,
    "start_time": "2021-10-25T19:00:51.916Z"
   },
   {
    "duration": 5674,
    "start_time": "2021-10-25T19:03:03.557Z"
   },
   {
    "duration": 15,
    "start_time": "2021-10-25T19:03:14.675Z"
   },
   {
    "duration": 3368,
    "start_time": "2021-10-25T19:03:18.570Z"
   },
   {
    "duration": 3251,
    "start_time": "2021-10-25T19:03:34.796Z"
   },
   {
    "duration": 7959,
    "start_time": "2021-10-25T19:04:19.249Z"
   },
   {
    "duration": 3806,
    "start_time": "2021-10-25T19:06:25.551Z"
   },
   {
    "duration": 4304,
    "start_time": "2021-10-25T19:07:24.589Z"
   },
   {
    "duration": 70,
    "start_time": "2021-10-25T19:12:49.071Z"
   },
   {
    "duration": 62,
    "start_time": "2021-10-25T19:13:13.792Z"
   },
   {
    "duration": 262,
    "start_time": "2021-10-25T19:13:54.460Z"
   },
   {
    "duration": 81,
    "start_time": "2021-10-25T19:14:15.257Z"
   },
   {
    "duration": 262,
    "start_time": "2021-10-25T19:14:33.808Z"
   },
   {
    "duration": 89,
    "start_time": "2021-10-25T19:14:49.416Z"
   },
   {
    "duration": 48,
    "start_time": "2021-10-25T19:14:54.778Z"
   },
   {
    "duration": 47,
    "start_time": "2021-10-25T19:15:03.675Z"
   },
   {
    "duration": 41,
    "start_time": "2021-10-25T19:15:09.031Z"
   },
   {
    "duration": 44,
    "start_time": "2021-10-25T19:22:33.120Z"
   },
   {
    "duration": 50,
    "start_time": "2021-10-25T19:23:00.517Z"
   },
   {
    "duration": 6,
    "start_time": "2021-10-25T19:34:08.910Z"
   },
   {
    "duration": 10,
    "start_time": "2021-10-25T19:35:34.067Z"
   },
   {
    "duration": 11,
    "start_time": "2021-10-25T19:35:38.009Z"
   },
   {
    "duration": 24,
    "start_time": "2021-10-25T19:36:04.493Z"
   },
   {
    "duration": 207,
    "start_time": "2021-10-25T19:41:03.486Z"
   },
   {
    "duration": 26,
    "start_time": "2021-10-25T19:41:41.553Z"
   },
   {
    "duration": 29,
    "start_time": "2021-10-25T19:41:53.807Z"
   },
   {
    "duration": 232,
    "start_time": "2021-10-25T19:42:19.515Z"
   },
   {
    "duration": 19,
    "start_time": "2021-10-25T19:42:41.803Z"
   },
   {
    "duration": 7,
    "start_time": "2021-10-25T19:43:44.987Z"
   },
   {
    "duration": 197,
    "start_time": "2021-10-25T19:47:20.487Z"
   },
   {
    "duration": 51,
    "start_time": "2021-10-25T19:48:07.322Z"
   },
   {
    "duration": 5082,
    "start_time": "2021-10-25T19:48:10.468Z"
   },
   {
    "duration": 5732,
    "start_time": "2021-10-25T19:48:49.261Z"
   },
   {
    "duration": 19,
    "start_time": "2021-10-25T19:49:05.351Z"
   },
   {
    "duration": 7,
    "start_time": "2021-10-25T19:51:36.286Z"
   },
   {
    "duration": 31,
    "start_time": "2021-10-25T19:53:21.745Z"
   },
   {
    "duration": 22,
    "start_time": "2021-10-25T19:54:42.214Z"
   },
   {
    "duration": 7,
    "start_time": "2021-10-25T19:59:54.735Z"
   },
   {
    "duration": 11,
    "start_time": "2021-10-25T20:07:23.220Z"
   },
   {
    "duration": 9,
    "start_time": "2021-10-25T20:07:41.409Z"
   },
   {
    "duration": 8,
    "start_time": "2021-10-25T20:25:43.097Z"
   },
   {
    "duration": 17,
    "start_time": "2021-10-25T20:42:55.121Z"
   },
   {
    "duration": 28,
    "start_time": "2021-10-25T20:43:58.353Z"
   },
   {
    "duration": 180,
    "start_time": "2021-10-25T20:44:06.941Z"
   },
   {
    "duration": 225,
    "start_time": "2021-10-25T20:44:10.984Z"
   },
   {
    "duration": 230,
    "start_time": "2021-10-25T20:44:18.625Z"
   },
   {
    "duration": 25,
    "start_time": "2021-10-25T20:44:21.372Z"
   },
   {
    "duration": 60,
    "start_time": "2021-10-25T20:44:38.957Z"
   },
   {
    "duration": 32,
    "start_time": "2021-10-25T20:44:46.044Z"
   },
   {
    "duration": 18,
    "start_time": "2021-10-25T20:45:26.878Z"
   },
   {
    "duration": 9,
    "start_time": "2021-10-25T21:37:47.221Z"
   },
   {
    "duration": 82,
    "start_time": "2021-10-25T22:10:40.877Z"
   },
   {
    "duration": 8,
    "start_time": "2021-10-25T22:10:51.945Z"
   },
   {
    "duration": 205,
    "start_time": "2021-10-25T22:15:23.556Z"
   },
   {
    "duration": 8,
    "start_time": "2021-10-25T22:16:15.155Z"
   },
   {
    "duration": 198,
    "start_time": "2021-10-25T22:16:25.145Z"
   },
   {
    "duration": 503,
    "start_time": "2021-10-25T22:16:36.089Z"
   },
   {
    "duration": 14,
    "start_time": "2021-10-25T22:17:04.408Z"
   },
   {
    "duration": 13,
    "start_time": "2021-10-25T22:17:14.295Z"
   },
   {
    "duration": 6164,
    "start_time": "2021-10-25T22:17:18.202Z"
   },
   {
    "duration": 225,
    "start_time": "2021-10-25T22:18:24.692Z"
   },
   {
    "duration": 5042,
    "start_time": "2021-10-25T22:18:34.054Z"
   },
   {
    "duration": 4876,
    "start_time": "2021-10-25T22:18:54.600Z"
   },
   {
    "duration": 14,
    "start_time": "2021-10-25T22:19:07.214Z"
   },
   {
    "duration": 5383,
    "start_time": "2021-10-25T22:19:30.595Z"
   },
   {
    "duration": 4929,
    "start_time": "2021-10-25T22:19:37.197Z"
   },
   {
    "duration": 14,
    "start_time": "2021-10-25T22:19:50.470Z"
   },
   {
    "duration": 16,
    "start_time": "2021-10-25T22:20:48.900Z"
   },
   {
    "duration": 3,
    "start_time": "2021-10-25T22:20:50.912Z"
   },
   {
    "duration": 3,
    "start_time": "2021-10-25T22:20:54.040Z"
   },
   {
    "duration": 200,
    "start_time": "2021-10-25T22:21:04.119Z"
   },
   {
    "duration": 219,
    "start_time": "2021-10-25T22:21:11.296Z"
   },
   {
    "duration": 25,
    "start_time": "2021-10-25T22:21:33.181Z"
   },
   {
    "duration": 6642,
    "start_time": "2021-10-25T22:21:34.977Z"
   },
   {
    "duration": 12,
    "start_time": "2021-10-25T22:21:44.385Z"
   },
   {
    "duration": 474,
    "start_time": "2021-10-25T22:22:29.047Z"
   },
   {
    "duration": 6,
    "start_time": "2021-10-25T22:23:05.572Z"
   },
   {
    "duration": 14,
    "start_time": "2021-10-25T22:23:37.910Z"
   },
   {
    "duration": 22,
    "start_time": "2021-10-25T22:23:58.882Z"
   },
   {
    "duration": 415,
    "start_time": "2021-10-25T22:24:03.040Z"
   },
   {
    "duration": 6,
    "start_time": "2021-10-25T22:24:12.592Z"
   },
   {
    "duration": 6,
    "start_time": "2021-10-25T22:24:20.729Z"
   },
   {
    "duration": 5,
    "start_time": "2021-10-25T22:24:34.378Z"
   },
   {
    "duration": 5,
    "start_time": "2021-10-25T22:24:44.515Z"
   },
   {
    "duration": 6,
    "start_time": "2021-10-25T22:24:54.768Z"
   },
   {
    "duration": 6,
    "start_time": "2021-10-25T22:26:56.368Z"
   },
   {
    "duration": 6,
    "start_time": "2021-10-25T22:27:04.391Z"
   },
   {
    "duration": 409,
    "start_time": "2021-10-25T22:27:20.785Z"
   },
   {
    "duration": 424,
    "start_time": "2021-10-25T22:32:05.827Z"
   },
   {
    "duration": 8,
    "start_time": "2021-10-25T22:32:13.060Z"
   },
   {
    "duration": 457,
    "start_time": "2021-10-25T22:32:21.019Z"
   },
   {
    "duration": 78544,
    "start_time": "2021-10-25T22:32:40.000Z"
   },
   {
    "duration": 61861,
    "start_time": "2021-10-25T22:34:32.897Z"
   },
   {
    "duration": 434,
    "start_time": "2021-10-25T22:41:19.398Z"
   },
   {
    "duration": 748,
    "start_time": "2021-10-25T22:42:26.971Z"
   },
   {
    "duration": 445,
    "start_time": "2021-10-25T22:43:52.865Z"
   },
   {
    "duration": 44394,
    "start_time": "2021-10-25T22:44:03.396Z"
   },
   {
    "duration": 19351,
    "start_time": "2021-10-25T22:45:45.820Z"
   },
   {
    "duration": 9482,
    "start_time": "2021-10-25T22:47:09.693Z"
   },
   {
    "duration": 432,
    "start_time": "2021-10-25T22:50:31.367Z"
   },
   {
    "duration": 7745,
    "start_time": "2021-10-25T22:50:46.885Z"
   },
   {
    "duration": 11,
    "start_time": "2021-10-25T22:52:50.852Z"
   },
   {
    "duration": 10,
    "start_time": "2021-10-25T22:54:31.342Z"
   },
   {
    "duration": 604,
    "start_time": "2021-10-25T22:57:49.583Z"
   },
   {
    "duration": 72411,
    "start_time": "2021-10-25T22:59:00.222Z"
   },
   {
    "duration": -433,
    "start_time": "2021-10-25T23:00:13.069Z"
   },
   {
    "duration": 390,
    "start_time": "2021-10-25T23:00:30.406Z"
   },
   {
    "duration": 6,
    "start_time": "2021-10-25T23:03:01.581Z"
   },
   {
    "duration": 22354,
    "start_time": "2021-10-25T23:03:13.106Z"
   },
   {
    "duration": 3316,
    "start_time": "2021-10-25T23:03:35.463Z"
   },
   {
    "duration": 1340,
    "start_time": "2021-10-25T23:03:38.782Z"
   },
   {
    "duration": 26,
    "start_time": "2021-10-25T23:03:40.125Z"
   },
   {
    "duration": 42,
    "start_time": "2021-10-25T23:03:40.153Z"
   },
   {
    "duration": 44,
    "start_time": "2021-10-25T23:03:40.197Z"
   },
   {
    "duration": 1266,
    "start_time": "2021-10-25T23:03:40.243Z"
   },
   {
    "duration": 7919,
    "start_time": "2021-10-25T23:03:41.513Z"
   },
   {
    "duration": 70203,
    "start_time": "2021-10-25T23:03:49.435Z"
   },
   {
    "duration": 119,
    "start_time": "2021-10-25T23:04:59.641Z"
   },
   {
    "duration": 89738,
    "start_time": "2021-10-25T23:04:59.762Z"
   },
   {
    "duration": 675,
    "start_time": "2021-10-25T23:06:29.503Z"
   },
   {
    "duration": 3498,
    "start_time": "2021-10-25T23:06:30.181Z"
   },
   {
    "duration": 14,
    "start_time": "2021-10-25T23:06:33.682Z"
   },
   {
    "duration": 3833,
    "start_time": "2021-10-25T23:06:33.698Z"
   },
   {
    "duration": 4262,
    "start_time": "2021-10-25T23:06:37.534Z"
   },
   {
    "duration": 75,
    "start_time": "2021-10-25T23:06:41.799Z"
   },
   {
    "duration": 6,
    "start_time": "2021-10-25T23:06:41.877Z"
   },
   {
    "duration": 52,
    "start_time": "2021-10-25T23:06:41.886Z"
   },
   {
    "duration": 16,
    "start_time": "2021-10-25T23:06:41.940Z"
   },
   {
    "duration": 448,
    "start_time": "2021-10-25T23:06:41.959Z"
   },
   {
    "duration": 146603,
    "start_time": "2021-10-25T23:06:42.409Z"
   },
   {
    "duration": -266,
    "start_time": "2021-10-25T23:09:09.281Z"
   },
   {
    "duration": -268,
    "start_time": "2021-10-25T23:09:09.284Z"
   },
   {
    "duration": 255155,
    "start_time": "2021-10-25T23:10:23.612Z"
   },
   {
    "duration": 8840,
    "start_time": "2021-10-26T00:45:37.746Z"
   },
   {
    "duration": 7,
    "start_time": "2021-10-26T00:49:42.212Z"
   },
   {
    "duration": 835,
    "start_time": "2021-10-26T00:49:54.586Z"
   },
   {
    "duration": 7,
    "start_time": "2021-10-26T00:50:47.402Z"
   },
   {
    "duration": 7773,
    "start_time": "2021-10-26T00:50:53.529Z"
   },
   {
    "duration": 9231,
    "start_time": "2021-10-26T00:51:14.451Z"
   },
   {
    "duration": 60383,
    "start_time": "2021-10-26T17:45:12.308Z"
   },
   {
    "duration": 4395,
    "start_time": "2021-10-26T17:46:12.694Z"
   },
   {
    "duration": 1842,
    "start_time": "2021-10-26T17:46:17.092Z"
   },
   {
    "duration": 36,
    "start_time": "2021-10-26T17:46:18.937Z"
   },
   {
    "duration": 46,
    "start_time": "2021-10-26T17:46:18.975Z"
   },
   {
    "duration": 47,
    "start_time": "2021-10-26T17:46:19.023Z"
   },
   {
    "duration": 1330,
    "start_time": "2021-10-26T17:46:19.073Z"
   },
   {
    "duration": 8552,
    "start_time": "2021-10-26T17:46:20.405Z"
   },
   {
    "duration": 76715,
    "start_time": "2021-10-26T17:46:28.963Z"
   },
   {
    "duration": 136,
    "start_time": "2021-10-26T17:47:45.682Z"
   },
   {
    "duration": 96330,
    "start_time": "2021-10-26T17:47:45.821Z"
   },
   {
    "duration": 668,
    "start_time": "2021-10-26T17:49:22.158Z"
   },
   {
    "duration": 3621,
    "start_time": "2021-10-26T17:49:22.828Z"
   },
   {
    "duration": 18,
    "start_time": "2021-10-26T17:49:26.451Z"
   },
   {
    "duration": 4115,
    "start_time": "2021-10-26T17:49:26.473Z"
   },
   {
    "duration": 4135,
    "start_time": "2021-10-26T17:49:30.591Z"
   },
   {
    "duration": 73,
    "start_time": "2021-10-26T17:49:34.729Z"
   },
   {
    "duration": 6,
    "start_time": "2021-10-26T17:49:34.805Z"
   },
   {
    "duration": 37,
    "start_time": "2021-10-26T17:49:34.813Z"
   },
   {
    "duration": 21,
    "start_time": "2021-10-26T17:49:34.852Z"
   },
   {
    "duration": 2086,
    "start_time": "2021-10-26T17:49:34.875Z"
   },
   {
    "duration": 213532,
    "start_time": "2021-10-26T17:49:36.963Z"
   },
   {
    "duration": -369,
    "start_time": "2021-10-26T17:53:10.867Z"
   },
   {
    "duration": -369,
    "start_time": "2021-10-26T17:53:10.868Z"
   },
   {
    "duration": 6,
    "start_time": "2021-10-26T17:53:51.555Z"
   },
   {
    "duration": 7510,
    "start_time": "2021-10-26T17:53:56.813Z"
   },
   {
    "duration": 5316,
    "start_time": "2021-10-26T17:55:03.893Z"
   },
   {
    "duration": 6,
    "start_time": "2021-10-26T17:55:55.006Z"
   },
   {
    "duration": 164286,
    "start_time": "2021-10-26T17:56:01.038Z"
   },
   {
    "duration": -364,
    "start_time": "2021-10-26T17:58:45.690Z"
   },
   {
    "duration": 11,
    "start_time": "2021-10-26T17:58:51.065Z"
   },
   {
    "duration": 28954,
    "start_time": "2021-10-26T17:58:55.480Z"
   },
   {
    "duration": 5,
    "start_time": "2021-10-26T18:01:30.827Z"
   },
   {
    "duration": 17253,
    "start_time": "2021-10-26T18:01:37.440Z"
   },
   {
    "duration": 6,
    "start_time": "2021-10-26T18:03:08.488Z"
   },
   {
    "duration": 11356,
    "start_time": "2021-10-26T18:03:15.785Z"
   },
   {
    "duration": 54305,
    "start_time": "2021-10-26T18:03:34.820Z"
   },
   {
    "duration": 1144,
    "start_time": "2021-10-26T18:05:10.867Z"
   },
   {
    "duration": 960,
    "start_time": "2021-10-26T18:08:15.279Z"
   },
   {
    "duration": 736,
    "start_time": "2021-10-26T18:08:48.125Z"
   },
   {
    "duration": 752,
    "start_time": "2021-10-26T18:09:03.537Z"
   },
   {
    "duration": 8,
    "start_time": "2021-10-26T18:09:32.529Z"
   },
   {
    "duration": 64,
    "start_time": "2021-10-26T18:09:39.508Z"
   },
   {
    "duration": 849,
    "start_time": "2021-10-26T18:09:44.271Z"
   },
   {
    "duration": 3465816,
    "start_time": "2021-10-26T18:09:56.030Z"
   },
   {
    "duration": -490,
    "start_time": "2021-10-26T19:07:42.338Z"
   },
   {
    "duration": -489,
    "start_time": "2021-10-26T19:07:42.339Z"
   },
   {
    "duration": 8361,
    "start_time": "2021-10-26T19:07:55.239Z"
   },
   {
    "duration": 10997,
    "start_time": "2021-10-26T19:08:29.422Z"
   },
   {
    "duration": 38954,
    "start_time": "2021-10-26T19:08:50.982Z"
   },
   {
    "duration": 507840,
    "start_time": "2021-10-26T19:09:42.601Z"
   },
   {
    "duration": 244,
    "start_time": "2021-10-26T19:18:10.443Z"
   },
   {
    "duration": 129,
    "start_time": "2021-10-26T19:18:10.690Z"
   },
   {
    "duration": -438,
    "start_time": "2021-10-26T19:18:11.260Z"
   },
   {
    "duration": 2099405,
    "start_time": "2021-10-26T19:24:50.234Z"
   },
   {
    "duration": -478,
    "start_time": "2021-10-26T19:59:50.120Z"
   },
   {
    "duration": -481,
    "start_time": "2021-10-26T19:59:50.124Z"
   },
   {
    "duration": -483,
    "start_time": "2021-10-26T19:59:50.128Z"
   },
   {
    "duration": 125,
    "start_time": "2021-10-26T20:00:00.712Z"
   },
   {
    "duration": 124,
    "start_time": "2021-10-26T20:00:43.719Z"
   },
   {
    "duration": 132,
    "start_time": "2021-10-26T20:01:28.999Z"
   },
   {
    "duration": 123,
    "start_time": "2021-10-26T20:01:50.757Z"
   },
   {
    "duration": 772,
    "start_time": "2021-10-26T20:02:04.843Z"
   },
   {
    "duration": 765,
    "start_time": "2021-10-26T20:02:39.630Z"
   },
   {
    "duration": 9,
    "start_time": "2021-10-26T20:02:46.670Z"
   },
   {
    "duration": 751,
    "start_time": "2021-10-26T20:02:52.725Z"
   },
   {
    "duration": 22328,
    "start_time": "2021-10-26T20:03:04.692Z"
   },
   {
    "duration": 19126,
    "start_time": "2021-10-26T20:03:32.392Z"
   },
   {
    "duration": 40742,
    "start_time": "2021-10-26T20:04:23.681Z"
   },
   {
    "duration": 14493,
    "start_time": "2021-10-26T20:05:31.778Z"
   },
   {
    "duration": 76538,
    "start_time": "2021-10-26T20:05:58.978Z"
   },
   {
    "duration": 131,
    "start_time": "2021-10-26T20:07:34.047Z"
   },
   {
    "duration": 34726,
    "start_time": "2021-10-26T20:07:45.338Z"
   },
   {
    "duration": 752,
    "start_time": "2021-10-26T20:08:59.216Z"
   },
   {
    "duration": 64906,
    "start_time": "2021-10-26T20:09:13.071Z"
   },
   {
    "duration": 516202,
    "start_time": "2021-10-26T20:10:42.591Z"
   },
   {
    "duration": 236,
    "start_time": "2021-10-26T20:19:18.796Z"
   },
   {
    "duration": 7,
    "start_time": "2021-10-26T20:35:45.426Z"
   },
   {
    "duration": 3687,
    "start_time": "2021-10-26T20:36:21.841Z"
   },
   {
    "duration": 641,
    "start_time": "2021-10-26T20:37:32.195Z"
   },
   {
    "duration": 651,
    "start_time": "2021-10-26T20:38:01.900Z"
   },
   {
    "duration": 6,
    "start_time": "2021-10-26T20:38:40.721Z"
   },
   {
    "duration": 4936,
    "start_time": "2021-10-26T20:39:00.338Z"
   },
   {
    "duration": 130,
    "start_time": "2021-10-26T20:39:32.721Z"
   },
   {
    "duration": 4854,
    "start_time": "2021-10-26T20:39:46.153Z"
   },
   {
    "duration": 3151,
    "start_time": "2021-10-26T20:39:55.538Z"
   },
   {
    "duration": 3094,
    "start_time": "2021-10-26T20:40:18.871Z"
   },
   {
    "duration": 10239,
    "start_time": "2021-10-26T20:40:35.771Z"
   },
   {
    "duration": 826,
    "start_time": "2021-10-26T20:41:31.845Z"
   },
   {
    "duration": 772,
    "start_time": "2021-10-26T20:41:40.007Z"
   },
   {
    "duration": 4177,
    "start_time": "2021-10-26T20:42:00.909Z"
   },
   {
    "duration": 6,
    "start_time": "2021-10-26T20:42:46.003Z"
   },
   {
    "duration": 1295,
    "start_time": "2021-10-26T20:42:50.291Z"
   },
   {
    "duration": 7,
    "start_time": "2021-10-26T20:43:26.257Z"
   },
   {
    "duration": 4271,
    "start_time": "2021-10-26T20:43:34.939Z"
   },
   {
    "duration": 103045,
    "start_time": "2021-10-26T20:43:45.289Z"
   },
   {
    "duration": 12,
    "start_time": "2021-10-26T20:46:26.791Z"
   },
   {
    "duration": 411,
    "start_time": "2021-10-26T20:46:37.027Z"
   },
   {
    "duration": 9,
    "start_time": "2021-10-26T20:48:22.020Z"
   },
   {
    "duration": 407,
    "start_time": "2021-10-26T20:51:14.036Z"
   },
   {
    "duration": 382,
    "start_time": "2021-10-26T20:51:34.471Z"
   },
   {
    "duration": 4,
    "start_time": "2021-10-26T20:51:38.497Z"
   },
   {
    "duration": 384,
    "start_time": "2021-10-26T20:51:40.209Z"
   },
   {
    "duration": 4,
    "start_time": "2021-10-26T20:51:48.942Z"
   },
   {
    "duration": 2973,
    "start_time": "2021-10-26T20:51:50.247Z"
   },
   {
    "duration": 1498,
    "start_time": "2021-10-26T20:54:05.802Z"
   },
   {
    "duration": 887,
    "start_time": "2021-10-26T20:54:34.478Z"
   },
   {
    "duration": 102423,
    "start_time": "2021-10-26T20:54:46.373Z"
   },
   {
    "duration": 2803,
    "start_time": "2021-10-26T20:57:51.309Z"
   },
   {
    "duration": 1573,
    "start_time": "2021-10-26T20:58:12.306Z"
   },
   {
    "duration": 102742,
    "start_time": "2021-10-26T20:58:38.257Z"
   },
   {
    "duration": 384,
    "start_time": "2021-10-26T21:01:28.855Z"
   },
   {
    "duration": 12977,
    "start_time": "2021-10-26T21:03:06.491Z"
   },
   {
    "duration": 25145,
    "start_time": "2021-10-26T21:04:28.720Z"
   },
   {
    "duration": 4703,
    "start_time": "2021-10-26T21:04:53.868Z"
   },
   {
    "duration": 1750,
    "start_time": "2021-10-26T21:04:58.575Z"
   },
   {
    "duration": 39,
    "start_time": "2021-10-26T21:05:00.328Z"
   },
   {
    "duration": 55,
    "start_time": "2021-10-26T21:05:00.370Z"
   },
   {
    "duration": 36,
    "start_time": "2021-10-26T21:05:00.428Z"
   },
   {
    "duration": 1270,
    "start_time": "2021-10-26T21:05:00.467Z"
   },
   {
    "duration": 8634,
    "start_time": "2021-10-26T21:05:01.740Z"
   },
   {
    "duration": 71934,
    "start_time": "2021-10-26T21:05:10.378Z"
   },
   {
    "duration": 131,
    "start_time": "2021-10-26T21:06:22.315Z"
   },
   {
    "duration": 92609,
    "start_time": "2021-10-26T21:06:22.449Z"
   },
   {
    "duration": 745,
    "start_time": "2021-10-26T21:07:55.060Z"
   },
   {
    "duration": 3526,
    "start_time": "2021-10-26T21:07:55.807Z"
   },
   {
    "duration": 27,
    "start_time": "2021-10-26T21:07:59.336Z"
   },
   {
    "duration": 3833,
    "start_time": "2021-10-26T21:07:59.365Z"
   },
   {
    "duration": 4200,
    "start_time": "2021-10-26T21:08:03.201Z"
   },
   {
    "duration": 92,
    "start_time": "2021-10-26T21:08:07.404Z"
   },
   {
    "duration": 9,
    "start_time": "2021-10-26T21:08:07.499Z"
   },
   {
    "duration": 30,
    "start_time": "2021-10-26T21:08:07.510Z"
   },
   {
    "duration": 31,
    "start_time": "2021-10-26T21:08:07.543Z"
   },
   {
    "duration": 66492,
    "start_time": "2021-10-26T21:08:07.576Z"
   },
   {
    "duration": 1094,
    "start_time": "2021-10-26T21:09:14.071Z"
   },
   {
    "duration": 499835,
    "start_time": "2021-10-26T21:09:15.167Z"
   },
   {
    "duration": 258,
    "start_time": "2021-10-26T21:17:35.005Z"
   },
   {
    "duration": 4,
    "start_time": "2021-10-26T21:17:35.266Z"
   },
   {
    "duration": 2990,
    "start_time": "2021-10-26T21:17:35.273Z"
   },
   {
    "duration": 831,
    "start_time": "2021-10-26T21:17:38.268Z"
   },
   {
    "duration": 104011,
    "start_time": "2021-10-26T21:17:39.102Z"
   },
   {
    "duration": 9686,
    "start_time": "2021-10-26T21:19:23.115Z"
   },
   {
    "duration": 35279,
    "start_time": "2021-10-27T20:26:08.738Z"
   },
   {
    "duration": 3019,
    "start_time": "2021-10-27T20:26:44.020Z"
   },
   {
    "duration": 7589,
    "start_time": "2021-10-27T20:26:47.041Z"
   },
   {
    "duration": 19,
    "start_time": "2021-10-27T20:26:54.632Z"
   },
   {
    "duration": 37,
    "start_time": "2021-10-27T20:26:54.653Z"
   },
   {
    "duration": 11,
    "start_time": "2021-10-27T20:26:54.692Z"
   },
   {
    "duration": 927,
    "start_time": "2021-10-27T20:27:03.197Z"
   },
   {
    "duration": 81605,
    "start_time": "2021-10-27T20:28:45.458Z"
   },
   {
    "duration": 81,
    "start_time": "2021-10-27T20:32:56.383Z"
   },
   {
    "duration": 89,
    "start_time": "2021-10-27T20:36:31.287Z"
   },
   {
    "duration": 111,
    "start_time": "2021-10-27T20:36:39.040Z"
   },
   {
    "duration": 619,
    "start_time": "2021-10-27T20:37:23.681Z"
   },
   {
    "duration": 2291,
    "start_time": "2021-10-27T20:39:03.143Z"
   },
   {
    "duration": 9,
    "start_time": "2021-10-27T20:39:44.016Z"
   },
   {
    "duration": 2757,
    "start_time": "2021-10-27T20:40:21.517Z"
   },
   {
    "duration": 86,
    "start_time": "2021-10-27T20:42:05.691Z"
   },
   {
    "duration": 86,
    "start_time": "2021-10-27T20:42:34.575Z"
   },
   {
    "duration": 3641,
    "start_time": "2021-10-27T20:42:45.412Z"
   },
   {
    "duration": 3502,
    "start_time": "2021-10-27T20:43:10.644Z"
   },
   {
    "duration": 2933,
    "start_time": "2021-10-27T20:43:51.015Z"
   },
   {
    "duration": 752,
    "start_time": "2021-10-27T20:44:01.726Z"
   },
   {
    "duration": 409,
    "start_time": "2021-10-27T20:47:47.080Z"
   },
   {
    "duration": 2792,
    "start_time": "2021-10-27T20:48:03.636Z"
   },
   {
    "duration": 36,
    "start_time": "2021-10-27T20:50:30.505Z"
   },
   {
    "duration": 5,
    "start_time": "2021-10-27T20:52:55.067Z"
   },
   {
    "duration": 12,
    "start_time": "2021-10-27T20:53:46.573Z"
   },
   {
    "duration": 11,
    "start_time": "2021-10-27T20:53:58.944Z"
   },
   {
    "duration": 57542,
    "start_time": "2021-10-27T20:55:13.461Z"
   },
   {
    "duration": 744,
    "start_time": "2021-10-27T20:56:14.620Z"
   },
   {
    "duration": 368541,
    "start_time": "2021-10-27T20:56:37.326Z"
   },
   {
    "duration": 159,
    "start_time": "2021-10-27T21:02:45.869Z"
   },
   {
    "duration": 3,
    "start_time": "2021-10-27T21:02:46.030Z"
   },
   {
    "duration": 1337,
    "start_time": "2021-10-27T21:02:46.035Z"
   },
   {
    "duration": 1899,
    "start_time": "2021-10-27T21:02:47.373Z"
   },
   {
    "duration": 125078,
    "start_time": "2021-10-27T21:02:49.274Z"
   },
   {
    "duration": 7040,
    "start_time": "2021-10-27T21:04:54.355Z"
   },
   {
    "duration": 499736,
    "start_time": "2021-10-28T12:58:53.241Z"
   },
   {
    "duration": 50109,
    "start_time": "2021-10-28T13:07:43.114Z"
   },
   {
    "duration": 1758,
    "start_time": "2021-10-28T13:08:33.226Z"
   },
   {
    "duration": 44,
    "start_time": "2021-10-28T13:08:34.987Z"
   },
   {
    "duration": 48,
    "start_time": "2021-10-28T13:08:35.041Z"
   },
   {
    "duration": 24,
    "start_time": "2021-10-28T13:08:35.092Z"
   },
   {
    "duration": 1333,
    "start_time": "2021-10-28T13:08:35.120Z"
   },
   {
    "duration": 91071,
    "start_time": "2021-10-28T13:08:36.456Z"
   },
   {
    "duration": 128,
    "start_time": "2021-10-28T13:10:07.530Z"
   },
   {
    "duration": 22,
    "start_time": "2021-10-28T13:10:34.990Z"
   },
   {
    "duration": 641,
    "start_time": "2021-10-28T13:18:58.706Z"
   },
   {
    "duration": 60,
    "start_time": "2021-10-28T13:19:02.758Z"
   },
   {
    "duration": 7,
    "start_time": "2021-10-28T13:19:06.328Z"
   },
   {
    "duration": 9,
    "start_time": "2021-10-28T13:19:11.663Z"
   },
   {
    "duration": 36140,
    "start_time": "2021-10-28T19:14:38.162Z"
   },
   {
    "duration": 2861,
    "start_time": "2021-10-28T19:15:14.304Z"
   },
   {
    "duration": 1383,
    "start_time": "2021-10-28T19:15:17.168Z"
   },
   {
    "duration": 19,
    "start_time": "2021-10-28T19:15:18.554Z"
   },
   {
    "duration": 53,
    "start_time": "2021-10-28T19:15:18.576Z"
   },
   {
    "duration": 14,
    "start_time": "2021-10-28T19:15:18.631Z"
   },
   {
    "duration": 938,
    "start_time": "2021-10-28T19:15:18.647Z"
   },
   {
    "duration": 82748,
    "start_time": "2021-10-28T19:15:19.587Z"
   },
   {
    "duration": 90,
    "start_time": "2021-10-28T19:16:42.338Z"
   },
   {
    "duration": 556,
    "start_time": "2021-10-28T19:16:42.430Z"
   },
   {
    "duration": 2245,
    "start_time": "2021-10-28T19:16:42.988Z"
   },
   {
    "duration": 12,
    "start_time": "2021-10-28T19:16:45.235Z"
   },
   {
    "duration": 2709,
    "start_time": "2021-10-28T19:16:45.248Z"
   },
   {
    "duration": 740,
    "start_time": "2021-10-28T19:16:47.964Z"
   },
   {
    "duration": 2886,
    "start_time": "2021-10-28T19:16:48.706Z"
   },
   {
    "duration": 36,
    "start_time": "2021-10-28T19:16:51.594Z"
   },
   {
    "duration": 82,
    "start_time": "2021-10-28T19:16:51.632Z"
   },
   {
    "duration": -3985,
    "start_time": "2021-10-28T19:16:55.701Z"
   },
   {
    "duration": -3984,
    "start_time": "2021-10-28T19:16:55.702Z"
   },
   {
    "duration": -3984,
    "start_time": "2021-10-28T19:16:55.703Z"
   },
   {
    "duration": -3985,
    "start_time": "2021-10-28T19:16:55.705Z"
   },
   {
    "duration": -3985,
    "start_time": "2021-10-28T19:16:55.706Z"
   },
   {
    "duration": -3985,
    "start_time": "2021-10-28T19:16:55.707Z"
   },
   {
    "duration": -3985,
    "start_time": "2021-10-28T19:16:55.708Z"
   },
   {
    "duration": -3986,
    "start_time": "2021-10-28T19:16:55.710Z"
   },
   {
    "duration": -3986,
    "start_time": "2021-10-28T19:16:55.712Z"
   },
   {
    "duration": -3986,
    "start_time": "2021-10-28T19:16:55.713Z"
   },
   {
    "duration": -3986,
    "start_time": "2021-10-28T19:16:55.714Z"
   },
   {
    "duration": 5,
    "start_time": "2021-10-28T19:24:21.070Z"
   },
   {
    "duration": 392,
    "start_time": "2021-10-28T19:24:24.753Z"
   },
   {
    "duration": 13,
    "start_time": "2021-10-28T19:24:31.696Z"
   },
   {
    "duration": 11,
    "start_time": "2021-10-28T19:24:33.939Z"
   },
   {
    "duration": 509,
    "start_time": "2021-10-28T19:24:37.019Z"
   },
   {
    "duration": 18,
    "start_time": "2021-10-28T19:29:17.612Z"
   },
   {
    "duration": 492,
    "start_time": "2021-10-28T19:29:20.455Z"
   },
   {
    "duration": 23,
    "start_time": "2021-10-28T19:30:47.182Z"
   },
   {
    "duration": 494,
    "start_time": "2021-10-28T19:30:49.315Z"
   },
   {
    "duration": 23,
    "start_time": "2021-10-28T19:31:22.698Z"
   },
   {
    "duration": 47550,
    "start_time": "2021-10-28T19:31:26.113Z"
   },
   {
    "duration": 806,
    "start_time": "2021-10-28T19:32:13.665Z"
   },
   {
    "duration": 278712,
    "start_time": "2021-10-28T19:32:14.474Z"
   },
   {
    "duration": 176,
    "start_time": "2021-10-28T19:36:53.188Z"
   },
   {
    "duration": 2,
    "start_time": "2021-10-28T19:36:53.366Z"
   },
   {
    "duration": 1901,
    "start_time": "2021-10-28T19:36:53.370Z"
   },
   {
    "duration": 912,
    "start_time": "2021-10-28T19:36:55.273Z"
   },
   {
    "duration": 105387,
    "start_time": "2021-10-28T19:36:56.187Z"
   },
   {
    "duration": 5956,
    "start_time": "2021-10-28T19:38:41.575Z"
   },
   {
    "duration": 539,
    "start_time": "2021-10-28T19:47:51.593Z"
   },
   {
    "duration": 5,
    "start_time": "2021-10-28T19:47:59.326Z"
   },
   {
    "duration": 298456,
    "start_time": "2021-10-28T19:48:05.268Z"
   },
   {
    "duration": -489,
    "start_time": "2021-10-28T19:53:04.216Z"
   },
   {
    "duration": 491850,
    "start_time": "2021-10-28T19:53:10.976Z"
   },
   {
    "duration": 4368,
    "start_time": "2021-10-28T20:01:37.324Z"
   },
   {
    "duration": 4631,
    "start_time": "2021-10-28T20:01:46.731Z"
   },
   {
    "duration": 270626,
    "start_time": "2021-10-28T20:02:07.815Z"
   },
   {
    "duration": 204,
    "start_time": "2021-10-28T20:06:59.879Z"
   },
   {
    "duration": 1126296,
    "start_time": "2021-10-28T20:07:12.116Z"
   },
   {
    "duration": -483,
    "start_time": "2021-10-28T20:25:58.897Z"
   },
   {
    "duration": -484,
    "start_time": "2021-10-28T20:25:58.899Z"
   },
   {
    "duration": -484,
    "start_time": "2021-10-28T20:25:58.900Z"
   },
   {
    "duration": -484,
    "start_time": "2021-10-28T20:25:58.901Z"
   },
   {
    "duration": -485,
    "start_time": "2021-10-28T20:25:58.903Z"
   },
   {
    "duration": 1259833,
    "start_time": "2021-10-28T20:26:04.179Z"
   },
   {
    "duration": 379,
    "start_time": "2021-10-28T20:47:04.014Z"
   },
   {
    "duration": 1257,
    "start_time": "2021-10-28T20:47:04.396Z"
   },
   {
    "duration": 1610,
    "start_time": "2021-10-28T20:47:05.664Z"
   },
   {
    "duration": 107061,
    "start_time": "2021-10-28T20:47:07.276Z"
   },
   {
    "duration": 5840,
    "start_time": "2021-10-28T20:48:54.339Z"
   },
   {
    "duration": 23,
    "start_time": "2021-10-28T20:58:20.328Z"
   },
   {
    "duration": 25,
    "start_time": "2021-10-28T20:58:35.213Z"
   },
   {
    "duration": 25,
    "start_time": "2021-10-28T20:58:59.159Z"
   },
   {
    "duration": 450,
    "start_time": "2021-10-28T20:59:55.369Z"
   },
   {
    "duration": 38,
    "start_time": "2021-10-28T21:00:35.677Z"
   },
   {
    "duration": 23,
    "start_time": "2021-10-28T21:00:56.533Z"
   },
   {
    "duration": 378,
    "start_time": "2021-10-28T21:01:00.538Z"
   },
   {
    "duration": 37,
    "start_time": "2021-10-28T21:01:17.972Z"
   },
   {
    "duration": 24,
    "start_time": "2021-10-28T21:02:00.297Z"
   },
   {
    "duration": 15495,
    "start_time": "2021-10-28T21:02:07.256Z"
   },
   {
    "duration": 16988,
    "start_time": "2021-10-28T21:02:31.240Z"
   },
   {
    "duration": 78804,
    "start_time": "2021-10-28T21:02:48.231Z"
   },
   {
    "duration": -1271,
    "start_time": "2021-10-28T21:04:08.309Z"
   },
   {
    "duration": 16891,
    "start_time": "2021-10-28T21:04:09.944Z"
   }
  ],
  "kernelspec": {
   "display_name": "Python 3 (ipykernel)",
   "language": "python",
   "name": "python3"
  },
  "language_info": {
   "codemirror_mode": {
    "name": "ipython",
    "version": 3
   },
   "file_extension": ".py",
   "mimetype": "text/x-python",
   "name": "python",
   "nbconvert_exporter": "python",
   "pygments_lexer": "ipython3",
   "version": "3.8.8"
  },
  "toc": {
   "base_numbering": 1,
   "nav_menu": {},
   "number_sections": true,
   "sideBar": true,
   "skip_h1_title": true,
   "title_cell": "Table of Contents",
   "title_sidebar": "Contents",
   "toc_cell": false,
   "toc_position": {},
   "toc_section_display": true,
   "toc_window_display": false
  },
  "varInspector": {
   "cols": {
    "lenName": 16,
    "lenType": 16,
    "lenVar": 40
   },
   "kernels_config": {
    "python": {
     "delete_cmd_postfix": "",
     "delete_cmd_prefix": "del ",
     "library": "var_list.py",
     "varRefreshCmd": "print(var_dic_list())"
    },
    "r": {
     "delete_cmd_postfix": ") ",
     "delete_cmd_prefix": "rm(",
     "library": "var_list.r",
     "varRefreshCmd": "cat(var_dic_list()) "
    }
   },
   "types_to_exclude": [
    "module",
    "function",
    "builtin_function_or_method",
    "instance",
    "_Feature"
   ],
   "window_display": false
  }
 },
 "nbformat": 4,
 "nbformat_minor": 2
}
