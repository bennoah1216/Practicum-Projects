{
 "cells": [
  {
   "cell_type": "markdown",
   "metadata": {},
   "source": [
    "# Analyzing borrowers risk of defaulting\n",
    "\n",
    "Your project is to prepare a report for a bank's loan division. You'll need to find out if a customers' marital status and number of children has an impact on whether they will default on a loan. The bank already has some data on customers' credit worthiness.\n",
    "\n",
    "Your report will be considered when building a **credit scoring** of a potential customer. A ** credit scoring ** is used to evaluate the ability of a potential borrower to repay their loan."
   ]
  },
  {
   "cell_type": "markdown",
   "metadata": {},
   "source": [
    "## Import Packages"
   ]
  },
  {
   "cell_type": "code",
   "execution_count": 65,
   "metadata": {},
   "outputs": [
    {
     "name": "stdout",
     "output_type": "stream",
     "text": [
      "Requirement already satisfied: pandas-profiling[notebook] in c:\\users\\bnoah\\anaconda3\\lib\\site-packages (3.1.1)\n",
      "Requirement already satisfied: markupsafe~=2.0.1 in c:\\users\\bnoah\\anaconda3\\lib\\site-packages (from pandas-profiling[notebook]) (2.0.1)\n",
      "Requirement already satisfied: requests>=2.24.0 in c:\\users\\bnoah\\anaconda3\\lib\\site-packages (from pandas-profiling[notebook]) (2.26.0)\n",
      "Requirement already satisfied: missingno>=0.4.2 in c:\\users\\bnoah\\anaconda3\\lib\\site-packages (from pandas-profiling[notebook]) (0.5.0)\n",
      "Requirement already satisfied: joblib~=1.1.0 in c:\\users\\bnoah\\anaconda3\\lib\\site-packages (from pandas-profiling[notebook]) (1.1.0)\n",
      "Requirement already satisfied: multimethod>=1.4 in c:\\users\\bnoah\\appdata\\roaming\\python\\python38\\site-packages (from pandas-profiling[notebook]) (1.6)\n",
      "Requirement already satisfied: scipy>=1.4.1 in c:\\users\\bnoah\\anaconda3\\lib\\site-packages (from pandas-profiling[notebook]) (1.7.1)\n",
      "Requirement already satisfied: tqdm>=4.48.2 in c:\\users\\bnoah\\anaconda3\\lib\\site-packages (from pandas-profiling[notebook]) (4.62.3)\n",
      "Requirement already satisfied: visions[type_image_path]==0.7.4 in c:\\users\\bnoah\\appdata\\roaming\\python\\python38\\site-packages (from pandas-profiling[notebook]) (0.7.4)\n",
      "Requirement already satisfied: seaborn>=0.10.1 in c:\\users\\bnoah\\anaconda3\\lib\\site-packages (from pandas-profiling[notebook]) (0.11.2)\n",
      "Requirement already satisfied: matplotlib>=3.2.0 in c:\\users\\bnoah\\anaconda3\\lib\\site-packages (from pandas-profiling[notebook]) (3.4.3)\n",
      "Requirement already satisfied: pydantic>=1.8.1 in c:\\users\\bnoah\\appdata\\roaming\\python\\python38\\site-packages (from pandas-profiling[notebook]) (1.8.2)\n",
      "Requirement already satisfied: jinja2>=2.11.1 in c:\\users\\bnoah\\anaconda3\\lib\\site-packages (from pandas-profiling[notebook]) (3.0.2)\n",
      "Requirement already satisfied: tangled-up-in-unicode==0.2.0 in c:\\users\\bnoah\\anaconda3\\lib\\site-packages (from pandas-profiling[notebook]) (0.2.0)\n",
      "Requirement already satisfied: numpy>=1.16.0 in c:\\users\\bnoah\\anaconda3\\lib\\site-packages (from pandas-profiling[notebook]) (1.21.4)\n",
      "Requirement already satisfied: pandas!=1.0.0,!=1.0.1,!=1.0.2,!=1.1.0,>=0.25.3 in c:\\users\\bnoah\\anaconda3\\lib\\site-packages (from pandas-profiling[notebook]) (1.3.4)\n",
      "Requirement already satisfied: htmlmin>=0.1.12 in c:\\users\\bnoah\\appdata\\roaming\\python\\python38\\site-packages (from pandas-profiling[notebook]) (0.1.12)\n",
      "Requirement already satisfied: PyYAML>=5.0.0 in c:\\users\\bnoah\\anaconda3\\lib\\site-packages (from pandas-profiling[notebook]) (6.0)\n",
      "Requirement already satisfied: phik>=0.11.1 in c:\\users\\bnoah\\appdata\\roaming\\python\\python38\\site-packages (from pandas-profiling[notebook]) (0.12.0)\n",
      "Requirement already satisfied: jupyter-client>=6.0.0 in c:\\users\\bnoah\\anaconda3\\lib\\site-packages (from pandas-profiling[notebook]) (7.0.1)\n",
      "Requirement already satisfied: ipywidgets>=7.5.1 in c:\\users\\bnoah\\anaconda3\\lib\\site-packages (from pandas-profiling[notebook]) (7.6.5)\n",
      "Requirement already satisfied: jupyter-core>=4.6.3 in c:\\users\\bnoah\\anaconda3\\lib\\site-packages (from pandas-profiling[notebook]) (4.9.1)\n",
      "Requirement already satisfied: networkx>=2.4 in c:\\users\\bnoah\\anaconda3\\lib\\site-packages (from visions[type_image_path]==0.7.4->pandas-profiling[notebook]) (2.6.3)\n",
      "Requirement already satisfied: attrs>=19.3.0 in c:\\users\\bnoah\\anaconda3\\lib\\site-packages (from visions[type_image_path]==0.7.4->pandas-profiling[notebook]) (21.2.0)\n",
      "Requirement already satisfied: Pillow in c:\\users\\bnoah\\anaconda3\\lib\\site-packages (from visions[type_image_path]==0.7.4->pandas-profiling[notebook]) (8.4.0)\n",
      "Requirement already satisfied: imagehash in c:\\users\\bnoah\\appdata\\roaming\\python\\python38\\site-packages (from visions[type_image_path]==0.7.4->pandas-profiling[notebook]) (4.2.1)\n",
      "Requirement already satisfied: jupyterlab-widgets>=1.0.0 in c:\\users\\bnoah\\anaconda3\\lib\\site-packages (from ipywidgets>=7.5.1->pandas-profiling[notebook]) (1.0.0)\n",
      "Requirement already satisfied: nbformat>=4.2.0 in c:\\users\\bnoah\\anaconda3\\lib\\site-packages (from ipywidgets>=7.5.1->pandas-profiling[notebook]) (5.1.3)\n",
      "Requirement already satisfied: widgetsnbextension~=3.5.0 in c:\\users\\bnoah\\anaconda3\\lib\\site-packages (from ipywidgets>=7.5.1->pandas-profiling[notebook]) (3.5.1)\n",
      "Requirement already satisfied: traitlets>=4.3.1 in c:\\users\\bnoah\\anaconda3\\lib\\site-packages (from ipywidgets>=7.5.1->pandas-profiling[notebook]) (5.1.1)\n",
      "Requirement already satisfied: ipython-genutils~=0.2.0 in c:\\users\\bnoah\\anaconda3\\lib\\site-packages (from ipywidgets>=7.5.1->pandas-profiling[notebook]) (0.2.0)\n",
      "Requirement already satisfied: ipython>=4.0.0 in c:\\users\\bnoah\\anaconda3\\lib\\site-packages (from ipywidgets>=7.5.1->pandas-profiling[notebook]) (7.29.0)\n",
      "Requirement already satisfied: ipykernel>=4.5.1 in c:\\users\\bnoah\\anaconda3\\lib\\site-packages (from ipywidgets>=7.5.1->pandas-profiling[notebook]) (6.4.1)\n",
      "Requirement already satisfied: matplotlib-inline<0.2.0,>=0.1.0 in c:\\users\\bnoah\\anaconda3\\lib\\site-packages (from ipykernel>=4.5.1->ipywidgets>=7.5.1->pandas-profiling[notebook]) (0.1.2)\n",
      "Requirement already satisfied: debugpy<2.0,>=1.0.0 in c:\\users\\bnoah\\anaconda3\\lib\\site-packages (from ipykernel>=4.5.1->ipywidgets>=7.5.1->pandas-profiling[notebook]) (1.5.1)\n",
      "Requirement already satisfied: tornado<7.0,>=4.2 in c:\\users\\bnoah\\anaconda3\\lib\\site-packages (from ipykernel>=4.5.1->ipywidgets>=7.5.1->pandas-profiling[notebook]) (6.1)\n",
      "Requirement already satisfied: pickleshare in c:\\users\\bnoah\\anaconda3\\lib\\site-packages (from ipython>=4.0.0->ipywidgets>=7.5.1->pandas-profiling[notebook]) (0.7.5)\n",
      "Requirement already satisfied: pygments in c:\\users\\bnoah\\anaconda3\\lib\\site-packages (from ipython>=4.0.0->ipywidgets>=7.5.1->pandas-profiling[notebook]) (2.10.0)\n",
      "Requirement already satisfied: backcall in c:\\users\\bnoah\\anaconda3\\lib\\site-packages (from ipython>=4.0.0->ipywidgets>=7.5.1->pandas-profiling[notebook]) (0.2.0)\n",
      "Requirement already satisfied: colorama in c:\\users\\bnoah\\anaconda3\\lib\\site-packages (from ipython>=4.0.0->ipywidgets>=7.5.1->pandas-profiling[notebook]) (0.4.4)\n",
      "Requirement already satisfied: decorator in c:\\users\\bnoah\\anaconda3\\lib\\site-packages (from ipython>=4.0.0->ipywidgets>=7.5.1->pandas-profiling[notebook]) (5.1.0)\n",
      "Requirement already satisfied: jedi>=0.16 in c:\\users\\bnoah\\anaconda3\\lib\\site-packages (from ipython>=4.0.0->ipywidgets>=7.5.1->pandas-profiling[notebook]) (0.17.2)\n",
      "Requirement already satisfied: setuptools>=18.5 in c:\\users\\bnoah\\anaconda3\\lib\\site-packages (from ipython>=4.0.0->ipywidgets>=7.5.1->pandas-profiling[notebook]) (58.0.4)\n",
      "Requirement already satisfied: prompt-toolkit!=3.0.0,!=3.0.1,<3.1.0,>=2.0.0 in c:\\users\\bnoah\\anaconda3\\lib\\site-packages (from ipython>=4.0.0->ipywidgets>=7.5.1->pandas-profiling[notebook]) (3.0.20)\n",
      "Requirement already satisfied: parso<0.8.0,>=0.7.0 in c:\\users\\bnoah\\anaconda3\\lib\\site-packages (from jedi>=0.16->ipython>=4.0.0->ipywidgets>=7.5.1->pandas-profiling[notebook]) (0.7.0)\n",
      "Requirement already satisfied: python-dateutil>=2.1 in c:\\users\\bnoah\\anaconda3\\lib\\site-packages (from jupyter-client>=6.0.0->pandas-profiling[notebook]) (2.8.2)\n",
      "Requirement already satisfied: nest-asyncio>=1.5 in c:\\users\\bnoah\\anaconda3\\lib\\site-packages (from jupyter-client>=6.0.0->pandas-profiling[notebook]) (1.5.1)\n",
      "Requirement already satisfied: pyzmq>=13 in c:\\users\\bnoah\\anaconda3\\lib\\site-packages (from jupyter-client>=6.0.0->pandas-profiling[notebook]) (22.2.1)\n",
      "Requirement already satisfied: entrypoints in c:\\users\\bnoah\\anaconda3\\lib\\site-packages (from jupyter-client>=6.0.0->pandas-profiling[notebook]) (0.3)\n",
      "Requirement already satisfied: pywin32>=1.0 in c:\\users\\bnoah\\anaconda3\\lib\\site-packages (from jupyter-core>=4.6.3->pandas-profiling[notebook]) (228)\n",
      "Requirement already satisfied: pyparsing>=2.2.1 in c:\\users\\bnoah\\anaconda3\\lib\\site-packages (from matplotlib>=3.2.0->pandas-profiling[notebook]) (3.0.4)\n",
      "Requirement already satisfied: kiwisolver>=1.0.1 in c:\\users\\bnoah\\anaconda3\\lib\\site-packages (from matplotlib>=3.2.0->pandas-profiling[notebook]) (1.3.1)\n",
      "Requirement already satisfied: cycler>=0.10 in c:\\users\\bnoah\\anaconda3\\lib\\site-packages (from matplotlib>=3.2.0->pandas-profiling[notebook]) (0.10.0)\n",
      "Requirement already satisfied: six in c:\\users\\bnoah\\anaconda3\\lib\\site-packages (from cycler>=0.10->matplotlib>=3.2.0->pandas-profiling[notebook]) (1.16.0)\n",
      "Requirement already satisfied: jsonschema!=2.5.0,>=2.4 in c:\\users\\bnoah\\anaconda3\\lib\\site-packages (from nbformat>=4.2.0->ipywidgets>=7.5.1->pandas-profiling[notebook]) (3.2.0)\n",
      "Requirement already satisfied: pyrsistent>=0.14.0 in c:\\users\\bnoah\\anaconda3\\lib\\site-packages (from jsonschema!=2.5.0,>=2.4->nbformat>=4.2.0->ipywidgets>=7.5.1->pandas-profiling[notebook]) (0.18.0)\n",
      "Requirement already satisfied: pytz>=2017.3 in c:\\users\\bnoah\\anaconda3\\lib\\site-packages (from pandas!=1.0.0,!=1.0.1,!=1.0.2,!=1.1.0,>=0.25.3->pandas-profiling[notebook]) (2021.3)\n",
      "Requirement already satisfied: wcwidth in c:\\users\\bnoah\\anaconda3\\lib\\site-packages (from prompt-toolkit!=3.0.0,!=3.0.1,<3.1.0,>=2.0.0->ipython>=4.0.0->ipywidgets>=7.5.1->pandas-profiling[notebook]) (0.2.5)\n",
      "Requirement already satisfied: typing-extensions>=3.7.4.3 in c:\\users\\bnoah\\anaconda3\\lib\\site-packages (from pydantic>=1.8.1->pandas-profiling[notebook]) (3.10.0.2)\n",
      "Requirement already satisfied: urllib3<1.27,>=1.21.1 in c:\\users\\bnoah\\anaconda3\\lib\\site-packages (from requests>=2.24.0->pandas-profiling[notebook]) (1.26.7)\n",
      "Requirement already satisfied: idna<4,>=2.5 in c:\\users\\bnoah\\anaconda3\\lib\\site-packages (from requests>=2.24.0->pandas-profiling[notebook]) (3.2)\n",
      "Requirement already satisfied: certifi>=2017.4.17 in c:\\users\\bnoah\\anaconda3\\lib\\site-packages (from requests>=2.24.0->pandas-profiling[notebook]) (2021.10.8)\n",
      "Requirement already satisfied: charset-normalizer~=2.0.0 in c:\\users\\bnoah\\anaconda3\\lib\\site-packages (from requests>=2.24.0->pandas-profiling[notebook]) (2.0.4)\n",
      "Requirement already satisfied: notebook>=4.4.1 in c:\\users\\bnoah\\anaconda3\\lib\\site-packages (from widgetsnbextension~=3.5.0->ipywidgets>=7.5.1->pandas-profiling[notebook]) (6.4.5)\n",
      "Requirement already satisfied: argon2-cffi in c:\\users\\bnoah\\anaconda3\\lib\\site-packages (from notebook>=4.4.1->widgetsnbextension~=3.5.0->ipywidgets>=7.5.1->pandas-profiling[notebook]) (20.1.0)\n",
      "Requirement already satisfied: Send2Trash>=1.5.0 in c:\\users\\bnoah\\anaconda3\\lib\\site-packages (from notebook>=4.4.1->widgetsnbextension~=3.5.0->ipywidgets>=7.5.1->pandas-profiling[notebook]) (1.8.0)\n",
      "Requirement already satisfied: nbconvert in c:\\users\\bnoah\\anaconda3\\lib\\site-packages (from notebook>=4.4.1->widgetsnbextension~=3.5.0->ipywidgets>=7.5.1->pandas-profiling[notebook]) (6.1.0)\n",
      "Requirement already satisfied: prometheus-client in c:\\users\\bnoah\\anaconda3\\lib\\site-packages (from notebook>=4.4.1->widgetsnbextension~=3.5.0->ipywidgets>=7.5.1->pandas-profiling[notebook]) (0.11.0)\n",
      "Requirement already satisfied: terminado>=0.8.3 in c:\\users\\bnoah\\anaconda3\\lib\\site-packages (from notebook>=4.4.1->widgetsnbextension~=3.5.0->ipywidgets>=7.5.1->pandas-profiling[notebook]) (0.9.4)\n",
      "Requirement already satisfied: pywinpty>=0.5 in c:\\users\\bnoah\\anaconda3\\lib\\site-packages (from terminado>=0.8.3->notebook>=4.4.1->widgetsnbextension~=3.5.0->ipywidgets>=7.5.1->pandas-profiling[notebook]) (0.5.7)\n",
      "Requirement already satisfied: cffi>=1.0.0 in c:\\users\\bnoah\\anaconda3\\lib\\site-packages (from argon2-cffi->notebook>=4.4.1->widgetsnbextension~=3.5.0->ipywidgets>=7.5.1->pandas-profiling[notebook]) (1.15.0)\n",
      "Requirement already satisfied: pycparser in c:\\users\\bnoah\\anaconda3\\lib\\site-packages (from cffi>=1.0.0->argon2-cffi->notebook>=4.4.1->widgetsnbextension~=3.5.0->ipywidgets>=7.5.1->pandas-profiling[notebook]) (2.21)\n",
      "Requirement already satisfied: PyWavelets in c:\\users\\bnoah\\anaconda3\\lib\\site-packages (from imagehash->visions[type_image_path]==0.7.4->pandas-profiling[notebook]) (1.1.1)\n",
      "Requirement already satisfied: mistune<2,>=0.8.1 in c:\\users\\bnoah\\anaconda3\\lib\\site-packages (from nbconvert->notebook>=4.4.1->widgetsnbextension~=3.5.0->ipywidgets>=7.5.1->pandas-profiling[notebook]) (0.8.4)\n",
      "Requirement already satisfied: pandocfilters>=1.4.1 in c:\\users\\bnoah\\anaconda3\\lib\\site-packages (from nbconvert->notebook>=4.4.1->widgetsnbextension~=3.5.0->ipywidgets>=7.5.1->pandas-profiling[notebook]) (1.4.3)\n",
      "Requirement already satisfied: nbclient<0.6.0,>=0.5.0 in c:\\users\\bnoah\\anaconda3\\lib\\site-packages (from nbconvert->notebook>=4.4.1->widgetsnbextension~=3.5.0->ipywidgets>=7.5.1->pandas-profiling[notebook]) (0.5.3)\n",
      "Requirement already satisfied: defusedxml in c:\\users\\bnoah\\anaconda3\\lib\\site-packages (from nbconvert->notebook>=4.4.1->widgetsnbextension~=3.5.0->ipywidgets>=7.5.1->pandas-profiling[notebook]) (0.7.1)\n",
      "Requirement already satisfied: bleach in c:\\users\\bnoah\\anaconda3\\lib\\site-packages (from nbconvert->notebook>=4.4.1->widgetsnbextension~=3.5.0->ipywidgets>=7.5.1->pandas-profiling[notebook]) (4.0.0)\n",
      "Requirement already satisfied: jupyterlab-pygments in c:\\users\\bnoah\\anaconda3\\lib\\site-packages (from nbconvert->notebook>=4.4.1->widgetsnbextension~=3.5.0->ipywidgets>=7.5.1->pandas-profiling[notebook]) (0.1.2)\n",
      "Requirement already satisfied: testpath in c:\\users\\bnoah\\anaconda3\\lib\\site-packages (from nbconvert->notebook>=4.4.1->widgetsnbextension~=3.5.0->ipywidgets>=7.5.1->pandas-profiling[notebook]) (0.5.0)\n",
      "Requirement already satisfied: async-generator in c:\\users\\bnoah\\anaconda3\\lib\\site-packages (from nbclient<0.6.0,>=0.5.0->nbconvert->notebook>=4.4.1->widgetsnbextension~=3.5.0->ipywidgets>=7.5.1->pandas-profiling[notebook]) (1.10)\n",
      "Requirement already satisfied: webencodings in c:\\users\\bnoah\\anaconda3\\lib\\site-packages (from bleach->nbconvert->notebook>=4.4.1->widgetsnbextension~=3.5.0->ipywidgets>=7.5.1->pandas-profiling[notebook]) (0.5.1)\n",
      "Requirement already satisfied: packaging in c:\\users\\bnoah\\anaconda3\\lib\\site-packages (from bleach->nbconvert->notebook>=4.4.1->widgetsnbextension~=3.5.0->ipywidgets>=7.5.1->pandas-profiling[notebook]) (21.0)\n"
     ]
    }
   ],
   "source": [
    "import pandas as pd\n",
    "import numpy as np\n",
    "import researchpy as rp\n",
    "import nltk\n",
    "from nltk.stem.snowball import SnowballStemmer\n",
    "!pip install pandas-profiling[notebook]\n",
    "from pandas_profiling import ProfileReport\n",
    "import warnings\n",
    "warnings.filterwarnings('ignore')"
   ]
  },
  {
   "cell_type": "markdown",
   "metadata": {},
   "source": [
    "### Details"
   ]
  },
  {
   "cell_type": "markdown",
   "metadata": {},
   "source": [
    "| Package          | Description                                                          |\n",
    "|:-----------------|:---------------------------------------------------------------------|\n",
    "| pandas           | For data preprocessing and basic descriptive statistics.             |\n",
    "| researchpy       | For looking at summary statistics.                                   |\n",
    "| nltk             | For natural language processing.                                     |\n",
    "| pandas_profiling | For creating a profile report on the dataset.                        |\n",
    "| missingno        | For looking at missing data information.                             |\n",
    "| warnings         | For ignoring warnings after finishing the project for readability.   |"
   ]
  },
  {
   "cell_type": "markdown",
   "metadata": {},
   "source": [
    "## Importing and Cleaning Data"
   ]
  },
  {
   "cell_type": "markdown",
   "metadata": {},
   "source": [
    "### Import Data"
   ]
  },
  {
   "cell_type": "code",
   "execution_count": 51,
   "metadata": {},
   "outputs": [],
   "source": [
    "#read the data\n",
    "try: \n",
    "    credit_scoring = pd.read_csv('/Users/bnoah/data/credit_scoring_eng.csv')\n",
    "except: \n",
    "    credit_scoring = pd.read_csv('/datasets/credit_scoring_eng.csv')"
   ]
  },
  {
   "cell_type": "markdown",
   "metadata": {},
   "source": [
    "### Profile Report"
   ]
  },
  {
   "cell_type": "code",
   "execution_count": 6,
   "metadata": {},
   "outputs": [
    {
     "data": {
      "application/vnd.jupyter.widget-view+json": {
       "model_id": "5b73c539f2e64e4b9bb11352e5c0aff9",
       "version_major": 2,
       "version_minor": 0
      },
      "text/plain": [
       "Summarize dataset:   0%|          | 0/5 [00:00<?, ?it/s]"
      ]
     },
     "metadata": {},
     "output_type": "display_data"
    },
    {
     "data": {
      "application/vnd.jupyter.widget-view+json": {
       "model_id": "e8c267e82a3944fdb1cb67551a6a52d0",
       "version_major": 2,
       "version_minor": 0
      },
      "text/plain": [
       "Generate report structure:   0%|          | 0/1 [00:00<?, ?it/s]"
      ]
     },
     "metadata": {},
     "output_type": "display_data"
    },
    {
     "data": {
      "application/vnd.jupyter.widget-view+json": {
       "model_id": "",
       "version_major": 2,
       "version_minor": 0
      },
      "text/plain": [
       "Render widgets:   0%|          | 0/1 [00:00<?, ?it/s]"
      ]
     },
     "metadata": {},
     "output_type": "display_data"
    },
    {
     "data": {
      "application/vnd.jupyter.widget-view+json": {
       "model_id": "05ad4b60c724459386d68d9def745c1b",
       "version_major": 2,
       "version_minor": 0
      },
      "text/plain": [
       "VBox(children=(Tab(children=(Tab(children=(GridBox(children=(VBox(children=(GridspecLayout(children=(HTML(valu…"
      ]
     },
     "metadata": {},
     "output_type": "display_data"
    }
   ],
   "source": [
    "credit_score_report = ProfileReport(credit_scoring, title=\"Credit Score Profiling Report\")\n",
    "credit_score_report.to_widgets()"
   ]
  },
  {
   "cell_type": "markdown",
   "metadata": {},
   "source": [
    "### Data Cleaning"
   ]
  },
  {
   "cell_type": "code",
   "execution_count": 52,
   "metadata": {},
   "outputs": [],
   "source": [
    "#remove all instances where the number of children is -1\n",
    "credit_scoring = credit_scoring.loc[credit_scoring['children'] >= 0]\n",
    "#remove all instances where gender is XNA\n",
    "credit_scoring = credit_scoring.loc[credit_scoring['gender'] != 'XNA']\n",
    "#set all days employed values equal to their absolute value\n",
    "credit_scoring['days_employed'] = credit_scoring['days_employed'].abs()\n",
    "#rename dob_years column to age\n",
    "credit_scoring.rename(columns={'dob_years':'age'}, inplace=True)\n",
    "#remove all instances where age is equal to zero\n",
    "credit_scoring = credit_scoring.loc[credit_scoring['age'] != 0]"
   ]
  },
  {
   "cell_type": "markdown",
   "metadata": {},
   "source": [
    "### Conclusion"
   ]
  },
  {
   "cell_type": "markdown",
   "metadata": {},
   "source": [
    "In this section, I focused on cleaning the data. Firstly, I noticed that there were 47 occurrences of negative children. Since it was such a rare occurrence, I decided to drop those observations instead of investigating it further. I also removed the one instance where gender was equal to \"XNA\" since I do not know what that stands for, and it was also rare. As far as days_employed, it does not make sense for there to be negative values and 82% of the values are negative. My best guess for what occurred is that some values were accidentally put as negative instead of positive. For this reason, I replaced the days_employed variable with its absolute value, but in the real world I would talk to whoever created the data set to try to figure out the issues. Lastly, I changed the variable name of dob_years to age as I think that is easier to understand, and I removed all 101 instances of age being 0. "
   ]
  },
  {
   "cell_type": "markdown",
   "metadata": {},
   "source": [
    "## Data preprocessing"
   ]
  },
  {
   "cell_type": "markdown",
   "metadata": {},
   "source": [
    "### Processing missing values"
   ]
  },
  {
   "cell_type": "code",
   "execution_count": 53,
   "metadata": {},
   "outputs": [
    {
     "data": {
      "text/plain": [
       "children            0.003316\n",
       "days_employed            NaN\n",
       "age                 0.009092\n",
       "education_id       -0.010283\n",
       "family_status_id    0.000543\n",
       "debt               -0.002898\n",
       "total_income             NaN\n",
       "missing             1.000000\n",
       "Name: missing, dtype: float64"
      ]
     },
     "metadata": {},
     "output_type": "display_data"
    }
   ],
   "source": [
    "#creating a variable for observations with missing data\n",
    "credit_scoring['missing'] = np.where(credit_scoring['days_employed'].isna(),1,0)\n",
    "#check if those observations are correlated with any of the other variables\n",
    "display(credit_scoring.corr()['missing'])\n",
    "#drop the missing variable from the dataframe\n",
    "credit_scoring.drop('missing',axis=1,inplace=True)"
   ]
  },
  {
   "cell_type": "markdown",
   "metadata": {},
   "source": [
    "### Conclusion"
   ]
  },
  {
   "cell_type": "markdown",
   "metadata": {},
   "source": [
    "The first thing I noticed is that total_income and days_employed were all missing for the same observations. This means if one of the variables is missing at random, the other variable should be too. Overall, we had around a 10% missing rate for the total_income and days_unemployed variables. Looking at the correlations above, it seems as though the missing data is not highly correlated with any of the other variables, which means the data is most likely missing completely at random. "
   ]
  },
  {
   "cell_type": "markdown",
   "metadata": {},
   "source": [
    "### Data type replacement"
   ]
  },
  {
   "cell_type": "code",
   "execution_count": 54,
   "metadata": {},
   "outputs": [
    {
     "data": {
      "text/html": [
       "<div>\n",
       "<style scoped>\n",
       "    .dataframe tbody tr th:only-of-type {\n",
       "        vertical-align: middle;\n",
       "    }\n",
       "\n",
       "    .dataframe tbody tr th {\n",
       "        vertical-align: top;\n",
       "    }\n",
       "\n",
       "    .dataframe thead th {\n",
       "        text-align: right;\n",
       "    }\n",
       "</style>\n",
       "<table border=\"1\" class=\"dataframe\">\n",
       "  <thead>\n",
       "    <tr style=\"text-align: right;\">\n",
       "      <th></th>\n",
       "      <th>total_income</th>\n",
       "      <th>days_employed</th>\n",
       "    </tr>\n",
       "  </thead>\n",
       "  <tbody>\n",
       "    <tr>\n",
       "      <th>min</th>\n",
       "      <td>3306.762000</td>\n",
       "      <td>24.141633</td>\n",
       "    </tr>\n",
       "    <tr>\n",
       "      <th>max</th>\n",
       "      <td>362496.645000</td>\n",
       "      <td>401755.400475</td>\n",
       "    </tr>\n",
       "    <tr>\n",
       "      <th>median</th>\n",
       "      <td>23200.877000</td>\n",
       "      <td>2195.688842</td>\n",
       "    </tr>\n",
       "    <tr>\n",
       "      <th>mean</th>\n",
       "      <td>26799.115951</td>\n",
       "      <td>66923.717886</td>\n",
       "    </tr>\n",
       "  </tbody>\n",
       "</table>\n",
       "</div>"
      ],
      "text/plain": [
       "         total_income  days_employed\n",
       "min       3306.762000      24.141633\n",
       "max     362496.645000  401755.400475\n",
       "median   23200.877000    2195.688842\n",
       "mean     26799.115951   66923.717886"
      ]
     },
     "metadata": {},
     "output_type": "display_data"
    }
   ],
   "source": [
    "#look at the min, max, median and mean for the total_income and days_employed variables\n",
    "display(credit_scoring.agg({'total_income': [\"min\", \"max\", \"median\", \"mean\"],\n",
    "                    'days_employed': [\"min\", \"max\", \"median\", \"mean\"]}))\n",
    "#filled in the missing values with the mean for total_income and median for days_employed\n",
    "credit_scoring['total_income'] = credit_scoring['total_income'].fillna(credit_scoring['total_income'].mean())\n",
    "credit_scoring['days_employed'] = credit_scoring['days_employed'].fillna(credit_scoring['days_employed'].median())\n",
    "#change real numbers to integers\n",
    "credit_scoring['days_employed'] = credit_scoring['days_employed'].astype(int)\n",
    "credit_scoring['total_income'] = credit_scoring['total_income'].astype(int)"
   ]
  },
  {
   "cell_type": "markdown",
   "metadata": {},
   "source": [
    "### Conclusion"
   ]
  },
  {
   "cell_type": "markdown",
   "metadata": {},
   "source": [
    "I started out by looking at the descriptive statistics for total_income and days_employed. For total_income the mean and median are relatively close, so I used the mean to replace the missing values. With the days_employed variable, it seems as though it is heavily influenced by outliers due to the fact the mean is significantly higher than the median. For this reason, I replaced the missing values with the median. Lastly, I converted both variables to integers."
   ]
  },
  {
   "cell_type": "markdown",
   "metadata": {},
   "source": [
    "### Processing duplicates"
   ]
  },
  {
   "cell_type": "code",
   "execution_count": 55,
   "metadata": {},
   "outputs": [
    {
     "name": "stdout",
     "output_type": "stream",
     "text": [
      "Number of duplicates:  71\n"
     ]
    }
   ],
   "source": [
    "#convert all string variables to lower case\n",
    "for x in credit_scoring.select_dtypes(include='object').columns:\n",
    "    credit_scoring[x] = credit_scoring[x].str.lower()\n",
    "#count the number of duplicates\n",
    "print('Number of duplicates: ', credit_scoring.duplicated().sum())\n",
    "#drop duplicates\n",
    "credit_scoring.drop_duplicates(inplace = True)"
   ]
  },
  {
   "cell_type": "markdown",
   "metadata": {},
   "source": [
    "### Conclusion"
   ]
  },
  {
   "cell_type": "markdown",
   "metadata": {},
   "source": [
    "First, I put all the string variables in lower case to make sure we catch all duplicates. Afterwards, I found 71 duplicate values and deleted those values."
   ]
  },
  {
   "cell_type": "markdown",
   "metadata": {},
   "source": [
    "### Categorizing Data"
   ]
  },
  {
   "cell_type": "code",
   "execution_count": 56,
   "metadata": {},
   "outputs": [],
   "source": [
    "#create a function that groups people by their age group\n",
    "def age_group(age):\n",
    "    if age <= 18:\n",
    "        return 'child'\n",
    "    elif age <= 44:\n",
    "        return 'young adult'\n",
    "    elif age <= 64:\n",
    "        return 'adult'\n",
    "    return 'elderly'\n",
    "#add an age group column to the dataframe\n",
    "credit_scoring['age_group'] = credit_scoring['age'].apply(age_group)\n",
    "\n",
    "#create a function that groups people by their income level\n",
    "def income_group(income):\n",
    "    if income <= 40100:\n",
    "        return 'low income'\n",
    "    elif income < 120400:\n",
    "        return 'middle income'\n",
    "    return 'upper income'\n",
    "#addincome group column to the dataframe\n",
    "credit_scoring['income_group'] = credit_scoring['total_income'].apply(income_group)\n",
    "\n",
    "#create a second function that groups people as either below or above mean income\n",
    "def income_below_avg(income):\n",
    "    if income < credit_scoring['total_income'].mean():\n",
    "        return 'below average'\n",
    "    return 'above average'\n",
    "#look at above and below average income values\n",
    "credit_scoring['income_avg'] = credit_scoring['total_income'].apply(income_below_avg)\n",
    "\n",
    "#create a function that is 1 if you have any children and 0 if you have no children\n",
    "def any_children(children):\n",
    "    if children > 0:\n",
    "        return 1\n",
    "    return 0\n",
    "#add a variable to the dataframe that is binary and equal to 1 if the person has a child\n",
    "credit_scoring['any_children'] = credit_scoring['children'].apply(any_children)\n",
    "\n",
    "#create a variable that has the stem word english dictionary \n",
    "english_stemmer = SnowballStemmer('english')\n",
    "#looks at the stem of each word in a sentence/phrase and classifies the purpose of their loan\n",
    "def loan_purpose_general(purpose):\n",
    "    for word in purpose.split(' '):\n",
    "        stemmed_word = english_stemmer.stem(word)\n",
    "        if stemmed_word == 'hous':\n",
    "            return 'house'\n",
    "        elif stemmed_word == 'estat':\n",
    "            return 'house'\n",
    "        elif stemmed_word == 'properti':\n",
    "            return 'house'\n",
    "        elif stemmed_word == 'car':\n",
    "            return 'car'\n",
    "        elif stemmed_word == 'wed':\n",
    "            return 'wedding'\n",
    "        elif stemmed_word == 'educ':\n",
    "            return 'education'\n",
    "        elif stemmed_word == 'univers':\n",
    "            return 'education'\n",
    "#add the loan general purpose column to the datafram and check the values\n",
    "credit_scoring['loan_purpose_general'] = credit_scoring['purpose'].apply(loan_purpose_general)\n",
    "\n",
    "#create a function that is 1 if the person is married and equal to 0 if they are not.\n",
    "def married(family_status):\n",
    "    if family_status == 'married':\n",
    "        return 1\n",
    "    return 0\n",
    "credit_scoring['married'] = credit_scoring['family_status'].apply(married)"
   ]
  },
  {
   "cell_type": "markdown",
   "metadata": {},
   "source": [
    "#### Updated Profile Report"
   ]
  },
  {
   "cell_type": "code",
   "execution_count": 61,
   "metadata": {},
   "outputs": [
    {
     "data": {
      "application/vnd.jupyter.widget-view+json": {
       "model_id": "c0ba2f3965c94f728e242702271836db",
       "version_major": 2,
       "version_minor": 0
      },
      "text/plain": [
       "Summarize dataset:   0%|          | 0/5 [00:00<?, ?it/s]"
      ]
     },
     "metadata": {},
     "output_type": "display_data"
    },
    {
     "data": {
      "application/vnd.jupyter.widget-view+json": {
       "model_id": "684ac277bc994fe98ed6a28f9ade1e7d",
       "version_major": 2,
       "version_minor": 0
      },
      "text/plain": [
       "Generate report structure:   0%|          | 0/1 [00:00<?, ?it/s]"
      ]
     },
     "metadata": {},
     "output_type": "display_data"
    },
    {
     "data": {
      "application/vnd.jupyter.widget-view+json": {
       "model_id": "",
       "version_major": 2,
       "version_minor": 0
      },
      "text/plain": [
       "Render widgets:   0%|          | 0/1 [00:00<?, ?it/s]"
      ]
     },
     "metadata": {},
     "output_type": "display_data"
    },
    {
     "data": {
      "application/vnd.jupyter.widget-view+json": {
       "model_id": "453c6329f116456dbfba6b8f57f3abe0",
       "version_major": 2,
       "version_minor": 0
      },
      "text/plain": [
       "VBox(children=(Tab(children=(Tab(children=(GridBox(children=(VBox(children=(GridspecLayout(children=(HTML(valu…"
      ]
     },
     "metadata": {},
     "output_type": "display_data"
    }
   ],
   "source": [
    "credit_score_newvar_report = ProfileReport(credit_scoring[['age_group','income_group','income_avg','any_children','loan_purpose_general','married']], \n",
    "                                           title=\"Credit Score New Variable Profiling Report\")\n",
    "credit_score_newvar_report.to_widgets()"
   ]
  },
  {
   "cell_type": "markdown",
   "metadata": {},
   "source": [
    "### Conclusion"
   ]
  },
  {
   "cell_type": "markdown",
   "metadata": {},
   "source": [
    "The variables I want to put into categories are age, total_income, children, purpose, and marriage. \n",
    "- For `age group`, I used the age groups in the United States census. \n",
    "- For `income_group`, I used a [2020 US news article](https://money.usnews.com/money/personal-finance/family-finance/articles/where-do-i-fall-in-the-american-economic-class-system), to classify low, middle and upper income groups. \n",
    "- For `income_avg`, I separated those above and below the average income in this dataset. \n",
    "- For `any_children`, I separated people with and without children. \n",
    "- For `loan_purpose_general`, I grouped the purposes variable, using stemming, based on the general reason for the loan. \n",
    "- For `married`, Lastly, I separated married and non-married people. "
   ]
  },
  {
   "cell_type": "markdown",
   "metadata": {},
   "source": [
    "## Answer these questions"
   ]
  },
  {
   "cell_type": "markdown",
   "metadata": {},
   "source": [
    "### Is there a relation between having kids and repaying a loan on time?"
   ]
  },
  {
   "cell_type": "code",
   "execution_count": 77,
   "metadata": {},
   "outputs": [
    {
     "name": "stdout",
     "output_type": "stream",
     "text": [
      "\n",
      "\n"
     ]
    },
    {
     "data": {
      "text/html": [
       "<div>\n",
       "<style scoped>\n",
       "    .dataframe tbody tr th:only-of-type {\n",
       "        vertical-align: middle;\n",
       "    }\n",
       "\n",
       "    .dataframe tbody tr th {\n",
       "        vertical-align: top;\n",
       "    }\n",
       "\n",
       "    .dataframe thead th {\n",
       "        text-align: right;\n",
       "    }\n",
       "</style>\n",
       "<table border=\"1\" class=\"dataframe\">\n",
       "  <thead>\n",
       "    <tr style=\"text-align: right;\">\n",
       "      <th></th>\n",
       "      <th>N</th>\n",
       "      <th>Mean</th>\n",
       "      <th>SD</th>\n",
       "      <th>SE</th>\n",
       "      <th>95% Conf.</th>\n",
       "      <th>Interval</th>\n",
       "    </tr>\n",
       "    <tr>\n",
       "      <th>any_children</th>\n",
       "      <th></th>\n",
       "      <th></th>\n",
       "      <th></th>\n",
       "      <th></th>\n",
       "      <th></th>\n",
       "      <th></th>\n",
       "    </tr>\n",
       "  </thead>\n",
       "  <tbody>\n",
       "    <tr>\n",
       "      <th>0</th>\n",
       "      <td>14021</td>\n",
       "      <td>0.0755</td>\n",
       "      <td>0.2641</td>\n",
       "      <td>0.0022</td>\n",
       "      <td>0.0711</td>\n",
       "      <td>0.0798</td>\n",
       "    </tr>\n",
       "    <tr>\n",
       "      <th>1</th>\n",
       "      <td>7284</td>\n",
       "      <td>0.0925</td>\n",
       "      <td>0.2898</td>\n",
       "      <td>0.0034</td>\n",
       "      <td>0.0859</td>\n",
       "      <td>0.0992</td>\n",
       "    </tr>\n",
       "  </tbody>\n",
       "</table>\n",
       "</div>"
      ],
      "text/plain": [
       "                  N    Mean      SD      SE  95% Conf.  Interval\n",
       "any_children                                                    \n",
       "0             14021  0.0755  0.2641  0.0022     0.0711    0.0798\n",
       "1              7284  0.0925  0.2898  0.0034     0.0859    0.0992"
      ]
     },
     "metadata": {},
     "output_type": "display_data"
    },
    {
     "name": "stdout",
     "output_type": "stream",
     "text": [
      "\n",
      "\n"
     ]
    },
    {
     "data": {
      "text/html": [
       "<div>\n",
       "<style scoped>\n",
       "    .dataframe tbody tr th:only-of-type {\n",
       "        vertical-align: middle;\n",
       "    }\n",
       "\n",
       "    .dataframe tbody tr th {\n",
       "        vertical-align: top;\n",
       "    }\n",
       "\n",
       "    .dataframe thead th {\n",
       "        text-align: right;\n",
       "    }\n",
       "</style>\n",
       "<table border=\"1\" class=\"dataframe\">\n",
       "  <thead>\n",
       "    <tr style=\"text-align: right;\">\n",
       "      <th></th>\n",
       "      <th>N</th>\n",
       "      <th>Mean</th>\n",
       "      <th>SD</th>\n",
       "      <th>SE</th>\n",
       "      <th>95% Conf.</th>\n",
       "      <th>Interval</th>\n",
       "    </tr>\n",
       "    <tr>\n",
       "      <th>children</th>\n",
       "      <th></th>\n",
       "      <th></th>\n",
       "      <th></th>\n",
       "      <th></th>\n",
       "      <th></th>\n",
       "      <th></th>\n",
       "    </tr>\n",
       "  </thead>\n",
       "  <tbody>\n",
       "    <tr>\n",
       "      <th>0</th>\n",
       "      <td>14021</td>\n",
       "      <td>0.0755</td>\n",
       "      <td>0.2641</td>\n",
       "      <td>0.0022</td>\n",
       "      <td>0.0711</td>\n",
       "      <td>0.0798</td>\n",
       "    </tr>\n",
       "    <tr>\n",
       "      <th>1</th>\n",
       "      <td>4792</td>\n",
       "      <td>0.0920</td>\n",
       "      <td>0.2891</td>\n",
       "      <td>0.0042</td>\n",
       "      <td>0.0838</td>\n",
       "      <td>0.1002</td>\n",
       "    </tr>\n",
       "    <tr>\n",
       "      <th>2</th>\n",
       "      <td>2039</td>\n",
       "      <td>0.0951</td>\n",
       "      <td>0.2935</td>\n",
       "      <td>0.0065</td>\n",
       "      <td>0.0824</td>\n",
       "      <td>0.1079</td>\n",
       "    </tr>\n",
       "    <tr>\n",
       "      <th>3</th>\n",
       "      <td>328</td>\n",
       "      <td>0.0823</td>\n",
       "      <td>0.2753</td>\n",
       "      <td>0.0152</td>\n",
       "      <td>0.0524</td>\n",
       "      <td>0.1122</td>\n",
       "    </tr>\n",
       "    <tr>\n",
       "      <th>4</th>\n",
       "      <td>41</td>\n",
       "      <td>0.0976</td>\n",
       "      <td>0.3004</td>\n",
       "      <td>0.0469</td>\n",
       "      <td>0.0027</td>\n",
       "      <td>0.1924</td>\n",
       "    </tr>\n",
       "    <tr>\n",
       "      <th>5</th>\n",
       "      <td>9</td>\n",
       "      <td>0.0000</td>\n",
       "      <td>0.0000</td>\n",
       "      <td>0.0000</td>\n",
       "      <td>NaN</td>\n",
       "      <td>NaN</td>\n",
       "    </tr>\n",
       "    <tr>\n",
       "      <th>20</th>\n",
       "      <td>75</td>\n",
       "      <td>0.1067</td>\n",
       "      <td>0.3108</td>\n",
       "      <td>0.0359</td>\n",
       "      <td>0.0352</td>\n",
       "      <td>0.1782</td>\n",
       "    </tr>\n",
       "  </tbody>\n",
       "</table>\n",
       "</div>"
      ],
      "text/plain": [
       "              N    Mean      SD      SE  95% Conf.  Interval\n",
       "children                                                    \n",
       "0         14021  0.0755  0.2641  0.0022     0.0711    0.0798\n",
       "1          4792  0.0920  0.2891  0.0042     0.0838    0.1002\n",
       "2          2039  0.0951  0.2935  0.0065     0.0824    0.1079\n",
       "3           328  0.0823  0.2753  0.0152     0.0524    0.1122\n",
       "4            41  0.0976  0.3004  0.0469     0.0027    0.1924\n",
       "5             9  0.0000  0.0000  0.0000        NaN       NaN\n",
       "20           75  0.1067  0.3108  0.0359     0.0352    0.1782"
      ]
     },
     "execution_count": 77,
     "metadata": {},
     "output_type": "execute_result"
    }
   ],
   "source": [
    "display(rp.summary_cont(credit_scoring.groupby('any_children')['debt']))\n",
    "rp.summary_cont(credit_scoring.groupby('children')['debt'])"
   ]
  },
  {
   "cell_type": "markdown",
   "metadata": {},
   "source": [
    "#### Conclusion"
   ]
  },
  {
   "cell_type": "markdown",
   "metadata": {},
   "source": [
    "When comparing those with and without children, the difference in likelihood of default was 9.2% for those with children compared to 7.5% for those without. Looking at the 95% confidence intervals above, we can say that those with children are more likely to default of their loan. Yet, the default rate is not affected by the number of children. "
   ]
  },
  {
   "cell_type": "markdown",
   "metadata": {},
   "source": [
    "### Is there a relation between marital status and repaying a loan on time?"
   ]
  },
  {
   "cell_type": "code",
   "execution_count": 78,
   "metadata": {},
   "outputs": [
    {
     "name": "stdout",
     "output_type": "stream",
     "text": [
      "\n",
      "\n"
     ]
    },
    {
     "data": {
      "text/html": [
       "<div>\n",
       "<style scoped>\n",
       "    .dataframe tbody tr th:only-of-type {\n",
       "        vertical-align: middle;\n",
       "    }\n",
       "\n",
       "    .dataframe tbody tr th {\n",
       "        vertical-align: top;\n",
       "    }\n",
       "\n",
       "    .dataframe thead th {\n",
       "        text-align: right;\n",
       "    }\n",
       "</style>\n",
       "<table border=\"1\" class=\"dataframe\">\n",
       "  <thead>\n",
       "    <tr style=\"text-align: right;\">\n",
       "      <th></th>\n",
       "      <th>N</th>\n",
       "      <th>Mean</th>\n",
       "      <th>SD</th>\n",
       "      <th>SE</th>\n",
       "      <th>95% Conf.</th>\n",
       "      <th>Interval</th>\n",
       "    </tr>\n",
       "    <tr>\n",
       "      <th>married</th>\n",
       "      <th></th>\n",
       "      <th></th>\n",
       "      <th></th>\n",
       "      <th></th>\n",
       "      <th></th>\n",
       "      <th></th>\n",
       "    </tr>\n",
       "  </thead>\n",
       "  <tbody>\n",
       "    <tr>\n",
       "      <th>0</th>\n",
       "      <td>9044</td>\n",
       "      <td>0.0891</td>\n",
       "      <td>0.2849</td>\n",
       "      <td>0.0030</td>\n",
       "      <td>0.0832</td>\n",
       "      <td>0.0950</td>\n",
       "    </tr>\n",
       "    <tr>\n",
       "      <th>1</th>\n",
       "      <td>12261</td>\n",
       "      <td>0.0755</td>\n",
       "      <td>0.2642</td>\n",
       "      <td>0.0024</td>\n",
       "      <td>0.0708</td>\n",
       "      <td>0.0802</td>\n",
       "    </tr>\n",
       "  </tbody>\n",
       "</table>\n",
       "</div>"
      ],
      "text/plain": [
       "             N    Mean      SD      SE  95% Conf.  Interval\n",
       "married                                                    \n",
       "0         9044  0.0891  0.2849  0.0030     0.0832    0.0950\n",
       "1        12261  0.0755  0.2642  0.0024     0.0708    0.0802"
      ]
     },
     "metadata": {},
     "output_type": "display_data"
    },
    {
     "name": "stdout",
     "output_type": "stream",
     "text": [
      "\n",
      "\n"
     ]
    },
    {
     "data": {
      "text/html": [
       "<div>\n",
       "<style scoped>\n",
       "    .dataframe tbody tr th:only-of-type {\n",
       "        vertical-align: middle;\n",
       "    }\n",
       "\n",
       "    .dataframe tbody tr th {\n",
       "        vertical-align: top;\n",
       "    }\n",
       "\n",
       "    .dataframe thead th {\n",
       "        text-align: right;\n",
       "    }\n",
       "</style>\n",
       "<table border=\"1\" class=\"dataframe\">\n",
       "  <thead>\n",
       "    <tr style=\"text-align: right;\">\n",
       "      <th></th>\n",
       "      <th>N</th>\n",
       "      <th>Mean</th>\n",
       "      <th>SD</th>\n",
       "      <th>SE</th>\n",
       "      <th>95% Conf.</th>\n",
       "      <th>Interval</th>\n",
       "    </tr>\n",
       "    <tr>\n",
       "      <th>family_status</th>\n",
       "      <th></th>\n",
       "      <th></th>\n",
       "      <th></th>\n",
       "      <th></th>\n",
       "      <th></th>\n",
       "      <th></th>\n",
       "    </tr>\n",
       "  </thead>\n",
       "  <tbody>\n",
       "    <tr>\n",
       "      <th>civil partnership</th>\n",
       "      <td>4124</td>\n",
       "      <td>0.0936</td>\n",
       "      <td>0.2913</td>\n",
       "      <td>0.0045</td>\n",
       "      <td>0.0847</td>\n",
       "      <td>0.1025</td>\n",
       "    </tr>\n",
       "    <tr>\n",
       "      <th>divorced</th>\n",
       "      <td>1181</td>\n",
       "      <td>0.0720</td>\n",
       "      <td>0.2586</td>\n",
       "      <td>0.0075</td>\n",
       "      <td>0.0572</td>\n",
       "      <td>0.0867</td>\n",
       "    </tr>\n",
       "    <tr>\n",
       "      <th>unmarried</th>\n",
       "      <td>2789</td>\n",
       "      <td>0.0979</td>\n",
       "      <td>0.2972</td>\n",
       "      <td>0.0056</td>\n",
       "      <td>0.0868</td>\n",
       "      <td>0.1089</td>\n",
       "    </tr>\n",
       "    <tr>\n",
       "      <th>widow / widower</th>\n",
       "      <td>950</td>\n",
       "      <td>0.0653</td>\n",
       "      <td>0.2471</td>\n",
       "      <td>0.0080</td>\n",
       "      <td>0.0495</td>\n",
       "      <td>0.0810</td>\n",
       "    </tr>\n",
       "  </tbody>\n",
       "</table>\n",
       "</div>"
      ],
      "text/plain": [
       "                      N    Mean      SD      SE  95% Conf.  Interval\n",
       "family_status                                                       \n",
       "civil partnership  4124  0.0936  0.2913  0.0045     0.0847    0.1025\n",
       "divorced           1181  0.0720  0.2586  0.0075     0.0572    0.0867\n",
       "unmarried          2789  0.0979  0.2972  0.0056     0.0868    0.1089\n",
       "widow / widower     950  0.0653  0.2471  0.0080     0.0495    0.0810"
      ]
     },
     "execution_count": 78,
     "metadata": {},
     "output_type": "execute_result"
    }
   ],
   "source": [
    "#look at summary statistics comparing those that are married and unmarried\n",
    "display(rp.summary_cont(credit_scoring.groupby('married')['debt']))\n",
    "#look at summary statistics comparing different non married family statuses\n",
    "rp.summary_cont(credit_scoring[credit_scoring['married'] != 1].groupby('family_status')['debt'])"
   ]
  },
  {
   "cell_type": "markdown",
   "metadata": {},
   "source": [
    "#### Conclusion"
   ]
  },
  {
   "cell_type": "markdown",
   "metadata": {},
   "source": [
    "Based on the summary tables, those that are married are less likely to default on a loan. Next, I wanted to see if there were any differences between the different types of non marriages. While it may not be as significant, among those that are not married, widowers and divorcees default less than those that are unmarried or in civil partnerships. "
   ]
  },
  {
   "cell_type": "markdown",
   "metadata": {},
   "source": [
    "### Is there a relation between income level and repaying a loan on time?"
   ]
  },
  {
   "cell_type": "code",
   "execution_count": 79,
   "metadata": {},
   "outputs": [
    {
     "name": "stdout",
     "output_type": "stream",
     "text": [
      "\n",
      "\n"
     ]
    },
    {
     "data": {
      "text/html": [
       "<div>\n",
       "<style scoped>\n",
       "    .dataframe tbody tr th:only-of-type {\n",
       "        vertical-align: middle;\n",
       "    }\n",
       "\n",
       "    .dataframe tbody tr th {\n",
       "        vertical-align: top;\n",
       "    }\n",
       "\n",
       "    .dataframe thead th {\n",
       "        text-align: right;\n",
       "    }\n",
       "</style>\n",
       "<table border=\"1\" class=\"dataframe\">\n",
       "  <thead>\n",
       "    <tr style=\"text-align: right;\">\n",
       "      <th></th>\n",
       "      <th>N</th>\n",
       "      <th>Mean</th>\n",
       "      <th>SD</th>\n",
       "      <th>SE</th>\n",
       "      <th>95% Conf.</th>\n",
       "      <th>Interval</th>\n",
       "    </tr>\n",
       "    <tr>\n",
       "      <th>income_group</th>\n",
       "      <th></th>\n",
       "      <th></th>\n",
       "      <th></th>\n",
       "      <th></th>\n",
       "      <th></th>\n",
       "      <th></th>\n",
       "    </tr>\n",
       "  </thead>\n",
       "  <tbody>\n",
       "    <tr>\n",
       "      <th>low income</th>\n",
       "      <td>18523</td>\n",
       "      <td>0.0831</td>\n",
       "      <td>0.2760</td>\n",
       "      <td>0.0020</td>\n",
       "      <td>0.0791</td>\n",
       "      <td>0.0871</td>\n",
       "    </tr>\n",
       "    <tr>\n",
       "      <th>middle income</th>\n",
       "      <td>2734</td>\n",
       "      <td>0.0691</td>\n",
       "      <td>0.2537</td>\n",
       "      <td>0.0049</td>\n",
       "      <td>0.0596</td>\n",
       "      <td>0.0786</td>\n",
       "    </tr>\n",
       "    <tr>\n",
       "      <th>upper income</th>\n",
       "      <td>48</td>\n",
       "      <td>0.0833</td>\n",
       "      <td>0.2793</td>\n",
       "      <td>0.0403</td>\n",
       "      <td>0.0022</td>\n",
       "      <td>0.1644</td>\n",
       "    </tr>\n",
       "  </tbody>\n",
       "</table>\n",
       "</div>"
      ],
      "text/plain": [
       "                   N    Mean      SD      SE  95% Conf.  Interval\n",
       "income_group                                                     \n",
       "low income     18523  0.0831  0.2760  0.0020     0.0791    0.0871\n",
       "middle income   2734  0.0691  0.2537  0.0049     0.0596    0.0786\n",
       "upper income      48  0.0833  0.2793  0.0403     0.0022    0.1644"
      ]
     },
     "metadata": {},
     "output_type": "display_data"
    },
    {
     "name": "stdout",
     "output_type": "stream",
     "text": [
      "\n",
      "\n"
     ]
    },
    {
     "data": {
      "text/html": [
       "<div>\n",
       "<style scoped>\n",
       "    .dataframe tbody tr th:only-of-type {\n",
       "        vertical-align: middle;\n",
       "    }\n",
       "\n",
       "    .dataframe tbody tr th {\n",
       "        vertical-align: top;\n",
       "    }\n",
       "\n",
       "    .dataframe thead th {\n",
       "        text-align: right;\n",
       "    }\n",
       "</style>\n",
       "<table border=\"1\" class=\"dataframe\">\n",
       "  <thead>\n",
       "    <tr style=\"text-align: right;\">\n",
       "      <th></th>\n",
       "      <th>N</th>\n",
       "      <th>Mean</th>\n",
       "      <th>SD</th>\n",
       "      <th>SE</th>\n",
       "      <th>95% Conf.</th>\n",
       "      <th>Interval</th>\n",
       "    </tr>\n",
       "    <tr>\n",
       "      <th>income_avg</th>\n",
       "      <th></th>\n",
       "      <th></th>\n",
       "      <th></th>\n",
       "      <th></th>\n",
       "      <th></th>\n",
       "      <th></th>\n",
       "    </tr>\n",
       "  </thead>\n",
       "  <tbody>\n",
       "    <tr>\n",
       "      <th>above average</th>\n",
       "      <td>9492</td>\n",
       "      <td>0.0772</td>\n",
       "      <td>0.2670</td>\n",
       "      <td>0.0027</td>\n",
       "      <td>0.0719</td>\n",
       "      <td>0.0826</td>\n",
       "    </tr>\n",
       "    <tr>\n",
       "      <th>below average</th>\n",
       "      <td>11813</td>\n",
       "      <td>0.0846</td>\n",
       "      <td>0.2782</td>\n",
       "      <td>0.0026</td>\n",
       "      <td>0.0795</td>\n",
       "      <td>0.0896</td>\n",
       "    </tr>\n",
       "  </tbody>\n",
       "</table>\n",
       "</div>"
      ],
      "text/plain": [
       "                   N    Mean      SD      SE  95% Conf.  Interval\n",
       "income_avg                                                       \n",
       "above average   9492  0.0772  0.2670  0.0027     0.0719    0.0826\n",
       "below average  11813  0.0846  0.2782  0.0026     0.0795    0.0896"
      ]
     },
     "execution_count": 79,
     "metadata": {},
     "output_type": "execute_result"
    }
   ],
   "source": [
    "#summary stats for each income group \n",
    "display(rp.summary_cont(credit_scoring.groupby('income_group')['debt']))\n",
    "#summar stats for those above and below the income average \n",
    "rp.summary_cont(credit_scoring.groupby('income_avg')['debt'])\n"
   ]
  },
  {
   "cell_type": "markdown",
   "metadata": {},
   "source": [
    "#### Conclusion"
   ]
  },
  {
   "cell_type": "markdown",
   "metadata": {},
   "source": [
    "Looking at the first classification of income groups, those in the low income group were more likely to default on their loan than those in the middle income group. Since, the upper income group only had 48 observations, it is not a surprise that we cannot infer much about their default rates. Next, looking at income average, there is not a clear difference in default rates among those above and below average income."
   ]
  },
  {
   "cell_type": "markdown",
   "metadata": {},
   "source": [
    "### How do different loan purposes affect on-time repayment of the loan?"
   ]
  },
  {
   "cell_type": "code",
   "execution_count": 80,
   "metadata": {},
   "outputs": [
    {
     "name": "stdout",
     "output_type": "stream",
     "text": [
      "\n",
      "\n"
     ]
    },
    {
     "data": {
      "text/html": [
       "<div>\n",
       "<style scoped>\n",
       "    .dataframe tbody tr th:only-of-type {\n",
       "        vertical-align: middle;\n",
       "    }\n",
       "\n",
       "    .dataframe tbody tr th {\n",
       "        vertical-align: top;\n",
       "    }\n",
       "\n",
       "    .dataframe thead th {\n",
       "        text-align: right;\n",
       "    }\n",
       "</style>\n",
       "<table border=\"1\" class=\"dataframe\">\n",
       "  <thead>\n",
       "    <tr style=\"text-align: right;\">\n",
       "      <th></th>\n",
       "      <th>N</th>\n",
       "      <th>Mean</th>\n",
       "      <th>SD</th>\n",
       "      <th>SE</th>\n",
       "      <th>95% Conf.</th>\n",
       "      <th>Interval</th>\n",
       "    </tr>\n",
       "    <tr>\n",
       "      <th>loan_purpose_general</th>\n",
       "      <th></th>\n",
       "      <th></th>\n",
       "      <th></th>\n",
       "      <th></th>\n",
       "      <th></th>\n",
       "      <th></th>\n",
       "    </tr>\n",
       "  </thead>\n",
       "  <tbody>\n",
       "    <tr>\n",
       "      <th>car</th>\n",
       "      <td>4273</td>\n",
       "      <td>0.0934</td>\n",
       "      <td>0.2910</td>\n",
       "      <td>0.0045</td>\n",
       "      <td>0.0846</td>\n",
       "      <td>0.1021</td>\n",
       "    </tr>\n",
       "    <tr>\n",
       "      <th>education</th>\n",
       "      <td>3985</td>\n",
       "      <td>0.0928</td>\n",
       "      <td>0.2903</td>\n",
       "      <td>0.0046</td>\n",
       "      <td>0.0838</td>\n",
       "      <td>0.1019</td>\n",
       "    </tr>\n",
       "    <tr>\n",
       "      <th>house</th>\n",
       "      <td>10739</td>\n",
       "      <td>0.0725</td>\n",
       "      <td>0.2594</td>\n",
       "      <td>0.0025</td>\n",
       "      <td>0.0676</td>\n",
       "      <td>0.0774</td>\n",
       "    </tr>\n",
       "    <tr>\n",
       "      <th>wedding</th>\n",
       "      <td>2308</td>\n",
       "      <td>0.0797</td>\n",
       "      <td>0.2709</td>\n",
       "      <td>0.0056</td>\n",
       "      <td>0.0687</td>\n",
       "      <td>0.0908</td>\n",
       "    </tr>\n",
       "  </tbody>\n",
       "</table>\n",
       "</div>"
      ],
      "text/plain": [
       "                          N    Mean      SD      SE  95% Conf.  Interval\n",
       "loan_purpose_general                                                    \n",
       "car                    4273  0.0934  0.2910  0.0045     0.0846    0.1021\n",
       "education              3985  0.0928  0.2903  0.0046     0.0838    0.1019\n",
       "house                 10739  0.0725  0.2594  0.0025     0.0676    0.0774\n",
       "wedding                2308  0.0797  0.2709  0.0056     0.0687    0.0908"
      ]
     },
     "execution_count": 80,
     "metadata": {},
     "output_type": "execute_result"
    }
   ],
   "source": [
    "#summary stats for different purposes\n",
    "rp.summary_cont(credit_scoring.groupby('loan_purpose_general')['debt'])\n"
   ]
  },
  {
   "cell_type": "markdown",
   "metadata": {},
   "source": [
    "#### Conclusion"
   ]
  },
  {
   "cell_type": "markdown",
   "metadata": {},
   "source": [
    "Those who take out a loan for a car or education are more likely to default on their loan than those who take out a loan for a house. Also, weddings have lower loan default rates, but not at the significance level as houses. "
   ]
  },
  {
   "cell_type": "markdown",
   "metadata": {},
   "source": [
    "## General conclusion"
   ]
  },
  {
   "cell_type": "markdown",
   "metadata": {},
   "source": [
    "In general, this project helped us better understand some key factors in default rates on loans. \n",
    "\n",
    "**Cleaning Summary:** \n",
    "1. I noticed 82% of the `days_employed` values were negative which made no logical sense. In my project, I assumed the error was an instance of accidental negative signs and took the absolute value of the days_employed variable. Yet, this is an issue that, in the real world, would need to be discussed and addressed with the person who gathered the data to figure out the exact error. \n",
    "2. I looked at the missing values for the `total_income` and `days_employed` variables. After looking at the correlation between the missing data and other variables, I was able to conclude that the data seems to be missing completely at random and imputed missing values. \n",
    "3. I looked at duplicated values and deleted them. There is an argument to be made for not deleting duplicate values in this situation, due to the lack of a unique identifier, but since there were only 71 duplicates, deleting them will not change our general conclusions. \n",
    "\n",
    "**Analysis Summary:**\n",
    "For our questions of interest, I was able to find a few characteristics that seemed to have an impact on the default rate. \n",
    "1. People who have a child have higher default rates on a loan. This makes sense because taking care of children can be very costly and decrease one's income they can put towards their loan. \n",
    "2. Those that are married are less likely to default on their loan. One of the reasons this may be the case is because it increases household income and reduces the effect of one partner losing their job on the ability of the household to pay back the loan. \n",
    "3. Those in the lower-income bracket were more likely to default on a loan than those in the middle-income bracket. Beyond the obvious reason of having a lower income, I think this also arises due to the fact that low-income jobs are more volatile in terms of monthly income and job safety. This idea is discussed in an [article](https://www.cbpp.org/research/poverty-and-inequality/most-workers-in-low-wage-labor-market-work-substantial-hours-in) released in 2018 by the Center on Budget and Policy Priorities. \n",
    "4. Loans for cars and education have higher default rates than loans for houses. One of the reasons I believe this occurs is due to the ease of buying a car and the lack of quality job certainty with an undergraduate degree.  \n",
    "\n",
    "Overall, while I think there are characteristics here that can help predict loan default rates, there are many social issues with using them for a credit score. I think punishing people for having children or being single would cause significant backlash toward the company. My recommendation would be to focus on more concrete data points such as credit payment history, current loans, etc. \n",
    "\n",
    "\n"
   ]
  }
 ],
 "metadata": {
  "ExecuteTimeLog": [
   {
    "duration": 9856,
    "start_time": "2021-07-20T19:05:34.761Z"
   },
   {
    "duration": 187,
    "start_time": "2021-07-20T19:06:03.836Z"
   },
   {
    "duration": 22,
    "start_time": "2021-07-20T19:14:48.358Z"
   },
   {
    "duration": 457,
    "start_time": "2021-07-20T19:16:57.489Z"
   },
   {
    "duration": 19,
    "start_time": "2021-07-20T19:17:12.241Z"
   },
   {
    "duration": 20,
    "start_time": "2021-07-20T19:18:52.343Z"
   },
   {
    "duration": 21,
    "start_time": "2021-07-20T19:19:40.199Z"
   },
   {
    "duration": 21,
    "start_time": "2021-07-20T19:20:26.599Z"
   },
   {
    "duration": 21,
    "start_time": "2021-07-20T19:20:36.891Z"
   },
   {
    "duration": 20,
    "start_time": "2021-07-20T19:20:40.489Z"
   },
   {
    "duration": 15,
    "start_time": "2021-07-20T19:21:15.079Z"
   },
   {
    "duration": 20,
    "start_time": "2021-07-20T19:21:30.985Z"
   },
   {
    "duration": 25,
    "start_time": "2021-07-20T19:21:55.343Z"
   },
   {
    "duration": 883,
    "start_time": "2021-07-20T19:23:42.962Z"
   },
   {
    "duration": 29,
    "start_time": "2021-07-20T19:24:26.099Z"
   },
   {
    "duration": 15,
    "start_time": "2021-07-20T19:27:24.916Z"
   },
   {
    "duration": 24,
    "start_time": "2021-07-20T19:27:42.100Z"
   },
   {
    "duration": 26,
    "start_time": "2021-07-20T19:28:40.535Z"
   },
   {
    "duration": 8,
    "start_time": "2021-07-20T19:29:25.754Z"
   },
   {
    "duration": 5,
    "start_time": "2021-07-20T19:30:36.099Z"
   },
   {
    "duration": 5,
    "start_time": "2021-07-20T19:30:38.916Z"
   },
   {
    "duration": 6,
    "start_time": "2021-07-20T19:30:45.533Z"
   },
   {
    "duration": 7,
    "start_time": "2021-07-20T19:35:10.175Z"
   },
   {
    "duration": 8,
    "start_time": "2021-07-20T19:36:27.324Z"
   },
   {
    "duration": 105,
    "start_time": "2021-07-20T19:40:17.696Z"
   },
   {
    "duration": 678,
    "start_time": "2021-07-20T19:40:57.328Z"
   },
   {
    "duration": 142,
    "start_time": "2021-07-20T19:41:53.528Z"
   },
   {
    "duration": 1668,
    "start_time": "2021-07-20T19:42:00.439Z"
   },
   {
    "duration": 715,
    "start_time": "2021-07-20T19:42:09.194Z"
   },
   {
    "duration": 396,
    "start_time": "2021-07-20T19:43:06.398Z"
   },
   {
    "duration": 59,
    "start_time": "2021-07-20T19:43:13.262Z"
   },
   {
    "duration": 56,
    "start_time": "2021-07-20T19:43:22.084Z"
   },
   {
    "duration": 59,
    "start_time": "2021-07-20T19:43:36.590Z"
   },
   {
    "duration": 108,
    "start_time": "2021-07-20T19:44:47.155Z"
   },
   {
    "duration": 108,
    "start_time": "2021-07-20T19:45:03.952Z"
   },
   {
    "duration": 81,
    "start_time": "2021-07-20T19:45:26.082Z"
   },
   {
    "duration": 83,
    "start_time": "2021-07-20T19:45:55.131Z"
   },
   {
    "duration": 90,
    "start_time": "2021-07-20T19:46:11.327Z"
   },
   {
    "duration": 90,
    "start_time": "2021-07-20T19:46:46.765Z"
   },
   {
    "duration": 91,
    "start_time": "2021-07-20T19:46:53.830Z"
   },
   {
    "duration": 359,
    "start_time": "2021-07-20T19:53:52.067Z"
   },
   {
    "duration": 1722,
    "start_time": "2021-07-20T19:56:28.255Z"
   },
   {
    "duration": 167,
    "start_time": "2021-07-20T19:56:51.696Z"
   },
   {
    "duration": 234,
    "start_time": "2021-07-20T19:57:03.990Z"
   },
   {
    "duration": 78,
    "start_time": "2021-07-20T19:57:07.847Z"
   },
   {
    "duration": 75,
    "start_time": "2021-07-20T19:59:11.337Z"
   },
   {
    "duration": 1545,
    "start_time": "2021-07-20T20:00:48.061Z"
   },
   {
    "duration": 201,
    "start_time": "2021-07-20T20:01:46.363Z"
   },
   {
    "duration": 218,
    "start_time": "2021-07-20T20:02:21.093Z"
   },
   {
    "duration": 233,
    "start_time": "2021-07-20T20:02:29.360Z"
   },
   {
    "duration": 208,
    "start_time": "2021-07-20T20:03:03.533Z"
   },
   {
    "duration": 172,
    "start_time": "2021-07-20T20:09:36.469Z"
   },
   {
    "duration": 15227,
    "start_time": "2021-07-20T20:09:52.284Z"
   },
   {
    "duration": -161907,
    "start_time": "2021-07-20T20:16:19.160Z"
   },
   {
    "duration": 12452,
    "start_time": "2021-07-20T20:15:52.628Z"
   },
   {
    "duration": 14,
    "start_time": "2021-07-20T20:16:56.314Z"
   },
   {
    "duration": 16,
    "start_time": "2021-07-20T20:18:20.248Z"
   },
   {
    "duration": 9146,
    "start_time": "2021-07-20T20:18:47.815Z"
   },
   {
    "duration": 228,
    "start_time": "2021-07-20T20:19:12.520Z"
   },
   {
    "duration": 10191,
    "start_time": "2021-07-20T20:19:32.556Z"
   },
   {
    "duration": 227,
    "start_time": "2021-07-20T20:29:58.584Z"
   },
   {
    "duration": 354,
    "start_time": "2021-07-20T20:30:40.438Z"
   },
   {
    "duration": 521,
    "start_time": "2021-07-20T20:31:17.303Z"
   },
   {
    "duration": 353,
    "start_time": "2021-07-20T20:31:58.320Z"
   },
   {
    "duration": 239,
    "start_time": "2021-07-20T20:32:15.514Z"
   },
   {
    "duration": 338,
    "start_time": "2021-07-20T20:32:46.069Z"
   },
   {
    "duration": 339,
    "start_time": "2021-07-20T20:39:10.784Z"
   },
   {
    "duration": 337,
    "start_time": "2021-07-20T20:39:30.991Z"
   },
   {
    "duration": 4,
    "start_time": "2021-07-20T20:41:40.022Z"
   },
   {
    "duration": 7,
    "start_time": "2021-07-20T20:41:46.806Z"
   },
   {
    "duration": 6,
    "start_time": "2021-07-20T20:41:56.376Z"
   },
   {
    "duration": 10,
    "start_time": "2021-07-20T20:43:39.127Z"
   },
   {
    "duration": 11,
    "start_time": "2021-07-20T20:44:06.754Z"
   },
   {
    "duration": 344,
    "start_time": "2021-07-20T20:50:11.497Z"
   },
   {
    "duration": 6,
    "start_time": "2021-07-20T20:53:39.811Z"
   },
   {
    "duration": 29,
    "start_time": "2021-07-20T20:55:55.025Z"
   },
   {
    "duration": 11,
    "start_time": "2021-07-20T20:56:18.958Z"
   },
   {
    "duration": 14,
    "start_time": "2021-07-20T20:56:28.862Z"
   },
   {
    "duration": 9,
    "start_time": "2021-07-20T20:56:38.457Z"
   },
   {
    "duration": 25,
    "start_time": "2021-07-20T20:56:46.920Z"
   },
   {
    "duration": 9,
    "start_time": "2021-07-20T20:56:58.780Z"
   },
   {
    "duration": 111,
    "start_time": "2021-07-20T20:58:37.956Z"
   },
   {
    "duration": 16,
    "start_time": "2021-07-20T20:59:01.985Z"
   },
   {
    "duration": 22,
    "start_time": "2021-07-20T21:07:08.705Z"
   },
   {
    "duration": 17,
    "start_time": "2021-07-20T21:07:22.339Z"
   },
   {
    "duration": 2172,
    "start_time": "2021-07-20T21:08:13.411Z"
   },
   {
    "duration": 2022,
    "start_time": "2021-07-20T21:08:16.031Z"
   },
   {
    "duration": 22,
    "start_time": "2021-07-20T21:08:27.317Z"
   },
   {
    "duration": 14,
    "start_time": "2021-07-20T21:09:21.702Z"
   },
   {
    "duration": 16,
    "start_time": "2021-07-20T21:09:27.755Z"
   },
   {
    "duration": 821,
    "start_time": "2021-07-20T21:16:00.391Z"
   },
   {
    "duration": 20,
    "start_time": "2021-07-20T21:16:23.251Z"
   },
   {
    "duration": 17,
    "start_time": "2021-07-20T21:17:30.426Z"
   },
   {
    "duration": 710,
    "start_time": "2021-07-20T21:17:39.104Z"
   },
   {
    "duration": 350,
    "start_time": "2021-07-20T21:18:00.485Z"
   },
   {
    "duration": 352,
    "start_time": "2021-07-20T21:18:25.147Z"
   },
   {
    "duration": 377,
    "start_time": "2021-07-20T21:18:54.851Z"
   },
   {
    "duration": 730,
    "start_time": "2021-07-20T21:19:31.057Z"
   },
   {
    "duration": 425,
    "start_time": "2021-07-20T21:19:34.525Z"
   },
   {
    "duration": 330,
    "start_time": "2021-07-20T21:19:37.866Z"
   },
   {
    "duration": 332,
    "start_time": "2021-07-20T21:19:41.303Z"
   },
   {
    "duration": 342,
    "start_time": "2021-07-20T21:20:19.134Z"
   },
   {
    "duration": 329,
    "start_time": "2021-07-20T21:20:43.444Z"
   },
   {
    "duration": 1307,
    "start_time": "2021-07-20T21:20:52.222Z"
   },
   {
    "duration": 326,
    "start_time": "2021-07-20T21:21:48.213Z"
   },
   {
    "duration": 960,
    "start_time": "2021-07-20T21:21:58.387Z"
   },
   {
    "duration": 26,
    "start_time": "2021-07-20T21:22:09.694Z"
   },
   {
    "duration": 17,
    "start_time": "2021-07-20T21:22:14.819Z"
   },
   {
    "duration": 17,
    "start_time": "2021-07-20T21:22:22.047Z"
   },
   {
    "duration": 29,
    "start_time": "2021-07-20T21:22:28.922Z"
   },
   {
    "duration": 77,
    "start_time": "2021-07-20T21:25:34.549Z"
   },
   {
    "duration": 372,
    "start_time": "2021-07-20T21:27:13.553Z"
   },
   {
    "duration": 80,
    "start_time": "2021-07-20T21:27:28.686Z"
   },
   {
    "duration": 83,
    "start_time": "2021-07-20T21:27:45.639Z"
   },
   {
    "duration": 110,
    "start_time": "2021-07-20T21:29:03.433Z"
   },
   {
    "duration": 92,
    "start_time": "2021-07-20T21:29:48.294Z"
   },
   {
    "duration": 91,
    "start_time": "2021-07-20T21:29:53.109Z"
   },
   {
    "duration": 88,
    "start_time": "2021-07-20T21:30:13.781Z"
   },
   {
    "duration": 97,
    "start_time": "2021-07-20T21:33:12.486Z"
   },
   {
    "duration": 94,
    "start_time": "2021-07-20T21:35:12.811Z"
   },
   {
    "duration": 1206,
    "start_time": "2021-07-20T21:38:22.940Z"
   },
   {
    "duration": 108,
    "start_time": "2021-07-20T21:38:48.932Z"
   },
   {
    "duration": 104,
    "start_time": "2021-07-20T21:39:16.542Z"
   },
   {
    "duration": 848,
    "start_time": "2021-07-20T21:39:34.940Z"
   },
   {
    "duration": 110,
    "start_time": "2021-07-20T21:39:43.648Z"
   },
   {
    "duration": 1005,
    "start_time": "2021-07-20T21:40:16.777Z"
   },
   {
    "duration": 88,
    "start_time": "2021-07-20T21:40:24.926Z"
   },
   {
    "duration": 95,
    "start_time": "2021-07-20T21:40:56.411Z"
   },
   {
    "duration": 106,
    "start_time": "2021-07-20T21:41:01.404Z"
   },
   {
    "duration": 100,
    "start_time": "2021-07-20T21:41:23.246Z"
   },
   {
    "duration": 78,
    "start_time": "2021-07-20T21:41:46.211Z"
   },
   {
    "duration": 813,
    "start_time": "2021-07-20T21:42:33.898Z"
   },
   {
    "duration": 114,
    "start_time": "2021-07-20T21:42:55.952Z"
   },
   {
    "duration": 103,
    "start_time": "2021-07-20T21:43:16.666Z"
   },
   {
    "duration": 102,
    "start_time": "2021-07-20T21:44:28.662Z"
   },
   {
    "duration": 18,
    "start_time": "2021-07-20T21:44:59.174Z"
   },
   {
    "duration": 17,
    "start_time": "2021-07-20T21:48:41.281Z"
   },
   {
    "duration": 13,
    "start_time": "2021-07-20T21:49:15.676Z"
   },
   {
    "duration": 19,
    "start_time": "2021-07-20T21:50:00.082Z"
   },
   {
    "duration": 24,
    "start_time": "2021-07-20T21:50:14.814Z"
   },
   {
    "duration": 114,
    "start_time": "2021-07-20T21:50:31.124Z"
   },
   {
    "duration": 22,
    "start_time": "2021-07-20T21:51:16.626Z"
   },
   {
    "duration": 368,
    "start_time": "2021-07-20T21:52:48.698Z"
   },
   {
    "duration": 17,
    "start_time": "2021-07-20T21:53:25.547Z"
   },
   {
    "duration": 52,
    "start_time": "2021-07-20T21:54:50.883Z"
   },
   {
    "duration": 72,
    "start_time": "2021-07-20T21:55:03.317Z"
   },
   {
    "duration": 143,
    "start_time": "2021-07-20T21:57:37.114Z"
   },
   {
    "duration": 73,
    "start_time": "2021-07-20T21:59:36.568Z"
   },
   {
    "duration": 75,
    "start_time": "2021-07-20T21:59:51.538Z"
   },
   {
    "duration": 79,
    "start_time": "2021-07-20T22:00:07.458Z"
   },
   {
    "duration": 26,
    "start_time": "2021-07-20T22:00:23.612Z"
   },
   {
    "duration": 75,
    "start_time": "2021-07-20T22:00:27.943Z"
   },
   {
    "duration": 75,
    "start_time": "2021-07-20T22:00:50.149Z"
   },
   {
    "duration": 105,
    "start_time": "2021-07-20T22:04:35.967Z"
   },
   {
    "duration": 15,
    "start_time": "2021-07-20T22:04:54.104Z"
   },
   {
    "duration": 23,
    "start_time": "2021-07-20T22:05:04.862Z"
   },
   {
    "duration": 13,
    "start_time": "2021-07-20T22:05:07.788Z"
   },
   {
    "duration": 11,
    "start_time": "2021-07-20T22:08:11.198Z"
   },
   {
    "duration": 106,
    "start_time": "2021-07-20T22:09:33.722Z"
   },
   {
    "duration": 114,
    "start_time": "2021-07-21T17:10:29.037Z"
   },
   {
    "duration": 396,
    "start_time": "2021-07-21T17:10:38.954Z"
   },
   {
    "duration": 283,
    "start_time": "2021-07-21T17:10:46.396Z"
   },
   {
    "duration": 897,
    "start_time": "2021-07-21T17:11:05.630Z"
   },
   {
    "duration": 340,
    "start_time": "2021-07-21T17:11:11.197Z"
   },
   {
    "duration": 25,
    "start_time": "2021-07-21T17:11:14.465Z"
   },
   {
    "duration": 128,
    "start_time": "2021-07-21T17:11:19.009Z"
   },
   {
    "duration": 89,
    "start_time": "2021-07-21T17:11:22.351Z"
   },
   {
    "duration": 45,
    "start_time": "2021-07-21T17:11:24.270Z"
   },
   {
    "duration": 20,
    "start_time": "2021-07-21T17:11:44.464Z"
   },
   {
    "duration": 33,
    "start_time": "2021-07-21T17:18:03.366Z"
   },
   {
    "duration": 108,
    "start_time": "2021-07-21T17:23:56.928Z"
   },
   {
    "duration": 112,
    "start_time": "2021-07-21T17:24:30.134Z"
   },
   {
    "duration": 93,
    "start_time": "2021-07-21T17:25:15.588Z"
   },
   {
    "duration": 2153,
    "start_time": "2021-07-21T17:42:17.919Z"
   },
   {
    "duration": 626,
    "start_time": "2021-07-21T17:42:35.467Z"
   },
   {
    "duration": 38,
    "start_time": "2021-07-21T17:43:57.250Z"
   },
   {
    "duration": 19,
    "start_time": "2021-07-21T17:44:25.135Z"
   },
   {
    "duration": 57,
    "start_time": "2021-07-21T17:47:37.174Z"
   },
   {
    "duration": 25,
    "start_time": "2021-07-21T17:49:30.496Z"
   },
   {
    "duration": 18,
    "start_time": "2021-07-21T17:51:04.205Z"
   },
   {
    "duration": 20,
    "start_time": "2021-07-21T17:51:09.337Z"
   },
   {
    "duration": 28,
    "start_time": "2021-07-21T17:52:04.525Z"
   },
   {
    "duration": 1224,
    "start_time": "2021-07-21T18:04:13.924Z"
   },
   {
    "duration": 1407,
    "start_time": "2021-07-21T18:06:12.342Z"
   },
   {
    "duration": 1104,
    "start_time": "2021-07-21T18:07:24.454Z"
   },
   {
    "duration": 13844,
    "start_time": "2021-07-21T18:08:43.058Z"
   },
   {
    "duration": 1079,
    "start_time": "2021-07-21T18:10:13.341Z"
   },
   {
    "duration": 447,
    "start_time": "2021-07-21T18:12:06.081Z"
   },
   {
    "duration": 423,
    "start_time": "2021-07-21T18:12:33.493Z"
   },
   {
    "duration": 432,
    "start_time": "2021-07-21T18:13:30.854Z"
   },
   {
    "duration": 1073,
    "start_time": "2021-07-21T18:14:28.212Z"
   },
   {
    "duration": 14352,
    "start_time": "2021-07-21T18:14:44.417Z"
   },
   {
    "duration": 1042,
    "start_time": "2021-07-21T18:16:05.608Z"
   },
   {
    "duration": 1033,
    "start_time": "2021-07-21T18:17:11.263Z"
   },
   {
    "duration": 997,
    "start_time": "2021-07-21T18:18:45.718Z"
   },
   {
    "duration": 1301,
    "start_time": "2021-07-21T18:19:14.237Z"
   },
   {
    "duration": 981,
    "start_time": "2021-07-21T18:19:22.719Z"
   },
   {
    "duration": 965,
    "start_time": "2021-07-21T18:19:30.613Z"
   },
   {
    "duration": 672,
    "start_time": "2021-07-21T18:20:10.431Z"
   },
   {
    "duration": 21,
    "start_time": "2021-07-21T18:20:19.768Z"
   },
   {
    "duration": 669,
    "start_time": "2021-07-21T18:21:25.538Z"
   },
   {
    "duration": 32,
    "start_time": "2021-07-21T18:21:34.220Z"
   },
   {
    "duration": 270,
    "start_time": "2021-07-21T18:22:49.556Z"
   },
   {
    "duration": 47,
    "start_time": "2021-07-21T18:24:14.797Z"
   },
   {
    "duration": 86,
    "start_time": "2021-07-21T18:24:54.645Z"
   },
   {
    "duration": 186,
    "start_time": "2021-07-21T18:26:35.589Z"
   },
   {
    "duration": 45,
    "start_time": "2021-07-21T18:26:43.559Z"
   },
   {
    "duration": 83,
    "start_time": "2021-07-21T18:28:22.986Z"
   },
   {
    "duration": 408,
    "start_time": "2021-07-21T18:28:30.467Z"
   },
   {
    "duration": 46,
    "start_time": "2021-07-21T18:29:13.522Z"
   },
   {
    "duration": 46,
    "start_time": "2021-07-21T18:30:46.678Z"
   },
   {
    "duration": 20,
    "start_time": "2021-07-21T18:31:08.039Z"
   },
   {
    "duration": 67,
    "start_time": "2021-07-21T18:31:17.275Z"
   },
   {
    "duration": 43,
    "start_time": "2021-07-21T18:33:32.231Z"
   },
   {
    "duration": 980,
    "start_time": "2021-07-21T18:36:46.959Z"
   },
   {
    "duration": 7881,
    "start_time": "2021-07-21T18:37:01.464Z"
   },
   {
    "duration": 87,
    "start_time": "2021-07-21T18:37:46.808Z"
   },
   {
    "duration": 369,
    "start_time": "2021-07-22T01:15:32.619Z"
   },
   {
    "duration": 374,
    "start_time": "2021-07-22T01:16:01.699Z"
   },
   {
    "duration": 420,
    "start_time": "2021-07-22T01:16:47.345Z"
   },
   {
    "duration": 106,
    "start_time": "2021-07-22T01:17:07.852Z"
   },
   {
    "duration": 330,
    "start_time": "2021-07-22T01:19:05.556Z"
   },
   {
    "duration": 315,
    "start_time": "2021-07-22T01:19:14.671Z"
   },
   {
    "duration": 328,
    "start_time": "2021-07-22T01:20:00.853Z"
   },
   {
    "duration": 25,
    "start_time": "2021-07-22T01:26:16.357Z"
   },
   {
    "duration": 32,
    "start_time": "2021-07-22T01:26:28.085Z"
   },
   {
    "duration": 89,
    "start_time": "2021-07-22T01:28:19.031Z"
   },
   {
    "duration": 92,
    "start_time": "2021-07-22T01:30:48.695Z"
   },
   {
    "duration": 115,
    "start_time": "2021-07-22T01:30:57.562Z"
   },
   {
    "duration": 1130,
    "start_time": "2021-07-22T08:31:20.784Z"
   },
   {
    "duration": 137,
    "start_time": "2021-07-22T08:47:36.412Z"
   },
   {
    "duration": 145,
    "start_time": "2021-07-22T08:50:14.388Z"
   },
   {
    "duration": 131,
    "start_time": "2021-07-22T09:21:39.166Z"
   },
   {
    "duration": 126,
    "start_time": "2021-07-22T09:24:50.842Z"
   },
   {
    "duration": 131,
    "start_time": "2021-07-22T09:39:10.170Z"
   },
   {
    "duration": 116,
    "start_time": "2021-07-22T09:43:58.886Z"
   },
   {
    "duration": 142,
    "start_time": "2021-07-22T15:49:50.689Z"
   },
   {
    "duration": 456,
    "start_time": "2021-07-22T15:50:39.731Z"
   },
   {
    "duration": 913,
    "start_time": "2021-07-22T15:51:19.852Z"
   },
   {
    "duration": 353,
    "start_time": "2021-07-22T15:51:23.787Z"
   },
   {
    "duration": 27,
    "start_time": "2021-07-22T15:51:28.992Z"
   },
   {
    "duration": 110,
    "start_time": "2021-07-22T15:51:32.181Z"
   },
   {
    "duration": 6367,
    "start_time": "2021-07-22T15:51:40.158Z"
   },
   {
    "duration": 51,
    "start_time": "2021-07-22T15:51:50.480Z"
   },
   {
    "duration": 123,
    "start_time": "2021-07-22T16:38:15.982Z"
   },
   {
    "duration": 107,
    "start_time": "2021-07-22T16:38:38.981Z"
   },
   {
    "duration": 343,
    "start_time": "2021-07-22T16:38:48.016Z"
   },
   {
    "duration": 27,
    "start_time": "2021-07-22T16:38:51.654Z"
   },
   {
    "duration": 97,
    "start_time": "2021-07-22T16:42:14.724Z"
   },
   {
    "duration": 100,
    "start_time": "2021-07-22T16:43:01.353Z"
   },
   {
    "duration": 26,
    "start_time": "2021-07-22T16:43:27.966Z"
   },
   {
    "duration": 498,
    "start_time": "2021-07-22T16:44:33.202Z"
   },
   {
    "duration": 5230,
    "start_time": "2021-07-22T16:44:52.003Z"
   },
   {
    "duration": 98,
    "start_time": "2021-07-22T16:44:57.235Z"
   },
   {
    "duration": 77,
    "start_time": "2021-07-22T16:45:48.334Z"
   },
   {
    "duration": 9167,
    "start_time": "2021-07-22T16:50:30.568Z"
   },
   {
    "duration": 74,
    "start_time": "2021-07-22T16:52:07.242Z"
   },
   {
    "duration": 73,
    "start_time": "2021-07-22T16:54:33.042Z"
   },
   {
    "duration": 77,
    "start_time": "2021-07-22T16:55:04.696Z"
   },
   {
    "duration": 73,
    "start_time": "2021-07-22T16:55:21.208Z"
   },
   {
    "duration": 79,
    "start_time": "2021-07-22T16:55:24.211Z"
   },
   {
    "duration": 1003,
    "start_time": "2021-07-22T16:59:42.124Z"
   },
   {
    "duration": 1062,
    "start_time": "2021-07-22T17:01:00.720Z"
   },
   {
    "duration": 471,
    "start_time": "2021-07-22T17:02:51.839Z"
   },
   {
    "duration": 424,
    "start_time": "2021-07-22T17:02:59.019Z"
   },
   {
    "duration": 124,
    "start_time": "2021-07-22T17:04:11.464Z"
   },
   {
    "duration": 126,
    "start_time": "2021-07-22T17:05:33.666Z"
   },
   {
    "duration": 5662,
    "start_time": "2021-07-22T17:05:58.880Z"
   },
   {
    "duration": 3610,
    "start_time": "2021-07-22T17:06:17.287Z"
   },
   {
    "duration": 3962,
    "start_time": "2021-07-22T17:06:31.709Z"
   },
   {
    "duration": 3783,
    "start_time": "2021-07-22T17:07:21.220Z"
   },
   {
    "duration": 3534,
    "start_time": "2021-07-22T17:07:31.787Z"
   },
   {
    "duration": 4059,
    "start_time": "2021-07-22T17:11:51.665Z"
   },
   {
    "duration": 3375,
    "start_time": "2021-07-22T17:12:31.336Z"
   },
   {
    "duration": 4505,
    "start_time": "2021-07-22T17:15:37.186Z"
   },
   {
    "duration": 4756,
    "start_time": "2021-07-22T17:17:02.208Z"
   },
   {
    "duration": 69,
    "start_time": "2021-07-22T17:22:08.277Z"
   },
   {
    "duration": 5226,
    "start_time": "2021-07-22T17:25:22.145Z"
   },
   {
    "duration": 89,
    "start_time": "2021-07-22T17:26:45.817Z"
   },
   {
    "duration": 113,
    "start_time": "2021-07-22T17:27:12.870Z"
   },
   {
    "duration": 136,
    "start_time": "2021-07-22T17:28:11.930Z"
   },
   {
    "duration": 124,
    "start_time": "2021-07-22T17:28:46.676Z"
   },
   {
    "duration": 113,
    "start_time": "2021-07-22T17:29:28.965Z"
   },
   {
    "duration": 95,
    "start_time": "2021-07-22T17:30:13.180Z"
   },
   {
    "duration": 159,
    "start_time": "2021-07-22T17:32:56.901Z"
   },
   {
    "duration": 100,
    "start_time": "2021-07-22T17:36:48.012Z"
   },
   {
    "duration": 5150,
    "start_time": "2021-07-22T17:37:17.384Z"
   },
   {
    "duration": 30,
    "start_time": "2021-07-22T17:37:35.723Z"
   },
   {
    "duration": 99,
    "start_time": "2021-07-22T17:37:46.792Z"
   },
   {
    "duration": 5006,
    "start_time": "2021-07-22T17:38:09.423Z"
   },
   {
    "duration": 363,
    "start_time": "2021-07-22T17:38:18.250Z"
   },
   {
    "duration": 27,
    "start_time": "2021-07-22T17:38:23.612Z"
   },
   {
    "duration": 110,
    "start_time": "2021-07-22T17:38:27.621Z"
   },
   {
    "duration": 5627,
    "start_time": "2021-07-22T17:38:34.009Z"
   },
   {
    "duration": 131,
    "start_time": "2021-07-22T17:38:43.057Z"
   },
   {
    "duration": 119,
    "start_time": "2021-07-22T17:38:47.668Z"
   },
   {
    "duration": 100,
    "start_time": "2021-07-22T17:38:51.948Z"
   },
   {
    "duration": 122,
    "start_time": "2021-07-22T17:40:30.308Z"
   },
   {
    "duration": 30,
    "start_time": "2021-07-22T17:45:49.608Z"
   },
   {
    "duration": 46,
    "start_time": "2021-07-22T17:46:14.046Z"
   },
   {
    "duration": 5041,
    "start_time": "2021-07-22T17:46:35.211Z"
   },
   {
    "duration": 386,
    "start_time": "2021-07-22T17:46:40.254Z"
   },
   {
    "duration": 51,
    "start_time": "2021-07-22T17:46:40.644Z"
   },
   {
    "duration": 122,
    "start_time": "2021-07-22T17:46:40.697Z"
   },
   {
    "duration": 5560,
    "start_time": "2021-07-22T17:46:40.823Z"
   },
   {
    "duration": 143,
    "start_time": "2021-07-22T17:46:46.385Z"
   },
   {
    "duration": 148,
    "start_time": "2021-07-22T17:46:46.530Z"
   },
   {
    "duration": 140,
    "start_time": "2021-07-22T17:46:46.681Z"
   },
   {
    "duration": 62,
    "start_time": "2021-07-22T17:46:46.824Z"
   },
   {
    "duration": 125,
    "start_time": "2021-07-22T17:47:12.532Z"
   },
   {
    "duration": 124,
    "start_time": "2021-07-22T17:47:15.800Z"
   },
   {
    "duration": 43,
    "start_time": "2021-07-22T17:47:48.790Z"
   },
   {
    "duration": 5304,
    "start_time": "2021-07-22T17:50:32.741Z"
   },
   {
    "duration": 368,
    "start_time": "2021-07-22T17:50:38.048Z"
   },
   {
    "duration": 603,
    "start_time": "2021-07-22T17:50:38.419Z"
   },
   {
    "duration": -166505,
    "start_time": "2021-07-22T17:53:25.530Z"
   },
   {
    "duration": -166505,
    "start_time": "2021-07-22T17:53:25.531Z"
   },
   {
    "duration": -166504,
    "start_time": "2021-07-22T17:53:25.532Z"
   },
   {
    "duration": -166506,
    "start_time": "2021-07-22T17:53:25.535Z"
   },
   {
    "duration": -166506,
    "start_time": "2021-07-22T17:53:25.536Z"
   },
   {
    "duration": -166507,
    "start_time": "2021-07-22T17:53:25.539Z"
   },
   {
    "duration": 30,
    "start_time": "2021-07-22T17:51:04.930Z"
   },
   {
    "duration": 140,
    "start_time": "2021-07-22T17:51:12.669Z"
   },
   {
    "duration": 5564,
    "start_time": "2021-07-22T17:51:15.731Z"
   },
   {
    "duration": 148,
    "start_time": "2021-07-22T17:51:24.602Z"
   },
   {
    "duration": 114,
    "start_time": "2021-07-22T17:51:27.784Z"
   },
   {
    "duration": 124,
    "start_time": "2021-07-22T17:51:31.467Z"
   },
   {
    "duration": 46,
    "start_time": "2021-07-22T17:53:38.876Z"
   },
   {
    "duration": 12824,
    "start_time": "2021-07-22T17:59:48.597Z"
   },
   {
    "duration": 142,
    "start_time": "2021-07-22T18:59:40.886Z"
   },
   {
    "duration": 139,
    "start_time": "2021-07-22T19:00:26.936Z"
   },
   {
    "duration": 180,
    "start_time": "2021-07-22T19:00:53.902Z"
   },
   {
    "duration": 102,
    "start_time": "2021-07-22T19:01:18.476Z"
   },
   {
    "duration": 126,
    "start_time": "2021-07-22T19:01:30.731Z"
   },
   {
    "duration": 48,
    "start_time": "2021-07-22T19:03:56.656Z"
   },
   {
    "duration": 65,
    "start_time": "2021-07-22T19:04:35.522Z"
   },
   {
    "duration": 13,
    "start_time": "2021-07-22T19:16:13.522Z"
   },
   {
    "duration": 47,
    "start_time": "2021-07-22T19:16:32.768Z"
   },
   {
    "duration": 111,
    "start_time": "2021-07-23T03:17:26.442Z"
   },
   {
    "duration": 103,
    "start_time": "2021-07-23T03:18:49.230Z"
   },
   {
    "duration": 111,
    "start_time": "2021-07-23T03:23:56.742Z"
   }
  ],
  "kernelspec": {
   "display_name": "Python 3 (ipykernel)",
   "language": "python",
   "name": "python3"
  },
  "language_info": {
   "codemirror_mode": {
    "name": "ipython",
    "version": 3
   },
   "file_extension": ".py",
   "mimetype": "text/x-python",
   "name": "python",
   "nbconvert_exporter": "python",
   "pygments_lexer": "ipython3",
   "version": "3.8.8"
  },
  "toc": {
   "base_numbering": 1,
   "nav_menu": {},
   "number_sections": true,
   "sideBar": true,
   "skip_h1_title": true,
   "title_cell": "Table of Contents",
   "title_sidebar": "Contents",
   "toc_cell": false,
   "toc_position": {},
   "toc_section_display": true,
   "toc_window_display": false
  },
  "varInspector": {
   "cols": {
    "lenName": 16,
    "lenType": 16,
    "lenVar": 40
   },
   "kernels_config": {
    "python": {
     "delete_cmd_postfix": "",
     "delete_cmd_prefix": "del ",
     "library": "var_list.py",
     "varRefreshCmd": "print(var_dic_list())"
    },
    "r": {
     "delete_cmd_postfix": ") ",
     "delete_cmd_prefix": "rm(",
     "library": "var_list.r",
     "varRefreshCmd": "cat(var_dic_list()) "
    }
   },
   "types_to_exclude": [
    "module",
    "function",
    "builtin_function_or_method",
    "instance",
    "_Feature"
   ],
   "window_display": false
  }
 },
 "nbformat": 4,
 "nbformat_minor": 2
}
