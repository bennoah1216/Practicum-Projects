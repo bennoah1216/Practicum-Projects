{
 "cells": [
  {
   "cell_type": "markdown",
   "metadata": {},
   "source": [
    "# Ride-sharing Analysis"
   ]
  },
  {
   "cell_type": "markdown",
   "metadata": {},
   "source": [
    "You're working as an analyst for Zuber, a new ride-sharing company that's launching in Chicago. Your task is to find patterns in the available information. You want to understand passenger preferences and the impact of external factors on rides.\n",
    "\n",
    "Working with a database, you'll analyze data from competitors and test a hypothesis about the impact of weather on ride frequency."
   ]
  },
  {
   "cell_type": "markdown",
   "metadata": {},
   "source": [
    "## Import Packages"
   ]
  },
  {
   "cell_type": "code",
   "execution_count": 1,
   "metadata": {},
   "outputs": [
    {
     "name": "stdout",
     "output_type": "stream",
     "text": [
      "Requirement already satisfied: pandas-profiling[notebook] in c:\\users\\bnoah\\anaconda3\\lib\\site-packages (3.1.1)\n",
      "Requirement already satisfied: visions[type_image_path]==0.7.4 in c:\\users\\bnoah\\appdata\\roaming\\python\\python38\\site-packages (from pandas-profiling[notebook]) (0.7.4)\n",
      "Requirement already satisfied: multimethod>=1.4 in c:\\users\\bnoah\\appdata\\roaming\\python\\python38\\site-packages (from pandas-profiling[notebook]) (1.6)\n",
      "Requirement already satisfied: tangled-up-in-unicode==0.2.0 in c:\\users\\bnoah\\anaconda3\\lib\\site-packages (from pandas-profiling[notebook]) (0.2.0)\n",
      "Requirement already satisfied: matplotlib>=3.2.0 in c:\\users\\bnoah\\anaconda3\\lib\\site-packages (from pandas-profiling[notebook]) (3.4.3)\n",
      "Requirement already satisfied: pydantic>=1.8.1 in c:\\users\\bnoah\\appdata\\roaming\\python\\python38\\site-packages (from pandas-profiling[notebook]) (1.8.2)\n",
      "Requirement already satisfied: phik>=0.11.1 in c:\\users\\bnoah\\appdata\\roaming\\python\\python38\\site-packages (from pandas-profiling[notebook]) (0.12.0)\n",
      "Requirement already satisfied: joblib~=1.1.0 in c:\\users\\bnoah\\anaconda3\\lib\\site-packages (from pandas-profiling[notebook]) (1.1.0)\n",
      "Requirement already satisfied: requests>=2.24.0 in c:\\users\\bnoah\\anaconda3\\lib\\site-packages (from pandas-profiling[notebook]) (2.26.0)\n",
      "Requirement already satisfied: missingno>=0.4.2 in c:\\users\\bnoah\\anaconda3\\lib\\site-packages (from pandas-profiling[notebook]) (0.5.0)\n",
      "Requirement already satisfied: tqdm>=4.48.2 in c:\\users\\bnoah\\anaconda3\\lib\\site-packages (from pandas-profiling[notebook]) (4.62.3)\n",
      "Requirement already satisfied: jinja2>=2.11.1 in c:\\users\\bnoah\\anaconda3\\lib\\site-packages (from pandas-profiling[notebook]) (3.0.2)\n",
      "Requirement already satisfied: seaborn>=0.10.1 in c:\\users\\bnoah\\anaconda3\\lib\\site-packages (from pandas-profiling[notebook]) (0.11.2)\n",
      "Requirement already satisfied: scipy>=1.4.1 in c:\\users\\bnoah\\anaconda3\\lib\\site-packages (from pandas-profiling[notebook]) (1.7.1)\n",
      "Requirement already satisfied: PyYAML>=5.0.0 in c:\\users\\bnoah\\anaconda3\\lib\\site-packages (from pandas-profiling[notebook]) (6.0)\n",
      "Requirement already satisfied: numpy>=1.16.0 in c:\\users\\bnoah\\anaconda3\\lib\\site-packages (from pandas-profiling[notebook]) (1.21.4)\n",
      "Requirement already satisfied: markupsafe~=2.0.1 in c:\\users\\bnoah\\anaconda3\\lib\\site-packages (from pandas-profiling[notebook]) (2.0.1)\n",
      "Requirement already satisfied: pandas!=1.0.0,!=1.0.1,!=1.0.2,!=1.1.0,>=0.25.3 in c:\\users\\bnoah\\anaconda3\\lib\\site-packages (from pandas-profiling[notebook]) (1.3.4)\n",
      "Requirement already satisfied: htmlmin>=0.1.12 in c:\\users\\bnoah\\appdata\\roaming\\python\\python38\\site-packages (from pandas-profiling[notebook]) (0.1.12)\n",
      "Requirement already satisfied: ipywidgets>=7.5.1 in c:\\users\\bnoah\\anaconda3\\lib\\site-packages (from pandas-profiling[notebook]) (7.6.5)\n",
      "Requirement already satisfied: jupyter-client>=6.0.0 in c:\\users\\bnoah\\anaconda3\\lib\\site-packages (from pandas-profiling[notebook]) (7.0.1)\n",
      "Requirement already satisfied: jupyter-core>=4.6.3 in c:\\users\\bnoah\\anaconda3\\lib\\site-packages (from pandas-profiling[notebook]) (4.9.1)\n",
      "Requirement already satisfied: attrs>=19.3.0 in c:\\users\\bnoah\\anaconda3\\lib\\site-packages (from visions[type_image_path]==0.7.4->pandas-profiling[notebook]) (21.2.0)\n",
      "Requirement already satisfied: networkx>=2.4 in c:\\users\\bnoah\\anaconda3\\lib\\site-packages (from visions[type_image_path]==0.7.4->pandas-profiling[notebook]) (2.6.3)\n",
      "Requirement already satisfied: Pillow in c:\\users\\bnoah\\anaconda3\\lib\\site-packages (from visions[type_image_path]==0.7.4->pandas-profiling[notebook]) (8.4.0)\n",
      "Requirement already satisfied: imagehash in c:\\users\\bnoah\\appdata\\roaming\\python\\python38\\site-packages (from visions[type_image_path]==0.7.4->pandas-profiling[notebook]) (4.2.1)\n",
      "Requirement already satisfied: ipykernel>=4.5.1 in c:\\users\\bnoah\\anaconda3\\lib\\site-packages (from ipywidgets>=7.5.1->pandas-profiling[notebook]) (6.4.1)\n",
      "Requirement already satisfied: widgetsnbextension~=3.5.0 in c:\\users\\bnoah\\anaconda3\\lib\\site-packages (from ipywidgets>=7.5.1->pandas-profiling[notebook]) (3.5.1)\n",
      "Requirement already satisfied: nbformat>=4.2.0 in c:\\users\\bnoah\\anaconda3\\lib\\site-packages (from ipywidgets>=7.5.1->pandas-profiling[notebook]) (5.1.3)\n",
      "Requirement already satisfied: traitlets>=4.3.1 in c:\\users\\bnoah\\anaconda3\\lib\\site-packages (from ipywidgets>=7.5.1->pandas-profiling[notebook]) (5.1.1)\n",
      "Requirement already satisfied: ipython-genutils~=0.2.0 in c:\\users\\bnoah\\anaconda3\\lib\\site-packages (from ipywidgets>=7.5.1->pandas-profiling[notebook]) (0.2.0)\n",
      "Requirement already satisfied: jupyterlab-widgets>=1.0.0 in c:\\users\\bnoah\\anaconda3\\lib\\site-packages (from ipywidgets>=7.5.1->pandas-profiling[notebook]) (1.0.0)\n",
      "Requirement already satisfied: ipython>=4.0.0 in c:\\users\\bnoah\\anaconda3\\lib\\site-packages (from ipywidgets>=7.5.1->pandas-profiling[notebook]) (7.29.0)\n",
      "Requirement already satisfied: tornado<7.0,>=4.2 in c:\\users\\bnoah\\anaconda3\\lib\\site-packages (from ipykernel>=4.5.1->ipywidgets>=7.5.1->pandas-profiling[notebook]) (6.1)\n",
      "Requirement already satisfied: debugpy<2.0,>=1.0.0 in c:\\users\\bnoah\\anaconda3\\lib\\site-packages (from ipykernel>=4.5.1->ipywidgets>=7.5.1->pandas-profiling[notebook]) (1.5.1)\n",
      "Requirement already satisfied: matplotlib-inline<0.2.0,>=0.1.0 in c:\\users\\bnoah\\anaconda3\\lib\\site-packages (from ipykernel>=4.5.1->ipywidgets>=7.5.1->pandas-profiling[notebook]) (0.1.2)\n",
      "Requirement already satisfied: jedi>=0.16 in c:\\users\\bnoah\\anaconda3\\lib\\site-packages (from ipython>=4.0.0->ipywidgets>=7.5.1->pandas-profiling[notebook]) (0.17.2)\n",
      "Requirement already satisfied: decorator in c:\\users\\bnoah\\anaconda3\\lib\\site-packages (from ipython>=4.0.0->ipywidgets>=7.5.1->pandas-profiling[notebook]) (5.1.0)\n",
      "Requirement already satisfied: backcall in c:\\users\\bnoah\\anaconda3\\lib\\site-packages (from ipython>=4.0.0->ipywidgets>=7.5.1->pandas-profiling[notebook]) (0.2.0)\n",
      "Requirement already satisfied: prompt-toolkit!=3.0.0,!=3.0.1,<3.1.0,>=2.0.0 in c:\\users\\bnoah\\anaconda3\\lib\\site-packages (from ipython>=4.0.0->ipywidgets>=7.5.1->pandas-profiling[notebook]) (3.0.20)\n",
      "Requirement already satisfied: colorama in c:\\users\\bnoah\\anaconda3\\lib\\site-packages (from ipython>=4.0.0->ipywidgets>=7.5.1->pandas-profiling[notebook]) (0.4.4)\n",
      "Requirement already satisfied: pickleshare in c:\\users\\bnoah\\anaconda3\\lib\\site-packages (from ipython>=4.0.0->ipywidgets>=7.5.1->pandas-profiling[notebook]) (0.7.5)\n",
      "Requirement already satisfied: setuptools>=18.5 in c:\\users\\bnoah\\anaconda3\\lib\\site-packages (from ipython>=4.0.0->ipywidgets>=7.5.1->pandas-profiling[notebook]) (58.0.4)\n",
      "Requirement already satisfied: pygments in c:\\users\\bnoah\\anaconda3\\lib\\site-packages (from ipython>=4.0.0->ipywidgets>=7.5.1->pandas-profiling[notebook]) (2.10.0)\n",
      "Requirement already satisfied: parso<0.8.0,>=0.7.0 in c:\\users\\bnoah\\anaconda3\\lib\\site-packages (from jedi>=0.16->ipython>=4.0.0->ipywidgets>=7.5.1->pandas-profiling[notebook]) (0.7.0)\n",
      "Requirement already satisfied: nest-asyncio>=1.5 in c:\\users\\bnoah\\anaconda3\\lib\\site-packages (from jupyter-client>=6.0.0->pandas-profiling[notebook]) (1.5.1)\n",
      "Requirement already satisfied: python-dateutil>=2.1 in c:\\users\\bnoah\\anaconda3\\lib\\site-packages (from jupyter-client>=6.0.0->pandas-profiling[notebook]) (2.8.2)\n",
      "Requirement already satisfied: entrypoints in c:\\users\\bnoah\\anaconda3\\lib\\site-packages (from jupyter-client>=6.0.0->pandas-profiling[notebook]) (0.3)\n",
      "Requirement already satisfied: pyzmq>=13 in c:\\users\\bnoah\\anaconda3\\lib\\site-packages (from jupyter-client>=6.0.0->pandas-profiling[notebook]) (22.2.1)\n",
      "Requirement already satisfied: pywin32>=1.0 in c:\\users\\bnoah\\anaconda3\\lib\\site-packages (from jupyter-core>=4.6.3->pandas-profiling[notebook]) (228)\n",
      "Requirement already satisfied: cycler>=0.10 in c:\\users\\bnoah\\anaconda3\\lib\\site-packages (from matplotlib>=3.2.0->pandas-profiling[notebook]) (0.10.0)\n",
      "Requirement already satisfied: pyparsing>=2.2.1 in c:\\users\\bnoah\\anaconda3\\lib\\site-packages (from matplotlib>=3.2.0->pandas-profiling[notebook]) (3.0.4)\n",
      "Requirement already satisfied: kiwisolver>=1.0.1 in c:\\users\\bnoah\\anaconda3\\lib\\site-packages (from matplotlib>=3.2.0->pandas-profiling[notebook]) (1.3.1)\n",
      "Requirement already satisfied: six in c:\\users\\bnoah\\anaconda3\\lib\\site-packages (from cycler>=0.10->matplotlib>=3.2.0->pandas-profiling[notebook]) (1.16.0)\n",
      "Requirement already satisfied: jsonschema!=2.5.0,>=2.4 in c:\\users\\bnoah\\anaconda3\\lib\\site-packages (from nbformat>=4.2.0->ipywidgets>=7.5.1->pandas-profiling[notebook]) (3.2.0)\n",
      "Requirement already satisfied: pyrsistent>=0.14.0 in c:\\users\\bnoah\\anaconda3\\lib\\site-packages (from jsonschema!=2.5.0,>=2.4->nbformat>=4.2.0->ipywidgets>=7.5.1->pandas-profiling[notebook]) (0.18.0)\n",
      "Requirement already satisfied: pytz>=2017.3 in c:\\users\\bnoah\\anaconda3\\lib\\site-packages (from pandas!=1.0.0,!=1.0.1,!=1.0.2,!=1.1.0,>=0.25.3->pandas-profiling[notebook]) (2021.3)\n",
      "Requirement already satisfied: wcwidth in c:\\users\\bnoah\\anaconda3\\lib\\site-packages (from prompt-toolkit!=3.0.0,!=3.0.1,<3.1.0,>=2.0.0->ipython>=4.0.0->ipywidgets>=7.5.1->pandas-profiling[notebook]) (0.2.5)\n",
      "Requirement already satisfied: typing-extensions>=3.7.4.3 in c:\\users\\bnoah\\anaconda3\\lib\\site-packages (from pydantic>=1.8.1->pandas-profiling[notebook]) (3.10.0.2)\n",
      "Requirement already satisfied: charset-normalizer~=2.0.0 in c:\\users\\bnoah\\anaconda3\\lib\\site-packages (from requests>=2.24.0->pandas-profiling[notebook]) (2.0.4)\n",
      "Requirement already satisfied: urllib3<1.27,>=1.21.1 in c:\\users\\bnoah\\anaconda3\\lib\\site-packages (from requests>=2.24.0->pandas-profiling[notebook]) (1.26.7)\n",
      "Requirement already satisfied: idna<4,>=2.5 in c:\\users\\bnoah\\anaconda3\\lib\\site-packages (from requests>=2.24.0->pandas-profiling[notebook]) (3.2)\n",
      "Requirement already satisfied: certifi>=2017.4.17 in c:\\users\\bnoah\\anaconda3\\lib\\site-packages (from requests>=2.24.0->pandas-profiling[notebook]) (2021.10.8)\n",
      "Requirement already satisfied: notebook>=4.4.1 in c:\\users\\bnoah\\anaconda3\\lib\\site-packages (from widgetsnbextension~=3.5.0->ipywidgets>=7.5.1->pandas-profiling[notebook]) (6.4.5)\n",
      "Requirement already satisfied: Send2Trash>=1.5.0 in c:\\users\\bnoah\\anaconda3\\lib\\site-packages (from notebook>=4.4.1->widgetsnbextension~=3.5.0->ipywidgets>=7.5.1->pandas-profiling[notebook]) (1.8.0)\n",
      "Requirement already satisfied: argon2-cffi in c:\\users\\bnoah\\anaconda3\\lib\\site-packages (from notebook>=4.4.1->widgetsnbextension~=3.5.0->ipywidgets>=7.5.1->pandas-profiling[notebook]) (20.1.0)\n",
      "Requirement already satisfied: nbconvert in c:\\users\\bnoah\\anaconda3\\lib\\site-packages (from notebook>=4.4.1->widgetsnbextension~=3.5.0->ipywidgets>=7.5.1->pandas-profiling[notebook]) (6.1.0)\n",
      "Requirement already satisfied: terminado>=0.8.3 in c:\\users\\bnoah\\anaconda3\\lib\\site-packages (from notebook>=4.4.1->widgetsnbextension~=3.5.0->ipywidgets>=7.5.1->pandas-profiling[notebook]) (0.9.4)\n",
      "Requirement already satisfied: prometheus-client in c:\\users\\bnoah\\anaconda3\\lib\\site-packages (from notebook>=4.4.1->widgetsnbextension~=3.5.0->ipywidgets>=7.5.1->pandas-profiling[notebook]) (0.11.0)\n",
      "Requirement already satisfied: pywinpty>=0.5 in c:\\users\\bnoah\\anaconda3\\lib\\site-packages (from terminado>=0.8.3->notebook>=4.4.1->widgetsnbextension~=3.5.0->ipywidgets>=7.5.1->pandas-profiling[notebook]) (0.5.7)\n",
      "Requirement already satisfied: cffi>=1.0.0 in c:\\users\\bnoah\\anaconda3\\lib\\site-packages (from argon2-cffi->notebook>=4.4.1->widgetsnbextension~=3.5.0->ipywidgets>=7.5.1->pandas-profiling[notebook]) (1.15.0)\n",
      "Requirement already satisfied: pycparser in c:\\users\\bnoah\\anaconda3\\lib\\site-packages (from cffi>=1.0.0->argon2-cffi->notebook>=4.4.1->widgetsnbextension~=3.5.0->ipywidgets>=7.5.1->pandas-profiling[notebook]) (2.21)\n",
      "Requirement already satisfied: PyWavelets in c:\\users\\bnoah\\anaconda3\\lib\\site-packages (from imagehash->visions[type_image_path]==0.7.4->pandas-profiling[notebook]) (1.1.1)\n",
      "Requirement already satisfied: defusedxml in c:\\users\\bnoah\\anaconda3\\lib\\site-packages (from nbconvert->notebook>=4.4.1->widgetsnbextension~=3.5.0->ipywidgets>=7.5.1->pandas-profiling[notebook]) (0.7.1)\n",
      "Requirement already satisfied: bleach in c:\\users\\bnoah\\anaconda3\\lib\\site-packages (from nbconvert->notebook>=4.4.1->widgetsnbextension~=3.5.0->ipywidgets>=7.5.1->pandas-profiling[notebook]) (4.0.0)\n",
      "Requirement already satisfied: pandocfilters>=1.4.1 in c:\\users\\bnoah\\anaconda3\\lib\\site-packages (from nbconvert->notebook>=4.4.1->widgetsnbextension~=3.5.0->ipywidgets>=7.5.1->pandas-profiling[notebook]) (1.4.3)\n",
      "Requirement already satisfied: testpath in c:\\users\\bnoah\\anaconda3\\lib\\site-packages (from nbconvert->notebook>=4.4.1->widgetsnbextension~=3.5.0->ipywidgets>=7.5.1->pandas-profiling[notebook]) (0.5.0)\n",
      "Requirement already satisfied: nbclient<0.6.0,>=0.5.0 in c:\\users\\bnoah\\anaconda3\\lib\\site-packages (from nbconvert->notebook>=4.4.1->widgetsnbextension~=3.5.0->ipywidgets>=7.5.1->pandas-profiling[notebook]) (0.5.3)\n",
      "Requirement already satisfied: mistune<2,>=0.8.1 in c:\\users\\bnoah\\anaconda3\\lib\\site-packages (from nbconvert->notebook>=4.4.1->widgetsnbextension~=3.5.0->ipywidgets>=7.5.1->pandas-profiling[notebook]) (0.8.4)\n",
      "Requirement already satisfied: jupyterlab-pygments in c:\\users\\bnoah\\anaconda3\\lib\\site-packages (from nbconvert->notebook>=4.4.1->widgetsnbextension~=3.5.0->ipywidgets>=7.5.1->pandas-profiling[notebook]) (0.1.2)\n",
      "Requirement already satisfied: async-generator in c:\\users\\bnoah\\anaconda3\\lib\\site-packages (from nbclient<0.6.0,>=0.5.0->nbconvert->notebook>=4.4.1->widgetsnbextension~=3.5.0->ipywidgets>=7.5.1->pandas-profiling[notebook]) (1.10)\n",
      "Requirement already satisfied: packaging in c:\\users\\bnoah\\anaconda3\\lib\\site-packages (from bleach->nbconvert->notebook>=4.4.1->widgetsnbextension~=3.5.0->ipywidgets>=7.5.1->pandas-profiling[notebook]) (21.0)\n",
      "Requirement already satisfied: webencodings in c:\\users\\bnoah\\anaconda3\\lib\\site-packages (from bleach->nbconvert->notebook>=4.4.1->widgetsnbextension~=3.5.0->ipywidgets>=7.5.1->pandas-profiling[notebook]) (0.5.1)\n"
     ]
    }
   ],
   "source": [
    "import pandas as pd \n",
    "import matplotlib.pyplot as plt\n",
    "import seaborn as sns\n",
    "import scipy.stats as stats\n",
    "from scipy.stats import zscore\n",
    "!pip install pandas-profiling[notebook]\n",
    "from pandas_profiling import ProfileReport\n",
    "import warnings\n",
    "warnings.filterwarnings('ignore')"
   ]
  },
  {
   "cell_type": "markdown",
   "metadata": {},
   "source": [
    "### Details"
   ]
  },
  {
   "cell_type": "markdown",
   "metadata": {},
   "source": [
    "| Package          | Description                                                          |\n",
    "|:-----------------|:---------------------------------------------------------------------|\n",
    "| pandas           | For data preprocessing and basic descriptive statistics.             |\n",
    "| matplotlib       | For creating graphs.                                                 |\n",
    "| numpy            | For scientific computing.                                            |\n",
    "| scipy            | For calculating statistics.                                          |\n",
    "| seaborn          | For creating graphs.                                                 |\n",
    "| pandas_profiling | For creating a profile report on the dataset.                        |\n",
    "| warnings         | For ignoring warnings after finishing the project for readability.   |"
   ]
  },
  {
   "cell_type": "markdown",
   "metadata": {},
   "source": [
    "## Importing and Cleaning Data"
   ]
  },
  {
   "cell_type": "markdown",
   "metadata": {},
   "source": [
    "### Import Data"
   ]
  },
  {
   "cell_type": "code",
   "execution_count": 2,
   "metadata": {},
   "outputs": [],
   "source": [
    "try: \n",
    "    taxi_name = pd.read_csv('/Users/bnoah/data/project_sql_result_01.csv')\n",
    "except: \n",
    "    taxi_name = pd.read_csv('/datasets/project_sql_result_01.csv')\n",
    "\n",
    "try: \n",
    "    taxi_dropoff = pd.read_csv('/Users/bnoah/data/project_sql_result_04.csv')\n",
    "except: \n",
    "    taxi_dropoff = pd.read_csv('/datasets/project_sql_result_04.csv')"
   ]
  },
  {
   "cell_type": "markdown",
   "metadata": {},
   "source": [
    "### Profile Report"
   ]
  },
  {
   "cell_type": "markdown",
   "metadata": {},
   "source": [
    "#### Taxi Name"
   ]
  },
  {
   "cell_type": "code",
   "execution_count": 3,
   "metadata": {},
   "outputs": [
    {
     "data": {
      "application/vnd.jupyter.widget-view+json": {
       "model_id": "7bc5f2e751754cd99f233908a5af9a33",
       "version_major": 2,
       "version_minor": 0
      },
      "text/plain": [
       "Summarize dataset:   0%|          | 0/5 [00:00<?, ?it/s]"
      ]
     },
     "metadata": {},
     "output_type": "display_data"
    },
    {
     "data": {
      "application/vnd.jupyter.widget-view+json": {
       "model_id": "bbe1884d7ef748569699f96e86b8a087",
       "version_major": 2,
       "version_minor": 0
      },
      "text/plain": [
       "Generate report structure:   0%|          | 0/1 [00:00<?, ?it/s]"
      ]
     },
     "metadata": {},
     "output_type": "display_data"
    },
    {
     "data": {
      "application/vnd.jupyter.widget-view+json": {
       "model_id": "",
       "version_major": 2,
       "version_minor": 0
      },
      "text/plain": [
       "Render widgets:   0%|          | 0/1 [00:00<?, ?it/s]"
      ]
     },
     "metadata": {},
     "output_type": "display_data"
    },
    {
     "data": {
      "application/vnd.jupyter.widget-view+json": {
       "model_id": "df800058aea0468288762a5781021ea6",
       "version_major": 2,
       "version_minor": 0
      },
      "text/plain": [
       "VBox(children=(Tab(children=(Tab(children=(GridBox(children=(VBox(children=(GridspecLayout(children=(HTML(valu…"
      ]
     },
     "metadata": {},
     "output_type": "display_data"
    }
   ],
   "source": [
    "taxi_name_report = ProfileReport(taxi_name, title=\"Taxi Name Profiling Report\")\n",
    "taxi_name_report.to_widgets()"
   ]
  },
  {
   "cell_type": "markdown",
   "metadata": {},
   "source": [
    "#### Taxi Drop-off"
   ]
  },
  {
   "cell_type": "code",
   "execution_count": 4,
   "metadata": {},
   "outputs": [
    {
     "data": {
      "application/vnd.jupyter.widget-view+json": {
       "model_id": "1626cac477674fb487d9621de1bebfa5",
       "version_major": 2,
       "version_minor": 0
      },
      "text/plain": [
       "Summarize dataset:   0%|          | 0/5 [00:00<?, ?it/s]"
      ]
     },
     "metadata": {},
     "output_type": "display_data"
    },
    {
     "data": {
      "application/vnd.jupyter.widget-view+json": {
       "model_id": "55cef76c479145e08e32fffd20f5eb92",
       "version_major": 2,
       "version_minor": 0
      },
      "text/plain": [
       "Generate report structure:   0%|          | 0/1 [00:00<?, ?it/s]"
      ]
     },
     "metadata": {},
     "output_type": "display_data"
    },
    {
     "data": {
      "application/vnd.jupyter.widget-view+json": {
       "model_id": "",
       "version_major": 2,
       "version_minor": 0
      },
      "text/plain": [
       "Render widgets:   0%|          | 0/1 [00:00<?, ?it/s]"
      ]
     },
     "metadata": {},
     "output_type": "display_data"
    },
    {
     "data": {
      "application/vnd.jupyter.widget-view+json": {
       "model_id": "238cd55c756141db82e601768fa6859b",
       "version_major": 2,
       "version_minor": 0
      },
      "text/plain": [
       "VBox(children=(Tab(children=(Tab(children=(GridBox(children=(VBox(children=(GridspecLayout(children=(HTML(valu…"
      ]
     },
     "metadata": {},
     "output_type": "display_data"
    }
   ],
   "source": [
    "taxi_dropoff_report = ProfileReport(taxi_dropoff, title=\"Taxi Drop-off Profiling Report\")\n",
    "taxi_dropoff_report.to_widgets()"
   ]
  },
  {
   "cell_type": "markdown",
   "metadata": {},
   "source": [
    "### Conclusions"
   ]
  },
  {
   "cell_type": "markdown",
   "metadata": {},
   "source": [
    "From importing the data, we can see that each dataframe has two columns. The first column is a string variable while the second column is a numerical variable. \n",
    "\n",
    "The taxi_name dataframe shows us the number of trips each cab company had from November 15 to 16th in 2017. Looking at the summary statistics, we can see there are 64 cab companies with an average of 2,145 trips per company. The maximum number of trips a company had was 19,558 and the minimum number of trips a company had was 2. \n",
    "\n",
    "The taxi_dropoff dataframe shows us the average number of trips each drop-off location had in November of 2017. Looking at the summary statistics, we can see there are 94 drop-off locations with an average of 600 trips per location. The maximum average number of trips a location had was 10,727.5 and the minimum average number of trips a location had was 1.8. "
   ]
  },
  {
   "cell_type": "markdown",
   "metadata": {},
   "source": [
    "## Graphing Data"
   ]
  },
  {
   "cell_type": "code",
   "execution_count": 6,
   "metadata": {},
   "outputs": [
    {
     "data": {
      "image/png": "[encoded data removed]",
      "text/plain": [
       "<Figure size 1080x1080 with 2 Axes>"
      ]
     },
     "metadata": {
      "needs_background": "light"
     },
     "output_type": "display_data"
    }
   ],
   "source": [
    "#making taxi cab company names shorter\n",
    "taxi_name['company_name'].replace('Taxi Affiliation Service Yellow', 'TAS Yellow',inplace=True)\n",
    "taxi_name['company_name'].replace('Taxi Affiliation Services', 'TAS',inplace=True)\n",
    "taxi_name['company_name'].replace('Chicago Carriage Cab Corp', 'Chicago Carriage',inplace=True)\n",
    "taxi_name['company_name'].replace('Star North Management LLC', 'Star North',inplace=True)\n",
    "taxi_name['company_name'].replace('Blue Ribbon Taxi Association Inc.', 'Blue Ribbon',inplace=True)\n",
    "#creating graph\n",
    "fig, ax = plt.subplots(2,1,figsize=(15, 15))\n",
    "#creating a boxplot for each Platform based on Total Sales\n",
    "sns.barplot(ax=ax[0], x='dropoff_location_name', y='average_trips', data= taxi_dropoff.nlargest(10,'average_trips'),palette='mako');\n",
    "ax[0].set_title('Top 10 Most Common Dropoff Locations in November 2017');\n",
    "ax[0].set_ylabel('Average Trips');\n",
    "ax[0].set_xlabel('Location');\n",
    "#creating a bar graph for the average sales per year for each platform. Reindexed to match boxplot.\n",
    "sns.barplot(ax=ax[1],x='company_name',y='trips_amount',data =taxi_name.nlargest(10,'trips_amount'),palette=\"magma_r\");\n",
    "ax[1].set_title('Top 10 Total Trips Per Company From November 15-16 2017');\n",
    "ax[1].set_ylabel('Number of Trips');\n",
    "ax[1].set_xlabel('Company');\n",
    "#adding mean lines\n",
    "mean_dropoff = taxi_dropoff.nlargest(10,'average_trips')['average_trips'].mean()\n",
    "mean_name = taxi_name.nlargest(10,'trips_amount')['trips_amount'].mean()\n",
    "mean_line_0 = ax[0].axhline(mean_dropoff, color='black', linewidth=1);\n",
    "mean_line_1 = ax[1].axhline(mean_name, color='black', linewidth=1);\n",
    "#adding arrow and mean value on the side\n",
    "ax[0].annotate('Mean: {:0.2f}'.format(mean_dropoff),xy=(1,mean_dropoff), xycoords=('axes fraction','data'),xytext=(1.05,mean_dropoff-1000),arrowprops=dict(arrowstyle='-|>', fc='black', shrinkA=0, shrinkB=0,\n",
    "                            connectionstyle='arc'))\n",
    "ax[1].annotate('Mean: {:0.2f}'.format(mean_name),xy=(1,mean_name), xycoords=('axes fraction','data'),xytext=(1.05,mean_name+1000),arrowprops=dict(arrowstyle='-|>', fc='black', shrinkA=0, shrinkB=0,\n",
    "                            connectionstyle='arc'))             \n",
    "#adding y axis gridlines\n",
    "ax[0].set_axisbelow(True);\n",
    "ax[0].yaxis.grid(zorder=0);\n",
    "ax[1].set_axisbelow(True);\n",
    "ax[1].yaxis.grid(zorder=0);\n",
    "#adding space betweeen the graphs\n",
    "plt.subplots_adjust(hspace = 0.5);"
   ]
  },
  {
   "cell_type": "markdown",
   "metadata": {},
   "source": [
    "### Conclusions"
   ]
  },
  {
   "cell_type": "markdown",
   "metadata": {},
   "source": [
    "From the top graph, we can see there are a clear top 4 dropoff locations, Loop, River North, Streeterville, and West Loop. Each of the top four seem to have clear reasons for being at the top.\n",
    "- The Loop in Chicago is the cities central business hub.\n",
    "- River North and West Loop are known for their restaurants and art galleries. \n",
    "- Streeterville is known for its shopping and beaches. \n",
    "\n",
    "<cite>[US News][1]</cite> \n",
    "\n",
    "For the bottom graph, we can see Flash Cab was by far the most popular cab company with the rest of the top 10 being fairly similar.\n",
    "\n",
    "[1]: https://travel.usnews.com/Chicago_IL/Area_Map/"
   ]
  },
  {
   "cell_type": "markdown",
   "metadata": {},
   "source": [
    "# Testing Hypotheses"
   ]
  },
  {
   "cell_type": "markdown",
   "metadata": {},
   "source": [
    "## Importing Data"
   ]
  },
  {
   "cell_type": "code",
   "execution_count": 7,
   "metadata": {},
   "outputs": [],
   "source": [
    "try: \n",
    "    taxi_airport_trips = pd.read_csv('/Users/bnoah/data/project_sql_result_07.csv')\n",
    "except: \n",
    "    taxi_airport_trips = pd.read_csv('/datasets/project_sql_result_07.csv')"
   ]
  },
  {
   "cell_type": "markdown",
   "metadata": {},
   "source": [
    "### Profile Report"
   ]
  },
  {
   "cell_type": "code",
   "execution_count": 8,
   "metadata": {},
   "outputs": [
    {
     "data": {
      "application/vnd.jupyter.widget-view+json": {
       "model_id": "4cd8ec410eb24928b4143fefeade638b",
       "version_major": 2,
       "version_minor": 0
      },
      "text/plain": [
       "Summarize dataset:   0%|          | 0/5 [00:00<?, ?it/s]"
      ]
     },
     "metadata": {},
     "output_type": "display_data"
    },
    {
     "data": {
      "application/vnd.jupyter.widget-view+json": {
       "model_id": "90a7aed0b6af4d28af3cb472bec19c7a",
       "version_major": 2,
       "version_minor": 0
      },
      "text/plain": [
       "Generate report structure:   0%|          | 0/1 [00:00<?, ?it/s]"
      ]
     },
     "metadata": {},
     "output_type": "display_data"
    },
    {
     "data": {
      "application/vnd.jupyter.widget-view+json": {
       "model_id": "",
       "version_major": 2,
       "version_minor": 0
      },
      "text/plain": [
       "Render widgets:   0%|          | 0/1 [00:00<?, ?it/s]"
      ]
     },
     "metadata": {},
     "output_type": "display_data"
    },
    {
     "data": {
      "application/vnd.jupyter.widget-view+json": {
       "model_id": "82a5674a56174dfca00a683275497a28",
       "version_major": 2,
       "version_minor": 0
      },
      "text/plain": [
       "VBox(children=(Tab(children=(Tab(children=(GridBox(children=(VBox(children=(GridspecLayout(children=(HTML(valu…"
      ]
     },
     "metadata": {},
     "output_type": "display_data"
    }
   ],
   "source": [
    "taxi_airport_trips_report = ProfileReport(taxi_airport_trips, title=\"Taxi Airport Trips Profiling Report\")\n",
    "taxi_airport_trips_report.to_widgets()"
   ]
  },
  {
   "cell_type": "markdown",
   "metadata": {},
   "source": [
    "### Conclusions"
   ]
  },
  {
   "cell_type": "markdown",
   "metadata": {},
   "source": [
    "The taxi_airport_trips dataframe has three variables:\n",
    "1. `start_ts` which is the date and time of the ride pickup.\n",
    "2. `weather_conditions` which is the weather conditions at the time of the ride starting.\n",
    "3. `duration_seconds` which is the length of the ride in seconds.\n",
    "\n",
    "`weather_conditions` is a categorical variable with only two states, Good and Bad. In this dataset, the weather is good over 80\\% of the time. Considering this data is from Chicago in November, I am a bit skeptical about having that high a number of good weather days. \n",
    "\n",
    "`duration_seconds` is a numeric variable with an mean ride length of 2071 seconds (~35 minutes). The distribution seems fairly normal except for a spike around 25 minutes. In practice, I would want to consult the data engineer to make sure there are not any explanations for this spike. \n",
    "\n",
    "\n"
   ]
  },
  {
   "cell_type": "markdown",
   "metadata": {},
   "source": [
    "## Hypothesis Testing"
   ]
  },
  {
   "cell_type": "code",
   "execution_count": 10,
   "metadata": {},
   "outputs": [
    {
     "name": "stdout",
     "output_type": "stream",
     "text": [
      "Null Hypothesis: Saturdays with good weather and bad weather have the same lengths of taxi trips to the airport from The Loop\n",
      "Alternative Hypothesis: Saturdays with good weather and bad weather have different lengths of taxi trips to the airport from The Loop\n",
      "\n",
      "\n",
      "p-value:  6.517970327099473e-12\n",
      "\n",
      "\n",
      "We reject the null hypothesis\n",
      "\n",
      "\n"
     ]
    },
    {
     "data": {
      "image/png": "[encoded data removed]",
      "text/plain": [
       "<Figure size 720x288 with 2 Axes>"
      ]
     },
     "metadata": {
      "needs_background": "light"
     },
     "output_type": "display_data"
    }
   ],
   "source": [
    "alpha = 0.05\n",
    "fig, ax = plt.subplots(1,2,figsize=(10, 4))\n",
    "#histograms of the density \n",
    "sns.kdeplot(ax=ax[0], data = taxi_airport_trips[taxi_airport_trips['weather_conditions'] == 'Good']['duration_seconds'], label = ['Good Weather'], shade=True, color='blue');\n",
    "sns.kdeplot(ax=ax[0], data = taxi_airport_trips[taxi_airport_trips['weather_conditions'] == 'Bad']['duration_seconds'],label = ['Bad Weather'], shade=True, color ='green');\n",
    "ax[0].set_title(\"Distributions\");\n",
    "ax[0].set_ylabel(\"Density\");\n",
    "ax[0].set_xlabel(\"Duration(Seconds)\");\n",
    "#boxplots \n",
    "box_plot = sns.boxplot(ax=ax[1], x='weather_conditions', y='duration_seconds', data=taxi_airport_trips)\n",
    "ax[1].set_title(\"Boxplots\");\n",
    "ax[1].set_ylabel(\"Duration)(Seconds)\");\n",
    "ax[1].set_xlabel(\"Weather Conditions\");\n",
    "#adding the median values to the middle of the boxplots\n",
    "ax = box_plot.axes\n",
    "lines = ax.get_lines()\n",
    "categories = ax.get_xticks()\n",
    "\n",
    "#function to calculate the location of the median and design the format of the box with the median value in it.\n",
    "for cat in categories:\n",
    "    # every 4th line at the interval of 6 is median line\n",
    "    # 0 -> p25 1 -> p75 2 -> lower whisker 3 -> upper whisker 4 -> p50 5 -> upper extreme value\n",
    "    y = round(lines[4+cat*6].get_ydata()[0],1) \n",
    "#formatting of the median value box\n",
    "    ax.text(\n",
    "        cat, \n",
    "        y, \n",
    "        f'{y}', \n",
    "        ha='center', \n",
    "        va='center', \n",
    "        fontweight='bold', \n",
    "        size=10,\n",
    "        color='white',\n",
    "        bbox=dict(facecolor='#445A64'))\n",
    "\n",
    "#t-test \n",
    "results = stats.ttest_ind(taxi_airport_trips[taxi_airport_trips['weather_conditions'] == 'Good']['duration_seconds'],taxi_airport_trips[taxi_airport_trips['weather_conditions'] == 'Bad']['duration_seconds'],equal_var=True)\n",
    "print('Null Hypothesis: Saturdays with good weather and bad weather have the same lengths of taxi trips to the airport from The Loop')\n",
    "print('Alternative Hypothesis: Saturdays with good weather and bad weather have different lengths of taxi trips to the airport from The Loop')\n",
    "print('\\n')\n",
    "#pull the p-value from the results\n",
    "print('p-value: ', results.pvalue)\n",
    "print('\\n')\n",
    "#compare the p-value to our alpha level\n",
    "if results.pvalue < alpha:\n",
    "    print(\"We reject the null hypothesis\")\n",
    "else:\n",
    "    print(\"We can't reject the null hypothesis\") \n",
    "print('\\n')"
   ]
  },
  {
   "cell_type": "markdown",
   "metadata": {},
   "source": [
    "### Conclusions"
   ]
  },
  {
   "cell_type": "markdown",
   "metadata": {},
   "source": [
    "From the above graphs, we can see that trips to the airport, on Saturdays with bad weather, take longer than days with good weather. This is not surprising as people usually drive slower during bad weather. When running the t-test we can see that our p-vale is incredibly small, which gives us strong confidence that there is a difference in the length of taxi drives on saturdays from from the loop to the airport on bad and good weather days. \n",
    "\n",
    "\n",
    "\n",
    "Looking at the two graphs, good weather days have a lower mean and median trip length than bad weather days. \n",
    "\n",
    "Our t-test tells us we can reject the null hypothesis that Saturdays with good weather and bad weather have the same lengths of taxi trips to the airport from The Loop at an alpha of 0.05\n",
    "\n",
    "\n",
    "Our p-value < 0.01 says that this data would occur if Saturdays with good weather and bad weather have the same lengths of taxi trips to the airport from The Loop less than 1% of the time."
   ]
  },
  {
   "cell_type": "markdown",
   "metadata": {},
   "source": [
    "## Overall Conclusion"
   ]
  },
  {
   "cell_type": "markdown",
   "metadata": {},
   "source": [
    "In this project I looked at taxi data from Chicago in 2017. After scraping data from the Internet, and pulling data from a database, I was able to look at some basic features of the taxi industry in Chicago in 2017.\n",
    "\n",
    "The main takeaways were:\n",
    "1. The Loop, River North, Streeterville, and West Loop were by far the most common taxi drop-off locations. \n",
    "2. Flash Cab was the most popular taxi service.\n",
    "3. Weather conditions seem to have an effect on trip length. \n",
    "\n",
    "\n",
    "Overall, this is a very interesting dataset that is limited by its lack of longitudinal data. I would love to look at how these factors change over time as ride-sharing became more prominent to best help Zuber launch in Chicago. "
   ]
  },
  {
   "cell_type": "code",
   "execution_count": null,
   "metadata": {},
   "outputs": [],
   "source": []
  }
 ],
 "metadata": {
  "ExecuteTimeLog": [
   {
    "duration": 609,
    "start_time": "2021-09-15T19:31:32.399Z"
   },
   {
    "duration": 4171,
    "start_time": "2021-09-15T19:33:14.919Z"
   },
   {
    "duration": 31,
    "start_time": "2021-09-15T19:34:13.608Z"
   },
   {
    "duration": 45,
    "start_time": "2021-09-15T19:34:52.394Z"
   },
   {
    "duration": 38,
    "start_time": "2021-09-15T19:35:06.434Z"
   },
   {
    "duration": 50,
    "start_time": "2021-09-15T19:35:27.297Z"
   },
   {
    "duration": 10,
    "start_time": "2021-09-15T19:36:29.606Z"
   },
   {
    "duration": 9,
    "start_time": "2021-09-15T19:36:38.047Z"
   },
   {
    "duration": 11,
    "start_time": "2021-09-15T19:36:55.221Z"
   },
   {
    "duration": 9,
    "start_time": "2021-09-15T19:37:02.920Z"
   },
   {
    "duration": 9,
    "start_time": "2021-09-15T19:37:12.351Z"
   },
   {
    "duration": 340,
    "start_time": "2021-09-15T19:42:06.093Z"
   },
   {
    "duration": 8,
    "start_time": "2021-09-15T19:42:13.476Z"
   },
   {
    "duration": 6,
    "start_time": "2021-09-15T19:43:42.343Z"
   },
   {
    "duration": 122,
    "start_time": "2021-09-15T19:49:33.505Z"
   },
   {
    "duration": 138,
    "start_time": "2021-09-15T19:50:21.518Z"
   },
   {
    "duration": 123,
    "start_time": "2021-09-15T19:50:50.740Z"
   },
   {
    "duration": 121,
    "start_time": "2021-09-15T19:50:53.787Z"
   },
   {
    "duration": 6138,
    "start_time": "2021-09-15T19:51:37.715Z"
   },
   {
    "duration": 128,
    "start_time": "2021-09-15T19:51:51.098Z"
   },
   {
    "duration": 8,
    "start_time": "2021-09-15T19:52:16.726Z"
   },
   {
    "duration": 6,
    "start_time": "2021-09-15T19:52:25.463Z"
   },
   {
    "duration": 949,
    "start_time": "2021-09-15T19:52:37.879Z"
   },
   {
    "duration": 2757,
    "start_time": "2021-09-15T19:53:13.925Z"
   },
   {
    "duration": 2795,
    "start_time": "2021-09-15T19:53:24.804Z"
   },
   {
    "duration": 2910,
    "start_time": "2021-09-15T19:53:34.053Z"
   },
   {
    "duration": 4,
    "start_time": "2021-09-15T19:53:54.605Z"
   },
   {
    "duration": 130,
    "start_time": "2021-09-15T19:54:08.177Z"
   },
   {
    "duration": 934,
    "start_time": "2021-09-15T19:55:45.768Z"
   },
   {
    "duration": 793,
    "start_time": "2021-09-15T19:56:00.179Z"
   },
   {
    "duration": 748,
    "start_time": "2021-09-15T19:56:08.087Z"
   },
   {
    "duration": 963,
    "start_time": "2021-09-15T19:56:11.956Z"
   },
   {
    "duration": 1129,
    "start_time": "2021-09-15T19:56:22.137Z"
   },
   {
    "duration": 605,
    "start_time": "2021-09-15T19:56:44.333Z"
   },
   {
    "duration": 705,
    "start_time": "2021-09-15T19:56:51.147Z"
   },
   {
    "duration": 834,
    "start_time": "2021-09-15T19:57:18.049Z"
   },
   {
    "duration": 759,
    "start_time": "2021-09-15T19:58:09.475Z"
   },
   {
    "duration": 719,
    "start_time": "2021-09-15T19:58:13.302Z"
   },
   {
    "duration": 692,
    "start_time": "2021-09-15T19:58:33.056Z"
   },
   {
    "duration": 48,
    "start_time": "2021-09-15T20:01:23.739Z"
   },
   {
    "duration": 55,
    "start_time": "2021-09-15T20:01:30.697Z"
   },
   {
    "duration": 60,
    "start_time": "2021-09-15T20:04:28.857Z"
   },
   {
    "duration": 825,
    "start_time": "2021-09-15T20:07:00.484Z"
   },
   {
    "duration": 972,
    "start_time": "2021-09-15T20:07:25.040Z"
   },
   {
    "duration": 1190,
    "start_time": "2021-09-15T20:07:43.380Z"
   },
   {
    "duration": 941,
    "start_time": "2021-09-15T20:07:54.635Z"
   },
   {
    "duration": 370,
    "start_time": "2021-09-15T20:12:16.190Z"
   },
   {
    "duration": 5,
    "start_time": "2021-09-15T20:12:26.505Z"
   },
   {
    "duration": 7,
    "start_time": "2021-09-15T20:12:38.567Z"
   },
   {
    "duration": 6,
    "start_time": "2021-09-15T20:13:08.462Z"
   },
   {
    "duration": 6,
    "start_time": "2021-09-15T20:13:16.875Z"
   },
   {
    "duration": 5,
    "start_time": "2021-09-15T20:13:50.200Z"
   },
   {
    "duration": 1070,
    "start_time": "2021-09-15T20:14:26.122Z"
   },
   {
    "duration": 801,
    "start_time": "2021-09-15T20:14:37.161Z"
   },
   {
    "duration": 820,
    "start_time": "2021-09-15T20:14:54.611Z"
   },
   {
    "duration": 849,
    "start_time": "2021-09-15T20:16:03.204Z"
   },
   {
    "duration": 786,
    "start_time": "2021-09-15T20:16:25.152Z"
   },
   {
    "duration": 757,
    "start_time": "2021-09-15T20:17:03.019Z"
   },
   {
    "duration": 760,
    "start_time": "2021-09-15T20:17:32.921Z"
   },
   {
    "duration": 6,
    "start_time": "2021-09-15T20:17:44.861Z"
   },
   {
    "duration": 6,
    "start_time": "2021-09-15T20:18:01.200Z"
   },
   {
    "duration": 6,
    "start_time": "2021-09-15T20:18:08.039Z"
   },
   {
    "duration": 7,
    "start_time": "2021-09-15T20:18:55.296Z"
   },
   {
    "duration": 8,
    "start_time": "2021-09-15T20:19:00.440Z"
   },
   {
    "duration": 6,
    "start_time": "2021-09-15T20:19:23.572Z"
   },
   {
    "duration": 5,
    "start_time": "2021-09-15T20:19:41.261Z"
   },
   {
    "duration": 61,
    "start_time": "2021-09-15T20:19:58.701Z"
   },
   {
    "duration": 6,
    "start_time": "2021-09-15T20:20:11.592Z"
   },
   {
    "duration": 6,
    "start_time": "2021-09-15T20:20:18.924Z"
   },
   {
    "duration": 6,
    "start_time": "2021-09-15T20:20:26.114Z"
   },
   {
    "duration": 6,
    "start_time": "2021-09-15T20:20:33.173Z"
   },
   {
    "duration": 823,
    "start_time": "2021-09-15T20:21:08.507Z"
   },
   {
    "duration": 872,
    "start_time": "2021-09-15T20:22:51.191Z"
   },
   {
    "duration": 6,
    "start_time": "2021-09-15T20:23:52.390Z"
   },
   {
    "duration": 9,
    "start_time": "2021-09-15T20:24:13.264Z"
   },
   {
    "duration": 917,
    "start_time": "2021-09-15T20:27:03.444Z"
   },
   {
    "duration": 956,
    "start_time": "2021-09-15T20:27:29.971Z"
   },
   {
    "duration": 881,
    "start_time": "2021-09-15T20:27:50.065Z"
   },
   {
    "duration": 827,
    "start_time": "2021-09-15T20:28:05.523Z"
   },
   {
    "duration": 759,
    "start_time": "2021-09-15T20:28:15.865Z"
   },
   {
    "duration": 35,
    "start_time": "2021-09-15T20:51:20.058Z"
   },
   {
    "duration": 3,
    "start_time": "2021-09-15T20:52:16.729Z"
   },
   {
    "duration": 15775,
    "start_time": "2021-09-15T21:01:09.679Z"
   },
   {
    "duration": 771,
    "start_time": "2021-09-15T21:01:39.355Z"
   },
   {
    "duration": 347,
    "start_time": "2021-09-15T21:01:46.191Z"
   },
   {
    "duration": 344,
    "start_time": "2021-09-15T21:02:03.921Z"
   },
   {
    "duration": 1076,
    "start_time": "2021-09-16T16:03:55.771Z"
   },
   {
    "duration": 61,
    "start_time": "2021-09-16T16:03:59.086Z"
   },
   {
    "duration": 335,
    "start_time": "2021-09-16T16:04:03.522Z"
   },
   {
    "duration": 9,
    "start_time": "2021-09-16T16:04:56.973Z"
   },
   {
    "duration": 766,
    "start_time": "2021-09-16T16:06:37.405Z"
   },
   {
    "duration": 44,
    "start_time": "2021-09-16T16:07:00.339Z"
   },
   {
    "duration": 363,
    "start_time": "2021-09-16T16:08:09.303Z"
   }
  ],
  "kernelspec": {
   "display_name": "Python 3 (ipykernel)",
   "language": "python",
   "name": "python3"
  },
  "language_info": {
   "codemirror_mode": {
    "name": "ipython",
    "version": 3
   },
   "file_extension": ".py",
   "mimetype": "text/x-python",
   "name": "python",
   "nbconvert_exporter": "python",
   "pygments_lexer": "ipython3",
   "version": "3.8.8"
  },
  "toc": {
   "base_numbering": 1,
   "nav_menu": {},
   "number_sections": true,
   "sideBar": true,
   "skip_h1_title": true,
   "title_cell": "Table of Contents",
   "title_sidebar": "Contents",
   "toc_cell": false,
   "toc_position": {},
   "toc_section_display": true,
   "toc_window_display": false
  },
  "varInspector": {
   "cols": {
    "lenName": 16,
    "lenType": 16,
    "lenVar": 40
   },
   "kernels_config": {
    "python": {
     "delete_cmd_postfix": "",
     "delete_cmd_prefix": "del ",
     "library": "var_list.py",
     "varRefreshCmd": "print(var_dic_list())"
    },
    "r": {
     "delete_cmd_postfix": ") ",
     "delete_cmd_prefix": "rm(",
     "library": "var_list.r",
     "varRefreshCmd": "cat(var_dic_list()) "
    }
   },
   "types_to_exclude": [
    "module",
    "function",
    "builtin_function_or_method",
    "instance",
    "_Feature"
   ],
   "window_display": false
  }
 },
 "nbformat": 4,
 "nbformat_minor": 2
}
