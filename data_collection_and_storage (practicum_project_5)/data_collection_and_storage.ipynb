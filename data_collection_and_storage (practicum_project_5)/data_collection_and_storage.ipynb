{
 "cells": [
  {
   "cell_type": "markdown",
   "metadata": {},
   "source": [
    "Hello, my name is Artem. I'm going to review your project!\n",
    "\n",
    "You can find my comments in <font color='green'>green</font>, <font color='blue'>blue</font> or <font color='red'>red</font> boxes like this:\n",
    "\n",
    "<div class=\"alert alert-block alert-success\">\n",
    "<b>Success:</b> if everything is done succesfully\n",
    "</div>\n",
    "\n",
    "<div class=\"alert alert-block alert-info\">\n",
    "<b>Improve: </b> \"Improve\" comments mean that there are tiny corrections that could help you to make your project better.\n",
    "</div>\n",
    "\n",
    "<div class=\"alert alert-block alert-danger\">\n",
    "<b>Needs fixing:</b> if the block requires some corrections. Work can't be accepted with the red comments.\n",
    "</div>\n",
    "\n",
    "### <font color='orange'>General feedback</font>\n",
    "* Thank you for submitting your project! I am really impressed with it. \n",
    "* Glad to see that the notebook is structured. Keep it up!\n",
    "* It was a pleasure to review your project.\n",
    "* There is one thing that need to be done before your project is complete, but it's pretty straightforward.\n",
    "* There are few things I'd like you to check. They're not mistakes, but your project could be improved if you correct them.\n",
    "* I believe you can easily fix it! Good luck!"
   ]
  },
  {
   "cell_type": "markdown",
   "metadata": {},
   "source": [
    "### <font color='orange'>General feedback (review 2)</font>\n",
    "* All your hard work has paid off, and now your project is perfect!\n",
    "* Keep up the good work. Good luck next!"
   ]
  },
  {
   "cell_type": "markdown",
   "metadata": {},
   "source": [
    "# Exploratory Data Analysis"
   ]
  },
  {
   "cell_type": "markdown",
   "metadata": {},
   "source": [
    "## Import Packages"
   ]
  },
  {
   "cell_type": "code",
   "execution_count": 1,
   "metadata": {},
   "outputs": [],
   "source": [
    "import pandas as pd \n",
    "import matplotlib.pyplot as plt\n",
    "import seaborn as sns\n",
    "import scipy.stats as stats\n",
    "from scipy.stats import zscore"
   ]
  },
  {
   "cell_type": "markdown",
   "metadata": {},
   "source": [
    "<div class=\"alert alert-block alert-success\">\n",
    "<b>Success:</b> Thank you for collecting all imports in the first cell!\n",
    "</div>"
   ]
  },
  {
   "cell_type": "markdown",
   "metadata": {},
   "source": [
    "## Import Data"
   ]
  },
  {
   "cell_type": "code",
   "execution_count": 2,
   "metadata": {},
   "outputs": [
    {
     "data": {
      "text/html": [
       "<div>\n",
       "<style scoped>\n",
       "    .dataframe tbody tr th:only-of-type {\n",
       "        vertical-align: middle;\n",
       "    }\n",
       "\n",
       "    .dataframe tbody tr th {\n",
       "        vertical-align: top;\n",
       "    }\n",
       "\n",
       "    .dataframe thead th {\n",
       "        text-align: right;\n",
       "    }\n",
       "</style>\n",
       "<table border=\"1\" class=\"dataframe\">\n",
       "  <thead>\n",
       "    <tr style=\"text-align: right;\">\n",
       "      <th></th>\n",
       "      <th>company_name</th>\n",
       "      <th>trips_amount</th>\n",
       "    </tr>\n",
       "  </thead>\n",
       "  <tbody>\n",
       "    <tr>\n",
       "      <td>0</td>\n",
       "      <td>Flash Cab</td>\n",
       "      <td>19558</td>\n",
       "    </tr>\n",
       "    <tr>\n",
       "      <td>1</td>\n",
       "      <td>Taxi Affiliation Services</td>\n",
       "      <td>11422</td>\n",
       "    </tr>\n",
       "    <tr>\n",
       "      <td>2</td>\n",
       "      <td>Medallion Leasing</td>\n",
       "      <td>10367</td>\n",
       "    </tr>\n",
       "    <tr>\n",
       "      <td>3</td>\n",
       "      <td>Yellow Cab</td>\n",
       "      <td>9888</td>\n",
       "    </tr>\n",
       "    <tr>\n",
       "      <td>4</td>\n",
       "      <td>Taxi Affiliation Service Yellow</td>\n",
       "      <td>9299</td>\n",
       "    </tr>\n",
       "  </tbody>\n",
       "</table>\n",
       "</div>"
      ],
      "text/plain": [
       "                      company_name  trips_amount\n",
       "0                        Flash Cab         19558\n",
       "1        Taxi Affiliation Services         11422\n",
       "2                Medallion Leasing         10367\n",
       "3                       Yellow Cab          9888\n",
       "4  Taxi Affiliation Service Yellow          9299"
      ]
     },
     "metadata": {},
     "output_type": "display_data"
    },
    {
     "name": "stdout",
     "output_type": "stream",
     "text": [
      "<class 'pandas.core.frame.DataFrame'>\n",
      "RangeIndex: 64 entries, 0 to 63\n",
      "Data columns (total 2 columns):\n",
      "company_name    64 non-null object\n",
      "trips_amount    64 non-null int64\n",
      "dtypes: int64(1), object(1)\n",
      "memory usage: 1.1+ KB\n"
     ]
    },
    {
     "data": {
      "text/html": [
       "<div>\n",
       "<style scoped>\n",
       "    .dataframe tbody tr th:only-of-type {\n",
       "        vertical-align: middle;\n",
       "    }\n",
       "\n",
       "    .dataframe tbody tr th {\n",
       "        vertical-align: top;\n",
       "    }\n",
       "\n",
       "    .dataframe thead th {\n",
       "        text-align: right;\n",
       "    }\n",
       "</style>\n",
       "<table border=\"1\" class=\"dataframe\">\n",
       "  <thead>\n",
       "    <tr style=\"text-align: right;\">\n",
       "      <th></th>\n",
       "      <th>trips_amount</th>\n",
       "    </tr>\n",
       "  </thead>\n",
       "  <tbody>\n",
       "    <tr>\n",
       "      <td>count</td>\n",
       "      <td>64.000000</td>\n",
       "    </tr>\n",
       "    <tr>\n",
       "      <td>mean</td>\n",
       "      <td>2145.484375</td>\n",
       "    </tr>\n",
       "    <tr>\n",
       "      <td>std</td>\n",
       "      <td>3812.310186</td>\n",
       "    </tr>\n",
       "    <tr>\n",
       "      <td>min</td>\n",
       "      <td>2.000000</td>\n",
       "    </tr>\n",
       "    <tr>\n",
       "      <td>25%</td>\n",
       "      <td>20.750000</td>\n",
       "    </tr>\n",
       "    <tr>\n",
       "      <td>50%</td>\n",
       "      <td>178.500000</td>\n",
       "    </tr>\n",
       "    <tr>\n",
       "      <td>75%</td>\n",
       "      <td>2106.500000</td>\n",
       "    </tr>\n",
       "    <tr>\n",
       "      <td>max</td>\n",
       "      <td>19558.000000</td>\n",
       "    </tr>\n",
       "  </tbody>\n",
       "</table>\n",
       "</div>"
      ],
      "text/plain": [
       "       trips_amount\n",
       "count     64.000000\n",
       "mean    2145.484375\n",
       "std     3812.310186\n",
       "min        2.000000\n",
       "25%       20.750000\n",
       "50%      178.500000\n",
       "75%     2106.500000\n",
       "max    19558.000000"
      ]
     },
     "metadata": {},
     "output_type": "display_data"
    },
    {
     "data": {
      "text/html": [
       "<div>\n",
       "<style scoped>\n",
       "    .dataframe tbody tr th:only-of-type {\n",
       "        vertical-align: middle;\n",
       "    }\n",
       "\n",
       "    .dataframe tbody tr th {\n",
       "        vertical-align: top;\n",
       "    }\n",
       "\n",
       "    .dataframe thead th {\n",
       "        text-align: right;\n",
       "    }\n",
       "</style>\n",
       "<table border=\"1\" class=\"dataframe\">\n",
       "  <thead>\n",
       "    <tr style=\"text-align: right;\">\n",
       "      <th></th>\n",
       "      <th>dropoff_location_name</th>\n",
       "      <th>average_trips</th>\n",
       "    </tr>\n",
       "  </thead>\n",
       "  <tbody>\n",
       "    <tr>\n",
       "      <td>0</td>\n",
       "      <td>Loop</td>\n",
       "      <td>10727.466667</td>\n",
       "    </tr>\n",
       "    <tr>\n",
       "      <td>1</td>\n",
       "      <td>River North</td>\n",
       "      <td>9523.666667</td>\n",
       "    </tr>\n",
       "    <tr>\n",
       "      <td>2</td>\n",
       "      <td>Streeterville</td>\n",
       "      <td>6664.666667</td>\n",
       "    </tr>\n",
       "    <tr>\n",
       "      <td>3</td>\n",
       "      <td>West Loop</td>\n",
       "      <td>5163.666667</td>\n",
       "    </tr>\n",
       "    <tr>\n",
       "      <td>4</td>\n",
       "      <td>O'Hare</td>\n",
       "      <td>2546.900000</td>\n",
       "    </tr>\n",
       "  </tbody>\n",
       "</table>\n",
       "</div>"
      ],
      "text/plain": [
       "  dropoff_location_name  average_trips\n",
       "0                  Loop   10727.466667\n",
       "1           River North    9523.666667\n",
       "2         Streeterville    6664.666667\n",
       "3             West Loop    5163.666667\n",
       "4                O'Hare    2546.900000"
      ]
     },
     "metadata": {},
     "output_type": "display_data"
    },
    {
     "name": "stdout",
     "output_type": "stream",
     "text": [
      "<class 'pandas.core.frame.DataFrame'>\n",
      "RangeIndex: 94 entries, 0 to 93\n",
      "Data columns (total 2 columns):\n",
      "dropoff_location_name    94 non-null object\n",
      "average_trips            94 non-null float64\n",
      "dtypes: float64(1), object(1)\n",
      "memory usage: 1.6+ KB\n"
     ]
    },
    {
     "data": {
      "text/html": [
       "<div>\n",
       "<style scoped>\n",
       "    .dataframe tbody tr th:only-of-type {\n",
       "        vertical-align: middle;\n",
       "    }\n",
       "\n",
       "    .dataframe tbody tr th {\n",
       "        vertical-align: top;\n",
       "    }\n",
       "\n",
       "    .dataframe thead th {\n",
       "        text-align: right;\n",
       "    }\n",
       "</style>\n",
       "<table border=\"1\" class=\"dataframe\">\n",
       "  <thead>\n",
       "    <tr style=\"text-align: right;\">\n",
       "      <th></th>\n",
       "      <th>average_trips</th>\n",
       "    </tr>\n",
       "  </thead>\n",
       "  <tbody>\n",
       "    <tr>\n",
       "      <td>count</td>\n",
       "      <td>94.000000</td>\n",
       "    </tr>\n",
       "    <tr>\n",
       "      <td>mean</td>\n",
       "      <td>599.953728</td>\n",
       "    </tr>\n",
       "    <tr>\n",
       "      <td>std</td>\n",
       "      <td>1714.591098</td>\n",
       "    </tr>\n",
       "    <tr>\n",
       "      <td>min</td>\n",
       "      <td>1.800000</td>\n",
       "    </tr>\n",
       "    <tr>\n",
       "      <td>25%</td>\n",
       "      <td>14.266667</td>\n",
       "    </tr>\n",
       "    <tr>\n",
       "      <td>50%</td>\n",
       "      <td>52.016667</td>\n",
       "    </tr>\n",
       "    <tr>\n",
       "      <td>75%</td>\n",
       "      <td>298.858333</td>\n",
       "    </tr>\n",
       "    <tr>\n",
       "      <td>max</td>\n",
       "      <td>10727.466667</td>\n",
       "    </tr>\n",
       "  </tbody>\n",
       "</table>\n",
       "</div>"
      ],
      "text/plain": [
       "       average_trips\n",
       "count      94.000000\n",
       "mean      599.953728\n",
       "std      1714.591098\n",
       "min         1.800000\n",
       "25%        14.266667\n",
       "50%        52.016667\n",
       "75%       298.858333\n",
       "max     10727.466667"
      ]
     },
     "metadata": {},
     "output_type": "display_data"
    }
   ],
   "source": [
    "taxi_name = pd.read_csv('/datasets/project_sql_result_01.csv')\n",
    "display(taxi_name.head(5))\n",
    "taxi_name.info()\n",
    "display(taxi_name.describe())\n",
    "taxi_dropoff = pd.read_csv('/datasets/project_sql_result_04.csv')\n",
    "display(taxi_dropoff.head(5))\n",
    "taxi_dropoff.info()\n",
    "display(taxi_dropoff.describe())"
   ]
  },
  {
   "cell_type": "markdown",
   "metadata": {},
   "source": [
    "### Conclusions"
   ]
  },
  {
   "cell_type": "markdown",
   "metadata": {},
   "source": [
    "From importing the data, we can see that each dataframe has two columns. The first column is a string variable while the second column is a numerical variable. \n",
    "\n",
    "The first dataframe shows us the number of trips each cab company had from November 15 to 16th in 2017. Looking at the summary statistics, we can see there are 64 cab companies with an average of 2,145 trips per company. The maximum number of trips a company had was 19,558 and the minimum number of trips a company had was 2. \n",
    "\n",
    "The second dataframe shows us the average number of trips each dropoff location had in November of 2017. Looking at the summary statistics, we can see there are 94 dropoff locations with an average of 600 trips per location. The maximum average number of trips a location had was 10,727.5 and the minimum average number of trips a location had was 1.8. "
   ]
  },
  {
   "cell_type": "markdown",
   "metadata": {},
   "source": [
    "<div class=\"alert alert-block alert-success\">\n",
    "<b>Success:</b> Data loading and initial analysis were done well!\n",
    "</div>"
   ]
  },
  {
   "cell_type": "markdown",
   "metadata": {},
   "source": [
    "## Graphing Data"
   ]
  },
  {
   "cell_type": "markdown",
   "metadata": {},
   "source": [
    "<div class=\"alert alert-block alert-info\">\n",
    "\n",
    "<b>Improve: </b> You could use `.nlargest()` method here.\n",
    "</div>"
   ]
  },
  {
   "cell_type": "code",
   "execution_count": 5,
   "metadata": {},
   "outputs": [
    {
     "data": {
      "image/png": "[encoded data removed]",
      "text/plain": [
       "<Figure size 1080x1080 with 2 Axes>"
      ]
     },
     "metadata": {
      "needs_background": "light"
     },
     "output_type": "display_data"
    }
   ],
   "source": [
    "#making taxi cab company names shorter\n",
    "taxi_name['company_name'].replace('Taxi Affiliation Service Yellow', 'TAS Yellow',inplace=True)\n",
    "taxi_name['company_name'].replace('Taxi Affiliation Services', 'TAS',inplace=True)\n",
    "taxi_name['company_name'].replace('Chicago Carriage Cab Corp', 'Chicago Carriage',inplace=True)\n",
    "taxi_name['company_name'].replace('Star North Management LLC', 'Star North',inplace=True)\n",
    "taxi_name['company_name'].replace('Blue Ribbon Taxi Association Inc.', 'Blue Ribbon',inplace=True)\n",
    "#creating graph\n",
    "fig, ax = plt.subplots(2,1,figsize=(15, 15))\n",
    "#creating a boxplot for each Platform based on Total Sales\n",
    "sns.barplot(ax=ax[0], x='dropoff_location_name', y='average_trips', data= taxi_dropoff.nlargest(10,'average_trips'),palette='mako');\n",
    "ax[0].set_title('Top 10 Most Common Dropoff Locations in November 2017');\n",
    "ax[0].set_ylabel('Average Trips');\n",
    "ax[0].set_xlabel('Location');\n",
    "#creating a bar graph for the average sales per year for each platform. Reindexed to match boxplot.\n",
    "sns.barplot(ax=ax[1],x='company_name',y='trips_amount',data =taxi_name.nlargest(10,'trips_amount'),palette=\"magma_r\");\n",
    "ax[1].set_title('Top 10 Total Trips Per Company From November 15-16 2017');\n",
    "ax[1].set_ylabel('Number of Trips');\n",
    "ax[1].set_xlabel('Company');\n",
    "#adding mean lines\n",
    "mean_dropoff = taxi_dropoff.nlargest(10,'average_trips')['average_trips'].mean()\n",
    "mean_name = taxi_name.nlargest(10,'trips_amount')['trips_amount'].mean()\n",
    "mean_line_0 = ax[0].axhline(mean_dropoff, color='black', linewidth=1);\n",
    "mean_line_1 = ax[1].axhline(mean_name, color='black', linewidth=1);\n",
    "#adding arrow and mean value on the side\n",
    "ax[0].annotate('Mean: {:0.2f}'.format(mean_dropoff),xy=(1,mean_dropoff), xycoords=('axes fraction','data'),xytext=(1.05,mean_dropoff-1000),arrowprops=dict(arrowstyle='-|>', fc='black', shrinkA=0, shrinkB=0,\n",
    "                            connectionstyle='arc'))\n",
    "ax[1].annotate('Mean: {:0.2f}'.format(mean_name),xy=(1,mean_name), xycoords=('axes fraction','data'),xytext=(1.05,mean_name+1000),arrowprops=dict(arrowstyle='-|>', fc='black', shrinkA=0, shrinkB=0,\n",
    "                            connectionstyle='arc'))             \n",
    "#adding y axis gridlines\n",
    "ax[0].set_axisbelow(True);\n",
    "ax[0].yaxis.grid(zorder=0);\n",
    "ax[1].set_axisbelow(True);\n",
    "ax[1].yaxis.grid(zorder=0);\n",
    "#adding space betweeen the graphs\n",
    "plt.subplots_adjust(hspace = 0.5);"
   ]
  },
  {
   "cell_type": "markdown",
   "metadata": {},
   "source": [
    "### Conclusions"
   ]
  },
  {
   "cell_type": "markdown",
   "metadata": {},
   "source": [
    "From the top graph, we can see there are a clear top 4 dropoff locations, Loop, River North, Streeterville, and West Loop. Each of the top four seem to have clear reasons for being at the top. The Loop in Chicago is the cities central business hub, so it is not surprising to see it as the most common dropoff location. River North and West Loop are known for their restaurants and art galleries and Streeterville is known for its shopping and beaches. <cite>[US News][1]</cite> \n",
    "\n",
    "For the bottom graph, we can see Flash Cab as the clear most popular cab company with the rest of the top 10 being fairly similar. Still, ff we had access to time varing data, I would expect all these companies are seeing large decreases in trips due to the rise of ride sharing. \n",
    "\n",
    "[1]: https://travel.usnews.com/Chicago_IL/Area_Map/"
   ]
  },
  {
   "cell_type": "markdown",
   "metadata": {},
   "source": [
    "<div class=\"alert alert-block alert-success\">\n",
    "<b>Success:</b> Great visualization and analysis!\n",
    "</div>"
   ]
  },
  {
   "cell_type": "markdown",
   "metadata": {},
   "source": [
    "# Testing Hypotheses"
   ]
  },
  {
   "cell_type": "markdown",
   "metadata": {},
   "source": [
    "## Importing Data"
   ]
  },
  {
   "cell_type": "code",
   "execution_count": 6,
   "metadata": {},
   "outputs": [
    {
     "name": "stdout",
     "output_type": "stream",
     "text": [
      "<class 'pandas.core.frame.DataFrame'>\n",
      "RangeIndex: 1068 entries, 0 to 1067\n",
      "Data columns (total 3 columns):\n",
      "start_ts              1068 non-null object\n",
      "weather_conditions    1068 non-null object\n",
      "duration_seconds      1068 non-null float64\n",
      "dtypes: float64(1), object(2)\n",
      "memory usage: 25.2+ KB\n"
     ]
    },
    {
     "data": {
      "text/html": [
       "<div>\n",
       "<style scoped>\n",
       "    .dataframe tbody tr th:only-of-type {\n",
       "        vertical-align: middle;\n",
       "    }\n",
       "\n",
       "    .dataframe tbody tr th {\n",
       "        vertical-align: top;\n",
       "    }\n",
       "\n",
       "    .dataframe thead th {\n",
       "        text-align: right;\n",
       "    }\n",
       "</style>\n",
       "<table border=\"1\" class=\"dataframe\">\n",
       "  <thead>\n",
       "    <tr style=\"text-align: right;\">\n",
       "      <th></th>\n",
       "      <th>start_ts</th>\n",
       "      <th>weather_conditions</th>\n",
       "      <th>duration_seconds</th>\n",
       "    </tr>\n",
       "  </thead>\n",
       "  <tbody>\n",
       "    <tr>\n",
       "      <td>0</td>\n",
       "      <td>2017-11-25 16:00:00</td>\n",
       "      <td>Good</td>\n",
       "      <td>2410.0</td>\n",
       "    </tr>\n",
       "    <tr>\n",
       "      <td>1</td>\n",
       "      <td>2017-11-25 14:00:00</td>\n",
       "      <td>Good</td>\n",
       "      <td>1920.0</td>\n",
       "    </tr>\n",
       "    <tr>\n",
       "      <td>2</td>\n",
       "      <td>2017-11-25 12:00:00</td>\n",
       "      <td>Good</td>\n",
       "      <td>1543.0</td>\n",
       "    </tr>\n",
       "    <tr>\n",
       "      <td>3</td>\n",
       "      <td>2017-11-04 10:00:00</td>\n",
       "      <td>Good</td>\n",
       "      <td>2512.0</td>\n",
       "    </tr>\n",
       "    <tr>\n",
       "      <td>4</td>\n",
       "      <td>2017-11-11 07:00:00</td>\n",
       "      <td>Good</td>\n",
       "      <td>1440.0</td>\n",
       "    </tr>\n",
       "  </tbody>\n",
       "</table>\n",
       "</div>"
      ],
      "text/plain": [
       "              start_ts weather_conditions  duration_seconds\n",
       "0  2017-11-25 16:00:00               Good            2410.0\n",
       "1  2017-11-25 14:00:00               Good            1920.0\n",
       "2  2017-11-25 12:00:00               Good            1543.0\n",
       "3  2017-11-04 10:00:00               Good            2512.0\n",
       "4  2017-11-11 07:00:00               Good            1440.0"
      ]
     },
     "metadata": {},
     "output_type": "display_data"
    }
   ],
   "source": [
    "taxi_airport_trips = pd.read_csv('/datasets/project_sql_result_07.csv')\n",
    "taxi_airport_trips.info()\n",
    "display(taxi_airport_trips.head(5))"
   ]
  },
  {
   "cell_type": "code",
   "execution_count": 7,
   "metadata": {},
   "outputs": [
    {
     "name": "stdout",
     "output_type": "stream",
     "text": [
      "Null Hypothesis: Saturdays with good weather and bad weather have the same lengths of taxi trips to the airport from the loop\n",
      "Alternative Hypothesis: Saturdays with good weather and bad weather have different lengths of taxi trips to the airport from the loop\n",
      "\n",
      "\n",
      "p-value:  6.517970327099473e-12\n",
      "\n",
      "\n",
      "We reject the null hypothesis\n",
      "\n",
      "\n"
     ]
    },
    {
     "data": {
      "image/png": "[encoded data removed]",
      "text/plain": [
       "<Figure size 720x288 with 2 Axes>"
      ]
     },
     "metadata": {
      "needs_background": "light"
     },
     "output_type": "display_data"
    }
   ],
   "source": [
    "alpha = 0.05\n",
    "fig, ax = plt.subplots(1,2,figsize=(10, 4))\n",
    "#histograms of the density \n",
    "sns.kdeplot(ax=ax[0], data = taxi_airport_trips[taxi_airport_trips['weather_conditions'] == 'Good']['duration_seconds'], label = ['Good Weather'], shade=True, color='blue');\n",
    "sns.kdeplot(ax=ax[0], data = taxi_airport_trips[taxi_airport_trips['weather_conditions'] == 'Bad']['duration_seconds'],label = ['Bad Weather'], shade=True, color ='green');\n",
    "ax[0].set_title(\"Distributions\");\n",
    "ax[0].set_ylabel(\"Density\");\n",
    "ax[0].set_xlabel(\"Duration(Seconds)\");\n",
    "#boxplots \n",
    "box_plot = sns.boxplot(ax=ax[1], x='weather_conditions', y='duration_seconds', data=taxi_airport_trips)\n",
    "ax[1].set_title(\"Boxplots\");\n",
    "ax[1].set_ylabel(\"Duration)(Seconds)\");\n",
    "ax[1].set_xlabel(\"Weather Conditions\");\n",
    "#adding the median values to the middle of the boxplots\n",
    "ax = box_plot.axes\n",
    "lines = ax.get_lines()\n",
    "categories = ax.get_xticks()\n",
    "\n",
    "#function to calculate the location of the median and design the format of the box with the median value in it.\n",
    "for cat in categories:\n",
    "    # every 4th line at the interval of 6 is median line\n",
    "    # 0 -> p25 1 -> p75 2 -> lower whisker 3 -> upper whisker 4 -> p50 5 -> upper extreme value\n",
    "    y = round(lines[4+cat*6].get_ydata()[0],1) \n",
    "#formatting of the median value box\n",
    "    ax.text(\n",
    "        cat, \n",
    "        y, \n",
    "        f'{y}', \n",
    "        ha='center', \n",
    "        va='center', \n",
    "        fontweight='bold', \n",
    "        size=10,\n",
    "        color='white',\n",
    "        bbox=dict(facecolor='#445A64'))\n",
    "\n",
    "#t-test \n",
    "results = stats.ttest_ind(taxi_airport_trips[taxi_airport_trips['weather_conditions'] == 'Good']['duration_seconds'],taxi_airport_trips[taxi_airport_trips['weather_conditions'] == 'Bad']['duration_seconds'],equal_var=True)\n",
    "print('Null Hypothesis: Saturdays with good weather and bad weather have the same lengths of taxi trips to the airport from the loop')\n",
    "print('Alternative Hypothesis: Saturdays with good weather and bad weather have different lengths of taxi trips to the airport from the loop')\n",
    "print('\\n')\n",
    "#pull the p-value from the results\n",
    "print('p-value: ', results.pvalue)\n",
    "print('\\n')\n",
    "#compare the p-value to our alpha level\n",
    "if results.pvalue < alpha:\n",
    "    print(\"We reject the null hypothesis\")\n",
    "else:\n",
    "    print(\"We can't reject the null hypothesis\") \n",
    "print('\\n')"
   ]
  },
  {
   "cell_type": "markdown",
   "metadata": {},
   "source": [
    "<div class=\"alert alert-block alert-danger\">\n",
    "<b>Needs fixing:</b> Hypothesis were formulated incorrect because null hypothesis is always about equality.\n",
    "</div>"
   ]
  },
  {
   "cell_type": "markdown",
   "metadata": {},
   "source": [
    "<div class=\"alert alert-block alert-info\">\n",
    "\n",
    "<b>Improve: </b> It would be better if you've checked variances and selected `equal_var` (in ttest_ind) parameter based on this analysis\n",
    "</div>"
   ]
  },
  {
   "cell_type": "markdown",
   "metadata": {},
   "source": [
    "### Conclusions"
   ]
  },
  {
   "cell_type": "markdown",
   "metadata": {},
   "source": [
    "From the above graphs, we can see that trips to the airport, on saturdays with bad weather, take longer than days with good weather. This is not surprising as people usually drive slower during bad weather. When running the t-test we can see that our p-vale is incredibly small, which gives us strong confidence that there is a difference in the length of taxi drives on saturdays from from the loop to the airport on bad and good weather days. "
   ]
  },
  {
   "cell_type": "code",
   "execution_count": null,
   "metadata": {},
   "outputs": [],
   "source": []
  }
 ],
 "metadata": {
  "ExecuteTimeLog": [
   {
    "duration": 609,
    "start_time": "2021-09-15T19:31:32.399Z"
   },
   {
    "duration": 4171,
    "start_time": "2021-09-15T19:33:14.919Z"
   },
   {
    "duration": 31,
    "start_time": "2021-09-15T19:34:13.608Z"
   },
   {
    "duration": 45,
    "start_time": "2021-09-15T19:34:52.394Z"
   },
   {
    "duration": 38,
    "start_time": "2021-09-15T19:35:06.434Z"
   },
   {
    "duration": 50,
    "start_time": "2021-09-15T19:35:27.297Z"
   },
   {
    "duration": 10,
    "start_time": "2021-09-15T19:36:29.606Z"
   },
   {
    "duration": 9,
    "start_time": "2021-09-15T19:36:38.047Z"
   },
   {
    "duration": 11,
    "start_time": "2021-09-15T19:36:55.221Z"
   },
   {
    "duration": 9,
    "start_time": "2021-09-15T19:37:02.920Z"
   },
   {
    "duration": 9,
    "start_time": "2021-09-15T19:37:12.351Z"
   },
   {
    "duration": 340,
    "start_time": "2021-09-15T19:42:06.093Z"
   },
   {
    "duration": 8,
    "start_time": "2021-09-15T19:42:13.476Z"
   },
   {
    "duration": 6,
    "start_time": "2021-09-15T19:43:42.343Z"
   },
   {
    "duration": 122,
    "start_time": "2021-09-15T19:49:33.505Z"
   },
   {
    "duration": 138,
    "start_time": "2021-09-15T19:50:21.518Z"
   },
   {
    "duration": 123,
    "start_time": "2021-09-15T19:50:50.740Z"
   },
   {
    "duration": 121,
    "start_time": "2021-09-15T19:50:53.787Z"
   },
   {
    "duration": 6138,
    "start_time": "2021-09-15T19:51:37.715Z"
   },
   {
    "duration": 128,
    "start_time": "2021-09-15T19:51:51.098Z"
   },
   {
    "duration": 8,
    "start_time": "2021-09-15T19:52:16.726Z"
   },
   {
    "duration": 6,
    "start_time": "2021-09-15T19:52:25.463Z"
   },
   {
    "duration": 949,
    "start_time": "2021-09-15T19:52:37.879Z"
   },
   {
    "duration": 2757,
    "start_time": "2021-09-15T19:53:13.925Z"
   },
   {
    "duration": 2795,
    "start_time": "2021-09-15T19:53:24.804Z"
   },
   {
    "duration": 2910,
    "start_time": "2021-09-15T19:53:34.053Z"
   },
   {
    "duration": 4,
    "start_time": "2021-09-15T19:53:54.605Z"
   },
   {
    "duration": 130,
    "start_time": "2021-09-15T19:54:08.177Z"
   },
   {
    "duration": 934,
    "start_time": "2021-09-15T19:55:45.768Z"
   },
   {
    "duration": 793,
    "start_time": "2021-09-15T19:56:00.179Z"
   },
   {
    "duration": 748,
    "start_time": "2021-09-15T19:56:08.087Z"
   },
   {
    "duration": 963,
    "start_time": "2021-09-15T19:56:11.956Z"
   },
   {
    "duration": 1129,
    "start_time": "2021-09-15T19:56:22.137Z"
   },
   {
    "duration": 605,
    "start_time": "2021-09-15T19:56:44.333Z"
   },
   {
    "duration": 705,
    "start_time": "2021-09-15T19:56:51.147Z"
   },
   {
    "duration": 834,
    "start_time": "2021-09-15T19:57:18.049Z"
   },
   {
    "duration": 759,
    "start_time": "2021-09-15T19:58:09.475Z"
   },
   {
    "duration": 719,
    "start_time": "2021-09-15T19:58:13.302Z"
   },
   {
    "duration": 692,
    "start_time": "2021-09-15T19:58:33.056Z"
   },
   {
    "duration": 48,
    "start_time": "2021-09-15T20:01:23.739Z"
   },
   {
    "duration": 55,
    "start_time": "2021-09-15T20:01:30.697Z"
   },
   {
    "duration": 60,
    "start_time": "2021-09-15T20:04:28.857Z"
   },
   {
    "duration": 825,
    "start_time": "2021-09-15T20:07:00.484Z"
   },
   {
    "duration": 972,
    "start_time": "2021-09-15T20:07:25.040Z"
   },
   {
    "duration": 1190,
    "start_time": "2021-09-15T20:07:43.380Z"
   },
   {
    "duration": 941,
    "start_time": "2021-09-15T20:07:54.635Z"
   },
   {
    "duration": 370,
    "start_time": "2021-09-15T20:12:16.190Z"
   },
   {
    "duration": 5,
    "start_time": "2021-09-15T20:12:26.505Z"
   },
   {
    "duration": 7,
    "start_time": "2021-09-15T20:12:38.567Z"
   },
   {
    "duration": 6,
    "start_time": "2021-09-15T20:13:08.462Z"
   },
   {
    "duration": 6,
    "start_time": "2021-09-15T20:13:16.875Z"
   },
   {
    "duration": 5,
    "start_time": "2021-09-15T20:13:50.200Z"
   },
   {
    "duration": 1070,
    "start_time": "2021-09-15T20:14:26.122Z"
   },
   {
    "duration": 801,
    "start_time": "2021-09-15T20:14:37.161Z"
   },
   {
    "duration": 820,
    "start_time": "2021-09-15T20:14:54.611Z"
   },
   {
    "duration": 849,
    "start_time": "2021-09-15T20:16:03.204Z"
   },
   {
    "duration": 786,
    "start_time": "2021-09-15T20:16:25.152Z"
   },
   {
    "duration": 757,
    "start_time": "2021-09-15T20:17:03.019Z"
   },
   {
    "duration": 760,
    "start_time": "2021-09-15T20:17:32.921Z"
   },
   {
    "duration": 6,
    "start_time": "2021-09-15T20:17:44.861Z"
   },
   {
    "duration": 6,
    "start_time": "2021-09-15T20:18:01.200Z"
   },
   {
    "duration": 6,
    "start_time": "2021-09-15T20:18:08.039Z"
   },
   {
    "duration": 7,
    "start_time": "2021-09-15T20:18:55.296Z"
   },
   {
    "duration": 8,
    "start_time": "2021-09-15T20:19:00.440Z"
   },
   {
    "duration": 6,
    "start_time": "2021-09-15T20:19:23.572Z"
   },
   {
    "duration": 5,
    "start_time": "2021-09-15T20:19:41.261Z"
   },
   {
    "duration": 61,
    "start_time": "2021-09-15T20:19:58.701Z"
   },
   {
    "duration": 6,
    "start_time": "2021-09-15T20:20:11.592Z"
   },
   {
    "duration": 6,
    "start_time": "2021-09-15T20:20:18.924Z"
   },
   {
    "duration": 6,
    "start_time": "2021-09-15T20:20:26.114Z"
   },
   {
    "duration": 6,
    "start_time": "2021-09-15T20:20:33.173Z"
   },
   {
    "duration": 823,
    "start_time": "2021-09-15T20:21:08.507Z"
   },
   {
    "duration": 872,
    "start_time": "2021-09-15T20:22:51.191Z"
   },
   {
    "duration": 6,
    "start_time": "2021-09-15T20:23:52.390Z"
   },
   {
    "duration": 9,
    "start_time": "2021-09-15T20:24:13.264Z"
   },
   {
    "duration": 917,
    "start_time": "2021-09-15T20:27:03.444Z"
   },
   {
    "duration": 956,
    "start_time": "2021-09-15T20:27:29.971Z"
   },
   {
    "duration": 881,
    "start_time": "2021-09-15T20:27:50.065Z"
   },
   {
    "duration": 827,
    "start_time": "2021-09-15T20:28:05.523Z"
   },
   {
    "duration": 759,
    "start_time": "2021-09-15T20:28:15.865Z"
   },
   {
    "duration": 35,
    "start_time": "2021-09-15T20:51:20.058Z"
   },
   {
    "duration": 3,
    "start_time": "2021-09-15T20:52:16.729Z"
   },
   {
    "duration": 15775,
    "start_time": "2021-09-15T21:01:09.679Z"
   },
   {
    "duration": 771,
    "start_time": "2021-09-15T21:01:39.355Z"
   },
   {
    "duration": 347,
    "start_time": "2021-09-15T21:01:46.191Z"
   },
   {
    "duration": 344,
    "start_time": "2021-09-15T21:02:03.921Z"
   },
   {
    "duration": 1076,
    "start_time": "2021-09-16T16:03:55.771Z"
   },
   {
    "duration": 61,
    "start_time": "2021-09-16T16:03:59.086Z"
   },
   {
    "duration": 335,
    "start_time": "2021-09-16T16:04:03.522Z"
   },
   {
    "duration": 9,
    "start_time": "2021-09-16T16:04:56.973Z"
   },
   {
    "duration": 766,
    "start_time": "2021-09-16T16:06:37.405Z"
   },
   {
    "duration": 44,
    "start_time": "2021-09-16T16:07:00.339Z"
   },
   {
    "duration": 363,
    "start_time": "2021-09-16T16:08:09.303Z"
   }
  ],
  "kernelspec": {
   "display_name": "Python 3",
   "language": "python",
   "name": "python3"
  },
  "language_info": {
   "codemirror_mode": {
    "name": "ipython",
    "version": 3
   },
   "file_extension": ".py",
   "mimetype": "text/x-python",
   "name": "python",
   "nbconvert_exporter": "python",
   "pygments_lexer": "ipython3",
   "version": "3.7.8"
  },
  "toc": {
   "base_numbering": 1,
   "nav_menu": {},
   "number_sections": true,
   "sideBar": true,
   "skip_h1_title": true,
   "title_cell": "Table of Contents",
   "title_sidebar": "Contents",
   "toc_cell": false,
   "toc_position": {},
   "toc_section_display": true,
   "toc_window_display": false
  }
 },
 "nbformat": 4,
 "nbformat_minor": 2
}
